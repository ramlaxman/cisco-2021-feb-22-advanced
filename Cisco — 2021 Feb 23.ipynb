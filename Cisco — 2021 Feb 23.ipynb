{
 "cells": [
  {
   "cell_type": "markdown",
   "metadata": {},
   "source": [
    "# Agenda\n",
    "\n",
    "1. `*args` \n",
    "2. `**kwargs`\n",
    "3. Keyword-only and positional-only arguments\n",
    "4. Nested functions and closures\n",
    "5. Functions as nouns\n",
    "6. Comprehensions (list, set, dict, nested)\n",
    "7. `lambda` and sorting and key functions"
   ]
  },
  {
   "cell_type": "code",
   "execution_count": 1,
   "metadata": {},
   "outputs": [
    {
     "data": {
      "text/plain": [
       "60"
      ]
     },
     "execution_count": 1,
     "metadata": {},
     "output_type": "execute_result"
    }
   ],
   "source": [
    "sum([10, 20, 30])"
   ]
  },
  {
   "cell_type": "code",
   "execution_count": 2,
   "metadata": {},
   "outputs": [],
   "source": [
    "def mysum(numbers):\n",
    "    total = 0\n",
    "    \n",
    "    for one_number in numbers:\n",
    "        total += one_number\n",
    "        \n",
    "    return total"
   ]
  },
  {
   "cell_type": "code",
   "execution_count": 3,
   "metadata": {},
   "outputs": [
    {
     "data": {
      "text/plain": [
       "60"
      ]
     },
     "execution_count": 3,
     "metadata": {},
     "output_type": "execute_result"
    }
   ],
   "source": [
    "mysum([10, 20, 30])"
   ]
  },
  {
   "cell_type": "code",
   "execution_count": 4,
   "metadata": {},
   "outputs": [
    {
     "ename": "TypeError",
     "evalue": "mysum() takes 1 positional argument but 3 were given",
     "output_type": "error",
     "traceback": [
      "\u001b[0;31m---------------------------------------------------------------------------\u001b[0m",
      "\u001b[0;31mTypeError\u001b[0m                                 Traceback (most recent call last)",
      "\u001b[0;32m<ipython-input-4-d0c5fc09f297>\u001b[0m in \u001b[0;36m<module>\u001b[0;34m\u001b[0m\n\u001b[0;32m----> 1\u001b[0;31m \u001b[0mmysum\u001b[0m\u001b[0;34m(\u001b[0m\u001b[0;36m10\u001b[0m\u001b[0;34m,\u001b[0m \u001b[0;36m20\u001b[0m\u001b[0;34m,\u001b[0m \u001b[0;36m30\u001b[0m\u001b[0;34m)\u001b[0m\u001b[0;34m\u001b[0m\u001b[0;34m\u001b[0m\u001b[0m\n\u001b[0m",
      "\u001b[0;31mTypeError\u001b[0m: mysum() takes 1 positional argument but 3 were given"
     ]
    }
   ],
   "source": [
    "mysum(10, 20, 30)"
   ]
  },
  {
   "cell_type": "code",
   "execution_count": 5,
   "metadata": {},
   "outputs": [],
   "source": [
    "def mysum(a=0, b=0, c=0, d=0, e=0):\n",
    "    return a + b + c + d + e"
   ]
  },
  {
   "cell_type": "code",
   "execution_count": 6,
   "metadata": {},
   "outputs": [
    {
     "data": {
      "text/plain": [
       "60"
      ]
     },
     "execution_count": 6,
     "metadata": {},
     "output_type": "execute_result"
    }
   ],
   "source": [
    "mysum(10, 20, 30)"
   ]
  },
  {
   "cell_type": "code",
   "execution_count": 7,
   "metadata": {},
   "outputs": [
    {
     "data": {
      "text/plain": [
       "150"
      ]
     },
     "execution_count": 7,
     "metadata": {},
     "output_type": "execute_result"
    }
   ],
   "source": [
    "mysum(10, 20, 30, 40, 50)"
   ]
  },
  {
   "cell_type": "code",
   "execution_count": 8,
   "metadata": {},
   "outputs": [
    {
     "ename": "TypeError",
     "evalue": "mysum() takes from 0 to 5 positional arguments but 6 were given",
     "output_type": "error",
     "traceback": [
      "\u001b[0;31m---------------------------------------------------------------------------\u001b[0m",
      "\u001b[0;31mTypeError\u001b[0m                                 Traceback (most recent call last)",
      "\u001b[0;32m<ipython-input-8-fc81ec047e16>\u001b[0m in \u001b[0;36m<module>\u001b[0;34m\u001b[0m\n\u001b[0;32m----> 1\u001b[0;31m \u001b[0mmysum\u001b[0m\u001b[0;34m(\u001b[0m\u001b[0;36m10\u001b[0m\u001b[0;34m,\u001b[0m \u001b[0;36m20\u001b[0m\u001b[0;34m,\u001b[0m \u001b[0;36m30\u001b[0m\u001b[0;34m,\u001b[0m \u001b[0;36m40\u001b[0m\u001b[0;34m,\u001b[0m \u001b[0;36m50\u001b[0m\u001b[0;34m,\u001b[0m \u001b[0;36m60\u001b[0m\u001b[0;34m)\u001b[0m\u001b[0;34m\u001b[0m\u001b[0;34m\u001b[0m\u001b[0m\n\u001b[0m",
      "\u001b[0;31mTypeError\u001b[0m: mysum() takes from 0 to 5 positional arguments but 6 were given"
     ]
    }
   ],
   "source": [
    "mysum(10, 20, 30, 40, 50, 60)"
   ]
  },
  {
   "cell_type": "code",
   "execution_count": 10,
   "metadata": {},
   "outputs": [],
   "source": [
    "# When I use *args:\n",
    "# - args (or whatever variable name we use) is a tuple\n",
    "# - the contents of args will be all of the positional arguments that no other parameter took\n",
    "\n",
    "def mysum(*numbers):   # \"splat args\"  == \"*args\"\n",
    "    print(f'{numbers=}')\n",
    "    total = 0\n",
    "    \n",
    "    for one_number in numbers:\n",
    "        total += one_number\n",
    "        \n",
    "    return total"
   ]
  },
  {
   "cell_type": "code",
   "execution_count": 11,
   "metadata": {},
   "outputs": [
    {
     "name": "stdout",
     "output_type": "stream",
     "text": [
      "numbers=(10, 20, 30)\n"
     ]
    },
    {
     "data": {
      "text/plain": [
       "60"
      ]
     },
     "execution_count": 11,
     "metadata": {},
     "output_type": "execute_result"
    }
   ],
   "source": [
    "mysum(10, 20, 30)"
   ]
  },
  {
   "cell_type": "code",
   "execution_count": 12,
   "metadata": {},
   "outputs": [],
   "source": [
    "def myfunc(a, b, *args):\n",
    "    return f'{a=}, {b=}, {args=}'"
   ]
  },
  {
   "cell_type": "code",
   "execution_count": 13,
   "metadata": {},
   "outputs": [
    {
     "ename": "TypeError",
     "evalue": "myfunc() missing 2 required positional arguments: 'a' and 'b'",
     "output_type": "error",
     "traceback": [
      "\u001b[0;31m---------------------------------------------------------------------------\u001b[0m",
      "\u001b[0;31mTypeError\u001b[0m                                 Traceback (most recent call last)",
      "\u001b[0;32m<ipython-input-13-a6a9c68c30b3>\u001b[0m in \u001b[0;36m<module>\u001b[0;34m\u001b[0m\n\u001b[0;32m----> 1\u001b[0;31m \u001b[0mmyfunc\u001b[0m\u001b[0;34m(\u001b[0m\u001b[0;34m)\u001b[0m\u001b[0;34m\u001b[0m\u001b[0;34m\u001b[0m\u001b[0m\n\u001b[0m",
      "\u001b[0;31mTypeError\u001b[0m: myfunc() missing 2 required positional arguments: 'a' and 'b'"
     ]
    }
   ],
   "source": [
    "myfunc()"
   ]
  },
  {
   "cell_type": "code",
   "execution_count": 14,
   "metadata": {},
   "outputs": [
    {
     "data": {
      "text/plain": [
       "'a=10, b=20, args=()'"
      ]
     },
     "execution_count": 14,
     "metadata": {},
     "output_type": "execute_result"
    }
   ],
   "source": [
    "myfunc(10, 20)"
   ]
  },
  {
   "cell_type": "code",
   "execution_count": 15,
   "metadata": {},
   "outputs": [
    {
     "data": {
      "text/plain": [
       "'a=10, b=20, args=(30,)'"
      ]
     },
     "execution_count": 15,
     "metadata": {},
     "output_type": "execute_result"
    }
   ],
   "source": [
    "myfunc(10, 20, 30)"
   ]
  },
  {
   "cell_type": "code",
   "execution_count": 16,
   "metadata": {},
   "outputs": [
    {
     "data": {
      "text/plain": [
       "'a=10, b=20, args=(30, 40)'"
      ]
     },
     "execution_count": 16,
     "metadata": {},
     "output_type": "execute_result"
    }
   ],
   "source": [
    "myfunc(10, 20, 30, 40)"
   ]
  },
  {
   "cell_type": "code",
   "execution_count": 18,
   "metadata": {},
   "outputs": [],
   "source": [
    "#             b takes positional arguments *but* has a default value, 5\n",
    "def myfunc(a, b=5, *args):\n",
    "    return f'{a=}, {b=}, {args=}'"
   ]
  },
  {
   "cell_type": "code",
   "execution_count": 19,
   "metadata": {},
   "outputs": [
    {
     "data": {
      "text/plain": [
       "'a=10, b=20, args=(30, 40, 50)'"
      ]
     },
     "execution_count": 19,
     "metadata": {},
     "output_type": "execute_result"
    }
   ],
   "source": [
    "myfunc(10, 20, 30, 40, 50)"
   ]
  },
  {
   "cell_type": "code",
   "execution_count": 20,
   "metadata": {},
   "outputs": [],
   "source": [
    "# how can I give a value to a, values to args, and skip over b?\n",
    "# answer: you can't."
   ]
  },
  {
   "cell_type": "code",
   "execution_count": 21,
   "metadata": {},
   "outputs": [
    {
     "data": {
      "text/plain": [
       "'a=10, b=5, args=()'"
      ]
     },
     "execution_count": 21,
     "metadata": {},
     "output_type": "execute_result"
    }
   ],
   "source": [
    "myfunc(10)"
   ]
  },
  {
   "cell_type": "code",
   "execution_count": 22,
   "metadata": {},
   "outputs": [
    {
     "ename": "TypeError",
     "evalue": "myfunc() got an unexpected keyword argument 'args'",
     "output_type": "error",
     "traceback": [
      "\u001b[0;31m---------------------------------------------------------------------------\u001b[0m",
      "\u001b[0;31mTypeError\u001b[0m                                 Traceback (most recent call last)",
      "\u001b[0;32m<ipython-input-22-72496554a3e2>\u001b[0m in \u001b[0;36m<module>\u001b[0;34m\u001b[0m\n\u001b[0;32m----> 1\u001b[0;31m \u001b[0mmyfunc\u001b[0m\u001b[0;34m(\u001b[0m\u001b[0;36m10\u001b[0m\u001b[0;34m,\u001b[0m \u001b[0margs\u001b[0m\u001b[0;34m=\u001b[0m\u001b[0;34m(\u001b[0m\u001b[0;36m10\u001b[0m\u001b[0;34m,\u001b[0m \u001b[0;36m20\u001b[0m\u001b[0;34m,\u001b[0m \u001b[0;36m30\u001b[0m\u001b[0;34m)\u001b[0m\u001b[0;34m)\u001b[0m\u001b[0;34m\u001b[0m\u001b[0;34m\u001b[0m\u001b[0m\n\u001b[0m",
      "\u001b[0;31mTypeError\u001b[0m: myfunc() got an unexpected keyword argument 'args'"
     ]
    }
   ],
   "source": [
    "myfunc(10, args=(10, 20, 30))"
   ]
  },
  {
   "cell_type": "markdown",
   "metadata": {},
   "source": [
    "# Order of parameters\n",
    "\n",
    "- Mandatory positional (no defaults)\n",
    "- Optional positional (with defaults)\n",
    "- `*args` (a tuple, containing all positional arguments that nothing else grabbed)"
   ]
  },
  {
   "cell_type": "code",
   "execution_count": 26,
   "metadata": {},
   "outputs": [],
   "source": [
    "def mysum(numbers):\n",
    "    print(f'{numbers=}')\n",
    "    total = 0\n",
    "    \n",
    "    for one_number in numbers:\n",
    "        total += one_number\n",
    "        \n",
    "    return total"
   ]
  },
  {
   "cell_type": "code",
   "execution_count": 27,
   "metadata": {},
   "outputs": [
    {
     "data": {
      "text/plain": [
       "1"
      ]
     },
     "execution_count": 27,
     "metadata": {},
     "output_type": "execute_result"
    }
   ],
   "source": [
    "mysum.__code__.co_argcount"
   ]
  },
  {
   "cell_type": "code",
   "execution_count": 28,
   "metadata": {},
   "outputs": [
    {
     "data": {
      "text/plain": [
       "('numbers', 'total', 'one_number')"
      ]
     },
     "execution_count": 28,
     "metadata": {},
     "output_type": "execute_result"
    }
   ],
   "source": [
    "mysum.__code__.co_varnames"
   ]
  },
  {
   "cell_type": "code",
   "execution_count": 29,
   "metadata": {},
   "outputs": [],
   "source": [
    "def mysum(*numbers):\n",
    "    print(f'{numbers=}')\n",
    "    total = 0\n",
    "    \n",
    "    for one_number in numbers:\n",
    "        total += one_number\n",
    "        \n",
    "    return total"
   ]
  },
  {
   "cell_type": "code",
   "execution_count": 30,
   "metadata": {},
   "outputs": [
    {
     "data": {
      "text/plain": [
       "0"
      ]
     },
     "execution_count": 30,
     "metadata": {},
     "output_type": "execute_result"
    }
   ],
   "source": [
    "mysum.__code__.co_argcount"
   ]
  },
  {
   "cell_type": "code",
   "execution_count": 31,
   "metadata": {},
   "outputs": [
    {
     "data": {
      "text/plain": [
       "('numbers', 'total', 'one_number')"
      ]
     },
     "execution_count": 31,
     "metadata": {},
     "output_type": "execute_result"
    }
   ],
   "source": [
    "mysum.__code__.co_varnames"
   ]
  },
  {
   "cell_type": "code",
   "execution_count": 32,
   "metadata": {},
   "outputs": [
    {
     "data": {
      "text/plain": [
       "71"
      ]
     },
     "execution_count": 32,
     "metadata": {},
     "output_type": "execute_result"
    }
   ],
   "source": [
    "mysum.__code__.co_flags"
   ]
  },
  {
   "cell_type": "code",
   "execution_count": 33,
   "metadata": {},
   "outputs": [
    {
     "data": {
      "text/plain": [
       "'0b1000111'"
      ]
     },
     "execution_count": 33,
     "metadata": {},
     "output_type": "execute_result"
    }
   ],
   "source": [
    "bin(mysum.__code__.co_flags)"
   ]
  },
  {
   "cell_type": "code",
   "execution_count": 34,
   "metadata": {},
   "outputs": [
    {
     "name": "stdout",
     "output_type": "stream",
     "text": [
      "Name:              mysum\n",
      "Filename:          <ipython-input-29-794b1ad59a55>\n",
      "Argument count:    0\n",
      "Positional-only arguments: 0\n",
      "Kw-only arguments: 0\n",
      "Number of locals:  3\n",
      "Stack size:        3\n",
      "Flags:             OPTIMIZED, NEWLOCALS, VARARGS, NOFREE\n",
      "Constants:\n",
      "   0: None\n",
      "   1: 'numbers='\n",
      "   2: 0\n",
      "Names:\n",
      "   0: print\n",
      "Variable names:\n",
      "   0: numbers\n",
      "   1: total\n",
      "   2: one_number\n"
     ]
    }
   ],
   "source": [
    "import dis\n",
    "dis.show_code(mysum)"
   ]
  },
  {
   "cell_type": "code",
   "execution_count": 35,
   "metadata": {},
   "outputs": [],
   "source": [
    "def mysum(numbers):\n",
    "    print(f'{numbers=}')\n",
    "    total = 0\n",
    "    \n",
    "    for one_number in numbers:\n",
    "        total += one_number\n",
    "        \n",
    "    return total"
   ]
  },
  {
   "cell_type": "code",
   "execution_count": 36,
   "metadata": {},
   "outputs": [
    {
     "name": "stdout",
     "output_type": "stream",
     "text": [
      "Name:              mysum\n",
      "Filename:          <ipython-input-35-b60cbc9749ad>\n",
      "Argument count:    1\n",
      "Positional-only arguments: 0\n",
      "Kw-only arguments: 0\n",
      "Number of locals:  3\n",
      "Stack size:        3\n",
      "Flags:             OPTIMIZED, NEWLOCALS, NOFREE\n",
      "Constants:\n",
      "   0: None\n",
      "   1: 'numbers='\n",
      "   2: 0\n",
      "Names:\n",
      "   0: print\n",
      "Variable names:\n",
      "   0: numbers\n",
      "   1: total\n",
      "   2: one_number\n"
     ]
    }
   ],
   "source": [
    "dis.show_code(mysum)"
   ]
  },
  {
   "cell_type": "code",
   "execution_count": 37,
   "metadata": {},
   "outputs": [
    {
     "data": {
      "text/plain": [
       "'0b1000011'"
      ]
     },
     "execution_count": 37,
     "metadata": {},
     "output_type": "execute_result"
    }
   ],
   "source": [
    "bin(mysum.__code__.co_flags)"
   ]
  },
  {
   "cell_type": "code",
   "execution_count": 38,
   "metadata": {},
   "outputs": [],
   "source": [
    "def mysum(*numbers):\n",
    "    print(f'{numbers=}')\n",
    "    total = 0\n",
    "    \n",
    "    for one_number in numbers:\n",
    "        total += one_number\n",
    "        \n",
    "    return total"
   ]
  },
  {
   "cell_type": "code",
   "execution_count": 39,
   "metadata": {},
   "outputs": [
    {
     "name": "stdout",
     "output_type": "stream",
     "text": [
      "numbers=(10, 20, 30)\n"
     ]
    },
    {
     "data": {
      "text/plain": [
       "60"
      ]
     },
     "execution_count": 39,
     "metadata": {},
     "output_type": "execute_result"
    }
   ],
   "source": [
    "mysum(10, 20, 30)"
   ]
  },
  {
   "cell_type": "code",
   "execution_count": 40,
   "metadata": {},
   "outputs": [
    {
     "name": "stdout",
     "output_type": "stream",
     "text": [
      "numbers=([10, 20, 30, 40, 50],)\n"
     ]
    },
    {
     "ename": "TypeError",
     "evalue": "unsupported operand type(s) for +=: 'int' and 'list'",
     "output_type": "error",
     "traceback": [
      "\u001b[0;31m---------------------------------------------------------------------------\u001b[0m",
      "\u001b[0;31mTypeError\u001b[0m                                 Traceback (most recent call last)",
      "\u001b[0;32m<ipython-input-40-b548f87a79f4>\u001b[0m in \u001b[0;36m<module>\u001b[0;34m\u001b[0m\n\u001b[1;32m      1\u001b[0m \u001b[0mnums\u001b[0m \u001b[0;34m=\u001b[0m \u001b[0;34m[\u001b[0m\u001b[0;36m10\u001b[0m\u001b[0;34m,\u001b[0m \u001b[0;36m20\u001b[0m\u001b[0;34m,\u001b[0m \u001b[0;36m30\u001b[0m\u001b[0;34m,\u001b[0m \u001b[0;36m40\u001b[0m\u001b[0;34m,\u001b[0m \u001b[0;36m50\u001b[0m\u001b[0;34m]\u001b[0m\u001b[0;34m\u001b[0m\u001b[0;34m\u001b[0m\u001b[0m\n\u001b[1;32m      2\u001b[0m \u001b[0;34m\u001b[0m\u001b[0m\n\u001b[0;32m----> 3\u001b[0;31m \u001b[0mmysum\u001b[0m\u001b[0;34m(\u001b[0m\u001b[0mnums\u001b[0m\u001b[0;34m)\u001b[0m\u001b[0;34m\u001b[0m\u001b[0;34m\u001b[0m\u001b[0m\n\u001b[0m",
      "\u001b[0;32m<ipython-input-38-794b1ad59a55>\u001b[0m in \u001b[0;36mmysum\u001b[0;34m(*numbers)\u001b[0m\n\u001b[1;32m      4\u001b[0m \u001b[0;34m\u001b[0m\u001b[0m\n\u001b[1;32m      5\u001b[0m     \u001b[0;32mfor\u001b[0m \u001b[0mone_number\u001b[0m \u001b[0;32min\u001b[0m \u001b[0mnumbers\u001b[0m\u001b[0;34m:\u001b[0m\u001b[0;34m\u001b[0m\u001b[0;34m\u001b[0m\u001b[0m\n\u001b[0;32m----> 6\u001b[0;31m         \u001b[0mtotal\u001b[0m \u001b[0;34m+=\u001b[0m \u001b[0mone_number\u001b[0m\u001b[0;34m\u001b[0m\u001b[0;34m\u001b[0m\u001b[0m\n\u001b[0m\u001b[1;32m      7\u001b[0m \u001b[0;34m\u001b[0m\u001b[0m\n\u001b[1;32m      8\u001b[0m     \u001b[0;32mreturn\u001b[0m \u001b[0mtotal\u001b[0m\u001b[0;34m\u001b[0m\u001b[0;34m\u001b[0m\u001b[0m\n",
      "\u001b[0;31mTypeError\u001b[0m: unsupported operand type(s) for +=: 'int' and 'list'"
     ]
    }
   ],
   "source": [
    "nums = [10, 20, 30, 40, 50]\n",
    "\n",
    "mysum(nums)"
   ]
  },
  {
   "cell_type": "code",
   "execution_count": 41,
   "metadata": {},
   "outputs": [
    {
     "name": "stdout",
     "output_type": "stream",
     "text": [
      "numbers=(10, 20, 30, 40, 50)\n"
     ]
    },
    {
     "data": {
      "text/plain": [
       "150"
      ]
     },
     "execution_count": 41,
     "metadata": {},
     "output_type": "execute_result"
    }
   ],
   "source": [
    "nums = [10, 20, 30, 40, 50]\n",
    "\n",
    "mysum(*nums)   # in the function call, putting a * before an iterable \"unrolls\" it"
   ]
  },
  {
   "cell_type": "code",
   "execution_count": 42,
   "metadata": {},
   "outputs": [],
   "source": [
    "def add(a, b):\n",
    "    return a + b"
   ]
  },
  {
   "cell_type": "code",
   "execution_count": 43,
   "metadata": {},
   "outputs": [],
   "source": [
    "t = (10, 5)"
   ]
  },
  {
   "cell_type": "code",
   "execution_count": 44,
   "metadata": {},
   "outputs": [
    {
     "ename": "TypeError",
     "evalue": "add() missing 1 required positional argument: 'b'",
     "output_type": "error",
     "traceback": [
      "\u001b[0;31m---------------------------------------------------------------------------\u001b[0m",
      "\u001b[0;31mTypeError\u001b[0m                                 Traceback (most recent call last)",
      "\u001b[0;32m<ipython-input-44-7902c9225a7d>\u001b[0m in \u001b[0;36m<module>\u001b[0;34m\u001b[0m\n\u001b[0;32m----> 1\u001b[0;31m \u001b[0madd\u001b[0m\u001b[0;34m(\u001b[0m\u001b[0mt\u001b[0m\u001b[0;34m)\u001b[0m\u001b[0;34m\u001b[0m\u001b[0;34m\u001b[0m\u001b[0m\n\u001b[0m",
      "\u001b[0;31mTypeError\u001b[0m: add() missing 1 required positional argument: 'b'"
     ]
    }
   ],
   "source": [
    "add(t)"
   ]
  },
  {
   "cell_type": "code",
   "execution_count": 45,
   "metadata": {},
   "outputs": [
    {
     "data": {
      "text/plain": [
       "15"
      ]
     },
     "execution_count": 45,
     "metadata": {},
     "output_type": "execute_result"
    }
   ],
   "source": [
    "add(*t)"
   ]
  },
  {
   "cell_type": "markdown",
   "metadata": {},
   "source": [
    "# Exercise: all_lines\n",
    "\n",
    "1. Define a function, `all_lines`, that takes one mandatory positional argument, `outfilename`.  This will be the name of a file into which you will write the output.\n",
    "2. The function can then take any number of additional arguments, each of which will be the name of an input file. \n",
    "3. Write all of the lines from the input files into the output file -- first all of the lines from the 1st argument, then from the 2nd argument, etc., until all file contents have been written into `outfilename`."
   ]
  },
  {
   "cell_type": "code",
   "execution_count": 47,
   "metadata": {},
   "outputs": [],
   "source": [
    "for i in range(5):\n",
    "    with open(f'file{i}.txt', 'w') as outfile:\n",
    "        for index, one_word in enumerate('abc def ghi jkl mno'.split()):\n",
    "            outfile.write(f'{i} {index} {one_word}\\n')"
   ]
  },
  {
   "cell_type": "code",
   "execution_count": 48,
   "metadata": {},
   "outputs": [
    {
     "name": "stdout",
     "output_type": "stream",
     "text": [
      "file0.txt  file1.txt  file2.txt  file3.txt  file4.txt\r\n"
     ]
    }
   ],
   "source": [
    "!ls *.txt"
   ]
  },
  {
   "cell_type": "code",
   "execution_count": 49,
   "metadata": {},
   "outputs": [
    {
     "name": "stdout",
     "output_type": "stream",
     "text": [
      "0 0 abc\r\n",
      "0 1 def\r\n",
      "0 2 ghi\r\n",
      "0 3 jkl\r\n",
      "0 4 mno\r\n"
     ]
    }
   ],
   "source": [
    "!cat file0.txt"
   ]
  },
  {
   "cell_type": "code",
   "execution_count": 50,
   "metadata": {},
   "outputs": [
    {
     "name": "stdout",
     "output_type": "stream",
     "text": [
      "1 0 abc\r\n",
      "1 1 def\r\n",
      "1 2 ghi\r\n",
      "1 3 jkl\r\n",
      "1 4 mno\r\n"
     ]
    }
   ],
   "source": [
    "!cat file1.txt"
   ]
  },
  {
   "cell_type": "code",
   "execution_count": 52,
   "metadata": {},
   "outputs": [],
   "source": [
    "def all_lines(outfilename, *args):\n",
    "    with open(outfilename, 'w') as outfile:\n",
    "        for one_filename in args:\n",
    "            print(f'Now reading from {one_filename}')\n",
    "            for one_line in open(one_filename):\n",
    "                outfile.write(one_line)"
   ]
  },
  {
   "cell_type": "code",
   "execution_count": 53,
   "metadata": {},
   "outputs": [
    {
     "name": "stdout",
     "output_type": "stream",
     "text": [
      "Now reading from file0.txt\n",
      "Now reading from file1.txt\n",
      "Now reading from file2.txt\n",
      "Now reading from file3.txt\n",
      "Now reading from file4.txt\n"
     ]
    }
   ],
   "source": [
    "all_lines('myoutput.txt', 'file0.txt', 'file1.txt', 'file2.txt', 'file3.txt', 'file4.txt')"
   ]
  },
  {
   "cell_type": "code",
   "execution_count": 54,
   "metadata": {
    "collapsed": true
   },
   "outputs": [
    {
     "name": "stdout",
     "output_type": "stream",
     "text": [
      "0 0 abc\r\n",
      "0 1 def\r\n",
      "0 2 ghi\r\n",
      "0 3 jkl\r\n",
      "0 4 mno\r\n",
      "1 0 abc\r\n",
      "1 1 def\r\n",
      "1 2 ghi\r\n",
      "1 3 jkl\r\n",
      "1 4 mno\r\n",
      "2 0 abc\r\n",
      "2 1 def\r\n",
      "2 2 ghi\r\n",
      "2 3 jkl\r\n",
      "2 4 mno\r\n",
      "3 0 abc\r\n",
      "3 1 def\r\n",
      "3 2 ghi\r\n",
      "3 3 jkl\r\n",
      "3 4 mno\r\n",
      "4 0 abc\r\n",
      "4 1 def\r\n",
      "4 2 ghi\r\n",
      "4 3 jkl\r\n",
      "4 4 mno\r\n"
     ]
    }
   ],
   "source": [
    "!cat myoutput.txt"
   ]
  },
  {
   "cell_type": "code",
   "execution_count": 55,
   "metadata": {},
   "outputs": [
    {
     "data": {
      "text/plain": [
       "['file2.txt',\n",
       " 'file3.txt',\n",
       " 'file1.txt',\n",
       " 'file0.txt',\n",
       " 'file4.txt',\n",
       " 'Cisco - 2021-feb-22-advanced.ipynb',\n",
       " '.DS_Store',\n",
       " 'mytypecheck.py',\n",
       " 'cisco-2021-feb-22.zip',\n",
       " 'mytypecheck.py~',\n",
       " '.mypy_cache',\n",
       " 'Cisco — 2021 Feb 23.ipynb',\n",
       " '.ipynb_checkpoints',\n",
       " 'myoutput.txt',\n",
       " '.git']"
      ]
     },
     "execution_count": 55,
     "metadata": {},
     "output_type": "execute_result"
    }
   ],
   "source": [
    "import os\n",
    "os.listdir('.')"
   ]
  },
  {
   "cell_type": "code",
   "execution_count": 56,
   "metadata": {},
   "outputs": [
    {
     "data": {
      "text/plain": [
       "['file2.txt', 'file3.txt', 'file1.txt', 'file0.txt', 'file4.txt']"
      ]
     },
     "execution_count": 56,
     "metadata": {},
     "output_type": "execute_result"
    }
   ],
   "source": [
    "import glob\n",
    "glob.glob('file*.txt')"
   ]
  },
  {
   "cell_type": "code",
   "execution_count": 59,
   "metadata": {},
   "outputs": [
    {
     "name": "stdout",
     "output_type": "stream",
     "text": [
      "Now reading from file2.txt\n",
      "Now reading from file3.txt\n",
      "Now reading from file1.txt\n",
      "Now reading from file0.txt\n",
      "Now reading from file4.txt\n"
     ]
    }
   ],
   "source": [
    "all_lines('myoutput.txt', *glob.glob('file*.txt'))"
   ]
  },
  {
   "cell_type": "code",
   "execution_count": null,
   "metadata": {},
   "outputs": [],
   "source": [
    "def all_lines(outfilename, *args):\n",
    "    with open(outfilename, 'w') as outfile:  \n",
    "        # outfile.__enter__()   -- for files, this does nothing\n",
    "        for one_filename in args:\n",
    "            print(f'Now reading from {one_filename}')\n",
    "            for one_line in open(one_filename):  # the file is closed automatically, soon after the for loop exits\n",
    "                outfile.write(one_line)\n",
    "        # outfile.__exit__()  -- for files, this flushes + closes the file"
   ]
  },
  {
   "cell_type": "code",
   "execution_count": null,
   "metadata": {},
   "outputs": [],
   "source": []
  },
  {
   "cell_type": "markdown",
   "metadata": {},
   "source": [
    "# Order of parameters\n",
    "\n",
    "- Mandatory positional (no defaults)\n",
    "- Optional positional (with defaults)\n",
    "- `*args` (a tuple, containing all positional arguments that nothing else grabbed)"
   ]
  },
  {
   "cell_type": "code",
   "execution_count": 60,
   "metadata": {},
   "outputs": [
    {
     "data": {
      "text/plain": [
       "15"
      ]
     },
     "execution_count": 60,
     "metadata": {},
     "output_type": "execute_result"
    }
   ],
   "source": [
    "def add(a, b):\n",
    "    return a + b\n",
    "\n",
    "add(a=10, b=5)"
   ]
  },
  {
   "cell_type": "code",
   "execution_count": 61,
   "metadata": {},
   "outputs": [
    {
     "ename": "TypeError",
     "evalue": "add() got an unexpected keyword argument 'c'",
     "output_type": "error",
     "traceback": [
      "\u001b[0;31m---------------------------------------------------------------------------\u001b[0m",
      "\u001b[0;31mTypeError\u001b[0m                                 Traceback (most recent call last)",
      "\u001b[0;32m<ipython-input-61-bffa9e7780c1>\u001b[0m in \u001b[0;36m<module>\u001b[0;34m\u001b[0m\n\u001b[0;32m----> 1\u001b[0;31m \u001b[0madd\u001b[0m\u001b[0;34m(\u001b[0m\u001b[0ma\u001b[0m\u001b[0;34m=\u001b[0m\u001b[0;36m10\u001b[0m\u001b[0;34m,\u001b[0m \u001b[0mb\u001b[0m\u001b[0;34m=\u001b[0m\u001b[0;36m5\u001b[0m\u001b[0;34m,\u001b[0m \u001b[0mc\u001b[0m\u001b[0;34m=\u001b[0m\u001b[0;36m12345\u001b[0m\u001b[0;34m)\u001b[0m\u001b[0;34m\u001b[0m\u001b[0;34m\u001b[0m\u001b[0m\n\u001b[0m",
      "\u001b[0;31mTypeError\u001b[0m: add() got an unexpected keyword argument 'c'"
     ]
    }
   ],
   "source": [
    "add(a=10, b=5, c=12345)"
   ]
  },
  {
   "cell_type": "code",
   "execution_count": 62,
   "metadata": {},
   "outputs": [],
   "source": [
    "# **kwargs is a dict, containing all of the keyword arguments\n",
    "# that no other parameter got"
   ]
  },
  {
   "cell_type": "code",
   "execution_count": 63,
   "metadata": {},
   "outputs": [],
   "source": [
    "def myfunc(a, b, **kwargs):\n",
    "    return f'{a=}, {b=}, {kwargs=}'"
   ]
  },
  {
   "cell_type": "code",
   "execution_count": 65,
   "metadata": {},
   "outputs": [
    {
     "data": {
      "text/plain": [
       "'a=10, b=20, kwargs={}'"
      ]
     },
     "execution_count": 65,
     "metadata": {},
     "output_type": "execute_result"
    }
   ],
   "source": [
    "myfunc(10, 20)"
   ]
  },
  {
   "cell_type": "code",
   "execution_count": 66,
   "metadata": {},
   "outputs": [
    {
     "ename": "TypeError",
     "evalue": "myfunc() takes 2 positional arguments but 3 were given",
     "output_type": "error",
     "traceback": [
      "\u001b[0;31m---------------------------------------------------------------------------\u001b[0m",
      "\u001b[0;31mTypeError\u001b[0m                                 Traceback (most recent call last)",
      "\u001b[0;32m<ipython-input-66-21d13ed9043a>\u001b[0m in \u001b[0;36m<module>\u001b[0;34m\u001b[0m\n\u001b[0;32m----> 1\u001b[0;31m \u001b[0mmyfunc\u001b[0m\u001b[0;34m(\u001b[0m\u001b[0;36m10\u001b[0m\u001b[0;34m,\u001b[0m \u001b[0;36m20\u001b[0m\u001b[0;34m,\u001b[0m \u001b[0;36m30\u001b[0m\u001b[0;34m)\u001b[0m\u001b[0;34m\u001b[0m\u001b[0;34m\u001b[0m\u001b[0m\n\u001b[0m",
      "\u001b[0;31mTypeError\u001b[0m: myfunc() takes 2 positional arguments but 3 were given"
     ]
    }
   ],
   "source": [
    "myfunc(10, 20, 30)"
   ]
  },
  {
   "cell_type": "code",
   "execution_count": 67,
   "metadata": {},
   "outputs": [
    {
     "data": {
      "text/plain": [
       "\"a=10, b=20, kwargs={'x': 100, 'y': 200, 'z': 300}\""
      ]
     },
     "execution_count": 67,
     "metadata": {},
     "output_type": "execute_result"
    }
   ],
   "source": [
    "myfunc(10, 20, x=100, y=200, z=300)"
   ]
  },
  {
   "cell_type": "code",
   "execution_count": 68,
   "metadata": {},
   "outputs": [],
   "source": [
    "def myfunc(a, b=2, **kwargs):\n",
    "    return f'{a=}, {b=}, {kwargs=}'"
   ]
  },
  {
   "cell_type": "code",
   "execution_count": 69,
   "metadata": {},
   "outputs": [
    {
     "data": {
      "text/plain": [
       "\"a=3, b=2, kwargs={'x': 100, 'y': 200}\""
      ]
     },
     "execution_count": 69,
     "metadata": {},
     "output_type": "execute_result"
    }
   ],
   "source": [
    "myfunc(3, x=100, y=200)"
   ]
  },
  {
   "cell_type": "code",
   "execution_count": 70,
   "metadata": {},
   "outputs": [
    {
     "data": {
      "text/plain": [
       "\"a=3, b=4, kwargs={'x': 100, 'y': 200}\""
      ]
     },
     "execution_count": 70,
     "metadata": {},
     "output_type": "execute_result"
    }
   ],
   "source": [
    "myfunc(a=3, b=4, x=100, y=200)"
   ]
  },
  {
   "cell_type": "code",
   "execution_count": 72,
   "metadata": {},
   "outputs": [
    {
     "name": "stdout",
     "output_type": "stream",
     "text": [
      "Name:              myfunc\n",
      "Filename:          <ipython-input-68-e51580d2f1a0>\n",
      "Argument count:    2\n",
      "Positional-only arguments: 0\n",
      "Kw-only arguments: 0\n",
      "Number of locals:  3\n",
      "Stack size:        6\n",
      "Flags:             OPTIMIZED, NEWLOCALS, VARKEYWORDS, NOFREE\n",
      "Constants:\n",
      "   0: None\n",
      "   1: 'a='\n",
      "   2: ', b='\n",
      "   3: ', kwargs='\n",
      "Variable names:\n",
      "   0: a\n",
      "   1: b\n",
      "   2: kwargs\n"
     ]
    }
   ],
   "source": [
    "dis.show_code(myfunc)"
   ]
  },
  {
   "cell_type": "code",
   "execution_count": 73,
   "metadata": {},
   "outputs": [],
   "source": [
    "def myfunc(a, *args, **kwargs):\n",
    "    return f'{a=}, {args=}, {kwargs=}'"
   ]
  },
  {
   "cell_type": "code",
   "execution_count": 74,
   "metadata": {},
   "outputs": [
    {
     "data": {
      "text/plain": [
       "'a=10, args=(20, 30, 40, 50), kwargs={}'"
      ]
     },
     "execution_count": 74,
     "metadata": {},
     "output_type": "execute_result"
    }
   ],
   "source": [
    "myfunc(10, 20, 30, 40, 50)"
   ]
  },
  {
   "cell_type": "code",
   "execution_count": 75,
   "metadata": {},
   "outputs": [
    {
     "data": {
      "text/plain": [
       "\"a=10, args=(20, 30, 40, 50), kwargs={'x': 100, 'y': 200, 'z': 300}\""
      ]
     },
     "execution_count": 75,
     "metadata": {},
     "output_type": "execute_result"
    }
   ],
   "source": [
    "myfunc(10, 20, 30, 40, 50, x=100, y=200, z=300)"
   ]
  },
  {
   "cell_type": "markdown",
   "metadata": {},
   "source": [
    "# Why do we need `**kwargs`?\n",
    "\n",
    "1. We have a function that can take lots of different parameters. Rather than define the function with many parameters (and defaults), we can just use `kwargs` and search through the keys and values in the dict for what we want.\n",
    "2. We have a function that knows what it wants to do with keys and values, but doesn't know what keys or what values it'll get. It'll accept lots of keys and values, whatever comes it way, and then formats/prints/uses them in the standard way."
   ]
  },
  {
   "cell_type": "code",
   "execution_count": 76,
   "metadata": {},
   "outputs": [],
   "source": [
    "def myfunc():\n",
    "    f = open('/etc/passwd')\n",
    "    \n",
    "myfunc()    "
   ]
  },
  {
   "cell_type": "code",
   "execution_count": 77,
   "metadata": {},
   "outputs": [],
   "source": [
    "mylist = [10, 20, 30]\n",
    "mylist.append(mylist)"
   ]
  },
  {
   "cell_type": "code",
   "execution_count": 78,
   "metadata": {},
   "outputs": [
    {
     "data": {
      "text/plain": [
       "[10, 20, 30, [...]]"
      ]
     },
     "execution_count": 78,
     "metadata": {},
     "output_type": "execute_result"
    }
   ],
   "source": [
    "mylist"
   ]
  },
  {
   "cell_type": "code",
   "execution_count": 79,
   "metadata": {},
   "outputs": [
    {
     "data": {
      "text/plain": [
       "4"
      ]
     },
     "execution_count": 79,
     "metadata": {},
     "output_type": "execute_result"
    }
   ],
   "source": [
    "len(mylist)"
   ]
  },
  {
   "cell_type": "code",
   "execution_count": 80,
   "metadata": {},
   "outputs": [
    {
     "data": {
      "text/plain": [
       "[10, 20, 30, [...]]"
      ]
     },
     "execution_count": 80,
     "metadata": {},
     "output_type": "execute_result"
    }
   ],
   "source": [
    "mylist[-1]"
   ]
  },
  {
   "cell_type": "code",
   "execution_count": 81,
   "metadata": {},
   "outputs": [
    {
     "data": {
      "text/plain": [
       "True"
      ]
     },
     "execution_count": 81,
     "metadata": {},
     "output_type": "execute_result"
    }
   ],
   "source": [
    "mylist is mylist[-1]"
   ]
  },
  {
   "cell_type": "markdown",
   "metadata": {},
   "source": [
    "# Exercise: write_config\n",
    "\n",
    "1. Write a function that takes one mandatory argument, `outfilename`, and any number of keyword arguments.\n",
    "2. The keyword arguments should be written to the file, one pair per line, in the format of `key=value`."
   ]
  },
  {
   "cell_type": "code",
   "execution_count": 82,
   "metadata": {},
   "outputs": [],
   "source": [
    "def write_config(outfilename, **kwargs):\n",
    "    with open(outfilename, 'w') as outfile:\n",
    "        for key, value in kwargs.items():\n",
    "            outfile.write(f'{key}={value}\\n')"
   ]
  },
  {
   "cell_type": "code",
   "execution_count": 83,
   "metadata": {},
   "outputs": [],
   "source": [
    "write_config('myconfig.txt', a=1, b=2, c=3, d=[10, 20, 30])"
   ]
  },
  {
   "cell_type": "code",
   "execution_count": 84,
   "metadata": {},
   "outputs": [
    {
     "name": "stdout",
     "output_type": "stream",
     "text": [
      "a=1\r\n",
      "b=2\r\n",
      "c=3\r\n",
      "d=[10, 20, 30]\r\n"
     ]
    }
   ],
   "source": [
    "!cat myconfig.txt"
   ]
  },
  {
   "cell_type": "code",
   "execution_count": 85,
   "metadata": {},
   "outputs": [],
   "source": [
    "d = {'a':1, 'b':2, 'c':3, 'd':[100, 200, 300]}"
   ]
  },
  {
   "cell_type": "code",
   "execution_count": 87,
   "metadata": {},
   "outputs": [],
   "source": [
    "write_config('myconfig2.txt', **d)"
   ]
  },
  {
   "cell_type": "code",
   "execution_count": 88,
   "metadata": {},
   "outputs": [
    {
     "name": "stdout",
     "output_type": "stream",
     "text": [
      "a=1\r\n",
      "b=2\r\n",
      "c=3\r\n",
      "d=[100, 200, 300]\r\n"
     ]
    }
   ],
   "source": [
    "!cat myconfig2.txt"
   ]
  },
  {
   "cell_type": "code",
   "execution_count": 89,
   "metadata": {},
   "outputs": [
    {
     "data": {
      "text/plain": [
       "'a=10, b=20, args=(30, 40, 50)'"
      ]
     },
     "execution_count": 89,
     "metadata": {},
     "output_type": "execute_result"
    }
   ],
   "source": [
    "def myfunc(a, b=5, *args):\n",
    "    return f'{a=}, {b=}, {args=}'\n",
    "\n",
    "myfunc(10, 20, 30, 40, 50)"
   ]
  },
  {
   "cell_type": "code",
   "execution_count": 90,
   "metadata": {},
   "outputs": [
    {
     "data": {
      "text/plain": [
       "'a=10, b=5, args=()'"
      ]
     },
     "execution_count": 90,
     "metadata": {},
     "output_type": "execute_result"
    }
   ],
   "source": [
    "myfunc(10)"
   ]
  },
  {
   "cell_type": "code",
   "execution_count": 91,
   "metadata": {},
   "outputs": [
    {
     "data": {
      "text/plain": [
       "'a=10, b=5, args=(20, 30, 40, 50)'"
      ]
     },
     "execution_count": 91,
     "metadata": {},
     "output_type": "execute_result"
    }
   ],
   "source": [
    "# now b is a keyword-only argument\n",
    "def myfunc(a, *args, b=5):\n",
    "    return f'{a=}, {b=}, {args=}'\n",
    "\n",
    "myfunc(10, 20, 30, 40, 50)"
   ]
  },
  {
   "cell_type": "code",
   "execution_count": 92,
   "metadata": {},
   "outputs": [
    {
     "data": {
      "text/plain": [
       "'a=10, b=999, args=(20, 30, 40, 50)'"
      ]
     },
     "execution_count": 92,
     "metadata": {},
     "output_type": "execute_result"
    }
   ],
   "source": [
    "myfunc(10, 20, 30, 40, 50, b=999)"
   ]
  },
  {
   "cell_type": "code",
   "execution_count": 93,
   "metadata": {},
   "outputs": [
    {
     "ename": "TypeError",
     "evalue": "myfunc() missing 1 required keyword-only argument: 'b'",
     "output_type": "error",
     "traceback": [
      "\u001b[0;31m---------------------------------------------------------------------------\u001b[0m",
      "\u001b[0;31mTypeError\u001b[0m                                 Traceback (most recent call last)",
      "\u001b[0;32m<ipython-input-93-23e6ef5e709a>\u001b[0m in \u001b[0;36m<module>\u001b[0;34m\u001b[0m\n\u001b[1;32m      3\u001b[0m     \u001b[0;32mreturn\u001b[0m \u001b[0;34mf'{a=}, {b=}, {args=}'\u001b[0m\u001b[0;34m\u001b[0m\u001b[0;34m\u001b[0m\u001b[0m\n\u001b[1;32m      4\u001b[0m \u001b[0;34m\u001b[0m\u001b[0m\n\u001b[0;32m----> 5\u001b[0;31m \u001b[0mmyfunc\u001b[0m\u001b[0;34m(\u001b[0m\u001b[0;36m10\u001b[0m\u001b[0;34m,\u001b[0m \u001b[0;36m20\u001b[0m\u001b[0;34m,\u001b[0m \u001b[0;36m30\u001b[0m\u001b[0;34m,\u001b[0m \u001b[0;36m40\u001b[0m\u001b[0;34m,\u001b[0m \u001b[0;36m50\u001b[0m\u001b[0;34m)\u001b[0m\u001b[0;34m\u001b[0m\u001b[0;34m\u001b[0m\u001b[0m\n\u001b[0m",
      "\u001b[0;31mTypeError\u001b[0m: myfunc() missing 1 required keyword-only argument: 'b'"
     ]
    }
   ],
   "source": [
    "# b is still a keyword-only argument, and it's now mandatory!\n",
    "def myfunc(a, *args, b):\n",
    "    return f'{a=}, {b=}, {args=}'\n",
    "\n",
    "myfunc(10, 20, 30, 40, 50)"
   ]
  },
  {
   "cell_type": "code",
   "execution_count": 95,
   "metadata": {},
   "outputs": [
    {
     "ename": "TypeError",
     "evalue": "myfunc() missing 1 required keyword-only argument: 'b'",
     "output_type": "error",
     "traceback": [
      "\u001b[0;31m---------------------------------------------------------------------------\u001b[0m",
      "\u001b[0;31mTypeError\u001b[0m                                 Traceback (most recent call last)",
      "\u001b[0;32m<ipython-input-95-d87ff0d10598>\u001b[0m in \u001b[0;36m<module>\u001b[0;34m\u001b[0m\n\u001b[1;32m      4\u001b[0m     \u001b[0;32mreturn\u001b[0m \u001b[0;34mf'{a=}, {b=}'\u001b[0m\u001b[0;34m\u001b[0m\u001b[0;34m\u001b[0m\u001b[0m\n\u001b[1;32m      5\u001b[0m \u001b[0;34m\u001b[0m\u001b[0m\n\u001b[0;32m----> 6\u001b[0;31m \u001b[0mmyfunc\u001b[0m\u001b[0;34m(\u001b[0m\u001b[0;36m10\u001b[0m\u001b[0;34m)\u001b[0m\u001b[0;34m\u001b[0m\u001b[0;34m\u001b[0m\u001b[0m\n\u001b[0m",
      "\u001b[0;31mTypeError\u001b[0m: myfunc() missing 1 required keyword-only argument: 'b'"
     ]
    }
   ],
   "source": [
    "# b is keyword only, even though we don't have *args in this function\n",
    "\n",
    "def myfunc(a, *, b):\n",
    "    return f'{a=}, {b=}'\n",
    "\n",
    "myfunc(10)"
   ]
  },
  {
   "cell_type": "code",
   "execution_count": 96,
   "metadata": {},
   "outputs": [
    {
     "data": {
      "text/plain": [
       "'a=10, b=30'"
      ]
     },
     "execution_count": 96,
     "metadata": {},
     "output_type": "execute_result"
    }
   ],
   "source": [
    "myfunc(10, b=30)"
   ]
  },
  {
   "cell_type": "code",
   "execution_count": 97,
   "metadata": {},
   "outputs": [
    {
     "ename": "TypeError",
     "evalue": "myfunc() takes 1 positional argument but 3 positional arguments (and 1 keyword-only argument) were given",
     "output_type": "error",
     "traceback": [
      "\u001b[0;31m---------------------------------------------------------------------------\u001b[0m",
      "\u001b[0;31mTypeError\u001b[0m                                 Traceback (most recent call last)",
      "\u001b[0;32m<ipython-input-97-f8da61934c24>\u001b[0m in \u001b[0;36m<module>\u001b[0;34m\u001b[0m\n\u001b[0;32m----> 1\u001b[0;31m \u001b[0mmyfunc\u001b[0m\u001b[0;34m(\u001b[0m\u001b[0;36m10\u001b[0m\u001b[0;34m,\u001b[0m \u001b[0;36m20\u001b[0m\u001b[0;34m,\u001b[0m \u001b[0;36m30\u001b[0m\u001b[0;34m,\u001b[0m \u001b[0mb\u001b[0m\u001b[0;34m=\u001b[0m\u001b[0;36m40\u001b[0m\u001b[0;34m)\u001b[0m\u001b[0;34m\u001b[0m\u001b[0;34m\u001b[0m\u001b[0m\n\u001b[0m",
      "\u001b[0;31mTypeError\u001b[0m: myfunc() takes 1 positional argument but 3 positional arguments (and 1 keyword-only argument) were given"
     ]
    }
   ],
   "source": [
    "myfunc(10, 20, 30, b=40)"
   ]
  },
  {
   "cell_type": "code",
   "execution_count": 98,
   "metadata": {},
   "outputs": [
    {
     "data": {
      "text/plain": [
       "'a=2, b=4'"
      ]
     },
     "execution_count": 98,
     "metadata": {},
     "output_type": "execute_result"
    }
   ],
   "source": [
    "myfunc(a=2, b=4)"
   ]
  },
  {
   "cell_type": "code",
   "execution_count": null,
   "metadata": {},
   "outputs": [],
   "source": []
  },
  {
   "cell_type": "markdown",
   "metadata": {},
   "source": [
    "# Order of parameters\n",
    "\n",
    "- Positional-only arguments (before the `/`)\n",
    "- Mandatory (no defaults, positional or keyword)\n",
    "- Optional positional (with defaults)\n",
    "- `*args` (a tuple, containing all positional arguments that nothing else grabbed)\n",
    "- `*` by itself, if there isn't a `*args` parameter, separates positional from keyword-only\n",
    "- Mandatory keyword-only arguments\n",
    "- Optional keyword-only arguments (with defaults)\n",
    "- `**kwargs` (gets all unclaimed keyword arguments)"
   ]
  },
  {
   "cell_type": "code",
   "execution_count": 99,
   "metadata": {},
   "outputs": [
    {
     "data": {
      "text/plain": [
       "4"
      ]
     },
     "execution_count": 99,
     "metadata": {},
     "output_type": "execute_result"
    }
   ],
   "source": [
    "len('abcd')"
   ]
  },
  {
   "cell_type": "code",
   "execution_count": 100,
   "metadata": {},
   "outputs": [
    {
     "name": "stdout",
     "output_type": "stream",
     "text": [
      "Help on built-in function len in module builtins:\n",
      "\n",
      "len(obj, /)\n",
      "    Return the number of items in a container.\n",
      "\n"
     ]
    }
   ],
   "source": [
    "help(len)"
   ]
  },
  {
   "cell_type": "code",
   "execution_count": 101,
   "metadata": {},
   "outputs": [
    {
     "ename": "TypeError",
     "evalue": "len() takes no keyword arguments",
     "output_type": "error",
     "traceback": [
      "\u001b[0;31m---------------------------------------------------------------------------\u001b[0m",
      "\u001b[0;31mTypeError\u001b[0m                                 Traceback (most recent call last)",
      "\u001b[0;32m<ipython-input-101-0250fbca3ed4>\u001b[0m in \u001b[0;36m<module>\u001b[0;34m\u001b[0m\n\u001b[0;32m----> 1\u001b[0;31m \u001b[0mlen\u001b[0m\u001b[0;34m(\u001b[0m\u001b[0mobj\u001b[0m\u001b[0;34m=\u001b[0m\u001b[0;34m'abcd'\u001b[0m\u001b[0;34m)\u001b[0m\u001b[0;34m\u001b[0m\u001b[0;34m\u001b[0m\u001b[0m\n\u001b[0m",
      "\u001b[0;31mTypeError\u001b[0m: len() takes no keyword arguments"
     ]
    }
   ],
   "source": [
    "len(obj='abcd')"
   ]
  },
  {
   "cell_type": "code",
   "execution_count": 102,
   "metadata": {},
   "outputs": [],
   "source": [
    "def hello():\n",
    "    return 'Hello!'"
   ]
  },
  {
   "cell_type": "code",
   "execution_count": 103,
   "metadata": {},
   "outputs": [
    {
     "data": {
      "text/plain": [
       "b'd\\x01S\\x00'"
      ]
     },
     "execution_count": 103,
     "metadata": {},
     "output_type": "execute_result"
    }
   ],
   "source": [
    "hello.__code__.co_code"
   ]
  },
  {
   "cell_type": "code",
   "execution_count": 104,
   "metadata": {},
   "outputs": [
    {
     "name": "stdout",
     "output_type": "stream",
     "text": [
      "  2           0 LOAD_CONST               1 ('Hello!')\n",
      "              2 RETURN_VALUE\n"
     ]
    }
   ],
   "source": [
    "dis.dis(hello)"
   ]
  },
  {
   "cell_type": "code",
   "execution_count": 105,
   "metadata": {},
   "outputs": [
    {
     "data": {
      "text/plain": [
       "(None, 'Hello!')"
      ]
     },
     "execution_count": 105,
     "metadata": {},
     "output_type": "execute_result"
    }
   ],
   "source": [
    "hello.__code__.co_consts"
   ]
  },
  {
   "cell_type": "code",
   "execution_count": 106,
   "metadata": {},
   "outputs": [],
   "source": [
    "def hello(name):\n",
    "    return name"
   ]
  },
  {
   "cell_type": "code",
   "execution_count": 107,
   "metadata": {},
   "outputs": [
    {
     "name": "stdout",
     "output_type": "stream",
     "text": [
      "  2           0 LOAD_FAST                0 (name)\n",
      "              2 RETURN_VALUE\n"
     ]
    }
   ],
   "source": [
    "dis.dis(hello)"
   ]
  },
  {
   "cell_type": "code",
   "execution_count": 108,
   "metadata": {},
   "outputs": [],
   "source": [
    "x = 100\n",
    "\n",
    "def hello():\n",
    "    return x"
   ]
  },
  {
   "cell_type": "code",
   "execution_count": 109,
   "metadata": {},
   "outputs": [
    {
     "name": "stdout",
     "output_type": "stream",
     "text": [
      "  4           0 LOAD_GLOBAL              0 (x)\n",
      "              2 RETURN_VALUE\n"
     ]
    }
   ],
   "source": [
    "dis.dis(hello)"
   ]
  },
  {
   "cell_type": "code",
   "execution_count": 110,
   "metadata": {},
   "outputs": [],
   "source": [
    "def hello():\n",
    "    global name\n",
    "    name = 'hello'\n",
    "    return name"
   ]
  },
  {
   "cell_type": "code",
   "execution_count": 111,
   "metadata": {},
   "outputs": [
    {
     "name": "stdout",
     "output_type": "stream",
     "text": [
      "  3           0 LOAD_CONST               1 ('hello')\n",
      "              2 STORE_GLOBAL             0 (name)\n",
      "\n",
      "  4           4 LOAD_GLOBAL              0 (name)\n",
      "              6 RETURN_VALUE\n"
     ]
    }
   ],
   "source": [
    "dis.dis(hello)"
   ]
  },
  {
   "cell_type": "code",
   "execution_count": 112,
   "metadata": {},
   "outputs": [],
   "source": [
    "def myfunc():\n",
    "    print('Hello')"
   ]
  },
  {
   "cell_type": "code",
   "execution_count": 113,
   "metadata": {},
   "outputs": [
    {
     "name": "stdout",
     "output_type": "stream",
     "text": [
      "  2           0 LOAD_GLOBAL              0 (print)\n",
      "              2 LOAD_CONST               1 ('Hello')\n",
      "              4 CALL_FUNCTION            1\n",
      "              6 POP_TOP\n",
      "              8 LOAD_CONST               0 (None)\n",
      "             10 RETURN_VALUE\n"
     ]
    }
   ],
   "source": [
    "dis.dis(myfunc)"
   ]
  },
  {
   "cell_type": "code",
   "execution_count": 114,
   "metadata": {},
   "outputs": [],
   "source": [
    "def myfunc():\n",
    "    print('hello')\n",
    "    print('hello')\n",
    "    print('hello')"
   ]
  },
  {
   "cell_type": "code",
   "execution_count": 115,
   "metadata": {},
   "outputs": [
    {
     "name": "stdout",
     "output_type": "stream",
     "text": [
      "  2           0 LOAD_GLOBAL              0 (print)\n",
      "              2 LOAD_CONST               1 ('hello')\n",
      "              4 CALL_FUNCTION            1\n",
      "              6 POP_TOP\n",
      "\n",
      "  3           8 LOAD_GLOBAL              0 (print)\n",
      "             10 LOAD_CONST               1 ('hello')\n",
      "             12 CALL_FUNCTION            1\n",
      "             14 POP_TOP\n",
      "\n",
      "  4          16 LOAD_GLOBAL              0 (print)\n",
      "             18 LOAD_CONST               1 ('hello')\n",
      "             20 CALL_FUNCTION            1\n",
      "             22 POP_TOP\n",
      "             24 LOAD_CONST               0 (None)\n",
      "             26 RETURN_VALUE\n"
     ]
    }
   ],
   "source": [
    "dis.dis(myfunc)"
   ]
  },
  {
   "cell_type": "code",
   "execution_count": 116,
   "metadata": {},
   "outputs": [
    {
     "data": {
      "text/plain": [
       "(None, 'hello')"
      ]
     },
     "execution_count": 116,
     "metadata": {},
     "output_type": "execute_result"
    }
   ],
   "source": [
    "myfunc.__code__.co_consts"
   ]
  },
  {
   "cell_type": "code",
   "execution_count": 117,
   "metadata": {},
   "outputs": [
    {
     "data": {
      "text/plain": [
       "b't\\x00d\\x01\\x83\\x01\\x01\\x00t\\x00d\\x01\\x83\\x01\\x01\\x00t\\x00d\\x01\\x83\\x01\\x01\\x00d\\x00S\\x00'"
      ]
     },
     "execution_count": 117,
     "metadata": {},
     "output_type": "execute_result"
    }
   ],
   "source": [
    "myfunc.__code__.co_code"
   ]
  },
  {
   "cell_type": "code",
   "execution_count": 118,
   "metadata": {},
   "outputs": [
    {
     "data": {
      "text/plain": [
       "28"
      ]
     },
     "execution_count": 118,
     "metadata": {},
     "output_type": "execute_result"
    }
   ],
   "source": [
    "len(myfunc.__code__.co_code)"
   ]
  },
  {
   "cell_type": "code",
   "execution_count": 119,
   "metadata": {},
   "outputs": [],
   "source": [
    "def hello(name):\n",
    "    return f'Hello, {name}!'"
   ]
  },
  {
   "cell_type": "code",
   "execution_count": 120,
   "metadata": {},
   "outputs": [
    {
     "name": "stdout",
     "output_type": "stream",
     "text": [
      "  2           0 LOAD_CONST               1 ('Hello, ')\n",
      "              2 LOAD_FAST                0 (name)\n",
      "              4 FORMAT_VALUE             0\n",
      "              6 LOAD_CONST               2 ('!')\n",
      "              8 BUILD_STRING             3\n",
      "             10 RETURN_VALUE\n"
     ]
    }
   ],
   "source": [
    "dis.dis(hello)"
   ]
  },
  {
   "cell_type": "code",
   "execution_count": 122,
   "metadata": {},
   "outputs": [
    {
     "data": {
      "text/plain": [
       "12"
      ]
     },
     "execution_count": 122,
     "metadata": {},
     "output_type": "execute_result"
    }
   ],
   "source": [
    "len(hello.__code__.co_code)"
   ]
  },
  {
   "cell_type": "code",
   "execution_count": 123,
   "metadata": {},
   "outputs": [
    {
     "data": {
      "text/plain": [
       "b'd\\x01|\\x00\\x9b\\x00d\\x02\\x9d\\x03S\\x00'"
      ]
     },
     "execution_count": 123,
     "metadata": {},
     "output_type": "execute_result"
    }
   ],
   "source": [
    "hello.__code__.co_code"
   ]
  },
  {
   "cell_type": "markdown",
   "metadata": {},
   "source": [
    "# Remember:\n",
    "\n",
    "1. When we use `def`, we're creating a function object and assigning it to a variable.\n",
    "2. When we assign to a variable inside of a function, the variable is local.\n",
    "3. We can return any Python data structure from a function."
   ]
  },
  {
   "cell_type": "code",
   "execution_count": 124,
   "metadata": {},
   "outputs": [],
   "source": [
    "def outer():\n",
    "    def inner():\n",
    "        return f'I am from inner!'\n",
    "    return inner"
   ]
  },
  {
   "cell_type": "code",
   "execution_count": 125,
   "metadata": {},
   "outputs": [],
   "source": [
    "f = outer()"
   ]
  },
  {
   "cell_type": "code",
   "execution_count": 126,
   "metadata": {},
   "outputs": [
    {
     "data": {
      "text/plain": [
       "function"
      ]
     },
     "execution_count": 126,
     "metadata": {},
     "output_type": "execute_result"
    }
   ],
   "source": [
    "type(f)"
   ]
  },
  {
   "cell_type": "code",
   "execution_count": 127,
   "metadata": {},
   "outputs": [
    {
     "data": {
      "text/plain": [
       "'I am from inner!'"
      ]
     },
     "execution_count": 127,
     "metadata": {},
     "output_type": "execute_result"
    }
   ],
   "source": [
    "f()"
   ]
  },
  {
   "cell_type": "code",
   "execution_count": 128,
   "metadata": {},
   "outputs": [],
   "source": [
    "f2 = outer()"
   ]
  },
  {
   "cell_type": "code",
   "execution_count": 129,
   "metadata": {},
   "outputs": [
    {
     "data": {
      "text/plain": [
       "'I am from inner!'"
      ]
     },
     "execution_count": 129,
     "metadata": {},
     "output_type": "execute_result"
    }
   ],
   "source": [
    "f2()"
   ]
  },
  {
   "cell_type": "code",
   "execution_count": 138,
   "metadata": {},
   "outputs": [],
   "source": [
    "# closure -- a function that retains access to its enclosing function's local variables\n",
    "\n",
    "def outer(x):\n",
    "    def inner(y):\n",
    "        return f'Here, {x=} and {y=}'\n",
    "    return inner"
   ]
  },
  {
   "cell_type": "code",
   "execution_count": 135,
   "metadata": {},
   "outputs": [],
   "source": [
    "func1 = outer(10)\n",
    "func2 = outer(20)"
   ]
  },
  {
   "cell_type": "code",
   "execution_count": 136,
   "metadata": {},
   "outputs": [
    {
     "data": {
      "text/plain": [
       "'Here, x=10 and y=5'"
      ]
     },
     "execution_count": 136,
     "metadata": {},
     "output_type": "execute_result"
    }
   ],
   "source": [
    "func1(5)"
   ]
  },
  {
   "cell_type": "code",
   "execution_count": 137,
   "metadata": {},
   "outputs": [
    {
     "data": {
      "text/plain": [
       "'Here, x=20 and y=6'"
      ]
     },
     "execution_count": 137,
     "metadata": {},
     "output_type": "execute_result"
    }
   ],
   "source": [
    "func2(6)"
   ]
  },
  {
   "cell_type": "code",
   "execution_count": 140,
   "metadata": {},
   "outputs": [
    {
     "data": {
      "text/plain": [
       "('x',)"
      ]
     },
     "execution_count": 140,
     "metadata": {},
     "output_type": "execute_result"
    }
   ],
   "source": [
    "func1.__code__.co_freevars  # what variables come from the enclosing function?"
   ]
  },
  {
   "cell_type": "code",
   "execution_count": 142,
   "metadata": {},
   "outputs": [
    {
     "data": {
      "text/plain": [
       "('x',)"
      ]
     },
     "execution_count": 142,
     "metadata": {},
     "output_type": "execute_result"
    }
   ],
   "source": [
    "outer.__code__.co_cellvars  # what variables will be used by my inner functions?"
   ]
  },
  {
   "cell_type": "code",
   "execution_count": 143,
   "metadata": {},
   "outputs": [],
   "source": [
    "def outer(x):\n",
    "    counter = 0  # local to outer, but available to inner\n",
    "    \n",
    "    def inner(y):\n",
    "        return f'[{counter=}] Here, {x=} and {y=}'\n",
    "    return inner"
   ]
  },
  {
   "cell_type": "code",
   "execution_count": 144,
   "metadata": {},
   "outputs": [],
   "source": [
    "func1 = outer(10)"
   ]
  },
  {
   "cell_type": "code",
   "execution_count": 145,
   "metadata": {},
   "outputs": [
    {
     "data": {
      "text/plain": [
       "'[counter=0] Here, x=10 and y=5'"
      ]
     },
     "execution_count": 145,
     "metadata": {},
     "output_type": "execute_result"
    }
   ],
   "source": [
    "func1(5)"
   ]
  },
  {
   "cell_type": "code",
   "execution_count": 146,
   "metadata": {},
   "outputs": [
    {
     "data": {
      "text/plain": [
       "'[counter=0] Here, x=10 and y=6'"
      ]
     },
     "execution_count": 146,
     "metadata": {},
     "output_type": "execute_result"
    }
   ],
   "source": [
    "func1(6)"
   ]
  },
  {
   "cell_type": "code",
   "execution_count": 147,
   "metadata": {},
   "outputs": [],
   "source": [
    "def outer(x):\n",
    "    counter = 0  # local to outer, but available to inner\n",
    "    \n",
    "    def inner(y):\n",
    "        counter += 1   # this is a local variable\n",
    "        return f'[{counter=}] Here, {x=} and {y=}'\n",
    "    return inner"
   ]
  },
  {
   "cell_type": "code",
   "execution_count": 148,
   "metadata": {},
   "outputs": [],
   "source": [
    "func1 = outer(10)"
   ]
  },
  {
   "cell_type": "code",
   "execution_count": 149,
   "metadata": {},
   "outputs": [
    {
     "ename": "UnboundLocalError",
     "evalue": "local variable 'counter' referenced before assignment",
     "output_type": "error",
     "traceback": [
      "\u001b[0;31m---------------------------------------------------------------------------\u001b[0m",
      "\u001b[0;31mUnboundLocalError\u001b[0m                         Traceback (most recent call last)",
      "\u001b[0;32m<ipython-input-149-2e878e9e04cc>\u001b[0m in \u001b[0;36m<module>\u001b[0;34m\u001b[0m\n\u001b[0;32m----> 1\u001b[0;31m \u001b[0mfunc1\u001b[0m\u001b[0;34m(\u001b[0m\u001b[0;36m5\u001b[0m\u001b[0;34m)\u001b[0m\u001b[0;34m\u001b[0m\u001b[0;34m\u001b[0m\u001b[0m\n\u001b[0m",
      "\u001b[0;32m<ipython-input-147-cce86dcdeefe>\u001b[0m in \u001b[0;36minner\u001b[0;34m(y)\u001b[0m\n\u001b[1;32m      3\u001b[0m \u001b[0;34m\u001b[0m\u001b[0m\n\u001b[1;32m      4\u001b[0m     \u001b[0;32mdef\u001b[0m \u001b[0minner\u001b[0m\u001b[0;34m(\u001b[0m\u001b[0my\u001b[0m\u001b[0;34m)\u001b[0m\u001b[0;34m:\u001b[0m\u001b[0;34m\u001b[0m\u001b[0;34m\u001b[0m\u001b[0m\n\u001b[0;32m----> 5\u001b[0;31m         \u001b[0mcounter\u001b[0m \u001b[0;34m+=\u001b[0m \u001b[0;36m1\u001b[0m\u001b[0;34m\u001b[0m\u001b[0;34m\u001b[0m\u001b[0m\n\u001b[0m\u001b[1;32m      6\u001b[0m         \u001b[0;32mreturn\u001b[0m \u001b[0;34mf'[{counter=}] Here, {x=} and {y=}'\u001b[0m\u001b[0;34m\u001b[0m\u001b[0;34m\u001b[0m\u001b[0m\n\u001b[1;32m      7\u001b[0m     \u001b[0;32mreturn\u001b[0m \u001b[0minner\u001b[0m\u001b[0;34m\u001b[0m\u001b[0;34m\u001b[0m\u001b[0m\n",
      "\u001b[0;31mUnboundLocalError\u001b[0m: local variable 'counter' referenced before assignment"
     ]
    }
   ],
   "source": [
    "func1(5)"
   ]
  },
  {
   "cell_type": "code",
   "execution_count": 150,
   "metadata": {},
   "outputs": [],
   "source": [
    "def outer(x):\n",
    "    counter = 0  # local to outer, but available to inner\n",
    "    \n",
    "    def inner(y):\n",
    "        nonlocal counter  # any assignment to counter goes to the outer scope\n",
    "        counter += 1   \n",
    "        return f'[{counter=}] Here, {x=} and {y=}'\n",
    "    return inner"
   ]
  },
  {
   "cell_type": "code",
   "execution_count": 151,
   "metadata": {},
   "outputs": [],
   "source": [
    "func1 = outer(10)"
   ]
  },
  {
   "cell_type": "code",
   "execution_count": 152,
   "metadata": {},
   "outputs": [
    {
     "data": {
      "text/plain": [
       "'[counter=1] Here, x=10 and y=5'"
      ]
     },
     "execution_count": 152,
     "metadata": {},
     "output_type": "execute_result"
    }
   ],
   "source": [
    "func1(5)"
   ]
  },
  {
   "cell_type": "code",
   "execution_count": 153,
   "metadata": {},
   "outputs": [
    {
     "data": {
      "text/plain": [
       "'[counter=2] Here, x=10 and y=6'"
      ]
     },
     "execution_count": 153,
     "metadata": {},
     "output_type": "execute_result"
    }
   ],
   "source": [
    "func1(6)"
   ]
  },
  {
   "cell_type": "code",
   "execution_count": 154,
   "metadata": {},
   "outputs": [
    {
     "data": {
      "text/plain": [
       "'[counter=3] Here, x=10 and y=7'"
      ]
     },
     "execution_count": 154,
     "metadata": {},
     "output_type": "execute_result"
    }
   ],
   "source": [
    "func1(7)"
   ]
  },
  {
   "cell_type": "markdown",
   "metadata": {},
   "source": [
    "# Exercise: password generator generator\n",
    "\n",
    "1. Write a function, `make_password_generator`, which takes one argument, a string.\n",
    "2. It should return a function (`make_password`) that takes an integer as an argument.\n",
    "3. When the inner function is called, it should return a string of the stated length, with each character taken from the outer function's argument.\n",
    "\n",
    "It'll help to know that `random.choice(data)` returns one random element from the sequence `data`."
   ]
  },
  {
   "cell_type": "code",
   "execution_count": 156,
   "metadata": {},
   "outputs": [],
   "source": [
    "import random\n",
    "\n",
    "def make_password_generator(s):\n",
    "    def make_password(n):\n",
    "        output = ''\n",
    "        for i in range(n):\n",
    "            output += random.choice(s)\n",
    "        return output\n",
    "    return make_password\n",
    "\n",
    "make_alpha_password = make_password_generator('abcde')\n",
    "pw1 = make_alpha_password(5)\n",
    "pw2 = make_alpha_password(10)\n",
    "\n"
   ]
  },
  {
   "cell_type": "code",
   "execution_count": 157,
   "metadata": {},
   "outputs": [
    {
     "data": {
      "text/plain": [
       "'beade'"
      ]
     },
     "execution_count": 157,
     "metadata": {},
     "output_type": "execute_result"
    }
   ],
   "source": [
    "pw1"
   ]
  },
  {
   "cell_type": "code",
   "execution_count": 158,
   "metadata": {},
   "outputs": [
    {
     "data": {
      "text/plain": [
       "'cdccacadad'"
      ]
     },
     "execution_count": 158,
     "metadata": {},
     "output_type": "execute_result"
    }
   ],
   "source": [
    "pw2"
   ]
  },
  {
   "cell_type": "code",
   "execution_count": 159,
   "metadata": {},
   "outputs": [],
   "source": [
    "make_symbol_password = make_password_generator('!@#$%^&*()_+')\n",
    "pw3 = make_symbol_password(5)\n",
    "pw4 = make_symbol_password(10)\n"
   ]
  },
  {
   "cell_type": "code",
   "execution_count": 160,
   "metadata": {},
   "outputs": [
    {
     "data": {
      "text/plain": [
       "'$#^_&'"
      ]
     },
     "execution_count": 160,
     "metadata": {},
     "output_type": "execute_result"
    }
   ],
   "source": [
    "pw3"
   ]
  },
  {
   "cell_type": "code",
   "execution_count": 161,
   "metadata": {},
   "outputs": [
    {
     "data": {
      "text/plain": [
       "'@)@_+$!@&&'"
      ]
     },
     "execution_count": 161,
     "metadata": {},
     "output_type": "execute_result"
    }
   ],
   "source": [
    "pw4"
   ]
  },
  {
   "cell_type": "code",
   "execution_count": null,
   "metadata": {},
   "outputs": [],
   "source": [
    "import random\n",
    "\n",
    "def make_password_generator(s):\n",
    "    def make_password(n):\n",
    "        return ''.join([random.choice(s)\n",
    "                        for i in range(n)])\n",
    "    return make_password\n",
    "\n",
    "make_alpha_password = make_password_generator('abcde')\n",
    "pw1 = make_alpha_password(5)\n",
    "pw2 = make_alpha_password(10)\n",
    "\n"
   ]
  },
  {
   "cell_type": "code",
   "execution_count": 163,
   "metadata": {},
   "outputs": [
    {
     "name": "stdout",
     "output_type": "stream",
     "text": [
      "Enter a choice: a\n",
      "I'm in A!\n",
      "Enter a choice: b\n",
      "I'm in B!\n",
      "Enter a choice: c\n",
      "c is not a valid option\n",
      "Enter a choice: \n"
     ]
    }
   ],
   "source": [
    "def a():\n",
    "    return \"I'm in A!\"\n",
    "\n",
    "def b():\n",
    "    return \"I'm in B!\"\n",
    "\n",
    "while s := input('Enter a choice: ').strip():\n",
    "    if s == 'a':\n",
    "        print(a())\n",
    "    elif s == 'b':\n",
    "        print(b())\n",
    "    else:\n",
    "        print(f'{s} is not a valid option')"
   ]
  },
  {
   "cell_type": "code",
   "execution_count": 164,
   "metadata": {},
   "outputs": [
    {
     "name": "stdout",
     "output_type": "stream",
     "text": [
      "Enter a choice: a\n",
      "I'm in A!\n",
      "Enter a choice: b\n",
      "I'm in B!\n",
      "Enter a choice: c\n",
      "c is not a valid option\n",
      "Enter a choice: \n"
     ]
    }
   ],
   "source": [
    "def a():\n",
    "    return \"I'm in A!\"\n",
    "\n",
    "def b():\n",
    "    return \"I'm in B!\"\n",
    "\n",
    "# dispatch table\n",
    "ops = {'a':a,\n",
    "       'b':b}\n",
    "\n",
    "while s := input('Enter a choice: ').strip():\n",
    "    if s in ops:\n",
    "        print(ops[s]())\n",
    "    else:\n",
    "        print(f'{s} is not a valid option')"
   ]
  },
  {
   "cell_type": "code",
   "execution_count": 165,
   "metadata": {},
   "outputs": [],
   "source": [
    "def hello(name):\n",
    "    return f'Hello, {name}!'"
   ]
  },
  {
   "cell_type": "code",
   "execution_count": 167,
   "metadata": {},
   "outputs": [
    {
     "data": {
      "text/plain": [
       "<function __main__.hello(name)>"
      ]
     },
     "execution_count": 167,
     "metadata": {},
     "output_type": "execute_result"
    }
   ],
   "source": [
    "globals()['hello']"
   ]
  },
  {
   "cell_type": "code",
   "execution_count": 169,
   "metadata": {},
   "outputs": [
    {
     "data": {
      "text/plain": [
       "'yes'"
      ]
     },
     "execution_count": 169,
     "metadata": {},
     "output_type": "execute_result"
    }
   ],
   "source": [
    "x = 10\n",
    "\n",
    "'yes' if x == 10 else 'no'"
   ]
  },
  {
   "cell_type": "markdown",
   "metadata": {},
   "source": [
    "# Exercise: Calculator\n",
    "\n",
    "1. Ask the user repeatedly to enter a math expression in prefix notation, meaning `+ 2 3`.\n",
    "2. You should expect only two numbers, and the operators can be `+`, `-`, `/`, and `*`.\n",
    "3. If the user enters one one of the expected operators, then invoke the appropriate function and print the result.  \n",
    "4. If the user enters an unexpected operator, print an error message. (And let them try again.)\n",
    "5. If the user enters an empty string, then stop asking.\n",
    "6. Use a dispatch table (i.e., a dict with functions) to implement your calculator's functionality."
   ]
  },
  {
   "cell_type": "code",
   "execution_count": 171,
   "metadata": {},
   "outputs": [
    {
     "name": "stdout",
     "output_type": "stream",
     "text": [
      "Enter math expression: + 2 2\n",
      "4\n",
      "Enter math expression: - 10 3\n",
      "7\n",
      "Enter math expression: \n"
     ]
    }
   ],
   "source": [
    "def add(a, b):\n",
    "    return a + b\n",
    "\n",
    "def sub(a, b):\n",
    "    return a - b\n",
    "\n",
    "def div(a, b):\n",
    "    return a / b\n",
    "\n",
    "def mul(a, b):\n",
    "    return a * b\n",
    "\n",
    "ops = {'+':add,\n",
    "      '-':sub,\n",
    "      '/':div,\n",
    "      '*':mul}\n",
    "\n",
    "while s := input('Enter math expression: ').strip():\n",
    "    op, *numbers = s.split()\n",
    "    \n",
    "    int_numbers = []\n",
    "    for one_number in numbers:\n",
    "        int_numbers.append(int(one_number))\n",
    "    \n",
    "    if op in ops:\n",
    "        print(ops[op](*int_numbers))\n",
    "    else:\n",
    "        print(f'No such operator {op}')"
   ]
  },
  {
   "cell_type": "code",
   "execution_count": 173,
   "metadata": {},
   "outputs": [
    {
     "name": "stdout",
     "output_type": "stream",
     "text": [
      "Enter math expression: / 10 5\n",
      "2.0\n",
      "Enter math expression: * 5 3\n",
      "15\n",
      "Enter math expression: \n"
     ]
    }
   ],
   "source": [
    "def add(a, b):\n",
    "    return a + b\n",
    "\n",
    "def sub(a, b):\n",
    "    return a - b\n",
    "\n",
    "def div(a, b):\n",
    "    return a / b\n",
    "\n",
    "def mul(a, b):\n",
    "    return a * b\n",
    "\n",
    "ops = {'+':add,\n",
    "      '-':sub,\n",
    "      '/':div,\n",
    "      '*':mul}\n",
    "\n",
    "while s := input('Enter math expression: ').strip():\n",
    "    op, *numbers = s.split()\n",
    "    \n",
    "    if op in ops:\n",
    "        print(ops[op](*[int(one_number)\n",
    "                        for one_number in numbers]))\n",
    "    else:\n",
    "        print(f'No such operator {op}')"
   ]
  },
  {
   "cell_type": "code",
   "execution_count": 174,
   "metadata": {},
   "outputs": [
    {
     "name": "stdout",
     "output_type": "stream",
     "text": [
      "Enter math expression: * 10 5\n",
      "50\n",
      "Enter math expression: + 2 3\n",
      "5\n",
      "Enter math expression: \n"
     ]
    }
   ],
   "source": [
    "import operator\n",
    "\n",
    "ops = {'+':operator.add,\n",
    "      '-':operator.sub,\n",
    "      '/':operator.truediv,\n",
    "      '*':operator.mul}\n",
    "\n",
    "while s := input('Enter math expression: ').strip():\n",
    "    op, *numbers = s.split()\n",
    "    \n",
    "    if op in ops:\n",
    "        print(ops[op](*[int(one_number)\n",
    "                        for one_number in numbers]))\n",
    "    else:\n",
    "        print(f'No such operator {op}')"
   ]
  },
  {
   "cell_type": "markdown",
   "metadata": {},
   "source": [
    "# Functional programming\n",
    "\n",
    "1. Treat all data as immutable.\n",
    "2. Avoid assignment as much as possible.\n",
    "3. Treat functions as nouns, not just verbs."
   ]
  },
  {
   "cell_type": "markdown",
   "metadata": {},
   "source": [
    "# Topics in functional programming\n",
    "\n",
    "1. Comprehensions\n",
    "   - List comprehensions\n",
    "   - Dict comprehensions\n",
    "   - Set comprehensions\n",
    "   - Nested comprehensions\n",
    "2. Sorting and key functions\n",
    "3. `lambda`\n",
    "4. `map`, `filter`, and `reduce`"
   ]
  },
  {
   "cell_type": "code",
   "execution_count": 175,
   "metadata": {},
   "outputs": [
    {
     "data": {
      "text/plain": [
       "[0, 1, 2, 3, 4, 5, 6, 7, 8, 9]"
      ]
     },
     "execution_count": 175,
     "metadata": {},
     "output_type": "execute_result"
    }
   ],
   "source": [
    "numbers = list(range(10))\n",
    "numbers"
   ]
  },
  {
   "cell_type": "code",
   "execution_count": 176,
   "metadata": {},
   "outputs": [],
   "source": [
    "# I want a list of these numbers, squared\n",
    "\n",
    "# traditionally, I would write:\n",
    "\n",
    "output = []\n",
    "\n",
    "for one_number in numbers:\n",
    "    output.append(one_number ** 2)"
   ]
  },
  {
   "cell_type": "code",
   "execution_count": 177,
   "metadata": {},
   "outputs": [
    {
     "data": {
      "text/plain": [
       "[0, 1, 4, 9, 16, 25, 36, 49, 64, 81]"
      ]
     },
     "execution_count": 177,
     "metadata": {},
     "output_type": "execute_result"
    }
   ],
   "source": [
    "output"
   ]
  },
  {
   "cell_type": "code",
   "execution_count": 178,
   "metadata": {},
   "outputs": [
    {
     "data": {
      "text/plain": [
       "[0, 1, 4, 9, 16, 25, 36, 49, 64, 81]"
      ]
     },
     "execution_count": 178,
     "metadata": {},
     "output_type": "execute_result"
    }
   ],
   "source": [
    "# the better way is: list comprehensions\n",
    "\n",
    "[one_number ** 2            # ANY VALID expression -- SELECT\n",
    " for one_number in numbers] # ANY VALID iteration  -- FROM"
   ]
  },
  {
   "cell_type": "code",
   "execution_count": 179,
   "metadata": {},
   "outputs": [
    {
     "name": "stdout",
     "output_type": "stream",
     "text": [
      "0\n",
      "1\n",
      "4\n",
      "9\n",
      "16\n",
      "25\n",
      "36\n",
      "49\n",
      "64\n",
      "81\n"
     ]
    },
    {
     "data": {
      "text/plain": [
       "[None, None, None, None, None, None, None, None, None, None]"
      ]
     },
     "execution_count": 179,
     "metadata": {},
     "output_type": "execute_result"
    }
   ],
   "source": [
    "[print(one_number ** 2)            # ANY VALID expression -- SELECT\n",
    " for one_number in numbers] # ANY VALID iteration  -- FROM"
   ]
  },
  {
   "cell_type": "code",
   "execution_count": 182,
   "metadata": {},
   "outputs": [
    {
     "data": {
      "text/plain": [
       "150"
      ]
     },
     "execution_count": 182,
     "metadata": {},
     "output_type": "execute_result"
    }
   ],
   "source": [
    "s = '10 20 30 40 50'\n",
    "\n",
    "# I want to sum these numbers\n",
    "sum([int(one_number)\n",
    "     for one_number in s.split()])"
   ]
  },
  {
   "cell_type": "code",
   "execution_count": 183,
   "metadata": {},
   "outputs": [
    {
     "data": {
      "text/plain": [
       "[10, 20, 30, 40, 50]"
      ]
     },
     "execution_count": 183,
     "metadata": {},
     "output_type": "execute_result"
    }
   ],
   "source": [
    "[int(one_number)\n",
    "     for one_number in s.split()]"
   ]
  },
  {
   "cell_type": "markdown",
   "metadata": {},
   "source": [
    "# Exercises: Comprehensions\n",
    "\n",
    "1. Ask the user to enter a string. Using a comprehension, find out how many non-whitespace characters the string contains.\n",
    "2. Ask the user to enter a sentence. Use a comprehension to return the sentence, but with each word capitalized. The result should be the same as running `str.title` on the string. But don't use `str.title`! You may use `str.capitalize`, if you want."
   ]
  },
  {
   "cell_type": "code",
   "execution_count": 184,
   "metadata": {},
   "outputs": [
    {
     "name": "stdout",
     "output_type": "stream",
     "text": [
      "Enter a sentence: this is a very interesting sentence\n"
     ]
    }
   ],
   "source": [
    "s = input('Enter a sentence: ').strip()"
   ]
  },
  {
   "cell_type": "code",
   "execution_count": 185,
   "metadata": {},
   "outputs": [
    {
     "data": {
      "text/plain": [
       "35"
      ]
     },
     "execution_count": 185,
     "metadata": {},
     "output_type": "execute_result"
    }
   ],
   "source": [
    "len(s)"
   ]
  },
  {
   "cell_type": "code",
   "execution_count": 187,
   "metadata": {},
   "outputs": [
    {
     "data": {
      "text/plain": [
       "30"
      ]
     },
     "execution_count": 187,
     "metadata": {},
     "output_type": "execute_result"
    }
   ],
   "source": [
    "len(s.replace(' ', ''))"
   ]
  },
  {
   "cell_type": "code",
   "execution_count": 190,
   "metadata": {},
   "outputs": [
    {
     "data": {
      "text/plain": [
       "30"
      ]
     },
     "execution_count": 190,
     "metadata": {},
     "output_type": "execute_result"
    }
   ],
   "source": [
    "sum([len(one_word)\n",
    " for one_word in s.split()])"
   ]
  },
  {
   "cell_type": "code",
   "execution_count": 191,
   "metadata": {},
   "outputs": [
    {
     "data": {
      "text/plain": [
       "'this is a very interesting sentence'"
      ]
     },
     "execution_count": 191,
     "metadata": {},
     "output_type": "execute_result"
    }
   ],
   "source": [
    "s"
   ]
  },
  {
   "cell_type": "code",
   "execution_count": 192,
   "metadata": {},
   "outputs": [
    {
     "data": {
      "text/plain": [
       "'This Is A Very Interesting Sentence'"
      ]
     },
     "execution_count": 192,
     "metadata": {},
     "output_type": "execute_result"
    }
   ],
   "source": [
    "s.title()"
   ]
  },
  {
   "cell_type": "code",
   "execution_count": 193,
   "metadata": {},
   "outputs": [
    {
     "data": {
      "text/plain": [
       "'This is a very interesting sentence'"
      ]
     },
     "execution_count": 193,
     "metadata": {},
     "output_type": "execute_result"
    }
   ],
   "source": [
    "s.capitalize()"
   ]
  },
  {
   "cell_type": "code",
   "execution_count": 196,
   "metadata": {},
   "outputs": [
    {
     "data": {
      "text/plain": [
       "'This Is A Very Interesting Sentence'"
      ]
     },
     "execution_count": 196,
     "metadata": {},
     "output_type": "execute_result"
    }
   ],
   "source": [
    "' '.join([one_word.capitalize()\n",
    "          for one_word in s.split()])"
   ]
  },
  {
   "cell_type": "code",
   "execution_count": 199,
   "metadata": {},
   "outputs": [
    {
     "data": {
      "text/plain": [
       "['abcd', 'efgh', 'ij']"
      ]
     },
     "execution_count": 199,
     "metadata": {},
     "output_type": "execute_result"
    }
   ],
   "source": [
    "mylist = 'abcd efgh ij'.split()\n",
    "mylist"
   ]
  },
  {
   "cell_type": "code",
   "execution_count": 200,
   "metadata": {},
   "outputs": [
    {
     "data": {
      "text/plain": [
       "'abcd*efgh*ij'"
      ]
     },
     "execution_count": 200,
     "metadata": {},
     "output_type": "execute_result"
    }
   ],
   "source": [
    "'*'.join(mylist)    # GLUE.join(ITERABLE)"
   ]
  },
  {
   "cell_type": "code",
   "execution_count": 201,
   "metadata": {},
   "outputs": [
    {
     "data": {
      "text/plain": [
       "['this', 'is', 'a', 'very', 'interesting', 'sentence']"
      ]
     },
     "execution_count": 201,
     "metadata": {},
     "output_type": "execute_result"
    }
   ],
   "source": [
    "s.split()"
   ]
  },
  {
   "cell_type": "code",
   "execution_count": 203,
   "metadata": {},
   "outputs": [
    {
     "data": {
      "text/plain": [
       "'this***is***a***very***interesting***sentence'"
      ]
     },
     "execution_count": 203,
     "metadata": {},
     "output_type": "execute_result"
    }
   ],
   "source": [
    "'***'.join(s.split())"
   ]
  },
  {
   "cell_type": "code",
   "execution_count": 204,
   "metadata": {},
   "outputs": [
    {
     "data": {
      "text/plain": [
       "'this*is*a*very*interesting*sentence'"
      ]
     },
     "execution_count": 204,
     "metadata": {},
     "output_type": "execute_result"
    }
   ],
   "source": [
    "'*'.join([one_word\n",
    "          for one_word in s.split()])"
   ]
  },
  {
   "cell_type": "code",
   "execution_count": 205,
   "metadata": {},
   "outputs": [
    {
     "data": {
      "text/plain": [
       "'THIS*IS*A*VERY*INTERESTING*SENTENCE'"
      ]
     },
     "execution_count": 205,
     "metadata": {},
     "output_type": "execute_result"
    }
   ],
   "source": [
    "'*'.join([one_word.upper()\n",
    "          for one_word in s.split()])"
   ]
  },
  {
   "cell_type": "code",
   "execution_count": 206,
   "metadata": {},
   "outputs": [
    {
     "data": {
      "text/plain": [
       "'t*i*a*v*i*s'"
      ]
     },
     "execution_count": 206,
     "metadata": {},
     "output_type": "execute_result"
    }
   ],
   "source": [
    "'*'.join([one_word[0]\n",
    "          for one_word in s.split()])"
   ]
  },
  {
   "cell_type": "code",
   "execution_count": 207,
   "metadata": {},
   "outputs": [
    {
     "data": {
      "text/plain": [
       "'This*Is*A*Very*Interesting*Sentence'"
      ]
     },
     "execution_count": 207,
     "metadata": {},
     "output_type": "execute_result"
    }
   ],
   "source": [
    "'*'.join([one_word.capitalize()\n",
    "          for one_word in s.split()])"
   ]
  },
  {
   "cell_type": "code",
   "execution_count": 208,
   "metadata": {},
   "outputs": [
    {
     "data": {
      "text/plain": [
       "'This Is A Very Interesting Sentence'"
      ]
     },
     "execution_count": 208,
     "metadata": {},
     "output_type": "execute_result"
    }
   ],
   "source": [
    "' '.join([one_word.capitalize()\n",
    "          for one_word in s.split()])"
   ]
  },
  {
   "cell_type": "code",
   "execution_count": 210,
   "metadata": {},
   "outputs": [
    {
     "data": {
      "text/plain": [
       "[['##\\n'],\n",
       " ['# User Database\\n'],\n",
       " ['# \\n'],\n",
       " ['# Note that this file is consulted directly only when the system is running\\n'],\n",
       " ['# in single-user mode.  At other times this information is provided by\\n'],\n",
       " ['# Open Directory.\\n'],\n",
       " ['#\\n'],\n",
       " ['# See the opendirectoryd(8) man page for additional information about\\n'],\n",
       " ['# Open Directory.\\n'],\n",
       " ['##\\n'],\n",
       " ['nobody',\n",
       "  '*',\n",
       "  '-2',\n",
       "  '-2',\n",
       "  'Unprivileged User',\n",
       "  '/var/empty',\n",
       "  '/usr/bin/false\\n'],\n",
       " ['root', '*', '0', '0', 'System Administrator', '/var/root', '/bin/sh\\n'],\n",
       " ['daemon', '*', '1', '1', 'System Services', '/var/root', '/usr/bin/false\\n'],\n",
       " ['_uucp',\n",
       "  '*',\n",
       "  '4',\n",
       "  '4',\n",
       "  'Unix to Unix Copy Protocol',\n",
       "  '/var/spool/uucp',\n",
       "  '/usr/sbin/uucico\\n'],\n",
       " ['_taskgated',\n",
       "  '*',\n",
       "  '13',\n",
       "  '13',\n",
       "  'Task Gate Daemon',\n",
       "  '/var/empty',\n",
       "  '/usr/bin/false\\n'],\n",
       " ['_networkd',\n",
       "  '*',\n",
       "  '24',\n",
       "  '24',\n",
       "  'Network Services',\n",
       "  '/var/networkd',\n",
       "  '/usr/bin/false\\n'],\n",
       " ['_installassistant',\n",
       "  '*',\n",
       "  '25',\n",
       "  '25',\n",
       "  'Install Assistant',\n",
       "  '/var/empty',\n",
       "  '/usr/bin/false\\n'],\n",
       " ['_lp',\n",
       "  '*',\n",
       "  '26',\n",
       "  '26',\n",
       "  'Printing Services',\n",
       "  '/var/spool/cups',\n",
       "  '/usr/bin/false\\n'],\n",
       " ['_postfix',\n",
       "  '*',\n",
       "  '27',\n",
       "  '27',\n",
       "  'Postfix Mail Server',\n",
       "  '/var/spool/postfix',\n",
       "  '/usr/bin/false\\n'],\n",
       " ['_scsd',\n",
       "  '*',\n",
       "  '31',\n",
       "  '31',\n",
       "  'Service Configuration Service',\n",
       "  '/var/empty',\n",
       "  '/usr/bin/false\\n'],\n",
       " ['_ces',\n",
       "  '*',\n",
       "  '32',\n",
       "  '32',\n",
       "  'Certificate Enrollment Service',\n",
       "  '/var/empty',\n",
       "  '/usr/bin/false\\n'],\n",
       " ['_appstore',\n",
       "  '*',\n",
       "  '33',\n",
       "  '33',\n",
       "  'Mac App Store Service',\n",
       "  '/var/db/appstore',\n",
       "  '/usr/bin/false\\n'],\n",
       " ['_mcxalr',\n",
       "  '*',\n",
       "  '54',\n",
       "  '54',\n",
       "  'MCX AppLaunch',\n",
       "  '/var/empty',\n",
       "  '/usr/bin/false\\n'],\n",
       " ['_appleevents',\n",
       "  '*',\n",
       "  '55',\n",
       "  '55',\n",
       "  'AppleEvents Daemon',\n",
       "  '/var/empty',\n",
       "  '/usr/bin/false\\n'],\n",
       " ['_geod',\n",
       "  '*',\n",
       "  '56',\n",
       "  '56',\n",
       "  'Geo Services Daemon',\n",
       "  '/var/db/geod',\n",
       "  '/usr/bin/false\\n'],\n",
       " ['_devdocs',\n",
       "  '*',\n",
       "  '59',\n",
       "  '59',\n",
       "  'Developer Documentation',\n",
       "  '/var/empty',\n",
       "  '/usr/bin/false\\n'],\n",
       " ['_sandbox', '*', '60', '60', 'Seatbelt', '/var/empty', '/usr/bin/false\\n'],\n",
       " ['_mdnsresponder',\n",
       "  '*',\n",
       "  '65',\n",
       "  '65',\n",
       "  'mDNSResponder',\n",
       "  '/var/empty',\n",
       "  '/usr/bin/false\\n'],\n",
       " ['_ard',\n",
       "  '*',\n",
       "  '67',\n",
       "  '67',\n",
       "  'Apple Remote Desktop',\n",
       "  '/var/empty',\n",
       "  '/usr/bin/false\\n'],\n",
       " ['_www',\n",
       "  '*',\n",
       "  '70',\n",
       "  '70',\n",
       "  'World Wide Web Server',\n",
       "  '/Library/WebServer',\n",
       "  '/usr/bin/false\\n'],\n",
       " ['_eppc',\n",
       "  '*',\n",
       "  '71',\n",
       "  '71',\n",
       "  'Apple Events User',\n",
       "  '/var/empty',\n",
       "  '/usr/bin/false\\n'],\n",
       " ['_cvs', '*', '72', '72', 'CVS Server', '/var/empty', '/usr/bin/false\\n'],\n",
       " ['_svn', '*', '73', '73', 'SVN Server', '/var/empty', '/usr/bin/false\\n'],\n",
       " ['_mysql', '*', '74', '74', 'MySQL Server', '/var/empty', '/usr/bin/false\\n'],\n",
       " ['_sshd',\n",
       "  '*',\n",
       "  '75',\n",
       "  '75',\n",
       "  'sshd Privilege separation',\n",
       "  '/var/empty',\n",
       "  '/usr/bin/false\\n'],\n",
       " ['_qtss',\n",
       "  '*',\n",
       "  '76',\n",
       "  '76',\n",
       "  'QuickTime Streaming Server',\n",
       "  '/var/empty',\n",
       "  '/usr/bin/false\\n'],\n",
       " ['_cyrus',\n",
       "  '*',\n",
       "  '77',\n",
       "  '6',\n",
       "  'Cyrus Administrator',\n",
       "  '/var/imap',\n",
       "  '/usr/bin/false\\n'],\n",
       " ['_mailman',\n",
       "  '*',\n",
       "  '78',\n",
       "  '78',\n",
       "  'Mailman List Server',\n",
       "  '/var/empty',\n",
       "  '/usr/bin/false\\n'],\n",
       " ['_appserver',\n",
       "  '*',\n",
       "  '79',\n",
       "  '79',\n",
       "  'Application Server',\n",
       "  '/var/empty',\n",
       "  '/usr/bin/false\\n'],\n",
       " ['_clamav',\n",
       "  '*',\n",
       "  '82',\n",
       "  '82',\n",
       "  'ClamAV Daemon',\n",
       "  '/var/virusmails',\n",
       "  '/usr/bin/false\\n'],\n",
       " ['_amavisd',\n",
       "  '*',\n",
       "  '83',\n",
       "  '83',\n",
       "  'AMaViS Daemon',\n",
       "  '/var/virusmails',\n",
       "  '/usr/bin/false\\n'],\n",
       " ['_jabber',\n",
       "  '*',\n",
       "  '84',\n",
       "  '84',\n",
       "  'Jabber XMPP Server',\n",
       "  '/var/empty',\n",
       "  '/usr/bin/false\\n'],\n",
       " ['_appowner',\n",
       "  '*',\n",
       "  '87',\n",
       "  '87',\n",
       "  'Application Owner',\n",
       "  '/var/empty',\n",
       "  '/usr/bin/false\\n'],\n",
       " ['_windowserver',\n",
       "  '*',\n",
       "  '88',\n",
       "  '88',\n",
       "  'WindowServer',\n",
       "  '/var/empty',\n",
       "  '/usr/bin/false\\n'],\n",
       " ['_spotlight',\n",
       "  '*',\n",
       "  '89',\n",
       "  '89',\n",
       "  'Spotlight',\n",
       "  '/var/empty',\n",
       "  '/usr/bin/false\\n'],\n",
       " ['_tokend',\n",
       "  '*',\n",
       "  '91',\n",
       "  '91',\n",
       "  'Token Daemon',\n",
       "  '/var/empty',\n",
       "  '/usr/bin/false\\n'],\n",
       " ['_securityagent',\n",
       "  '*',\n",
       "  '92',\n",
       "  '92',\n",
       "  'SecurityAgent',\n",
       "  '/var/db/securityagent',\n",
       "  '/usr/bin/false\\n'],\n",
       " ['_calendar', '*', '93', '93', 'Calendar', '/var/empty', '/usr/bin/false\\n'],\n",
       " ['_teamsserver',\n",
       "  '*',\n",
       "  '94',\n",
       "  '94',\n",
       "  'TeamsServer',\n",
       "  '/var/teamsserver',\n",
       "  '/usr/bin/false\\n'],\n",
       " ['_update_sharing',\n",
       "  '*',\n",
       "  '95',\n",
       "  '-2',\n",
       "  'Update Sharing',\n",
       "  '/var/empty',\n",
       "  '/usr/bin/false\\n'],\n",
       " ['_installer',\n",
       "  '*',\n",
       "  '96',\n",
       "  '-2',\n",
       "  'Installer',\n",
       "  '/var/empty',\n",
       "  '/usr/bin/false\\n'],\n",
       " ['_atsserver',\n",
       "  '*',\n",
       "  '97',\n",
       "  '97',\n",
       "  'ATS Server',\n",
       "  '/var/empty',\n",
       "  '/usr/bin/false\\n'],\n",
       " ['_ftp', '*', '98', '-2', 'FTP Daemon', '/var/empty', '/usr/bin/false\\n'],\n",
       " ['_unknown',\n",
       "  '*',\n",
       "  '99',\n",
       "  '99',\n",
       "  'Unknown User',\n",
       "  '/var/empty',\n",
       "  '/usr/bin/false\\n'],\n",
       " ['_softwareupdate',\n",
       "  '*',\n",
       "  '200',\n",
       "  '200',\n",
       "  'Software Update Service',\n",
       "  '/var/db/softwareupdate',\n",
       "  '/usr/bin/false\\n'],\n",
       " ['_coreaudiod',\n",
       "  '*',\n",
       "  '202',\n",
       "  '202',\n",
       "  'Core Audio Daemon',\n",
       "  '/var/empty',\n",
       "  '/usr/bin/false\\n'],\n",
       " ['_screensaver',\n",
       "  '*',\n",
       "  '203',\n",
       "  '203',\n",
       "  'Screensaver',\n",
       "  '/var/empty',\n",
       "  '/usr/bin/false\\n'],\n",
       " ['_locationd',\n",
       "  '*',\n",
       "  '205',\n",
       "  '205',\n",
       "  'Location Daemon',\n",
       "  '/var/db/locationd',\n",
       "  '/usr/bin/false\\n'],\n",
       " ['_trustevaluationagent',\n",
       "  '*',\n",
       "  '208',\n",
       "  '208',\n",
       "  'Trust Evaluation Agent',\n",
       "  '/var/empty',\n",
       "  '/usr/bin/false\\n'],\n",
       " ['_timezone',\n",
       "  '*',\n",
       "  '210',\n",
       "  '210',\n",
       "  'AutoTimeZoneDaemon',\n",
       "  '/var/empty',\n",
       "  '/usr/bin/false\\n'],\n",
       " ['_lda',\n",
       "  '*',\n",
       "  '211',\n",
       "  '211',\n",
       "  'Local Delivery Agent',\n",
       "  '/var/empty',\n",
       "  '/usr/bin/false\\n'],\n",
       " ['_cvmsroot',\n",
       "  '*',\n",
       "  '212',\n",
       "  '212',\n",
       "  'CVMS Root',\n",
       "  '/var/empty',\n",
       "  '/usr/bin/false\\n'],\n",
       " ['_usbmuxd',\n",
       "  '*',\n",
       "  '213',\n",
       "  '213',\n",
       "  'iPhone OS Device Helper',\n",
       "  '/var/db/lockdown',\n",
       "  '/usr/bin/false\\n'],\n",
       " ['_dovecot',\n",
       "  '*',\n",
       "  '214',\n",
       "  '6',\n",
       "  'Dovecot Administrator',\n",
       "  '/var/empty',\n",
       "  '/usr/bin/false\\n'],\n",
       " ['_dpaudio', '*', '215', '215', 'DP Audio', '/var/empty', '/usr/bin/false\\n'],\n",
       " ['_postgres',\n",
       "  '*',\n",
       "  '216',\n",
       "  '216',\n",
       "  'PostgreSQL Server',\n",
       "  '/var/empty',\n",
       "  '/usr/bin/false\\n'],\n",
       " ['_krbtgt',\n",
       "  '*',\n",
       "  '217',\n",
       "  '-2',\n",
       "  'Kerberos Ticket Granting Ticket',\n",
       "  '/var/empty',\n",
       "  '/usr/bin/false\\n'],\n",
       " ['_kadmin_admin',\n",
       "  '*',\n",
       "  '218',\n",
       "  '-2',\n",
       "  'Kerberos Admin Service',\n",
       "  '/var/empty',\n",
       "  '/usr/bin/false\\n'],\n",
       " ['_kadmin_changepw',\n",
       "  '*',\n",
       "  '219',\n",
       "  '-2',\n",
       "  'Kerberos Change Password Service',\n",
       "  '/var/empty',\n",
       "  '/usr/bin/false\\n'],\n",
       " ['_devicemgr',\n",
       "  '*',\n",
       "  '220',\n",
       "  '220',\n",
       "  'Device Management Server',\n",
       "  '/var/empty',\n",
       "  '/usr/bin/false\\n'],\n",
       " ['_webauthserver',\n",
       "  '*',\n",
       "  '221',\n",
       "  '221',\n",
       "  'Web Auth Server',\n",
       "  '/var/empty',\n",
       "  '/usr/bin/false\\n'],\n",
       " ['_netbios', '*', '222', '222', 'NetBIOS', '/var/empty', '/usr/bin/false\\n'],\n",
       " ['_warmd',\n",
       "  '*',\n",
       "  '224',\n",
       "  '224',\n",
       "  'Warm Daemon',\n",
       "  '/var/empty',\n",
       "  '/usr/bin/false\\n'],\n",
       " ['_dovenull',\n",
       "  '*',\n",
       "  '227',\n",
       "  '227',\n",
       "  'Dovecot Authentication',\n",
       "  '/var/empty',\n",
       "  '/usr/bin/false\\n'],\n",
       " ['_netstatistics',\n",
       "  '*',\n",
       "  '228',\n",
       "  '228',\n",
       "  'Network Statistics Daemon',\n",
       "  '/var/empty',\n",
       "  '/usr/bin/false\\n'],\n",
       " ['_avbdeviced',\n",
       "  '*',\n",
       "  '229',\n",
       "  '-2',\n",
       "  'Ethernet AVB Device Daemon',\n",
       "  '/var/empty',\n",
       "  '/usr/bin/false\\n'],\n",
       " ['_krb_krbtgt',\n",
       "  '*',\n",
       "  '230',\n",
       "  '-2',\n",
       "  'Open Directory Kerberos Ticket Granting Ticket',\n",
       "  '/var/empty',\n",
       "  '/usr/bin/false\\n'],\n",
       " ['_krb_kadmin',\n",
       "  '*',\n",
       "  '231',\n",
       "  '-2',\n",
       "  'Open Directory Kerberos Admin Service',\n",
       "  '/var/empty',\n",
       "  '/usr/bin/false\\n'],\n",
       " ['_krb_changepw',\n",
       "  '*',\n",
       "  '232',\n",
       "  '-2',\n",
       "  'Open Directory Kerberos Change Password Service',\n",
       "  '/var/empty',\n",
       "  '/usr/bin/false\\n'],\n",
       " ['_krb_kerberos',\n",
       "  '*',\n",
       "  '233',\n",
       "  '-2',\n",
       "  'Open Directory Kerberos',\n",
       "  '/var/empty',\n",
       "  '/usr/bin/false\\n'],\n",
       " ['_krb_anonymous',\n",
       "  '*',\n",
       "  '234',\n",
       "  '-2',\n",
       "  'Open Directory Kerberos Anonymous',\n",
       "  '/var/empty',\n",
       "  '/usr/bin/false\\n'],\n",
       " ['_assetcache',\n",
       "  '*',\n",
       "  '235',\n",
       "  '235',\n",
       "  'Asset Cache Service',\n",
       "  '/var/empty',\n",
       "  '/usr/bin/false\\n'],\n",
       " ['_coremediaiod',\n",
       "  '*',\n",
       "  '236',\n",
       "  '236',\n",
       "  'Core Media IO Daemon',\n",
       "  '/var/empty',\n",
       "  '/usr/bin/false\\n'],\n",
       " ['_launchservicesd',\n",
       "  '*',\n",
       "  '239',\n",
       "  '239',\n",
       "  '_launchservicesd',\n",
       "  '/var/empty',\n",
       "  '/usr/bin/false\\n'],\n",
       " ['_iconservices',\n",
       "  '*',\n",
       "  '240',\n",
       "  '240',\n",
       "  'IconServices',\n",
       "  '/var/empty',\n",
       "  '/usr/bin/false\\n'],\n",
       " ['_distnote',\n",
       "  '*',\n",
       "  '241',\n",
       "  '241',\n",
       "  'DistNote',\n",
       "  '/var/empty',\n",
       "  '/usr/bin/false\\n'],\n",
       " ['_nsurlsessiond',\n",
       "  '*',\n",
       "  '242',\n",
       "  '242',\n",
       "  'NSURLSession Daemon',\n",
       "  '/var/db/nsurlsessiond',\n",
       "  '/usr/bin/false\\n'],\n",
       " ['_displaypolicyd',\n",
       "  '*',\n",
       "  '244',\n",
       "  '244',\n",
       "  'Display Policy Daemon',\n",
       "  '/var/empty',\n",
       "  '/usr/bin/false\\n'],\n",
       " ['_astris',\n",
       "  '*',\n",
       "  '245',\n",
       "  '245',\n",
       "  'Astris Services',\n",
       "  '/var/db/astris',\n",
       "  '/usr/bin/false\\n'],\n",
       " ['_krbfast',\n",
       "  '*',\n",
       "  '246',\n",
       "  '-2',\n",
       "  'Kerberos FAST Account',\n",
       "  '/var/empty',\n",
       "  '/usr/bin/false\\n'],\n",
       " ['_gamecontrollerd',\n",
       "  '*',\n",
       "  '247',\n",
       "  '247',\n",
       "  'Game Controller Daemon',\n",
       "  '/var/empty',\n",
       "  '/usr/bin/false\\n'],\n",
       " ['_mbsetupuser',\n",
       "  '*',\n",
       "  '248',\n",
       "  '248',\n",
       "  'Setup User',\n",
       "  '/var/setup',\n",
       "  '/bin/bash\\n'],\n",
       " ['_ondemand',\n",
       "  '*',\n",
       "  '249',\n",
       "  '249',\n",
       "  'On Demand Resource Daemon',\n",
       "  '/var/db/ondemand',\n",
       "  '/usr/bin/false\\n'],\n",
       " ['_xserverdocs',\n",
       "  '*',\n",
       "  '251',\n",
       "  '251',\n",
       "  'macOS Server Documents Service',\n",
       "  '/var/empty',\n",
       "  '/usr/bin/false\\n'],\n",
       " ['_wwwproxy',\n",
       "  '*',\n",
       "  '252',\n",
       "  '252',\n",
       "  'WWW Proxy',\n",
       "  '/var/empty',\n",
       "  '/usr/bin/false\\n'],\n",
       " ['_mobileasset',\n",
       "  '*',\n",
       "  '253',\n",
       "  '253',\n",
       "  'MobileAsset User',\n",
       "  '/var/ma',\n",
       "  '/usr/bin/false\\n'],\n",
       " ['_findmydevice',\n",
       "  '*',\n",
       "  '254',\n",
       "  '254',\n",
       "  'Find My Device Daemon',\n",
       "  '/var/db/findmydevice',\n",
       "  '/usr/bin/false\\n'],\n",
       " ['_datadetectors',\n",
       "  '*',\n",
       "  '257',\n",
       "  '257',\n",
       "  'DataDetectors',\n",
       "  '/var/db/datadetectors',\n",
       "  '/usr/bin/false\\n'],\n",
       " ['_captiveagent',\n",
       "  '*',\n",
       "  '258',\n",
       "  '258',\n",
       "  'captiveagent',\n",
       "  '/var/empty',\n",
       "  '/usr/bin/false\\n'],\n",
       " ['_ctkd',\n",
       "  '*',\n",
       "  '259',\n",
       "  '259',\n",
       "  'ctkd Account',\n",
       "  '/var/empty',\n",
       "  '/usr/bin/false\\n'],\n",
       " ['_applepay',\n",
       "  '*',\n",
       "  '260',\n",
       "  '260',\n",
       "  'applepay Account',\n",
       "  '/var/db/applepay',\n",
       "  '/usr/bin/false\\n'],\n",
       " ['_hidd',\n",
       "  '*',\n",
       "  '261',\n",
       "  '261',\n",
       "  'HID Service User',\n",
       "  '/var/db/hidd',\n",
       "  '/usr/bin/false\\n'],\n",
       " ['_cmiodalassistants',\n",
       "  '*',\n",
       "  '262',\n",
       "  '262',\n",
       "  'CoreMedia IO Assistants User',\n",
       "  '/var/db/cmiodalassistants',\n",
       "  '/usr/bin/false\\n'],\n",
       " ['_analyticsd',\n",
       "  '*',\n",
       "  '263',\n",
       "  '263',\n",
       "  'Analytics Daemon',\n",
       "  '/var/db/analyticsd',\n",
       "  '/usr/bin/false\\n'],\n",
       " ['_fpsd',\n",
       "  '*',\n",
       "  '265',\n",
       "  '265',\n",
       "  'FPS Daemon',\n",
       "  '/var/db/fpsd',\n",
       "  '/usr/bin/false\\n'],\n",
       " ['_timed',\n",
       "  '*',\n",
       "  '266',\n",
       "  '266',\n",
       "  'Time Sync Daemon',\n",
       "  '/var/db/timed',\n",
       "  '/usr/bin/false\\n'],\n",
       " ['_nearbyd',\n",
       "  '*',\n",
       "  '268',\n",
       "  '268',\n",
       "  'Proximity and Ranging Daemon',\n",
       "  '/var/db/nearbyd',\n",
       "  '/usr/bin/false\\n'],\n",
       " ['_reportmemoryexception',\n",
       "  '*',\n",
       "  '269',\n",
       "  '269',\n",
       "  'ReportMemoryException',\n",
       "  '/var/db/reportmemoryexception',\n",
       "  '/usr/bin/false\\n'],\n",
       " ['_driverkit',\n",
       "  '*',\n",
       "  '270',\n",
       "  '270',\n",
       "  'DriverKit',\n",
       "  '/var/empty',\n",
       "  '/usr/bin/false\\n'],\n",
       " ['_diskimagesiod',\n",
       "  '*',\n",
       "  '271',\n",
       "  '271',\n",
       "  'DiskImages IO Daemon',\n",
       "  '/var/db/diskimagesiod',\n",
       "  '/usr/bin/false\\n'],\n",
       " ['_logd',\n",
       "  '*',\n",
       "  '272',\n",
       "  '272',\n",
       "  'Log Daemon',\n",
       "  '/var/db/diagnostics',\n",
       "  '/usr/bin/false\\n'],\n",
       " ['_appinstalld',\n",
       "  '*',\n",
       "  '273',\n",
       "  '273',\n",
       "  'App Install Daemon',\n",
       "  '/var/db/appinstalld',\n",
       "  '/usr/bin/false\\n'],\n",
       " ['_installcoordinationd',\n",
       "  '*',\n",
       "  '274',\n",
       "  '274',\n",
       "  'Install Coordination Daemon',\n",
       "  '/var/db/installcoordinationd',\n",
       "  '/usr/bin/false\\n'],\n",
       " ['_demod',\n",
       "  '*',\n",
       "  '275',\n",
       "  '275',\n",
       "  'Demo Daemon',\n",
       "  '/var/empty',\n",
       "  '/usr/bin/false\\n'],\n",
       " ['_rmd',\n",
       "  '*',\n",
       "  '277',\n",
       "  '277',\n",
       "  'Remote Management Daemon',\n",
       "  '/var/db/rmd',\n",
       "  '/usr/bin/false\\n'],\n",
       " ['_fud',\n",
       "  '*',\n",
       "  '278',\n",
       "  '278',\n",
       "  'Firmware Update Daemon',\n",
       "  '/var/db/fud',\n",
       "  '/usr/bin/false\\n'],\n",
       " ['_knowledgegraphd',\n",
       "  '*',\n",
       "  '279',\n",
       "  '279',\n",
       "  'Knowledge Graph Daemon',\n",
       "  '/var/db/knowledgegraphd',\n",
       "  '/usr/bin/false\\n'],\n",
       " ['_coreml',\n",
       "  '*',\n",
       "  '280',\n",
       "  '280',\n",
       "  'CoreML Services',\n",
       "  '/var/empty',\n",
       "  '/usr/bin/false\\n'],\n",
       " ['_oahd', '*', '441', '441', 'OAH Daemon', '/var/empty', '/usr/bin/false\\n']]"
      ]
     },
     "execution_count": 210,
     "metadata": {},
     "output_type": "execute_result"
    }
   ],
   "source": [
    "[one_line.split(':')\n",
    " for one_line in open('/etc/passwd')]"
   ]
  },
  {
   "cell_type": "code",
   "execution_count": 211,
   "metadata": {},
   "outputs": [
    {
     "data": {
      "text/plain": [
       "['##\\n',\n",
       " '# User Database\\n',\n",
       " '# \\n',\n",
       " '# Note that this file is consulted directly only when the system is running\\n',\n",
       " '# in single-user mode.  At other times this information is provided by\\n',\n",
       " '# Open Directory.\\n',\n",
       " '#\\n',\n",
       " '# See the opendirectoryd(8) man page for additional information about\\n',\n",
       " '# Open Directory.\\n',\n",
       " '##\\n',\n",
       " 'nobody',\n",
       " 'root',\n",
       " 'daemon',\n",
       " '_uucp',\n",
       " '_taskgated',\n",
       " '_networkd',\n",
       " '_installassistant',\n",
       " '_lp',\n",
       " '_postfix',\n",
       " '_scsd',\n",
       " '_ces',\n",
       " '_appstore',\n",
       " '_mcxalr',\n",
       " '_appleevents',\n",
       " '_geod',\n",
       " '_devdocs',\n",
       " '_sandbox',\n",
       " '_mdnsresponder',\n",
       " '_ard',\n",
       " '_www',\n",
       " '_eppc',\n",
       " '_cvs',\n",
       " '_svn',\n",
       " '_mysql',\n",
       " '_sshd',\n",
       " '_qtss',\n",
       " '_cyrus',\n",
       " '_mailman',\n",
       " '_appserver',\n",
       " '_clamav',\n",
       " '_amavisd',\n",
       " '_jabber',\n",
       " '_appowner',\n",
       " '_windowserver',\n",
       " '_spotlight',\n",
       " '_tokend',\n",
       " '_securityagent',\n",
       " '_calendar',\n",
       " '_teamsserver',\n",
       " '_update_sharing',\n",
       " '_installer',\n",
       " '_atsserver',\n",
       " '_ftp',\n",
       " '_unknown',\n",
       " '_softwareupdate',\n",
       " '_coreaudiod',\n",
       " '_screensaver',\n",
       " '_locationd',\n",
       " '_trustevaluationagent',\n",
       " '_timezone',\n",
       " '_lda',\n",
       " '_cvmsroot',\n",
       " '_usbmuxd',\n",
       " '_dovecot',\n",
       " '_dpaudio',\n",
       " '_postgres',\n",
       " '_krbtgt',\n",
       " '_kadmin_admin',\n",
       " '_kadmin_changepw',\n",
       " '_devicemgr',\n",
       " '_webauthserver',\n",
       " '_netbios',\n",
       " '_warmd',\n",
       " '_dovenull',\n",
       " '_netstatistics',\n",
       " '_avbdeviced',\n",
       " '_krb_krbtgt',\n",
       " '_krb_kadmin',\n",
       " '_krb_changepw',\n",
       " '_krb_kerberos',\n",
       " '_krb_anonymous',\n",
       " '_assetcache',\n",
       " '_coremediaiod',\n",
       " '_launchservicesd',\n",
       " '_iconservices',\n",
       " '_distnote',\n",
       " '_nsurlsessiond',\n",
       " '_displaypolicyd',\n",
       " '_astris',\n",
       " '_krbfast',\n",
       " '_gamecontrollerd',\n",
       " '_mbsetupuser',\n",
       " '_ondemand',\n",
       " '_xserverdocs',\n",
       " '_wwwproxy',\n",
       " '_mobileasset',\n",
       " '_findmydevice',\n",
       " '_datadetectors',\n",
       " '_captiveagent',\n",
       " '_ctkd',\n",
       " '_applepay',\n",
       " '_hidd',\n",
       " '_cmiodalassistants',\n",
       " '_analyticsd',\n",
       " '_fpsd',\n",
       " '_timed',\n",
       " '_nearbyd',\n",
       " '_reportmemoryexception',\n",
       " '_driverkit',\n",
       " '_diskimagesiod',\n",
       " '_logd',\n",
       " '_appinstalld',\n",
       " '_installcoordinationd',\n",
       " '_demod',\n",
       " '_rmd',\n",
       " '_fud',\n",
       " '_knowledgegraphd',\n",
       " '_coreml',\n",
       " '_oahd']"
      ]
     },
     "execution_count": 211,
     "metadata": {},
     "output_type": "execute_result"
    }
   ],
   "source": [
    "# get all usernames in /etc/passwd\n",
    "[one_line.split(':')[0]\n",
    " for one_line in open('/etc/passwd')]"
   ]
  },
  {
   "cell_type": "code",
   "execution_count": 212,
   "metadata": {
    "collapsed": true
   },
   "outputs": [
    {
     "data": {
      "text/plain": [
       "['nobody',\n",
       " 'root',\n",
       " 'daemon',\n",
       " '_uucp',\n",
       " '_taskgated',\n",
       " '_networkd',\n",
       " '_installassistant',\n",
       " '_lp',\n",
       " '_postfix',\n",
       " '_scsd',\n",
       " '_ces',\n",
       " '_appstore',\n",
       " '_mcxalr',\n",
       " '_appleevents',\n",
       " '_geod',\n",
       " '_devdocs',\n",
       " '_sandbox',\n",
       " '_mdnsresponder',\n",
       " '_ard',\n",
       " '_www',\n",
       " '_eppc',\n",
       " '_cvs',\n",
       " '_svn',\n",
       " '_mysql',\n",
       " '_sshd',\n",
       " '_qtss',\n",
       " '_cyrus',\n",
       " '_mailman',\n",
       " '_appserver',\n",
       " '_clamav',\n",
       " '_amavisd',\n",
       " '_jabber',\n",
       " '_appowner',\n",
       " '_windowserver',\n",
       " '_spotlight',\n",
       " '_tokend',\n",
       " '_securityagent',\n",
       " '_calendar',\n",
       " '_teamsserver',\n",
       " '_update_sharing',\n",
       " '_installer',\n",
       " '_atsserver',\n",
       " '_ftp',\n",
       " '_unknown',\n",
       " '_softwareupdate',\n",
       " '_coreaudiod',\n",
       " '_screensaver',\n",
       " '_locationd',\n",
       " '_trustevaluationagent',\n",
       " '_timezone',\n",
       " '_lda',\n",
       " '_cvmsroot',\n",
       " '_usbmuxd',\n",
       " '_dovecot',\n",
       " '_dpaudio',\n",
       " '_postgres',\n",
       " '_krbtgt',\n",
       " '_kadmin_admin',\n",
       " '_kadmin_changepw',\n",
       " '_devicemgr',\n",
       " '_webauthserver',\n",
       " '_netbios',\n",
       " '_warmd',\n",
       " '_dovenull',\n",
       " '_netstatistics',\n",
       " '_avbdeviced',\n",
       " '_krb_krbtgt',\n",
       " '_krb_kadmin',\n",
       " '_krb_changepw',\n",
       " '_krb_kerberos',\n",
       " '_krb_anonymous',\n",
       " '_assetcache',\n",
       " '_coremediaiod',\n",
       " '_launchservicesd',\n",
       " '_iconservices',\n",
       " '_distnote',\n",
       " '_nsurlsessiond',\n",
       " '_displaypolicyd',\n",
       " '_astris',\n",
       " '_krbfast',\n",
       " '_gamecontrollerd',\n",
       " '_mbsetupuser',\n",
       " '_ondemand',\n",
       " '_xserverdocs',\n",
       " '_wwwproxy',\n",
       " '_mobileasset',\n",
       " '_findmydevice',\n",
       " '_datadetectors',\n",
       " '_captiveagent',\n",
       " '_ctkd',\n",
       " '_applepay',\n",
       " '_hidd',\n",
       " '_cmiodalassistants',\n",
       " '_analyticsd',\n",
       " '_fpsd',\n",
       " '_timed',\n",
       " '_nearbyd',\n",
       " '_reportmemoryexception',\n",
       " '_driverkit',\n",
       " '_diskimagesiod',\n",
       " '_logd',\n",
       " '_appinstalld',\n",
       " '_installcoordinationd',\n",
       " '_demod',\n",
       " '_rmd',\n",
       " '_fud',\n",
       " '_knowledgegraphd',\n",
       " '_coreml',\n",
       " '_oahd']"
      ]
     },
     "execution_count": 212,
     "metadata": {},
     "output_type": "execute_result"
    }
   ],
   "source": [
    "# get all usernames in /etc/passwd\n",
    "[one_line.split(':')[0]                # expression\n",
    " for one_line in open('/etc/passwd')   # iteration\n",
    " if not one_line.startswith('#')]      # condition"
   ]
  },
  {
   "cell_type": "code",
   "execution_count": 213,
   "metadata": {},
   "outputs": [
    {
     "data": {
      "text/plain": [
       "[100, 400, 625, 1225, 1600, 10000, 22500, 24025, 30625]"
      ]
     },
     "execution_count": 213,
     "metadata": {},
     "output_type": "execute_result"
    }
   ],
   "source": [
    "numbers = [10, 20, 25, 35, 40, 100, 150, 155, 175]\n",
    "\n",
    "[one_number ** 2\n",
    " for one_number in numbers]"
   ]
  },
  {
   "cell_type": "code",
   "execution_count": 215,
   "metadata": {},
   "outputs": [
    {
     "data": {
      "text/plain": [
       "[24025, 30625]"
      ]
     },
     "execution_count": 215,
     "metadata": {},
     "output_type": "execute_result"
    }
   ],
   "source": [
    "# I only want (a) odd numbers (b) bigger than 100\n",
    "\n",
    "[one_number ** 2\n",
    " for one_number in numbers\n",
    " if one_number % 2 and one_number > 100]"
   ]
  },
  {
   "cell_type": "code",
   "execution_count": 216,
   "metadata": {},
   "outputs": [
    {
     "data": {
      "text/plain": [
       "[24025, 30625]"
      ]
     },
     "execution_count": 216,
     "metadata": {},
     "output_type": "execute_result"
    }
   ],
   "source": [
    "# I only want (a) odd numbers (b) bigger than 100\n",
    "\n",
    "[one_number ** 2\n",
    " for one_number in numbers\n",
    " if one_number % 2 \n",
    " if one_number > 100]"
   ]
  },
  {
   "cell_type": "code",
   "execution_count": 217,
   "metadata": {},
   "outputs": [
    {
     "name": "stdout",
     "output_type": "stream",
     "text": [
      "5\r\n",
      "\t10     \r\n",
      "\t20\r\n",
      "  \t3\r\n",
      "\t\t   \t20        \r\n",
      "\r\n",
      " 25\r\n"
     ]
    }
   ],
   "source": [
    "!cat nums.txt"
   ]
  },
  {
   "cell_type": "markdown",
   "metadata": {},
   "source": [
    "#  Exercise: Sum the numbers\n",
    "\n",
    "Use a list comprehension to read through `nums.txt` and add the integers together. (The answer is 83.)"
   ]
  },
  {
   "cell_type": "code",
   "execution_count": 219,
   "metadata": {},
   "outputs": [
    {
     "ename": "ValueError",
     "evalue": "invalid literal for int() with base 10: '\\n'",
     "output_type": "error",
     "traceback": [
      "\u001b[0;31m---------------------------------------------------------------------------\u001b[0m",
      "\u001b[0;31mValueError\u001b[0m                                Traceback (most recent call last)",
      "\u001b[0;32m<ipython-input-219-7a328eaf9149>\u001b[0m in \u001b[0;36m<module>\u001b[0;34m\u001b[0m\n\u001b[0;32m----> 1\u001b[0;31m [int(one_line)\n\u001b[0m\u001b[1;32m      2\u001b[0m for one_line in open('nums.txt')]\n",
      "\u001b[0;32m<ipython-input-219-7a328eaf9149>\u001b[0m in \u001b[0;36m<listcomp>\u001b[0;34m(.0)\u001b[0m\n\u001b[0;32m----> 1\u001b[0;31m [int(one_line)\n\u001b[0m\u001b[1;32m      2\u001b[0m for one_line in open('nums.txt')]\n",
      "\u001b[0;31mValueError\u001b[0m: invalid literal for int() with base 10: '\\n'"
     ]
    }
   ],
   "source": [
    "[int(one_line)\n",
    "for one_line in open('nums.txt')]"
   ]
  },
  {
   "cell_type": "code",
   "execution_count": 220,
   "metadata": {},
   "outputs": [
    {
     "data": {
      "text/plain": [
       "5"
      ]
     },
     "execution_count": 220,
     "metadata": {},
     "output_type": "execute_result"
    }
   ],
   "source": [
    "int('5')"
   ]
  },
  {
   "cell_type": "code",
   "execution_count": 221,
   "metadata": {},
   "outputs": [
    {
     "data": {
      "text/plain": [
       "5"
      ]
     },
     "execution_count": 221,
     "metadata": {},
     "output_type": "execute_result"
    }
   ],
   "source": [
    "int('    5       ')"
   ]
  },
  {
   "cell_type": "code",
   "execution_count": 222,
   "metadata": {},
   "outputs": [
    {
     "ename": "ValueError",
     "evalue": "invalid literal for int() with base 10: ''",
     "output_type": "error",
     "traceback": [
      "\u001b[0;31m---------------------------------------------------------------------------\u001b[0m",
      "\u001b[0;31mValueError\u001b[0m                                Traceback (most recent call last)",
      "\u001b[0;32m<ipython-input-222-e4f84bb32d50>\u001b[0m in \u001b[0;36m<module>\u001b[0;34m\u001b[0m\n\u001b[0;32m----> 1\u001b[0;31m \u001b[0mint\u001b[0m\u001b[0;34m(\u001b[0m\u001b[0;34m''\u001b[0m\u001b[0;34m)\u001b[0m\u001b[0;34m\u001b[0m\u001b[0;34m\u001b[0m\u001b[0m\n\u001b[0m",
      "\u001b[0;31mValueError\u001b[0m: invalid literal for int() with base 10: ''"
     ]
    }
   ],
   "source": [
    "int('')"
   ]
  },
  {
   "cell_type": "code",
   "execution_count": 223,
   "metadata": {},
   "outputs": [
    {
     "data": {
      "text/plain": [
       "0"
      ]
     },
     "execution_count": 223,
     "metadata": {},
     "output_type": "execute_result"
    }
   ],
   "source": [
    "int()"
   ]
  },
  {
   "cell_type": "code",
   "execution_count": 224,
   "metadata": {},
   "outputs": [
    {
     "data": {
      "text/plain": [
       "[5, 10, 20, 3, 20, 25]"
      ]
     },
     "execution_count": 224,
     "metadata": {},
     "output_type": "execute_result"
    }
   ],
   "source": [
    "[int(one_line)\n",
    "for one_line in open('nums.txt')\n",
    "if one_line.strip()]"
   ]
  },
  {
   "cell_type": "code",
   "execution_count": 225,
   "metadata": {},
   "outputs": [
    {
     "data": {
      "text/plain": [
       "[5, 10, 20, 3, 20, 25]"
      ]
     },
     "execution_count": 225,
     "metadata": {},
     "output_type": "execute_result"
    }
   ],
   "source": [
    "[int(one_line)\n",
    "for one_line in open('nums.txt')\n",
    "if one_line.strip().isdigit()]"
   ]
  },
  {
   "cell_type": "code",
   "execution_count": 226,
   "metadata": {},
   "outputs": [
    {
     "data": {
      "text/plain": [
       "83"
      ]
     },
     "execution_count": 226,
     "metadata": {},
     "output_type": "execute_result"
    }
   ],
   "source": [
    "sum([int(one_line)\n",
    "for one_line in open('nums.txt')\n",
    "if one_line.strip()])"
   ]
  },
  {
   "cell_type": "code",
   "execution_count": 227,
   "metadata": {},
   "outputs": [
    {
     "name": "stdout",
     "output_type": "stream",
     "text": [
      "Adidas\torange\t43\r\n",
      "Nike\tblack\t41\r\n",
      "Adidas\tblack\t39\r\n",
      "New Balance\tpink\t41\r\n",
      "Nike\twhite\t44\r\n",
      "New Balance\torange\t38\r\n",
      "Nike\tpink\t44\r\n",
      "Adidas\tpink\t44\r\n",
      "New Balance\torange\t39\r\n",
      "New Balance\tblack\t43\r\n"
     ]
    }
   ],
   "source": [
    "!head shoe-data.txt"
   ]
  },
  {
   "cell_type": "markdown",
   "metadata": {},
   "source": [
    "# Exercise: Shoe data\n",
    "\n",
    "1. Use a list comprehension to create a list of dicts from `shoe-data.txt`.\n",
    "2. Each of the lines has three columns, separated by tabs (`'\\t'`).\n",
    "3. Each dict (and there will be 100 of them in the end) will have three key-value pairs, with the keys being `brand`, `color`, `size`.\n",
    "\n",
    "Suggestion: Use a function in your expression, rather than trying to do it all inline."
   ]
  },
  {
   "cell_type": "code",
   "execution_count": 230,
   "metadata": {},
   "outputs": [
    {
     "data": {
      "text/plain": [
       "[{'brand': 'Adidas', 'color': 'orange', 'size': '43'},\n",
       " {'brand': 'Nike', 'color': 'black', 'size': '41'},\n",
       " {'brand': 'Adidas', 'color': 'black', 'size': '39'},\n",
       " {'brand': 'New Balance', 'color': 'pink', 'size': '41'},\n",
       " {'brand': 'Nike', 'color': 'white', 'size': '44'},\n",
       " {'brand': 'New Balance', 'color': 'orange', 'size': '38'},\n",
       " {'brand': 'Nike', 'color': 'pink', 'size': '44'},\n",
       " {'brand': 'Adidas', 'color': 'pink', 'size': '44'},\n",
       " {'brand': 'New Balance', 'color': 'orange', 'size': '39'},\n",
       " {'brand': 'New Balance', 'color': 'black', 'size': '43'},\n",
       " {'brand': 'New Balance', 'color': 'orange', 'size': '44'},\n",
       " {'brand': 'Nike', 'color': 'black', 'size': '41'},\n",
       " {'brand': 'Adidas', 'color': 'orange', 'size': '37'},\n",
       " {'brand': 'Adidas', 'color': 'black', 'size': '38'},\n",
       " {'brand': 'Adidas', 'color': 'pink', 'size': '41'},\n",
       " {'brand': 'Adidas', 'color': 'white', 'size': '36'},\n",
       " {'brand': 'Adidas', 'color': 'orange', 'size': '36'},\n",
       " {'brand': 'Nike', 'color': 'pink', 'size': '41'},\n",
       " {'brand': 'Adidas', 'color': 'pink', 'size': '35'},\n",
       " {'brand': 'New Balance', 'color': 'orange', 'size': '37'},\n",
       " {'brand': 'Nike', 'color': 'pink', 'size': '43'},\n",
       " {'brand': 'Nike', 'color': 'black', 'size': '43'},\n",
       " {'brand': 'Nike', 'color': 'black', 'size': '42'},\n",
       " {'brand': 'Nike', 'color': 'black', 'size': '35'},\n",
       " {'brand': 'Adidas', 'color': 'black', 'size': '41'},\n",
       " {'brand': 'New Balance', 'color': 'pink', 'size': '40'},\n",
       " {'brand': 'Adidas', 'color': 'white', 'size': '35'},\n",
       " {'brand': 'New Balance', 'color': 'pink', 'size': '41'},\n",
       " {'brand': 'New Balance', 'color': 'orange', 'size': '41'},\n",
       " {'brand': 'Adidas', 'color': 'orange', 'size': '40'},\n",
       " {'brand': 'New Balance', 'color': 'orange', 'size': '40'},\n",
       " {'brand': 'New Balance', 'color': 'white', 'size': '44'},\n",
       " {'brand': 'New Balance', 'color': 'pink', 'size': '40'},\n",
       " {'brand': 'Nike', 'color': 'black', 'size': '43'},\n",
       " {'brand': 'Nike', 'color': 'pink', 'size': '36'},\n",
       " {'brand': 'New Balance', 'color': 'white', 'size': '39'},\n",
       " {'brand': 'Nike', 'color': 'black', 'size': '42'},\n",
       " {'brand': 'Adidas', 'color': 'black', 'size': '41'},\n",
       " {'brand': 'New Balance', 'color': 'orange', 'size': '40'},\n",
       " {'brand': 'New Balance', 'color': 'black', 'size': '40'},\n",
       " {'brand': 'Nike', 'color': 'white', 'size': '37'},\n",
       " {'brand': 'Adidas', 'color': 'black', 'size': '39'},\n",
       " {'brand': 'Adidas', 'color': 'black', 'size': '40'},\n",
       " {'brand': 'Adidas', 'color': 'orange', 'size': '38'},\n",
       " {'brand': 'New Balance', 'color': 'orange', 'size': '39'},\n",
       " {'brand': 'Nike', 'color': 'black', 'size': '35'},\n",
       " {'brand': 'Adidas', 'color': 'white', 'size': '39'},\n",
       " {'brand': 'Nike', 'color': 'white', 'size': '37'},\n",
       " {'brand': 'Adidas', 'color': 'orange', 'size': '37'},\n",
       " {'brand': 'Adidas', 'color': 'pink', 'size': '35'},\n",
       " {'brand': 'New Balance', 'color': 'orange', 'size': '41'},\n",
       " {'brand': 'Nike', 'color': 'pink', 'size': '44'},\n",
       " {'brand': 'Nike', 'color': 'pink', 'size': '38'},\n",
       " {'brand': 'Adidas', 'color': 'black', 'size': '39'},\n",
       " {'brand': 'New Balance', 'color': 'white', 'size': '35'},\n",
       " {'brand': 'Nike', 'color': 'pink', 'size': '40'},\n",
       " {'brand': 'Nike', 'color': 'white', 'size': '44'},\n",
       " {'brand': 'Nike', 'color': 'orange', 'size': '38'},\n",
       " {'brand': 'Adidas', 'color': 'orange', 'size': '42'},\n",
       " {'brand': 'New Balance', 'color': 'orange', 'size': '43'},\n",
       " {'brand': 'Adidas', 'color': 'pink', 'size': '39'},\n",
       " {'brand': 'Adidas', 'color': 'pink', 'size': '41'},\n",
       " {'brand': 'Adidas', 'color': 'pink', 'size': '39'},\n",
       " {'brand': 'Nike', 'color': 'white', 'size': '37'},\n",
       " {'brand': 'Nike', 'color': 'orange', 'size': '38'},\n",
       " {'brand': 'Adidas', 'color': 'orange', 'size': '39'},\n",
       " {'brand': 'Nike', 'color': 'pink', 'size': '40'},\n",
       " {'brand': 'Adidas', 'color': 'white', 'size': '36'},\n",
       " {'brand': 'Nike', 'color': 'orange', 'size': '40'},\n",
       " {'brand': 'New Balance', 'color': 'pink', 'size': '40'},\n",
       " {'brand': 'New Balance', 'color': 'black', 'size': '40'},\n",
       " {'brand': 'New Balance', 'color': 'pink', 'size': '40'},\n",
       " {'brand': 'Adidas', 'color': 'pink', 'size': '41'},\n",
       " {'brand': 'Nike', 'color': 'pink', 'size': '40'},\n",
       " {'brand': 'Nike', 'color': 'black', 'size': '41'},\n",
       " {'brand': 'Nike', 'color': 'black', 'size': '39'},\n",
       " {'brand': 'New Balance', 'color': 'white', 'size': '38'},\n",
       " {'brand': 'Adidas', 'color': 'black', 'size': '41'},\n",
       " {'brand': 'Nike', 'color': 'orange', 'size': '36'},\n",
       " {'brand': 'Nike', 'color': 'black', 'size': '38'},\n",
       " {'brand': 'New Balance', 'color': 'black', 'size': '40'},\n",
       " {'brand': 'New Balance', 'color': 'pink', 'size': '40'},\n",
       " {'brand': 'Adidas', 'color': 'black', 'size': '42'},\n",
       " {'brand': 'Adidas', 'color': 'white', 'size': '40'},\n",
       " {'brand': 'New Balance', 'color': 'orange', 'size': '38'},\n",
       " {'brand': 'Nike', 'color': 'pink', 'size': '41'},\n",
       " {'brand': 'Adidas', 'color': 'orange', 'size': '37'},\n",
       " {'brand': 'Nike', 'color': 'black', 'size': '44'},\n",
       " {'brand': 'Adidas', 'color': 'pink', 'size': '36'},\n",
       " {'brand': 'Adidas', 'color': 'white', 'size': '35'},\n",
       " {'brand': 'Nike', 'color': 'black', 'size': '38'},\n",
       " {'brand': 'Nike', 'color': 'pink', 'size': '42'},\n",
       " {'brand': 'New Balance', 'color': 'black', 'size': '43'},\n",
       " {'brand': 'Nike', 'color': 'white', 'size': '38'},\n",
       " {'brand': 'New Balance', 'color': 'pink', 'size': '39'},\n",
       " {'brand': 'Nike', 'color': 'orange', 'size': '39'},\n",
       " {'brand': 'New Balance', 'color': 'orange', 'size': '40'},\n",
       " {'brand': 'New Balance', 'color': 'white', 'size': '44'},\n",
       " {'brand': 'Adidas', 'color': 'black', 'size': '42'},\n",
       " {'brand': 'Nike', 'color': 'black', 'size': '35'}]"
      ]
     },
     "execution_count": 230,
     "metadata": {},
     "output_type": "execute_result"
    }
   ],
   "source": [
    "def line_to_dict(one_line):\n",
    "    brand, color, size = one_line.strip().split('\\t')\n",
    "    return {'brand':brand,\n",
    "           'color':color,\n",
    "           'size':size}\n",
    "\n",
    "[line_to_dict(one_line)\n",
    "for one_line in open('shoe-data.txt')]"
   ]
  },
  {
   "cell_type": "code",
   "execution_count": null,
   "metadata": {},
   "outputs": [],
   "source": [
    "def line_to_dict(one_line):\n",
    "    brand, color, size = one_line.strip().split('\\t')\n",
    "    return {'brand':brand,\n",
    "           'color':color,\n",
    "           'size':size}\n",
    "\n",
    "[line_to_dict(one_line)\n",
    "for one_line in open('shoe-data.txt')]"
   ]
  },
  {
   "cell_type": "code",
   "execution_count": 231,
   "metadata": {},
   "outputs": [],
   "source": [
    "z = zip('abcd', [10, 20, 30, 40])"
   ]
  },
  {
   "cell_type": "code",
   "execution_count": 232,
   "metadata": {},
   "outputs": [
    {
     "data": {
      "text/plain": [
       "[('a', 10), ('b', 20), ('c', 30), ('d', 40)]"
      ]
     },
     "execution_count": 232,
     "metadata": {},
     "output_type": "execute_result"
    }
   ],
   "source": [
    "list(z)"
   ]
  },
  {
   "cell_type": "code",
   "execution_count": 251,
   "metadata": {},
   "outputs": [],
   "source": [
    "z = zip('abcd', [10, 20, 30, 40])"
   ]
  },
  {
   "cell_type": "code",
   "execution_count": 252,
   "metadata": {},
   "outputs": [
    {
     "data": {
      "text/plain": [
       "[('a', 10), ('b', 20), ('c', 30), ('d', 40)]"
      ]
     },
     "execution_count": 252,
     "metadata": {},
     "output_type": "execute_result"
    }
   ],
   "source": [
    "list(z)"
   ]
  },
  {
   "cell_type": "code",
   "execution_count": 254,
   "metadata": {},
   "outputs": [
    {
     "data": {
      "text/plain": [
       "{}"
      ]
     },
     "execution_count": 254,
     "metadata": {},
     "output_type": "execute_result"
    }
   ],
   "source": [
    "dict(list(z))"
   ]
  },
  {
   "cell_type": "code",
   "execution_count": null,
   "metadata": {},
   "outputs": [],
   "source": [
    "def line_to_dict(one_line):\n",
    "    brand, color, size = one_line.strip().split('\\t')\n",
    "    return {'brand':brand,\n",
    "           'color':color,\n",
    "           'size':size}\n",
    "\n",
    "[line_to_dict(one_line)\n",
    "for one_line in open('shoe-data.txt')]"
   ]
  },
  {
   "cell_type": "code",
   "execution_count": 255,
   "metadata": {},
   "outputs": [
    {
     "data": {
      "text/plain": [
       "dict"
      ]
     },
     "execution_count": 255,
     "metadata": {},
     "output_type": "execute_result"
    }
   ],
   "source": [
    "dict"
   ]
  },
  {
   "cell_type": "code",
   "execution_count": 257,
   "metadata": {},
   "outputs": [
    {
     "data": {
      "text/plain": [
       "{'a': 1, 'b': 2}"
      ]
     },
     "execution_count": 257,
     "metadata": {},
     "output_type": "execute_result"
    }
   ],
   "source": [
    "dict(a=1, b=2)"
   ]
  },
  {
   "cell_type": "code",
   "execution_count": 258,
   "metadata": {},
   "outputs": [
    {
     "data": {
      "text/plain": [
       "{'a': 1, 'b': 2}"
      ]
     },
     "execution_count": 258,
     "metadata": {},
     "output_type": "execute_result"
    }
   ],
   "source": [
    "dict([('a', 1), ('b', 2)])"
   ]
  },
  {
   "cell_type": "code",
   "execution_count": 259,
   "metadata": {},
   "outputs": [
    {
     "data": {
      "text/plain": [
       "{'a': 10, 'b': 20, 'c': 30}"
      ]
     },
     "execution_count": 259,
     "metadata": {},
     "output_type": "execute_result"
    }
   ],
   "source": [
    "dict(zip('abc', [10, 20, 30]))"
   ]
  },
  {
   "cell_type": "code",
   "execution_count": 260,
   "metadata": {},
   "outputs": [
    {
     "data": {
      "text/plain": [
       "[{'brand': 'Adidas', 'color': 'orange', 'size': '43'},\n",
       " {'brand': 'Nike', 'color': 'black', 'size': '41'},\n",
       " {'brand': 'Adidas', 'color': 'black', 'size': '39'},\n",
       " {'brand': 'New Balance', 'color': 'pink', 'size': '41'},\n",
       " {'brand': 'Nike', 'color': 'white', 'size': '44'},\n",
       " {'brand': 'New Balance', 'color': 'orange', 'size': '38'},\n",
       " {'brand': 'Nike', 'color': 'pink', 'size': '44'},\n",
       " {'brand': 'Adidas', 'color': 'pink', 'size': '44'},\n",
       " {'brand': 'New Balance', 'color': 'orange', 'size': '39'},\n",
       " {'brand': 'New Balance', 'color': 'black', 'size': '43'},\n",
       " {'brand': 'New Balance', 'color': 'orange', 'size': '44'},\n",
       " {'brand': 'Nike', 'color': 'black', 'size': '41'},\n",
       " {'brand': 'Adidas', 'color': 'orange', 'size': '37'},\n",
       " {'brand': 'Adidas', 'color': 'black', 'size': '38'},\n",
       " {'brand': 'Adidas', 'color': 'pink', 'size': '41'},\n",
       " {'brand': 'Adidas', 'color': 'white', 'size': '36'},\n",
       " {'brand': 'Adidas', 'color': 'orange', 'size': '36'},\n",
       " {'brand': 'Nike', 'color': 'pink', 'size': '41'},\n",
       " {'brand': 'Adidas', 'color': 'pink', 'size': '35'},\n",
       " {'brand': 'New Balance', 'color': 'orange', 'size': '37'},\n",
       " {'brand': 'Nike', 'color': 'pink', 'size': '43'},\n",
       " {'brand': 'Nike', 'color': 'black', 'size': '43'},\n",
       " {'brand': 'Nike', 'color': 'black', 'size': '42'},\n",
       " {'brand': 'Nike', 'color': 'black', 'size': '35'},\n",
       " {'brand': 'Adidas', 'color': 'black', 'size': '41'},\n",
       " {'brand': 'New Balance', 'color': 'pink', 'size': '40'},\n",
       " {'brand': 'Adidas', 'color': 'white', 'size': '35'},\n",
       " {'brand': 'New Balance', 'color': 'pink', 'size': '41'},\n",
       " {'brand': 'New Balance', 'color': 'orange', 'size': '41'},\n",
       " {'brand': 'Adidas', 'color': 'orange', 'size': '40'},\n",
       " {'brand': 'New Balance', 'color': 'orange', 'size': '40'},\n",
       " {'brand': 'New Balance', 'color': 'white', 'size': '44'},\n",
       " {'brand': 'New Balance', 'color': 'pink', 'size': '40'},\n",
       " {'brand': 'Nike', 'color': 'black', 'size': '43'},\n",
       " {'brand': 'Nike', 'color': 'pink', 'size': '36'},\n",
       " {'brand': 'New Balance', 'color': 'white', 'size': '39'},\n",
       " {'brand': 'Nike', 'color': 'black', 'size': '42'},\n",
       " {'brand': 'Adidas', 'color': 'black', 'size': '41'},\n",
       " {'brand': 'New Balance', 'color': 'orange', 'size': '40'},\n",
       " {'brand': 'New Balance', 'color': 'black', 'size': '40'},\n",
       " {'brand': 'Nike', 'color': 'white', 'size': '37'},\n",
       " {'brand': 'Adidas', 'color': 'black', 'size': '39'},\n",
       " {'brand': 'Adidas', 'color': 'black', 'size': '40'},\n",
       " {'brand': 'Adidas', 'color': 'orange', 'size': '38'},\n",
       " {'brand': 'New Balance', 'color': 'orange', 'size': '39'},\n",
       " {'brand': 'Nike', 'color': 'black', 'size': '35'},\n",
       " {'brand': 'Adidas', 'color': 'white', 'size': '39'},\n",
       " {'brand': 'Nike', 'color': 'white', 'size': '37'},\n",
       " {'brand': 'Adidas', 'color': 'orange', 'size': '37'},\n",
       " {'brand': 'Adidas', 'color': 'pink', 'size': '35'},\n",
       " {'brand': 'New Balance', 'color': 'orange', 'size': '41'},\n",
       " {'brand': 'Nike', 'color': 'pink', 'size': '44'},\n",
       " {'brand': 'Nike', 'color': 'pink', 'size': '38'},\n",
       " {'brand': 'Adidas', 'color': 'black', 'size': '39'},\n",
       " {'brand': 'New Balance', 'color': 'white', 'size': '35'},\n",
       " {'brand': 'Nike', 'color': 'pink', 'size': '40'},\n",
       " {'brand': 'Nike', 'color': 'white', 'size': '44'},\n",
       " {'brand': 'Nike', 'color': 'orange', 'size': '38'},\n",
       " {'brand': 'Adidas', 'color': 'orange', 'size': '42'},\n",
       " {'brand': 'New Balance', 'color': 'orange', 'size': '43'},\n",
       " {'brand': 'Adidas', 'color': 'pink', 'size': '39'},\n",
       " {'brand': 'Adidas', 'color': 'pink', 'size': '41'},\n",
       " {'brand': 'Adidas', 'color': 'pink', 'size': '39'},\n",
       " {'brand': 'Nike', 'color': 'white', 'size': '37'},\n",
       " {'brand': 'Nike', 'color': 'orange', 'size': '38'},\n",
       " {'brand': 'Adidas', 'color': 'orange', 'size': '39'},\n",
       " {'brand': 'Nike', 'color': 'pink', 'size': '40'},\n",
       " {'brand': 'Adidas', 'color': 'white', 'size': '36'},\n",
       " {'brand': 'Nike', 'color': 'orange', 'size': '40'},\n",
       " {'brand': 'New Balance', 'color': 'pink', 'size': '40'},\n",
       " {'brand': 'New Balance', 'color': 'black', 'size': '40'},\n",
       " {'brand': 'New Balance', 'color': 'pink', 'size': '40'},\n",
       " {'brand': 'Adidas', 'color': 'pink', 'size': '41'},\n",
       " {'brand': 'Nike', 'color': 'pink', 'size': '40'},\n",
       " {'brand': 'Nike', 'color': 'black', 'size': '41'},\n",
       " {'brand': 'Nike', 'color': 'black', 'size': '39'},\n",
       " {'brand': 'New Balance', 'color': 'white', 'size': '38'},\n",
       " {'brand': 'Adidas', 'color': 'black', 'size': '41'},\n",
       " {'brand': 'Nike', 'color': 'orange', 'size': '36'},\n",
       " {'brand': 'Nike', 'color': 'black', 'size': '38'},\n",
       " {'brand': 'New Balance', 'color': 'black', 'size': '40'},\n",
       " {'brand': 'New Balance', 'color': 'pink', 'size': '40'},\n",
       " {'brand': 'Adidas', 'color': 'black', 'size': '42'},\n",
       " {'brand': 'Adidas', 'color': 'white', 'size': '40'},\n",
       " {'brand': 'New Balance', 'color': 'orange', 'size': '38'},\n",
       " {'brand': 'Nike', 'color': 'pink', 'size': '41'},\n",
       " {'brand': 'Adidas', 'color': 'orange', 'size': '37'},\n",
       " {'brand': 'Nike', 'color': 'black', 'size': '44'},\n",
       " {'brand': 'Adidas', 'color': 'pink', 'size': '36'},\n",
       " {'brand': 'Adidas', 'color': 'white', 'size': '35'},\n",
       " {'brand': 'Nike', 'color': 'black', 'size': '38'},\n",
       " {'brand': 'Nike', 'color': 'pink', 'size': '42'},\n",
       " {'brand': 'New Balance', 'color': 'black', 'size': '43'},\n",
       " {'brand': 'Nike', 'color': 'white', 'size': '38'},\n",
       " {'brand': 'New Balance', 'color': 'pink', 'size': '39'},\n",
       " {'brand': 'Nike', 'color': 'orange', 'size': '39'},\n",
       " {'brand': 'New Balance', 'color': 'orange', 'size': '40'},\n",
       " {'brand': 'New Balance', 'color': 'white', 'size': '44'},\n",
       " {'brand': 'Adidas', 'color': 'black', 'size': '42'},\n",
       " {'brand': 'Nike', 'color': 'black', 'size': '35'}]"
      ]
     },
     "execution_count": 260,
     "metadata": {},
     "output_type": "execute_result"
    }
   ],
   "source": [
    "def line_to_dict(one_line):\n",
    "    return dict(zip(['brand', 'color', 'size'],\n",
    "                   one_line.strip().split('\\t')))\n",
    "\n",
    "[line_to_dict(one_line)\n",
    "for one_line in open('shoe-data.txt')]"
   ]
  },
  {
   "cell_type": "markdown",
   "metadata": {},
   "source": [
    "# Next up:\n",
    "\n",
    "1. Dict comprehensions\n",
    "2. Set comprehensions\n",
    "3. Nested comprehensions\n",
    "4. Sorting and key functions\n",
    "5. `lambda`"
   ]
  },
  {
   "cell_type": "code",
   "execution_count": 262,
   "metadata": {},
   "outputs": [
    {
     "data": {
      "text/plain": [
       "[['nobody', '-2'],\n",
       " ['root', '0'],\n",
       " ['daemon', '1'],\n",
       " ['_uucp', '4'],\n",
       " ['_taskgated', '13'],\n",
       " ['_networkd', '24'],\n",
       " ['_installassistant', '25'],\n",
       " ['_lp', '26'],\n",
       " ['_postfix', '27'],\n",
       " ['_scsd', '31'],\n",
       " ['_ces', '32'],\n",
       " ['_appstore', '33'],\n",
       " ['_mcxalr', '54'],\n",
       " ['_appleevents', '55'],\n",
       " ['_geod', '56'],\n",
       " ['_devdocs', '59'],\n",
       " ['_sandbox', '60'],\n",
       " ['_mdnsresponder', '65'],\n",
       " ['_ard', '67'],\n",
       " ['_www', '70'],\n",
       " ['_eppc', '71'],\n",
       " ['_cvs', '72'],\n",
       " ['_svn', '73'],\n",
       " ['_mysql', '74'],\n",
       " ['_sshd', '75'],\n",
       " ['_qtss', '76'],\n",
       " ['_cyrus', '77'],\n",
       " ['_mailman', '78'],\n",
       " ['_appserver', '79'],\n",
       " ['_clamav', '82'],\n",
       " ['_amavisd', '83'],\n",
       " ['_jabber', '84'],\n",
       " ['_appowner', '87'],\n",
       " ['_windowserver', '88'],\n",
       " ['_spotlight', '89'],\n",
       " ['_tokend', '91'],\n",
       " ['_securityagent', '92'],\n",
       " ['_calendar', '93'],\n",
       " ['_teamsserver', '94'],\n",
       " ['_update_sharing', '95'],\n",
       " ['_installer', '96'],\n",
       " ['_atsserver', '97'],\n",
       " ['_ftp', '98'],\n",
       " ['_unknown', '99'],\n",
       " ['_softwareupdate', '200'],\n",
       " ['_coreaudiod', '202'],\n",
       " ['_screensaver', '203'],\n",
       " ['_locationd', '205'],\n",
       " ['_trustevaluationagent', '208'],\n",
       " ['_timezone', '210'],\n",
       " ['_lda', '211'],\n",
       " ['_cvmsroot', '212'],\n",
       " ['_usbmuxd', '213'],\n",
       " ['_dovecot', '214'],\n",
       " ['_dpaudio', '215'],\n",
       " ['_postgres', '216'],\n",
       " ['_krbtgt', '217'],\n",
       " ['_kadmin_admin', '218'],\n",
       " ['_kadmin_changepw', '219'],\n",
       " ['_devicemgr', '220'],\n",
       " ['_webauthserver', '221'],\n",
       " ['_netbios', '222'],\n",
       " ['_warmd', '224'],\n",
       " ['_dovenull', '227'],\n",
       " ['_netstatistics', '228'],\n",
       " ['_avbdeviced', '229'],\n",
       " ['_krb_krbtgt', '230'],\n",
       " ['_krb_kadmin', '231'],\n",
       " ['_krb_changepw', '232'],\n",
       " ['_krb_kerberos', '233'],\n",
       " ['_krb_anonymous', '234'],\n",
       " ['_assetcache', '235'],\n",
       " ['_coremediaiod', '236'],\n",
       " ['_launchservicesd', '239'],\n",
       " ['_iconservices', '240'],\n",
       " ['_distnote', '241'],\n",
       " ['_nsurlsessiond', '242'],\n",
       " ['_displaypolicyd', '244'],\n",
       " ['_astris', '245'],\n",
       " ['_krbfast', '246'],\n",
       " ['_gamecontrollerd', '247'],\n",
       " ['_mbsetupuser', '248'],\n",
       " ['_ondemand', '249'],\n",
       " ['_xserverdocs', '251'],\n",
       " ['_wwwproxy', '252'],\n",
       " ['_mobileasset', '253'],\n",
       " ['_findmydevice', '254'],\n",
       " ['_datadetectors', '257'],\n",
       " ['_captiveagent', '258'],\n",
       " ['_ctkd', '259'],\n",
       " ['_applepay', '260'],\n",
       " ['_hidd', '261'],\n",
       " ['_cmiodalassistants', '262'],\n",
       " ['_analyticsd', '263'],\n",
       " ['_fpsd', '265'],\n",
       " ['_timed', '266'],\n",
       " ['_nearbyd', '268'],\n",
       " ['_reportmemoryexception', '269'],\n",
       " ['_driverkit', '270'],\n",
       " ['_diskimagesiod', '271'],\n",
       " ['_logd', '272'],\n",
       " ['_appinstalld', '273'],\n",
       " ['_installcoordinationd', '274'],\n",
       " ['_demod', '275'],\n",
       " ['_rmd', '277'],\n",
       " ['_fud', '278'],\n",
       " ['_knowledgegraphd', '279'],\n",
       " ['_coreml', '280'],\n",
       " ['_oahd', '441']]"
      ]
     },
     "execution_count": 262,
     "metadata": {},
     "output_type": "execute_result"
    }
   ],
   "source": [
    "# (1) username and (2) user ID -- index 0 and index 2\n",
    "\n",
    "[ [  one_line.split(':')[0], one_line.split(':')[2]   ]\n",
    " for one_line in open('/etc/passwd')\n",
    "if not one_line.startswith('#')]"
   ]
  },
  {
   "cell_type": "code",
   "execution_count": 264,
   "metadata": {},
   "outputs": [
    {
     "data": {
      "text/plain": [
       "{'nobody': '-2',\n",
       " 'root': '0',\n",
       " 'daemon': '1',\n",
       " '_uucp': '4',\n",
       " '_taskgated': '13',\n",
       " '_networkd': '24',\n",
       " '_installassistant': '25',\n",
       " '_lp': '26',\n",
       " '_postfix': '27',\n",
       " '_scsd': '31',\n",
       " '_ces': '32',\n",
       " '_appstore': '33',\n",
       " '_mcxalr': '54',\n",
       " '_appleevents': '55',\n",
       " '_geod': '56',\n",
       " '_devdocs': '59',\n",
       " '_sandbox': '60',\n",
       " '_mdnsresponder': '65',\n",
       " '_ard': '67',\n",
       " '_www': '70',\n",
       " '_eppc': '71',\n",
       " '_cvs': '72',\n",
       " '_svn': '73',\n",
       " '_mysql': '74',\n",
       " '_sshd': '75',\n",
       " '_qtss': '76',\n",
       " '_cyrus': '77',\n",
       " '_mailman': '78',\n",
       " '_appserver': '79',\n",
       " '_clamav': '82',\n",
       " '_amavisd': '83',\n",
       " '_jabber': '84',\n",
       " '_appowner': '87',\n",
       " '_windowserver': '88',\n",
       " '_spotlight': '89',\n",
       " '_tokend': '91',\n",
       " '_securityagent': '92',\n",
       " '_calendar': '93',\n",
       " '_teamsserver': '94',\n",
       " '_update_sharing': '95',\n",
       " '_installer': '96',\n",
       " '_atsserver': '97',\n",
       " '_ftp': '98',\n",
       " '_unknown': '99',\n",
       " '_softwareupdate': '200',\n",
       " '_coreaudiod': '202',\n",
       " '_screensaver': '203',\n",
       " '_locationd': '205',\n",
       " '_trustevaluationagent': '208',\n",
       " '_timezone': '210',\n",
       " '_lda': '211',\n",
       " '_cvmsroot': '212',\n",
       " '_usbmuxd': '213',\n",
       " '_dovecot': '214',\n",
       " '_dpaudio': '215',\n",
       " '_postgres': '216',\n",
       " '_krbtgt': '217',\n",
       " '_kadmin_admin': '218',\n",
       " '_kadmin_changepw': '219',\n",
       " '_devicemgr': '220',\n",
       " '_webauthserver': '221',\n",
       " '_netbios': '222',\n",
       " '_warmd': '224',\n",
       " '_dovenull': '227',\n",
       " '_netstatistics': '228',\n",
       " '_avbdeviced': '229',\n",
       " '_krb_krbtgt': '230',\n",
       " '_krb_kadmin': '231',\n",
       " '_krb_changepw': '232',\n",
       " '_krb_kerberos': '233',\n",
       " '_krb_anonymous': '234',\n",
       " '_assetcache': '235',\n",
       " '_coremediaiod': '236',\n",
       " '_launchservicesd': '239',\n",
       " '_iconservices': '240',\n",
       " '_distnote': '241',\n",
       " '_nsurlsessiond': '242',\n",
       " '_displaypolicyd': '244',\n",
       " '_astris': '245',\n",
       " '_krbfast': '246',\n",
       " '_gamecontrollerd': '247',\n",
       " '_mbsetupuser': '248',\n",
       " '_ondemand': '249',\n",
       " '_xserverdocs': '251',\n",
       " '_wwwproxy': '252',\n",
       " '_mobileasset': '253',\n",
       " '_findmydevice': '254',\n",
       " '_datadetectors': '257',\n",
       " '_captiveagent': '258',\n",
       " '_ctkd': '259',\n",
       " '_applepay': '260',\n",
       " '_hidd': '261',\n",
       " '_cmiodalassistants': '262',\n",
       " '_analyticsd': '263',\n",
       " '_fpsd': '265',\n",
       " '_timed': '266',\n",
       " '_nearbyd': '268',\n",
       " '_reportmemoryexception': '269',\n",
       " '_driverkit': '270',\n",
       " '_diskimagesiod': '271',\n",
       " '_logd': '272',\n",
       " '_appinstalld': '273',\n",
       " '_installcoordinationd': '274',\n",
       " '_demod': '275',\n",
       " '_rmd': '277',\n",
       " '_fud': '278',\n",
       " '_knowledgegraphd': '279',\n",
       " '_coreml': '280',\n",
       " '_oahd': '441'}"
      ]
     },
     "execution_count": 264,
     "metadata": {},
     "output_type": "execute_result"
    }
   ],
   "source": [
    "# (1) username and (2) user ID -- index 0 and index 2\n",
    "\n",
    "dict([ one_line.split(':')[:3:2]   # [start:end+1:step]\n",
    " for one_line in open('/etc/passwd')\n",
    "if not one_line.startswith('#')])"
   ]
  },
  {
   "cell_type": "code",
   "execution_count": 265,
   "metadata": {},
   "outputs": [
    {
     "data": {
      "text/plain": [
       "{'nobody': '-2',\n",
       " 'root': '0',\n",
       " 'daemon': '1',\n",
       " '_uucp': '4',\n",
       " '_taskgated': '13',\n",
       " '_networkd': '24',\n",
       " '_installassistant': '25',\n",
       " '_lp': '26',\n",
       " '_postfix': '27',\n",
       " '_scsd': '31',\n",
       " '_ces': '32',\n",
       " '_appstore': '33',\n",
       " '_mcxalr': '54',\n",
       " '_appleevents': '55',\n",
       " '_geod': '56',\n",
       " '_devdocs': '59',\n",
       " '_sandbox': '60',\n",
       " '_mdnsresponder': '65',\n",
       " '_ard': '67',\n",
       " '_www': '70',\n",
       " '_eppc': '71',\n",
       " '_cvs': '72',\n",
       " '_svn': '73',\n",
       " '_mysql': '74',\n",
       " '_sshd': '75',\n",
       " '_qtss': '76',\n",
       " '_cyrus': '77',\n",
       " '_mailman': '78',\n",
       " '_appserver': '79',\n",
       " '_clamav': '82',\n",
       " '_amavisd': '83',\n",
       " '_jabber': '84',\n",
       " '_appowner': '87',\n",
       " '_windowserver': '88',\n",
       " '_spotlight': '89',\n",
       " '_tokend': '91',\n",
       " '_securityagent': '92',\n",
       " '_calendar': '93',\n",
       " '_teamsserver': '94',\n",
       " '_update_sharing': '95',\n",
       " '_installer': '96',\n",
       " '_atsserver': '97',\n",
       " '_ftp': '98',\n",
       " '_unknown': '99',\n",
       " '_softwareupdate': '200',\n",
       " '_coreaudiod': '202',\n",
       " '_screensaver': '203',\n",
       " '_locationd': '205',\n",
       " '_trustevaluationagent': '208',\n",
       " '_timezone': '210',\n",
       " '_lda': '211',\n",
       " '_cvmsroot': '212',\n",
       " '_usbmuxd': '213',\n",
       " '_dovecot': '214',\n",
       " '_dpaudio': '215',\n",
       " '_postgres': '216',\n",
       " '_krbtgt': '217',\n",
       " '_kadmin_admin': '218',\n",
       " '_kadmin_changepw': '219',\n",
       " '_devicemgr': '220',\n",
       " '_webauthserver': '221',\n",
       " '_netbios': '222',\n",
       " '_warmd': '224',\n",
       " '_dovenull': '227',\n",
       " '_netstatistics': '228',\n",
       " '_avbdeviced': '229',\n",
       " '_krb_krbtgt': '230',\n",
       " '_krb_kadmin': '231',\n",
       " '_krb_changepw': '232',\n",
       " '_krb_kerberos': '233',\n",
       " '_krb_anonymous': '234',\n",
       " '_assetcache': '235',\n",
       " '_coremediaiod': '236',\n",
       " '_launchservicesd': '239',\n",
       " '_iconservices': '240',\n",
       " '_distnote': '241',\n",
       " '_nsurlsessiond': '242',\n",
       " '_displaypolicyd': '244',\n",
       " '_astris': '245',\n",
       " '_krbfast': '246',\n",
       " '_gamecontrollerd': '247',\n",
       " '_mbsetupuser': '248',\n",
       " '_ondemand': '249',\n",
       " '_xserverdocs': '251',\n",
       " '_wwwproxy': '252',\n",
       " '_mobileasset': '253',\n",
       " '_findmydevice': '254',\n",
       " '_datadetectors': '257',\n",
       " '_captiveagent': '258',\n",
       " '_ctkd': '259',\n",
       " '_applepay': '260',\n",
       " '_hidd': '261',\n",
       " '_cmiodalassistants': '262',\n",
       " '_analyticsd': '263',\n",
       " '_fpsd': '265',\n",
       " '_timed': '266',\n",
       " '_nearbyd': '268',\n",
       " '_reportmemoryexception': '269',\n",
       " '_driverkit': '270',\n",
       " '_diskimagesiod': '271',\n",
       " '_logd': '272',\n",
       " '_appinstalld': '273',\n",
       " '_installcoordinationd': '274',\n",
       " '_demod': '275',\n",
       " '_rmd': '277',\n",
       " '_fud': '278',\n",
       " '_knowledgegraphd': '279',\n",
       " '_coreml': '280',\n",
       " '_oahd': '441'}"
      ]
     },
     "execution_count": 265,
     "metadata": {},
     "output_type": "execute_result"
    }
   ],
   "source": [
    "# dict comprehension -- this creates *ONE* dictionary\n",
    "\n",
    "{ one_line.split(':')[0]  : one_line.split(':')[2]\n",
    " for one_line in open('/etc/passwd')\n",
    "if not one_line.startswith('#') }"
   ]
  },
  {
   "cell_type": "code",
   "execution_count": 266,
   "metadata": {},
   "outputs": [
    {
     "data": {
      "text/plain": [
       "{'nobody': '-2',\n",
       " 'root': '0',\n",
       " 'daemon': '1',\n",
       " '_uucp': '4',\n",
       " '_taskgated': '13',\n",
       " '_networkd': '24',\n",
       " '_installassistant': '25',\n",
       " '_lp': '26',\n",
       " '_postfix': '27',\n",
       " '_scsd': '31',\n",
       " '_ces': '32',\n",
       " '_appstore': '33',\n",
       " '_mcxalr': '54',\n",
       " '_appleevents': '55',\n",
       " '_geod': '56',\n",
       " '_devdocs': '59',\n",
       " '_sandbox': '60',\n",
       " '_mdnsresponder': '65',\n",
       " '_ard': '67',\n",
       " '_www': '70',\n",
       " '_eppc': '71',\n",
       " '_cvs': '72',\n",
       " '_svn': '73',\n",
       " '_mysql': '74',\n",
       " '_sshd': '75',\n",
       " '_qtss': '76',\n",
       " '_cyrus': '77',\n",
       " '_mailman': '78',\n",
       " '_appserver': '79',\n",
       " '_clamav': '82',\n",
       " '_amavisd': '83',\n",
       " '_jabber': '84',\n",
       " '_appowner': '87',\n",
       " '_windowserver': '88',\n",
       " '_spotlight': '89',\n",
       " '_tokend': '91',\n",
       " '_securityagent': '92',\n",
       " '_calendar': '93',\n",
       " '_teamsserver': '94',\n",
       " '_update_sharing': '95',\n",
       " '_installer': '96',\n",
       " '_atsserver': '97',\n",
       " '_ftp': '98',\n",
       " '_unknown': '99',\n",
       " '_softwareupdate': '200',\n",
       " '_coreaudiod': '202',\n",
       " '_screensaver': '203',\n",
       " '_locationd': '205',\n",
       " '_trustevaluationagent': '208',\n",
       " '_timezone': '210',\n",
       " '_lda': '211',\n",
       " '_cvmsroot': '212',\n",
       " '_usbmuxd': '213',\n",
       " '_dovecot': '214',\n",
       " '_dpaudio': '215',\n",
       " '_postgres': '216',\n",
       " '_krbtgt': '217',\n",
       " '_kadmin_admin': '218',\n",
       " '_kadmin_changepw': '219',\n",
       " '_devicemgr': '220',\n",
       " '_webauthserver': '221',\n",
       " '_netbios': '222',\n",
       " '_warmd': '224',\n",
       " '_dovenull': '227',\n",
       " '_netstatistics': '228',\n",
       " '_avbdeviced': '229',\n",
       " '_krb_krbtgt': '230',\n",
       " '_krb_kadmin': '231',\n",
       " '_krb_changepw': '232',\n",
       " '_krb_kerberos': '233',\n",
       " '_krb_anonymous': '234',\n",
       " '_assetcache': '235',\n",
       " '_coremediaiod': '236',\n",
       " '_launchservicesd': '239',\n",
       " '_iconservices': '240',\n",
       " '_distnote': '241',\n",
       " '_nsurlsessiond': '242',\n",
       " '_displaypolicyd': '244',\n",
       " '_astris': '245',\n",
       " '_krbfast': '246',\n",
       " '_gamecontrollerd': '247',\n",
       " '_mbsetupuser': '248',\n",
       " '_ondemand': '249',\n",
       " '_xserverdocs': '251',\n",
       " '_wwwproxy': '252',\n",
       " '_mobileasset': '253',\n",
       " '_findmydevice': '254',\n",
       " '_datadetectors': '257',\n",
       " '_captiveagent': '258',\n",
       " '_ctkd': '259',\n",
       " '_applepay': '260',\n",
       " '_hidd': '261',\n",
       " '_cmiodalassistants': '262',\n",
       " '_analyticsd': '263',\n",
       " '_fpsd': '265',\n",
       " '_timed': '266',\n",
       " '_nearbyd': '268',\n",
       " '_reportmemoryexception': '269',\n",
       " '_driverkit': '270',\n",
       " '_diskimagesiod': '271',\n",
       " '_logd': '272',\n",
       " '_appinstalld': '273',\n",
       " '_installcoordinationd': '274',\n",
       " '_demod': '275',\n",
       " '_rmd': '277',\n",
       " '_fud': '278',\n",
       " '_knowledgegraphd': '279',\n",
       " '_coreml': '280',\n",
       " '_oahd': '441'}"
      ]
     },
     "execution_count": 266,
     "metadata": {},
     "output_type": "execute_result"
    }
   ],
   "source": [
    "{ fields[0]  : fields[2]\n",
    " for one_line in open('/etc/passwd')\n",
    "if not one_line.startswith('#') and (fields := one_line.split(':'))}"
   ]
  },
  {
   "cell_type": "code",
   "execution_count": 267,
   "metadata": {},
   "outputs": [
    {
     "data": {
      "text/plain": [
       "{'nobody': ['*',\n",
       "  '-2',\n",
       "  '-2',\n",
       "  'Unprivileged User',\n",
       "  '/var/empty',\n",
       "  '/usr/bin/false\\n'],\n",
       " 'root': ['*', '0', '0', 'System Administrator', '/var/root', '/bin/sh\\n'],\n",
       " 'daemon': ['*', '1', '1', 'System Services', '/var/root', '/usr/bin/false\\n'],\n",
       " '_uucp': ['*',\n",
       "  '4',\n",
       "  '4',\n",
       "  'Unix to Unix Copy Protocol',\n",
       "  '/var/spool/uucp',\n",
       "  '/usr/sbin/uucico\\n'],\n",
       " '_taskgated': ['*',\n",
       "  '13',\n",
       "  '13',\n",
       "  'Task Gate Daemon',\n",
       "  '/var/empty',\n",
       "  '/usr/bin/false\\n'],\n",
       " '_networkd': ['*',\n",
       "  '24',\n",
       "  '24',\n",
       "  'Network Services',\n",
       "  '/var/networkd',\n",
       "  '/usr/bin/false\\n'],\n",
       " '_installassistant': ['*',\n",
       "  '25',\n",
       "  '25',\n",
       "  'Install Assistant',\n",
       "  '/var/empty',\n",
       "  '/usr/bin/false\\n'],\n",
       " '_lp': ['*',\n",
       "  '26',\n",
       "  '26',\n",
       "  'Printing Services',\n",
       "  '/var/spool/cups',\n",
       "  '/usr/bin/false\\n'],\n",
       " '_postfix': ['*',\n",
       "  '27',\n",
       "  '27',\n",
       "  'Postfix Mail Server',\n",
       "  '/var/spool/postfix',\n",
       "  '/usr/bin/false\\n'],\n",
       " '_scsd': ['*',\n",
       "  '31',\n",
       "  '31',\n",
       "  'Service Configuration Service',\n",
       "  '/var/empty',\n",
       "  '/usr/bin/false\\n'],\n",
       " '_ces': ['*',\n",
       "  '32',\n",
       "  '32',\n",
       "  'Certificate Enrollment Service',\n",
       "  '/var/empty',\n",
       "  '/usr/bin/false\\n'],\n",
       " '_appstore': ['*',\n",
       "  '33',\n",
       "  '33',\n",
       "  'Mac App Store Service',\n",
       "  '/var/db/appstore',\n",
       "  '/usr/bin/false\\n'],\n",
       " '_mcxalr': ['*',\n",
       "  '54',\n",
       "  '54',\n",
       "  'MCX AppLaunch',\n",
       "  '/var/empty',\n",
       "  '/usr/bin/false\\n'],\n",
       " '_appleevents': ['*',\n",
       "  '55',\n",
       "  '55',\n",
       "  'AppleEvents Daemon',\n",
       "  '/var/empty',\n",
       "  '/usr/bin/false\\n'],\n",
       " '_geod': ['*',\n",
       "  '56',\n",
       "  '56',\n",
       "  'Geo Services Daemon',\n",
       "  '/var/db/geod',\n",
       "  '/usr/bin/false\\n'],\n",
       " '_devdocs': ['*',\n",
       "  '59',\n",
       "  '59',\n",
       "  'Developer Documentation',\n",
       "  '/var/empty',\n",
       "  '/usr/bin/false\\n'],\n",
       " '_sandbox': ['*', '60', '60', 'Seatbelt', '/var/empty', '/usr/bin/false\\n'],\n",
       " '_mdnsresponder': ['*',\n",
       "  '65',\n",
       "  '65',\n",
       "  'mDNSResponder',\n",
       "  '/var/empty',\n",
       "  '/usr/bin/false\\n'],\n",
       " '_ard': ['*',\n",
       "  '67',\n",
       "  '67',\n",
       "  'Apple Remote Desktop',\n",
       "  '/var/empty',\n",
       "  '/usr/bin/false\\n'],\n",
       " '_www': ['*',\n",
       "  '70',\n",
       "  '70',\n",
       "  'World Wide Web Server',\n",
       "  '/Library/WebServer',\n",
       "  '/usr/bin/false\\n'],\n",
       " '_eppc': ['*',\n",
       "  '71',\n",
       "  '71',\n",
       "  'Apple Events User',\n",
       "  '/var/empty',\n",
       "  '/usr/bin/false\\n'],\n",
       " '_cvs': ['*', '72', '72', 'CVS Server', '/var/empty', '/usr/bin/false\\n'],\n",
       " '_svn': ['*', '73', '73', 'SVN Server', '/var/empty', '/usr/bin/false\\n'],\n",
       " '_mysql': ['*', '74', '74', 'MySQL Server', '/var/empty', '/usr/bin/false\\n'],\n",
       " '_sshd': ['*',\n",
       "  '75',\n",
       "  '75',\n",
       "  'sshd Privilege separation',\n",
       "  '/var/empty',\n",
       "  '/usr/bin/false\\n'],\n",
       " '_qtss': ['*',\n",
       "  '76',\n",
       "  '76',\n",
       "  'QuickTime Streaming Server',\n",
       "  '/var/empty',\n",
       "  '/usr/bin/false\\n'],\n",
       " '_cyrus': ['*',\n",
       "  '77',\n",
       "  '6',\n",
       "  'Cyrus Administrator',\n",
       "  '/var/imap',\n",
       "  '/usr/bin/false\\n'],\n",
       " '_mailman': ['*',\n",
       "  '78',\n",
       "  '78',\n",
       "  'Mailman List Server',\n",
       "  '/var/empty',\n",
       "  '/usr/bin/false\\n'],\n",
       " '_appserver': ['*',\n",
       "  '79',\n",
       "  '79',\n",
       "  'Application Server',\n",
       "  '/var/empty',\n",
       "  '/usr/bin/false\\n'],\n",
       " '_clamav': ['*',\n",
       "  '82',\n",
       "  '82',\n",
       "  'ClamAV Daemon',\n",
       "  '/var/virusmails',\n",
       "  '/usr/bin/false\\n'],\n",
       " '_amavisd': ['*',\n",
       "  '83',\n",
       "  '83',\n",
       "  'AMaViS Daemon',\n",
       "  '/var/virusmails',\n",
       "  '/usr/bin/false\\n'],\n",
       " '_jabber': ['*',\n",
       "  '84',\n",
       "  '84',\n",
       "  'Jabber XMPP Server',\n",
       "  '/var/empty',\n",
       "  '/usr/bin/false\\n'],\n",
       " '_appowner': ['*',\n",
       "  '87',\n",
       "  '87',\n",
       "  'Application Owner',\n",
       "  '/var/empty',\n",
       "  '/usr/bin/false\\n'],\n",
       " '_windowserver': ['*',\n",
       "  '88',\n",
       "  '88',\n",
       "  'WindowServer',\n",
       "  '/var/empty',\n",
       "  '/usr/bin/false\\n'],\n",
       " '_spotlight': ['*',\n",
       "  '89',\n",
       "  '89',\n",
       "  'Spotlight',\n",
       "  '/var/empty',\n",
       "  '/usr/bin/false\\n'],\n",
       " '_tokend': ['*',\n",
       "  '91',\n",
       "  '91',\n",
       "  'Token Daemon',\n",
       "  '/var/empty',\n",
       "  '/usr/bin/false\\n'],\n",
       " '_securityagent': ['*',\n",
       "  '92',\n",
       "  '92',\n",
       "  'SecurityAgent',\n",
       "  '/var/db/securityagent',\n",
       "  '/usr/bin/false\\n'],\n",
       " '_calendar': ['*', '93', '93', 'Calendar', '/var/empty', '/usr/bin/false\\n'],\n",
       " '_teamsserver': ['*',\n",
       "  '94',\n",
       "  '94',\n",
       "  'TeamsServer',\n",
       "  '/var/teamsserver',\n",
       "  '/usr/bin/false\\n'],\n",
       " '_update_sharing': ['*',\n",
       "  '95',\n",
       "  '-2',\n",
       "  'Update Sharing',\n",
       "  '/var/empty',\n",
       "  '/usr/bin/false\\n'],\n",
       " '_installer': ['*',\n",
       "  '96',\n",
       "  '-2',\n",
       "  'Installer',\n",
       "  '/var/empty',\n",
       "  '/usr/bin/false\\n'],\n",
       " '_atsserver': ['*',\n",
       "  '97',\n",
       "  '97',\n",
       "  'ATS Server',\n",
       "  '/var/empty',\n",
       "  '/usr/bin/false\\n'],\n",
       " '_ftp': ['*', '98', '-2', 'FTP Daemon', '/var/empty', '/usr/bin/false\\n'],\n",
       " '_unknown': ['*',\n",
       "  '99',\n",
       "  '99',\n",
       "  'Unknown User',\n",
       "  '/var/empty',\n",
       "  '/usr/bin/false\\n'],\n",
       " '_softwareupdate': ['*',\n",
       "  '200',\n",
       "  '200',\n",
       "  'Software Update Service',\n",
       "  '/var/db/softwareupdate',\n",
       "  '/usr/bin/false\\n'],\n",
       " '_coreaudiod': ['*',\n",
       "  '202',\n",
       "  '202',\n",
       "  'Core Audio Daemon',\n",
       "  '/var/empty',\n",
       "  '/usr/bin/false\\n'],\n",
       " '_screensaver': ['*',\n",
       "  '203',\n",
       "  '203',\n",
       "  'Screensaver',\n",
       "  '/var/empty',\n",
       "  '/usr/bin/false\\n'],\n",
       " '_locationd': ['*',\n",
       "  '205',\n",
       "  '205',\n",
       "  'Location Daemon',\n",
       "  '/var/db/locationd',\n",
       "  '/usr/bin/false\\n'],\n",
       " '_trustevaluationagent': ['*',\n",
       "  '208',\n",
       "  '208',\n",
       "  'Trust Evaluation Agent',\n",
       "  '/var/empty',\n",
       "  '/usr/bin/false\\n'],\n",
       " '_timezone': ['*',\n",
       "  '210',\n",
       "  '210',\n",
       "  'AutoTimeZoneDaemon',\n",
       "  '/var/empty',\n",
       "  '/usr/bin/false\\n'],\n",
       " '_lda': ['*',\n",
       "  '211',\n",
       "  '211',\n",
       "  'Local Delivery Agent',\n",
       "  '/var/empty',\n",
       "  '/usr/bin/false\\n'],\n",
       " '_cvmsroot': ['*',\n",
       "  '212',\n",
       "  '212',\n",
       "  'CVMS Root',\n",
       "  '/var/empty',\n",
       "  '/usr/bin/false\\n'],\n",
       " '_usbmuxd': ['*',\n",
       "  '213',\n",
       "  '213',\n",
       "  'iPhone OS Device Helper',\n",
       "  '/var/db/lockdown',\n",
       "  '/usr/bin/false\\n'],\n",
       " '_dovecot': ['*',\n",
       "  '214',\n",
       "  '6',\n",
       "  'Dovecot Administrator',\n",
       "  '/var/empty',\n",
       "  '/usr/bin/false\\n'],\n",
       " '_dpaudio': ['*', '215', '215', 'DP Audio', '/var/empty', '/usr/bin/false\\n'],\n",
       " '_postgres': ['*',\n",
       "  '216',\n",
       "  '216',\n",
       "  'PostgreSQL Server',\n",
       "  '/var/empty',\n",
       "  '/usr/bin/false\\n'],\n",
       " '_krbtgt': ['*',\n",
       "  '217',\n",
       "  '-2',\n",
       "  'Kerberos Ticket Granting Ticket',\n",
       "  '/var/empty',\n",
       "  '/usr/bin/false\\n'],\n",
       " '_kadmin_admin': ['*',\n",
       "  '218',\n",
       "  '-2',\n",
       "  'Kerberos Admin Service',\n",
       "  '/var/empty',\n",
       "  '/usr/bin/false\\n'],\n",
       " '_kadmin_changepw': ['*',\n",
       "  '219',\n",
       "  '-2',\n",
       "  'Kerberos Change Password Service',\n",
       "  '/var/empty',\n",
       "  '/usr/bin/false\\n'],\n",
       " '_devicemgr': ['*',\n",
       "  '220',\n",
       "  '220',\n",
       "  'Device Management Server',\n",
       "  '/var/empty',\n",
       "  '/usr/bin/false\\n'],\n",
       " '_webauthserver': ['*',\n",
       "  '221',\n",
       "  '221',\n",
       "  'Web Auth Server',\n",
       "  '/var/empty',\n",
       "  '/usr/bin/false\\n'],\n",
       " '_netbios': ['*', '222', '222', 'NetBIOS', '/var/empty', '/usr/bin/false\\n'],\n",
       " '_warmd': ['*',\n",
       "  '224',\n",
       "  '224',\n",
       "  'Warm Daemon',\n",
       "  '/var/empty',\n",
       "  '/usr/bin/false\\n'],\n",
       " '_dovenull': ['*',\n",
       "  '227',\n",
       "  '227',\n",
       "  'Dovecot Authentication',\n",
       "  '/var/empty',\n",
       "  '/usr/bin/false\\n'],\n",
       " '_netstatistics': ['*',\n",
       "  '228',\n",
       "  '228',\n",
       "  'Network Statistics Daemon',\n",
       "  '/var/empty',\n",
       "  '/usr/bin/false\\n'],\n",
       " '_avbdeviced': ['*',\n",
       "  '229',\n",
       "  '-2',\n",
       "  'Ethernet AVB Device Daemon',\n",
       "  '/var/empty',\n",
       "  '/usr/bin/false\\n'],\n",
       " '_krb_krbtgt': ['*',\n",
       "  '230',\n",
       "  '-2',\n",
       "  'Open Directory Kerberos Ticket Granting Ticket',\n",
       "  '/var/empty',\n",
       "  '/usr/bin/false\\n'],\n",
       " '_krb_kadmin': ['*',\n",
       "  '231',\n",
       "  '-2',\n",
       "  'Open Directory Kerberos Admin Service',\n",
       "  '/var/empty',\n",
       "  '/usr/bin/false\\n'],\n",
       " '_krb_changepw': ['*',\n",
       "  '232',\n",
       "  '-2',\n",
       "  'Open Directory Kerberos Change Password Service',\n",
       "  '/var/empty',\n",
       "  '/usr/bin/false\\n'],\n",
       " '_krb_kerberos': ['*',\n",
       "  '233',\n",
       "  '-2',\n",
       "  'Open Directory Kerberos',\n",
       "  '/var/empty',\n",
       "  '/usr/bin/false\\n'],\n",
       " '_krb_anonymous': ['*',\n",
       "  '234',\n",
       "  '-2',\n",
       "  'Open Directory Kerberos Anonymous',\n",
       "  '/var/empty',\n",
       "  '/usr/bin/false\\n'],\n",
       " '_assetcache': ['*',\n",
       "  '235',\n",
       "  '235',\n",
       "  'Asset Cache Service',\n",
       "  '/var/empty',\n",
       "  '/usr/bin/false\\n'],\n",
       " '_coremediaiod': ['*',\n",
       "  '236',\n",
       "  '236',\n",
       "  'Core Media IO Daemon',\n",
       "  '/var/empty',\n",
       "  '/usr/bin/false\\n'],\n",
       " '_launchservicesd': ['*',\n",
       "  '239',\n",
       "  '239',\n",
       "  '_launchservicesd',\n",
       "  '/var/empty',\n",
       "  '/usr/bin/false\\n'],\n",
       " '_iconservices': ['*',\n",
       "  '240',\n",
       "  '240',\n",
       "  'IconServices',\n",
       "  '/var/empty',\n",
       "  '/usr/bin/false\\n'],\n",
       " '_distnote': ['*',\n",
       "  '241',\n",
       "  '241',\n",
       "  'DistNote',\n",
       "  '/var/empty',\n",
       "  '/usr/bin/false\\n'],\n",
       " '_nsurlsessiond': ['*',\n",
       "  '242',\n",
       "  '242',\n",
       "  'NSURLSession Daemon',\n",
       "  '/var/db/nsurlsessiond',\n",
       "  '/usr/bin/false\\n'],\n",
       " '_displaypolicyd': ['*',\n",
       "  '244',\n",
       "  '244',\n",
       "  'Display Policy Daemon',\n",
       "  '/var/empty',\n",
       "  '/usr/bin/false\\n'],\n",
       " '_astris': ['*',\n",
       "  '245',\n",
       "  '245',\n",
       "  'Astris Services',\n",
       "  '/var/db/astris',\n",
       "  '/usr/bin/false\\n'],\n",
       " '_krbfast': ['*',\n",
       "  '246',\n",
       "  '-2',\n",
       "  'Kerberos FAST Account',\n",
       "  '/var/empty',\n",
       "  '/usr/bin/false\\n'],\n",
       " '_gamecontrollerd': ['*',\n",
       "  '247',\n",
       "  '247',\n",
       "  'Game Controller Daemon',\n",
       "  '/var/empty',\n",
       "  '/usr/bin/false\\n'],\n",
       " '_mbsetupuser': ['*',\n",
       "  '248',\n",
       "  '248',\n",
       "  'Setup User',\n",
       "  '/var/setup',\n",
       "  '/bin/bash\\n'],\n",
       " '_ondemand': ['*',\n",
       "  '249',\n",
       "  '249',\n",
       "  'On Demand Resource Daemon',\n",
       "  '/var/db/ondemand',\n",
       "  '/usr/bin/false\\n'],\n",
       " '_xserverdocs': ['*',\n",
       "  '251',\n",
       "  '251',\n",
       "  'macOS Server Documents Service',\n",
       "  '/var/empty',\n",
       "  '/usr/bin/false\\n'],\n",
       " '_wwwproxy': ['*',\n",
       "  '252',\n",
       "  '252',\n",
       "  'WWW Proxy',\n",
       "  '/var/empty',\n",
       "  '/usr/bin/false\\n'],\n",
       " '_mobileasset': ['*',\n",
       "  '253',\n",
       "  '253',\n",
       "  'MobileAsset User',\n",
       "  '/var/ma',\n",
       "  '/usr/bin/false\\n'],\n",
       " '_findmydevice': ['*',\n",
       "  '254',\n",
       "  '254',\n",
       "  'Find My Device Daemon',\n",
       "  '/var/db/findmydevice',\n",
       "  '/usr/bin/false\\n'],\n",
       " '_datadetectors': ['*',\n",
       "  '257',\n",
       "  '257',\n",
       "  'DataDetectors',\n",
       "  '/var/db/datadetectors',\n",
       "  '/usr/bin/false\\n'],\n",
       " '_captiveagent': ['*',\n",
       "  '258',\n",
       "  '258',\n",
       "  'captiveagent',\n",
       "  '/var/empty',\n",
       "  '/usr/bin/false\\n'],\n",
       " '_ctkd': ['*',\n",
       "  '259',\n",
       "  '259',\n",
       "  'ctkd Account',\n",
       "  '/var/empty',\n",
       "  '/usr/bin/false\\n'],\n",
       " '_applepay': ['*',\n",
       "  '260',\n",
       "  '260',\n",
       "  'applepay Account',\n",
       "  '/var/db/applepay',\n",
       "  '/usr/bin/false\\n'],\n",
       " '_hidd': ['*',\n",
       "  '261',\n",
       "  '261',\n",
       "  'HID Service User',\n",
       "  '/var/db/hidd',\n",
       "  '/usr/bin/false\\n'],\n",
       " '_cmiodalassistants': ['*',\n",
       "  '262',\n",
       "  '262',\n",
       "  'CoreMedia IO Assistants User',\n",
       "  '/var/db/cmiodalassistants',\n",
       "  '/usr/bin/false\\n'],\n",
       " '_analyticsd': ['*',\n",
       "  '263',\n",
       "  '263',\n",
       "  'Analytics Daemon',\n",
       "  '/var/db/analyticsd',\n",
       "  '/usr/bin/false\\n'],\n",
       " '_fpsd': ['*',\n",
       "  '265',\n",
       "  '265',\n",
       "  'FPS Daemon',\n",
       "  '/var/db/fpsd',\n",
       "  '/usr/bin/false\\n'],\n",
       " '_timed': ['*',\n",
       "  '266',\n",
       "  '266',\n",
       "  'Time Sync Daemon',\n",
       "  '/var/db/timed',\n",
       "  '/usr/bin/false\\n'],\n",
       " '_nearbyd': ['*',\n",
       "  '268',\n",
       "  '268',\n",
       "  'Proximity and Ranging Daemon',\n",
       "  '/var/db/nearbyd',\n",
       "  '/usr/bin/false\\n'],\n",
       " '_reportmemoryexception': ['*',\n",
       "  '269',\n",
       "  '269',\n",
       "  'ReportMemoryException',\n",
       "  '/var/db/reportmemoryexception',\n",
       "  '/usr/bin/false\\n'],\n",
       " '_driverkit': ['*',\n",
       "  '270',\n",
       "  '270',\n",
       "  'DriverKit',\n",
       "  '/var/empty',\n",
       "  '/usr/bin/false\\n'],\n",
       " '_diskimagesiod': ['*',\n",
       "  '271',\n",
       "  '271',\n",
       "  'DiskImages IO Daemon',\n",
       "  '/var/db/diskimagesiod',\n",
       "  '/usr/bin/false\\n'],\n",
       " '_logd': ['*',\n",
       "  '272',\n",
       "  '272',\n",
       "  'Log Daemon',\n",
       "  '/var/db/diagnostics',\n",
       "  '/usr/bin/false\\n'],\n",
       " '_appinstalld': ['*',\n",
       "  '273',\n",
       "  '273',\n",
       "  'App Install Daemon',\n",
       "  '/var/db/appinstalld',\n",
       "  '/usr/bin/false\\n'],\n",
       " '_installcoordinationd': ['*',\n",
       "  '274',\n",
       "  '274',\n",
       "  'Install Coordination Daemon',\n",
       "  '/var/db/installcoordinationd',\n",
       "  '/usr/bin/false\\n'],\n",
       " '_demod': ['*',\n",
       "  '275',\n",
       "  '275',\n",
       "  'Demo Daemon',\n",
       "  '/var/empty',\n",
       "  '/usr/bin/false\\n'],\n",
       " '_rmd': ['*',\n",
       "  '277',\n",
       "  '277',\n",
       "  'Remote Management Daemon',\n",
       "  '/var/db/rmd',\n",
       "  '/usr/bin/false\\n'],\n",
       " '_fud': ['*',\n",
       "  '278',\n",
       "  '278',\n",
       "  'Firmware Update Daemon',\n",
       "  '/var/db/fud',\n",
       "  '/usr/bin/false\\n'],\n",
       " '_knowledgegraphd': ['*',\n",
       "  '279',\n",
       "  '279',\n",
       "  'Knowledge Graph Daemon',\n",
       "  '/var/db/knowledgegraphd',\n",
       "  '/usr/bin/false\\n'],\n",
       " '_coreml': ['*',\n",
       "  '280',\n",
       "  '280',\n",
       "  'CoreML Services',\n",
       "  '/var/empty',\n",
       "  '/usr/bin/false\\n'],\n",
       " '_oahd': ['*', '441', '441', 'OAH Daemon', '/var/empty', '/usr/bin/false\\n']}"
      ]
     },
     "execution_count": 267,
     "metadata": {},
     "output_type": "execute_result"
    }
   ],
   "source": [
    "{ one_line.split(':')[0]  : one_line.split(':')[1:]\n",
    " for one_line in open('/etc/passwd')\n",
    "if not one_line.startswith('#') }"
   ]
  },
  {
   "cell_type": "code",
   "execution_count": 268,
   "metadata": {},
   "outputs": [
    {
     "name": "stdout",
     "output_type": "stream",
     "text": [
      "file0.txt  file3.txt\t\t mini-access-log.txt  myoutput.txt\r\n",
      "file1.txt  file4.txt\t\t myconfig.txt\t      nums.txt\r\n",
      "file2.txt  linux-etc-passwd.txt  myconfig2.txt\t      shoe-data.txt\r\n"
     ]
    }
   ],
   "source": [
    "!ls *.txt"
   ]
  },
  {
   "cell_type": "code",
   "execution_count": 269,
   "metadata": {},
   "outputs": [
    {
     "name": "stdout",
     "output_type": "stream",
     "text": [
      "a=1\r\n",
      "b=2\r\n",
      "c=3\r\n",
      "d=[10, 20, 30]\r\n"
     ]
    }
   ],
   "source": [
    "!cat myconfig.txt"
   ]
  },
  {
   "cell_type": "markdown",
   "metadata": {},
   "source": [
    "# Exercise: dict comprehension\n",
    "\n",
    "Use a dict comprehension to read from a config file, and turn it into name-value pairs in a dict. Note that whatever values you read will be strings, regardless of what they look like or originally were."
   ]
  },
  {
   "cell_type": "code",
   "execution_count": 272,
   "metadata": {},
   "outputs": [
    {
     "data": {
      "text/plain": [
       "{'a': '1', 'b': '2', 'c': '3', 'd': '[10, 20, 30]'}"
      ]
     },
     "execution_count": 272,
     "metadata": {},
     "output_type": "execute_result"
    }
   ],
   "source": [
    "{one_line.strip().split('=')[0]  : one_line.strip().split('=')[1]\n",
    " for one_line in open('myconfig.txt')}"
   ]
  },
  {
   "cell_type": "code",
   "execution_count": 273,
   "metadata": {},
   "outputs": [
    {
     "data": {
      "text/plain": [
       "{'a': 1, 'b': 2, 'c': 3, 'd': [10, 20, 30]}"
      ]
     },
     "execution_count": 273,
     "metadata": {},
     "output_type": "execute_result"
    }
   ],
   "source": [
    "# this is dangerous!\n",
    "\n",
    "{one_line.strip().split('=')[0]  : eval(one_line.strip().split('=')[1])\n",
    " for one_line in open('myconfig.txt')}"
   ]
  },
  {
   "cell_type": "code",
   "execution_count": 274,
   "metadata": {},
   "outputs": [],
   "source": [
    "# eval overlaps 75% with evil!"
   ]
  },
  {
   "cell_type": "markdown",
   "metadata": {},
   "source": [
    "# Set comprehension\n",
    "\n",
    "- Returns a new set\n",
    "- Just like a list comprehension, but uses `{}`\n",
    "- Don't put `:` between things, or it becomes a dict comprehension"
   ]
  },
  {
   "cell_type": "code",
   "execution_count": 275,
   "metadata": {},
   "outputs": [
    {
     "data": {
      "text/plain": [
       "300"
      ]
     },
     "execution_count": 275,
     "metadata": {},
     "output_type": "execute_result"
    }
   ],
   "source": [
    "s = '10 20 30 40 50 10 20 30 40 50'\n",
    "\n",
    "# list comprehension\n",
    "sum([int(one_number)\n",
    "     for one_number in s.split()])"
   ]
  },
  {
   "cell_type": "code",
   "execution_count": 276,
   "metadata": {},
   "outputs": [
    {
     "data": {
      "text/plain": [
       "150"
      ]
     },
     "execution_count": 276,
     "metadata": {},
     "output_type": "execute_result"
    }
   ],
   "source": [
    "s = '10 20 30 40 50 10 20 30 40 50'\n",
    "\n",
    "# set comprehension\n",
    "sum({int(one_number)\n",
    "     for one_number in s.split()})"
   ]
  },
  {
   "cell_type": "code",
   "execution_count": 278,
   "metadata": {},
   "outputs": [
    {
     "name": "stdout",
     "output_type": "stream",
     "text": [
      "##\r\n",
      "# User Database\r\n",
      "# \r\n",
      "# Note that this file is consulted directly only when the system is running\r\n",
      "# in single-user mode.  At other times this information is provided by\r\n",
      "# Open Directory.\r\n",
      "#\r\n",
      "# See the opendirectoryd(8) man page for additional information about\r\n",
      "# Open Directory.\r\n",
      "##\r\n",
      "nobody:*:-2:-2:Unprivileged User:/var/empty:/usr/bin/false\r\n",
      "root:*:0:0:System Administrator:/var/root:/bin/sh\r\n",
      "daemon:*:1:1:System Services:/var/root:/usr/bin/false\r\n",
      "_uucp:*:4:4:Unix to Unix Copy Protocol:/var/spool/uucp:/usr/sbin/uucico\r\n",
      "_taskgated:*:13:13:Task Gate Daemon:/var/empty:/usr/bin/false\r\n",
      "_networkd:*:24:24:Network Services:/var/networkd:/usr/bin/false\r\n",
      "_installassistant:*:25:25:Install Assistant:/var/empty:/usr/bin/false\r\n",
      "_lp:*:26:26:Printing Services:/var/spool/cups:/usr/bin/false\r\n",
      "_postfix:*:27:27:Postfix Mail Server:/var/spool/postfix:/usr/bin/false\r\n",
      "_scsd:*:31:31:Service Configuration Service:/var/empty:/usr/bin/false\r\n"
     ]
    }
   ],
   "source": [
    "!head -20 /etc/passwd"
   ]
  },
  {
   "cell_type": "code",
   "execution_count": 283,
   "metadata": {},
   "outputs": [
    {
     "data": {
      "text/plain": [
       "{'/bin/bash', '/bin/sh', '/usr/bin/false', '/usr/sbin/uucico'}"
      ]
     },
     "execution_count": 283,
     "metadata": {},
     "output_type": "execute_result"
    }
   ],
   "source": [
    "# What are the different shells in /etc/passwd?\n",
    "\n",
    "{one_line.strip().split(':')[-1]\n",
    " for one_line in open('/etc/passwd')\n",
    " if not one_line.startswith('#')}"
   ]
  },
  {
   "cell_type": "markdown",
   "metadata": {},
   "source": [
    "# Exercises with comprehensions\n",
    "\n",
    "1. Create a set of the different IP addresses in `mini-access-log.txt`.\n",
    "2. Find the 3 most common IP addresses in `mini-access-log.txt`.\n"
   ]
  },
  {
   "cell_type": "code",
   "execution_count": 284,
   "metadata": {
    "collapsed": true
   },
   "outputs": [
    {
     "name": "stdout",
     "output_type": "stream",
     "text": [
      "67.218.116.165 - - [30/Jan/2010:00:03:18 +0200] \"GET /robots.txt HTTP/1.0\" 200 99 \"-\" \"Mozilla/5.0 (Twiceler-0.9 http://www.cuil.com/twiceler/robot.html)\"\r\n",
      "66.249.71.65 - - [30/Jan/2010:00:12:06 +0200] \"GET /browse/one_node/1557 HTTP/1.1\" 200 39208 \"-\" \"Mozilla/5.0 (compatible; Googlebot/2.1; +http://www.google.com/bot.html)\"\r\n",
      "65.55.106.183 - - [30/Jan/2010:01:29:23 +0200] \"GET /robots.txt HTTP/1.1\" 200 99 \"-\" \"msnbot/2.0b (+http://search.msn.com/msnbot.htm)\"\r\n",
      "65.55.106.183 - - [30/Jan/2010:01:30:06 +0200] \"GET /browse/one_model/2162 HTTP/1.1\" 200 2181 \"-\" \"msnbot/2.0b (+http://search.msn.com/msnbot.htm)\"\r\n",
      "66.249.71.65 - - [30/Jan/2010:02:07:14 +0200] \"GET /browse/browse_applet_tab/2593 HTTP/1.1\" 200 10305 \"-\" \"Mozilla/5.0 (compatible; Googlebot/2.1; +http://www.google.com/bot.html)\"\r\n",
      "66.249.71.65 - - [30/Jan/2010:02:10:39 +0200] \"GET /browse/browse_files_tab/2499?tab=true HTTP/1.1\" 200 446 \"-\" \"Mozilla/5.0 (compatible; Googlebot/2.1; +http://www.google.com/bot.html)\"\r\n",
      "66.249.65.12 - - [30/Jan/2010:03:13:34 +0200] \"GET /robots.txt HTTP/1.1\" 200 99 \"-\" \"Mozilla/5.0 (compatible; Googlebot/2.1; +http://www.google.com/bot.html)\"\r\n",
      "66.249.65.12 - - [30/Jan/2010:03:13:34 +0200] \"GET /browse/one_node/2715 HTTP/1.1\" 200 26433 \"-\" \"Mozilla/5.0 (compatible; Googlebot/2.1; +http://www.google.com/bot.html)\"\r\n",
      "66.249.65.12 - - [30/Jan/2010:03:43:39 +0200] \"GET /browse/download_model/1969 HTTP/1.1\" 200 31713 \"-\" \"Mozilla/5.0 (compatible; Googlebot/2.1; +http://www.google.com/bot.html)\"\r\n",
      "66.249.65.12 - - [30/Jan/2010:04:05:43 +0200] \"GET /browse/one_node/1406 HTTP/1.1\" 302 118 \"-\" \"Mozilla/5.0 (compatible; Googlebot/2.1; +http://www.google.com/bot.html)\"\r\n"
     ]
    }
   ],
   "source": [
    "!head mini-access-log.txt"
   ]
  },
  {
   "cell_type": "code",
   "execution_count": 287,
   "metadata": {},
   "outputs": [
    {
     "data": {
      "text/plain": [
       "{'208.80.193.28',\n",
       " '65.55.106.131',\n",
       " '65.55.106.155',\n",
       " '65.55.106.183',\n",
       " '65.55.106.186',\n",
       " '65.55.207.126',\n",
       " '65.55.207.25',\n",
       " '65.55.207.50',\n",
       " '65.55.207.71',\n",
       " '65.55.207.77',\n",
       " '65.55.207.94',\n",
       " '65.55.215.75',\n",
       " '66.249.65.12',\n",
       " '66.249.65.38',\n",
       " '66.249.65.43',\n",
       " '66.249.71.65',\n",
       " '67.195.112.35',\n",
       " '67.218.116.165',\n",
       " '74.52.245.146',\n",
       " '82.34.9.20',\n",
       " '89.248.172.58',\n",
       " '98.242.170.241'}"
      ]
     },
     "execution_count": 287,
     "metadata": {},
     "output_type": "execute_result"
    }
   ],
   "source": [
    "{one_line.split()[0]\n",
    "for one_line in open('mini-access-log.txt')}"
   ]
  },
  {
   "cell_type": "code",
   "execution_count": 289,
   "metadata": {},
   "outputs": [
    {
     "data": {
      "text/plain": [
       "Counter({'67.218.116.165': 2,\n",
       "         '66.249.71.65': 3,\n",
       "         '65.55.106.183': 2,\n",
       "         '66.249.65.12': 32,\n",
       "         '65.55.106.131': 2,\n",
       "         '65.55.106.186': 2,\n",
       "         '74.52.245.146': 2,\n",
       "         '66.249.65.43': 3,\n",
       "         '65.55.207.25': 2,\n",
       "         '65.55.207.94': 2,\n",
       "         '65.55.207.71': 1,\n",
       "         '98.242.170.241': 1,\n",
       "         '66.249.65.38': 100,\n",
       "         '65.55.207.126': 2,\n",
       "         '82.34.9.20': 2,\n",
       "         '65.55.106.155': 2,\n",
       "         '65.55.207.77': 2,\n",
       "         '208.80.193.28': 1,\n",
       "         '89.248.172.58': 22,\n",
       "         '67.195.112.35': 16,\n",
       "         '65.55.207.50': 3,\n",
       "         '65.55.215.75': 2})"
      ]
     },
     "execution_count": 289,
     "metadata": {},
     "output_type": "execute_result"
    }
   ],
   "source": [
    "from collections import Counter\n",
    "\n",
    "c = Counter([one_line.split()[0]\n",
    "         for one_line in open('mini-access-log.txt')])\n",
    "c"
   ]
  },
  {
   "cell_type": "code",
   "execution_count": 291,
   "metadata": {},
   "outputs": [
    {
     "name": "stdout",
     "output_type": "stream",
     "text": [
      "67.218.116.165      : 2\n",
      "66.249.71.65        : 3\n",
      "65.55.106.183       : 2\n",
      "66.249.65.12        : 32\n",
      "65.55.106.131       : 2\n",
      "65.55.106.186       : 2\n",
      "74.52.245.146       : 2\n",
      "66.249.65.43        : 3\n",
      "65.55.207.25        : 2\n",
      "65.55.207.94        : 2\n",
      "65.55.207.71        : 1\n",
      "98.242.170.241      : 1\n",
      "66.249.65.38        : 100\n",
      "65.55.207.126       : 2\n",
      "82.34.9.20          : 2\n",
      "65.55.106.155       : 2\n",
      "65.55.207.77        : 2\n",
      "208.80.193.28       : 1\n",
      "89.248.172.58       : 22\n",
      "67.195.112.35       : 16\n",
      "65.55.207.50        : 3\n",
      "65.55.215.75        : 2\n"
     ]
    }
   ],
   "source": [
    "for key, value in c.items():\n",
    "    print(f'{key:20}: {value}')"
   ]
  },
  {
   "cell_type": "code",
   "execution_count": 294,
   "metadata": {},
   "outputs": [
    {
     "name": "stdout",
     "output_type": "stream",
     "text": [
      "67.218.116.165      : x\n",
      "66.249.71.65        : x\n",
      "65.55.106.183       : x\n",
      "66.249.65.12        : xxxxxxxxxxxxxxxx\n",
      "65.55.106.131       : x\n",
      "65.55.106.186       : x\n",
      "74.52.245.146       : x\n",
      "66.249.65.43        : x\n",
      "65.55.207.25        : x\n",
      "65.55.207.94        : x\n",
      "65.55.207.71        : \n",
      "98.242.170.241      : \n",
      "66.249.65.38        : xxxxxxxxxxxxxxxxxxxxxxxxxxxxxxxxxxxxxxxxxxxxxxxxxx\n",
      "65.55.207.126       : x\n",
      "82.34.9.20          : x\n",
      "65.55.106.155       : x\n",
      "65.55.207.77        : x\n",
      "208.80.193.28       : \n",
      "89.248.172.58       : xxxxxxxxxxx\n",
      "67.195.112.35       : xxxxxxxx\n",
      "65.55.207.50        : x\n",
      "65.55.215.75        : x\n"
     ]
    }
   ],
   "source": [
    "for key, value in c.items():\n",
    "    print(f'{key:20}: {\"x\" * (value // 2)}')"
   ]
  },
  {
   "cell_type": "code",
   "execution_count": 296,
   "metadata": {},
   "outputs": [
    {
     "data": {
      "text/plain": [
       "[('66.249.65.38', 100), ('66.249.65.12', 32), ('89.248.172.58', 22)]"
      ]
     },
     "execution_count": 296,
     "metadata": {},
     "output_type": "execute_result"
    }
   ],
   "source": [
    "c.most_common(3)"
   ]
  },
  {
   "cell_type": "code",
   "execution_count": 297,
   "metadata": {},
   "outputs": [
    {
     "data": {
      "text/plain": [
       "[[10, 20, 30],\n",
       " [40, 45, 50, 55, 60, 65],\n",
       " [70, 75, 80, 85, 90],\n",
       " [100, 110, 115, 120]]"
      ]
     },
     "execution_count": 297,
     "metadata": {},
     "output_type": "execute_result"
    }
   ],
   "source": [
    "mylist = [[10, 20, 30], [40, 45, 50, 55, 60, 65], \n",
    "          [70, 75, 80, 85, 90], [100, 110, 115, 120]]\n",
    "\n",
    "mylist"
   ]
  },
  {
   "cell_type": "code",
   "execution_count": 298,
   "metadata": {},
   "outputs": [
    {
     "data": {
      "text/plain": [
       "[[10, 20, 30],\n",
       " [40, 45, 50, 55, 60, 65],\n",
       " [70, 75, 80, 85, 90],\n",
       " [100, 110, 115, 120]]"
      ]
     },
     "execution_count": 298,
     "metadata": {},
     "output_type": "execute_result"
    }
   ],
   "source": [
    "[one_number\n",
    " for one_number in mylist]"
   ]
  },
  {
   "cell_type": "code",
   "execution_count": 299,
   "metadata": {},
   "outputs": [
    {
     "data": {
      "text/plain": [
       "[10, 20, 30, 40, 45, 50, 55, 60, 65, 70, 75, 80, 85, 90, 100, 110, 115, 120]"
      ]
     },
     "execution_count": 299,
     "metadata": {},
     "output_type": "execute_result"
    }
   ],
   "source": [
    "[one_number\n",
    " for one_sublist in mylist\n",
    " for one_number in one_sublist]"
   ]
  },
  {
   "cell_type": "code",
   "execution_count": 300,
   "metadata": {},
   "outputs": [
    {
     "data": {
      "text/plain": [
       "[10, 20, 30, 40, 45, 50, 55, 60, 65, 70, 75, 80, 85, 90, 100, 110, 115, 120]"
      ]
     },
     "execution_count": 300,
     "metadata": {},
     "output_type": "execute_result"
    }
   ],
   "source": [
    "# I find this to be unreadable!\n",
    "[one_number for one_sublist in mylist for one_number in one_sublist]"
   ]
  },
  {
   "cell_type": "code",
   "execution_count": 301,
   "metadata": {
    "collapsed": true
   },
   "outputs": [
    {
     "data": {
      "text/plain": [
       "[(0, 0),\n",
       " (0, 1),\n",
       " (0, 2),\n",
       " (0, 3),\n",
       " (0, 4),\n",
       " (0, 5),\n",
       " (0, 6),\n",
       " (0, 7),\n",
       " (0, 8),\n",
       " (0, 9),\n",
       " (1, 0),\n",
       " (1, 1),\n",
       " (1, 2),\n",
       " (1, 3),\n",
       " (1, 4),\n",
       " (1, 5),\n",
       " (1, 6),\n",
       " (1, 7),\n",
       " (1, 8),\n",
       " (1, 9),\n",
       " (2, 0),\n",
       " (2, 1),\n",
       " (2, 2),\n",
       " (2, 3),\n",
       " (2, 4),\n",
       " (2, 5),\n",
       " (2, 6),\n",
       " (2, 7),\n",
       " (2, 8),\n",
       " (2, 9),\n",
       " (3, 0),\n",
       " (3, 1),\n",
       " (3, 2),\n",
       " (3, 3),\n",
       " (3, 4),\n",
       " (3, 5),\n",
       " (3, 6),\n",
       " (3, 7),\n",
       " (3, 8),\n",
       " (3, 9),\n",
       " (4, 0),\n",
       " (4, 1),\n",
       " (4, 2),\n",
       " (4, 3),\n",
       " (4, 4),\n",
       " (4, 5),\n",
       " (4, 6),\n",
       " (4, 7),\n",
       " (4, 8),\n",
       " (4, 9),\n",
       " (5, 0),\n",
       " (5, 1),\n",
       " (5, 2),\n",
       " (5, 3),\n",
       " (5, 4),\n",
       " (5, 5),\n",
       " (5, 6),\n",
       " (5, 7),\n",
       " (5, 8),\n",
       " (5, 9),\n",
       " (6, 0),\n",
       " (6, 1),\n",
       " (6, 2),\n",
       " (6, 3),\n",
       " (6, 4),\n",
       " (6, 5),\n",
       " (6, 6),\n",
       " (6, 7),\n",
       " (6, 8),\n",
       " (6, 9),\n",
       " (7, 0),\n",
       " (7, 1),\n",
       " (7, 2),\n",
       " (7, 3),\n",
       " (7, 4),\n",
       " (7, 5),\n",
       " (7, 6),\n",
       " (7, 7),\n",
       " (7, 8),\n",
       " (7, 9),\n",
       " (8, 0),\n",
       " (8, 1),\n",
       " (8, 2),\n",
       " (8, 3),\n",
       " (8, 4),\n",
       " (8, 5),\n",
       " (8, 6),\n",
       " (8, 7),\n",
       " (8, 8),\n",
       " (8, 9),\n",
       " (9, 0),\n",
       " (9, 1),\n",
       " (9, 2),\n",
       " (9, 3),\n",
       " (9, 4),\n",
       " (9, 5),\n",
       " (9, 6),\n",
       " (9, 7),\n",
       " (9, 8),\n",
       " (9, 9)]"
      ]
     },
     "execution_count": 301,
     "metadata": {},
     "output_type": "execute_result"
    }
   ],
   "source": [
    "[(x,y)\n",
    " for x in range(10)\n",
    " for y in range(10)]"
   ]
  },
  {
   "cell_type": "code",
   "execution_count": 303,
   "metadata": {},
   "outputs": [
    {
     "data": {
      "text/plain": [
       "[40, 45, 50, 55, 60, 65, 70, 75, 80, 85, 90, 100, 110, 115, 120]"
      ]
     },
     "execution_count": 303,
     "metadata": {},
     "output_type": "execute_result"
    }
   ],
   "source": [
    "[one_number\n",
    " for one_sublist in mylist\n",
    " if len(one_sublist) > 3\n",
    " for one_number in one_sublist]"
   ]
  },
  {
   "cell_type": "code",
   "execution_count": 304,
   "metadata": {},
   "outputs": [
    {
     "data": {
      "text/plain": [
       "[45, 55, 65, 75, 85, 115]"
      ]
     },
     "execution_count": 304,
     "metadata": {},
     "output_type": "execute_result"
    }
   ],
   "source": [
    "# produces a list with the odd elements of mylist's longer sublists\n",
    "[one_number\n",
    " for one_sublist in mylist\n",
    " if len(one_sublist) > 3\n",
    " for one_number in one_sublist\n",
    " if one_number % 2]"
   ]
  },
  {
   "cell_type": "code",
   "execution_count": 305,
   "metadata": {},
   "outputs": [
    {
     "name": "stdout",
     "output_type": "stream",
     "text": [
      "1::Toy Story (1995)::Animation|Children's|Comedy\r\n",
      "2::Jumanji (1995)::Adventure|Children's|Fantasy\r\n",
      "3::Grumpier Old Men (1995)::Comedy|Romance\r\n",
      "4::Waiting to Exhale (1995)::Comedy|Drama\r\n",
      "5::Father of the Bride Part II (1995)::Comedy\r\n",
      "6::Heat (1995)::Action|Crime|Thriller\r\n",
      "7::Sabrina (1995)::Comedy|Romance\r\n",
      "8::Tom and Huck (1995)::Adventure|Children's\r\n",
      "9::Sudden Death (1995)::Action\r\n",
      "10::GoldenEye (1995)::Action|Adventure|Thriller\r\n"
     ]
    }
   ],
   "source": [
    "!head movies.dat"
   ]
  },
  {
   "cell_type": "code",
   "execution_count": 306,
   "metadata": {},
   "outputs": [
    {
     "name": "stdout",
     "output_type": "stream",
     "text": [
      "  3883  15672 171308 movies.dat\r\n"
     ]
    }
   ],
   "source": [
    "!wc movies.dat"
   ]
  },
  {
   "cell_type": "markdown",
   "metadata": {},
   "source": [
    "# Exercise: Movie categories\n",
    "\n",
    "Use a list comprehension (and associated tools) to find the 5 most common movie categories in `movies.dat`.  Note that most movies have more than one category -- just count them multiple times."
   ]
  },
  {
   "cell_type": "code",
   "execution_count": 308,
   "metadata": {},
   "outputs": [
    {
     "data": {
      "text/plain": [
       "[\"1::Toy Story (1995)::Animation|Children's|Comedy\\n\",\n",
       " \"2::Jumanji (1995)::Adventure|Children's|Fantasy\\n\",\n",
       " '3::Grumpier Old Men (1995)::Comedy|Romance\\n',\n",
       " '4::Waiting to Exhale (1995)::Comedy|Drama\\n',\n",
       " '5::Father of the Bride Part II (1995)::Comedy\\n',\n",
       " '6::Heat (1995)::Action|Crime|Thriller\\n',\n",
       " '7::Sabrina (1995)::Comedy|Romance\\n',\n",
       " \"8::Tom and Huck (1995)::Adventure|Children's\\n\",\n",
       " '9::Sudden Death (1995)::Action\\n',\n",
       " '10::GoldenEye (1995)::Action|Adventure|Thriller\\n',\n",
       " '11::American President, The (1995)::Comedy|Drama|Romance\\n',\n",
       " '12::Dracula: Dead and Loving It (1995)::Comedy|Horror\\n',\n",
       " \"13::Balto (1995)::Animation|Children's\\n\",\n",
       " '14::Nixon (1995)::Drama\\n',\n",
       " '15::Cutthroat Island (1995)::Action|Adventure|Romance\\n',\n",
       " '16::Casino (1995)::Drama|Thriller\\n',\n",
       " '17::Sense and Sensibility (1995)::Drama|Romance\\n',\n",
       " '18::Four Rooms (1995)::Thriller\\n',\n",
       " '19::Ace Ventura: When Nature Calls (1995)::Comedy\\n',\n",
       " '20::Money Train (1995)::Action\\n',\n",
       " '21::Get Shorty (1995)::Action|Comedy|Drama\\n',\n",
       " '22::Copycat (1995)::Crime|Drama|Thriller\\n',\n",
       " '23::Assassins (1995)::Thriller\\n',\n",
       " '24::Powder (1995)::Drama|Sci-Fi\\n',\n",
       " '25::Leaving Las Vegas (1995)::Drama|Romance\\n',\n",
       " '26::Othello (1995)::Drama\\n',\n",
       " '27::Now and Then (1995)::Drama\\n',\n",
       " '28::Persuasion (1995)::Romance\\n',\n",
       " '29::City of Lost Children, The (1995)::Adventure|Sci-Fi\\n',\n",
       " '30::Shanghai Triad (Yao a yao yao dao waipo qiao) (1995)::Drama\\n',\n",
       " '31::Dangerous Minds (1995)::Drama\\n',\n",
       " '32::Twelve Monkeys (1995)::Drama|Sci-Fi\\n',\n",
       " '33::Wings of Courage (1995)::Adventure|Romance\\n',\n",
       " \"34::Babe (1995)::Children's|Comedy|Drama\\n\",\n",
       " '35::Carrington (1995)::Drama|Romance\\n',\n",
       " '36::Dead Man Walking (1995)::Drama\\n',\n",
       " '37::Across the Sea of Time (1995)::Documentary\\n',\n",
       " '38::It Takes Two (1995)::Comedy\\n',\n",
       " '39::Clueless (1995)::Comedy|Romance\\n',\n",
       " '40::Cry, the Beloved Country (1995)::Drama\\n',\n",
       " '41::Richard III (1995)::Drama|War\\n',\n",
       " '42::Dead Presidents (1995)::Action|Crime|Drama\\n',\n",
       " '43::Restoration (1995)::Drama\\n',\n",
       " '44::Mortal Kombat (1995)::Action|Adventure\\n',\n",
       " '45::To Die For (1995)::Comedy|Drama\\n',\n",
       " '46::How to Make an American Quilt (1995)::Drama|Romance\\n',\n",
       " '47::Seven (Se7en) (1995)::Crime|Thriller\\n',\n",
       " \"48::Pocahontas (1995)::Animation|Children's|Musical|Romance\\n\",\n",
       " '49::When Night Is Falling (1995)::Drama|Romance\\n',\n",
       " '50::Usual Suspects, The (1995)::Crime|Thriller\\n',\n",
       " '51::Guardian Angel (1994)::Action|Drama|Thriller\\n',\n",
       " '52::Mighty Aphrodite (1995)::Comedy\\n',\n",
       " '53::Lamerica (1994)::Drama\\n',\n",
       " \"54::Big Green, The (1995)::Children's|Comedy\\n\",\n",
       " '55::Georgia (1995)::Drama\\n',\n",
       " \"56::Kids of the Round Table (1995)::Adventure|Children's|Fantasy\\n\",\n",
       " '57::Home for the Holidays (1995)::Drama\\n',\n",
       " '58::Postino, Il (The Postman) (1994)::Drama|Romance\\n',\n",
       " '59::Confessional, The (Le Confessionnal) (1995)::Drama|Mystery\\n',\n",
       " \"60::Indian in the Cupboard, The (1995)::Adventure|Children's|Fantasy\\n\",\n",
       " '61::Eye for an Eye (1996)::Drama|Thriller\\n',\n",
       " \"62::Mr. Holland's Opus (1995)::Drama\\n\",\n",
       " \"63::Don't Be a Menace to South Central While Drinking Your Juice in the Hood (1996)::Comedy\\n\",\n",
       " '64::Two if by Sea (1996)::Comedy|Romance\\n',\n",
       " '65::Bio-Dome (1996)::Comedy\\n',\n",
       " '66::Lawnmower Man 2: Beyond Cyberspace (1996)::Sci-Fi|Thriller\\n',\n",
       " '67::Two Bits (1995)::Drama\\n',\n",
       " '68::French Twist (Gazon maudit) (1995)::Comedy|Romance\\n',\n",
       " '69::Friday (1995)::Comedy\\n',\n",
       " '70::From Dusk Till Dawn (1996)::Action|Comedy|Crime|Horror|Thriller\\n',\n",
       " '71::Fair Game (1995)::Action\\n',\n",
       " '72::Kicking and Screaming (1995)::Comedy|Drama\\n',\n",
       " '73::Misérables, Les (1995)::Drama|Musical\\n',\n",
       " '74::Bed of Roses (1996)::Drama|Romance\\n',\n",
       " '75::Big Bully (1996)::Comedy|Drama\\n',\n",
       " '76::Screamers (1995)::Sci-Fi|Thriller\\n',\n",
       " '77::Nico Icon (1995)::Documentary\\n',\n",
       " '78::Crossing Guard, The (1995)::Drama\\n',\n",
       " '79::Juror, The (1996)::Drama|Thriller\\n',\n",
       " '80::White Balloon, The (Badkonake Sefid ) (1995)::Drama\\n',\n",
       " \"81::Things to Do in Denver when You're Dead (1995)::Crime|Drama|Romance\\n\",\n",
       " \"82::Antonia's Line (Antonia) (1995)::Drama\\n\",\n",
       " '83::Once Upon a Time... When We Were Colored (1995)::Drama\\n',\n",
       " '84::Last Summer in the Hamptons (1995)::Comedy|Drama\\n',\n",
       " '85::Angels and Insects (1995)::Drama|Romance\\n',\n",
       " '86::White Squall (1996)::Adventure|Drama\\n',\n",
       " \"87::Dunston Checks In (1996)::Children's|Comedy\\n\",\n",
       " '88::Black Sheep (1996)::Comedy\\n',\n",
       " '89::Nick of Time (1995)::Action|Thriller\\n',\n",
       " '90::Journey of August King, The (1995)::Drama\\n',\n",
       " '92::Mary Reilly (1996)::Drama|Thriller\\n',\n",
       " '93::Vampire in Brooklyn (1995)::Comedy|Romance\\n',\n",
       " '94::Beautiful Girls (1996)::Drama\\n',\n",
       " '95::Broken Arrow (1996)::Action|Thriller\\n',\n",
       " '96::In the Bleak Midwinter (1995)::Comedy\\n',\n",
       " '97::Hate (Haine, La) (1995)::Drama\\n',\n",
       " '98::Shopping (1994)::Action|Thriller\\n',\n",
       " '99::Heidi Fleiss: Hollywood Madam (1995)::Documentary\\n',\n",
       " '100::City Hall (1996)::Drama|Thriller\\n',\n",
       " '101::Bottle Rocket (1996)::Comedy\\n',\n",
       " '102::Mr. Wrong (1996)::Comedy\\n',\n",
       " '103::Unforgettable (1996)::Thriller\\n',\n",
       " '104::Happy Gilmore (1996)::Comedy\\n',\n",
       " '105::Bridges of Madison County, The (1995)::Drama|Romance\\n',\n",
       " '106::Nobody Loves Me (Keiner liebt mich) (1994)::Comedy|Drama\\n',\n",
       " \"107::Muppet Treasure Island (1996)::Adventure|Children's|Comedy|Musical\\n\",\n",
       " '108::Catwalk (1995)::Documentary\\n',\n",
       " '109::Headless Body in Topless Bar (1995)::Comedy\\n',\n",
       " '110::Braveheart (1995)::Action|Drama|War\\n',\n",
       " '111::Taxi Driver (1976)::Drama|Thriller\\n',\n",
       " '112::Rumble in the Bronx (1995)::Action|Adventure|Crime\\n',\n",
       " '113::Before and After (1996)::Drama|Mystery\\n',\n",
       " \"114::Margaret's Museum (1995)::Drama\\n\",\n",
       " '115::Happiness Is in the Field (1995)::Comedy\\n',\n",
       " '116::Anne Frank Remembered (1995)::Documentary\\n',\n",
       " \"117::Young Poisoner's Handbook, The (1995)::Crime\\n\",\n",
       " '118::If Lucy Fell (1996)::Comedy|Romance\\n',\n",
       " '119::Steal Big, Steal Little (1995)::Comedy\\n',\n",
       " '120::Race the Sun (1996)::Drama\\n',\n",
       " '121::Boys of St. Vincent, The (1993)::Drama\\n',\n",
       " '122::Boomerang (1992)::Comedy|Romance\\n',\n",
       " '123::Chungking Express (1994)::Drama|Mystery|Romance\\n',\n",
       " \"124::Star Maker, The (Uomo delle stelle, L') (1995)::Drama\\n\",\n",
       " '125::Flirting With Disaster (1996)::Comedy\\n',\n",
       " \"126::NeverEnding Story III, The (1994)::Adventure|Children's|Fantasy\\n\",\n",
       " '127::Silence of the Palace, The (Saimt el Qusur) (1994)::Drama\\n',\n",
       " \"128::Jupiter's Wife (1994)::Documentary\\n\",\n",
       " '129::Pie in the Sky (1995)::Comedy|Romance\\n',\n",
       " '130::Angela (1995)::Drama\\n',\n",
       " '131::Frankie Starlight (1995)::Drama|Romance\\n',\n",
       " '132::Jade (1995)::Thriller\\n',\n",
       " '133::Nueba Yol (1995)::Comedy|Drama\\n',\n",
       " '134::Sonic Outlaws (1995)::Documentary\\n',\n",
       " '135::Down Periscope (1996)::Comedy\\n',\n",
       " '136::From the Journals of Jean Seberg (1995)::Documentary\\n',\n",
       " '137::Man of the Year (1995)::Documentary\\n',\n",
       " '138::Neon Bible, The (1995)::Drama\\n',\n",
       " '139::Target (1995)::Action|Drama\\n',\n",
       " '140::Up Close and Personal (1996)::Drama|Romance\\n',\n",
       " '141::Birdcage, The (1996)::Comedy\\n',\n",
       " '142::Shadows (Cienie) (1988)::Drama\\n',\n",
       " '143::Gospa (1995)::Drama\\n',\n",
       " '144::Brothers McMullen, The (1995)::Comedy\\n',\n",
       " '145::Bad Boys (1995)::Action\\n',\n",
       " \"146::Amazing Panda Adventure, The (1995)::Adventure|Children's\\n\",\n",
       " '147::Basketball Diaries, The (1995)::Drama\\n',\n",
       " '148::Awfully Big Adventure, An (1995)::Drama\\n',\n",
       " '149::Amateur (1994)::Crime|Drama|Thriller\\n',\n",
       " '150::Apollo 13 (1995)::Drama\\n',\n",
       " '151::Rob Roy (1995)::Drama|Romance|War\\n',\n",
       " '152::Addiction, The (1995)::Horror\\n',\n",
       " '153::Batman Forever (1995)::Action|Adventure|Comedy|Crime\\n',\n",
       " '154::Belle de jour (1967)::Drama\\n',\n",
       " '155::Beyond Rangoon (1995)::Drama|War\\n',\n",
       " '156::Blue in the Face (1995)::Comedy\\n',\n",
       " '157::Canadian Bacon (1994)::Comedy|War\\n',\n",
       " \"158::Casper (1995)::Adventure|Children's\\n\",\n",
       " '159::Clockers (1995)::Drama\\n',\n",
       " '160::Congo (1995)::Action|Adventure|Mystery|Sci-Fi\\n',\n",
       " '161::Crimson Tide (1995)::Drama|Thriller|War\\n',\n",
       " '162::Crumb (1994)::Documentary\\n',\n",
       " '163::Desperado (1995)::Action|Romance|Thriller\\n',\n",
       " '164::Devil in a Blue Dress (1995)::Crime|Film-Noir|Mystery|Thriller\\n',\n",
       " '165::Die Hard: With a Vengeance (1995)::Action|Thriller\\n',\n",
       " '166::Doom Generation, The (1995)::Comedy|Drama\\n',\n",
       " '167::Feast of July (1995)::Drama\\n',\n",
       " '168::First Knight (1995)::Action|Adventure|Drama|Romance\\n',\n",
       " \"169::Free Willy 2: The Adventure Home (1995)::Adventure|Children's|Drama\\n\",\n",
       " '170::Hackers (1995)::Action|Crime|Thriller\\n',\n",
       " '171::Jeffrey (1995)::Comedy\\n',\n",
       " '172::Johnny Mnemonic (1995)::Action|Sci-Fi|Thriller\\n',\n",
       " '173::Judge Dredd (1995)::Action|Adventure|Sci-Fi\\n',\n",
       " '174::Jury Duty (1995)::Comedy\\n',\n",
       " '175::Kids (1995)::Drama\\n',\n",
       " '176::Living in Oblivion (1995)::Comedy\\n',\n",
       " '177::Lord of Illusions (1995)::Horror\\n',\n",
       " '178::Love & Human Remains (1993)::Comedy\\n',\n",
       " '179::Mad Love (1995)::Drama|Romance\\n',\n",
       " '180::Mallrats (1995)::Comedy\\n',\n",
       " \"181::Mighty Morphin Power Rangers: The Movie (1995)::Action|Children's\\n\",\n",
       " '182::Moonlight and Valentino (1995)::Drama|Romance\\n',\n",
       " '183::Mute Witness (1994)::Thriller\\n',\n",
       " '184::Nadja (1994)::Drama\\n',\n",
       " '185::Net, The (1995)::Sci-Fi|Thriller\\n',\n",
       " '186::Nine Months (1995)::Comedy\\n',\n",
       " '187::Party Girl (1995)::Comedy\\n',\n",
       " '188::Prophecy, The (1995)::Horror\\n',\n",
       " '189::Reckless (1995)::Comedy\\n',\n",
       " '190::Safe (1995)::Thriller\\n',\n",
       " '191::Scarlet Letter, The (1995)::Drama\\n',\n",
       " '192::Show, The (1995)::Documentary\\n',\n",
       " '193::Showgirls (1995)::Drama\\n',\n",
       " '194::Smoke (1995)::Drama\\n',\n",
       " '195::Something to Talk About (1995)::Comedy|Drama|Romance\\n',\n",
       " '196::Species (1995)::Horror|Sci-Fi\\n',\n",
       " '197::Stars Fell on Henrietta, The (1995)::Drama\\n',\n",
       " '198::Strange Days (1995)::Action|Crime|Sci-Fi\\n',\n",
       " '199::Umbrellas of Cherbourg, The (Parapluies de Cherbourg, Les) (1964)::Drama|Musical\\n',\n",
       " '200::Tie That Binds, The (1995)::Thriller\\n',\n",
       " '201::Three Wishes (1995)::Drama\\n',\n",
       " '202::Total Eclipse (1995)::Drama|Romance\\n',\n",
       " '203::To Wong Foo, Thanks for Everything! Julie Newmar (1995)::Comedy\\n',\n",
       " '204::Under Siege 2: Dark Territory (1995)::Action\\n',\n",
       " '205::Unstrung Heroes (1995)::Comedy|Drama\\n',\n",
       " '206::Unzipped (1995)::Documentary\\n',\n",
       " '207::Walk in the Clouds, A (1995)::Drama|Romance\\n',\n",
       " '208::Waterworld (1995)::Action|Adventure\\n',\n",
       " \"209::White Man's Burden (1995)::Drama\\n\",\n",
       " '210::Wild Bill (1995)::Western\\n',\n",
       " '211::Browning Version, The (1994)::Drama\\n',\n",
       " '212::Bushwhacked (1995)::Comedy\\n',\n",
       " '213::Burnt By the Sun (Utomlyonnye solntsem) (1994)::Drama\\n',\n",
       " '214::Before the Rain (Pred dozhdot) (1994)::Drama\\n',\n",
       " '215::Before Sunrise (1995)::Drama|Romance\\n',\n",
       " '216::Billy Madison (1995)::Comedy\\n',\n",
       " '217::Babysitter, The (1995)::Drama|Thriller\\n',\n",
       " '218::Boys on the Side (1995)::Comedy|Drama\\n',\n",
       " '219::Cure, The (1995)::Drama\\n',\n",
       " '220::Castle Freak (1995)::Horror\\n',\n",
       " '222::Circle of Friends (1995)::Drama|Romance\\n',\n",
       " '223::Clerks (1994)::Comedy\\n',\n",
       " '224::Don Juan DeMarco (1995)::Comedy|Drama|Romance\\n',\n",
       " '225::Disclosure (1994)::Drama|Thriller\\n',\n",
       " '226::Dream Man (1995)::Thriller\\n',\n",
       " '227::Drop Zone (1994)::Action\\n',\n",
       " '228::Destiny Turns on the Radio (1995)::Comedy\\n',\n",
       " '229::Death and the Maiden (1994)::Drama|Thriller\\n',\n",
       " '230::Dolores Claiborne (1994)::Drama|Thriller\\n',\n",
       " '231::Dumb & Dumber (1994)::Comedy\\n',\n",
       " '232::Eat Drink Man Woman (1994)::Comedy|Drama\\n',\n",
       " '233::Exotica (1994)::Drama\\n',\n",
       " '234::Exit to Eden (1994)::Comedy\\n',\n",
       " '235::Ed Wood (1994)::Comedy|Drama\\n',\n",
       " '236::French Kiss (1995)::Comedy|Romance\\n',\n",
       " '237::Forget Paris (1995)::Comedy|Romance\\n',\n",
       " \"238::Far From Home: The Adventures of Yellow Dog (1995)::Adventure|Children's\\n\",\n",
       " \"239::Goofy Movie, A (1995)::Animation|Children's|Comedy|Romance\\n\",\n",
       " '240::Hideaway (1995)::Thriller\\n',\n",
       " \"241::Fluke (1995)::Children's|Drama\\n\",\n",
       " '242::Farinelli: il castrato (1994)::Drama|Musical\\n',\n",
       " '243::Gordy (1995)::Comedy\\n',\n",
       " \"244::Gumby: The Movie (1995)::Animation|Children's\\n\",\n",
       " '245::Glass Shield, The (1994)::Crime|Drama\\n',\n",
       " '246::Hoop Dreams (1994)::Documentary\\n',\n",
       " '247::Heavenly Creatures (1994)::Drama|Fantasy|Romance|Thriller\\n',\n",
       " '248::Houseguest (1994)::Comedy\\n',\n",
       " '249::Immortal Beloved (1994)::Drama|Romance\\n',\n",
       " \"250::Heavyweights (1994)::Children's|Comedy\\n\",\n",
       " '251::Hunted, The (1995)::Action\\n',\n",
       " '252::I.Q. (1994)::Comedy|Romance\\n',\n",
       " '253::Interview with the Vampire (1994)::Drama|Horror\\n',\n",
       " '254::Jefferson in Paris (1995)::Drama\\n',\n",
       " '255::Jerky Boys, The (1994)::Comedy\\n',\n",
       " '256::Junior (1994)::Comedy|Sci-Fi\\n',\n",
       " '257::Just Cause (1995)::Mystery|Thriller\\n',\n",
       " \"258::Kid in King Arthur's Court, A (1995)::Adventure|Children's|Comedy|Fantasy|Romance\\n\",\n",
       " '259::Kiss of Death (1995)::Crime|Drama|Thriller\\n',\n",
       " '260::Star Wars: Episode IV - A New Hope (1977)::Action|Adventure|Fantasy|Sci-Fi\\n',\n",
       " '261::Little Women (1994)::Drama\\n',\n",
       " \"262::Little Princess, A (1995)::Children's|Drama\\n\",\n",
       " '263::Ladybird Ladybird (1994)::Drama\\n',\n",
       " \"264::Enfer, L' (1994)::Drama\\n\",\n",
       " '265::Like Water for Chocolate (Como agua para chocolate) (1992)::Drama|Romance\\n',\n",
       " '266::Legends of the Fall (1994)::Drama|Romance|War|Western\\n',\n",
       " '267::Major Payne (1994)::Comedy\\n',\n",
       " '268::Little Odessa (1994)::Drama\\n',\n",
       " '269::My Crazy Life (Mi vida loca) (1993)::Drama\\n',\n",
       " '270::Love Affair (1994)::Drama|Romance\\n',\n",
       " '271::Losing Isaiah (1995)::Drama\\n',\n",
       " '272::Madness of King George, The (1994)::Drama\\n',\n",
       " \"273::Mary Shelley's Frankenstein (1994)::Drama|Horror\\n\",\n",
       " '274::Man of the House (1995)::Comedy\\n',\n",
       " '275::Mixed Nuts (1994)::Comedy\\n',\n",
       " '276::Milk Money (1994)::Comedy|Romance\\n',\n",
       " '277::Miracle on 34th Street (1994)::Drama\\n',\n",
       " '278::Miami Rhapsody (1995)::Comedy\\n',\n",
       " '279::My Family (1995)::Drama\\n',\n",
       " '280::Murder in the First (1995)::Drama|Thriller\\n',\n",
       " \"281::Nobody's Fool (1994)::Drama\\n\",\n",
       " '282::Nell (1994)::Drama\\n',\n",
       " '283::New Jersey Drive (1995)::Crime|Drama\\n',\n",
       " '284::New York Cop (1996)::Action|Crime\\n',\n",
       " '285::Beyond Bedlam (1993)::Drama|Horror\\n',\n",
       " '286::Nemesis 2: Nebula (1995)::Action|Sci-Fi|Thriller\\n',\n",
       " '287::Nina Takes a Lover (1994)::Comedy|Romance\\n',\n",
       " '288::Natural Born Killers (1994)::Action|Thriller\\n',\n",
       " '289::Only You (1994)::Comedy|Romance\\n',\n",
       " '290::Once Were Warriors (1994)::Crime|Drama\\n',\n",
       " '291::Poison Ivy II (1995)::Thriller\\n',\n",
       " '292::Outbreak (1995)::Action|Drama|Thriller\\n',\n",
       " '293::Professional, The (a.k.a. Leon: The Professional) (1994)::Crime|Drama|Romance|Thriller\\n',\n",
       " '294::Perez Family, The (1995)::Comedy|Romance\\n',\n",
       " \"295::Pyromaniac's Love Story, A (1995)::Comedy|Romance\\n\",\n",
       " '296::Pulp Fiction (1994)::Crime|Drama\\n',\n",
       " '297::Panther (1995)::Drama\\n',\n",
       " '298::Pushing Hands (1992)::Comedy\\n',\n",
       " '299::Priest (1994)::Drama\\n',\n",
       " '300::Quiz Show (1994)::Drama\\n',\n",
       " '301::Picture Bride (1995)::Drama|Romance\\n',\n",
       " '302::Queen Margot (La Reine Margot) (1994)::Drama|Romance\\n',\n",
       " '303::Quick and the Dead, The (1995)::Action|Adventure|Western\\n',\n",
       " '304::Roommates (1995)::Comedy|Drama\\n',\n",
       " '305::Ready to Wear (Pret-A-Porter) (1994)::Comedy\\n',\n",
       " '306::Three Colors: Red (1994)::Drama\\n',\n",
       " '307::Three Colors: Blue (1993)::Drama\\n',\n",
       " '308::Three Colors: White (1994)::Drama\\n',\n",
       " '309::Red Firecracker, Green Firecracker (1994)::Drama\\n',\n",
       " '310::Rent-a-Kid (1995)::Comedy\\n',\n",
       " '311::Relative Fear (1994)::Horror|Thriller\\n',\n",
       " '312::Stuart Saves His Family (1995)::Comedy\\n',\n",
       " \"313::Swan Princess, The (1994)::Animation|Children's\\n\",\n",
       " '314::Secret of Roan Inish, The (1994)::Drama\\n',\n",
       " '315::Specialist, The (1994)::Action\\n',\n",
       " '316::Stargate (1994)::Action|Adventure|Sci-Fi\\n',\n",
       " \"317::Santa Clause, The (1994)::Children's|Comedy|Fantasy\\n\",\n",
       " '318::Shawshank Redemption, The (1994)::Drama\\n',\n",
       " '319::Shallow Grave (1994)::Thriller\\n',\n",
       " '320::Suture (1993)::Film-Noir|Thriller\\n',\n",
       " '321::Strawberry and Chocolate (Fresa y chocolate) (1993)::Drama\\n',\n",
       " '322::Swimming with Sharks (1995)::Comedy|Drama\\n',\n",
       " '324::Sum of Us, The (1994)::Comedy\\n',\n",
       " \"325::National Lampoon's Senior Trip (1995)::Comedy\\n\",\n",
       " '326::To Live (Huozhe) (1994)::Drama\\n',\n",
       " '327::Tank Girl (1995)::Action|Comedy|Musical|Sci-Fi\\n',\n",
       " '328::Tales From the Crypt Presents: Demon Knight (1995)::Horror\\n',\n",
       " '329::Star Trek: Generations (1994)::Action|Adventure|Sci-Fi\\n',\n",
       " '330::Tales from the Hood (1995)::Comedy|Horror\\n',\n",
       " '331::Tom & Viv (1994)::Drama\\n',\n",
       " '332::Village of the Damned (1995)::Horror|Sci-Fi\\n',\n",
       " '333::Tommy Boy (1995)::Comedy\\n',\n",
       " '334::Vanya on 42nd Street (1994)::Drama\\n',\n",
       " '335::Underneath, The (1995)::Mystery|Thriller\\n',\n",
       " '336::Walking Dead, The (1995)::Drama|War\\n',\n",
       " \"337::What's Eating Gilbert Grape (1993)::Drama\\n\",\n",
       " '338::Virtuosity (1995)::Sci-Fi|Thriller\\n',\n",
       " '339::While You Were Sleeping (1995)::Comedy|Romance\\n',\n",
       " '340::War, The (1994)::Adventure|Drama\\n',\n",
       " '341::Double Happiness (1994)::Drama\\n',\n",
       " \"342::Muriel's Wedding (1994)::Comedy|Romance\\n\",\n",
       " \"343::Baby-Sitters Club, The (1995)::Children's\\n\",\n",
       " '344::Ace Ventura: Pet Detective (1994)::Comedy\\n',\n",
       " '345::Adventures of Priscilla, Queen of the Desert, The (1994)::Comedy|Drama\\n',\n",
       " '346::Backbeat (1993)::Drama|Musical\\n',\n",
       " '347::Bitter Moon (1992)::Drama\\n',\n",
       " '348::Bullets Over Broadway (1994)::Comedy\\n',\n",
       " '349::Clear and Present Danger (1994)::Action|Adventure|Thriller\\n',\n",
       " '350::Client, The (1994)::Drama|Mystery|Thriller\\n',\n",
       " '351::Corrina, Corrina (1994)::Comedy|Drama|Romance\\n',\n",
       " '352::Crooklyn (1994)::Comedy\\n',\n",
       " '353::Crow, The (1994)::Action|Romance|Thriller\\n',\n",
       " '354::Cobb (1994)::Drama\\n',\n",
       " \"355::Flintstones, The (1994)::Children's|Comedy\\n\",\n",
       " '356::Forrest Gump (1994)::Comedy|Romance|War\\n',\n",
       " '357::Four Weddings and a Funeral (1994)::Comedy|Romance\\n',\n",
       " '358::Higher Learning (1995)::Drama\\n',\n",
       " '359::I Like It Like That (1994)::Comedy|Drama|Romance\\n',\n",
       " '360::I Love Trouble (1994)::Action|Comedy\\n',\n",
       " '361::It Could Happen to You (1994)::Drama|Romance\\n',\n",
       " \"362::Jungle Book, The (1994)::Adventure|Children's|Romance\\n\",\n",
       " '363::Wonderful, Horrible Life of Leni Riefenstahl, The (Die Macht der Bilder) (1993)::Documentary\\n',\n",
       " \"364::Lion King, The (1994)::Animation|Children's|Musical\\n\",\n",
       " '365::Little Buddha (1993)::Drama\\n',\n",
       " \"366::Wes Craven's New Nightmare (1994)::Horror\\n\",\n",
       " '367::Mask, The (1994)::Comedy|Crime|Fantasy\\n',\n",
       " '368::Maverick (1994)::Action|Comedy|Western\\n',\n",
       " '369::Mrs. Parker and the Vicious Circle (1994)::Drama\\n',\n",
       " '370::Naked Gun 33 1/3: The Final Insult (1994)::Comedy\\n',\n",
       " '371::Paper, The (1994)::Comedy|Drama\\n',\n",
       " '372::Reality Bites (1994)::Comedy|Drama\\n',\n",
       " '373::Red Rock West (1992)::Thriller\\n',\n",
       " \"374::Richie Rich (1994)::Children's|Comedy\\n\",\n",
       " '375::Safe Passage (1994)::Drama\\n',\n",
       " '376::River Wild, The (1994)::Action|Thriller\\n',\n",
       " '377::Speed (1994)::Action|Romance|Thriller\\n',\n",
       " '378::Speechless (1994)::Comedy|Romance\\n',\n",
       " '379::Timecop (1994)::Action|Sci-Fi\\n',\n",
       " '380::True Lies (1994)::Action|Adventure|Comedy|Romance\\n',\n",
       " '381::When a Man Loves a Woman (1994)::Drama\\n',\n",
       " '382::Wolf (1994)::Drama|Horror\\n',\n",
       " '383::Wyatt Earp (1994)::Western\\n',\n",
       " '384::Bad Company (1995)::Action\\n',\n",
       " '385::Man of No Importance, A (1994)::Drama\\n',\n",
       " '386::S.F.W. (1994)::Drama\\n',\n",
       " '387::Low Down Dirty Shame, A (1994)::Action|Comedy\\n',\n",
       " '388::Boys Life (1995)::Drama\\n',\n",
       " '389::Colonel Chabert, Le (1994)::Drama|Romance|War\\n',\n",
       " '390::Faster Pussycat! Kill! Kill! (1965)::Action|Comedy|Drama\\n',\n",
       " \"391::Jason's Lyric (1994)::Crime|Drama\\n\",\n",
       " \"392::Secret Adventures of Tom Thumb, The (1993)::Adventure|Children's\\n\",\n",
       " '393::Street Fighter (1994)::Action\\n',\n",
       " '394::Coldblooded (1995)::Action\\n',\n",
       " '395::Desert Winds (1995)::Drama\\n',\n",
       " '396::Fall Time (1995)::Drama\\n',\n",
       " '397::Fear, The (1995)::Horror\\n',\n",
       " '398::Frank and Ollie (1995)::Documentary\\n',\n",
       " '399::Girl in the Cadillac (1995)::Drama\\n',\n",
       " '400::Homage (1995)::Drama\\n',\n",
       " '401::Mirage (1995)::Action|Thriller\\n',\n",
       " '402::Open Season (1996)::Comedy\\n',\n",
       " '403::Two Crimes (1995)::Comedy|Crime|Drama\\n',\n",
       " '404::Brother Minister: The Assassination of Malcolm X (1994)::Documentary\\n',\n",
       " '405::Highlander III: The Sorcerer (1994)::Action|Sci-Fi\\n',\n",
       " '406::Federal Hill (1994)::Drama\\n',\n",
       " '407::In the Mouth of Madness (1995)::Horror|Thriller\\n',\n",
       " '408::8 Seconds (1994)::Drama\\n',\n",
       " '409::Above the Rim (1994)::Drama\\n',\n",
       " '410::Addams Family Values (1993)::Comedy\\n',\n",
       " '411::You So Crazy (1994)::Comedy\\n',\n",
       " '412::Age of Innocence, The (1993)::Drama\\n',\n",
       " '413::Airheads (1994)::Comedy\\n',\n",
       " '414::Air Up There, The (1994)::Comedy\\n',\n",
       " '415::Another Stakeout (1993)::Comedy|Thriller\\n',\n",
       " '416::Bad Girls (1994)::Western\\n',\n",
       " '417::Barcelona (1994)::Comedy|Romance\\n',\n",
       " '418::Being Human (1993)::Drama\\n',\n",
       " '419::Beverly Hillbillies, The (1993)::Comedy\\n',\n",
       " '420::Beverly Hills Cop III (1994)::Action|Comedy\\n',\n",
       " \"421::Black Beauty (1994)::Adventure|Children's\\n\",\n",
       " '422::Blink (1994)::Thriller\\n',\n",
       " '423::Blown Away (1994)::Action|Thriller\\n',\n",
       " '424::Blue Chips (1994)::Drama\\n',\n",
       " '425::Blue Sky (1994)::Drama|Romance\\n',\n",
       " '426::Body Snatchers (1993)::Horror|Sci-Fi|Thriller\\n',\n",
       " '427::Boxing Helena (1993)::Mystery|Romance|Thriller\\n',\n",
       " '428::Bronx Tale, A (1993)::Drama\\n',\n",
       " '429::Cabin Boy (1994)::Comedy\\n',\n",
       " '430::Calendar Girl (1993)::Drama\\n',\n",
       " \"431::Carlito's Way (1993)::Crime|Drama\\n\",\n",
       " \"432::City Slickers II: The Legend of Curly's Gold (1994)::Comedy|Western\\n\",\n",
       " '433::Clean Slate (1994)::Comedy\\n',\n",
       " '434::Cliffhanger (1993)::Action|Adventure|Crime\\n',\n",
       " '435::Coneheads (1993)::Comedy|Sci-Fi\\n',\n",
       " '436::Color of Night (1994)::Drama|Thriller\\n',\n",
       " '437::Cops and Robbersons (1994)::Comedy\\n',\n",
       " '438::Cowboy Way, The (1994)::Action|Comedy\\n',\n",
       " '439::Dangerous Game (1993)::Drama\\n',\n",
       " '440::Dave (1993)::Comedy|Romance\\n',\n",
       " '441::Dazed and Confused (1993)::Comedy\\n',\n",
       " '442::Demolition Man (1993)::Action|Sci-Fi\\n',\n",
       " '443::Endless Summer 2, The (1994)::Documentary\\n',\n",
       " '444::Even Cowgirls Get the Blues (1993)::Comedy|Romance\\n',\n",
       " '445::Fatal Instinct (1993)::Comedy\\n',\n",
       " '446::Farewell My Concubine (1993)::Drama|Romance\\n',\n",
       " '447::Favor, The (1994)::Comedy|Romance\\n',\n",
       " '448::Fearless (1993)::Drama\\n',\n",
       " '449::Fear of a Black Hat (1993)::Comedy\\n',\n",
       " '450::With Honors (1994)::Comedy|Drama\\n',\n",
       " '451::Flesh and Bone (1993)::Drama|Mystery|Romance\\n',\n",
       " \"452::Widows' Peak (1994)::Drama\\n\",\n",
       " '453::For Love or Money (1993)::Comedy\\n',\n",
       " '454::Firm, The (1993)::Drama|Thriller\\n',\n",
       " \"455::Free Willy (1993)::Adventure|Children's|Drama\\n\",\n",
       " '456::Fresh (1994)::Drama\\n',\n",
       " '457::Fugitive, The (1993)::Action|Thriller\\n',\n",
       " '458::Geronimo: An American Legend (1993)::Drama|Western\\n',\n",
       " '459::Getaway, The (1994)::Action\\n',\n",
       " '460::Getting Even with Dad (1994)::Comedy\\n',\n",
       " '461::Go Fish (1994)::Drama|Romance\\n',\n",
       " '462::Good Man in Africa, A (1994)::Action|Adventure\\n',\n",
       " '463::Guilty as Sin (1993)::Crime|Drama|Thriller\\n',\n",
       " '464::Hard Target (1993)::Action|Adventure|Crime|Thriller\\n',\n",
       " '465::Heaven & Earth (1993)::Action|Drama|War\\n',\n",
       " '466::Hot Shots! Part Deux (1993)::Action|Comedy|War\\n',\n",
       " '467::Live Nude Girls (1995)::Comedy\\n',\n",
       " '468::Englishman Who Went Up a Hill, But Came Down a Mountain, The (1995)::Comedy|Romance\\n',\n",
       " '469::House of the Spirits, The (1993)::Drama|Romance\\n',\n",
       " '470::House Party 3 (1994)::Comedy\\n',\n",
       " '471::Hudsucker Proxy, The (1994)::Comedy|Romance\\n',\n",
       " \"472::I'll Do Anything (1994)::Comedy|Drama\\n\",\n",
       " '473::In the Army Now (1994)::Comedy|War\\n',\n",
       " '474::In the Line of Fire (1993)::Action|Thriller\\n',\n",
       " '475::In the Name of the Father (1993)::Drama\\n',\n",
       " '476::Inkwell, The (1994)::Comedy|Drama\\n',\n",
       " \"477::What's Love Got to Do with It? (1993)::Drama\\n\",\n",
       " '478::Jimmy Hollywood (1994)::Comedy\\n',\n",
       " '479::Judgment Night (1993)::Action\\n',\n",
       " '480::Jurassic Park (1993)::Action|Adventure|Sci-Fi\\n',\n",
       " '481::Kalifornia (1993)::Drama|Thriller\\n',\n",
       " '482::Killing Zoe (1994)::Thriller\\n',\n",
       " '483::King of the Hill (1993)::Drama\\n',\n",
       " \"484::Lassie (1994)::Adventure|Children's\\n\",\n",
       " '485::Last Action Hero (1993)::Action|Comedy\\n',\n",
       " '486::Life with Mikey (1993)::Comedy\\n',\n",
       " '487::Lightning Jack (1994)::Comedy|Western\\n',\n",
       " '488::M. Butterfly (1993)::Drama\\n',\n",
       " '489::Made in America (1993)::Comedy\\n',\n",
       " '490::Malice (1993)::Thriller\\n',\n",
       " '491::Man Without a Face, The (1993)::Drama\\n',\n",
       " '492::Manhattan Murder Mystery (1993)::Comedy|Mystery\\n',\n",
       " '493::Menace II Society (1993)::Action|Crime|Drama\\n',\n",
       " '494::Executive Decision (1996)::Action|Thriller\\n',\n",
       " '495::In the Realm of the Senses (Ai no corrida) (1976)::Drama\\n',\n",
       " '496::What Happened Was... (1994)::Comedy|Drama|Romance\\n',\n",
       " '497::Much Ado About Nothing (1993)::Comedy|Romance\\n',\n",
       " '498::Mr. Jones (1993)::Drama|Romance\\n',\n",
       " '499::Mr. Wonderful (1993)::Comedy|Romance\\n',\n",
       " '500::Mrs. Doubtfire (1993)::Comedy\\n',\n",
       " '501::Naked (1993)::Drama\\n',\n",
       " \"502::Next Karate Kid, The (1994)::Action|Children's\\n\",\n",
       " '503::New Age, The (1994)::Drama\\n',\n",
       " '504::No Escape (1994)::Action|Sci-Fi\\n',\n",
       " '505::North (1994)::Comedy\\n',\n",
       " '506::Orlando (1993)::Drama\\n',\n",
       " '507::Perfect World, A (1993)::Action|Drama\\n',\n",
       " '508::Philadelphia (1993)::Drama\\n',\n",
       " '509::Piano, The (1993)::Drama|Romance\\n',\n",
       " '510::Poetic Justice (1993)::Drama\\n',\n",
       " '511::Program, The (1993)::Action|Drama\\n',\n",
       " \"512::Robert A. Heinlein's The Puppet Masters (1994)::Horror|Sci-Fi\\n\",\n",
       " '513::Radioland Murders (1994)::Comedy|Mystery|Romance\\n',\n",
       " '514::Ref, The (1994)::Comedy\\n',\n",
       " '515::Remains of the Day, The (1993)::Drama\\n',\n",
       " '516::Renaissance Man (1994)::Comedy|Drama|War\\n',\n",
       " '517::Rising Sun (1993)::Action|Drama|Mystery\\n',\n",
       " '518::Road to Wellville, The (1994)::Comedy\\n',\n",
       " '519::Robocop 3 (1993)::Sci-Fi|Thriller\\n',\n",
       " '520::Robin Hood: Men in Tights (1993)::Comedy\\n',\n",
       " '521::Romeo Is Bleeding (1993)::Crime|Thriller\\n',\n",
       " '522::Romper Stomper (1992)::Action|Drama\\n',\n",
       " '523::Ruby in Paradise (1993)::Drama\\n',\n",
       " '524::Rudy (1993)::Drama\\n',\n",
       " '525::Saint of Fort Washington, The (1993)::Drama\\n',\n",
       " '526::Savage Nights (Nuits fauves, Les) (1992)::Drama\\n',\n",
       " \"527::Schindler's List (1993)::Drama|War\\n\",\n",
       " '528::Scout, The (1994)::Drama\\n',\n",
       " '529::Searching for Bobby Fischer (1993)::Drama\\n',\n",
       " '530::Second Best (1994)::Drama\\n',\n",
       " \"531::Secret Garden, The (1993)::Children's|Drama\\n\",\n",
       " '532::Serial Mom (1994)::Comedy|Crime|Horror\\n',\n",
       " '533::Shadow, The (1994)::Action\\n',\n",
       " '534::Shadowlands (1993)::Drama|Romance\\n',\n",
       " '535::Short Cuts (1993)::Drama\\n',\n",
       " '536::Simple Twist of Fate, A (1994)::Drama\\n',\n",
       " '537::Sirens (1994)::Comedy|Drama\\n',\n",
       " '538::Six Degrees of Separation (1993)::Drama\\n',\n",
       " '539::Sleepless in Seattle (1993)::Comedy|Romance\\n',\n",
       " '540::Sliver (1993)::Thriller\\n',\n",
       " '541::Blade Runner (1982)::Film-Noir|Sci-Fi\\n',\n",
       " '542::Son in Law (1993)::Comedy\\n',\n",
       " '543::So I Married an Axe Murderer (1993)::Comedy|Romance|Thriller\\n',\n",
       " '544::Striking Distance (1993)::Action\\n',\n",
       " '545::Harlem (1993)::Drama\\n',\n",
       " \"546::Super Mario Bros. (1993)::Action|Adventure|Children's|Sci-Fi\\n\",\n",
       " '547::Surviving the Game (1994)::Action|Adventure|Thriller\\n',\n",
       " '548::Terminal Velocity (1994)::Action\\n',\n",
       " '549::Thirty-Two Short Films About Glenn Gould (1993)::Documentary\\n',\n",
       " '550::Threesome (1994)::Comedy|Romance\\n',\n",
       " \"551::Nightmare Before Christmas, The (1993)::Children's|Comedy|Musical\\n\",\n",
       " '552::Three Musketeers, The (1993)::Action|Adventure|Comedy\\n',\n",
       " '553::Tombstone (1993)::Western\\n',\n",
       " '554::Trial by Jury (1994)::Thriller\\n',\n",
       " '555::True Romance (1993)::Action|Crime|Romance\\n',\n",
       " '556::War Room, The (1993)::Documentary\\n',\n",
       " '557::Mamma Roma (1962)::Drama\\n',\n",
       " \"558::Pagemaster, The (1994)::Action|Adventure|Animation|Children's|Fantasy\\n\",\n",
       " '559::Paris, France (1993)::Comedy\\n',\n",
       " '560::Beans of Egypt, Maine, The (1994)::Drama\\n',\n",
       " '561::Killer (Bulletproof Heart) (1994)::Thriller\\n',\n",
       " '562::Welcome to the Dollhouse (1995)::Comedy|Drama\\n',\n",
       " '563::Germinal (1993)::Drama\\n',\n",
       " '564::Chasers (1994)::Comedy\\n',\n",
       " '565::Cronos (1992)::Horror\\n',\n",
       " '566::Naked in New York (1994)::Comedy|Romance\\n',\n",
       " '567::Kika (1993)::Drama\\n',\n",
       " '568::Bhaji on the Beach (1993)::Comedy|Drama\\n',\n",
       " \"569::Little Big League (1994)::Children's|Comedy\\n\",\n",
       " '570::Slingshot, The (Kådisbellan ) (1993)::Comedy|Drama\\n',\n",
       " '571::Wedding Gift, The (1994)::Drama\\n',\n",
       " '572::Foreign Student (1994)::Drama\\n',\n",
       " '573::Ciao, Professore! (Io speriamo che me la cavo ) (1993)::Drama\\n',\n",
       " '574::Spanking the Monkey (1994)::Comedy|Drama\\n',\n",
       " \"575::Little Rascals, The (1994)::Children's|Comedy\\n\",\n",
       " '576::Fausto (1993)::Comedy\\n',\n",
       " \"577::Andre (1994)::Adventure|Children's\\n\",\n",
       " '578::Hour of the Pig, The (1993)::Drama|Mystery\\n',\n",
       " '579::Scorta, La (1993)::Thriller\\n',\n",
       " '580::Princess Caraboo (1994)::Drama\\n',\n",
       " '581::Celluloid Closet, The (1995)::Documentary\\n',\n",
       " '582::Metisse (Café au Lait) (1993)::Comedy\\n',\n",
       " '583::Dear Diary (Caro Diario) (1994)::Comedy|Drama\\n',\n",
       " \"584::I Don't Want to Talk About It (De eso no se habla) (1993)::Drama\\n\",\n",
       " '585::Brady Bunch Movie, The (1995)::Comedy\\n',\n",
       " \"586::Home Alone (1990)::Children's|Comedy\\n\",\n",
       " '587::Ghost (1990)::Comedy|Romance|Thriller\\n',\n",
       " \"588::Aladdin (1992)::Animation|Children's|Comedy|Musical\\n\",\n",
       " '589::Terminator 2: Judgment Day (1991)::Action|Sci-Fi|Thriller\\n',\n",
       " '590::Dances with Wolves (1990)::Adventure|Drama|Western\\n',\n",
       " '591::Tough and Deadly (1995)::Action|Drama|Thriller\\n',\n",
       " '592::Batman (1989)::Action|Adventure|Crime|Drama\\n',\n",
       " '593::Silence of the Lambs, The (1991)::Drama|Thriller\\n',\n",
       " \"594::Snow White and the Seven Dwarfs (1937)::Animation|Children's|Musical\\n\",\n",
       " \"595::Beauty and the Beast (1991)::Animation|Children's|Musical\\n\",\n",
       " \"596::Pinocchio (1940)::Animation|Children's\\n\",\n",
       " '597::Pretty Woman (1990)::Comedy|Romance\\n',\n",
       " '598::Window to Paris (1994)::Comedy\\n',\n",
       " '599::Wild Bunch, The (1969)::Western\\n',\n",
       " '600::Love and a .45 (1994)::Thriller\\n',\n",
       " \"601::Wooden Man's Bride, The (Wu Kui) (1994)::Drama\\n\",\n",
       " '602::Great Day in Harlem, A (1994)::Documentary\\n',\n",
       " '603::Bye Bye, Love (1995)::Comedy\\n',\n",
       " '604::Criminals (1996)::Documentary\\n',\n",
       " '605::One Fine Day (1996)::Drama|Romance\\n',\n",
       " '606::Candyman: Farewell to the Flesh (1995)::Horror\\n',\n",
       " '607::Century (1993)::Drama\\n',\n",
       " '608::Fargo (1996)::Crime|Drama|Thriller\\n',\n",
       " \"609::Homeward Bound II: Lost in San Francisco (1996)::Adventure|Children's\\n\",\n",
       " '610::Heavy Metal (1981)::Action|Adventure|Animation|Horror|Sci-Fi\\n',\n",
       " '611::Hellraiser: Bloodline (1996)::Action|Horror|Sci-Fi\\n',\n",
       " '612::Pallbearer, The (1996)::Comedy\\n',\n",
       " '613::Jane Eyre (1996)::Drama|Romance\\n',\n",
       " '614::Loaded (1994)::Drama|Thriller\\n',\n",
       " '615::Bread and Chocolate (Pane e cioccolata) (1973)::Drama\\n',\n",
       " \"616::Aristocats, The (1970)::Animation|Children's\\n\",\n",
       " '617::Flower of My Secret, The (La Flor de Mi Secreto) (1995)::Drama\\n',\n",
       " '618::Two Much (1996)::Comedy|Romance\\n',\n",
       " '619::Ed (1996)::Comedy\\n',\n",
       " '620::Scream of Stone (Schrei aus Stein) (1991)::Drama\\n',\n",
       " '621::My Favorite Season (1993)::Drama\\n',\n",
       " '623::Modern Affair, A (1995)::Romance\\n',\n",
       " '624::Condition Red (1995)::Action|Drama|Thriller\\n',\n",
       " '625::Asfour Stah (1990)::Drama\\n',\n",
       " '626::Thin Line Between Love and Hate, A (1996)::Comedy\\n',\n",
       " '627::Last Supper, The (1995)::Drama|Thriller\\n',\n",
       " '628::Primal Fear (1996)::Drama|Thriller\\n',\n",
       " '629::Rude (1995)::Drama\\n',\n",
       " '630::Carried Away (1996)::Drama|Romance\\n',\n",
       " \"631::All Dogs Go to Heaven 2 (1996)::Animation|Children's|Musical\\n\",\n",
       " '632::Land and Freedom (Tierra y libertad) (1995)::War\\n',\n",
       " '633::Denise Calls Up (1995)::Comedy\\n',\n",
       " '634::Theodore Rex (1995)::Comedy\\n',\n",
       " '635::Family Thing, A (1996)::Comedy|Drama\\n',\n",
       " '636::Frisk (1995)::Drama\\n',\n",
       " '637::Sgt. Bilko (1996)::Comedy\\n',\n",
       " '638::Jack and Sarah (1995)::Romance\\n',\n",
       " '639::Girl 6 (1996)::Comedy\\n',\n",
       " '640::Diabolique (1996)::Drama|Thriller\\n',\n",
       " '641::Little Indian, Big City (Un indien dans la ville) (1994)::Comedy\\n',\n",
       " '642::Roula (1995)::Drama\\n',\n",
       " '643::Peanuts - Die Bank zahlt alles (1996)::Comedy\\n',\n",
       " '644::Happy Weekend (1996)::Comedy\\n',\n",
       " '645::Nelly & Monsieur Arnaud (1995)::Drama\\n',\n",
       " '647::Courage Under Fire (1996)::Drama|War\\n',\n",
       " '648::Mission: Impossible (1996)::Action|Adventure|Mystery\\n',\n",
       " '649::Cold Fever (Á köldum klaka) (1994)::Comedy|Drama\\n',\n",
       " '650::Moll Flanders (1996)::Drama\\n',\n",
       " '651::Superweib, Das (1996)::Comedy\\n',\n",
       " '652::301, 302 (1995)::Mystery\\n',\n",
       " '653::Dragonheart (1996)::Action|Adventure|Fantasy\\n',\n",
       " '654::Und keiner weint mir nach (1996)::Drama|Romance\\n',\n",
       " '655::Mutters Courage (1995)::Comedy\\n',\n",
       " '656::Eddie (1996)::Comedy\\n',\n",
       " '657::Yankee Zulu (1994)::Comedy|Drama\\n',\n",
       " \"658::Billy's Holiday (1995)::Drama\\n\",\n",
       " '659::Purple Noon (1960)::Crime|Thriller\\n',\n",
       " '660::August (1996)::Drama\\n',\n",
       " \"661::James and the Giant Peach (1996)::Animation|Children's|Musical\\n\",\n",
       " '662::Fear (1996)::Thriller\\n',\n",
       " '663::Kids in the Hall: Brain Candy (1996)::Comedy\\n',\n",
       " '664::Faithful (1996)::Comedy\\n',\n",
       " '665::Underground (1995)::War\\n',\n",
       " '666::All Things Fair (1996)::Drama\\n',\n",
       " '667::Bloodsport 2 (1995)::Action\\n',\n",
       " '668::Pather Panchali (1955)::Drama\\n',\n",
       " '669::Aparajito (1956)::Drama\\n',\n",
       " '670::World of Apu, The (Apur Sansar) (1959)::Drama\\n',\n",
       " '671::Mystery Science Theater 3000: The Movie (1996)::Comedy|Sci-Fi\\n',\n",
       " '672::Tarantella (1995)::Drama\\n',\n",
       " \"673::Space Jam (1996)::Adventure|Animation|Children's|Comedy|Fantasy\\n\",\n",
       " '674::Barbarella (1968)::Adventure|Sci-Fi\\n',\n",
       " '675::Hostile Intentions (1994)::Action|Drama|Thriller\\n',\n",
       " '676::They Bite (1996)::Drama\\n',\n",
       " '678::Some Folks Call It a Sling Blade (1993)::Drama|Thriller\\n',\n",
       " '679::Run of the Country, The (1995)::Drama\\n',\n",
       " '680::Alphaville (1965)::Sci-Fi\\n',\n",
       " '681::Clean Slate (Coup de Torchon) (1981)::Crime\\n',\n",
       " '682::Tigrero: A Film That Was Never Made (1994)::Documentary|Drama\\n',\n",
       " \"683::Eye of Vichy, The (Oeil de Vichy, L') (1993)::Documentary\\n\",\n",
       " '684::Windows (1980)::Drama\\n',\n",
       " \"685::It's My Party (1995)::Drama\\n\",\n",
       " '687::Country Life (1994)::Drama|Romance\\n',\n",
       " '688::Operation Dumbo Drop (1995)::Action|Adventure|Comedy|War\\n',\n",
       " '690::Promise, The (Versprechen, Das) (1994)::Romance\\n',\n",
       " '691::Mrs. Winterbourne (1996)::Comedy|Romance\\n',\n",
       " '692::Solo (1996)::Action|Sci-Fi|Thriller\\n',\n",
       " '693::Under the Domin Tree (Etz Hadomim Tafus) (1994)::Drama\\n',\n",
       " '694::Substitute, The (1996)::Action\\n',\n",
       " '695::True Crime (1995)::Mystery|Thriller\\n',\n",
       " '696::Butterfly Kiss (1995)::Thriller\\n',\n",
       " '697::Feeling Minnesota (1996)::Drama|Romance\\n',\n",
       " '698::Delta of Venus (1994)::Drama\\n',\n",
       " '699::To Cross the Rubicon (1991)::Drama\\n',\n",
       " '700::Angus (1995)::Comedy\\n',\n",
       " '701::Daens (1992)::Drama\\n',\n",
       " '702::Faces (1968)::Drama\\n',\n",
       " '703::Boys (1996)::Drama\\n',\n",
       " '704::Quest, The (1996)::Action|Adventure\\n',\n",
       " '705::Cosi (1996)::Comedy\\n',\n",
       " '706::Sunset Park (1996)::Drama\\n',\n",
       " '707::Mulholland Falls (1996)::Crime|Film-Noir|Thriller\\n',\n",
       " '708::Truth About Cats & Dogs, The (1996)::Comedy|Romance\\n',\n",
       " \"709::Oliver & Company (1988)::Animation|Children's\\n\",\n",
       " '710::Celtic Pride (1996)::Comedy\\n',\n",
       " \"711::Flipper (1996)::Adventure|Children's\\n\",\n",
       " '712::Captives (1994)::Drama\\n',\n",
       " '713::Of Love and Shadows (1994)::Drama\\n',\n",
       " '714::Dead Man (1995)::Western\\n',\n",
       " '715::Horseman on the Roof, The (Hussard sur le toit, Le) (1995)::Drama\\n',\n",
       " '716::Switchblade Sisters (1975)::Crime\\n',\n",
       " '717::Mouth to Mouth (Boca a boca) (1995)::Comedy\\n',\n",
       " '718::Visitors, The (Les Visiteurs) (1993)::Comedy|Sci-Fi\\n',\n",
       " '719::Multiplicity (1996)::Comedy\\n',\n",
       " '720::Wallace & Gromit: The Best of Aardman Animation (1996)::Animation\\n',\n",
       " '721::Halfmoon (Paul Bowles - Halbmond) (1995)::Drama\\n',\n",
       " '722::Haunted World of Edward D. Wood Jr., The (1995)::Documentary\\n',\n",
       " '723::Two Friends (1986)::Drama\\n',\n",
       " '724::Craft, The (1996)::Drama|Horror\\n',\n",
       " '725::Great White Hype, The (1996)::Comedy\\n',\n",
       " '726::Last Dance (1996)::Drama\\n',\n",
       " '727::War Stories (1995)::Documentary\\n',\n",
       " '728::Cold Comfort Farm (1995)::Comedy\\n',\n",
       " '729::Institute Benjamenta, or This Dream People Call Human Life (1995)::Drama\\n',\n",
       " '730::Low Life, The (1994)::Drama\\n',\n",
       " \"731::Heaven's Prisoners (1996)::Mystery|Thriller\\n\",\n",
       " '732::Original Gangstas (1996)::Crime\\n',\n",
       " '733::Rock, The (1996)::Action|Adventure|Thriller\\n',\n",
       " '734::Getting Away With Murder (1996)::Comedy\\n',\n",
       " '735::Cemetery Man (Dellamorte Dellamore) (1994)::Comedy|Horror\\n',\n",
       " '736::Twister (1996)::Action|Adventure|Romance|Thriller\\n',\n",
       " '737::Barb Wire (1996)::Action|Sci-Fi\\n',\n",
       " '738::Garcu, Le (1995)::Drama\\n',\n",
       " '739::Honigmond (1996)::Comedy\\n',\n",
       " '741::Ghost in the Shell (Kokaku kidotai) (1995)::Animation|Sci-Fi\\n',\n",
       " '742::Thinner (1996)::Horror|Thriller\\n',\n",
       " '743::Spy Hard (1996)::Comedy\\n',\n",
       " '744::Brothers in Trouble (1995)::Drama\\n',\n",
       " '745::Close Shave, A (1995)::Animation|Comedy|Thriller\\n',\n",
       " '746::Force of Evil (1948)::Film-Noir\\n',\n",
       " '747::Stupids, The (1996)::Comedy\\n',\n",
       " '748::Arrival, The (1996)::Action|Sci-Fi|Thriller\\n',\n",
       " '749::Man from Down Under, The (1943)::Drama\\n',\n",
       " '750::Dr. Strangelove or: How I Learned to Stop Worrying and Love the Bomb (1963)::Sci-Fi|War\\n',\n",
       " '751::Careful (1992)::Comedy\\n',\n",
       " '752::Vermont Is For Lovers (1992)::Comedy|Romance\\n',\n",
       " '753::Month by the Lake, A (1995)::Comedy|Drama\\n',\n",
       " \"754::Gold Diggers: The Secret of Bear Mountain (1995)::Adventure|Children's\\n\",\n",
       " \"755::Kim (1950)::Children's|Drama\\n\",\n",
       " '756::Carmen Miranda: Bananas Is My Business (1994)::Documentary\\n',\n",
       " '757::Ashes of Time (1994)::Drama\\n',\n",
       " '758::Jar, The (Khomreh) (1992)::Drama\\n',\n",
       " '759::Maya Lin: A Strong Clear Vision (1994)::Documentary\\n',\n",
       " '760::Stalingrad (1993)::War\\n',\n",
       " '761::Phantom, The (1996)::Adventure\\n',\n",
       " '762::Striptease (1996)::Comedy|Crime\\n',\n",
       " '763::Last of the High Kings, The (a.k.a. Summer Fling) (1996)::Drama\\n',\n",
       " '764::Heavy (1995)::Drama|Romance\\n',\n",
       " '765::Jack (1996)::Comedy|Drama\\n',\n",
       " '766::I Shot Andy Warhol (1996)::Drama\\n',\n",
       " '767::Grass Harp, The (1995)::Drama\\n',\n",
       " \"768::Someone Else's America (1995)::Drama\\n\",\n",
       " '769::Marlene Dietrich: Shadow and Light (1996)::Documentary\\n',\n",
       " '770::Costa Brava (1946)::Drama\\n',\n",
       " '771::Vie est belle, La (Life is Rosey) (1987)::Comedy|Drama\\n',\n",
       " '772::Quartier Mozart (1992)::Comedy\\n',\n",
       " '773::Touki Bouki (Journey of the Hyena) (1973)::Drama\\n',\n",
       " \"774::Wend Kuuni (God's Gift) (1982)::Drama\\n\",\n",
       " '775::Spirits of the Dead (Tre Passi nel Delirio) (1968)::Horror\\n',\n",
       " '776::Babyfever (1994)::Comedy|Drama\\n',\n",
       " \"777::Pharaoh's Army (1995)::War\\n\",\n",
       " '778::Trainspotting (1996)::Drama\\n',\n",
       " \"779::'Til There Was You (1997)::Drama|Romance\\n\",\n",
       " '780::Independence Day (ID4) (1996)::Action|Sci-Fi|War\\n',\n",
       " '781::Stealing Beauty (1996)::Drama\\n',\n",
       " '782::Fan, The (1996)::Thriller\\n',\n",
       " \"783::Hunchback of Notre Dame, The (1996)::Animation|Children's|Musical\\n\",\n",
       " '784::Cable Guy, The (1996)::Comedy\\n',\n",
       " '785::Kingpin (1996)::Comedy\\n',\n",
       " '786::Eraser (1996)::Action|Thriller\\n',\n",
       " '787::Gate of Heavenly Peace, The (1995)::Documentary\\n',\n",
       " '788::Nutty Professor, The (1996)::Comedy|Fantasy|Romance|Sci-Fi\\n',\n",
       " '789::I, Worst of All (Yo, la peor de todas) (1990)::Drama\\n',\n",
       " '790::An Unforgettable Summer (1994)::Drama\\n',\n",
       " '791::Last Klezmer: Leopold Kozlowski, His Life and Music, The (1995)::Documentary\\n',\n",
       " '792::Hungarian Fairy Tale, A (1987)::Fantasy\\n',\n",
       " \"793::My Life and Times With Antonin Artaud (En compagnie d'Antonin Artaud) (1993)::Drama\\n\",\n",
       " '794::Midnight Dancers (Sibak) (1994)::Comedy|Drama\\n',\n",
       " '795::Somebody to Love (1994)::Drama\\n',\n",
       " '796::Very Natural Thing, A (1974)::Drama\\n',\n",
       " '797::Old Lady Who Walked in the Sea, The (Vieille qui marchait dans la mer, La) (1991)::Comedy\\n',\n",
       " '798::Daylight (1996)::Action|Adventure|Thriller\\n',\n",
       " '799::Frighteners, The (1996)::Comedy|Horror\\n',\n",
       " '800::Lone Star (1996)::Drama|Mystery\\n',\n",
       " \"801::Harriet the Spy (1996)::Children's|Comedy\\n\",\n",
       " '802::Phenomenon (1996)::Drama|Romance\\n',\n",
       " '803::Walking and Talking (1996)::Romance\\n',\n",
       " \"804::She's the One (1996)::Comedy|Romance\\n\",\n",
       " '805::Time to Kill, A (1996)::Drama\\n',\n",
       " '806::American Buffalo (1996)::Drama\\n',\n",
       " '807::Rendezvous in Paris (Rendez-vous de Paris, Les) (1995)::Comedy|Romance\\n',\n",
       " \"808::Alaska (1996)::Adventure|Children's\\n\",\n",
       " '809::Fled (1996)::Action|Adventure\\n',\n",
       " \"810::Kazaam (1996)::Children's|Comedy|Fantasy\\n\",\n",
       " '811::Bewegte Mann, Der (1994)::Comedy\\n',\n",
       " '812::Magic Hunter (1994)::Drama\\n',\n",
       " '813::Larger Than Life (1996)::Comedy\\n',\n",
       " '814::Boy Called Hate, A (1995)::Drama\\n',\n",
       " '815::Power 98 (1995)::Action|Mystery|Thriller\\n',\n",
       " '816::Two Deaths (1995)::Drama\\n',\n",
       " '818::Very Brady Sequel, A (1996)::Comedy\\n',\n",
       " '819::Stefano Quantestorie (1993)::Comedy|Drama\\n',\n",
       " '820::Death in the Garden (Mort en ce jardin, La) (1956)::Drama\\n',\n",
       " '821::Crude Oasis, The (1995)::Romance\\n',\n",
       " '822::Hedd Wyn (1992)::Drama\\n',\n",
       " '823::Collectionneuse, La (1967)::Drama\\n',\n",
       " '824::Kaspar Hauser (1993)::Drama\\n',\n",
       " '825::Echte Kerle (1996)::Comedy|Romance\\n',\n",
       " '826::Diebinnen (1995)::Drama\\n',\n",
       " '827::Convent, The (Convento, O) (1995)::Drama\\n',\n",
       " \"828::Adventures of Pinocchio, The (1996)::Adventure|Children's\\n\",\n",
       " \"829::Joe's Apartment (1996)::Comedy|Musical\\n\",\n",
       " '830::First Wives Club, The (1996)::Comedy\\n',\n",
       " '831::Stonewall (1995)::Drama\\n',\n",
       " '832::Ransom (1996)::Drama|Thriller\\n',\n",
       " '833::High School High (1996)::Comedy\\n',\n",
       " '834::Phat Beach (1996)::Comedy\\n',\n",
       " '835::Foxfire (1996)::Drama\\n',\n",
       " '836::Chain Reaction (1996)::Action|Adventure|Thriller\\n',\n",
       " \"837::Matilda (1996)::Children's|Comedy\\n\",\n",
       " '838::Emma (1996)::Comedy|Drama|Romance\\n',\n",
       " '839::Crow: City of Angels, The (1996)::Action|Thriller\\n',\n",
       " '840::House Arrest (1996)::Comedy\\n',\n",
       " '841::Eyes Without a Face (1959)::Horror\\n',\n",
       " '842::Tales from the Crypt Presents: Bordello of Blood (1996)::Horror\\n',\n",
       " '843::Lotto Land (1995)::Drama\\n',\n",
       " '844::Story of Xinghua, The (1993)::Drama\\n',\n",
       " '845::Day the Sun Turned Cold, The (Tianguo niezi) (1994)::Drama\\n',\n",
       " '846::Flirt (1995)::Drama\\n',\n",
       " '847::Big Squeeze, The (1996)::Comedy|Drama\\n',\n",
       " '848::Spitfire Grill, The (1996)::Drama\\n',\n",
       " '849::Escape from L.A. (1996)::Action|Adventure|Sci-Fi|Thriller\\n',\n",
       " '850::Cyclo (1995)::Crime|Drama\\n',\n",
       " '851::Basquiat (1996)::Drama\\n',\n",
       " '852::Tin Cup (1996)::Comedy|Romance\\n',\n",
       " '853::Dingo (1992)::Drama\\n',\n",
       " '854::Ballad of Narayama, The (Narayama Bushiko) (1958)::Drama\\n',\n",
       " '855::Every Other Weekend (1990)::Drama\\n',\n",
       " '856::Mille bolle blu (1993)::Comedy\\n',\n",
       " '857::Crows and Sparrows (1949)::Drama\\n',\n",
       " '858::Godfather, The (1972)::Action|Crime|Drama\\n',\n",
       " '859::Hippie Revolution, The (1996)::Documentary\\n',\n",
       " '860::Maybe, Maybe Not (Bewegte Mann, Der) (1994)::Comedy\\n',\n",
       " '861::Supercop (1992)::Action|Thriller\\n',\n",
       " '862::Manny & Lo (1996)::Drama\\n',\n",
       " '863::Celestial Clockwork (1994)::Comedy\\n',\n",
       " '864::Wife, The (1995)::Comedy|Drama\\n',\n",
       " '865::Small Faces (1995)::Drama\\n',\n",
       " '866::Bound (1996)::Crime|Drama|Romance|Thriller\\n',\n",
       " '867::Carpool (1996)::Comedy|Crime\\n',\n",
       " '868::Death in Brunswick (1991)::Comedy\\n',\n",
       " '869::Kansas City (1996)::Crime\\n',\n",
       " \"870::Gone Fishin' (1997)::Comedy\\n\",\n",
       " \"871::Lover's Knot (1996)::Comedy\\n\",\n",
       " '872::Aiqing wansui (1994)::Drama\\n',\n",
       " '873::Shadow of Angels (Schatten der Engel) (1976)::Drama\\n',\n",
       " '874::Killer: A Journal of Murder (1995)::Crime|Drama\\n',\n",
       " '875::Nothing to Lose (1994)::Drama\\n',\n",
       " '876::Police Story 4: Project S (Chao ji ji hua) (1993)::Action\\n',\n",
       " '877::Girls Town (1996)::Drama\\n',\n",
       " '878::Bye-Bye (1995)::Drama\\n',\n",
       " '879::Relic, The (1997)::Horror\\n',\n",
       " '880::Island of Dr. Moreau, The (1996)::Sci-Fi|Thriller\\n',\n",
       " \"881::First Kid (1996)::Children's|Comedy\\n\",\n",
       " '882::Trigger Effect, The (1996)::Drama|Thriller\\n',\n",
       " '884::Sweet Nothing (1995)::Drama\\n',\n",
       " \"885::Bogus (1996)::Children's|Drama|Fantasy\\n\",\n",
       " '886::Bulletproof (1996)::Action\\n',\n",
       " '887::Talk of Angels (1998)::Drama\\n',\n",
       " \"888::Land Before Time III: The Time of the Great Giving (1995)::Animation|Children's\\n\",\n",
       " '889::1-900 (1994)::Romance\\n',\n",
       " '890::Baton Rouge (1988)::Thriller\\n',\n",
       " '891::Halloween: The Curse of Michael Myers (1995)::Horror|Thriller\\n',\n",
       " '892::Twelfth Night (1996)::Comedy|Drama|Romance\\n',\n",
       " '893::Mother Night (1996)::Drama\\n',\n",
       " '894::Liebelei (1933)::Romance\\n',\n",
       " '895::Venice/Venice (1992)::Drama\\n',\n",
       " '896::Wild Reeds (1994)::Drama\\n',\n",
       " '897::For Whom the Bell Tolls (1943)::Adventure|War\\n',\n",
       " '898::Philadelphia Story, The (1940)::Comedy|Romance\\n',\n",
       " \"899::Singin' in the Rain (1952)::Musical|Romance\\n\",\n",
       " '900::American in Paris, An (1951)::Musical|Romance\\n',\n",
       " '901::Funny Face (1957)::Comedy|Musical\\n',\n",
       " \"902::Breakfast at Tiffany's (1961)::Drama|Romance\\n\",\n",
       " '903::Vertigo (1958)::Mystery|Thriller\\n',\n",
       " '904::Rear Window (1954)::Mystery|Thriller\\n',\n",
       " '905::It Happened One Night (1934)::Comedy\\n',\n",
       " '906::Gaslight (1944)::Mystery|Thriller\\n',\n",
       " '907::Gay Divorcee, The (1934)::Comedy|Musical|Romance\\n',\n",
       " '908::North by Northwest (1959)::Drama|Thriller\\n',\n",
       " '909::Apartment, The (1960)::Comedy|Drama\\n',\n",
       " '910::Some Like It Hot (1959)::Comedy|Crime\\n',\n",
       " '911::Charade (1963)::Comedy|Mystery|Romance|Thriller\\n',\n",
       " '912::Casablanca (1942)::Drama|Romance|War\\n',\n",
       " '913::Maltese Falcon, The (1941)::Film-Noir|Mystery\\n',\n",
       " '914::My Fair Lady (1964)::Musical|Romance\\n',\n",
       " '915::Sabrina (1954)::Comedy|Romance\\n',\n",
       " '916::Roman Holiday (1953)::Comedy|Romance\\n',\n",
       " \"917::Little Princess, The (1939)::Children's|Drama\\n\",\n",
       " '918::Meet Me in St. Louis (1944)::Musical\\n',\n",
       " \"919::Wizard of Oz, The (1939)::Adventure|Children's|Drama|Musical\\n\",\n",
       " '920::Gone with the Wind (1939)::Drama|Romance|War\\n',\n",
       " '921::My Favorite Year (1982)::Comedy\\n',\n",
       " '922::Sunset Blvd. (a.k.a. Sunset Boulevard) (1950)::Film-Noir\\n',\n",
       " '923::Citizen Kane (1941)::Drama\\n',\n",
       " '924::2001: A Space Odyssey (1968)::Drama|Mystery|Sci-Fi|Thriller\\n',\n",
       " '925::Golden Earrings (1947)::Adventure|Romance\\n',\n",
       " '926::All About Eve (1950)::Drama\\n',\n",
       " '927::Women, The (1939)::Comedy\\n',\n",
       " '928::Rebecca (1940)::Romance|Thriller\\n',\n",
       " '929::Foreign Correspondent (1940)::Thriller\\n',\n",
       " '930::Notorious (1946)::Film-Noir|Romance|Thriller\\n',\n",
       " '931::Spellbound (1945)::Mystery|Romance|Thriller\\n',\n",
       " '932::Affair to Remember, An (1957)::Romance\\n',\n",
       " '933::To Catch a Thief (1955)::Comedy|Romance|Thriller\\n',\n",
       " '934::Father of the Bride (1950)::Comedy\\n',\n",
       " '935::Band Wagon, The (1953)::Comedy|Musical\\n',\n",
       " '936::Ninotchka (1939)::Comedy|Romance\\n',\n",
       " '937::Love in the Afternoon (1957)::Comedy|Romance\\n',\n",
       " '938::Gigi (1958)::Musical\\n',\n",
       " '939::Reluctant Debutante, The (1958)::Comedy|Drama\\n',\n",
       " '940::Adventures of Robin Hood, The (1938)::Action|Adventure\\n',\n",
       " '941::Mark of Zorro, The (1940)::Adventure\\n',\n",
       " '942::Laura (1944)::Crime|Film-Noir|Mystery\\n',\n",
       " '943::Ghost and Mrs. Muir, The (1947)::Drama|Romance\\n',\n",
       " '944::Lost Horizon (1937)::Drama\\n',\n",
       " '945::Top Hat (1935)::Comedy|Musical|Romance\\n',\n",
       " '946::To Be or Not to Be (1942)::Comedy|Drama|War\\n',\n",
       " '947::My Man Godfrey (1936)::Comedy\\n',\n",
       " '948::Giant (1956)::Drama\\n',\n",
       " '949::East of Eden (1955)::Drama\\n',\n",
       " '950::Thin Man, The (1934)::Mystery\\n',\n",
       " '951::His Girl Friday (1940)::Comedy\\n',\n",
       " '952::Around the World in 80 Days (1956)::Adventure|Comedy\\n',\n",
       " \"953::It's a Wonderful Life (1946)::Drama\\n\",\n",
       " '954::Mr. Smith Goes to Washington (1939)::Drama\\n',\n",
       " '955::Bringing Up Baby (1938)::Comedy\\n',\n",
       " '956::Penny Serenade (1941)::Drama|Romance\\n',\n",
       " '957::Scarlet Letter, The (1926)::Drama\\n',\n",
       " '958::Lady of Burlesque (1943)::Comedy|Mystery\\n',\n",
       " '959::Of Human Bondage (1934)::Drama\\n',\n",
       " '960::Angel on My Shoulder (1946)::Crime|Drama\\n',\n",
       " '961::Little Lord Fauntleroy (1936)::Drama\\n',\n",
       " '962::They Made Me a Criminal (1939)::Crime|Drama\\n',\n",
       " '963::Inspector General, The (1949)::Musical\\n',\n",
       " '964::Angel and the Badman (1947)::Western\\n',\n",
       " '965::39 Steps, The (1935)::Thriller\\n',\n",
       " '966::Walk in the Sun, A (1945)::Drama\\n',\n",
       " '967::Outlaw, The (1943)::Western\\n',\n",
       " '968::Night of the Living Dead (1968)::Horror|Sci-Fi\\n',\n",
       " '969::African Queen, The (1951)::Action|Adventure|Romance|War\\n',\n",
       " '970::Beat the Devil (1954)::Comedy|Drama\\n',\n",
       " '971::Cat on a Hot Tin Roof (1958)::Drama\\n',\n",
       " '972::Last Time I Saw Paris, The (1954)::Drama\\n',\n",
       " '973::Meet John Doe (1941)::Drama\\n',\n",
       " '974::Algiers (1938)::Drama|Romance\\n',\n",
       " '975::Something to Sing About (1937)::Comedy|Musical\\n',\n",
       " '976::Farewell to Arms, A (1932)::Romance|War\\n',\n",
       " '977::Moonlight Murder (1936)::Mystery\\n',\n",
       " '978::Blue Angel, The (Blaue Engel, Der) (1930)::Drama\\n',\n",
       " '979::Nothing Personal (1995)::Drama|War\\n',\n",
       " '980::In the Line of Duty 2 (1987)::Action\\n',\n",
       " '981::Dangerous Ground (1997)::Drama\\n',\n",
       " '982::Picnic (1955)::Drama\\n',\n",
       " '983::Madagascar Skin (1995)::Romance\\n',\n",
       " '984::Pompatus of Love, The (1996)::Comedy|Drama\\n',\n",
       " '985::Small Wonders (1996)::Documentary\\n',\n",
       " \"986::Fly Away Home (1996)::Adventure|Children's\\n\",\n",
       " '987::Bliss (1997)::Drama|Romance\\n',\n",
       " '988::Grace of My Heart (1996)::Comedy|Drama\\n',\n",
       " '989::Schlafes Bruder (Brother of Sleep) (1995)::Drama\\n',\n",
       " '990::Maximum Risk (1996)::Action|Adventure|Thriller\\n',\n",
       " '991::Michael Collins (1996)::Drama|War\\n',\n",
       " \"992::Rich Man's Wife, The (1996)::Thriller\\n\",\n",
       " '993::Infinity (1996)::Drama\\n',\n",
       " '994::Big Night (1996)::Drama\\n',\n",
       " '996::Last Man Standing (1996)::Action|Drama|Western\\n',\n",
       " '997::Caught (1996)::Drama|Thriller\\n',\n",
       " '998::Set It Off (1996)::Action|Crime\\n',\n",
       " '999::2 Days in the Valley (1996)::Crime\\n',\n",
       " '1000::Curdled (1996)::Crime\\n',\n",
       " \"1001::Associate, The (L'Associe)(1982)::Comedy\\n\",\n",
       " \"1002::Ed's Next Move (1996)::Comedy\\n\",\n",
       " '1003::Extreme Measures (1996)::Drama|Thriller\\n',\n",
       " '1004::Glimmer Man, The (1996)::Action|Thriller\\n',\n",
       " \"1005::D3: The Mighty Ducks (1996)::Children's|Comedy\\n\",\n",
       " '1006::Chamber, The (1996)::Drama\\n',\n",
       " \"1007::Apple Dumpling Gang, The (1975)::Children's|Comedy|Western\\n\",\n",
       " '1008::Davy Crockett, King of the Wild Frontier (1955)::Western\\n',\n",
       " \"1009::Escape to Witch Mountain (1975)::Adventure|Children's|Fantasy\\n\",\n",
       " \"1010::Love Bug, The (1969)::Children's|Comedy\\n\",\n",
       " \"1011::Herbie Rides Again (1974)::Adventure|Children's|Comedy\\n\",\n",
       " \"1012::Old Yeller (1957)::Children's|Drama\\n\",\n",
       " ...]"
      ]
     },
     "execution_count": 308,
     "metadata": {},
     "output_type": "execute_result"
    }
   ],
   "source": [
    "[one_line\n",
    " for one_line in open('movies.dat', encoding='latin-1')]"
   ]
  },
  {
   "cell_type": "code",
   "execution_count": null,
   "metadata": {},
   "outputs": [],
   "source": []
  }
 ],
 "metadata": {
  "kernelspec": {
   "display_name": "Python 3",
   "language": "python",
   "name": "python3"
  },
  "language_info": {
   "codemirror_mode": {
    "name": "ipython",
    "version": 3
   },
   "file_extension": ".py",
   "mimetype": "text/x-python",
   "name": "python",
   "nbconvert_exporter": "python",
   "pygments_lexer": "ipython3",
   "version": "3.9.2"
  }
 },
 "nbformat": 4,
 "nbformat_minor": 4
}
