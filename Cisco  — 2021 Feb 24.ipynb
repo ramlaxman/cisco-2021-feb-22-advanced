{
 "cells": [
  {
   "cell_type": "markdown",
   "metadata": {},
   "source": [
    "# Agenda\n",
    "\n",
    "1. What is an object?\n",
    "2. Classes and instances\n",
    "3. Attributes\n",
    "4. `__init__` -- what it is (and isn't)\n",
    "5. Other methods\n",
    "6. Class attributes and the ICPO rule (instance, class, parent, object)\n",
    "7. Inheritance\n",
    "8. Magic methods\n",
    "    - `__str__` and `__repr__`\n",
    "    - `__len__`\n",
    "    - `__add__` and its friends\n",
    "    - `__eq__` and its friends\n",
    "    - \n",
    "9. Proper"
   ]
  }
 ],
 "metadata": {
  "kernelspec": {
   "display_name": "Python 3",
   "language": "python",
   "name": "python3"
  },
  "language_info": {
   "codemirror_mode": {
    "name": "ipython",
    "version": 3
   },
   "file_extension": ".py",
   "mimetype": "text/x-python",
   "name": "python",
   "nbconvert_exporter": "python",
   "pygments_lexer": "ipython3",
   "version": "3.9.2"
  }
 },
 "nbformat": 4,
 "nbformat_minor": 4
}
