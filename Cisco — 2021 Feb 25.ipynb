{
 "cells": [
  {
   "cell_type": "markdown",
   "metadata": {},
   "source": [
    "# Agenda\n",
    "\n",
    "1. The iterator protocol\n",
    "    - Adding iteration to your classes\n",
    "    - Different techniques for that\n",
    "2. Generator functions\n",
    "3. Generator comprehensions\n",
    "4. Decorators\n",
    "5. Threading and multiprocessing "
   ]
  },
  {
   "cell_type": "code",
   "execution_count": 1,
   "metadata": {},
   "outputs": [
    {
     "name": "stdout",
     "output_type": "stream",
     "text": [
      "Hello, name1!\n",
      "Hello, name2!\n"
     ]
    }
   ],
   "source": [
    "class Person:\n",
    "    def __init__(self, name):\n",
    "        self.name = name\n",
    "        \n",
    "    def greet(self):\n",
    "        return f'Hello, {self.name}!'\n",
    "        \n",
    "p1 = Person('name1')        \n",
    "p2 = Person('name2')\n",
    "\n",
    "print(p1.greet())\n",
    "print(p2.greet())"
   ]
  },
  {
   "cell_type": "code",
   "execution_count": 2,
   "metadata": {},
   "outputs": [],
   "source": [
    "import weakref"
   ]
  },
  {
   "cell_type": "code",
   "execution_count": 3,
   "metadata": {},
   "outputs": [],
   "source": [
    "p3 = weakref.ref(p2)\n"
   ]
  },
  {
   "cell_type": "code",
   "execution_count": 4,
   "metadata": {},
   "outputs": [
    {
     "data": {
      "text/plain": [
       "<weakref at 0x10c289310; to 'Person' at 0x10c2874c0>"
      ]
     },
     "execution_count": 4,
     "metadata": {},
     "output_type": "execute_result"
    }
   ],
   "source": [
    "p3"
   ]
  },
  {
   "cell_type": "code",
   "execution_count": 5,
   "metadata": {},
   "outputs": [
    {
     "ename": "AttributeError",
     "evalue": "'weakref' object has no attribute 'ref'",
     "output_type": "error",
     "traceback": [
      "\u001b[0;31m---------------------------------------------------------------------------\u001b[0m",
      "\u001b[0;31mAttributeError\u001b[0m                            Traceback (most recent call last)",
      "\u001b[0;32m<ipython-input-5-f760b8ba5218>\u001b[0m in \u001b[0;36m<module>\u001b[0;34m\u001b[0m\n\u001b[0;32m----> 1\u001b[0;31m \u001b[0mp3\u001b[0m\u001b[0;34m.\u001b[0m\u001b[0mref\u001b[0m\u001b[0;34m\u001b[0m\u001b[0;34m\u001b[0m\u001b[0m\n\u001b[0m",
      "\u001b[0;31mAttributeError\u001b[0m: 'weakref' object has no attribute 'ref'"
     ]
    }
   ],
   "source": [
    "p3.ref"
   ]
  },
  {
   "cell_type": "code",
   "execution_count": 7,
   "metadata": {},
   "outputs": [],
   "source": [
    "w = weakref.ref(Person('name10'))"
   ]
  },
  {
   "cell_type": "code",
   "execution_count": 8,
   "metadata": {},
   "outputs": [
    {
     "data": {
      "text/plain": [
       "<weakref at 0x10b2aabd0; dead>"
      ]
     },
     "execution_count": 8,
     "metadata": {},
     "output_type": "execute_result"
    }
   ],
   "source": [
    "w"
   ]
  },
  {
   "cell_type": "code",
   "execution_count": 9,
   "metadata": {},
   "outputs": [
    {
     "data": {
      "text/plain": [
       "weakref"
      ]
     },
     "execution_count": 9,
     "metadata": {},
     "output_type": "execute_result"
    }
   ],
   "source": [
    "type(w)"
   ]
  },
  {
   "cell_type": "code",
   "execution_count": 10,
   "metadata": {},
   "outputs": [
    {
     "data": {
      "text/plain": [
       "['__call__',\n",
       " '__callback__',\n",
       " '__class__',\n",
       " '__class_getitem__',\n",
       " '__delattr__',\n",
       " '__dir__',\n",
       " '__doc__',\n",
       " '__eq__',\n",
       " '__format__',\n",
       " '__ge__',\n",
       " '__getattribute__',\n",
       " '__gt__',\n",
       " '__hash__',\n",
       " '__init__',\n",
       " '__init_subclass__',\n",
       " '__le__',\n",
       " '__lt__',\n",
       " '__ne__',\n",
       " '__new__',\n",
       " '__reduce__',\n",
       " '__reduce_ex__',\n",
       " '__repr__',\n",
       " '__setattr__',\n",
       " '__sizeof__',\n",
       " '__str__',\n",
       " '__subclasshook__']"
      ]
     },
     "execution_count": 10,
     "metadata": {},
     "output_type": "execute_result"
    }
   ],
   "source": [
    "dir(w)"
   ]
  },
  {
   "cell_type": "code",
   "execution_count": 11,
   "metadata": {},
   "outputs": [],
   "source": [
    "p3 = weakref.ref(p2)\n"
   ]
  },
  {
   "cell_type": "code",
   "execution_count": 13,
   "metadata": {},
   "outputs": [
    {
     "data": {
      "text/plain": [
       "<weakref at 0x10c289310; to 'Person' at 0x10c2874c0>"
      ]
     },
     "execution_count": 13,
     "metadata": {},
     "output_type": "execute_result"
    }
   ],
   "source": [
    "p3"
   ]
  },
  {
   "cell_type": "code",
   "execution_count": 14,
   "metadata": {},
   "outputs": [],
   "source": [
    "p1 = Person('name1')\n",
    "p2 = Person('name2')\n",
    "\n",
    "all_people = {1: p1, 2: p2}"
   ]
  },
  {
   "cell_type": "code",
   "execution_count": 15,
   "metadata": {},
   "outputs": [],
   "source": [
    "del(p1)"
   ]
  },
  {
   "cell_type": "code",
   "execution_count": 16,
   "metadata": {},
   "outputs": [
    {
     "data": {
      "text/plain": [
       "2"
      ]
     },
     "execution_count": 16,
     "metadata": {},
     "output_type": "execute_result"
    }
   ],
   "source": [
    "len(all_people)"
   ]
  },
  {
   "cell_type": "code",
   "execution_count": 17,
   "metadata": {},
   "outputs": [],
   "source": [
    "p1 = Person('name1')\n",
    "p2 = Person('name2')\n",
    "\n",
    "all_people = weakref.WeakValueDictionary()\n",
    "\n",
    "all_people[1] = p1\n",
    "all_people[2] = p2"
   ]
  },
  {
   "cell_type": "code",
   "execution_count": 18,
   "metadata": {},
   "outputs": [
    {
     "data": {
      "text/plain": [
       "<WeakValueDictionary at 0x10c287490>"
      ]
     },
     "execution_count": 18,
     "metadata": {},
     "output_type": "execute_result"
    }
   ],
   "source": [
    "all_people"
   ]
  },
  {
   "cell_type": "code",
   "execution_count": 20,
   "metadata": {},
   "outputs": [
    {
     "data": {
      "text/plain": [
       "[(1, <__main__.Person at 0x10c263760>), (2, <__main__.Person at 0x10c2636a0>)]"
      ]
     },
     "execution_count": 20,
     "metadata": {},
     "output_type": "execute_result"
    }
   ],
   "source": [
    "list(all_people.items())"
   ]
  },
  {
   "cell_type": "code",
   "execution_count": 21,
   "metadata": {},
   "outputs": [
    {
     "data": {
      "text/plain": [
       "2"
      ]
     },
     "execution_count": 21,
     "metadata": {},
     "output_type": "execute_result"
    }
   ],
   "source": [
    "len(all_people)"
   ]
  },
  {
   "cell_type": "code",
   "execution_count": 22,
   "metadata": {},
   "outputs": [],
   "source": [
    "del(p1)"
   ]
  },
  {
   "cell_type": "code",
   "execution_count": 23,
   "metadata": {},
   "outputs": [
    {
     "data": {
      "text/plain": [
       "2"
      ]
     },
     "execution_count": 23,
     "metadata": {},
     "output_type": "execute_result"
    }
   ],
   "source": [
    "len(all_people)"
   ]
  },
  {
   "cell_type": "code",
   "execution_count": 24,
   "metadata": {},
   "outputs": [
    {
     "data": {
      "text/plain": [
       "2"
      ]
     },
     "execution_count": 24,
     "metadata": {},
     "output_type": "execute_result"
    }
   ],
   "source": [
    "len(all_people)"
   ]
  },
  {
   "cell_type": "code",
   "execution_count": 25,
   "metadata": {},
   "outputs": [
    {
     "data": {
      "text/plain": [
       "[(1, <__main__.Person at 0x10c263760>), (2, <__main__.Person at 0x10c2636a0>)]"
      ]
     },
     "execution_count": 25,
     "metadata": {},
     "output_type": "execute_result"
    }
   ],
   "source": [
    "list(all_people.items())"
   ]
  },
  {
   "cell_type": "code",
   "execution_count": 30,
   "metadata": {},
   "outputs": [],
   "source": [
    "p1 = Person('name1')\n",
    "p2 = Person('name2')\n",
    "\n",
    "all_people = weakref.WeakValueDictionary()\n",
    "\n",
    "all_people[1] = p1\n",
    "all_people[2] = p2"
   ]
  },
  {
   "cell_type": "code",
   "execution_count": 31,
   "metadata": {},
   "outputs": [],
   "source": [
    "del(p1)"
   ]
  },
  {
   "cell_type": "code",
   "execution_count": 32,
   "metadata": {},
   "outputs": [
    {
     "data": {
      "text/plain": [
       "1"
      ]
     },
     "execution_count": 32,
     "metadata": {},
     "output_type": "execute_result"
    }
   ],
   "source": [
    "len(all_people)"
   ]
  },
  {
   "cell_type": "code",
   "execution_count": 33,
   "metadata": {},
   "outputs": [],
   "source": [
    "del(p2)"
   ]
  },
  {
   "cell_type": "code",
   "execution_count": 34,
   "metadata": {},
   "outputs": [
    {
     "data": {
      "text/plain": [
       "0"
      ]
     },
     "execution_count": 34,
     "metadata": {},
     "output_type": "execute_result"
    }
   ],
   "source": [
    "len(all_people)"
   ]
  },
  {
   "cell_type": "markdown",
   "metadata": {},
   "source": [
    "# Iterator protocol"
   ]
  },
  {
   "cell_type": "code",
   "execution_count": 35,
   "metadata": {},
   "outputs": [
    {
     "name": "stdout",
     "output_type": "stream",
     "text": [
      "a\n",
      "b\n",
      "c\n",
      "d\n",
      "e\n"
     ]
    }
   ],
   "source": [
    "s = 'abcde'\n",
    "\n",
    "for one_character in s:\n",
    "    print(one_character)"
   ]
  },
  {
   "cell_type": "markdown",
   "metadata": {},
   "source": [
    "# Protocol\n",
    "\n",
    "1. Ask an object if it's iterable (`iter`)\n",
    "    - Returns an iterator object if it is iterable\n",
    "    - Raises an exception if it's not iterable\n",
    "2. Ask the iterator we got back for its next item (`next`)\n",
    "3. Each time we call `next`, we'll get an object\n",
    "4. When we reach the end of the iteration, we get... the `StopIteration` exception"
   ]
  },
  {
   "cell_type": "code",
   "execution_count": 36,
   "metadata": {},
   "outputs": [
    {
     "data": {
      "text/plain": [
       "<str_iterator at 0x10c2877c0>"
      ]
     },
     "execution_count": 36,
     "metadata": {},
     "output_type": "execute_result"
    }
   ],
   "source": [
    "iter(s)"
   ]
  },
  {
   "cell_type": "code",
   "execution_count": 37,
   "metadata": {},
   "outputs": [
    {
     "data": {
      "text/plain": [
       "<str_iterator at 0x10c287c10>"
      ]
     },
     "execution_count": 37,
     "metadata": {},
     "output_type": "execute_result"
    }
   ],
   "source": [
    "iter(s)"
   ]
  },
  {
   "cell_type": "code",
   "execution_count": 38,
   "metadata": {},
   "outputs": [
    {
     "data": {
      "text/plain": [
       "<str_iterator at 0x10c263eb0>"
      ]
     },
     "execution_count": 38,
     "metadata": {},
     "output_type": "execute_result"
    }
   ],
   "source": [
    "iter(s)"
   ]
  },
  {
   "cell_type": "code",
   "execution_count": 39,
   "metadata": {},
   "outputs": [],
   "source": [
    "i = iter(s)  # store the string iterator in \"i\""
   ]
  },
  {
   "cell_type": "code",
   "execution_count": 40,
   "metadata": {},
   "outputs": [
    {
     "data": {
      "text/plain": [
       "'a'"
      ]
     },
     "execution_count": 40,
     "metadata": {},
     "output_type": "execute_result"
    }
   ],
   "source": [
    "next(i)"
   ]
  },
  {
   "cell_type": "code",
   "execution_count": 41,
   "metadata": {},
   "outputs": [
    {
     "data": {
      "text/plain": [
       "'b'"
      ]
     },
     "execution_count": 41,
     "metadata": {},
     "output_type": "execute_result"
    }
   ],
   "source": [
    "next(i)"
   ]
  },
  {
   "cell_type": "code",
   "execution_count": 42,
   "metadata": {},
   "outputs": [
    {
     "data": {
      "text/plain": [
       "'c'"
      ]
     },
     "execution_count": 42,
     "metadata": {},
     "output_type": "execute_result"
    }
   ],
   "source": [
    "next(i)"
   ]
  },
  {
   "cell_type": "code",
   "execution_count": 43,
   "metadata": {},
   "outputs": [
    {
     "data": {
      "text/plain": [
       "'d'"
      ]
     },
     "execution_count": 43,
     "metadata": {},
     "output_type": "execute_result"
    }
   ],
   "source": [
    "next(i)"
   ]
  },
  {
   "cell_type": "code",
   "execution_count": 44,
   "metadata": {},
   "outputs": [
    {
     "data": {
      "text/plain": [
       "'e'"
      ]
     },
     "execution_count": 44,
     "metadata": {},
     "output_type": "execute_result"
    }
   ],
   "source": [
    "next(i)"
   ]
  },
  {
   "cell_type": "code",
   "execution_count": 45,
   "metadata": {},
   "outputs": [
    {
     "ename": "StopIteration",
     "evalue": "",
     "output_type": "error",
     "traceback": [
      "\u001b[0;31m---------------------------------------------------------------------------\u001b[0m",
      "\u001b[0;31mStopIteration\u001b[0m                             Traceback (most recent call last)",
      "\u001b[0;32m<ipython-input-45-a883b34d6d8a>\u001b[0m in \u001b[0;36m<module>\u001b[0;34m\u001b[0m\n\u001b[0;32m----> 1\u001b[0;31m \u001b[0mnext\u001b[0m\u001b[0;34m(\u001b[0m\u001b[0mi\u001b[0m\u001b[0;34m)\u001b[0m\u001b[0;34m\u001b[0m\u001b[0;34m\u001b[0m\u001b[0m\n\u001b[0m",
      "\u001b[0;31mStopIteration\u001b[0m: "
     ]
    }
   ],
   "source": [
    "next(i)"
   ]
  },
  {
   "cell_type": "code",
   "execution_count": 46,
   "metadata": {},
   "outputs": [
    {
     "ename": "TypeError",
     "evalue": "'int' object is not iterable",
     "output_type": "error",
     "traceback": [
      "\u001b[0;31m---------------------------------------------------------------------------\u001b[0m",
      "\u001b[0;31mTypeError\u001b[0m                                 Traceback (most recent call last)",
      "\u001b[0;32m<ipython-input-46-665a8c31cf25>\u001b[0m in \u001b[0;36m<module>\u001b[0;34m\u001b[0m\n\u001b[0;32m----> 1\u001b[0;31m \u001b[0;32mfor\u001b[0m \u001b[0mi\u001b[0m \u001b[0;32min\u001b[0m \u001b[0;36m10\u001b[0m\u001b[0;34m:\u001b[0m\u001b[0;34m\u001b[0m\u001b[0;34m\u001b[0m\u001b[0m\n\u001b[0m\u001b[1;32m      2\u001b[0m     \u001b[0mprint\u001b[0m\u001b[0;34m(\u001b[0m\u001b[0mi\u001b[0m\u001b[0;34m)\u001b[0m\u001b[0;34m\u001b[0m\u001b[0;34m\u001b[0m\u001b[0m\n",
      "\u001b[0;31mTypeError\u001b[0m: 'int' object is not iterable"
     ]
    }
   ],
   "source": [
    "for i in 10:\n",
    "    print(i)"
   ]
  },
  {
   "cell_type": "code",
   "execution_count": 47,
   "metadata": {},
   "outputs": [
    {
     "ename": "TypeError",
     "evalue": "'int' object is not iterable",
     "output_type": "error",
     "traceback": [
      "\u001b[0;31m---------------------------------------------------------------------------\u001b[0m",
      "\u001b[0;31mTypeError\u001b[0m                                 Traceback (most recent call last)",
      "\u001b[0;32m<ipython-input-47-39736a569192>\u001b[0m in \u001b[0;36m<module>\u001b[0;34m\u001b[0m\n\u001b[0;32m----> 1\u001b[0;31m \u001b[0miter\u001b[0m\u001b[0;34m(\u001b[0m\u001b[0;36m10\u001b[0m\u001b[0;34m)\u001b[0m\u001b[0;34m\u001b[0m\u001b[0;34m\u001b[0m\u001b[0m\n\u001b[0m",
      "\u001b[0;31mTypeError\u001b[0m: 'int' object is not iterable"
     ]
    }
   ],
   "source": [
    "iter(10)"
   ]
  },
  {
   "cell_type": "code",
   "execution_count": 55,
   "metadata": {},
   "outputs": [
    {
     "name": "stdout",
     "output_type": "stream",
     "text": [
      "Now in MyIterator.__init__ with data='abc'\n",
      "Now in MyIterator.__iter__\n",
      "Now entering MyIterator.__next__\n",
      "\tself.index=0, value='a'\n",
      "a\n",
      "Now entering MyIterator.__next__\n",
      "\tself.index=1, value='b'\n",
      "b\n",
      "Now entering MyIterator.__next__\n",
      "\tself.index=2, value='c'\n",
      "c\n",
      "Now entering MyIterator.__next__\n",
      "\tself.index=3, ending the loop\n"
     ]
    }
   ],
   "source": [
    "class MyIterator:\n",
    "    def __init__(self, data):\n",
    "        print(f'Now in MyIterator.__init__ with {data=}')\n",
    "        self.data = data\n",
    "        self.index = 0\n",
    "        \n",
    "    def __iter__(self):\n",
    "        print(f'Now in MyIterator.__iter__')\n",
    "        return self   # the object is its own iterator!\n",
    "    \n",
    "    def __next__(self):\n",
    "        print(f'Now entering MyIterator.__next__')\n",
    "        if self.index >= len(self.data):\n",
    "            print(f'\\t{self.index=}, ending the loop')\n",
    "            raise StopIteration\n",
    "            \n",
    "        value = self.data[self.index]\n",
    "        print(f'\\t{self.index=}, {value=}')\n",
    "        self.index += 1\n",
    "        return value\n",
    "\n",
    "m = MyIterator('abc')\n",
    "\n",
    "for one_item in m:\n",
    "    print(one_item)"
   ]
  },
  {
   "cell_type": "code",
   "execution_count": 51,
   "metadata": {},
   "outputs": [
    {
     "data": {
      "text/plain": [
       "True"
      ]
     },
     "execution_count": 51,
     "metadata": {},
     "output_type": "execute_result"
    }
   ],
   "source": [
    "f = open('/etc/passwd')\n",
    "\n",
    "iter(f) is f"
   ]
  },
  {
   "cell_type": "markdown",
   "metadata": {},
   "source": [
    "# Exercise: Circle\n",
    "\n",
    "1. Create a class, `Circle`, which takes two arguments:\n",
    "    - an iterable piece of data (`data`)\n",
    "    - an integer (`maxtimes`)\n",
    "2. If we run a `for` loop on an instance of `Circle`, we'll get `maxtimes` results back.\n",
    "3. The return values will come from `data`.\n",
    "    - If the number of elements in `data` is larger than `maxtimes`, then we'll just end after `maxtimes`, producing one value at a time.\n",
    "    - If the number of elements in `data` is smaller than `maxtimes`, then when we get to the end of the data, we'll come back to index 0 -- thus going around and around until we give the number of results indicated in `maxtimes`.\n",
    "    \n",
    "```python\n",
    "c = Circle('abc', 7)\n",
    "\n",
    "for one_item in c:\n",
    "    print(one_item)\n",
    "```\n",
    "\n",
    "```\n",
    "a\n",
    "b\n",
    "c\n",
    "a\n",
    "b\n",
    "c\n",
    "a\n",
    "```"
   ]
  },
  {
   "cell_type": "code",
   "execution_count": 57,
   "metadata": {},
   "outputs": [
    {
     "name": "stdout",
     "output_type": "stream",
     "text": [
      "a\n",
      "b\n",
      "c\n",
      "a\n",
      "b\n",
      "c\n",
      "a\n"
     ]
    }
   ],
   "source": [
    "class Circle:\n",
    "    def __init__(self, data, maxtimes):\n",
    "        self.data = data\n",
    "        self.maxtimes = maxtimes\n",
    "        self.index = 0\n",
    "        \n",
    "    def __iter__(self):\n",
    "        return self\n",
    "    \n",
    "    def __next__(self):\n",
    "        if self.index >= self.maxtimes:\n",
    "            raise StopIteration\n",
    "            \n",
    "        value = self.data[self.index % len(self.data)]\n",
    "        self.index += 1\n",
    "        return value\n",
    "    \n",
    "c = Circle('abc', 7)\n",
    "\n",
    "for one_item in c:\n",
    "    print(one_item)"
   ]
  },
  {
   "cell_type": "code",
   "execution_count": 58,
   "metadata": {},
   "outputs": [
    {
     "data": {
      "text/plain": [
       "0"
      ]
     },
     "execution_count": 58,
     "metadata": {},
     "output_type": "execute_result"
    }
   ],
   "source": [
    "0 % 3  # remainder from division of 0/3"
   ]
  },
  {
   "cell_type": "code",
   "execution_count": 59,
   "metadata": {},
   "outputs": [
    {
     "data": {
      "text/plain": [
       "1"
      ]
     },
     "execution_count": 59,
     "metadata": {},
     "output_type": "execute_result"
    }
   ],
   "source": [
    "1 % 3  # remainder from 1/3"
   ]
  },
  {
   "cell_type": "code",
   "execution_count": 60,
   "metadata": {},
   "outputs": [
    {
     "data": {
      "text/plain": [
       "2"
      ]
     },
     "execution_count": 60,
     "metadata": {},
     "output_type": "execute_result"
    }
   ],
   "source": [
    "2 % 3"
   ]
  },
  {
   "cell_type": "code",
   "execution_count": 61,
   "metadata": {},
   "outputs": [
    {
     "data": {
      "text/plain": [
       "0"
      ]
     },
     "execution_count": 61,
     "metadata": {},
     "output_type": "execute_result"
    }
   ],
   "source": [
    "3 % 3"
   ]
  },
  {
   "cell_type": "code",
   "execution_count": 62,
   "metadata": {},
   "outputs": [
    {
     "data": {
      "text/plain": [
       "1"
      ]
     },
     "execution_count": 62,
     "metadata": {},
     "output_type": "execute_result"
    }
   ],
   "source": [
    "4 % 3"
   ]
  },
  {
   "cell_type": "code",
   "execution_count": 63,
   "metadata": {},
   "outputs": [
    {
     "data": {
      "text/plain": [
       "2"
      ]
     },
     "execution_count": 63,
     "metadata": {},
     "output_type": "execute_result"
    }
   ],
   "source": [
    "5 % 3"
   ]
  },
  {
   "cell_type": "code",
   "execution_count": 64,
   "metadata": {},
   "outputs": [],
   "source": [
    "mylist = [10, 20, 30, 40, 50]\n",
    "\n",
    "i1 = iter(mylist)\n",
    "i2 = iter(mylist)"
   ]
  },
  {
   "cell_type": "code",
   "execution_count": 65,
   "metadata": {},
   "outputs": [
    {
     "data": {
      "text/plain": [
       "<list_iterator at 0x10ce068b0>"
      ]
     },
     "execution_count": 65,
     "metadata": {},
     "output_type": "execute_result"
    }
   ],
   "source": [
    "i1"
   ]
  },
  {
   "cell_type": "code",
   "execution_count": 66,
   "metadata": {},
   "outputs": [
    {
     "data": {
      "text/plain": [
       "<list_iterator at 0x10ce16160>"
      ]
     },
     "execution_count": 66,
     "metadata": {},
     "output_type": "execute_result"
    }
   ],
   "source": [
    "i2"
   ]
  },
  {
   "cell_type": "code",
   "execution_count": 67,
   "metadata": {},
   "outputs": [
    {
     "data": {
      "text/plain": [
       "10"
      ]
     },
     "execution_count": 67,
     "metadata": {},
     "output_type": "execute_result"
    }
   ],
   "source": [
    "next(i1)"
   ]
  },
  {
   "cell_type": "code",
   "execution_count": 68,
   "metadata": {},
   "outputs": [
    {
     "data": {
      "text/plain": [
       "10"
      ]
     },
     "execution_count": 68,
     "metadata": {},
     "output_type": "execute_result"
    }
   ],
   "source": [
    "next(i2)"
   ]
  },
  {
   "cell_type": "code",
   "execution_count": 69,
   "metadata": {},
   "outputs": [
    {
     "data": {
      "text/plain": [
       "20"
      ]
     },
     "execution_count": 69,
     "metadata": {},
     "output_type": "execute_result"
    }
   ],
   "source": [
    "next(i2)"
   ]
  },
  {
   "cell_type": "code",
   "execution_count": 71,
   "metadata": {},
   "outputs": [
    {
     "data": {
      "text/plain": [
       "30"
      ]
     },
     "execution_count": 71,
     "metadata": {},
     "output_type": "execute_result"
    }
   ],
   "source": [
    "next(i2)"
   ]
  },
  {
   "cell_type": "code",
   "execution_count": 72,
   "metadata": {},
   "outputs": [
    {
     "data": {
      "text/plain": [
       "20"
      ]
     },
     "execution_count": 72,
     "metadata": {},
     "output_type": "execute_result"
    }
   ],
   "source": [
    "next(i1)"
   ]
  },
  {
   "cell_type": "code",
   "execution_count": 74,
   "metadata": {},
   "outputs": [],
   "source": [
    "c = Circle('abc', 7)\n",
    "\n",
    "i1 = iter(c)\n",
    "i2 = iter(c)"
   ]
  },
  {
   "cell_type": "code",
   "execution_count": 75,
   "metadata": {},
   "outputs": [
    {
     "data": {
      "text/plain": [
       "'a'"
      ]
     },
     "execution_count": 75,
     "metadata": {},
     "output_type": "execute_result"
    }
   ],
   "source": [
    "next(i1)"
   ]
  },
  {
   "cell_type": "code",
   "execution_count": 76,
   "metadata": {},
   "outputs": [
    {
     "data": {
      "text/plain": [
       "'b'"
      ]
     },
     "execution_count": 76,
     "metadata": {},
     "output_type": "execute_result"
    }
   ],
   "source": [
    "next(i1)"
   ]
  },
  {
   "cell_type": "code",
   "execution_count": 77,
   "metadata": {},
   "outputs": [
    {
     "data": {
      "text/plain": [
       "'c'"
      ]
     },
     "execution_count": 77,
     "metadata": {},
     "output_type": "execute_result"
    }
   ],
   "source": [
    "next(i2)"
   ]
  },
  {
   "cell_type": "code",
   "execution_count": 78,
   "metadata": {},
   "outputs": [
    {
     "data": {
      "text/plain": [
       "'a'"
      ]
     },
     "execution_count": 78,
     "metadata": {},
     "output_type": "execute_result"
    }
   ],
   "source": [
    "next(i2)"
   ]
  },
  {
   "cell_type": "code",
   "execution_count": 79,
   "metadata": {},
   "outputs": [
    {
     "data": {
      "text/plain": [
       "'b'"
      ]
     },
     "execution_count": 79,
     "metadata": {},
     "output_type": "execute_result"
    }
   ],
   "source": [
    "next(i1)"
   ]
  },
  {
   "cell_type": "code",
   "execution_count": 80,
   "metadata": {},
   "outputs": [
    {
     "data": {
      "text/plain": [
       "True"
      ]
     },
     "execution_count": 80,
     "metadata": {},
     "output_type": "execute_result"
    }
   ],
   "source": [
    "i1 is i2"
   ]
  },
  {
   "cell_type": "code",
   "execution_count": 81,
   "metadata": {},
   "outputs": [
    {
     "data": {
      "text/plain": [
       "True"
      ]
     },
     "execution_count": 81,
     "metadata": {},
     "output_type": "execute_result"
    }
   ],
   "source": [
    "i1 is c"
   ]
  },
  {
   "cell_type": "code",
   "execution_count": 83,
   "metadata": {},
   "outputs": [
    {
     "name": "stdout",
     "output_type": "stream",
     "text": [
      "*** A ****\n",
      "a b c a b c a \n",
      "*** B ****\n"
     ]
    }
   ],
   "source": [
    "c = Circle('abc', 7)\n",
    "\n",
    "print('*** A ****')\n",
    "for one_item in c:\n",
    "    print(one_item, end= ' ')\n",
    "    \n",
    "print()\n",
    "\n",
    "print('*** B ****')\n",
    "for one_item in c:\n",
    "    print(one_item, end= ' ')\n"
   ]
  },
  {
   "cell_type": "code",
   "execution_count": 88,
   "metadata": {},
   "outputs": [
    {
     "name": "stdout",
     "output_type": "stream",
     "text": [
      "*** A ****\n",
      "a\n",
      "b\n",
      "c\n",
      "a\n",
      "b\n",
      "c\n",
      "a\n",
      "*** B ****\n",
      "a\n",
      "b\n",
      "c\n",
      "a\n",
      "b\n",
      "c\n",
      "a\n"
     ]
    }
   ],
   "source": [
    "class CircleIterator:\n",
    "    def __init__(self, data, maxtimes):\n",
    "        self.data = data\n",
    "        self.maxtimes = maxtimes\n",
    "        self.index = 0\n",
    "\n",
    "    def __next__(self):\n",
    "        if self.index >= self.maxtimes:\n",
    "            raise StopIteration\n",
    "            \n",
    "        value = self.data[self.index % len(self.data)]\n",
    "        self.index += 1\n",
    "        return value\n",
    "    \n",
    "class Circle:\n",
    "    def __init__(self, data, maxtimes):\n",
    "        self.data = data\n",
    "        self.maxtimes = maxtimes\n",
    "        \n",
    "    def __iter__(self):\n",
    "        return CircleIterator(self.data, self.maxtimes)\n",
    "    \n",
    "    \n",
    "c = Circle('abc', 7)\n",
    "\n",
    "print(\"*** A ****\")\n",
    "for one_item in c:\n",
    "    print(one_item)\n",
    "    \n",
    "print(\"*** B ****\")\n",
    "for one_item in c:\n",
    "    print(one_item)\n",
    "    \n"
   ]
  },
  {
   "cell_type": "code",
   "execution_count": 85,
   "metadata": {},
   "outputs": [
    {
     "data": {
      "text/plain": [
       "<__main__.CircleIterator at 0x10ce19910>"
      ]
     },
     "execution_count": 85,
     "metadata": {},
     "output_type": "execute_result"
    }
   ],
   "source": [
    "iter(c)"
   ]
  },
  {
   "cell_type": "code",
   "execution_count": 86,
   "metadata": {},
   "outputs": [
    {
     "data": {
      "text/plain": [
       "<__main__.CircleIterator at 0x10ce19d30>"
      ]
     },
     "execution_count": 86,
     "metadata": {},
     "output_type": "execute_result"
    }
   ],
   "source": [
    "iter(c)"
   ]
  },
  {
   "cell_type": "code",
   "execution_count": 87,
   "metadata": {},
   "outputs": [
    {
     "data": {
      "text/plain": [
       "<__main__.CircleIterator at 0x10ce19fd0>"
      ]
     },
     "execution_count": 87,
     "metadata": {},
     "output_type": "execute_result"
    }
   ],
   "source": [
    "iter(c)"
   ]
  },
  {
   "cell_type": "code",
   "execution_count": 89,
   "metadata": {},
   "outputs": [
    {
     "name": "stdout",
     "output_type": "stream",
     "text": [
      "*** A ****\n",
      "a\n",
      "b\n",
      "c\n",
      "a\n",
      "b\n",
      "c\n",
      "a\n",
      "*** B ****\n",
      "a\n",
      "b\n",
      "c\n",
      "a\n",
      "b\n",
      "c\n",
      "a\n"
     ]
    }
   ],
   "source": [
    "class CircleIterator:\n",
    "    def __init__(self, circle):\n",
    "        self.circle = circle\n",
    "        self.index = 0\n",
    "\n",
    "    def __next__(self):\n",
    "        if self.index >= self.circle.maxtimes:\n",
    "            raise StopIteration\n",
    "            \n",
    "        value = self.circle.data[self.index % len(self.circle.data)]\n",
    "        self.index += 1\n",
    "        return value\n",
    "    \n",
    "class Circle:\n",
    "    def __init__(self, data, maxtimes):\n",
    "        self.data = data\n",
    "        self.maxtimes = maxtimes\n",
    "        \n",
    "    def __iter__(self):\n",
    "        return CircleIterator(self)\n",
    "    \n",
    "    \n",
    "c = Circle('abc', 7)\n",
    "\n",
    "print(\"*** A ****\")\n",
    "for one_item in c:\n",
    "    print(one_item)\n",
    "    \n",
    "print(\"*** B ****\")\n",
    "for one_item in c:\n",
    "    print(one_item)\n",
    "    \n"
   ]
  },
  {
   "cell_type": "code",
   "execution_count": 91,
   "metadata": {},
   "outputs": [
    {
     "name": "stdout",
     "output_type": "stream",
     "text": [
      "*** A ***\n",
      "a\n",
      "b\n",
      "c\n",
      "a\n",
      "b\n",
      "c\n",
      "a\n",
      "*** B ***\n",
      "a\n",
      "b\n",
      "c\n",
      "a\n",
      "b\n",
      "c\n",
      "a\n"
     ]
    }
   ],
   "source": [
    "# what if we set self.index = 0 just before raising the exception?\n",
    "\n",
    "class Circle:\n",
    "    def __init__(self, data, maxtimes):\n",
    "        self.data = data\n",
    "        self.maxtimes = maxtimes\n",
    "        self.index = 0\n",
    "        \n",
    "    def __iter__(self):\n",
    "        return self\n",
    "    \n",
    "    def __next__(self):\n",
    "        if self.index >= self.maxtimes:\n",
    "            self.index = 0\n",
    "            raise StopIteration\n",
    "            \n",
    "        value = self.data[self.index % len(self.data)]\n",
    "        self.index += 1\n",
    "        return value\n",
    "    \n",
    "c = Circle('abc', 7)\n",
    "\n",
    "print(f'*** A ***')\n",
    "for one_item in c:\n",
    "    print(one_item)\n",
    "\n",
    "print(f'*** B ***')  \n",
    "for one_item in c:\n",
    "    print(one_item)"
   ]
  },
  {
   "cell_type": "code",
   "execution_count": 92,
   "metadata": {},
   "outputs": [],
   "source": [
    "c = Circle('abc', 7)\n",
    "\n",
    "i1 = iter(c)\n",
    "i2 = iter(c)"
   ]
  },
  {
   "cell_type": "code",
   "execution_count": 93,
   "metadata": {},
   "outputs": [
    {
     "data": {
      "text/plain": [
       "True"
      ]
     },
     "execution_count": 93,
     "metadata": {},
     "output_type": "execute_result"
    }
   ],
   "source": [
    "i1 is i2"
   ]
  },
  {
   "cell_type": "code",
   "execution_count": 94,
   "metadata": {},
   "outputs": [
    {
     "data": {
      "text/plain": [
       "'a'"
      ]
     },
     "execution_count": 94,
     "metadata": {},
     "output_type": "execute_result"
    }
   ],
   "source": [
    "next(i1)"
   ]
  },
  {
   "cell_type": "code",
   "execution_count": 95,
   "metadata": {},
   "outputs": [
    {
     "data": {
      "text/plain": [
       "'b'"
      ]
     },
     "execution_count": 95,
     "metadata": {},
     "output_type": "execute_result"
    }
   ],
   "source": [
    "next(i1)"
   ]
  },
  {
   "cell_type": "code",
   "execution_count": 96,
   "metadata": {},
   "outputs": [
    {
     "data": {
      "text/plain": [
       "'c'"
      ]
     },
     "execution_count": 96,
     "metadata": {},
     "output_type": "execute_result"
    }
   ],
   "source": [
    "next(i2)"
   ]
  },
  {
   "cell_type": "code",
   "execution_count": 97,
   "metadata": {},
   "outputs": [
    {
     "data": {
      "text/plain": [
       "'a'"
      ]
     },
     "execution_count": 97,
     "metadata": {},
     "output_type": "execute_result"
    }
   ],
   "source": [
    "next(i2)"
   ]
  },
  {
   "cell_type": "markdown",
   "metadata": {},
   "source": [
    "# Exercise: MyRange\n",
    "\n",
    "1. Create a class, `MyRange`, which takes 1, 2, or 3 arguments.  It'll work much like `range` does.\n",
    "2. If we call it with 1 argument, then we expect the iterations to run from 0 up to (and not including) that number.\n",
    "3. If we call it with 2 arguments, then we expect the iterations to run from the first number up to (and not including) the second.\n",
    "4. If we call it with 3 arguments, then we expect the iterations to run from the first to the second, with a step size of the third.\n",
    "5. Use the two-class method for iterator construction in creating this."
   ]
  },
  {
   "cell_type": "code",
   "execution_count": 98,
   "metadata": {},
   "outputs": [
    {
     "data": {
      "text/plain": [
       "[0, 1, 2, 3, 4]"
      ]
     },
     "execution_count": 98,
     "metadata": {},
     "output_type": "execute_result"
    }
   ],
   "source": [
    "list(range(5))"
   ]
  },
  {
   "cell_type": "code",
   "execution_count": 99,
   "metadata": {},
   "outputs": [
    {
     "data": {
      "text/plain": [
       "[5, 6, 7, 8, 9]"
      ]
     },
     "execution_count": 99,
     "metadata": {},
     "output_type": "execute_result"
    }
   ],
   "source": [
    "list(range(5, 10))"
   ]
  },
  {
   "cell_type": "code",
   "execution_count": 100,
   "metadata": {},
   "outputs": [
    {
     "data": {
      "text/plain": [
       "[5, 7, 9, 11, 13, 15, 17, 19]"
      ]
     },
     "execution_count": 100,
     "metadata": {},
     "output_type": "execute_result"
    }
   ],
   "source": [
    "list(range(5, 20, 2))"
   ]
  },
  {
   "cell_type": "code",
   "execution_count": 106,
   "metadata": {},
   "outputs": [
    {
     "data": {
      "text/plain": [
       "[0, 1, 2, 3, 4]"
      ]
     },
     "execution_count": 106,
     "metadata": {},
     "output_type": "execute_result"
    }
   ],
   "source": [
    "class MyRangeIterator:\n",
    "    def __init__(self, current, stop, step):\n",
    "        self.current = current\n",
    "        self.stop = stop\n",
    "        self.step = step\n",
    "    \n",
    "    def __next__(self):\n",
    "        if self.current >= self.stop:\n",
    "            raise StopIteration\n",
    "            \n",
    "        value = self.current\n",
    "        self.current += self.step\n",
    "        \n",
    "        return value\n",
    "    \n",
    "\n",
    "class MyRange:\n",
    "    def __init__(self, first, second=None, step=1):\n",
    "        if second is None:\n",
    "            self.current = 0\n",
    "            self.stop = first\n",
    "        else:\n",
    "            self.current = first\n",
    "            self.stop = second\n",
    "            \n",
    "        self.step = step\n",
    "        \n",
    "    def __iter__(self):\n",
    "        return MyRangeIterator(self.current, self.stop, self.step)\n",
    "    \n",
    "list(MyRange(5))"
   ]
  },
  {
   "cell_type": "code",
   "execution_count": 107,
   "metadata": {},
   "outputs": [
    {
     "data": {
      "text/plain": [
       "[5, 6, 7, 8, 9]"
      ]
     },
     "execution_count": 107,
     "metadata": {},
     "output_type": "execute_result"
    }
   ],
   "source": [
    "list(MyRange(5, 10))"
   ]
  },
  {
   "cell_type": "code",
   "execution_count": 108,
   "metadata": {},
   "outputs": [
    {
     "data": {
      "text/plain": [
       "[5, 7, 9, 11, 13, 15, 17, 19]"
      ]
     },
     "execution_count": 108,
     "metadata": {},
     "output_type": "execute_result"
    }
   ],
   "source": [
    "list(MyRange(5, 20, 2))"
   ]
  },
  {
   "cell_type": "code",
   "execution_count": 102,
   "metadata": {},
   "outputs": [
    {
     "data": {
      "text/plain": [
       "['a', 'b', 'c']"
      ]
     },
     "execution_count": 102,
     "metadata": {},
     "output_type": "execute_result"
    }
   ],
   "source": [
    "list('abc')"
   ]
  },
  {
   "cell_type": "code",
   "execution_count": 103,
   "metadata": {},
   "outputs": [
    {
     "data": {
      "text/plain": [
       "[10, 20, 309]"
      ]
     },
     "execution_count": 103,
     "metadata": {},
     "output_type": "execute_result"
    }
   ],
   "source": [
    "list((10, 20, 309))"
   ]
  },
  {
   "cell_type": "markdown",
   "metadata": {},
   "source": [
    " # Generator functions"
   ]
  },
  {
   "cell_type": "code",
   "execution_count": 109,
   "metadata": {},
   "outputs": [],
   "source": [
    "def myfunc():\n",
    "    return 1\n",
    "    return 2\n",
    "    return 3"
   ]
  },
  {
   "cell_type": "code",
   "execution_count": 110,
   "metadata": {},
   "outputs": [
    {
     "data": {
      "text/plain": [
       "1"
      ]
     },
     "execution_count": 110,
     "metadata": {},
     "output_type": "execute_result"
    }
   ],
   "source": [
    "myfunc()"
   ]
  },
  {
   "cell_type": "code",
   "execution_count": 111,
   "metadata": {},
   "outputs": [
    {
     "name": "stdout",
     "output_type": "stream",
     "text": [
      "  2           0 LOAD_CONST               1 (1)\n",
      "              2 RETURN_VALUE\n"
     ]
    }
   ],
   "source": [
    "import dis\n",
    "dis.dis(myfunc)"
   ]
  },
  {
   "cell_type": "code",
   "execution_count": 112,
   "metadata": {},
   "outputs": [],
   "source": [
    "def myfunc():\n",
    "    yield 1\n",
    "    yield 2\n",
    "    yield 3"
   ]
  },
  {
   "cell_type": "code",
   "execution_count": 113,
   "metadata": {},
   "outputs": [
    {
     "data": {
      "text/plain": [
       "<generator object myfunc at 0x10ce27f90>"
      ]
     },
     "execution_count": 113,
     "metadata": {},
     "output_type": "execute_result"
    }
   ],
   "source": [
    "myfunc()"
   ]
  },
  {
   "cell_type": "code",
   "execution_count": 114,
   "metadata": {},
   "outputs": [],
   "source": [
    "g = myfunc()"
   ]
  },
  {
   "cell_type": "code",
   "execution_count": 115,
   "metadata": {},
   "outputs": [
    {
     "data": {
      "text/plain": [
       "generator"
      ]
     },
     "execution_count": 115,
     "metadata": {},
     "output_type": "execute_result"
    }
   ],
   "source": [
    "type(g)"
   ]
  },
  {
   "cell_type": "code",
   "execution_count": 116,
   "metadata": {},
   "outputs": [
    {
     "data": {
      "text/plain": [
       "1"
      ]
     },
     "execution_count": 116,
     "metadata": {},
     "output_type": "execute_result"
    }
   ],
   "source": [
    "next(g)"
   ]
  },
  {
   "cell_type": "code",
   "execution_count": 117,
   "metadata": {},
   "outputs": [
    {
     "data": {
      "text/plain": [
       "2"
      ]
     },
     "execution_count": 117,
     "metadata": {},
     "output_type": "execute_result"
    }
   ],
   "source": [
    "next(g)"
   ]
  },
  {
   "cell_type": "code",
   "execution_count": 118,
   "metadata": {},
   "outputs": [
    {
     "data": {
      "text/plain": [
       "3"
      ]
     },
     "execution_count": 118,
     "metadata": {},
     "output_type": "execute_result"
    }
   ],
   "source": [
    "next(g)"
   ]
  },
  {
   "cell_type": "code",
   "execution_count": 119,
   "metadata": {},
   "outputs": [
    {
     "ename": "StopIteration",
     "evalue": "",
     "output_type": "error",
     "traceback": [
      "\u001b[0;31m---------------------------------------------------------------------------\u001b[0m",
      "\u001b[0;31mStopIteration\u001b[0m                             Traceback (most recent call last)",
      "\u001b[0;32m<ipython-input-119-e734f8aca5ac>\u001b[0m in \u001b[0;36m<module>\u001b[0;34m\u001b[0m\n\u001b[0;32m----> 1\u001b[0;31m \u001b[0mnext\u001b[0m\u001b[0;34m(\u001b[0m\u001b[0mg\u001b[0m\u001b[0;34m)\u001b[0m\u001b[0;34m\u001b[0m\u001b[0;34m\u001b[0m\u001b[0m\n\u001b[0m",
      "\u001b[0;31mStopIteration\u001b[0m: "
     ]
    }
   ],
   "source": [
    "next(g)"
   ]
  },
  {
   "cell_type": "code",
   "execution_count": 120,
   "metadata": {},
   "outputs": [],
   "source": [
    "def myfunc():\n",
    "    yield 1\n",
    "    yield 2\n",
    "    yield 3"
   ]
  },
  {
   "cell_type": "markdown",
   "metadata": {},
   "source": [
    "Running `next` on a generator object executes the function body through the next `yield` statement. \n",
    "\n",
    "The returned value from `next` is whatever `yield` returned.\n",
    "\n",
    "If we hit the end of the function body, the generator raises `StopIteration`."
   ]
  },
  {
   "cell_type": "code",
   "execution_count": 122,
   "metadata": {},
   "outputs": [],
   "source": [
    "def fib():   # \"generator function,\" but many people just call it a \"generator\"\n",
    "    first = 0\n",
    "    second = 1\n",
    "    while True:\n",
    "        yield first\n",
    "        first,second = second, first+second"
   ]
  },
  {
   "cell_type": "code",
   "execution_count": 123,
   "metadata": {},
   "outputs": [],
   "source": [
    "g = fib()"
   ]
  },
  {
   "cell_type": "code",
   "execution_count": 124,
   "metadata": {},
   "outputs": [
    {
     "data": {
      "text/plain": [
       "0"
      ]
     },
     "execution_count": 124,
     "metadata": {},
     "output_type": "execute_result"
    }
   ],
   "source": [
    "next(g)"
   ]
  },
  {
   "cell_type": "code",
   "execution_count": 125,
   "metadata": {},
   "outputs": [
    {
     "data": {
      "text/plain": [
       "1"
      ]
     },
     "execution_count": 125,
     "metadata": {},
     "output_type": "execute_result"
    }
   ],
   "source": [
    "next(g)"
   ]
  },
  {
   "cell_type": "code",
   "execution_count": 126,
   "metadata": {},
   "outputs": [
    {
     "data": {
      "text/plain": [
       "1"
      ]
     },
     "execution_count": 126,
     "metadata": {},
     "output_type": "execute_result"
    }
   ],
   "source": [
    "next(g)"
   ]
  },
  {
   "cell_type": "code",
   "execution_count": 127,
   "metadata": {},
   "outputs": [
    {
     "data": {
      "text/plain": [
       "2"
      ]
     },
     "execution_count": 127,
     "metadata": {},
     "output_type": "execute_result"
    }
   ],
   "source": [
    "next(g)"
   ]
  },
  {
   "cell_type": "code",
   "execution_count": 132,
   "metadata": {},
   "outputs": [
    {
     "name": "stdout",
     "output_type": "stream",
     "text": [
      "0 1 1 2 3 5 8 13 21 34 55 89 144 233 377 610 987 1597 2584 4181 6765 10946 17711 28657 46368 75025 121393 196418 317811 514229 832040 1346269 2178309 3524578 5702887 9227465 14930352 24157817 39088169 63245986 102334155 165580141 267914296 433494437 701408733 1134903170 1836311903 2971215073 4807526976 7778742049 12586269025 20365011074 32951280099 53316291173 86267571272 139583862445 225851433717 365435296162 591286729879 956722026041 1548008755920 2504730781961 4052739537881 6557470319842 10610209857723 17167680177565 27777890035288 44945570212853 72723460248141 117669030460994 190392490709135 308061521170129 498454011879264 806515533049393 1304969544928657 2111485077978050 3416454622906707 5527939700884757 8944394323791464 14472334024676221 23416728348467685 37889062373143906 61305790721611591 99194853094755497 160500643816367088 259695496911122585 420196140727489673 679891637638612258 1100087778366101931 1779979416004714189 2880067194370816120 4660046610375530309 7540113804746346429 12200160415121876738 19740274219868223167 31940434634990099905 51680708854858323072 83621143489848422977 135301852344706746049 218922995834555169026 "
     ]
    }
   ],
   "source": [
    "g = fib()\n",
    "for i in range(100):\n",
    "    print(next(g), end=' ')"
   ]
  },
  {
   "cell_type": "code",
   "execution_count": 135,
   "metadata": {},
   "outputs": [
    {
     "name": "stdout",
     "output_type": "stream",
     "text": [
      "0 1 1 2 3 5 8 13 21 34 55 89 144 233 377 610 987 1597 2584 4181 6765 10946 17711 28657 46368 75025 121393 196418 317811 514229 832040 1346269 2178309 3524578 5702887 9227465 14930352 24157817 39088169 63245986 102334155 165580141 267914296 433494437 701408733 1134903170 1836311903 2971215073 4807526976 7778742049 12586269025 20365011074 32951280099 53316291173 86267571272 139583862445 225851433717 365435296162 591286729879 956722026041 1548008755920 2504730781961 4052739537881 6557470319842 10610209857723 17167680177565 27777890035288 44945570212853 72723460248141 117669030460994 190392490709135 308061521170129 498454011879264 806515533049393 1304969544928657 2111485077978050 3416454622906707 5527939700884757 8944394323791464 14472334024676221 23416728348467685 37889062373143906 61305790721611591 99194853094755497 160500643816367088 "
     ]
    }
   ],
   "source": [
    "for one_item in fib():\n",
    "    print(one_item, end=' ')\n",
    "    if one_item > 100_000_000_000_000_000:\n",
    "        break"
   ]
  },
  {
   "cell_type": "markdown",
   "metadata": {},
   "source": [
    "# Exercise: get_vowels\n",
    "\n",
    "1. Write a generator function, `get_vowels`, that takes a filename as an argument.\n",
    "2. With each iteration, return the next vowel (a, e, i, o, or u) from the file that we're reading from.\n",
    "3. When we reach the end of the file and/or there are no more vowels, then the generator should exit.\n",
    "\n",
    "Never raise `StopIteration` in a generator function! It happens automatically when the function exits.  You can use `return` by itself to do that prematurely."
   ]
  },
  {
   "cell_type": "code",
   "execution_count": 140,
   "metadata": {},
   "outputs": [],
   "source": [
    "def get_vowels(filename):\n",
    "    for one_line in open(filename):\n",
    "        for one_character in one_line.lower():\n",
    "            if one_character in 'aeiou':\n",
    "                yield one_character"
   ]
  },
  {
   "cell_type": "code",
   "execution_count": 142,
   "metadata": {},
   "outputs": [],
   "source": [
    "g = get_vowels('/etc/passwd')"
   ]
  },
  {
   "cell_type": "code",
   "execution_count": 143,
   "metadata": {
    "collapsed": true
   },
   "outputs": [
    {
     "name": "stdout",
     "output_type": "stream",
     "text": [
      "u\n",
      "e\n",
      "a\n",
      "a\n",
      "a\n",
      "e\n",
      "o\n",
      "e\n",
      "a\n",
      "i\n",
      "i\n",
      "e\n",
      "i\n",
      "o\n",
      "u\n",
      "e\n",
      "i\n",
      "e\n",
      "o\n",
      "e\n",
      "e\n",
      "e\n",
      "i\n",
      "u\n",
      "i\n",
      "i\n",
      "i\n",
      "e\n",
      "u\n",
      "e\n",
      "o\n",
      "e\n",
      "a\n",
      "o\n",
      "e\n",
      "i\n",
      "e\n",
      "i\n",
      "i\n",
      "o\n",
      "a\n",
      "i\n",
      "o\n",
      "i\n",
      "o\n",
      "i\n",
      "e\n",
      "o\n",
      "e\n",
      "i\n",
      "e\n",
      "o\n",
      "e\n",
      "e\n",
      "e\n",
      "o\n",
      "e\n",
      "i\n",
      "e\n",
      "o\n",
      "a\n",
      "a\n",
      "e\n",
      "o\n",
      "a\n",
      "i\n",
      "i\n",
      "o\n",
      "a\n",
      "i\n",
      "o\n",
      "a\n",
      "i\n",
      "o\n",
      "a\n",
      "o\n",
      "u\n",
      "o\n",
      "e\n",
      "i\n",
      "e\n",
      "o\n",
      "o\n",
      "o\n",
      "u\n",
      "i\n",
      "i\n",
      "e\n",
      "e\n",
      "u\n",
      "e\n",
      "a\n",
      "e\n",
      "u\n",
      "i\n",
      "a\n",
      "e\n",
      "o\n",
      "o\n",
      "e\n",
      "a\n",
      "i\n",
      "i\n",
      "a\n",
      "o\n",
      "a\n",
      "o\n",
      "o\n",
      "i\n",
      "a\n",
      "e\n",
      "o\n",
      "e\n",
      "e\n",
      "i\n",
      "e\n",
      "a\n",
      "o\n",
      "o\n",
      "u\n",
      "i\n",
      "a\n",
      "e\n",
      "u\n",
      "u\n",
      "u\n",
      "i\n",
      "o\n",
      "u\n",
      "i\n",
      "o\n",
      "o\n",
      "o\n",
      "o\n",
      "a\n",
      "o\n",
      "o\n",
      "u\n",
      "u\n",
      "u\n",
      "i\n",
      "u\n",
      "u\n",
      "i\n",
      "o\n",
      "a\n",
      "a\n",
      "e\n",
      "a\n",
      "a\n",
      "e\n",
      "a\n",
      "e\n",
      "o\n",
      "a\n",
      "e\n",
      "u\n",
      "i\n",
      "a\n",
      "e\n",
      "e\n",
      "o\n",
      "e\n",
      "o\n",
      "e\n",
      "i\n",
      "e\n",
      "a\n",
      "e\n",
      "o\n",
      "u\n",
      "i\n",
      "a\n",
      "e\n",
      "i\n",
      "a\n",
      "a\n",
      "i\n",
      "a\n",
      "i\n",
      "a\n",
      "a\n",
      "i\n",
      "a\n",
      "a\n",
      "e\n",
      "u\n",
      "i\n",
      "a\n",
      "e\n",
      "i\n",
      "i\n",
      "e\n",
      "i\n",
      "e\n",
      "a\n",
      "o\n",
      "o\n",
      "u\n",
      "u\n",
      "i\n",
      "a\n",
      "e\n",
      "o\n",
      "i\n",
      "o\n",
      "i\n",
      "a\n",
      "i\n",
      "e\n",
      "e\n",
      "a\n",
      "o\n",
      "o\n",
      "o\n",
      "i\n",
      "u\n",
      "i\n",
      "a\n",
      "e\n",
      "e\n",
      "i\n",
      "e\n",
      "o\n",
      "i\n",
      "u\n",
      "a\n",
      "i\n",
      "o\n",
      "e\n",
      "i\n",
      "e\n",
      "a\n",
      "e\n",
      "u\n",
      "i\n",
      "a\n",
      "e\n",
      "e\n",
      "e\n",
      "i\n",
      "i\n",
      "a\n",
      "e\n",
      "e\n",
      "o\n",
      "e\n",
      "e\n",
      "i\n",
      "e\n",
      "a\n",
      "e\n",
      "u\n",
      "i\n",
      "a\n",
      "e\n",
      "a\n",
      "o\n",
      "e\n",
      "a\n",
      "a\n",
      "o\n",
      "e\n",
      "e\n",
      "i\n",
      "e\n",
      "a\n",
      "a\n",
      "o\n",
      "e\n",
      "u\n",
      "i\n",
      "a\n",
      "e\n",
      "a\n",
      "a\n",
      "a\n",
      "u\n",
      "a\n",
      "e\n",
      "u\n",
      "i\n",
      "a\n",
      "e\n",
      "a\n",
      "e\n",
      "e\n",
      "e\n",
      "a\n",
      "e\n",
      "e\n",
      "e\n",
      "a\n",
      "e\n",
      "o\n",
      "a\n",
      "e\n",
      "u\n",
      "i\n",
      "a\n",
      "e\n",
      "e\n",
      "o\n",
      "e\n",
      "o\n",
      "e\n",
      "i\n",
      "e\n",
      "a\n",
      "e\n",
      "o\n",
      "a\n",
      "e\n",
      "o\n",
      "u\n",
      "i\n",
      "a\n",
      "e\n",
      "e\n",
      "o\n",
      "e\n",
      "e\n",
      "o\n",
      "e\n",
      "o\n",
      "u\n",
      "e\n",
      "a\n",
      "i\n",
      "o\n",
      "a\n",
      "e\n",
      "u\n",
      "i\n",
      "a\n",
      "e\n",
      "a\n",
      "o\n",
      "e\n",
      "a\n",
      "e\n",
      "a\n",
      "e\n",
      "u\n",
      "i\n",
      "a\n",
      "e\n",
      "e\n",
      "o\n",
      "e\n",
      "e\n",
      "o\n",
      "e\n",
      "a\n",
      "e\n",
      "u\n",
      "i\n",
      "a\n",
      "e\n",
      "a\n",
      "a\n",
      "e\n",
      "e\n",
      "o\n",
      "e\n",
      "e\n",
      "o\n",
      "a\n",
      "e\n",
      "u\n",
      "i\n",
      "a\n",
      "e\n",
      "o\n",
      "i\n",
      "e\n",
      "e\n",
      "e\n",
      "e\n",
      "i\n",
      "a\n",
      "e\n",
      "e\n",
      "e\n",
      "u\n",
      "i\n",
      "a\n",
      "e\n",
      "e\n",
      "a\n",
      "e\n",
      "e\n",
      "e\n",
      "u\n",
      "e\n",
      "a\n",
      "e\n",
      "u\n",
      "i\n",
      "a\n",
      "e\n",
      "e\n",
      "e\n",
      "a\n",
      "e\n",
      "u\n",
      "i\n",
      "a\n",
      "e\n",
      "e\n",
      "e\n",
      "a\n",
      "e\n",
      "u\n",
      "i\n",
      "a\n",
      "e\n",
      "e\n",
      "e\n",
      "a\n",
      "e\n",
      "u\n",
      "i\n",
      "a\n",
      "e\n",
      "i\n",
      "i\n",
      "e\n",
      "e\n",
      "e\n",
      "a\n",
      "a\n",
      "i\n",
      "o\n",
      "a\n",
      "e\n",
      "u\n",
      "i\n",
      "a\n",
      "e\n",
      "u\n",
      "i\n",
      "i\n",
      "e\n",
      "e\n",
      "a\n",
      "i\n",
      "e\n",
      "e\n",
      "a\n",
      "e\n",
      "u\n",
      "i\n",
      "a\n",
      "e\n",
      "u\n",
      "u\n",
      "a\n",
      "i\n",
      "i\n",
      "a\n",
      "o\n",
      "a\n",
      "i\n",
      "a\n",
      "u\n",
      "i\n",
      "a\n",
      "e\n",
      "a\n",
      "i\n",
      "a\n",
      "a\n",
      "i\n",
      "a\n",
      "i\n",
      "e\n",
      "e\n",
      "a\n",
      "e\n",
      "u\n",
      "i\n",
      "a\n",
      "e\n",
      "a\n",
      "e\n",
      "e\n",
      "a\n",
      "i\n",
      "a\n",
      "i\n",
      "o\n",
      "e\n",
      "e\n",
      "a\n",
      "e\n",
      "u\n",
      "i\n",
      "a\n",
      "e\n",
      "a\n",
      "a\n",
      "a\n",
      "a\n",
      "a\n",
      "e\n",
      "o\n",
      "a\n",
      "i\n",
      "u\n",
      "a\n",
      "i\n",
      "u\n",
      "i\n",
      "a\n",
      "e\n",
      "a\n",
      "a\n",
      "i\n",
      "a\n",
      "a\n",
      "i\n",
      "a\n",
      "e\n",
      "o\n",
      "a\n",
      "i\n",
      "u\n",
      "a\n",
      "i\n",
      "u\n",
      "i\n",
      "a\n",
      "e\n",
      "a\n",
      "e\n",
      "a\n",
      "e\n",
      "e\n",
      "e\n",
      "a\n",
      "e\n",
      "u\n",
      "i\n",
      "a\n",
      "e\n",
      "a\n",
      "o\n",
      "e\n",
      "a\n",
      "i\n",
      "a\n",
      "i\n",
      "o\n",
      "o\n",
      "e\n",
      "a\n",
      "e\n",
      "u\n",
      "i\n",
      "a\n",
      "e\n",
      "i\n",
      "o\n",
      "e\n",
      "e\n",
      "i\n",
      "o\n",
      "e\n",
      "e\n",
      "a\n",
      "e\n",
      "u\n",
      "i\n",
      "a\n",
      "e\n",
      "o\n",
      "i\n",
      "o\n",
      "i\n",
      "a\n",
      "e\n",
      "u\n",
      "i\n",
      "a\n",
      "e\n",
      "o\n",
      "e\n",
      "o\n",
      "e\n",
      "a\n",
      "e\n",
      "o\n",
      "a\n",
      "e\n",
      "u\n",
      "i\n",
      "a\n",
      "e\n",
      "e\n",
      "u\n",
      "i\n",
      "a\n",
      "e\n",
      "e\n",
      "u\n",
      "i\n",
      "a\n",
      "e\n",
      "a\n",
      "e\n",
      "u\n",
      "i\n",
      "a\n",
      "e\n",
      "u\n",
      "i\n",
      "a\n",
      "e\n",
      "a\n",
      "e\n",
      "a\n",
      "a\n",
      "e\n",
      "a\n",
      "a\n",
      "e\n",
      "u\n",
      "i\n",
      "a\n",
      "e\n",
      "e\n",
      "a\n",
      "e\n",
      "e\n",
      "e\n",
      "a\n",
      "e\n",
      "e\n",
      "a\n",
      "e\n",
      "a\n",
      "e\n",
      "e\n",
      "u\n",
      "i\n",
      "a\n",
      "e\n",
      "u\n",
      "a\n",
      "e\n",
      "a\n",
      "i\n",
      "u\n",
      "a\n",
      "e\n",
      "a\n",
      "i\n",
      "a\n",
      "e\n",
      "u\n",
      "i\n",
      "a\n",
      "e\n",
      "i\n",
      "a\n",
      "e\n",
      "i\n",
      "a\n",
      "e\n",
      "a\n",
      "e\n",
      "u\n",
      "i\n",
      "a\n",
      "e\n",
      "a\n",
      "e\n",
      "e\n",
      "a\n",
      "e\n",
      "e\n",
      "a\n",
      "e\n",
      "u\n",
      "i\n",
      "a\n",
      "e\n",
      "a\n",
      "e\n",
      "o\n",
      "a\n",
      "e\n",
      "u\n",
      "i\n",
      "a\n",
      "e\n",
      "u\n",
      "o\n",
      "u\n",
      "o\n",
      "u\n",
      "e\n",
      "a\n",
      "e\n",
      "u\n",
      "i\n",
      "a\n",
      "e\n",
      "o\n",
      "a\n",
      "e\n",
      "u\n",
      "a\n",
      "e\n",
      "o\n",
      "a\n",
      "e\n",
      "u\n",
      "a\n",
      "e\n",
      "e\n",
      "i\n",
      "e\n",
      "a\n",
      "o\n",
      "a\n",
      "e\n",
      "u\n",
      "a\n",
      "e\n",
      "u\n",
      "i\n",
      "a\n",
      "e\n",
      "o\n",
      "e\n",
      "a\n",
      "u\n",
      "i\n",
      "o\n",
      "o\n",
      "e\n",
      "a\n",
      "u\n",
      "i\n",
      "o\n",
      "a\n",
      "e\n",
      "o\n",
      "a\n",
      "e\n",
      "u\n",
      "i\n",
      "a\n",
      "e\n",
      "e\n",
      "e\n",
      "a\n",
      "e\n",
      "e\n",
      "e\n",
      "a\n",
      "e\n",
      "a\n",
      "e\n",
      "u\n",
      "i\n",
      "a\n",
      "e\n",
      "o\n",
      "a\n",
      "i\n",
      "o\n",
      "o\n",
      "a\n",
      "i\n",
      "o\n",
      "a\n",
      "e\n",
      "o\n",
      "a\n",
      "o\n",
      "a\n",
      "i\n",
      "o\n",
      "u\n",
      "i\n",
      "a\n",
      "e\n",
      "u\n",
      "e\n",
      "a\n",
      "u\n",
      "a\n",
      "i\n",
      "o\n",
      "a\n",
      "e\n",
      "u\n",
      "e\n",
      "a\n",
      "u\n",
      "a\n",
      "i\n",
      "o\n",
      "a\n",
      "e\n",
      "a\n",
      "e\n",
      "u\n",
      "i\n",
      "a\n",
      "e\n",
      "i\n",
      "e\n",
      "o\n",
      "e\n",
      "a\n",
      "u\n",
      "o\n",
      "i\n",
      "e\n",
      "o\n",
      "e\n",
      "a\n",
      "e\n",
      "o\n",
      "a\n",
      "e\n",
      "u\n",
      "i\n",
      "a\n",
      "e\n",
      "a\n",
      "o\n",
      "a\n",
      "e\n",
      "i\n",
      "e\n",
      "a\n",
      "e\n",
      "a\n",
      "e\n",
      "u\n",
      "i\n",
      "a\n",
      "e\n",
      "o\n",
      "o\n",
      "o\n",
      "o\n",
      "a\n",
      "e\n",
      "u\n",
      "i\n",
      "a\n",
      "e\n",
      "u\n",
      "u\n",
      "i\n",
      "o\n",
      "e\n",
      "o\n",
      "e\n",
      "i\n",
      "e\n",
      "e\n",
      "e\n",
      "a\n",
      "o\n",
      "o\n",
      "u\n",
      "i\n",
      "a\n",
      "e\n",
      "o\n",
      "e\n",
      "o\n",
      "o\n",
      "e\n",
      "o\n",
      "a\n",
      "i\n",
      "i\n",
      "a\n",
      "o\n",
      "a\n",
      "e\n",
      "u\n",
      "i\n",
      "a\n",
      "e\n",
      "a\n",
      "u\n",
      "i\n",
      "o\n",
      "a\n",
      "u\n",
      "i\n",
      "o\n",
      "a\n",
      "e\n",
      "u\n",
      "i\n",
      "a\n",
      "e\n",
      "o\n",
      "e\n",
      "o\n",
      "e\n",
      "e\n",
      "e\n",
      "a\n",
      "e\n",
      "u\n",
      "i\n",
      "a\n",
      "e\n",
      "e\n",
      "e\n",
      "o\n",
      "i\n",
      "e\n",
      "a\n",
      "i\n",
      "i\n",
      "e\n",
      "a\n",
      "e\n",
      "u\n",
      "i\n",
      "a\n",
      "e\n",
      "a\n",
      "i\n",
      "a\n",
      "i\n",
      "e\n",
      "e\n",
      "o\n",
      "a\n",
      "i\n",
      "e\n",
      "i\n",
      "e\n",
      "a\n",
      "e\n",
      "u\n",
      "i\n",
      "a\n",
      "e\n",
      "a\n",
      "i\n",
      "a\n",
      "e\n",
      "e\n",
      "e\n",
      "o\n",
      "a\n",
      "e\n",
      "a\n",
      "o\n",
      "e\n",
      "i\n",
      "e\n",
      "a\n",
      "e\n",
      "u\n",
      "i\n",
      "a\n",
      "e\n",
      "e\n",
      "i\n",
      "e\n",
      "e\n",
      "i\n",
      "e\n",
      "a\n",
      "a\n",
      "e\n",
      "e\n",
      "e\n",
      "e\n",
      "a\n",
      "e\n",
      "u\n",
      "i\n",
      "a\n",
      "e\n",
      "e\n",
      "a\n",
      "u\n",
      "e\n",
      "e\n",
      "e\n",
      "a\n",
      "u\n",
      "e\n",
      "e\n",
      "a\n",
      "e\n",
      "u\n",
      "i\n",
      "a\n",
      "e\n",
      "e\n",
      "i\n",
      "o\n",
      "e\n",
      "i\n",
      "o\n",
      "a\n",
      "e\n",
      "u\n",
      "i\n",
      "a\n",
      "e\n",
      "a\n",
      "a\n",
      "a\n",
      "e\n",
      "o\n",
      "a\n",
      "e\n",
      "u\n",
      "i\n",
      "a\n",
      "e\n",
      "o\n",
      "e\n",
      "u\n",
      "o\n",
      "e\n",
      "o\n",
      "a\n",
      "u\n",
      "e\n",
      "i\n",
      "a\n",
      "i\n",
      "o\n",
      "a\n",
      "e\n",
      "u\n",
      "i\n",
      "a\n",
      "e\n",
      "e\n",
      "a\n",
      "i\n",
      "i\n",
      "e\n",
      "o\n",
      "a\n",
      "i\n",
      "i\n",
      "a\n",
      "e\n",
      "o\n",
      "a\n",
      "e\n",
      "u\n",
      "i\n",
      "a\n",
      "e\n",
      "a\n",
      "e\n",
      "i\n",
      "e\n",
      "e\n",
      "e\n",
      "e\n",
      "a\n",
      "e\n",
      "i\n",
      "e\n",
      "a\n",
      "e\n",
      "o\n",
      "a\n",
      "e\n",
      "u\n",
      "i\n",
      "a\n",
      "e\n",
      "o\n",
      "e\n",
      "i\n",
      "e\n",
      "o\n",
      "e\n",
      "e\n",
      "o\n",
      "i\n",
      "e\n",
      "a\n",
      "i\n",
      "i\n",
      "e\n",
      "a\n",
      "e\n",
      "u\n",
      "i\n",
      "a\n",
      "e\n",
      "a\n",
      "i\n",
      "o\n",
      "e\n",
      "i\n",
      "e\n",
      "o\n",
      "e\n",
      "e\n",
      "o\n",
      "a\n",
      "i\n",
      "e\n",
      "i\n",
      "e\n",
      "a\n",
      "e\n",
      "u\n",
      "i\n",
      "a\n",
      "e\n",
      "a\n",
      "e\n",
      "o\n",
      "e\n",
      "i\n",
      "e\n",
      "o\n",
      "e\n",
      "e\n",
      "o\n",
      "a\n",
      "e\n",
      "a\n",
      "o\n",
      "e\n",
      "i\n",
      "e\n",
      "a\n",
      "e\n",
      "u\n",
      "i\n",
      "a\n",
      "e\n",
      "e\n",
      "e\n",
      "o\n",
      "o\n",
      "e\n",
      "i\n",
      "e\n",
      "o\n",
      "e\n",
      "e\n",
      "o\n",
      "a\n",
      "e\n",
      "u\n",
      "i\n",
      "a\n",
      "e\n",
      "a\n",
      "o\n",
      "o\n",
      "u\n",
      "o\n",
      "e\n",
      "i\n",
      "e\n",
      "o\n",
      "e\n",
      "e\n",
      "o\n",
      "a\n",
      "o\n",
      "o\n",
      "u\n",
      "a\n",
      "e\n",
      "u\n",
      "i\n",
      "a\n",
      "e\n",
      "a\n",
      "e\n",
      "a\n",
      "e\n",
      "a\n",
      "e\n",
      "a\n",
      "e\n",
      "e\n",
      "i\n",
      "e\n",
      "a\n",
      "e\n",
      "u\n",
      "i\n",
      "a\n",
      "e\n",
      "o\n",
      "e\n",
      "e\n",
      "i\n",
      "a\n",
      "i\n",
      "o\n",
      "o\n",
      "e\n",
      "e\n",
      "i\n",
      "a\n",
      "i\n",
      "o\n",
      "a\n",
      "e\n",
      "o\n",
      "a\n",
      "e\n",
      "u\n",
      "i\n",
      "a\n",
      "e\n",
      "a\n",
      "u\n",
      "e\n",
      "i\n",
      "e\n",
      "a\n",
      "u\n",
      "e\n",
      "i\n",
      "e\n",
      "a\n",
      "e\n",
      "u\n",
      "i\n",
      "a\n",
      "e\n",
      "i\n",
      "o\n",
      "e\n",
      "i\n",
      "e\n",
      "i\n",
      "o\n",
      "e\n",
      "i\n",
      "e\n",
      "a\n",
      "e\n",
      "u\n",
      "i\n",
      "a\n",
      "e\n",
      "i\n",
      "o\n",
      "e\n",
      "i\n",
      "o\n",
      "e\n",
      "a\n",
      "e\n",
      "u\n",
      "i\n",
      "a\n",
      "e\n",
      "u\n",
      "e\n",
      "i\n",
      "o\n",
      "u\n",
      "e\n",
      "i\n",
      "o\n",
      "a\n",
      "e\n",
      "o\n",
      "a\n",
      "u\n",
      "e\n",
      "i\n",
      "o\n",
      "u\n",
      "i\n",
      "a\n",
      "e\n",
      "i\n",
      "a\n",
      "o\n",
      "i\n",
      "i\n",
      "a\n",
      "o\n",
      "i\n",
      "a\n",
      "e\n",
      "o\n",
      "a\n",
      "e\n",
      "u\n",
      "i\n",
      "a\n",
      "e\n",
      "a\n",
      "i\n",
      "a\n",
      "i\n",
      "e\n",
      "i\n",
      "e\n",
      "a\n",
      "a\n",
      "i\n",
      "u\n",
      "i\n",
      "a\n",
      "e\n",
      "a\n",
      "e\n",
      "e\n",
      "o\n",
      "a\n",
      "a\n",
      "o\n",
      "u\n",
      "a\n",
      "e\n",
      "u\n",
      "i\n",
      "a\n",
      "e\n",
      "a\n",
      "e\n",
      "o\n",
      "o\n",
      "e\n",
      "a\n",
      "e\n",
      "o\n",
      "o\n",
      "e\n",
      "a\n",
      "e\n",
      "o\n",
      "a\n",
      "e\n",
      "u\n",
      "i\n",
      "a\n",
      "e\n",
      "e\n",
      "u\n",
      "u\n",
      "e\n",
      "e\n",
      "u\n",
      "u\n",
      "e\n",
      "a\n",
      "e\n",
      "u\n",
      "i\n",
      "a\n",
      "o\n",
      "e\n",
      "a\n",
      "o\n",
      "e\n",
      "a\n",
      "e\n",
      "o\n",
      "u\n",
      "e\n",
      "a\n",
      "e\n",
      "o\n",
      "a\n",
      "o\n",
      "e\n",
      "a\n",
      "u\n",
      "i\n",
      "a\n",
      "e\n",
      "e\n",
      "e\n",
      "o\n",
      "a\n",
      "o\n",
      "e\n",
      "e\n",
      "o\n",
      "u\n",
      "e\n",
      "e\n",
      "i\n",
      "e\n",
      "a\n",
      "e\n",
      "u\n",
      "i\n",
      "a\n",
      "e\n",
      "o\n",
      "o\n",
      "a\n",
      "e\n",
      "u\n",
      "i\n",
      "a\n",
      "e\n",
      "o\n",
      "i\n",
      "e\n",
      "a\n",
      "e\n",
      "o\n",
      "i\n",
      "e\n",
      "a\n",
      "e\n",
      "u\n",
      "e\n",
      "a\n",
      "a\n",
      "u\n",
      "i\n",
      "a\n",
      "e\n",
      "i\n",
      "e\n",
      "i\n",
      "e\n",
      "i\n",
      "e\n",
      "i\n",
      "e\n",
      "a\n",
      "e\n",
      "o\n",
      "a\n",
      "i\n",
      "e\n",
      "i\n",
      "e\n",
      "u\n",
      "i\n",
      "a\n",
      "e\n",
      "a\n",
      "a\n",
      "e\n",
      "e\n",
      "o\n",
      "a\n",
      "a\n",
      "e\n",
      "e\n",
      "o\n",
      "a\n",
      "a\n",
      "a\n",
      "e\n",
      "e\n",
      "o\n",
      "u\n",
      "i\n",
      "a\n",
      "e\n",
      "a\n",
      "i\n",
      "e\n",
      "a\n",
      "e\n",
      "a\n",
      "i\n",
      "e\n",
      "a\n",
      "e\n",
      "a\n",
      "e\n",
      "u\n",
      "i\n",
      "a\n",
      "e\n",
      "a\n",
      "o\n",
      "u\n",
      "a\n",
      "e\n",
      "u\n",
      "i\n",
      "a\n",
      "e\n",
      "a\n",
      "e\n",
      "a\n",
      "a\n",
      "e\n",
      "a\n",
      "a\n",
      "o\n",
      "u\n",
      "a\n",
      "a\n",
      "e\n",
      "a\n",
      "u\n",
      "i\n",
      "a\n",
      "e\n",
      "i\n",
      "i\n",
      "e\n",
      "i\n",
      "e\n",
      "u\n",
      "e\n",
      "a\n",
      "i\n",
      "u\n",
      "i\n",
      "a\n",
      "e\n",
      "i\n",
      "o\n",
      "a\n",
      "a\n",
      "i\n",
      "a\n",
      "o\n",
      "e\n",
      "e\n",
      "i\n",
      "a\n",
      "i\n",
      "o\n",
      "a\n",
      "i\n",
      "a\n",
      "u\n",
      "e\n",
      "a\n",
      "i\n",
      "o\n",
      "a\n",
      "a\n",
      "i\n",
      "a\n",
      "u\n",
      "i\n",
      "a\n",
      "e\n",
      "a\n",
      "a\n",
      "i\n",
      "a\n",
      "a\n",
      "i\n",
      "a\n",
      "e\n",
      "o\n",
      "a\n",
      "a\n",
      "a\n",
      "i\n",
      "u\n",
      "i\n",
      "a\n",
      "e\n",
      "a\n",
      "e\n",
      "o\n",
      "a\n",
      "u\n",
      "i\n",
      "a\n",
      "e\n",
      "i\n",
      "e\n",
      "i\n",
      "e\n",
      "a\n",
      "e\n",
      "o\n",
      "a\n",
      "i\n",
      "e\n",
      "u\n",
      "i\n",
      "a\n",
      "e\n",
      "e\n",
      "a\n",
      "o\n",
      "i\n",
      "i\n",
      "a\n",
      "a\n",
      "i\n",
      "a\n",
      "e\n",
      "o\n",
      "a\n",
      "e\n",
      "a\n",
      "u\n",
      "i\n",
      "a\n",
      "e\n",
      "e\n",
      "o\n",
      "e\n",
      "o\n",
      "e\n",
      "e\n",
      "i\n",
      "o\n",
      "e\n",
      "o\n",
      "e\n",
      "o\n",
      "e\n",
      "e\n",
      "i\n",
      "o\n",
      "a\n",
      "e\n",
      "o\n",
      "e\n",
      "o\n",
      "e\n",
      "e\n",
      "i\n",
      "o\n",
      "u\n",
      "i\n",
      "a\n",
      "e\n",
      "i\n",
      "e\n",
      "i\n",
      "i\n",
      "e\n",
      "i\n",
      "a\n",
      "e\n",
      "u\n",
      "i\n",
      "a\n",
      "e\n",
      "i\n",
      "i\n",
      "a\n",
      "e\n",
      "i\n",
      "o\n",
      "i\n",
      "i\n",
      "a\n",
      "e\n",
      "i\n",
      "o\n",
      "a\n",
      "e\n",
      "o\n",
      "a\n",
      "i\n",
      "i\n",
      "a\n",
      "e\n",
      "i\n",
      "o\n",
      "u\n",
      "i\n",
      "a\n",
      "e\n",
      "o\n",
      "o\n",
      "a\n",
      "e\n",
      "o\n",
      "a\n",
      "i\n",
      "a\n",
      "o\n",
      "i\n",
      "u\n",
      "i\n",
      "a\n",
      "e\n",
      "a\n",
      "i\n",
      "a\n",
      "a\n",
      "i\n",
      "a\n",
      "a\n",
      "e\n",
      "o\n",
      "a\n",
      "a\n",
      "i\n",
      "a\n",
      "u\n",
      "i\n",
      "a\n",
      "e\n",
      "i\n",
      "a\n",
      "o\n",
      "o\n",
      "i\n",
      "a\n",
      "i\n",
      "o\n",
      "i\n",
      "a\n",
      "o\n",
      "o\n",
      "i\n",
      "a\n",
      "i\n",
      "o\n",
      "a\n",
      "e\n",
      "o\n",
      "a\n",
      "i\n",
      "a\n",
      "o\n",
      "o\n",
      "i\n",
      "a\n",
      "i\n",
      "o\n",
      "u\n",
      "i\n",
      "a\n",
      "e\n",
      "e\n",
      "o\n",
      "e\n",
      "o\n",
      "a\n",
      "e\n",
      "o\n",
      "a\n",
      "e\n",
      "u\n",
      "i\n",
      "a\n",
      "e\n",
      "e\n",
      "o\n",
      "e\n",
      "a\n",
      "a\n",
      "e\n",
      "e\n",
      "a\n",
      "e\n",
      "o\n",
      "a\n",
      "u\n",
      "i\n",
      "a\n",
      "e\n",
      "u\n",
      "i\n",
      "a\n",
      "e\n",
      "u\n",
      "a\n",
      "e\n",
      "a\n",
      "e\n",
      "o\n",
      "a\n",
      "u\n",
      "u\n",
      "i\n",
      "a\n",
      "e\n",
      "o\n",
      "e\n",
      "e\n",
      "a\n",
      "o\n",
      "e\n",
      "e\n",
      "a\n",
      "a\n",
      "e\n",
      "o\n",
      "a\n",
      "o\n",
      "e\n",
      "e\n",
      "a\n",
      "u\n",
      "i\n",
      "a\n",
      "e\n",
      "o\n",
      "e\n",
      "o\n",
      "e\n",
      "e\n",
      "i\n",
      "e\n",
      "a\n",
      "e\n",
      "u\n",
      "i\n",
      "a\n",
      "e\n",
      "o\n",
      "a\n",
      "o\n",
      "a\n",
      "a\n",
      "e\n",
      "o\n",
      "a\n",
      "e\n",
      "u\n",
      "i\n",
      "a\n",
      "e\n"
     ]
    }
   ],
   "source": [
    "for one_vowel in g:\n",
    "    print(one_vowel)"
   ]
  },
  {
   "cell_type": "code",
   "execution_count": 144,
   "metadata": {},
   "outputs": [
    {
     "ename": "SyntaxError",
     "evalue": "'return' outside function (<ipython-input-144-be15c3e79f52>, line 1)",
     "output_type": "error",
     "traceback": [
      "\u001b[0;36m  File \u001b[0;32m\"<ipython-input-144-be15c3e79f52>\"\u001b[0;36m, line \u001b[0;32m1\u001b[0m\n\u001b[0;31m    return 5\u001b[0m\n\u001b[0m    ^\u001b[0m\n\u001b[0;31mSyntaxError\u001b[0m\u001b[0;31m:\u001b[0m 'return' outside function\n"
     ]
    }
   ],
   "source": [
    "return 5"
   ]
  },
  {
   "cell_type": "code",
   "execution_count": 145,
   "metadata": {},
   "outputs": [
    {
     "ename": "SyntaxError",
     "evalue": "'break' outside loop (<ipython-input-145-6aaf1f276005>, line 1)",
     "output_type": "error",
     "traceback": [
      "\u001b[0;36m  File \u001b[0;32m\"<ipython-input-145-6aaf1f276005>\"\u001b[0;36m, line \u001b[0;32m1\u001b[0m\n\u001b[0;31m    break\u001b[0m\n\u001b[0m    ^\u001b[0m\n\u001b[0;31mSyntaxError\u001b[0m\u001b[0;31m:\u001b[0m 'break' outside loop\n"
     ]
    }
   ],
   "source": [
    "break"
   ]
  },
  {
   "cell_type": "code",
   "execution_count": 146,
   "metadata": {},
   "outputs": [
    {
     "ename": "SyntaxError",
     "evalue": "'continue' not properly in loop (<ipython-input-146-6ca52a340915>, line 1)",
     "output_type": "error",
     "traceback": [
      "\u001b[0;36m  File \u001b[0;32m\"<ipython-input-146-6ca52a340915>\"\u001b[0;36m, line \u001b[0;32m1\u001b[0m\n\u001b[0;31m    continue\u001b[0m\n\u001b[0m    ^\u001b[0m\n\u001b[0;31mSyntaxError\u001b[0m\u001b[0;31m:\u001b[0m 'continue' not properly in loop\n"
     ]
    }
   ],
   "source": [
    "continue"
   ]
  },
  {
   "cell_type": "code",
   "execution_count": 147,
   "metadata": {},
   "outputs": [
    {
     "name": "stdout",
     "output_type": "stream",
     "text": [
      "Name:              get_vowels\n",
      "Filename:          <ipython-input-140-0d2286702179>\n",
      "Argument count:    1\n",
      "Positional-only arguments: 0\n",
      "Kw-only arguments: 0\n",
      "Number of locals:  3\n",
      "Stack size:        4\n",
      "Flags:             OPTIMIZED, NEWLOCALS, GENERATOR, NOFREE\n",
      "Constants:\n",
      "   0: None\n",
      "   1: 'aeiou'\n",
      "Names:\n",
      "   0: open\n",
      "   1: lower\n",
      "Variable names:\n",
      "   0: filename\n",
      "   1: one_line\n",
      "   2: one_character\n"
     ]
    }
   ],
   "source": [
    "dis.show_code(get_vowels)"
   ]
  },
  {
   "cell_type": "code",
   "execution_count": 148,
   "metadata": {},
   "outputs": [],
   "source": [
    "g = get_vowels('/etc/passwd')"
   ]
  },
  {
   "cell_type": "code",
   "execution_count": 149,
   "metadata": {},
   "outputs": [
    {
     "data": {
      "text/plain": [
       "'u'"
      ]
     },
     "execution_count": 149,
     "metadata": {},
     "output_type": "execute_result"
    }
   ],
   "source": [
    "next(g)"
   ]
  },
  {
   "cell_type": "code",
   "execution_count": 150,
   "metadata": {},
   "outputs": [
    {
     "data": {
      "text/plain": [
       "'e'"
      ]
     },
     "execution_count": 150,
     "metadata": {},
     "output_type": "execute_result"
    }
   ],
   "source": [
    "next(g)"
   ]
  },
  {
   "cell_type": "code",
   "execution_count": 151,
   "metadata": {},
   "outputs": [
    {
     "data": {
      "text/plain": [
       "'a'"
      ]
     },
     "execution_count": 151,
     "metadata": {},
     "output_type": "execute_result"
    }
   ],
   "source": [
    "next(g)"
   ]
  },
  {
   "cell_type": "code",
   "execution_count": 152,
   "metadata": {},
   "outputs": [
    {
     "data": {
      "text/plain": [
       "<generator object get_vowels at 0x10ce3c430>"
      ]
     },
     "execution_count": 152,
     "metadata": {},
     "output_type": "execute_result"
    }
   ],
   "source": [
    "g"
   ]
  },
  {
   "cell_type": "code",
   "execution_count": 153,
   "metadata": {},
   "outputs": [
    {
     "data": {
      "text/plain": [
       "['__class__',\n",
       " '__del__',\n",
       " '__delattr__',\n",
       " '__dir__',\n",
       " '__doc__',\n",
       " '__eq__',\n",
       " '__format__',\n",
       " '__ge__',\n",
       " '__getattribute__',\n",
       " '__gt__',\n",
       " '__hash__',\n",
       " '__init__',\n",
       " '__init_subclass__',\n",
       " '__iter__',\n",
       " '__le__',\n",
       " '__lt__',\n",
       " '__name__',\n",
       " '__ne__',\n",
       " '__new__',\n",
       " '__next__',\n",
       " '__qualname__',\n",
       " '__reduce__',\n",
       " '__reduce_ex__',\n",
       " '__repr__',\n",
       " '__setattr__',\n",
       " '__sizeof__',\n",
       " '__str__',\n",
       " '__subclasshook__',\n",
       " 'close',\n",
       " 'gi_code',\n",
       " 'gi_frame',\n",
       " 'gi_running',\n",
       " 'gi_yieldfrom',\n",
       " 'send',\n",
       " 'throw']"
      ]
     },
     "execution_count": 153,
     "metadata": {},
     "output_type": "execute_result"
    }
   ],
   "source": [
    "dir(g)"
   ]
  },
  {
   "cell_type": "code",
   "execution_count": 154,
   "metadata": {},
   "outputs": [
    {
     "data": {
      "text/plain": [
       "False"
      ]
     },
     "execution_count": 154,
     "metadata": {},
     "output_type": "execute_result"
    }
   ],
   "source": [
    "g.gi_running"
   ]
  },
  {
   "cell_type": "code",
   "execution_count": 155,
   "metadata": {},
   "outputs": [
    {
     "data": {
      "text/plain": [
       "<code object get_vowels at 0x10c269500, file \"<ipython-input-140-0d2286702179>\", line 1>"
      ]
     },
     "execution_count": 155,
     "metadata": {},
     "output_type": "execute_result"
    }
   ],
   "source": [
    "g.gi_code"
   ]
  },
  {
   "cell_type": "code",
   "execution_count": 156,
   "metadata": {},
   "outputs": [
    {
     "data": {
      "text/plain": [
       "('filename', 'one_line', 'one_character')"
      ]
     },
     "execution_count": 156,
     "metadata": {},
     "output_type": "execute_result"
    }
   ],
   "source": [
    "g.gi_code.co_varnames"
   ]
  },
  {
   "cell_type": "code",
   "execution_count": 157,
   "metadata": {},
   "outputs": [
    {
     "data": {
      "text/plain": [
       "1"
      ]
     },
     "execution_count": 157,
     "metadata": {},
     "output_type": "execute_result"
    }
   ],
   "source": [
    "g.gi_code.co_argcount"
   ]
  },
  {
   "cell_type": "code",
   "execution_count": 158,
   "metadata": {},
   "outputs": [
    {
     "data": {
      "text/plain": [
       "b't\\x00|\\x00\\x83\\x01D\\x00] }\\x01|\\x01\\xa0\\x01\\xa1\\x00D\\x00]\\x12}\\x02|\\x02d\\x01v\\x00r\\x14|\\x02V\\x00\\x01\\x00q\\x14q\\x08d\\x00S\\x00'"
      ]
     },
     "execution_count": 158,
     "metadata": {},
     "output_type": "execute_result"
    }
   ],
   "source": [
    "g.gi_code.co_code"
   ]
  },
  {
   "cell_type": "code",
   "execution_count": 159,
   "metadata": {},
   "outputs": [
    {
     "name": "stdout",
     "output_type": "stream",
     "text": [
      "          0 LOAD_GLOBAL              0 (0)\n",
      "          2 LOAD_FAST                0 (0)\n",
      "          4 CALL_FUNCTION            1\n",
      "          6 GET_ITER\n",
      "    >>    8 FOR_ITER                32 (to 42)\n",
      "         10 STORE_FAST               1 (1)\n",
      "         12 LOAD_FAST                1 (1)\n",
      "         14 LOAD_METHOD              1 (1)\n",
      "         16 CALL_METHOD              0\n",
      "         18 GET_ITER\n",
      "    >>   20 FOR_ITER                18 (to 40)\n",
      "         22 STORE_FAST               2 (2)\n",
      "         24 LOAD_FAST                2 (2)\n",
      "         26 LOAD_CONST               1 (1)\n",
      "         28 CONTAINS_OP              0\n",
      "         30 POP_JUMP_IF_FALSE       20\n",
      "         32 LOAD_FAST                2 (2)\n",
      "         34 YIELD_VALUE\n",
      "         36 POP_TOP\n",
      "         38 JUMP_ABSOLUTE           20\n",
      "    >>   40 JUMP_ABSOLUTE            8\n",
      "    >>   42 LOAD_CONST               0 (0)\n",
      "         44 RETURN_VALUE\n"
     ]
    }
   ],
   "source": [
    "dis.dis(g.gi_code.co_code)"
   ]
  },
  {
   "cell_type": "code",
   "execution_count": 160,
   "metadata": {},
   "outputs": [],
   "source": [
    "get_vowels??"
   ]
  },
  {
   "cell_type": "code",
   "execution_count": 161,
   "metadata": {},
   "outputs": [
    {
     "data": {
      "text/plain": [
       "frame"
      ]
     },
     "execution_count": 161,
     "metadata": {},
     "output_type": "execute_result"
    }
   ],
   "source": [
    "type(g.gi_frame)"
   ]
  },
  {
   "cell_type": "code",
   "execution_count": 162,
   "metadata": {},
   "outputs": [
    {
     "data": {
      "text/plain": [
       "['__class__',\n",
       " '__delattr__',\n",
       " '__dir__',\n",
       " '__doc__',\n",
       " '__eq__',\n",
       " '__format__',\n",
       " '__ge__',\n",
       " '__getattribute__',\n",
       " '__gt__',\n",
       " '__hash__',\n",
       " '__init__',\n",
       " '__init_subclass__',\n",
       " '__le__',\n",
       " '__lt__',\n",
       " '__ne__',\n",
       " '__new__',\n",
       " '__reduce__',\n",
       " '__reduce_ex__',\n",
       " '__repr__',\n",
       " '__setattr__',\n",
       " '__sizeof__',\n",
       " '__str__',\n",
       " '__subclasshook__',\n",
       " 'clear',\n",
       " 'f_back',\n",
       " 'f_builtins',\n",
       " 'f_code',\n",
       " 'f_globals',\n",
       " 'f_lasti',\n",
       " 'f_lineno',\n",
       " 'f_locals',\n",
       " 'f_trace',\n",
       " 'f_trace_lines',\n",
       " 'f_trace_opcodes']"
      ]
     },
     "execution_count": 162,
     "metadata": {},
     "output_type": "execute_result"
    }
   ],
   "source": [
    "dir(g.gi_frame)"
   ]
  },
  {
   "cell_type": "code",
   "execution_count": 163,
   "metadata": {},
   "outputs": [
    {
     "data": {
      "text/plain": [
       "{'filename': '/etc/passwd',\n",
       " 'one_line': '# User Database\\n',\n",
       " 'one_character': 'a'}"
      ]
     },
     "execution_count": 163,
     "metadata": {},
     "output_type": "execute_result"
    }
   ],
   "source": [
    "g.gi_frame.f_locals"
   ]
  },
  {
   "cell_type": "code",
   "execution_count": 164,
   "metadata": {},
   "outputs": [
    {
     "data": {
      "text/plain": [
       "'a'"
      ]
     },
     "execution_count": 164,
     "metadata": {},
     "output_type": "execute_result"
    }
   ],
   "source": [
    "next(g)"
   ]
  },
  {
   "cell_type": "code",
   "execution_count": 165,
   "metadata": {},
   "outputs": [
    {
     "data": {
      "text/plain": [
       "{'filename': '/etc/passwd',\n",
       " 'one_line': '# User Database\\n',\n",
       " 'one_character': 'a'}"
      ]
     },
     "execution_count": 165,
     "metadata": {},
     "output_type": "execute_result"
    }
   ],
   "source": [
    "g.gi_frame.f_locals"
   ]
  },
  {
   "cell_type": "code",
   "execution_count": 166,
   "metadata": {},
   "outputs": [
    {
     "data": {
      "text/plain": [
       "'a'"
      ]
     },
     "execution_count": 166,
     "metadata": {},
     "output_type": "execute_result"
    }
   ],
   "source": [
    "next(g)"
   ]
  },
  {
   "cell_type": "code",
   "execution_count": 167,
   "metadata": {},
   "outputs": [
    {
     "data": {
      "text/plain": [
       "'e'"
      ]
     },
     "execution_count": 167,
     "metadata": {},
     "output_type": "execute_result"
    }
   ],
   "source": [
    "next(g)"
   ]
  },
  {
   "cell_type": "code",
   "execution_count": 168,
   "metadata": {},
   "outputs": [
    {
     "data": {
      "text/plain": [
       "{'filename': '/etc/passwd',\n",
       " 'one_line': '# User Database\\n',\n",
       " 'one_character': 'e'}"
      ]
     },
     "execution_count": 168,
     "metadata": {},
     "output_type": "execute_result"
    }
   ],
   "source": [
    "g.gi_frame.f_locals"
   ]
  },
  {
   "cell_type": "code",
   "execution_count": 169,
   "metadata": {},
   "outputs": [
    {
     "data": {
      "text/plain": [
       "5"
      ]
     },
     "execution_count": 169,
     "metadata": {},
     "output_type": "execute_result"
    }
   ],
   "source": [
    "g.gi_frame.f_lineno"
   ]
  },
  {
   "cell_type": "code",
   "execution_count": 170,
   "metadata": {},
   "outputs": [],
   "source": [
    "get_vowels??"
   ]
  },
  {
   "cell_type": "markdown",
   "metadata": {},
   "source": [
    "# Exercise: read_n\n",
    "\n",
    "1. Define `read_n` to be a generator function that takes two arguments:\n",
    "    - `filename`, a string\n",
    "    - `n`, an integer\n",
    "2. Normally, when you iterate over a file, you get each line, one at a time.\n",
    "3. `read_n` will return a string with each iteration, containing `n` lines from the file.\n",
    "4. It could be that the final iteration will contain fewer than `n` lines in its returned string."
   ]
  },
  {
   "cell_type": "code",
   "execution_count": 174,
   "metadata": {},
   "outputs": [],
   "source": [
    "def read_n(filename, n):\n",
    "    with open(filename) as f:\n",
    "        while True:\n",
    "            output = ''\n",
    "            for i in range(n):\n",
    "                output += f.readline()\n",
    "\n",
    "            if not output:\n",
    "                break\n",
    "\n",
    "            yield output"
   ]
  },
  {
   "cell_type": "code",
   "execution_count": 175,
   "metadata": {},
   "outputs": [
    {
     "data": {
      "text/plain": [
       "'##\\n# User Database\\n# \\n'"
      ]
     },
     "execution_count": 175,
     "metadata": {},
     "output_type": "execute_result"
    }
   ],
   "source": [
    "g = read_n('/etc/passwd', 3)\n",
    "\n",
    "next(g)"
   ]
  },
  {
   "cell_type": "code",
   "execution_count": 176,
   "metadata": {},
   "outputs": [
    {
     "data": {
      "text/plain": [
       "'# Note that this file is consulted directly only when the system is running\\n# in single-user mode.  At other times this information is provided by\\n# Open Directory.\\n'"
      ]
     },
     "execution_count": 176,
     "metadata": {},
     "output_type": "execute_result"
    }
   ],
   "source": [
    "next(g)"
   ]
  },
  {
   "cell_type": "code",
   "execution_count": 177,
   "metadata": {},
   "outputs": [
    {
     "data": {
      "text/plain": [
       "'#\\n# See the opendirectoryd(8) man page for additional information about\\n# Open Directory.\\n'"
      ]
     },
     "execution_count": 177,
     "metadata": {},
     "output_type": "execute_result"
    }
   ],
   "source": [
    "next(g)"
   ]
  },
  {
   "cell_type": "code",
   "execution_count": 179,
   "metadata": {},
   "outputs": [
    {
     "name": "stdout",
     "output_type": "stream",
     "text": [
      "##\n",
      "# User Database\n",
      "# \n",
      "# Note that this file is consulted directly only when the system is running\n",
      "# in single-user mode.  At other times this information is provided by\n",
      "# Open Directory.\n",
      "#\n",
      "\n",
      "# See the opendirectoryd(8) man page for additional information about\n",
      "# Open Directory.\n",
      "##\n",
      "nobody:*:-2:-2:Unprivileged User:/var/empty:/usr/bin/false\n",
      "root:*:0:0:System Administrator:/var/root:/bin/sh\n",
      "daemon:*:1:1:System Services:/var/root:/usr/bin/false\n",
      "_uucp:*:4:4:Unix to Unix Copy Protocol:/var/spool/uucp:/usr/sbin/uucico\n",
      "\n",
      "_taskgated:*:13:13:Task Gate Daemon:/var/empty:/usr/bin/false\n",
      "_networkd:*:24:24:Network Services:/var/networkd:/usr/bin/false\n",
      "_installassistant:*:25:25:Install Assistant:/var/empty:/usr/bin/false\n",
      "_lp:*:26:26:Printing Services:/var/spool/cups:/usr/bin/false\n",
      "_postfix:*:27:27:Postfix Mail Server:/var/spool/postfix:/usr/bin/false\n",
      "_scsd:*:31:31:Service Configuration Service:/var/empty:/usr/bin/false\n",
      "_ces:*:32:32:Certificate Enrollment Service:/var/empty:/usr/bin/false\n",
      "\n",
      "_appstore:*:33:33:Mac App Store Service:/var/db/appstore:/usr/bin/false\n",
      "_mcxalr:*:54:54:MCX AppLaunch:/var/empty:/usr/bin/false\n",
      "_appleevents:*:55:55:AppleEvents Daemon:/var/empty:/usr/bin/false\n",
      "_geod:*:56:56:Geo Services Daemon:/var/db/geod:/usr/bin/false\n",
      "_devdocs:*:59:59:Developer Documentation:/var/empty:/usr/bin/false\n",
      "_sandbox:*:60:60:Seatbelt:/var/empty:/usr/bin/false\n",
      "_mdnsresponder:*:65:65:mDNSResponder:/var/empty:/usr/bin/false\n",
      "\n",
      "_ard:*:67:67:Apple Remote Desktop:/var/empty:/usr/bin/false\n",
      "_www:*:70:70:World Wide Web Server:/Library/WebServer:/usr/bin/false\n",
      "_eppc:*:71:71:Apple Events User:/var/empty:/usr/bin/false\n",
      "_cvs:*:72:72:CVS Server:/var/empty:/usr/bin/false\n",
      "_svn:*:73:73:SVN Server:/var/empty:/usr/bin/false\n",
      "_mysql:*:74:74:MySQL Server:/var/empty:/usr/bin/false\n",
      "_sshd:*:75:75:sshd Privilege separation:/var/empty:/usr/bin/false\n",
      "\n",
      "_qtss:*:76:76:QuickTime Streaming Server:/var/empty:/usr/bin/false\n",
      "_cyrus:*:77:6:Cyrus Administrator:/var/imap:/usr/bin/false\n",
      "_mailman:*:78:78:Mailman List Server:/var/empty:/usr/bin/false\n",
      "_appserver:*:79:79:Application Server:/var/empty:/usr/bin/false\n",
      "_clamav:*:82:82:ClamAV Daemon:/var/virusmails:/usr/bin/false\n",
      "_amavisd:*:83:83:AMaViS Daemon:/var/virusmails:/usr/bin/false\n",
      "_jabber:*:84:84:Jabber XMPP Server:/var/empty:/usr/bin/false\n",
      "\n",
      "_appowner:*:87:87:Application Owner:/var/empty:/usr/bin/false\n",
      "_windowserver:*:88:88:WindowServer:/var/empty:/usr/bin/false\n",
      "_spotlight:*:89:89:Spotlight:/var/empty:/usr/bin/false\n",
      "_tokend:*:91:91:Token Daemon:/var/empty:/usr/bin/false\n",
      "_securityagent:*:92:92:SecurityAgent:/var/db/securityagent:/usr/bin/false\n",
      "_calendar:*:93:93:Calendar:/var/empty:/usr/bin/false\n",
      "_teamsserver:*:94:94:TeamsServer:/var/teamsserver:/usr/bin/false\n",
      "\n",
      "_update_sharing:*:95:-2:Update Sharing:/var/empty:/usr/bin/false\n",
      "_installer:*:96:-2:Installer:/var/empty:/usr/bin/false\n",
      "_atsserver:*:97:97:ATS Server:/var/empty:/usr/bin/false\n",
      "_ftp:*:98:-2:FTP Daemon:/var/empty:/usr/bin/false\n",
      "_unknown:*:99:99:Unknown User:/var/empty:/usr/bin/false\n",
      "_softwareupdate:*:200:200:Software Update Service:/var/db/softwareupdate:/usr/bin/false\n",
      "_coreaudiod:*:202:202:Core Audio Daemon:/var/empty:/usr/bin/false\n",
      "\n",
      "_screensaver:*:203:203:Screensaver:/var/empty:/usr/bin/false\n",
      "_locationd:*:205:205:Location Daemon:/var/db/locationd:/usr/bin/false\n",
      "_trustevaluationagent:*:208:208:Trust Evaluation Agent:/var/empty:/usr/bin/false\n",
      "_timezone:*:210:210:AutoTimeZoneDaemon:/var/empty:/usr/bin/false\n",
      "_lda:*:211:211:Local Delivery Agent:/var/empty:/usr/bin/false\n",
      "_cvmsroot:*:212:212:CVMS Root:/var/empty:/usr/bin/false\n",
      "_usbmuxd:*:213:213:iPhone OS Device Helper:/var/db/lockdown:/usr/bin/false\n",
      "\n",
      "_dovecot:*:214:6:Dovecot Administrator:/var/empty:/usr/bin/false\n",
      "_dpaudio:*:215:215:DP Audio:/var/empty:/usr/bin/false\n",
      "_postgres:*:216:216:PostgreSQL Server:/var/empty:/usr/bin/false\n",
      "_krbtgt:*:217:-2:Kerberos Ticket Granting Ticket:/var/empty:/usr/bin/false\n",
      "_kadmin_admin:*:218:-2:Kerberos Admin Service:/var/empty:/usr/bin/false\n",
      "_kadmin_changepw:*:219:-2:Kerberos Change Password Service:/var/empty:/usr/bin/false\n",
      "_devicemgr:*:220:220:Device Management Server:/var/empty:/usr/bin/false\n",
      "\n",
      "_webauthserver:*:221:221:Web Auth Server:/var/empty:/usr/bin/false\n",
      "_netbios:*:222:222:NetBIOS:/var/empty:/usr/bin/false\n",
      "_warmd:*:224:224:Warm Daemon:/var/empty:/usr/bin/false\n",
      "_dovenull:*:227:227:Dovecot Authentication:/var/empty:/usr/bin/false\n",
      "_netstatistics:*:228:228:Network Statistics Daemon:/var/empty:/usr/bin/false\n",
      "_avbdeviced:*:229:-2:Ethernet AVB Device Daemon:/var/empty:/usr/bin/false\n",
      "_krb_krbtgt:*:230:-2:Open Directory Kerberos Ticket Granting Ticket:/var/empty:/usr/bin/false\n",
      "\n",
      "_krb_kadmin:*:231:-2:Open Directory Kerberos Admin Service:/var/empty:/usr/bin/false\n",
      "_krb_changepw:*:232:-2:Open Directory Kerberos Change Password Service:/var/empty:/usr/bin/false\n",
      "_krb_kerberos:*:233:-2:Open Directory Kerberos:/var/empty:/usr/bin/false\n",
      "_krb_anonymous:*:234:-2:Open Directory Kerberos Anonymous:/var/empty:/usr/bin/false\n",
      "_assetcache:*:235:235:Asset Cache Service:/var/empty:/usr/bin/false\n",
      "_coremediaiod:*:236:236:Core Media IO Daemon:/var/empty:/usr/bin/false\n",
      "_launchservicesd:*:239:239:_launchservicesd:/var/empty:/usr/bin/false\n",
      "\n",
      "_iconservices:*:240:240:IconServices:/var/empty:/usr/bin/false\n",
      "_distnote:*:241:241:DistNote:/var/empty:/usr/bin/false\n",
      "_nsurlsessiond:*:242:242:NSURLSession Daemon:/var/db/nsurlsessiond:/usr/bin/false\n",
      "_displaypolicyd:*:244:244:Display Policy Daemon:/var/empty:/usr/bin/false\n",
      "_astris:*:245:245:Astris Services:/var/db/astris:/usr/bin/false\n",
      "_krbfast:*:246:-2:Kerberos FAST Account:/var/empty:/usr/bin/false\n",
      "_gamecontrollerd:*:247:247:Game Controller Daemon:/var/empty:/usr/bin/false\n",
      "\n",
      "_mbsetupuser:*:248:248:Setup User:/var/setup:/bin/bash\n",
      "_ondemand:*:249:249:On Demand Resource Daemon:/var/db/ondemand:/usr/bin/false\n",
      "_xserverdocs:*:251:251:macOS Server Documents Service:/var/empty:/usr/bin/false\n",
      "_wwwproxy:*:252:252:WWW Proxy:/var/empty:/usr/bin/false\n",
      "_mobileasset:*:253:253:MobileAsset User:/var/ma:/usr/bin/false\n",
      "_findmydevice:*:254:254:Find My Device Daemon:/var/db/findmydevice:/usr/bin/false\n",
      "_datadetectors:*:257:257:DataDetectors:/var/db/datadetectors:/usr/bin/false\n",
      "\n",
      "_captiveagent:*:258:258:captiveagent:/var/empty:/usr/bin/false\n",
      "_ctkd:*:259:259:ctkd Account:/var/empty:/usr/bin/false\n",
      "_applepay:*:260:260:applepay Account:/var/db/applepay:/usr/bin/false\n",
      "_hidd:*:261:261:HID Service User:/var/db/hidd:/usr/bin/false\n",
      "_cmiodalassistants:*:262:262:CoreMedia IO Assistants User:/var/db/cmiodalassistants:/usr/bin/false\n",
      "_analyticsd:*:263:263:Analytics Daemon:/var/db/analyticsd:/usr/bin/false\n",
      "_fpsd:*:265:265:FPS Daemon:/var/db/fpsd:/usr/bin/false\n",
      "\n",
      "_timed:*:266:266:Time Sync Daemon:/var/db/timed:/usr/bin/false\n",
      "_nearbyd:*:268:268:Proximity and Ranging Daemon:/var/db/nearbyd:/usr/bin/false\n",
      "_reportmemoryexception:*:269:269:ReportMemoryException:/var/db/reportmemoryexception:/usr/bin/false\n",
      "_driverkit:*:270:270:DriverKit:/var/empty:/usr/bin/false\n",
      "_diskimagesiod:*:271:271:DiskImages IO Daemon:/var/db/diskimagesiod:/usr/bin/false\n",
      "_logd:*:272:272:Log Daemon:/var/db/diagnostics:/usr/bin/false\n",
      "_appinstalld:*:273:273:App Install Daemon:/var/db/appinstalld:/usr/bin/false\n",
      "\n",
      "_installcoordinationd:*:274:274:Install Coordination Daemon:/var/db/installcoordinationd:/usr/bin/false\n",
      "_demod:*:275:275:Demo Daemon:/var/empty:/usr/bin/false\n",
      "_rmd:*:277:277:Remote Management Daemon:/var/db/rmd:/usr/bin/false\n",
      "_fud:*:278:278:Firmware Update Daemon:/var/db/fud:/usr/bin/false\n",
      "_knowledgegraphd:*:279:279:Knowledge Graph Daemon:/var/db/knowledgegraphd:/usr/bin/false\n",
      "_coreml:*:280:280:CoreML Services:/var/empty:/usr/bin/false\n",
      "_oahd:*:441:441:OAH Daemon:/var/empty:/usr/bin/false\n",
      "\n"
     ]
    }
   ],
   "source": [
    "for one_chunk in read_n('/etc/passwd', 7):\n",
    "    print(one_chunk)"
   ]
  },
  {
   "cell_type": "code",
   "execution_count": 180,
   "metadata": {},
   "outputs": [],
   "source": [
    "def read_n(filename, n):\n",
    "    with open(filename) as f:\n",
    "        while True:\n",
    "            output = ''.join([f.readline()\n",
    "                              for i in range(n)])\n",
    "\n",
    "            if not output:\n",
    "                break\n",
    "\n",
    "            yield output"
   ]
  },
  {
   "cell_type": "code",
   "execution_count": 183,
   "metadata": {},
   "outputs": [
    {
     "name": "stdout",
     "output_type": "stream",
     "text": [
      "##\n",
      "# User Database\n",
      "# \n",
      "# Note that this file is consulted directly only when the system is running\n",
      "# in single-user mode.  At other times this information is provided by\n",
      "# Open Directory.\n",
      "#\n",
      "# See the opendirectoryd(8) man page for additional information about\n",
      "# Open Directory.\n",
      "\n",
      "##\n",
      "nobody:*:-2:-2:Unprivileged User:/var/empty:/usr/bin/false\n",
      "root:*:0:0:System Administrator:/var/root:/bin/sh\n",
      "daemon:*:1:1:System Services:/var/root:/usr/bin/false\n",
      "_uucp:*:4:4:Unix to Unix Copy Protocol:/var/spool/uucp:/usr/sbin/uucico\n",
      "_taskgated:*:13:13:Task Gate Daemon:/var/empty:/usr/bin/false\n",
      "_networkd:*:24:24:Network Services:/var/networkd:/usr/bin/false\n",
      "_installassistant:*:25:25:Install Assistant:/var/empty:/usr/bin/false\n",
      "_lp:*:26:26:Printing Services:/var/spool/cups:/usr/bin/false\n",
      "\n",
      "_postfix:*:27:27:Postfix Mail Server:/var/spool/postfix:/usr/bin/false\n",
      "_scsd:*:31:31:Service Configuration Service:/var/empty:/usr/bin/false\n",
      "_ces:*:32:32:Certificate Enrollment Service:/var/empty:/usr/bin/false\n",
      "_appstore:*:33:33:Mac App Store Service:/var/db/appstore:/usr/bin/false\n",
      "_mcxalr:*:54:54:MCX AppLaunch:/var/empty:/usr/bin/false\n",
      "_appleevents:*:55:55:AppleEvents Daemon:/var/empty:/usr/bin/false\n",
      "_geod:*:56:56:Geo Services Daemon:/var/db/geod:/usr/bin/false\n",
      "_devdocs:*:59:59:Developer Documentation:/var/empty:/usr/bin/false\n",
      "_sandbox:*:60:60:Seatbelt:/var/empty:/usr/bin/false\n",
      "\n",
      "_mdnsresponder:*:65:65:mDNSResponder:/var/empty:/usr/bin/false\n",
      "_ard:*:67:67:Apple Remote Desktop:/var/empty:/usr/bin/false\n",
      "_www:*:70:70:World Wide Web Server:/Library/WebServer:/usr/bin/false\n",
      "_eppc:*:71:71:Apple Events User:/var/empty:/usr/bin/false\n",
      "_cvs:*:72:72:CVS Server:/var/empty:/usr/bin/false\n",
      "_svn:*:73:73:SVN Server:/var/empty:/usr/bin/false\n",
      "_mysql:*:74:74:MySQL Server:/var/empty:/usr/bin/false\n",
      "_sshd:*:75:75:sshd Privilege separation:/var/empty:/usr/bin/false\n",
      "_qtss:*:76:76:QuickTime Streaming Server:/var/empty:/usr/bin/false\n",
      "\n",
      "_cyrus:*:77:6:Cyrus Administrator:/var/imap:/usr/bin/false\n",
      "_mailman:*:78:78:Mailman List Server:/var/empty:/usr/bin/false\n",
      "_appserver:*:79:79:Application Server:/var/empty:/usr/bin/false\n",
      "_clamav:*:82:82:ClamAV Daemon:/var/virusmails:/usr/bin/false\n",
      "_amavisd:*:83:83:AMaViS Daemon:/var/virusmails:/usr/bin/false\n",
      "_jabber:*:84:84:Jabber XMPP Server:/var/empty:/usr/bin/false\n",
      "_appowner:*:87:87:Application Owner:/var/empty:/usr/bin/false\n",
      "_windowserver:*:88:88:WindowServer:/var/empty:/usr/bin/false\n",
      "_spotlight:*:89:89:Spotlight:/var/empty:/usr/bin/false\n",
      "\n",
      "_tokend:*:91:91:Token Daemon:/var/empty:/usr/bin/false\n",
      "_securityagent:*:92:92:SecurityAgent:/var/db/securityagent:/usr/bin/false\n",
      "_calendar:*:93:93:Calendar:/var/empty:/usr/bin/false\n",
      "_teamsserver:*:94:94:TeamsServer:/var/teamsserver:/usr/bin/false\n",
      "_update_sharing:*:95:-2:Update Sharing:/var/empty:/usr/bin/false\n",
      "_installer:*:96:-2:Installer:/var/empty:/usr/bin/false\n",
      "_atsserver:*:97:97:ATS Server:/var/empty:/usr/bin/false\n",
      "_ftp:*:98:-2:FTP Daemon:/var/empty:/usr/bin/false\n",
      "_unknown:*:99:99:Unknown User:/var/empty:/usr/bin/false\n",
      "\n",
      "_softwareupdate:*:200:200:Software Update Service:/var/db/softwareupdate:/usr/bin/false\n",
      "_coreaudiod:*:202:202:Core Audio Daemon:/var/empty:/usr/bin/false\n",
      "_screensaver:*:203:203:Screensaver:/var/empty:/usr/bin/false\n",
      "_locationd:*:205:205:Location Daemon:/var/db/locationd:/usr/bin/false\n",
      "_trustevaluationagent:*:208:208:Trust Evaluation Agent:/var/empty:/usr/bin/false\n",
      "_timezone:*:210:210:AutoTimeZoneDaemon:/var/empty:/usr/bin/false\n",
      "_lda:*:211:211:Local Delivery Agent:/var/empty:/usr/bin/false\n",
      "_cvmsroot:*:212:212:CVMS Root:/var/empty:/usr/bin/false\n",
      "_usbmuxd:*:213:213:iPhone OS Device Helper:/var/db/lockdown:/usr/bin/false\n",
      "\n",
      "_dovecot:*:214:6:Dovecot Administrator:/var/empty:/usr/bin/false\n",
      "_dpaudio:*:215:215:DP Audio:/var/empty:/usr/bin/false\n",
      "_postgres:*:216:216:PostgreSQL Server:/var/empty:/usr/bin/false\n",
      "_krbtgt:*:217:-2:Kerberos Ticket Granting Ticket:/var/empty:/usr/bin/false\n",
      "_kadmin_admin:*:218:-2:Kerberos Admin Service:/var/empty:/usr/bin/false\n",
      "_kadmin_changepw:*:219:-2:Kerberos Change Password Service:/var/empty:/usr/bin/false\n",
      "_devicemgr:*:220:220:Device Management Server:/var/empty:/usr/bin/false\n",
      "_webauthserver:*:221:221:Web Auth Server:/var/empty:/usr/bin/false\n",
      "_netbios:*:222:222:NetBIOS:/var/empty:/usr/bin/false\n",
      "\n",
      "_warmd:*:224:224:Warm Daemon:/var/empty:/usr/bin/false\n",
      "_dovenull:*:227:227:Dovecot Authentication:/var/empty:/usr/bin/false\n",
      "_netstatistics:*:228:228:Network Statistics Daemon:/var/empty:/usr/bin/false\n",
      "_avbdeviced:*:229:-2:Ethernet AVB Device Daemon:/var/empty:/usr/bin/false\n",
      "_krb_krbtgt:*:230:-2:Open Directory Kerberos Ticket Granting Ticket:/var/empty:/usr/bin/false\n",
      "_krb_kadmin:*:231:-2:Open Directory Kerberos Admin Service:/var/empty:/usr/bin/false\n",
      "_krb_changepw:*:232:-2:Open Directory Kerberos Change Password Service:/var/empty:/usr/bin/false\n",
      "_krb_kerberos:*:233:-2:Open Directory Kerberos:/var/empty:/usr/bin/false\n",
      "_krb_anonymous:*:234:-2:Open Directory Kerberos Anonymous:/var/empty:/usr/bin/false\n",
      "\n",
      "_assetcache:*:235:235:Asset Cache Service:/var/empty:/usr/bin/false\n",
      "_coremediaiod:*:236:236:Core Media IO Daemon:/var/empty:/usr/bin/false\n",
      "_launchservicesd:*:239:239:_launchservicesd:/var/empty:/usr/bin/false\n",
      "_iconservices:*:240:240:IconServices:/var/empty:/usr/bin/false\n",
      "_distnote:*:241:241:DistNote:/var/empty:/usr/bin/false\n",
      "_nsurlsessiond:*:242:242:NSURLSession Daemon:/var/db/nsurlsessiond:/usr/bin/false\n",
      "_displaypolicyd:*:244:244:Display Policy Daemon:/var/empty:/usr/bin/false\n",
      "_astris:*:245:245:Astris Services:/var/db/astris:/usr/bin/false\n",
      "_krbfast:*:246:-2:Kerberos FAST Account:/var/empty:/usr/bin/false\n",
      "\n",
      "_gamecontrollerd:*:247:247:Game Controller Daemon:/var/empty:/usr/bin/false\n",
      "_mbsetupuser:*:248:248:Setup User:/var/setup:/bin/bash\n",
      "_ondemand:*:249:249:On Demand Resource Daemon:/var/db/ondemand:/usr/bin/false\n",
      "_xserverdocs:*:251:251:macOS Server Documents Service:/var/empty:/usr/bin/false\n",
      "_wwwproxy:*:252:252:WWW Proxy:/var/empty:/usr/bin/false\n",
      "_mobileasset:*:253:253:MobileAsset User:/var/ma:/usr/bin/false\n",
      "_findmydevice:*:254:254:Find My Device Daemon:/var/db/findmydevice:/usr/bin/false\n",
      "_datadetectors:*:257:257:DataDetectors:/var/db/datadetectors:/usr/bin/false\n",
      "_captiveagent:*:258:258:captiveagent:/var/empty:/usr/bin/false\n",
      "\n",
      "_ctkd:*:259:259:ctkd Account:/var/empty:/usr/bin/false\n",
      "_applepay:*:260:260:applepay Account:/var/db/applepay:/usr/bin/false\n",
      "_hidd:*:261:261:HID Service User:/var/db/hidd:/usr/bin/false\n",
      "_cmiodalassistants:*:262:262:CoreMedia IO Assistants User:/var/db/cmiodalassistants:/usr/bin/false\n",
      "_analyticsd:*:263:263:Analytics Daemon:/var/db/analyticsd:/usr/bin/false\n",
      "_fpsd:*:265:265:FPS Daemon:/var/db/fpsd:/usr/bin/false\n",
      "_timed:*:266:266:Time Sync Daemon:/var/db/timed:/usr/bin/false\n",
      "_nearbyd:*:268:268:Proximity and Ranging Daemon:/var/db/nearbyd:/usr/bin/false\n",
      "_reportmemoryexception:*:269:269:ReportMemoryException:/var/db/reportmemoryexception:/usr/bin/false\n",
      "\n",
      "_driverkit:*:270:270:DriverKit:/var/empty:/usr/bin/false\n",
      "_diskimagesiod:*:271:271:DiskImages IO Daemon:/var/db/diskimagesiod:/usr/bin/false\n",
      "_logd:*:272:272:Log Daemon:/var/db/diagnostics:/usr/bin/false\n",
      "_appinstalld:*:273:273:App Install Daemon:/var/db/appinstalld:/usr/bin/false\n",
      "_installcoordinationd:*:274:274:Install Coordination Daemon:/var/db/installcoordinationd:/usr/bin/false\n",
      "_demod:*:275:275:Demo Daemon:/var/empty:/usr/bin/false\n",
      "_rmd:*:277:277:Remote Management Daemon:/var/db/rmd:/usr/bin/false\n",
      "_fud:*:278:278:Firmware Update Daemon:/var/db/fud:/usr/bin/false\n",
      "_knowledgegraphd:*:279:279:Knowledge Graph Daemon:/var/db/knowledgegraphd:/usr/bin/false\n",
      "\n",
      "_coreml:*:280:280:CoreML Services:/var/empty:/usr/bin/false\n",
      "_oahd:*:441:441:OAH Daemon:/var/empty:/usr/bin/false\n",
      "\n"
     ]
    }
   ],
   "source": [
    "for one_chunk in read_n('/etc/passwd', 9):\n",
    "    print(one_chunk)"
   ]
  },
  {
   "cell_type": "code",
   "execution_count": 184,
   "metadata": {},
   "outputs": [
    {
     "data": {
      "text/plain": [
       "<zip at 0x10ce63280>"
      ]
     },
     "execution_count": 184,
     "metadata": {},
     "output_type": "execute_result"
    }
   ],
   "source": [
    "s = 'abc'\n",
    "mylist = [10, 20, 30]\n",
    "\n",
    "zip(s, mylist)"
   ]
  },
  {
   "cell_type": "code",
   "execution_count": 185,
   "metadata": {},
   "outputs": [
    {
     "data": {
      "text/plain": [
       "[('a', 10), ('b', 20), ('c', 30)]"
      ]
     },
     "execution_count": 185,
     "metadata": {},
     "output_type": "execute_result"
    }
   ],
   "source": [
    "list(zip(s, mylist))"
   ]
  },
  {
   "cell_type": "code",
   "execution_count": 186,
   "metadata": {
    "scrolled": true
   },
   "outputs": [
    {
     "name": "stdout",
     "output_type": "stream",
     "text": [
      "('a', 10)\n",
      "('b', 20)\n",
      "('c', 30)\n"
     ]
    }
   ],
   "source": [
    "for one_item in zip(s, mylist):\n",
    "    print(one_item)"
   ]
  },
  {
   "cell_type": "code",
   "execution_count": 188,
   "metadata": {},
   "outputs": [
    {
     "data": {
      "text/plain": [
       "[25, 16, 9, 4, 1, 0, 1, 4, 9, 16]"
      ]
     },
     "execution_count": 188,
     "metadata": {},
     "output_type": "execute_result"
    }
   ],
   "source": [
    "# list comprehension\n",
    "[one_number ** 2\n",
    " for one_number in range(-5, 5)]"
   ]
  },
  {
   "cell_type": "code",
   "execution_count": 189,
   "metadata": {},
   "outputs": [
    {
     "data": {
      "text/plain": [
       "{0, 1, 4, 9, 16, 25}"
      ]
     },
     "execution_count": 189,
     "metadata": {},
     "output_type": "execute_result"
    }
   ],
   "source": [
    "# set comprehension\n",
    "{one_number ** 2\n",
    " for one_number in range(-5, 5)}"
   ]
  },
  {
   "cell_type": "code",
   "execution_count": 190,
   "metadata": {},
   "outputs": [
    {
     "data": {
      "text/plain": [
       "{-5: 25, -4: 16, -3: 9, -2: 4, -1: 1, 0: 0, 1: 1, 2: 4, 3: 9, 4: 16}"
      ]
     },
     "execution_count": 190,
     "metadata": {},
     "output_type": "execute_result"
    }
   ],
   "source": [
    "# dict comprehension\n",
    "{one_number : one_number ** 2\n",
    " for one_number in range(-5, 5)}"
   ]
  },
  {
   "cell_type": "code",
   "execution_count": 192,
   "metadata": {},
   "outputs": [
    {
     "data": {
      "text/plain": [
       "<generator object <genexpr> at 0x10ce47270>"
      ]
     },
     "execution_count": 192,
     "metadata": {},
     "output_type": "execute_result"
    }
   ],
   "source": [
    "# generator comprehension / generator expression\n",
    "(one_number ** 2\n",
    " for one_number in range(-5, 5))"
   ]
  },
  {
   "cell_type": "code",
   "execution_count": 193,
   "metadata": {},
   "outputs": [],
   "source": [
    "g = (one_number ** 2\n",
    " for one_number in range(-5, 5))"
   ]
  },
  {
   "cell_type": "code",
   "execution_count": 194,
   "metadata": {},
   "outputs": [
    {
     "data": {
      "text/plain": [
       "25"
      ]
     },
     "execution_count": 194,
     "metadata": {},
     "output_type": "execute_result"
    }
   ],
   "source": [
    "\n",
    "next(g)"
   ]
  },
  {
   "cell_type": "code",
   "execution_count": 195,
   "metadata": {},
   "outputs": [
    {
     "data": {
      "text/plain": [
       "16"
      ]
     },
     "execution_count": 195,
     "metadata": {},
     "output_type": "execute_result"
    }
   ],
   "source": [
    "next(g)"
   ]
  },
  {
   "cell_type": "code",
   "execution_count": 196,
   "metadata": {},
   "outputs": [
    {
     "data": {
      "text/plain": [
       "9"
      ]
     },
     "execution_count": 196,
     "metadata": {},
     "output_type": "execute_result"
    }
   ],
   "source": [
    "next(g)"
   ]
  },
  {
   "cell_type": "code",
   "execution_count": 197,
   "metadata": {},
   "outputs": [],
   "source": [
    "g = ((one_number, one_number ** 2)\n",
    " for one_number in range(-5, 5))"
   ]
  },
  {
   "cell_type": "code",
   "execution_count": 199,
   "metadata": {},
   "outputs": [
    {
     "data": {
      "text/plain": [
       "(-5, 25)"
      ]
     },
     "execution_count": 199,
     "metadata": {},
     "output_type": "execute_result"
    }
   ],
   "source": [
    "next(g)"
   ]
  },
  {
   "cell_type": "code",
   "execution_count": 200,
   "metadata": {},
   "outputs": [
    {
     "data": {
      "text/plain": [
       "{'a': 4, 'b': 2, 'c': 3}"
      ]
     },
     "execution_count": 200,
     "metadata": {},
     "output_type": "execute_result"
    }
   ],
   "source": [
    "{'a':1, 'b':2,'c':3, 'a':4}"
   ]
  },
  {
   "cell_type": "code",
   "execution_count": 201,
   "metadata": {},
   "outputs": [
    {
     "data": {
      "text/plain": [
       "'abc*def*ghi'"
      ]
     },
     "execution_count": 201,
     "metadata": {},
     "output_type": "execute_result"
    }
   ],
   "source": [
    "mylist = ['abc', 'def', 'ghi']\n",
    "\n",
    "'*'.join(mylist)"
   ]
  },
  {
   "cell_type": "code",
   "execution_count": 202,
   "metadata": {},
   "outputs": [
    {
     "ename": "TypeError",
     "evalue": "sequence item 0: expected str instance, int found",
     "output_type": "error",
     "traceback": [
      "\u001b[0;31m---------------------------------------------------------------------------\u001b[0m",
      "\u001b[0;31mTypeError\u001b[0m                                 Traceback (most recent call last)",
      "\u001b[0;32m<ipython-input-202-9c4a6762defa>\u001b[0m in \u001b[0;36m<module>\u001b[0;34m\u001b[0m\n\u001b[1;32m      1\u001b[0m \u001b[0mmylist\u001b[0m \u001b[0;34m=\u001b[0m \u001b[0;34m[\u001b[0m\u001b[0;36m100\u001b[0m\u001b[0;34m,\u001b[0m \u001b[0;36m200\u001b[0m\u001b[0;34m,\u001b[0m \u001b[0;36m300\u001b[0m\u001b[0;34m]\u001b[0m\u001b[0;34m\u001b[0m\u001b[0;34m\u001b[0m\u001b[0m\n\u001b[1;32m      2\u001b[0m \u001b[0;34m\u001b[0m\u001b[0m\n\u001b[0;32m----> 3\u001b[0;31m \u001b[0;34m'*'\u001b[0m\u001b[0;34m.\u001b[0m\u001b[0mjoin\u001b[0m\u001b[0;34m(\u001b[0m\u001b[0mmylist\u001b[0m\u001b[0;34m)\u001b[0m\u001b[0;34m\u001b[0m\u001b[0;34m\u001b[0m\u001b[0m\n\u001b[0m",
      "\u001b[0;31mTypeError\u001b[0m: sequence item 0: expected str instance, int found"
     ]
    }
   ],
   "source": [
    "mylist = [100, 200, 300]\n",
    "\n",
    "'*'.join(mylist)"
   ]
  },
  {
   "cell_type": "code",
   "execution_count": 203,
   "metadata": {},
   "outputs": [
    {
     "data": {
      "text/plain": [
       "'100*200*300'"
      ]
     },
     "execution_count": 203,
     "metadata": {},
     "output_type": "execute_result"
    }
   ],
   "source": [
    "mylist = [100, 200, 300]\n",
    "\n",
    "'*'.join([str(x)\n",
    "          for x in mylist])"
   ]
  },
  {
   "cell_type": "code",
   "execution_count": 204,
   "metadata": {},
   "outputs": [
    {
     "data": {
      "text/plain": [
       "'100*200*300'"
      ]
     },
     "execution_count": 204,
     "metadata": {},
     "output_type": "execute_result"
    }
   ],
   "source": [
    "mylist = [100, 200, 300]\n",
    "\n",
    "# we can use a generator comprehension here!\n",
    "'*'.join((str(x)\n",
    "          for x in mylist))"
   ]
  },
  {
   "cell_type": "code",
   "execution_count": 205,
   "metadata": {},
   "outputs": [
    {
     "data": {
      "text/plain": [
       "'100*200*300'"
      ]
     },
     "execution_count": 205,
     "metadata": {},
     "output_type": "execute_result"
    }
   ],
   "source": [
    "mylist = [100, 200, 300]\n",
    "\n",
    "# we can use a generator comprehension here!\n",
    "# when you have double parentheses... you can just drop one pair\n",
    "'*'.join(str(x)\n",
    "         for x in mylist)"
   ]
  },
  {
   "cell_type": "code",
   "execution_count": 206,
   "metadata": {},
   "outputs": [],
   "source": [
    "def read_n(filename, n):\n",
    "    with open(filename) as f:\n",
    "        while True:\n",
    "            output = ''.join(f.readline()\n",
    "                              for i in range(n))\n",
    "\n",
    "            if not output:\n",
    "                break\n",
    "\n",
    "            yield output"
   ]
  },
  {
   "cell_type": "code",
   "execution_count": 207,
   "metadata": {},
   "outputs": [
    {
     "data": {
      "text/plain": [
       "['R', 'e', 'u', 'v', 'e', 'n']"
      ]
     },
     "execution_count": 207,
     "metadata": {},
     "output_type": "execute_result"
    }
   ],
   "source": [
    "class Person:\n",
    "    def __init__(self, name):\n",
    "        self.name = name\n",
    "        \n",
    "    def name_letters(self):\n",
    "        return list(self.name)\n",
    "    \n",
    "p = Person('Reuven')\n",
    "p.name_letters()"
   ]
  },
  {
   "cell_type": "code",
   "execution_count": 210,
   "metadata": {},
   "outputs": [],
   "source": [
    "class Person:\n",
    "    def __init__(self, name):\n",
    "        self.name = name\n",
    "        \n",
    "    def name_letters(self):\n",
    "        for one_letter in self.name:\n",
    "            yield one_letter\n",
    "    \n",
    "p = Person('Reuven')\n",
    "g = p.name_letters()"
   ]
  },
  {
   "cell_type": "code",
   "execution_count": 211,
   "metadata": {},
   "outputs": [
    {
     "name": "stdout",
     "output_type": "stream",
     "text": [
      "R\n",
      "e\n",
      "u\n",
      "v\n",
      "e\n",
      "n\n"
     ]
    }
   ],
   "source": [
    "for one_item in g:\n",
    "    print(one_item)"
   ]
  },
  {
   "cell_type": "code",
   "execution_count": 212,
   "metadata": {},
   "outputs": [],
   "source": [
    "class Person:\n",
    "    def __init__(self, name):\n",
    "        self.name = name\n",
    "        \n",
    "    def name_letters(self):\n",
    "        return (one_letter\n",
    "                for one_letter in self.name)\n",
    "    \n",
    "p = Person('Reuven')\n",
    "g = p.name_letters()"
   ]
  },
  {
   "cell_type": "code",
   "execution_count": 213,
   "metadata": {},
   "outputs": [
    {
     "name": "stdout",
     "output_type": "stream",
     "text": [
      "R\n",
      "e\n",
      "u\n",
      "v\n",
      "e\n",
      "n\n"
     ]
    }
   ],
   "source": [
    "for one_item in g:\n",
    "    print(one_item)"
   ]
  },
  {
   "cell_type": "markdown",
   "metadata": {},
   "source": [
    "# Exercise: Total word lengths\n",
    "\n",
    "Use a generator expression to return the lengths of all words in a file.  You should \n",
    "be able to pass the expression to `sum` and get the lengths of all of those words.\n",
    "(We'll consider \"words\" to be things separated by whitesepace.)"
   ]
  },
  {
   "cell_type": "code",
   "execution_count": 214,
   "metadata": {},
   "outputs": [
    {
     "data": {
      "text/plain": [
       "3"
      ]
     },
     "execution_count": 214,
     "metadata": {},
     "output_type": "execute_result"
    }
   ],
   "source": [
    "sum(x for x in range(3))"
   ]
  },
  {
   "cell_type": "code",
   "execution_count": 218,
   "metadata": {},
   "outputs": [
    {
     "data": {
      "text/plain": [
       "7256"
      ]
     },
     "execution_count": 218,
     "metadata": {},
     "output_type": "execute_result"
    }
   ],
   "source": [
    "sum(len(one_word)\n",
    " for one_line in open('/etc/passwd')\n",
    " for one_word in one_line.split())"
   ]
  },
  {
   "cell_type": "code",
   "execution_count": 219,
   "metadata": {},
   "outputs": [
    {
     "data": {
      "text/plain": [
       "1526753"
      ]
     },
     "execution_count": 219,
     "metadata": {},
     "output_type": "execute_result"
    }
   ],
   "source": [
    "sum(len(one_word)\n",
    " for one_line in open('taxi.csv')\n",
    " for one_word in one_line.split())"
   ]
  },
  {
   "cell_type": "code",
   "execution_count": 224,
   "metadata": {},
   "outputs": [],
   "source": [
    "def word_lengths_g(filename):\n",
    "    return (len(one_word)\n",
    "     for one_line in open(filename)\n",
    "     for one_word in one_line.split())"
   ]
  },
  {
   "cell_type": "code",
   "execution_count": 225,
   "metadata": {},
   "outputs": [],
   "source": [
    "def word_lengths_i(filename):\n",
    "    word_lengths = []\n",
    "    for one_line in open(filename):\n",
    "        for one_word in one_line.split():\n",
    "            word_lengths.append(len(one_word))\n",
    "    return word_lengths\n",
    "            "
   ]
  },
  {
   "cell_type": "code",
   "execution_count": 226,
   "metadata": {},
   "outputs": [
    {
     "data": {
      "text/plain": [
       "1526753"
      ]
     },
     "execution_count": 226,
     "metadata": {},
     "output_type": "execute_result"
    }
   ],
   "source": [
    "sum(word_lengths_g('taxi.csv'))"
   ]
  },
  {
   "cell_type": "code",
   "execution_count": 227,
   "metadata": {},
   "outputs": [
    {
     "data": {
      "text/plain": [
       "1526753"
      ]
     },
     "execution_count": 227,
     "metadata": {},
     "output_type": "execute_result"
    }
   ],
   "source": [
    "sum(word_lengths_i('taxi.csv'))"
   ]
  },
  {
   "cell_type": "code",
   "execution_count": 228,
   "metadata": {},
   "outputs": [
    {
     "name": "stdout",
     "output_type": "stream",
     "text": [
      "47 µs ± 500 ns per loop (mean ± std. dev. of 7 runs, 10000 loops each)\n"
     ]
    }
   ],
   "source": [
    "%timeit word_lengths_g('taxi.csv')"
   ]
  },
  {
   "cell_type": "code",
   "execution_count": 229,
   "metadata": {},
   "outputs": [
    {
     "name": "stdout",
     "output_type": "stream",
     "text": [
      "15.8 ms ± 112 µs per loop (mean ± std. dev. of 7 runs, 100 loops each)\n"
     ]
    }
   ],
   "source": [
    "%timeit word_lengths_i('taxi.csv')"
   ]
  },
  {
   "cell_type": "code",
   "execution_count": 230,
   "metadata": {},
   "outputs": [
    {
     "name": "stdout",
     "output_type": "stream",
     "text": [
      "14.2 ms ± 137 µs per loop (mean ± std. dev. of 7 runs, 100 loops each)\n"
     ]
    }
   ],
   "source": [
    "%timeit sum(word_lengths_g('taxi.csv'))"
   ]
  },
  {
   "cell_type": "code",
   "execution_count": 231,
   "metadata": {},
   "outputs": [
    {
     "name": "stdout",
     "output_type": "stream",
     "text": [
      "15.2 ms ± 460 µs per loop (mean ± std. dev. of 7 runs, 100 loops each)\n"
     ]
    }
   ],
   "source": [
    "%timeit sum(word_lengths_i('taxi.csv'))"
   ]
  },
  {
   "cell_type": "markdown",
   "metadata": {},
   "source": [
    "# Decorators"
   ]
  },
  {
   "cell_type": "code",
   "execution_count": 232,
   "metadata": {},
   "outputs": [
    {
     "name": "stdout",
     "output_type": "stream",
     "text": [
      "Hello from A!\n",
      "Hello from B!\n"
     ]
    }
   ],
   "source": [
    "def a():\n",
    "    return 'Hello from A!'\n",
    "\n",
    "def b():\n",
    "    return 'Hello from B!'\n",
    "\n",
    "print(a())\n",
    "print(b())"
   ]
  },
  {
   "cell_type": "code",
   "execution_count": 233,
   "metadata": {},
   "outputs": [
    {
     "name": "stdout",
     "output_type": "stream",
     "text": [
      "------------------------------------------------------------\n",
      "Hello from A!\n",
      "------------------------------------------------------------\n",
      "\n",
      "------------------------------------------------------------\n",
      "Hello from B!\n",
      "------------------------------------------------------------\n",
      "\n"
     ]
    }
   ],
   "source": [
    "lines = '-' * 60 + '\\n'\n",
    "\n",
    "def a():\n",
    "    return f'{lines}Hello from A!\\n{lines}'\n",
    "\n",
    "def b():\n",
    "    return f'{lines}Hello from B!\\n{lines}'\n",
    "\n",
    "print(a())\n",
    "print(b())"
   ]
  },
  {
   "cell_type": "markdown",
   "metadata": {},
   "source": [
    "DRY -- don't repeat yourself\n",
    "\n",
    "- if code repeats itself in one area of a program, we can use a loop\n",
    "- if code repeats itself in different areas of a program, we can use a function\n",
    "- if code repeats itself across multiple programs, we can use a module\n",
    "- if code repeats itself *inside* of a function..."
   ]
  },
  {
   "cell_type": "code",
   "execution_count": 234,
   "metadata": {},
   "outputs": [
    {
     "name": "stdout",
     "output_type": "stream",
     "text": [
      "------------------------------------------------------------\n",
      "Hello from A!\n",
      "------------------------------------------------------------\n",
      "\n",
      "------------------------------------------------------------\n",
      "Hello from B!\n",
      "------------------------------------------------------------\n",
      "\n"
     ]
    }
   ],
   "source": [
    "lines = '-' * 60 + '\\n'\n",
    "\n",
    "def with_lines(func):\n",
    "    return f'{lines}{func()}{lines}'\n",
    "\n",
    "def a():\n",
    "    return f'Hello from A!\\n'\n",
    "\n",
    "def b():\n",
    "    return f'Hello from B!\\n'\n",
    "\n",
    "print(with_lines(a))\n",
    "print(with_lines(b))"
   ]
  },
  {
   "cell_type": "code",
   "execution_count": 235,
   "metadata": {},
   "outputs": [
    {
     "name": "stdout",
     "output_type": "stream",
     "text": [
      "------------------------------------------------------------\n",
      "Hello from A!\n",
      "------------------------------------------------------------\n",
      "\n",
      "------------------------------------------------------------\n",
      "Hello from B!\n",
      "------------------------------------------------------------\n",
      "\n"
     ]
    }
   ],
   "source": [
    "lines = '-' * 60 + '\\n'\n",
    "\n",
    "def with_lines(func):\n",
    "    def wrapper():\n",
    "        return f'{lines}{func()}{lines}'\n",
    "    return wrapper\n",
    "\n",
    "def a():\n",
    "    return f'Hello from A!\\n'\n",
    "a_with_lines = with_lines(a)\n",
    "\n",
    "def b():\n",
    "    return f'Hello from B!\\n'\n",
    "b_with_lines = with_lines(b)\n",
    "\n",
    "print(a_with_lines())\n",
    "print(b_with_lines())"
   ]
  },
  {
   "cell_type": "code",
   "execution_count": 236,
   "metadata": {},
   "outputs": [
    {
     "name": "stdout",
     "output_type": "stream",
     "text": [
      "------------------------------------------------------------\n",
      "Hello from A!\n",
      "------------------------------------------------------------\n",
      "\n",
      "------------------------------------------------------------\n",
      "Hello from B!\n",
      "------------------------------------------------------------\n",
      "\n"
     ]
    }
   ],
   "source": [
    "lines = '-' * 60 + '\\n'\n",
    "\n",
    "def with_lines(func):\n",
    "    def wrapper():\n",
    "        return f'{lines}{func()}{lines}'\n",
    "    return wrapper\n",
    "\n",
    "def a():\n",
    "    return f'Hello from A!\\n'\n",
    "a = with_lines(a)\n",
    "\n",
    "def b():\n",
    "    return f'Hello from B!\\n'\n",
    "b = with_lines(b)\n",
    "\n",
    "print(a())\n",
    "print(b())"
   ]
  },
  {
   "cell_type": "code",
   "execution_count": 237,
   "metadata": {},
   "outputs": [
    {
     "name": "stdout",
     "output_type": "stream",
     "text": [
      "------------------------------------------------------------\n",
      "Hello from A!\n",
      "------------------------------------------------------------\n",
      "\n",
      "------------------------------------------------------------\n",
      "Hello from B!\n",
      "------------------------------------------------------------\n",
      "\n"
     ]
    }
   ],
   "source": [
    "lines = '-' * 60 + '\\n'\n",
    "\n",
    "def with_lines(func):\n",
    "    def wrapper():\n",
    "        return f'{lines}{func()}{lines}'\n",
    "    return wrapper\n",
    "\n",
    "@with_lines\n",
    "def a():\n",
    "    return f'Hello from A!\\n'\n",
    "# a = with_lines(a)\n",
    "\n",
    "@with_lines\n",
    "def b():\n",
    "    return f'Hello from B!\\n'\n",
    "# b = with_lines(b)\n",
    "\n",
    "print(a())\n",
    "print(b())"
   ]
  },
  {
   "cell_type": "markdown",
   "metadata": {},
   "source": [
    "A decorator is a callable that takes a callable as input and returns a callable as its output."
   ]
  },
  {
   "cell_type": "code",
   "execution_count": 240,
   "metadata": {},
   "outputs": [
    {
     "name": "stdout",
     "output_type": "stream",
     "text": [
      "------------------------------------------------------------\n",
      "Hello from A!\n",
      "------------------------------------------------------------\n",
      "\n",
      "------------------------------------------------------------\n",
      "Hello from B!\n",
      "------------------------------------------------------------\n",
      "\n",
      "------------------------------------------------------------\n",
      "13------------------------------------------------------------\n",
      "\n"
     ]
    }
   ],
   "source": [
    "lines = '-' * 60 + '\\n'\n",
    "\n",
    "def with_lines(func):  # decorator name, what's called in the @ line\n",
    "    def wrapper(*args, **kwargs):   # what's actually run when we execute the function\n",
    "        return f'{lines}{func(*args, **kwargs)}{lines}'\n",
    "    return wrapper   \n",
    "\n",
    "@with_lines\n",
    "def a():\n",
    "    return f'Hello from A!\\n'\n",
    "# a = with_lines(a)\n",
    "\n",
    "@with_lines\n",
    "def b():\n",
    "    return f'Hello from B!\\n'\n",
    "# b = with_lines(b)\n",
    "\n",
    "@with_lines\n",
    "def add(x, y):\n",
    "    return x + y\n",
    "# add = with_lines(add)\n",
    "\n",
    "print(a())\n",
    "print(b())\n",
    "print(add(10, 3))"
   ]
  },
  {
   "cell_type": "markdown",
   "metadata": {},
   "source": [
    "# Exercise: `timer` decorator\n",
    "\n",
    "1. Write a decorator, `timer`, which will run the decorated function and return the decorated function's value.  (It won't modify inputs or output for the function.)\n",
    "2. It will, however, also write to a file called `timings.txt`, which will have three columns in it (separated by tabs):\n",
    "    - function name (`.__name__` attribute)\n",
    "    - time when the function was run (seconds since 1 Jan 1970, from `time.time`)\n",
    "    - how long the function took to run (in seconds)\n",
    "\n",
    "You'll probably want to stick some `time.sleep` calls into your functions so that they take more than 0 seconds to run."
   ]
  },
  {
   "cell_type": "code",
   "execution_count": 241,
   "metadata": {},
   "outputs": [
    {
     "data": {
      "text/plain": [
       "1614252335.609809"
      ]
     },
     "execution_count": 241,
     "metadata": {},
     "output_type": "execute_result"
    }
   ],
   "source": [
    "import time\n",
    "time.time()"
   ]
  },
  {
   "cell_type": "code",
   "execution_count": 244,
   "metadata": {},
   "outputs": [
    {
     "name": "stdout",
     "output_type": "stream",
     "text": [
      "13\n",
      "40\n",
      "9\n",
      "16\n"
     ]
    }
   ],
   "source": [
    "import time\n",
    "import random\n",
    "\n",
    "def timer(func):\n",
    "    def wrapper(*args, **kwargs):\n",
    "        value = func(*args, **kwargs)\n",
    "        return value\n",
    "    return wrapper\n",
    "\n",
    "\n",
    "@timer\n",
    "def slow_add(x, y):\n",
    "    time.sleep(random.randint(0, 3))\n",
    "    return x + y\n",
    "\n",
    "@timer\n",
    "def slow_mul(x, y):\n",
    "    time.sleep(random.randint(0, 3))\n",
    "    return x * y\n",
    "\n",
    "print(slow_add(10, 3))\n",
    "print(slow_mul(10, 4))\n",
    "print(slow_add(6, 3))\n",
    "print(slow_mul(4, 4))"
   ]
  },
  {
   "cell_type": "code",
   "execution_count": null,
   "metadata": {},
   "outputs": [],
   "source": []
  }
 ],
 "metadata": {
  "kernelspec": {
   "display_name": "Python 3",
   "language": "python",
   "name": "python3"
  },
  "language_info": {
   "codemirror_mode": {
    "name": "ipython",
    "version": 3
   },
   "file_extension": ".py",
   "mimetype": "text/x-python",
   "name": "python",
   "nbconvert_exporter": "python",
   "pygments_lexer": "ipython3",
   "version": "3.9.2"
  }
 },
 "nbformat": 4,
 "nbformat_minor": 4
}
