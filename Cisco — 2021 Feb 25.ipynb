{
 "cells": [
  {
   "cell_type": "markdown",
   "metadata": {},
   "source": [
    "# Agenda\n",
    "\n",
    "1. The iterator protocol\n",
    "    - Adding iteration to your classes\n",
    "    - Different techniques for that\n",
    "2. Generator functions\n",
    "3. Generator comprehensions\n",
    "4. Decorators\n",
    "5. Threading and multiprocessing "
   ]
  },
  {
   "cell_type": "code",
   "execution_count": 1,
   "metadata": {},
   "outputs": [
    {
     "name": "stdout",
     "output_type": "stream",
     "text": [
      "Hello, name1!\n",
      "Hello, name2!\n"
     ]
    }
   ],
   "source": [
    "class Person:\n",
    "    def __init__(self, name):\n",
    "        self.name = name\n",
    "        \n",
    "    def greet(self):\n",
    "        return f'Hello, {self.name}!'\n",
    "        \n",
    "p1 = Person('name1')        \n",
    "p2 = Person('name2')\n",
    "\n",
    "print(p1.greet())\n",
    "print(p2.greet())"
   ]
  },
  {
   "cell_type": "code",
   "execution_count": 2,
   "metadata": {},
   "outputs": [],
   "source": [
    "import weakref"
   ]
  },
  {
   "cell_type": "code",
   "execution_count": 3,
   "metadata": {},
   "outputs": [],
   "source": [
    "p3 = weakref.ref(p2)\n"
   ]
  },
  {
   "cell_type": "code",
   "execution_count": 4,
   "metadata": {},
   "outputs": [
    {
     "data": {
      "text/plain": [
       "<weakref at 0x10c289310; to 'Person' at 0x10c2874c0>"
      ]
     },
     "execution_count": 4,
     "metadata": {},
     "output_type": "execute_result"
    }
   ],
   "source": [
    "p3"
   ]
  },
  {
   "cell_type": "code",
   "execution_count": 5,
   "metadata": {},
   "outputs": [
    {
     "ename": "AttributeError",
     "evalue": "'weakref' object has no attribute 'ref'",
     "output_type": "error",
     "traceback": [
      "\u001b[0;31m---------------------------------------------------------------------------\u001b[0m",
      "\u001b[0;31mAttributeError\u001b[0m                            Traceback (most recent call last)",
      "\u001b[0;32m<ipython-input-5-f760b8ba5218>\u001b[0m in \u001b[0;36m<module>\u001b[0;34m\u001b[0m\n\u001b[0;32m----> 1\u001b[0;31m \u001b[0mp3\u001b[0m\u001b[0;34m.\u001b[0m\u001b[0mref\u001b[0m\u001b[0;34m\u001b[0m\u001b[0;34m\u001b[0m\u001b[0m\n\u001b[0m",
      "\u001b[0;31mAttributeError\u001b[0m: 'weakref' object has no attribute 'ref'"
     ]
    }
   ],
   "source": [
    "p3.ref"
   ]
  },
  {
   "cell_type": "code",
   "execution_count": 7,
   "metadata": {},
   "outputs": [],
   "source": [
    "w = weakref.ref(Person('name10'))"
   ]
  },
  {
   "cell_type": "code",
   "execution_count": 8,
   "metadata": {},
   "outputs": [
    {
     "data": {
      "text/plain": [
       "<weakref at 0x10b2aabd0; dead>"
      ]
     },
     "execution_count": 8,
     "metadata": {},
     "output_type": "execute_result"
    }
   ],
   "source": [
    "w"
   ]
  },
  {
   "cell_type": "code",
   "execution_count": 9,
   "metadata": {},
   "outputs": [
    {
     "data": {
      "text/plain": [
       "weakref"
      ]
     },
     "execution_count": 9,
     "metadata": {},
     "output_type": "execute_result"
    }
   ],
   "source": [
    "type(w)"
   ]
  },
  {
   "cell_type": "code",
   "execution_count": 10,
   "metadata": {},
   "outputs": [
    {
     "data": {
      "text/plain": [
       "['__call__',\n",
       " '__callback__',\n",
       " '__class__',\n",
       " '__class_getitem__',\n",
       " '__delattr__',\n",
       " '__dir__',\n",
       " '__doc__',\n",
       " '__eq__',\n",
       " '__format__',\n",
       " '__ge__',\n",
       " '__getattribute__',\n",
       " '__gt__',\n",
       " '__hash__',\n",
       " '__init__',\n",
       " '__init_subclass__',\n",
       " '__le__',\n",
       " '__lt__',\n",
       " '__ne__',\n",
       " '__new__',\n",
       " '__reduce__',\n",
       " '__reduce_ex__',\n",
       " '__repr__',\n",
       " '__setattr__',\n",
       " '__sizeof__',\n",
       " '__str__',\n",
       " '__subclasshook__']"
      ]
     },
     "execution_count": 10,
     "metadata": {},
     "output_type": "execute_result"
    }
   ],
   "source": [
    "dir(w)"
   ]
  },
  {
   "cell_type": "code",
   "execution_count": 11,
   "metadata": {},
   "outputs": [],
   "source": [
    "p3 = weakref.ref(p2)\n"
   ]
  },
  {
   "cell_type": "code",
   "execution_count": 13,
   "metadata": {},
   "outputs": [
    {
     "data": {
      "text/plain": [
       "<weakref at 0x10c289310; to 'Person' at 0x10c2874c0>"
      ]
     },
     "execution_count": 13,
     "metadata": {},
     "output_type": "execute_result"
    }
   ],
   "source": [
    "p3"
   ]
  },
  {
   "cell_type": "code",
   "execution_count": 14,
   "metadata": {},
   "outputs": [],
   "source": [
    "p1 = Person('name1')\n",
    "p2 = Person('name2')\n",
    "\n",
    "all_people = {1: p1, 2: p2}"
   ]
  },
  {
   "cell_type": "code",
   "execution_count": 15,
   "metadata": {},
   "outputs": [],
   "source": [
    "del(p1)"
   ]
  },
  {
   "cell_type": "code",
   "execution_count": 16,
   "metadata": {},
   "outputs": [
    {
     "data": {
      "text/plain": [
       "2"
      ]
     },
     "execution_count": 16,
     "metadata": {},
     "output_type": "execute_result"
    }
   ],
   "source": [
    "len(all_people)"
   ]
  },
  {
   "cell_type": "code",
   "execution_count": 17,
   "metadata": {},
   "outputs": [],
   "source": [
    "p1 = Person('name1')\n",
    "p2 = Person('name2')\n",
    "\n",
    "all_people = weakref.WeakValueDictionary()\n",
    "\n",
    "all_people[1] = p1\n",
    "all_people[2] = p2"
   ]
  },
  {
   "cell_type": "code",
   "execution_count": 18,
   "metadata": {},
   "outputs": [
    {
     "data": {
      "text/plain": [
       "<WeakValueDictionary at 0x10c287490>"
      ]
     },
     "execution_count": 18,
     "metadata": {},
     "output_type": "execute_result"
    }
   ],
   "source": [
    "all_people"
   ]
  },
  {
   "cell_type": "code",
   "execution_count": 20,
   "metadata": {},
   "outputs": [
    {
     "data": {
      "text/plain": [
       "[(1, <__main__.Person at 0x10c263760>), (2, <__main__.Person at 0x10c2636a0>)]"
      ]
     },
     "execution_count": 20,
     "metadata": {},
     "output_type": "execute_result"
    }
   ],
   "source": [
    "list(all_people.items())"
   ]
  },
  {
   "cell_type": "code",
   "execution_count": 21,
   "metadata": {},
   "outputs": [
    {
     "data": {
      "text/plain": [
       "2"
      ]
     },
     "execution_count": 21,
     "metadata": {},
     "output_type": "execute_result"
    }
   ],
   "source": [
    "len(all_people)"
   ]
  },
  {
   "cell_type": "code",
   "execution_count": 22,
   "metadata": {},
   "outputs": [],
   "source": [
    "del(p1)"
   ]
  },
  {
   "cell_type": "code",
   "execution_count": 23,
   "metadata": {},
   "outputs": [
    {
     "data": {
      "text/plain": [
       "2"
      ]
     },
     "execution_count": 23,
     "metadata": {},
     "output_type": "execute_result"
    }
   ],
   "source": [
    "len(all_people)"
   ]
  },
  {
   "cell_type": "code",
   "execution_count": 24,
   "metadata": {},
   "outputs": [
    {
     "data": {
      "text/plain": [
       "2"
      ]
     },
     "execution_count": 24,
     "metadata": {},
     "output_type": "execute_result"
    }
   ],
   "source": [
    "len(all_people)"
   ]
  },
  {
   "cell_type": "code",
   "execution_count": 25,
   "metadata": {},
   "outputs": [
    {
     "data": {
      "text/plain": [
       "[(1, <__main__.Person at 0x10c263760>), (2, <__main__.Person at 0x10c2636a0>)]"
      ]
     },
     "execution_count": 25,
     "metadata": {},
     "output_type": "execute_result"
    }
   ],
   "source": [
    "list(all_people.items())"
   ]
  },
  {
   "cell_type": "code",
   "execution_count": 30,
   "metadata": {},
   "outputs": [],
   "source": [
    "p1 = Person('name1')\n",
    "p2 = Person('name2')\n",
    "\n",
    "all_people = weakref.WeakValueDictionary()\n",
    "\n",
    "all_people[1] = p1\n",
    "all_people[2] = p2"
   ]
  },
  {
   "cell_type": "code",
   "execution_count": 31,
   "metadata": {},
   "outputs": [],
   "source": [
    "del(p1)"
   ]
  },
  {
   "cell_type": "code",
   "execution_count": 32,
   "metadata": {},
   "outputs": [
    {
     "data": {
      "text/plain": [
       "1"
      ]
     },
     "execution_count": 32,
     "metadata": {},
     "output_type": "execute_result"
    }
   ],
   "source": [
    "len(all_people)"
   ]
  },
  {
   "cell_type": "code",
   "execution_count": 33,
   "metadata": {},
   "outputs": [],
   "source": [
    "del(p2)"
   ]
  },
  {
   "cell_type": "code",
   "execution_count": 34,
   "metadata": {},
   "outputs": [
    {
     "data": {
      "text/plain": [
       "0"
      ]
     },
     "execution_count": 34,
     "metadata": {},
     "output_type": "execute_result"
    }
   ],
   "source": [
    "len(all_people)"
   ]
  },
  {
   "cell_type": "markdown",
   "metadata": {},
   "source": [
    "# Iterator protocol"
   ]
  },
  {
   "cell_type": "code",
   "execution_count": 35,
   "metadata": {},
   "outputs": [
    {
     "name": "stdout",
     "output_type": "stream",
     "text": [
      "a\n",
      "b\n",
      "c\n",
      "d\n",
      "e\n"
     ]
    }
   ],
   "source": [
    "s = 'abcde'\n",
    "\n",
    "for one_character in s:\n",
    "    print(one_character)"
   ]
  },
  {
   "cell_type": "markdown",
   "metadata": {},
   "source": [
    "# Protocol\n",
    "\n",
    "1. Ask an object if it's iterable (`iter`)\n",
    "    - Returns an iterator object if it is iterable\n",
    "    - Raises an exception if it's not iterable\n",
    "2. Ask the iterator we got back for its next item (`next`)\n",
    "3. Each time we call `next`, we'll get an object\n",
    "4. When we reach the end of the iteration, we get... the `StopIteration` exception"
   ]
  },
  {
   "cell_type": "code",
   "execution_count": 36,
   "metadata": {},
   "outputs": [
    {
     "data": {
      "text/plain": [
       "<str_iterator at 0x10c2877c0>"
      ]
     },
     "execution_count": 36,
     "metadata": {},
     "output_type": "execute_result"
    }
   ],
   "source": [
    "iter(s)"
   ]
  },
  {
   "cell_type": "code",
   "execution_count": 37,
   "metadata": {},
   "outputs": [
    {
     "data": {
      "text/plain": [
       "<str_iterator at 0x10c287c10>"
      ]
     },
     "execution_count": 37,
     "metadata": {},
     "output_type": "execute_result"
    }
   ],
   "source": [
    "iter(s)"
   ]
  },
  {
   "cell_type": "code",
   "execution_count": 38,
   "metadata": {},
   "outputs": [
    {
     "data": {
      "text/plain": [
       "<str_iterator at 0x10c263eb0>"
      ]
     },
     "execution_count": 38,
     "metadata": {},
     "output_type": "execute_result"
    }
   ],
   "source": [
    "iter(s)"
   ]
  },
  {
   "cell_type": "code",
   "execution_count": 39,
   "metadata": {},
   "outputs": [],
   "source": [
    "i = iter(s)  # store the string iterator in \"i\""
   ]
  },
  {
   "cell_type": "code",
   "execution_count": 40,
   "metadata": {},
   "outputs": [
    {
     "data": {
      "text/plain": [
       "'a'"
      ]
     },
     "execution_count": 40,
     "metadata": {},
     "output_type": "execute_result"
    }
   ],
   "source": [
    "next(i)"
   ]
  },
  {
   "cell_type": "code",
   "execution_count": 41,
   "metadata": {},
   "outputs": [
    {
     "data": {
      "text/plain": [
       "'b'"
      ]
     },
     "execution_count": 41,
     "metadata": {},
     "output_type": "execute_result"
    }
   ],
   "source": [
    "next(i)"
   ]
  },
  {
   "cell_type": "code",
   "execution_count": 42,
   "metadata": {},
   "outputs": [
    {
     "data": {
      "text/plain": [
       "'c'"
      ]
     },
     "execution_count": 42,
     "metadata": {},
     "output_type": "execute_result"
    }
   ],
   "source": [
    "next(i)"
   ]
  },
  {
   "cell_type": "code",
   "execution_count": 43,
   "metadata": {},
   "outputs": [
    {
     "data": {
      "text/plain": [
       "'d'"
      ]
     },
     "execution_count": 43,
     "metadata": {},
     "output_type": "execute_result"
    }
   ],
   "source": [
    "next(i)"
   ]
  },
  {
   "cell_type": "code",
   "execution_count": 44,
   "metadata": {},
   "outputs": [
    {
     "data": {
      "text/plain": [
       "'e'"
      ]
     },
     "execution_count": 44,
     "metadata": {},
     "output_type": "execute_result"
    }
   ],
   "source": [
    "next(i)"
   ]
  },
  {
   "cell_type": "code",
   "execution_count": 45,
   "metadata": {},
   "outputs": [
    {
     "ename": "StopIteration",
     "evalue": "",
     "output_type": "error",
     "traceback": [
      "\u001b[0;31m---------------------------------------------------------------------------\u001b[0m",
      "\u001b[0;31mStopIteration\u001b[0m                             Traceback (most recent call last)",
      "\u001b[0;32m<ipython-input-45-a883b34d6d8a>\u001b[0m in \u001b[0;36m<module>\u001b[0;34m\u001b[0m\n\u001b[0;32m----> 1\u001b[0;31m \u001b[0mnext\u001b[0m\u001b[0;34m(\u001b[0m\u001b[0mi\u001b[0m\u001b[0;34m)\u001b[0m\u001b[0;34m\u001b[0m\u001b[0;34m\u001b[0m\u001b[0m\n\u001b[0m",
      "\u001b[0;31mStopIteration\u001b[0m: "
     ]
    }
   ],
   "source": [
    "next(i)"
   ]
  },
  {
   "cell_type": "code",
   "execution_count": 46,
   "metadata": {},
   "outputs": [
    {
     "ename": "TypeError",
     "evalue": "'int' object is not iterable",
     "output_type": "error",
     "traceback": [
      "\u001b[0;31m---------------------------------------------------------------------------\u001b[0m",
      "\u001b[0;31mTypeError\u001b[0m                                 Traceback (most recent call last)",
      "\u001b[0;32m<ipython-input-46-665a8c31cf25>\u001b[0m in \u001b[0;36m<module>\u001b[0;34m\u001b[0m\n\u001b[0;32m----> 1\u001b[0;31m \u001b[0;32mfor\u001b[0m \u001b[0mi\u001b[0m \u001b[0;32min\u001b[0m \u001b[0;36m10\u001b[0m\u001b[0;34m:\u001b[0m\u001b[0;34m\u001b[0m\u001b[0;34m\u001b[0m\u001b[0m\n\u001b[0m\u001b[1;32m      2\u001b[0m     \u001b[0mprint\u001b[0m\u001b[0;34m(\u001b[0m\u001b[0mi\u001b[0m\u001b[0;34m)\u001b[0m\u001b[0;34m\u001b[0m\u001b[0;34m\u001b[0m\u001b[0m\n",
      "\u001b[0;31mTypeError\u001b[0m: 'int' object is not iterable"
     ]
    }
   ],
   "source": [
    "for i in 10:\n",
    "    print(i)"
   ]
  },
  {
   "cell_type": "code",
   "execution_count": 47,
   "metadata": {},
   "outputs": [
    {
     "ename": "TypeError",
     "evalue": "'int' object is not iterable",
     "output_type": "error",
     "traceback": [
      "\u001b[0;31m---------------------------------------------------------------------------\u001b[0m",
      "\u001b[0;31mTypeError\u001b[0m                                 Traceback (most recent call last)",
      "\u001b[0;32m<ipython-input-47-39736a569192>\u001b[0m in \u001b[0;36m<module>\u001b[0;34m\u001b[0m\n\u001b[0;32m----> 1\u001b[0;31m \u001b[0miter\u001b[0m\u001b[0;34m(\u001b[0m\u001b[0;36m10\u001b[0m\u001b[0;34m)\u001b[0m\u001b[0;34m\u001b[0m\u001b[0;34m\u001b[0m\u001b[0m\n\u001b[0m",
      "\u001b[0;31mTypeError\u001b[0m: 'int' object is not iterable"
     ]
    }
   ],
   "source": [
    "iter(10)"
   ]
  },
  {
   "cell_type": "code",
   "execution_count": 55,
   "metadata": {},
   "outputs": [
    {
     "name": "stdout",
     "output_type": "stream",
     "text": [
      "Now in MyIterator.__init__ with data='abc'\n",
      "Now in MyIterator.__iter__\n",
      "Now entering MyIterator.__next__\n",
      "\tself.index=0, value='a'\n",
      "a\n",
      "Now entering MyIterator.__next__\n",
      "\tself.index=1, value='b'\n",
      "b\n",
      "Now entering MyIterator.__next__\n",
      "\tself.index=2, value='c'\n",
      "c\n",
      "Now entering MyIterator.__next__\n",
      "\tself.index=3, ending the loop\n"
     ]
    }
   ],
   "source": [
    "class MyIterator:\n",
    "    def __init__(self, data):\n",
    "        print(f'Now in MyIterator.__init__ with {data=}')\n",
    "        self.data = data\n",
    "        self.index = 0\n",
    "        \n",
    "    def __iter__(self):\n",
    "        print(f'Now in MyIterator.__iter__')\n",
    "        return self   # the object is its own iterator!\n",
    "    \n",
    "    def __next__(self):\n",
    "        print(f'Now entering MyIterator.__next__')\n",
    "        if self.index >= len(self.data):\n",
    "            print(f'\\t{self.index=}, ending the loop')\n",
    "            raise StopIteration\n",
    "            \n",
    "        value = self.data[self.index]\n",
    "        print(f'\\t{self.index=}, {value=}')\n",
    "        self.index += 1\n",
    "        return value\n",
    "\n",
    "m = MyIterator('abc')\n",
    "\n",
    "for one_item in m:\n",
    "    print(one_item)"
   ]
  },
  {
   "cell_type": "code",
   "execution_count": 51,
   "metadata": {},
   "outputs": [
    {
     "data": {
      "text/plain": [
       "True"
      ]
     },
     "execution_count": 51,
     "metadata": {},
     "output_type": "execute_result"
    }
   ],
   "source": [
    "f = open('/etc/passwd')\n",
    "\n",
    "iter(f) is f"
   ]
  },
  {
   "cell_type": "markdown",
   "metadata": {},
   "source": [
    "# Exercise: Circle\n",
    "\n",
    "1. Create a class, `Circle`, which takes two arguments:\n",
    "    - an iterable piece of data (`data`)\n",
    "    - an integer (`maxtimes`)\n",
    "2. If we run a `for` loop on an instance of `Circle`, we'll get `maxtimes` results back.\n",
    "3. The return values will come from `data`.\n",
    "    - If the number of elements in `data` is larger than `maxtimes`, then we'll just end after `maxtimes`, producing one value at a time.\n",
    "    - If the number of elements in `data` is smaller than `maxtimes`, then when we get to the end of the data, we'll come back to index 0 -- thus going around and around until we give the number of results indicated in `maxtimes`.\n",
    "    \n",
    "```python\n",
    "c = Circle('abc', 7)\n",
    "\n",
    "for one_item in c:\n",
    "    print(one_item)\n",
    "```\n",
    "\n",
    "```\n",
    "a\n",
    "b\n",
    "c\n",
    "a\n",
    "b\n",
    "c\n",
    "a\n",
    "```"
   ]
  },
  {
   "cell_type": "code",
   "execution_count": 57,
   "metadata": {},
   "outputs": [
    {
     "name": "stdout",
     "output_type": "stream",
     "text": [
      "a\n",
      "b\n",
      "c\n",
      "a\n",
      "b\n",
      "c\n",
      "a\n"
     ]
    }
   ],
   "source": [
    "class Circle:\n",
    "    def __init__(self, data, maxtimes):\n",
    "        self.data = data\n",
    "        self.maxtimes = maxtimes\n",
    "        self.index = 0\n",
    "        \n",
    "    def __iter__(self):\n",
    "        return self\n",
    "    \n",
    "    def __next__(self):\n",
    "        if self.index >= self.maxtimes:\n",
    "            raise StopIteration\n",
    "            \n",
    "        value = self.data[self.index % len(self.data)]\n",
    "        self.index += 1\n",
    "        return value\n",
    "    \n",
    "c = Circle('abc', 7)\n",
    "\n",
    "for one_item in c:\n",
    "    print(one_item)"
   ]
  },
  {
   "cell_type": "code",
   "execution_count": 58,
   "metadata": {},
   "outputs": [
    {
     "data": {
      "text/plain": [
       "0"
      ]
     },
     "execution_count": 58,
     "metadata": {},
     "output_type": "execute_result"
    }
   ],
   "source": [
    "0 % 3  # remainder from division of 0/3"
   ]
  },
  {
   "cell_type": "code",
   "execution_count": 59,
   "metadata": {},
   "outputs": [
    {
     "data": {
      "text/plain": [
       "1"
      ]
     },
     "execution_count": 59,
     "metadata": {},
     "output_type": "execute_result"
    }
   ],
   "source": [
    "1 % 3  # remainder from 1/3"
   ]
  },
  {
   "cell_type": "code",
   "execution_count": 60,
   "metadata": {},
   "outputs": [
    {
     "data": {
      "text/plain": [
       "2"
      ]
     },
     "execution_count": 60,
     "metadata": {},
     "output_type": "execute_result"
    }
   ],
   "source": [
    "2 % 3"
   ]
  },
  {
   "cell_type": "code",
   "execution_count": 61,
   "metadata": {},
   "outputs": [
    {
     "data": {
      "text/plain": [
       "0"
      ]
     },
     "execution_count": 61,
     "metadata": {},
     "output_type": "execute_result"
    }
   ],
   "source": [
    "3 % 3"
   ]
  },
  {
   "cell_type": "code",
   "execution_count": 62,
   "metadata": {},
   "outputs": [
    {
     "data": {
      "text/plain": [
       "1"
      ]
     },
     "execution_count": 62,
     "metadata": {},
     "output_type": "execute_result"
    }
   ],
   "source": [
    "4 % 3"
   ]
  },
  {
   "cell_type": "code",
   "execution_count": 63,
   "metadata": {},
   "outputs": [
    {
     "data": {
      "text/plain": [
       "2"
      ]
     },
     "execution_count": 63,
     "metadata": {},
     "output_type": "execute_result"
    }
   ],
   "source": [
    "5 % 3"
   ]
  },
  {
   "cell_type": "code",
   "execution_count": 64,
   "metadata": {},
   "outputs": [],
   "source": [
    "mylist = [10, 20, 30, 40, 50]\n",
    "\n",
    "i1 = iter(mylist)\n",
    "i2 = iter(mylist)"
   ]
  },
  {
   "cell_type": "code",
   "execution_count": 65,
   "metadata": {},
   "outputs": [
    {
     "data": {
      "text/plain": [
       "<list_iterator at 0x10ce068b0>"
      ]
     },
     "execution_count": 65,
     "metadata": {},
     "output_type": "execute_result"
    }
   ],
   "source": [
    "i1"
   ]
  },
  {
   "cell_type": "code",
   "execution_count": 66,
   "metadata": {},
   "outputs": [
    {
     "data": {
      "text/plain": [
       "<list_iterator at 0x10ce16160>"
      ]
     },
     "execution_count": 66,
     "metadata": {},
     "output_type": "execute_result"
    }
   ],
   "source": [
    "i2"
   ]
  },
  {
   "cell_type": "code",
   "execution_count": 67,
   "metadata": {},
   "outputs": [
    {
     "data": {
      "text/plain": [
       "10"
      ]
     },
     "execution_count": 67,
     "metadata": {},
     "output_type": "execute_result"
    }
   ],
   "source": [
    "next(i1)"
   ]
  },
  {
   "cell_type": "code",
   "execution_count": 68,
   "metadata": {},
   "outputs": [
    {
     "data": {
      "text/plain": [
       "10"
      ]
     },
     "execution_count": 68,
     "metadata": {},
     "output_type": "execute_result"
    }
   ],
   "source": [
    "next(i2)"
   ]
  },
  {
   "cell_type": "code",
   "execution_count": 69,
   "metadata": {},
   "outputs": [
    {
     "data": {
      "text/plain": [
       "20"
      ]
     },
     "execution_count": 69,
     "metadata": {},
     "output_type": "execute_result"
    }
   ],
   "source": [
    "next(i2)"
   ]
  },
  {
   "cell_type": "code",
   "execution_count": 71,
   "metadata": {},
   "outputs": [
    {
     "data": {
      "text/plain": [
       "30"
      ]
     },
     "execution_count": 71,
     "metadata": {},
     "output_type": "execute_result"
    }
   ],
   "source": [
    "next(i2)"
   ]
  },
  {
   "cell_type": "code",
   "execution_count": 72,
   "metadata": {},
   "outputs": [
    {
     "data": {
      "text/plain": [
       "20"
      ]
     },
     "execution_count": 72,
     "metadata": {},
     "output_type": "execute_result"
    }
   ],
   "source": [
    "next(i1)"
   ]
  },
  {
   "cell_type": "code",
   "execution_count": 74,
   "metadata": {},
   "outputs": [],
   "source": [
    "c = Circle('abc', 7)\n",
    "\n",
    "i1 = iter(c)\n",
    "i2 = iter(c)"
   ]
  },
  {
   "cell_type": "code",
   "execution_count": 75,
   "metadata": {},
   "outputs": [
    {
     "data": {
      "text/plain": [
       "'a'"
      ]
     },
     "execution_count": 75,
     "metadata": {},
     "output_type": "execute_result"
    }
   ],
   "source": [
    "next(i1)"
   ]
  },
  {
   "cell_type": "code",
   "execution_count": 76,
   "metadata": {},
   "outputs": [
    {
     "data": {
      "text/plain": [
       "'b'"
      ]
     },
     "execution_count": 76,
     "metadata": {},
     "output_type": "execute_result"
    }
   ],
   "source": [
    "next(i1)"
   ]
  },
  {
   "cell_type": "code",
   "execution_count": 77,
   "metadata": {},
   "outputs": [
    {
     "data": {
      "text/plain": [
       "'c'"
      ]
     },
     "execution_count": 77,
     "metadata": {},
     "output_type": "execute_result"
    }
   ],
   "source": [
    "next(i2)"
   ]
  },
  {
   "cell_type": "code",
   "execution_count": 78,
   "metadata": {},
   "outputs": [
    {
     "data": {
      "text/plain": [
       "'a'"
      ]
     },
     "execution_count": 78,
     "metadata": {},
     "output_type": "execute_result"
    }
   ],
   "source": [
    "next(i2)"
   ]
  },
  {
   "cell_type": "code",
   "execution_count": 79,
   "metadata": {},
   "outputs": [
    {
     "data": {
      "text/plain": [
       "'b'"
      ]
     },
     "execution_count": 79,
     "metadata": {},
     "output_type": "execute_result"
    }
   ],
   "source": [
    "next(i1)"
   ]
  },
  {
   "cell_type": "code",
   "execution_count": 80,
   "metadata": {},
   "outputs": [
    {
     "data": {
      "text/plain": [
       "True"
      ]
     },
     "execution_count": 80,
     "metadata": {},
     "output_type": "execute_result"
    }
   ],
   "source": [
    "i1 is i2"
   ]
  },
  {
   "cell_type": "code",
   "execution_count": 81,
   "metadata": {},
   "outputs": [
    {
     "data": {
      "text/plain": [
       "True"
      ]
     },
     "execution_count": 81,
     "metadata": {},
     "output_type": "execute_result"
    }
   ],
   "source": [
    "i1 is c"
   ]
  },
  {
   "cell_type": "code",
   "execution_count": 83,
   "metadata": {},
   "outputs": [
    {
     "name": "stdout",
     "output_type": "stream",
     "text": [
      "*** A ****\n",
      "a b c a b c a \n",
      "*** B ****\n"
     ]
    }
   ],
   "source": [
    "c = Circle('abc', 7)\n",
    "\n",
    "print('*** A ****')\n",
    "for one_item in c:\n",
    "    print(one_item, end= ' ')\n",
    "    \n",
    "print()\n",
    "\n",
    "print('*** B ****')\n",
    "for one_item in c:\n",
    "    print(one_item, end= ' ')\n"
   ]
  },
  {
   "cell_type": "code",
   "execution_count": 88,
   "metadata": {},
   "outputs": [
    {
     "name": "stdout",
     "output_type": "stream",
     "text": [
      "*** A ****\n",
      "a\n",
      "b\n",
      "c\n",
      "a\n",
      "b\n",
      "c\n",
      "a\n",
      "*** B ****\n",
      "a\n",
      "b\n",
      "c\n",
      "a\n",
      "b\n",
      "c\n",
      "a\n"
     ]
    }
   ],
   "source": [
    "class CircleIterator:\n",
    "    def __init__(self, data, maxtimes):\n",
    "        self.data = data\n",
    "        self.maxtimes = maxtimes\n",
    "        self.index = 0\n",
    "\n",
    "    def __next__(self):\n",
    "        if self.index >= self.maxtimes:\n",
    "            raise StopIteration\n",
    "            \n",
    "        value = self.data[self.index % len(self.data)]\n",
    "        self.index += 1\n",
    "        return value\n",
    "    \n",
    "class Circle:\n",
    "    def __init__(self, data, maxtimes):\n",
    "        self.data = data\n",
    "        self.maxtimes = maxtimes\n",
    "        \n",
    "    def __iter__(self):\n",
    "        return CircleIterator(self.data, self.maxtimes)\n",
    "    \n",
    "    \n",
    "c = Circle('abc', 7)\n",
    "\n",
    "print(\"*** A ****\")\n",
    "for one_item in c:\n",
    "    print(one_item)\n",
    "    \n",
    "print(\"*** B ****\")\n",
    "for one_item in c:\n",
    "    print(one_item)\n",
    "    \n"
   ]
  },
  {
   "cell_type": "code",
   "execution_count": 85,
   "metadata": {},
   "outputs": [
    {
     "data": {
      "text/plain": [
       "<__main__.CircleIterator at 0x10ce19910>"
      ]
     },
     "execution_count": 85,
     "metadata": {},
     "output_type": "execute_result"
    }
   ],
   "source": [
    "iter(c)"
   ]
  },
  {
   "cell_type": "code",
   "execution_count": 86,
   "metadata": {},
   "outputs": [
    {
     "data": {
      "text/plain": [
       "<__main__.CircleIterator at 0x10ce19d30>"
      ]
     },
     "execution_count": 86,
     "metadata": {},
     "output_type": "execute_result"
    }
   ],
   "source": [
    "iter(c)"
   ]
  },
  {
   "cell_type": "code",
   "execution_count": 87,
   "metadata": {},
   "outputs": [
    {
     "data": {
      "text/plain": [
       "<__main__.CircleIterator at 0x10ce19fd0>"
      ]
     },
     "execution_count": 87,
     "metadata": {},
     "output_type": "execute_result"
    }
   ],
   "source": [
    "iter(c)"
   ]
  },
  {
   "cell_type": "code",
   "execution_count": 89,
   "metadata": {},
   "outputs": [
    {
     "name": "stdout",
     "output_type": "stream",
     "text": [
      "*** A ****\n",
      "a\n",
      "b\n",
      "c\n",
      "a\n",
      "b\n",
      "c\n",
      "a\n",
      "*** B ****\n",
      "a\n",
      "b\n",
      "c\n",
      "a\n",
      "b\n",
      "c\n",
      "a\n"
     ]
    }
   ],
   "source": [
    "class CircleIterator:\n",
    "    def __init__(self, circle):\n",
    "        self.circle = circle\n",
    "        self.index = 0\n",
    "\n",
    "    def __next__(self):\n",
    "        if self.index >= self.circle.maxtimes:\n",
    "            raise StopIteration\n",
    "            \n",
    "        value = self.circle.data[self.index % len(self.circle.data)]\n",
    "        self.index += 1\n",
    "        return value\n",
    "    \n",
    "class Circle:\n",
    "    def __init__(self, data, maxtimes):\n",
    "        self.data = data\n",
    "        self.maxtimes = maxtimes\n",
    "        \n",
    "    def __iter__(self):\n",
    "        return CircleIterator(self)\n",
    "    \n",
    "    \n",
    "c = Circle('abc', 7)\n",
    "\n",
    "print(\"*** A ****\")\n",
    "for one_item in c:\n",
    "    print(one_item)\n",
    "    \n",
    "print(\"*** B ****\")\n",
    "for one_item in c:\n",
    "    print(one_item)\n",
    "    \n"
   ]
  },
  {
   "cell_type": "code",
   "execution_count": 91,
   "metadata": {},
   "outputs": [
    {
     "name": "stdout",
     "output_type": "stream",
     "text": [
      "*** A ***\n",
      "a\n",
      "b\n",
      "c\n",
      "a\n",
      "b\n",
      "c\n",
      "a\n",
      "*** B ***\n",
      "a\n",
      "b\n",
      "c\n",
      "a\n",
      "b\n",
      "c\n",
      "a\n"
     ]
    }
   ],
   "source": [
    "# what if we set self.index = 0 just before raising the exception?\n",
    "\n",
    "class Circle:\n",
    "    def __init__(self, data, maxtimes):\n",
    "        self.data = data\n",
    "        self.maxtimes = maxtimes\n",
    "        self.index = 0\n",
    "        \n",
    "    def __iter__(self):\n",
    "        return self\n",
    "    \n",
    "    def __next__(self):\n",
    "        if self.index >= self.maxtimes:\n",
    "            self.index = 0\n",
    "            raise StopIteration\n",
    "            \n",
    "        value = self.data[self.index % len(self.data)]\n",
    "        self.index += 1\n",
    "        return value\n",
    "    \n",
    "c = Circle('abc', 7)\n",
    "\n",
    "print(f'*** A ***')\n",
    "for one_item in c:\n",
    "    print(one_item)\n",
    "\n",
    "print(f'*** B ***')  \n",
    "for one_item in c:\n",
    "    print(one_item)"
   ]
  },
  {
   "cell_type": "code",
   "execution_count": 92,
   "metadata": {},
   "outputs": [],
   "source": [
    "c = Circle('abc', 7)\n",
    "\n",
    "i1 = iter(c)\n",
    "i2 = iter(c)"
   ]
  },
  {
   "cell_type": "code",
   "execution_count": 93,
   "metadata": {},
   "outputs": [
    {
     "data": {
      "text/plain": [
       "True"
      ]
     },
     "execution_count": 93,
     "metadata": {},
     "output_type": "execute_result"
    }
   ],
   "source": [
    "i1 is i2"
   ]
  },
  {
   "cell_type": "code",
   "execution_count": 94,
   "metadata": {},
   "outputs": [
    {
     "data": {
      "text/plain": [
       "'a'"
      ]
     },
     "execution_count": 94,
     "metadata": {},
     "output_type": "execute_result"
    }
   ],
   "source": [
    "next(i1)"
   ]
  },
  {
   "cell_type": "code",
   "execution_count": 95,
   "metadata": {},
   "outputs": [
    {
     "data": {
      "text/plain": [
       "'b'"
      ]
     },
     "execution_count": 95,
     "metadata": {},
     "output_type": "execute_result"
    }
   ],
   "source": [
    "next(i1)"
   ]
  },
  {
   "cell_type": "code",
   "execution_count": 96,
   "metadata": {},
   "outputs": [
    {
     "data": {
      "text/plain": [
       "'c'"
      ]
     },
     "execution_count": 96,
     "metadata": {},
     "output_type": "execute_result"
    }
   ],
   "source": [
    "next(i2)"
   ]
  },
  {
   "cell_type": "code",
   "execution_count": 97,
   "metadata": {},
   "outputs": [
    {
     "data": {
      "text/plain": [
       "'a'"
      ]
     },
     "execution_count": 97,
     "metadata": {},
     "output_type": "execute_result"
    }
   ],
   "source": [
    "next(i2)"
   ]
  },
  {
   "cell_type": "markdown",
   "metadata": {},
   "source": [
    "# Exercise: MyRange\n",
    "\n",
    "1. Create a class, `MyRange`, which takes 1, 2, or 3 arguments.  It'll work much like `range` does.\n",
    "2. If we call it with 1 argument, then we expect the iterations to run from 0 up to (and not including) that number.\n",
    "3. If we call it with 2 arguments, then we expect the iterations to run from the first number up to (and not including) the second.\n",
    "4. If we call it with 3 arguments, then we expect the iterations to run from the first to the second, with a step size of the third.\n",
    "5. Use the two-class method for iterator construction in creating this."
   ]
  },
  {
   "cell_type": "code",
   "execution_count": 98,
   "metadata": {},
   "outputs": [
    {
     "data": {
      "text/plain": [
       "[0, 1, 2, 3, 4]"
      ]
     },
     "execution_count": 98,
     "metadata": {},
     "output_type": "execute_result"
    }
   ],
   "source": [
    "list(range(5))"
   ]
  },
  {
   "cell_type": "code",
   "execution_count": 99,
   "metadata": {},
   "outputs": [
    {
     "data": {
      "text/plain": [
       "[5, 6, 7, 8, 9]"
      ]
     },
     "execution_count": 99,
     "metadata": {},
     "output_type": "execute_result"
    }
   ],
   "source": [
    "list(range(5, 10))"
   ]
  },
  {
   "cell_type": "code",
   "execution_count": 100,
   "metadata": {},
   "outputs": [
    {
     "data": {
      "text/plain": [
       "[5, 7, 9, 11, 13, 15, 17, 19]"
      ]
     },
     "execution_count": 100,
     "metadata": {},
     "output_type": "execute_result"
    }
   ],
   "source": [
    "list(range(5, 20, 2))"
   ]
  },
  {
   "cell_type": "code",
   "execution_count": 106,
   "metadata": {},
   "outputs": [
    {
     "data": {
      "text/plain": [
       "[0, 1, 2, 3, 4]"
      ]
     },
     "execution_count": 106,
     "metadata": {},
     "output_type": "execute_result"
    }
   ],
   "source": [
    "class MyRangeIterator:\n",
    "    def __init__(self, current, stop, step):\n",
    "        self.current = current\n",
    "        self.stop = stop\n",
    "        self.step = step\n",
    "    \n",
    "    def __next__(self):\n",
    "        if self.current >= self.stop:\n",
    "            raise StopIteration\n",
    "            \n",
    "        value = self.current\n",
    "        self.current += self.step\n",
    "        \n",
    "        return value\n",
    "    \n",
    "\n",
    "class MyRange:\n",
    "    def __init__(self, first, second=None, step=1):\n",
    "        if second is None:\n",
    "            self.current = 0\n",
    "            self.stop = first\n",
    "        else:\n",
    "            self.current = first\n",
    "            self.stop = second\n",
    "            \n",
    "        self.step = step\n",
    "        \n",
    "    def __iter__(self):\n",
    "        return MyRangeIterator(self.current, self.stop, self.step)\n",
    "    \n",
    "list(MyRange(5))"
   ]
  },
  {
   "cell_type": "code",
   "execution_count": 107,
   "metadata": {},
   "outputs": [
    {
     "data": {
      "text/plain": [
       "[5, 6, 7, 8, 9]"
      ]
     },
     "execution_count": 107,
     "metadata": {},
     "output_type": "execute_result"
    }
   ],
   "source": [
    "list(MyRange(5, 10))"
   ]
  },
  {
   "cell_type": "code",
   "execution_count": 108,
   "metadata": {},
   "outputs": [
    {
     "data": {
      "text/plain": [
       "[5, 7, 9, 11, 13, 15, 17, 19]"
      ]
     },
     "execution_count": 108,
     "metadata": {},
     "output_type": "execute_result"
    }
   ],
   "source": [
    "list(MyRange(5, 20, 2))"
   ]
  },
  {
   "cell_type": "code",
   "execution_count": 102,
   "metadata": {},
   "outputs": [
    {
     "data": {
      "text/plain": [
       "['a', 'b', 'c']"
      ]
     },
     "execution_count": 102,
     "metadata": {},
     "output_type": "execute_result"
    }
   ],
   "source": [
    "list('abc')"
   ]
  },
  {
   "cell_type": "code",
   "execution_count": 103,
   "metadata": {},
   "outputs": [
    {
     "data": {
      "text/plain": [
       "[10, 20, 309]"
      ]
     },
     "execution_count": 103,
     "metadata": {},
     "output_type": "execute_result"
    }
   ],
   "source": [
    "list((10, 20, 309))"
   ]
  },
  {
   "cell_type": "markdown",
   "metadata": {},
   "source": [
    " # Generator functions"
   ]
  },
  {
   "cell_type": "code",
   "execution_count": 109,
   "metadata": {},
   "outputs": [],
   "source": [
    "def myfunc():\n",
    "    return 1\n",
    "    return 2\n",
    "    return 3"
   ]
  },
  {
   "cell_type": "code",
   "execution_count": 110,
   "metadata": {},
   "outputs": [
    {
     "data": {
      "text/plain": [
       "1"
      ]
     },
     "execution_count": 110,
     "metadata": {},
     "output_type": "execute_result"
    }
   ],
   "source": [
    "myfunc()"
   ]
  },
  {
   "cell_type": "code",
   "execution_count": 111,
   "metadata": {},
   "outputs": [
    {
     "name": "stdout",
     "output_type": "stream",
     "text": [
      "  2           0 LOAD_CONST               1 (1)\n",
      "              2 RETURN_VALUE\n"
     ]
    }
   ],
   "source": [
    "import dis\n",
    "dis.dis(myfunc)"
   ]
  },
  {
   "cell_type": "code",
   "execution_count": 112,
   "metadata": {},
   "outputs": [],
   "source": [
    "def myfunc():\n",
    "    yield 1\n",
    "    yield 2\n",
    "    yield 3"
   ]
  },
  {
   "cell_type": "code",
   "execution_count": 113,
   "metadata": {},
   "outputs": [
    {
     "data": {
      "text/plain": [
       "<generator object myfunc at 0x10ce27f90>"
      ]
     },
     "execution_count": 113,
     "metadata": {},
     "output_type": "execute_result"
    }
   ],
   "source": [
    "myfunc()"
   ]
  },
  {
   "cell_type": "code",
   "execution_count": 114,
   "metadata": {},
   "outputs": [],
   "source": [
    "g = myfunc()"
   ]
  },
  {
   "cell_type": "code",
   "execution_count": 115,
   "metadata": {},
   "outputs": [
    {
     "data": {
      "text/plain": [
       "generator"
      ]
     },
     "execution_count": 115,
     "metadata": {},
     "output_type": "execute_result"
    }
   ],
   "source": [
    "type(g)"
   ]
  },
  {
   "cell_type": "code",
   "execution_count": 116,
   "metadata": {},
   "outputs": [
    {
     "data": {
      "text/plain": [
       "1"
      ]
     },
     "execution_count": 116,
     "metadata": {},
     "output_type": "execute_result"
    }
   ],
   "source": [
    "next(g)"
   ]
  },
  {
   "cell_type": "code",
   "execution_count": 117,
   "metadata": {},
   "outputs": [
    {
     "data": {
      "text/plain": [
       "2"
      ]
     },
     "execution_count": 117,
     "metadata": {},
     "output_type": "execute_result"
    }
   ],
   "source": [
    "next(g)"
   ]
  },
  {
   "cell_type": "code",
   "execution_count": 118,
   "metadata": {},
   "outputs": [
    {
     "data": {
      "text/plain": [
       "3"
      ]
     },
     "execution_count": 118,
     "metadata": {},
     "output_type": "execute_result"
    }
   ],
   "source": [
    "next(g)"
   ]
  },
  {
   "cell_type": "code",
   "execution_count": 119,
   "metadata": {},
   "outputs": [
    {
     "ename": "StopIteration",
     "evalue": "",
     "output_type": "error",
     "traceback": [
      "\u001b[0;31m---------------------------------------------------------------------------\u001b[0m",
      "\u001b[0;31mStopIteration\u001b[0m                             Traceback (most recent call last)",
      "\u001b[0;32m<ipython-input-119-e734f8aca5ac>\u001b[0m in \u001b[0;36m<module>\u001b[0;34m\u001b[0m\n\u001b[0;32m----> 1\u001b[0;31m \u001b[0mnext\u001b[0m\u001b[0;34m(\u001b[0m\u001b[0mg\u001b[0m\u001b[0;34m)\u001b[0m\u001b[0;34m\u001b[0m\u001b[0;34m\u001b[0m\u001b[0m\n\u001b[0m",
      "\u001b[0;31mStopIteration\u001b[0m: "
     ]
    }
   ],
   "source": [
    "next(g)"
   ]
  },
  {
   "cell_type": "code",
   "execution_count": 120,
   "metadata": {},
   "outputs": [],
   "source": [
    "def myfunc():\n",
    "    yield 1\n",
    "    yield 2\n",
    "    yield 3"
   ]
  },
  {
   "cell_type": "markdown",
   "metadata": {},
   "source": [
    "Running `next` on a generator object executes the function body through the next `yield` statement. \n",
    "\n",
    "The returned value from `next` is whatever `yield` returned.\n",
    "\n",
    "If we hit the end of the function body, the generator raises `StopIteration`."
   ]
  },
  {
   "cell_type": "code",
   "execution_count": 122,
   "metadata": {},
   "outputs": [],
   "source": [
    "def fib():   # \"generator function,\" but many people just call it a \"generator\"\n",
    "    first = 0\n",
    "    second = 1\n",
    "    while True:\n",
    "        yield first\n",
    "        first,second = second, first+second"
   ]
  },
  {
   "cell_type": "code",
   "execution_count": 123,
   "metadata": {},
   "outputs": [],
   "source": [
    "g = fib()"
   ]
  },
  {
   "cell_type": "code",
   "execution_count": 124,
   "metadata": {},
   "outputs": [
    {
     "data": {
      "text/plain": [
       "0"
      ]
     },
     "execution_count": 124,
     "metadata": {},
     "output_type": "execute_result"
    }
   ],
   "source": [
    "next(g)"
   ]
  },
  {
   "cell_type": "code",
   "execution_count": 125,
   "metadata": {},
   "outputs": [
    {
     "data": {
      "text/plain": [
       "1"
      ]
     },
     "execution_count": 125,
     "metadata": {},
     "output_type": "execute_result"
    }
   ],
   "source": [
    "next(g)"
   ]
  },
  {
   "cell_type": "code",
   "execution_count": 126,
   "metadata": {},
   "outputs": [
    {
     "data": {
      "text/plain": [
       "1"
      ]
     },
     "execution_count": 126,
     "metadata": {},
     "output_type": "execute_result"
    }
   ],
   "source": [
    "next(g)"
   ]
  },
  {
   "cell_type": "code",
   "execution_count": 127,
   "metadata": {},
   "outputs": [
    {
     "data": {
      "text/plain": [
       "2"
      ]
     },
     "execution_count": 127,
     "metadata": {},
     "output_type": "execute_result"
    }
   ],
   "source": [
    "next(g)"
   ]
  },
  {
   "cell_type": "code",
   "execution_count": 132,
   "metadata": {},
   "outputs": [
    {
     "name": "stdout",
     "output_type": "stream",
     "text": [
      "0 1 1 2 3 5 8 13 21 34 55 89 144 233 377 610 987 1597 2584 4181 6765 10946 17711 28657 46368 75025 121393 196418 317811 514229 832040 1346269 2178309 3524578 5702887 9227465 14930352 24157817 39088169 63245986 102334155 165580141 267914296 433494437 701408733 1134903170 1836311903 2971215073 4807526976 7778742049 12586269025 20365011074 32951280099 53316291173 86267571272 139583862445 225851433717 365435296162 591286729879 956722026041 1548008755920 2504730781961 4052739537881 6557470319842 10610209857723 17167680177565 27777890035288 44945570212853 72723460248141 117669030460994 190392490709135 308061521170129 498454011879264 806515533049393 1304969544928657 2111485077978050 3416454622906707 5527939700884757 8944394323791464 14472334024676221 23416728348467685 37889062373143906 61305790721611591 99194853094755497 160500643816367088 259695496911122585 420196140727489673 679891637638612258 1100087778366101931 1779979416004714189 2880067194370816120 4660046610375530309 7540113804746346429 12200160415121876738 19740274219868223167 31940434634990099905 51680708854858323072 83621143489848422977 135301852344706746049 218922995834555169026 "
     ]
    }
   ],
   "source": [
    "g = fib()\n",
    "for i in range(100):\n",
    "    print(next(g), end=' ')"
   ]
  },
  {
   "cell_type": "code",
   "execution_count": 135,
   "metadata": {},
   "outputs": [
    {
     "name": "stdout",
     "output_type": "stream",
     "text": [
      "0 1 1 2 3 5 8 13 21 34 55 89 144 233 377 610 987 1597 2584 4181 6765 10946 17711 28657 46368 75025 121393 196418 317811 514229 832040 1346269 2178309 3524578 5702887 9227465 14930352 24157817 39088169 63245986 102334155 165580141 267914296 433494437 701408733 1134903170 1836311903 2971215073 4807526976 7778742049 12586269025 20365011074 32951280099 53316291173 86267571272 139583862445 225851433717 365435296162 591286729879 956722026041 1548008755920 2504730781961 4052739537881 6557470319842 10610209857723 17167680177565 27777890035288 44945570212853 72723460248141 117669030460994 190392490709135 308061521170129 498454011879264 806515533049393 1304969544928657 2111485077978050 3416454622906707 5527939700884757 8944394323791464 14472334024676221 23416728348467685 37889062373143906 61305790721611591 99194853094755497 160500643816367088 "
     ]
    }
   ],
   "source": [
    "for one_item in fib():\n",
    "    print(one_item, end=' ')\n",
    "    if one_item > 100_000_000_000_000_000:\n",
    "        break"
   ]
  },
  {
   "cell_type": "markdown",
   "metadata": {},
   "source": [
    "# Exercise: get_vowels\n",
    "\n",
    "1. Write a generator function, `get_vowels`, that takes a filename as an argument.\n",
    "2. With each iteration, return the next vowel (a, e, i, o, or u) from the file that we're reading from.\n",
    "3. When we reach the end of the file and/or there are no more vowels, then the generator should exit.\n",
    "\n",
    "Never raise `StopIteration` in a generator function! It happens automatically when the function exits.  You can use `return` by itself to do that prematurely."
   ]
  },
  {
   "cell_type": "code",
   "execution_count": 140,
   "metadata": {},
   "outputs": [],
   "source": [
    "def get_vowels(filename):\n",
    "    for one_line in open(filename):\n",
    "        for one_character in one_line.lower():\n",
    "            if one_character in 'aeiou':\n",
    "                yield one_character"
   ]
  },
  {
   "cell_type": "code",
   "execution_count": 142,
   "metadata": {},
   "outputs": [],
   "source": [
    "g = get_vowels('/etc/passwd')"
   ]
  },
  {
   "cell_type": "code",
   "execution_count": 143,
   "metadata": {
    "collapsed": true
   },
   "outputs": [
    {
     "name": "stdout",
     "output_type": "stream",
     "text": [
      "u\n",
      "e\n",
      "a\n",
      "a\n",
      "a\n",
      "e\n",
      "o\n",
      "e\n",
      "a\n",
      "i\n",
      "i\n",
      "e\n",
      "i\n",
      "o\n",
      "u\n",
      "e\n",
      "i\n",
      "e\n",
      "o\n",
      "e\n",
      "e\n",
      "e\n",
      "i\n",
      "u\n",
      "i\n",
      "i\n",
      "i\n",
      "e\n",
      "u\n",
      "e\n",
      "o\n",
      "e\n",
      "a\n",
      "o\n",
      "e\n",
      "i\n",
      "e\n",
      "i\n",
      "i\n",
      "o\n",
      "a\n",
      "i\n",
      "o\n",
      "i\n",
      "o\n",
      "i\n",
      "e\n",
      "o\n",
      "e\n",
      "i\n",
      "e\n",
      "o\n",
      "e\n",
      "e\n",
      "e\n",
      "o\n",
      "e\n",
      "i\n",
      "e\n",
      "o\n",
      "a\n",
      "a\n",
      "e\n",
      "o\n",
      "a\n",
      "i\n",
      "i\n",
      "o\n",
      "a\n",
      "i\n",
      "o\n",
      "a\n",
      "i\n",
      "o\n",
      "a\n",
      "o\n",
      "u\n",
      "o\n",
      "e\n",
      "i\n",
      "e\n",
      "o\n",
      "o\n",
      "o\n",
      "u\n",
      "i\n",
      "i\n",
      "e\n",
      "e\n",
      "u\n",
      "e\n",
      "a\n",
      "e\n",
      "u\n",
      "i\n",
      "a\n",
      "e\n",
      "o\n",
      "o\n",
      "e\n",
      "a\n",
      "i\n",
      "i\n",
      "a\n",
      "o\n",
      "a\n",
      "o\n",
      "o\n",
      "i\n",
      "a\n",
      "e\n",
      "o\n",
      "e\n",
      "e\n",
      "i\n",
      "e\n",
      "a\n",
      "o\n",
      "o\n",
      "u\n",
      "i\n",
      "a\n",
      "e\n",
      "u\n",
      "u\n",
      "u\n",
      "i\n",
      "o\n",
      "u\n",
      "i\n",
      "o\n",
      "o\n",
      "o\n",
      "o\n",
      "a\n",
      "o\n",
      "o\n",
      "u\n",
      "u\n",
      "u\n",
      "i\n",
      "u\n",
      "u\n",
      "i\n",
      "o\n",
      "a\n",
      "a\n",
      "e\n",
      "a\n",
      "a\n",
      "e\n",
      "a\n",
      "e\n",
      "o\n",
      "a\n",
      "e\n",
      "u\n",
      "i\n",
      "a\n",
      "e\n",
      "e\n",
      "o\n",
      "e\n",
      "o\n",
      "e\n",
      "i\n",
      "e\n",
      "a\n",
      "e\n",
      "o\n",
      "u\n",
      "i\n",
      "a\n",
      "e\n",
      "i\n",
      "a\n",
      "a\n",
      "i\n",
      "a\n",
      "i\n",
      "a\n",
      "a\n",
      "i\n",
      "a\n",
      "a\n",
      "e\n",
      "u\n",
      "i\n",
      "a\n",
      "e\n",
      "i\n",
      "i\n",
      "e\n",
      "i\n",
      "e\n",
      "a\n",
      "o\n",
      "o\n",
      "u\n",
      "u\n",
      "i\n",
      "a\n",
      "e\n",
      "o\n",
      "i\n",
      "o\n",
      "i\n",
      "a\n",
      "i\n",
      "e\n",
      "e\n",
      "a\n",
      "o\n",
      "o\n",
      "o\n",
      "i\n",
      "u\n",
      "i\n",
      "a\n",
      "e\n",
      "e\n",
      "i\n",
      "e\n",
      "o\n",
      "i\n",
      "u\n",
      "a\n",
      "i\n",
      "o\n",
      "e\n",
      "i\n",
      "e\n",
      "a\n",
      "e\n",
      "u\n",
      "i\n",
      "a\n",
      "e\n",
      "e\n",
      "e\n",
      "i\n",
      "i\n",
      "a\n",
      "e\n",
      "e\n",
      "o\n",
      "e\n",
      "e\n",
      "i\n",
      "e\n",
      "a\n",
      "e\n",
      "u\n",
      "i\n",
      "a\n",
      "e\n",
      "a\n",
      "o\n",
      "e\n",
      "a\n",
      "a\n",
      "o\n",
      "e\n",
      "e\n",
      "i\n",
      "e\n",
      "a\n",
      "a\n",
      "o\n",
      "e\n",
      "u\n",
      "i\n",
      "a\n",
      "e\n",
      "a\n",
      "a\n",
      "a\n",
      "u\n",
      "a\n",
      "e\n",
      "u\n",
      "i\n",
      "a\n",
      "e\n",
      "a\n",
      "e\n",
      "e\n",
      "e\n",
      "a\n",
      "e\n",
      "e\n",
      "e\n",
      "a\n",
      "e\n",
      "o\n",
      "a\n",
      "e\n",
      "u\n",
      "i\n",
      "a\n",
      "e\n",
      "e\n",
      "o\n",
      "e\n",
      "o\n",
      "e\n",
      "i\n",
      "e\n",
      "a\n",
      "e\n",
      "o\n",
      "a\n",
      "e\n",
      "o\n",
      "u\n",
      "i\n",
      "a\n",
      "e\n",
      "e\n",
      "o\n",
      "e\n",
      "e\n",
      "o\n",
      "e\n",
      "o\n",
      "u\n",
      "e\n",
      "a\n",
      "i\n",
      "o\n",
      "a\n",
      "e\n",
      "u\n",
      "i\n",
      "a\n",
      "e\n",
      "a\n",
      "o\n",
      "e\n",
      "a\n",
      "e\n",
      "a\n",
      "e\n",
      "u\n",
      "i\n",
      "a\n",
      "e\n",
      "e\n",
      "o\n",
      "e\n",
      "e\n",
      "o\n",
      "e\n",
      "a\n",
      "e\n",
      "u\n",
      "i\n",
      "a\n",
      "e\n",
      "a\n",
      "a\n",
      "e\n",
      "e\n",
      "o\n",
      "e\n",
      "e\n",
      "o\n",
      "a\n",
      "e\n",
      "u\n",
      "i\n",
      "a\n",
      "e\n",
      "o\n",
      "i\n",
      "e\n",
      "e\n",
      "e\n",
      "e\n",
      "i\n",
      "a\n",
      "e\n",
      "e\n",
      "e\n",
      "u\n",
      "i\n",
      "a\n",
      "e\n",
      "e\n",
      "a\n",
      "e\n",
      "e\n",
      "e\n",
      "u\n",
      "e\n",
      "a\n",
      "e\n",
      "u\n",
      "i\n",
      "a\n",
      "e\n",
      "e\n",
      "e\n",
      "a\n",
      "e\n",
      "u\n",
      "i\n",
      "a\n",
      "e\n",
      "e\n",
      "e\n",
      "a\n",
      "e\n",
      "u\n",
      "i\n",
      "a\n",
      "e\n",
      "e\n",
      "e\n",
      "a\n",
      "e\n",
      "u\n",
      "i\n",
      "a\n",
      "e\n",
      "i\n",
      "i\n",
      "e\n",
      "e\n",
      "e\n",
      "a\n",
      "a\n",
      "i\n",
      "o\n",
      "a\n",
      "e\n",
      "u\n",
      "i\n",
      "a\n",
      "e\n",
      "u\n",
      "i\n",
      "i\n",
      "e\n",
      "e\n",
      "a\n",
      "i\n",
      "e\n",
      "e\n",
      "a\n",
      "e\n",
      "u\n",
      "i\n",
      "a\n",
      "e\n",
      "u\n",
      "u\n",
      "a\n",
      "i\n",
      "i\n",
      "a\n",
      "o\n",
      "a\n",
      "i\n",
      "a\n",
      "u\n",
      "i\n",
      "a\n",
      "e\n",
      "a\n",
      "i\n",
      "a\n",
      "a\n",
      "i\n",
      "a\n",
      "i\n",
      "e\n",
      "e\n",
      "a\n",
      "e\n",
      "u\n",
      "i\n",
      "a\n",
      "e\n",
      "a\n",
      "e\n",
      "e\n",
      "a\n",
      "i\n",
      "a\n",
      "i\n",
      "o\n",
      "e\n",
      "e\n",
      "a\n",
      "e\n",
      "u\n",
      "i\n",
      "a\n",
      "e\n",
      "a\n",
      "a\n",
      "a\n",
      "a\n",
      "a\n",
      "e\n",
      "o\n",
      "a\n",
      "i\n",
      "u\n",
      "a\n",
      "i\n",
      "u\n",
      "i\n",
      "a\n",
      "e\n",
      "a\n",
      "a\n",
      "i\n",
      "a\n",
      "a\n",
      "i\n",
      "a\n",
      "e\n",
      "o\n",
      "a\n",
      "i\n",
      "u\n",
      "a\n",
      "i\n",
      "u\n",
      "i\n",
      "a\n",
      "e\n",
      "a\n",
      "e\n",
      "a\n",
      "e\n",
      "e\n",
      "e\n",
      "a\n",
      "e\n",
      "u\n",
      "i\n",
      "a\n",
      "e\n",
      "a\n",
      "o\n",
      "e\n",
      "a\n",
      "i\n",
      "a\n",
      "i\n",
      "o\n",
      "o\n",
      "e\n",
      "a\n",
      "e\n",
      "u\n",
      "i\n",
      "a\n",
      "e\n",
      "i\n",
      "o\n",
      "e\n",
      "e\n",
      "i\n",
      "o\n",
      "e\n",
      "e\n",
      "a\n",
      "e\n",
      "u\n",
      "i\n",
      "a\n",
      "e\n",
      "o\n",
      "i\n",
      "o\n",
      "i\n",
      "a\n",
      "e\n",
      "u\n",
      "i\n",
      "a\n",
      "e\n",
      "o\n",
      "e\n",
      "o\n",
      "e\n",
      "a\n",
      "e\n",
      "o\n",
      "a\n",
      "e\n",
      "u\n",
      "i\n",
      "a\n",
      "e\n",
      "e\n",
      "u\n",
      "i\n",
      "a\n",
      "e\n",
      "e\n",
      "u\n",
      "i\n",
      "a\n",
      "e\n",
      "a\n",
      "e\n",
      "u\n",
      "i\n",
      "a\n",
      "e\n",
      "u\n",
      "i\n",
      "a\n",
      "e\n",
      "a\n",
      "e\n",
      "a\n",
      "a\n",
      "e\n",
      "a\n",
      "a\n",
      "e\n",
      "u\n",
      "i\n",
      "a\n",
      "e\n",
      "e\n",
      "a\n",
      "e\n",
      "e\n",
      "e\n",
      "a\n",
      "e\n",
      "e\n",
      "a\n",
      "e\n",
      "a\n",
      "e\n",
      "e\n",
      "u\n",
      "i\n",
      "a\n",
      "e\n",
      "u\n",
      "a\n",
      "e\n",
      "a\n",
      "i\n",
      "u\n",
      "a\n",
      "e\n",
      "a\n",
      "i\n",
      "a\n",
      "e\n",
      "u\n",
      "i\n",
      "a\n",
      "e\n",
      "i\n",
      "a\n",
      "e\n",
      "i\n",
      "a\n",
      "e\n",
      "a\n",
      "e\n",
      "u\n",
      "i\n",
      "a\n",
      "e\n",
      "a\n",
      "e\n",
      "e\n",
      "a\n",
      "e\n",
      "e\n",
      "a\n",
      "e\n",
      "u\n",
      "i\n",
      "a\n",
      "e\n",
      "a\n",
      "e\n",
      "o\n",
      "a\n",
      "e\n",
      "u\n",
      "i\n",
      "a\n",
      "e\n",
      "u\n",
      "o\n",
      "u\n",
      "o\n",
      "u\n",
      "e\n",
      "a\n",
      "e\n",
      "u\n",
      "i\n",
      "a\n",
      "e\n",
      "o\n",
      "a\n",
      "e\n",
      "u\n",
      "a\n",
      "e\n",
      "o\n",
      "a\n",
      "e\n",
      "u\n",
      "a\n",
      "e\n",
      "e\n",
      "i\n",
      "e\n",
      "a\n",
      "o\n",
      "a\n",
      "e\n",
      "u\n",
      "a\n",
      "e\n",
      "u\n",
      "i\n",
      "a\n",
      "e\n",
      "o\n",
      "e\n",
      "a\n",
      "u\n",
      "i\n",
      "o\n",
      "o\n",
      "e\n",
      "a\n",
      "u\n",
      "i\n",
      "o\n",
      "a\n",
      "e\n",
      "o\n",
      "a\n",
      "e\n",
      "u\n",
      "i\n",
      "a\n",
      "e\n",
      "e\n",
      "e\n",
      "a\n",
      "e\n",
      "e\n",
      "e\n",
      "a\n",
      "e\n",
      "a\n",
      "e\n",
      "u\n",
      "i\n",
      "a\n",
      "e\n",
      "o\n",
      "a\n",
      "i\n",
      "o\n",
      "o\n",
      "a\n",
      "i\n",
      "o\n",
      "a\n",
      "e\n",
      "o\n",
      "a\n",
      "o\n",
      "a\n",
      "i\n",
      "o\n",
      "u\n",
      "i\n",
      "a\n",
      "e\n",
      "u\n",
      "e\n",
      "a\n",
      "u\n",
      "a\n",
      "i\n",
      "o\n",
      "a\n",
      "e\n",
      "u\n",
      "e\n",
      "a\n",
      "u\n",
      "a\n",
      "i\n",
      "o\n",
      "a\n",
      "e\n",
      "a\n",
      "e\n",
      "u\n",
      "i\n",
      "a\n",
      "e\n",
      "i\n",
      "e\n",
      "o\n",
      "e\n",
      "a\n",
      "u\n",
      "o\n",
      "i\n",
      "e\n",
      "o\n",
      "e\n",
      "a\n",
      "e\n",
      "o\n",
      "a\n",
      "e\n",
      "u\n",
      "i\n",
      "a\n",
      "e\n",
      "a\n",
      "o\n",
      "a\n",
      "e\n",
      "i\n",
      "e\n",
      "a\n",
      "e\n",
      "a\n",
      "e\n",
      "u\n",
      "i\n",
      "a\n",
      "e\n",
      "o\n",
      "o\n",
      "o\n",
      "o\n",
      "a\n",
      "e\n",
      "u\n",
      "i\n",
      "a\n",
      "e\n",
      "u\n",
      "u\n",
      "i\n",
      "o\n",
      "e\n",
      "o\n",
      "e\n",
      "i\n",
      "e\n",
      "e\n",
      "e\n",
      "a\n",
      "o\n",
      "o\n",
      "u\n",
      "i\n",
      "a\n",
      "e\n",
      "o\n",
      "e\n",
      "o\n",
      "o\n",
      "e\n",
      "o\n",
      "a\n",
      "i\n",
      "i\n",
      "a\n",
      "o\n",
      "a\n",
      "e\n",
      "u\n",
      "i\n",
      "a\n",
      "e\n",
      "a\n",
      "u\n",
      "i\n",
      "o\n",
      "a\n",
      "u\n",
      "i\n",
      "o\n",
      "a\n",
      "e\n",
      "u\n",
      "i\n",
      "a\n",
      "e\n",
      "o\n",
      "e\n",
      "o\n",
      "e\n",
      "e\n",
      "e\n",
      "a\n",
      "e\n",
      "u\n",
      "i\n",
      "a\n",
      "e\n",
      "e\n",
      "e\n",
      "o\n",
      "i\n",
      "e\n",
      "a\n",
      "i\n",
      "i\n",
      "e\n",
      "a\n",
      "e\n",
      "u\n",
      "i\n",
      "a\n",
      "e\n",
      "a\n",
      "i\n",
      "a\n",
      "i\n",
      "e\n",
      "e\n",
      "o\n",
      "a\n",
      "i\n",
      "e\n",
      "i\n",
      "e\n",
      "a\n",
      "e\n",
      "u\n",
      "i\n",
      "a\n",
      "e\n",
      "a\n",
      "i\n",
      "a\n",
      "e\n",
      "e\n",
      "e\n",
      "o\n",
      "a\n",
      "e\n",
      "a\n",
      "o\n",
      "e\n",
      "i\n",
      "e\n",
      "a\n",
      "e\n",
      "u\n",
      "i\n",
      "a\n",
      "e\n",
      "e\n",
      "i\n",
      "e\n",
      "e\n",
      "i\n",
      "e\n",
      "a\n",
      "a\n",
      "e\n",
      "e\n",
      "e\n",
      "e\n",
      "a\n",
      "e\n",
      "u\n",
      "i\n",
      "a\n",
      "e\n",
      "e\n",
      "a\n",
      "u\n",
      "e\n",
      "e\n",
      "e\n",
      "a\n",
      "u\n",
      "e\n",
      "e\n",
      "a\n",
      "e\n",
      "u\n",
      "i\n",
      "a\n",
      "e\n",
      "e\n",
      "i\n",
      "o\n",
      "e\n",
      "i\n",
      "o\n",
      "a\n",
      "e\n",
      "u\n",
      "i\n",
      "a\n",
      "e\n",
      "a\n",
      "a\n",
      "a\n",
      "e\n",
      "o\n",
      "a\n",
      "e\n",
      "u\n",
      "i\n",
      "a\n",
      "e\n",
      "o\n",
      "e\n",
      "u\n",
      "o\n",
      "e\n",
      "o\n",
      "a\n",
      "u\n",
      "e\n",
      "i\n",
      "a\n",
      "i\n",
      "o\n",
      "a\n",
      "e\n",
      "u\n",
      "i\n",
      "a\n",
      "e\n",
      "e\n",
      "a\n",
      "i\n",
      "i\n",
      "e\n",
      "o\n",
      "a\n",
      "i\n",
      "i\n",
      "a\n",
      "e\n",
      "o\n",
      "a\n",
      "e\n",
      "u\n",
      "i\n",
      "a\n",
      "e\n",
      "a\n",
      "e\n",
      "i\n",
      "e\n",
      "e\n",
      "e\n",
      "e\n",
      "a\n",
      "e\n",
      "i\n",
      "e\n",
      "a\n",
      "e\n",
      "o\n",
      "a\n",
      "e\n",
      "u\n",
      "i\n",
      "a\n",
      "e\n",
      "o\n",
      "e\n",
      "i\n",
      "e\n",
      "o\n",
      "e\n",
      "e\n",
      "o\n",
      "i\n",
      "e\n",
      "a\n",
      "i\n",
      "i\n",
      "e\n",
      "a\n",
      "e\n",
      "u\n",
      "i\n",
      "a\n",
      "e\n",
      "a\n",
      "i\n",
      "o\n",
      "e\n",
      "i\n",
      "e\n",
      "o\n",
      "e\n",
      "e\n",
      "o\n",
      "a\n",
      "i\n",
      "e\n",
      "i\n",
      "e\n",
      "a\n",
      "e\n",
      "u\n",
      "i\n",
      "a\n",
      "e\n",
      "a\n",
      "e\n",
      "o\n",
      "e\n",
      "i\n",
      "e\n",
      "o\n",
      "e\n",
      "e\n",
      "o\n",
      "a\n",
      "e\n",
      "a\n",
      "o\n",
      "e\n",
      "i\n",
      "e\n",
      "a\n",
      "e\n",
      "u\n",
      "i\n",
      "a\n",
      "e\n",
      "e\n",
      "e\n",
      "o\n",
      "o\n",
      "e\n",
      "i\n",
      "e\n",
      "o\n",
      "e\n",
      "e\n",
      "o\n",
      "a\n",
      "e\n",
      "u\n",
      "i\n",
      "a\n",
      "e\n",
      "a\n",
      "o\n",
      "o\n",
      "u\n",
      "o\n",
      "e\n",
      "i\n",
      "e\n",
      "o\n",
      "e\n",
      "e\n",
      "o\n",
      "a\n",
      "o\n",
      "o\n",
      "u\n",
      "a\n",
      "e\n",
      "u\n",
      "i\n",
      "a\n",
      "e\n",
      "a\n",
      "e\n",
      "a\n",
      "e\n",
      "a\n",
      "e\n",
      "a\n",
      "e\n",
      "e\n",
      "i\n",
      "e\n",
      "a\n",
      "e\n",
      "u\n",
      "i\n",
      "a\n",
      "e\n",
      "o\n",
      "e\n",
      "e\n",
      "i\n",
      "a\n",
      "i\n",
      "o\n",
      "o\n",
      "e\n",
      "e\n",
      "i\n",
      "a\n",
      "i\n",
      "o\n",
      "a\n",
      "e\n",
      "o\n",
      "a\n",
      "e\n",
      "u\n",
      "i\n",
      "a\n",
      "e\n",
      "a\n",
      "u\n",
      "e\n",
      "i\n",
      "e\n",
      "a\n",
      "u\n",
      "e\n",
      "i\n",
      "e\n",
      "a\n",
      "e\n",
      "u\n",
      "i\n",
      "a\n",
      "e\n",
      "i\n",
      "o\n",
      "e\n",
      "i\n",
      "e\n",
      "i\n",
      "o\n",
      "e\n",
      "i\n",
      "e\n",
      "a\n",
      "e\n",
      "u\n",
      "i\n",
      "a\n",
      "e\n",
      "i\n",
      "o\n",
      "e\n",
      "i\n",
      "o\n",
      "e\n",
      "a\n",
      "e\n",
      "u\n",
      "i\n",
      "a\n",
      "e\n",
      "u\n",
      "e\n",
      "i\n",
      "o\n",
      "u\n",
      "e\n",
      "i\n",
      "o\n",
      "a\n",
      "e\n",
      "o\n",
      "a\n",
      "u\n",
      "e\n",
      "i\n",
      "o\n",
      "u\n",
      "i\n",
      "a\n",
      "e\n",
      "i\n",
      "a\n",
      "o\n",
      "i\n",
      "i\n",
      "a\n",
      "o\n",
      "i\n",
      "a\n",
      "e\n",
      "o\n",
      "a\n",
      "e\n",
      "u\n",
      "i\n",
      "a\n",
      "e\n",
      "a\n",
      "i\n",
      "a\n",
      "i\n",
      "e\n",
      "i\n",
      "e\n",
      "a\n",
      "a\n",
      "i\n",
      "u\n",
      "i\n",
      "a\n",
      "e\n",
      "a\n",
      "e\n",
      "e\n",
      "o\n",
      "a\n",
      "a\n",
      "o\n",
      "u\n",
      "a\n",
      "e\n",
      "u\n",
      "i\n",
      "a\n",
      "e\n",
      "a\n",
      "e\n",
      "o\n",
      "o\n",
      "e\n",
      "a\n",
      "e\n",
      "o\n",
      "o\n",
      "e\n",
      "a\n",
      "e\n",
      "o\n",
      "a\n",
      "e\n",
      "u\n",
      "i\n",
      "a\n",
      "e\n",
      "e\n",
      "u\n",
      "u\n",
      "e\n",
      "e\n",
      "u\n",
      "u\n",
      "e\n",
      "a\n",
      "e\n",
      "u\n",
      "i\n",
      "a\n",
      "o\n",
      "e\n",
      "a\n",
      "o\n",
      "e\n",
      "a\n",
      "e\n",
      "o\n",
      "u\n",
      "e\n",
      "a\n",
      "e\n",
      "o\n",
      "a\n",
      "o\n",
      "e\n",
      "a\n",
      "u\n",
      "i\n",
      "a\n",
      "e\n",
      "e\n",
      "e\n",
      "o\n",
      "a\n",
      "o\n",
      "e\n",
      "e\n",
      "o\n",
      "u\n",
      "e\n",
      "e\n",
      "i\n",
      "e\n",
      "a\n",
      "e\n",
      "u\n",
      "i\n",
      "a\n",
      "e\n",
      "o\n",
      "o\n",
      "a\n",
      "e\n",
      "u\n",
      "i\n",
      "a\n",
      "e\n",
      "o\n",
      "i\n",
      "e\n",
      "a\n",
      "e\n",
      "o\n",
      "i\n",
      "e\n",
      "a\n",
      "e\n",
      "u\n",
      "e\n",
      "a\n",
      "a\n",
      "u\n",
      "i\n",
      "a\n",
      "e\n",
      "i\n",
      "e\n",
      "i\n",
      "e\n",
      "i\n",
      "e\n",
      "i\n",
      "e\n",
      "a\n",
      "e\n",
      "o\n",
      "a\n",
      "i\n",
      "e\n",
      "i\n",
      "e\n",
      "u\n",
      "i\n",
      "a\n",
      "e\n",
      "a\n",
      "a\n",
      "e\n",
      "e\n",
      "o\n",
      "a\n",
      "a\n",
      "e\n",
      "e\n",
      "o\n",
      "a\n",
      "a\n",
      "a\n",
      "e\n",
      "e\n",
      "o\n",
      "u\n",
      "i\n",
      "a\n",
      "e\n",
      "a\n",
      "i\n",
      "e\n",
      "a\n",
      "e\n",
      "a\n",
      "i\n",
      "e\n",
      "a\n",
      "e\n",
      "a\n",
      "e\n",
      "u\n",
      "i\n",
      "a\n",
      "e\n",
      "a\n",
      "o\n",
      "u\n",
      "a\n",
      "e\n",
      "u\n",
      "i\n",
      "a\n",
      "e\n",
      "a\n",
      "e\n",
      "a\n",
      "a\n",
      "e\n",
      "a\n",
      "a\n",
      "o\n",
      "u\n",
      "a\n",
      "a\n",
      "e\n",
      "a\n",
      "u\n",
      "i\n",
      "a\n",
      "e\n",
      "i\n",
      "i\n",
      "e\n",
      "i\n",
      "e\n",
      "u\n",
      "e\n",
      "a\n",
      "i\n",
      "u\n",
      "i\n",
      "a\n",
      "e\n",
      "i\n",
      "o\n",
      "a\n",
      "a\n",
      "i\n",
      "a\n",
      "o\n",
      "e\n",
      "e\n",
      "i\n",
      "a\n",
      "i\n",
      "o\n",
      "a\n",
      "i\n",
      "a\n",
      "u\n",
      "e\n",
      "a\n",
      "i\n",
      "o\n",
      "a\n",
      "a\n",
      "i\n",
      "a\n",
      "u\n",
      "i\n",
      "a\n",
      "e\n",
      "a\n",
      "a\n",
      "i\n",
      "a\n",
      "a\n",
      "i\n",
      "a\n",
      "e\n",
      "o\n",
      "a\n",
      "a\n",
      "a\n",
      "i\n",
      "u\n",
      "i\n",
      "a\n",
      "e\n",
      "a\n",
      "e\n",
      "o\n",
      "a\n",
      "u\n",
      "i\n",
      "a\n",
      "e\n",
      "i\n",
      "e\n",
      "i\n",
      "e\n",
      "a\n",
      "e\n",
      "o\n",
      "a\n",
      "i\n",
      "e\n",
      "u\n",
      "i\n",
      "a\n",
      "e\n",
      "e\n",
      "a\n",
      "o\n",
      "i\n",
      "i\n",
      "a\n",
      "a\n",
      "i\n",
      "a\n",
      "e\n",
      "o\n",
      "a\n",
      "e\n",
      "a\n",
      "u\n",
      "i\n",
      "a\n",
      "e\n",
      "e\n",
      "o\n",
      "e\n",
      "o\n",
      "e\n",
      "e\n",
      "i\n",
      "o\n",
      "e\n",
      "o\n",
      "e\n",
      "o\n",
      "e\n",
      "e\n",
      "i\n",
      "o\n",
      "a\n",
      "e\n",
      "o\n",
      "e\n",
      "o\n",
      "e\n",
      "e\n",
      "i\n",
      "o\n",
      "u\n",
      "i\n",
      "a\n",
      "e\n",
      "i\n",
      "e\n",
      "i\n",
      "i\n",
      "e\n",
      "i\n",
      "a\n",
      "e\n",
      "u\n",
      "i\n",
      "a\n",
      "e\n",
      "i\n",
      "i\n",
      "a\n",
      "e\n",
      "i\n",
      "o\n",
      "i\n",
      "i\n",
      "a\n",
      "e\n",
      "i\n",
      "o\n",
      "a\n",
      "e\n",
      "o\n",
      "a\n",
      "i\n",
      "i\n",
      "a\n",
      "e\n",
      "i\n",
      "o\n",
      "u\n",
      "i\n",
      "a\n",
      "e\n",
      "o\n",
      "o\n",
      "a\n",
      "e\n",
      "o\n",
      "a\n",
      "i\n",
      "a\n",
      "o\n",
      "i\n",
      "u\n",
      "i\n",
      "a\n",
      "e\n",
      "a\n",
      "i\n",
      "a\n",
      "a\n",
      "i\n",
      "a\n",
      "a\n",
      "e\n",
      "o\n",
      "a\n",
      "a\n",
      "i\n",
      "a\n",
      "u\n",
      "i\n",
      "a\n",
      "e\n",
      "i\n",
      "a\n",
      "o\n",
      "o\n",
      "i\n",
      "a\n",
      "i\n",
      "o\n",
      "i\n",
      "a\n",
      "o\n",
      "o\n",
      "i\n",
      "a\n",
      "i\n",
      "o\n",
      "a\n",
      "e\n",
      "o\n",
      "a\n",
      "i\n",
      "a\n",
      "o\n",
      "o\n",
      "i\n",
      "a\n",
      "i\n",
      "o\n",
      "u\n",
      "i\n",
      "a\n",
      "e\n",
      "e\n",
      "o\n",
      "e\n",
      "o\n",
      "a\n",
      "e\n",
      "o\n",
      "a\n",
      "e\n",
      "u\n",
      "i\n",
      "a\n",
      "e\n",
      "e\n",
      "o\n",
      "e\n",
      "a\n",
      "a\n",
      "e\n",
      "e\n",
      "a\n",
      "e\n",
      "o\n",
      "a\n",
      "u\n",
      "i\n",
      "a\n",
      "e\n",
      "u\n",
      "i\n",
      "a\n",
      "e\n",
      "u\n",
      "a\n",
      "e\n",
      "a\n",
      "e\n",
      "o\n",
      "a\n",
      "u\n",
      "u\n",
      "i\n",
      "a\n",
      "e\n",
      "o\n",
      "e\n",
      "e\n",
      "a\n",
      "o\n",
      "e\n",
      "e\n",
      "a\n",
      "a\n",
      "e\n",
      "o\n",
      "a\n",
      "o\n",
      "e\n",
      "e\n",
      "a\n",
      "u\n",
      "i\n",
      "a\n",
      "e\n",
      "o\n",
      "e\n",
      "o\n",
      "e\n",
      "e\n",
      "i\n",
      "e\n",
      "a\n",
      "e\n",
      "u\n",
      "i\n",
      "a\n",
      "e\n",
      "o\n",
      "a\n",
      "o\n",
      "a\n",
      "a\n",
      "e\n",
      "o\n",
      "a\n",
      "e\n",
      "u\n",
      "i\n",
      "a\n",
      "e\n"
     ]
    }
   ],
   "source": [
    "for one_vowel in g:\n",
    "    print(one_vowel)"
   ]
  },
  {
   "cell_type": "code",
   "execution_count": 144,
   "metadata": {},
   "outputs": [
    {
     "ename": "SyntaxError",
     "evalue": "'return' outside function (<ipython-input-144-be15c3e79f52>, line 1)",
     "output_type": "error",
     "traceback": [
      "\u001b[0;36m  File \u001b[0;32m\"<ipython-input-144-be15c3e79f52>\"\u001b[0;36m, line \u001b[0;32m1\u001b[0m\n\u001b[0;31m    return 5\u001b[0m\n\u001b[0m    ^\u001b[0m\n\u001b[0;31mSyntaxError\u001b[0m\u001b[0;31m:\u001b[0m 'return' outside function\n"
     ]
    }
   ],
   "source": [
    "return 5"
   ]
  },
  {
   "cell_type": "code",
   "execution_count": 145,
   "metadata": {},
   "outputs": [
    {
     "ename": "SyntaxError",
     "evalue": "'break' outside loop (<ipython-input-145-6aaf1f276005>, line 1)",
     "output_type": "error",
     "traceback": [
      "\u001b[0;36m  File \u001b[0;32m\"<ipython-input-145-6aaf1f276005>\"\u001b[0;36m, line \u001b[0;32m1\u001b[0m\n\u001b[0;31m    break\u001b[0m\n\u001b[0m    ^\u001b[0m\n\u001b[0;31mSyntaxError\u001b[0m\u001b[0;31m:\u001b[0m 'break' outside loop\n"
     ]
    }
   ],
   "source": [
    "break"
   ]
  },
  {
   "cell_type": "code",
   "execution_count": 146,
   "metadata": {},
   "outputs": [
    {
     "ename": "SyntaxError",
     "evalue": "'continue' not properly in loop (<ipython-input-146-6ca52a340915>, line 1)",
     "output_type": "error",
     "traceback": [
      "\u001b[0;36m  File \u001b[0;32m\"<ipython-input-146-6ca52a340915>\"\u001b[0;36m, line \u001b[0;32m1\u001b[0m\n\u001b[0;31m    continue\u001b[0m\n\u001b[0m    ^\u001b[0m\n\u001b[0;31mSyntaxError\u001b[0m\u001b[0;31m:\u001b[0m 'continue' not properly in loop\n"
     ]
    }
   ],
   "source": [
    "continue"
   ]
  },
  {
   "cell_type": "code",
   "execution_count": 147,
   "metadata": {},
   "outputs": [
    {
     "name": "stdout",
     "output_type": "stream",
     "text": [
      "Name:              get_vowels\n",
      "Filename:          <ipython-input-140-0d2286702179>\n",
      "Argument count:    1\n",
      "Positional-only arguments: 0\n",
      "Kw-only arguments: 0\n",
      "Number of locals:  3\n",
      "Stack size:        4\n",
      "Flags:             OPTIMIZED, NEWLOCALS, GENERATOR, NOFREE\n",
      "Constants:\n",
      "   0: None\n",
      "   1: 'aeiou'\n",
      "Names:\n",
      "   0: open\n",
      "   1: lower\n",
      "Variable names:\n",
      "   0: filename\n",
      "   1: one_line\n",
      "   2: one_character\n"
     ]
    }
   ],
   "source": [
    "dis.show_code(get_vowels)"
   ]
  },
  {
   "cell_type": "code",
   "execution_count": 148,
   "metadata": {},
   "outputs": [],
   "source": [
    "g = get_vowels('/etc/passwd')"
   ]
  },
  {
   "cell_type": "code",
   "execution_count": 149,
   "metadata": {},
   "outputs": [
    {
     "data": {
      "text/plain": [
       "'u'"
      ]
     },
     "execution_count": 149,
     "metadata": {},
     "output_type": "execute_result"
    }
   ],
   "source": [
    "next(g)"
   ]
  },
  {
   "cell_type": "code",
   "execution_count": 150,
   "metadata": {},
   "outputs": [
    {
     "data": {
      "text/plain": [
       "'e'"
      ]
     },
     "execution_count": 150,
     "metadata": {},
     "output_type": "execute_result"
    }
   ],
   "source": [
    "next(g)"
   ]
  },
  {
   "cell_type": "code",
   "execution_count": 151,
   "metadata": {},
   "outputs": [
    {
     "data": {
      "text/plain": [
       "'a'"
      ]
     },
     "execution_count": 151,
     "metadata": {},
     "output_type": "execute_result"
    }
   ],
   "source": [
    "next(g)"
   ]
  },
  {
   "cell_type": "code",
   "execution_count": 152,
   "metadata": {},
   "outputs": [
    {
     "data": {
      "text/plain": [
       "<generator object get_vowels at 0x10ce3c430>"
      ]
     },
     "execution_count": 152,
     "metadata": {},
     "output_type": "execute_result"
    }
   ],
   "source": [
    "g"
   ]
  },
  {
   "cell_type": "code",
   "execution_count": 153,
   "metadata": {},
   "outputs": [
    {
     "data": {
      "text/plain": [
       "['__class__',\n",
       " '__del__',\n",
       " '__delattr__',\n",
       " '__dir__',\n",
       " '__doc__',\n",
       " '__eq__',\n",
       " '__format__',\n",
       " '__ge__',\n",
       " '__getattribute__',\n",
       " '__gt__',\n",
       " '__hash__',\n",
       " '__init__',\n",
       " '__init_subclass__',\n",
       " '__iter__',\n",
       " '__le__',\n",
       " '__lt__',\n",
       " '__name__',\n",
       " '__ne__',\n",
       " '__new__',\n",
       " '__next__',\n",
       " '__qualname__',\n",
       " '__reduce__',\n",
       " '__reduce_ex__',\n",
       " '__repr__',\n",
       " '__setattr__',\n",
       " '__sizeof__',\n",
       " '__str__',\n",
       " '__subclasshook__',\n",
       " 'close',\n",
       " 'gi_code',\n",
       " 'gi_frame',\n",
       " 'gi_running',\n",
       " 'gi_yieldfrom',\n",
       " 'send',\n",
       " 'throw']"
      ]
     },
     "execution_count": 153,
     "metadata": {},
     "output_type": "execute_result"
    }
   ],
   "source": [
    "dir(g)"
   ]
  },
  {
   "cell_type": "code",
   "execution_count": 154,
   "metadata": {},
   "outputs": [
    {
     "data": {
      "text/plain": [
       "False"
      ]
     },
     "execution_count": 154,
     "metadata": {},
     "output_type": "execute_result"
    }
   ],
   "source": [
    "g.gi_running"
   ]
  },
  {
   "cell_type": "code",
   "execution_count": 155,
   "metadata": {},
   "outputs": [
    {
     "data": {
      "text/plain": [
       "<code object get_vowels at 0x10c269500, file \"<ipython-input-140-0d2286702179>\", line 1>"
      ]
     },
     "execution_count": 155,
     "metadata": {},
     "output_type": "execute_result"
    }
   ],
   "source": [
    "g.gi_code"
   ]
  },
  {
   "cell_type": "code",
   "execution_count": 156,
   "metadata": {},
   "outputs": [
    {
     "data": {
      "text/plain": [
       "('filename', 'one_line', 'one_character')"
      ]
     },
     "execution_count": 156,
     "metadata": {},
     "output_type": "execute_result"
    }
   ],
   "source": [
    "g.gi_code.co_varnames"
   ]
  },
  {
   "cell_type": "code",
   "execution_count": 157,
   "metadata": {},
   "outputs": [
    {
     "data": {
      "text/plain": [
       "1"
      ]
     },
     "execution_count": 157,
     "metadata": {},
     "output_type": "execute_result"
    }
   ],
   "source": [
    "g.gi_code.co_argcount"
   ]
  },
  {
   "cell_type": "code",
   "execution_count": 158,
   "metadata": {},
   "outputs": [
    {
     "data": {
      "text/plain": [
       "b't\\x00|\\x00\\x83\\x01D\\x00] }\\x01|\\x01\\xa0\\x01\\xa1\\x00D\\x00]\\x12}\\x02|\\x02d\\x01v\\x00r\\x14|\\x02V\\x00\\x01\\x00q\\x14q\\x08d\\x00S\\x00'"
      ]
     },
     "execution_count": 158,
     "metadata": {},
     "output_type": "execute_result"
    }
   ],
   "source": [
    "g.gi_code.co_code"
   ]
  },
  {
   "cell_type": "code",
   "execution_count": 159,
   "metadata": {},
   "outputs": [
    {
     "name": "stdout",
     "output_type": "stream",
     "text": [
      "          0 LOAD_GLOBAL              0 (0)\n",
      "          2 LOAD_FAST                0 (0)\n",
      "          4 CALL_FUNCTION            1\n",
      "          6 GET_ITER\n",
      "    >>    8 FOR_ITER                32 (to 42)\n",
      "         10 STORE_FAST               1 (1)\n",
      "         12 LOAD_FAST                1 (1)\n",
      "         14 LOAD_METHOD              1 (1)\n",
      "         16 CALL_METHOD              0\n",
      "         18 GET_ITER\n",
      "    >>   20 FOR_ITER                18 (to 40)\n",
      "         22 STORE_FAST               2 (2)\n",
      "         24 LOAD_FAST                2 (2)\n",
      "         26 LOAD_CONST               1 (1)\n",
      "         28 CONTAINS_OP              0\n",
      "         30 POP_JUMP_IF_FALSE       20\n",
      "         32 LOAD_FAST                2 (2)\n",
      "         34 YIELD_VALUE\n",
      "         36 POP_TOP\n",
      "         38 JUMP_ABSOLUTE           20\n",
      "    >>   40 JUMP_ABSOLUTE            8\n",
      "    >>   42 LOAD_CONST               0 (0)\n",
      "         44 RETURN_VALUE\n"
     ]
    }
   ],
   "source": [
    "dis.dis(g.gi_code.co_code)"
   ]
  },
  {
   "cell_type": "code",
   "execution_count": 160,
   "metadata": {},
   "outputs": [],
   "source": [
    "get_vowels??"
   ]
  },
  {
   "cell_type": "code",
   "execution_count": 161,
   "metadata": {},
   "outputs": [
    {
     "data": {
      "text/plain": [
       "frame"
      ]
     },
     "execution_count": 161,
     "metadata": {},
     "output_type": "execute_result"
    }
   ],
   "source": [
    "type(g.gi_frame)"
   ]
  },
  {
   "cell_type": "code",
   "execution_count": 162,
   "metadata": {},
   "outputs": [
    {
     "data": {
      "text/plain": [
       "['__class__',\n",
       " '__delattr__',\n",
       " '__dir__',\n",
       " '__doc__',\n",
       " '__eq__',\n",
       " '__format__',\n",
       " '__ge__',\n",
       " '__getattribute__',\n",
       " '__gt__',\n",
       " '__hash__',\n",
       " '__init__',\n",
       " '__init_subclass__',\n",
       " '__le__',\n",
       " '__lt__',\n",
       " '__ne__',\n",
       " '__new__',\n",
       " '__reduce__',\n",
       " '__reduce_ex__',\n",
       " '__repr__',\n",
       " '__setattr__',\n",
       " '__sizeof__',\n",
       " '__str__',\n",
       " '__subclasshook__',\n",
       " 'clear',\n",
       " 'f_back',\n",
       " 'f_builtins',\n",
       " 'f_code',\n",
       " 'f_globals',\n",
       " 'f_lasti',\n",
       " 'f_lineno',\n",
       " 'f_locals',\n",
       " 'f_trace',\n",
       " 'f_trace_lines',\n",
       " 'f_trace_opcodes']"
      ]
     },
     "execution_count": 162,
     "metadata": {},
     "output_type": "execute_result"
    }
   ],
   "source": [
    "dir(g.gi_frame)"
   ]
  },
  {
   "cell_type": "code",
   "execution_count": 163,
   "metadata": {},
   "outputs": [
    {
     "data": {
      "text/plain": [
       "{'filename': '/etc/passwd',\n",
       " 'one_line': '# User Database\\n',\n",
       " 'one_character': 'a'}"
      ]
     },
     "execution_count": 163,
     "metadata": {},
     "output_type": "execute_result"
    }
   ],
   "source": [
    "g.gi_frame.f_locals"
   ]
  },
  {
   "cell_type": "code",
   "execution_count": 164,
   "metadata": {},
   "outputs": [
    {
     "data": {
      "text/plain": [
       "'a'"
      ]
     },
     "execution_count": 164,
     "metadata": {},
     "output_type": "execute_result"
    }
   ],
   "source": [
    "next(g)"
   ]
  },
  {
   "cell_type": "code",
   "execution_count": 165,
   "metadata": {},
   "outputs": [
    {
     "data": {
      "text/plain": [
       "{'filename': '/etc/passwd',\n",
       " 'one_line': '# User Database\\n',\n",
       " 'one_character': 'a'}"
      ]
     },
     "execution_count": 165,
     "metadata": {},
     "output_type": "execute_result"
    }
   ],
   "source": [
    "g.gi_frame.f_locals"
   ]
  },
  {
   "cell_type": "code",
   "execution_count": 166,
   "metadata": {},
   "outputs": [
    {
     "data": {
      "text/plain": [
       "'a'"
      ]
     },
     "execution_count": 166,
     "metadata": {},
     "output_type": "execute_result"
    }
   ],
   "source": [
    "next(g)"
   ]
  },
  {
   "cell_type": "code",
   "execution_count": 167,
   "metadata": {},
   "outputs": [
    {
     "data": {
      "text/plain": [
       "'e'"
      ]
     },
     "execution_count": 167,
     "metadata": {},
     "output_type": "execute_result"
    }
   ],
   "source": [
    "next(g)"
   ]
  },
  {
   "cell_type": "code",
   "execution_count": 168,
   "metadata": {},
   "outputs": [
    {
     "data": {
      "text/plain": [
       "{'filename': '/etc/passwd',\n",
       " 'one_line': '# User Database\\n',\n",
       " 'one_character': 'e'}"
      ]
     },
     "execution_count": 168,
     "metadata": {},
     "output_type": "execute_result"
    }
   ],
   "source": [
    "g.gi_frame.f_locals"
   ]
  },
  {
   "cell_type": "code",
   "execution_count": 169,
   "metadata": {},
   "outputs": [
    {
     "data": {
      "text/plain": [
       "5"
      ]
     },
     "execution_count": 169,
     "metadata": {},
     "output_type": "execute_result"
    }
   ],
   "source": [
    "g.gi_frame.f_lineno"
   ]
  },
  {
   "cell_type": "code",
   "execution_count": 170,
   "metadata": {},
   "outputs": [],
   "source": [
    "get_vowels??"
   ]
  },
  {
   "cell_type": "markdown",
   "metadata": {},
   "source": [
    "# Exercise: read_n\n",
    "\n",
    "1. Define `read_n` to be a generator function that takes two arguments:\n",
    "    - `filename`, a string\n",
    "    - `n`, an integer\n",
    "2. Normally, when you iterate over a file, you get each line, one at a time"
   ]
  }
 ],
 "metadata": {
  "kernelspec": {
   "display_name": "Python 3",
   "language": "python",
   "name": "python3"
  },
  "language_info": {
   "codemirror_mode": {
    "name": "ipython",
    "version": 3
   },
   "file_extension": ".py",
   "mimetype": "text/x-python",
   "name": "python",
   "nbconvert_exporter": "python",
   "pygments_lexer": "ipython3",
   "version": "3.9.2"
  }
 },
 "nbformat": 4,
 "nbformat_minor": 4
}
