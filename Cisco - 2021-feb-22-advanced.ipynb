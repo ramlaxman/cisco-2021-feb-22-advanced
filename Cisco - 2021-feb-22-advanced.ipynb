{
 "cells": [
  {
   "cell_type": "code",
   "execution_count": 2,
   "metadata": {},
   "outputs": [
    {
     "name": "stdout",
     "output_type": "stream",
     "text": [
      "Hello, world!\n"
     ]
    }
   ],
   "source": [
    "print('Hello, world!')"
   ]
  },
  {
   "cell_type": "code",
   "execution_count": 3,
   "metadata": {},
   "outputs": [
    {
     "name": "stdout",
     "output_type": "stream",
     "text": [
      "hello\n",
      "hello again!\n",
      "hello a third time!\n"
     ]
    }
   ],
   "source": [
    "print('hello')                # enter == go down one line\n",
    "print('hello again!')          # enter == go down one line\n",
    "print('hello a third time!')   # shift+enter == execute the code in the cell"
   ]
  },
  {
   "cell_type": "code",
   "execution_count": 4,
   "metadata": {},
   "outputs": [],
   "source": [
    "x = 100"
   ]
  },
  {
   "cell_type": "code",
   "execution_count": 5,
   "metadata": {},
   "outputs": [
    {
     "data": {
      "text/plain": [
       "100"
      ]
     },
     "execution_count": 5,
     "metadata": {},
     "output_type": "execute_result"
    }
   ],
   "source": [
    "x  # the final expression in a cell is returned"
   ]
  },
  {
   "cell_type": "code",
   "execution_count": 6,
   "metadata": {},
   "outputs": [
    {
     "data": {
      "text/plain": [
       "60"
      ]
     },
     "execution_count": 6,
     "metadata": {},
     "output_type": "execute_result"
    }
   ],
   "source": [
    "10 + 10\n",
    "20 + 20 \n",
    "30 + 30"
   ]
  },
  {
   "cell_type": "markdown",
   "metadata": {},
   "source": [
    "# Different types of cells!\n",
    "\n",
    "- Regular \"code\" cells\n",
    "- Markdown cells (like this one)"
   ]
  },
  {
   "cell_type": "markdown",
   "metadata": {},
   "source": [
    "# Different modes\n",
    "\n",
    "- Edit mode -- green outline, you can type into the cell, and the text appears there.  Typically, for entering code and text.  You can enter \"edit mode\" by pressing Enter or clicking in a cell.\n",
    "\n",
    "- Command mode -- blue outline, anything you type is interpreted as a Jupyter command. (Typically, one-character commands.)  Enter \"command mode\" by pressing ESC or clicking to the left of a cell."
   ]
  },
  {
   "cell_type": "markdown",
   "metadata": {},
   "source": [
    "# A few useful Jupyter commands:\n",
    "\n",
    "- `a` to add a new cell *above* the current one\n",
    "- `b` to add a new cell *below* the current one\n",
    "- `x` to cut a cell\n",
    "- `c` to copy a cell\n",
    "- `v` to paste a cell\n",
    "- `z` for undo (of deleting a cell, typically)\n",
    "- `m` to make a cell into Markdown mode\n",
    "- `y` to make a cell into code mode\n",
    "- `r` to put a cell into \"raw\" mode"
   ]
  },
  {
   "cell_type": "code",
   "execution_count": 7,
   "metadata": {},
   "outputs": [
    {
     "name": "stdout",
     "output_type": "stream",
     "text": [
      "hello\n"
     ]
    }
   ],
   "source": [
    "print('hello')"
   ]
  },
  {
   "cell_type": "code",
   "execution_count": 8,
   "metadata": {},
   "outputs": [
    {
     "data": {
      "text/plain": [
       "100"
      ]
     },
     "execution_count": 8,
     "metadata": {},
     "output_type": "execute_result"
    }
   ],
   "source": [
    "x"
   ]
  },
  {
   "cell_type": "code",
   "execution_count": 9,
   "metadata": {},
   "outputs": [
    {
     "name": "stdout",
     "output_type": "stream",
     "text": [
      "Enter a string: sdfaa\n"
     ]
    }
   ],
   "source": [
    "s = input('Enter a string: ')"
   ]
  },
  {
   "cell_type": "code",
   "execution_count": 10,
   "metadata": {},
   "outputs": [
    {
     "data": {
      "text/plain": [
       "100"
      ]
     },
     "execution_count": 10,
     "metadata": {},
     "output_type": "execute_result"
    }
   ],
   "source": [
    "x"
   ]
  },
  {
   "cell_type": "code",
   "execution_count": 11,
   "metadata": {},
   "outputs": [
    {
     "name": "stdout",
     "output_type": "stream",
     "text": [
      "'Cisco - 2021-feb-22-advanced.ipynb'\r\n"
     ]
    }
   ],
   "source": [
    "%ls"
   ]
  },
  {
   "cell_type": "code",
   "execution_count": 12,
   "metadata": {},
   "outputs": [
    {
     "data": {
      "text/plain": [
       "'/Users/reuven/Courses/Current/Cisco-2021-feb-22-advanced'"
      ]
     },
     "execution_count": 12,
     "metadata": {},
     "output_type": "execute_result"
    }
   ],
   "source": [
    "%pwd"
   ]
  },
  {
   "cell_type": "code",
   "execution_count": 13,
   "metadata": {},
   "outputs": [],
   "source": [
    "def hello(name):\n",
    "    return f'Hello, {name}'"
   ]
  },
  {
   "cell_type": "code",
   "execution_count": 14,
   "metadata": {},
   "outputs": [
    {
     "name": "stdout",
     "output_type": "stream",
     "text": [
      "131 ns ± 1.01 ns per loop (mean ± std. dev. of 7 runs, 10000000 loops each)\n"
     ]
    }
   ],
   "source": [
    "%timeit hello('world')"
   ]
  },
  {
   "cell_type": "markdown",
   "metadata": {},
   "source": [
    "# Agenda\n",
    "\n",
    "1. Data structures\n",
    "    - How do the built-in data structures work?\n",
    "    - More advanced data structures, especially from `collections`\n",
    "2. Functions\n",
    "    - Different argument types (and thus parameter types)\n",
    "    - Function objects and bytecodes\n",
    "    - Variable scoping (LEGB rule)\n",
    "    - Enclosing functions and closures\n",
    "    - Treating functions as nouns, not just verbs\n",
    "3. Functional programming \n",
    "    - Comprehensions (list, set, dict, nested) \n",
    "    - Sorting \n",
    "    - `lambda`\n",
    "    - `operator` module\n",
    "4. Modules and packages\n",
    "5. Objects\n",
    "    - Classes, methods, instances\n",
    "    - Attributes -- what are they, why are they important, and the ICPO rule\n",
    "    - Inheritance\n",
    "    - Magic methods for customizing our objects\n",
    "    - Properties\n",
    "    - Descriptors\n",
    "6. The iterator protocol\n",
    "    - Adding iteration to our classes\n",
    "    - Generator functions\n",
    "    - Coroutines and generators\n",
    "    - Generator expressions / generator comprehensions\n",
    "7. Decorators\n",
    "8. Threading and multiprocessing"
   ]
  },
  {
   "cell_type": "markdown",
   "metadata": {},
   "source": [
    "# `None` -- what is it?"
   ]
  },
  {
   "cell_type": "code",
   "execution_count": 15,
   "metadata": {},
   "outputs": [
    {
     "data": {
      "text/plain": [
       "NoneType"
      ]
     },
     "execution_count": 15,
     "metadata": {},
     "output_type": "execute_result"
    }
   ],
   "source": [
    "x = None\n",
    "\n",
    "type(x)"
   ]
  },
  {
   "cell_type": "code",
   "execution_count": 16,
   "metadata": {},
   "outputs": [
    {
     "data": {
      "text/plain": [
       "True"
      ]
     },
     "execution_count": 16,
     "metadata": {},
     "output_type": "execute_result"
    }
   ],
   "source": [
    "None == None"
   ]
  },
  {
   "cell_type": "code",
   "execution_count": 17,
   "metadata": {},
   "outputs": [
    {
     "name": "stdout",
     "output_type": "stream",
     "text": [
      "Yes, x is None!\n"
     ]
    }
   ],
   "source": [
    "if x == None:   # not Pythonic!\n",
    "    print('Yes, x is None!')"
   ]
  },
  {
   "cell_type": "code",
   "execution_count": 18,
   "metadata": {},
   "outputs": [
    {
     "name": "stdout",
     "output_type": "stream",
     "text": [
      "Yes, x is None!\n"
     ]
    }
   ],
   "source": [
    "if x is None:\n",
    "    print('Yes, x is None!')"
   ]
  },
  {
   "cell_type": "code",
   "execution_count": 19,
   "metadata": {},
   "outputs": [
    {
     "data": {
      "text/plain": [
       "True"
      ]
     },
     "execution_count": 19,
     "metadata": {},
     "output_type": "execute_result"
    }
   ],
   "source": [
    "1 == 1.0"
   ]
  },
  {
   "cell_type": "code",
   "execution_count": 20,
   "metadata": {},
   "outputs": [],
   "source": [
    "x = 12345\n",
    "y = 67890\n",
    "z = 'hello out there'"
   ]
  },
  {
   "cell_type": "code",
   "execution_count": 21,
   "metadata": {},
   "outputs": [
    {
     "data": {
      "text/plain": [
       "int"
      ]
     },
     "execution_count": 21,
     "metadata": {},
     "output_type": "execute_result"
    }
   ],
   "source": [
    "type(x)"
   ]
  },
  {
   "cell_type": "code",
   "execution_count": 22,
   "metadata": {},
   "outputs": [
    {
     "data": {
      "text/plain": [
       "int"
      ]
     },
     "execution_count": 22,
     "metadata": {},
     "output_type": "execute_result"
    }
   ],
   "source": [
    "type(y)"
   ]
  },
  {
   "cell_type": "code",
   "execution_count": 23,
   "metadata": {},
   "outputs": [
    {
     "data": {
      "text/plain": [
       "str"
      ]
     },
     "execution_count": 23,
     "metadata": {},
     "output_type": "execute_result"
    }
   ],
   "source": [
    "type(z)"
   ]
  },
  {
   "cell_type": "code",
   "execution_count": 24,
   "metadata": {},
   "outputs": [
    {
     "data": {
      "text/plain": [
       "4365848912"
      ]
     },
     "execution_count": 24,
     "metadata": {},
     "output_type": "execute_result"
    }
   ],
   "source": [
    "id(x)"
   ]
  },
  {
   "cell_type": "code",
   "execution_count": 25,
   "metadata": {},
   "outputs": [
    {
     "data": {
      "text/plain": [
       "4365848720"
      ]
     },
     "execution_count": 25,
     "metadata": {},
     "output_type": "execute_result"
    }
   ],
   "source": [
    "id(y)"
   ]
  },
  {
   "cell_type": "code",
   "execution_count": 26,
   "metadata": {},
   "outputs": [
    {
     "data": {
      "text/plain": [
       "4365854576"
      ]
     },
     "execution_count": 26,
     "metadata": {},
     "output_type": "execute_result"
    }
   ],
   "source": [
    "id(z)"
   ]
  },
  {
   "cell_type": "code",
   "execution_count": 27,
   "metadata": {},
   "outputs": [],
   "source": [
    "y = x    # the variable y should now refer to whatever the variable x is referring to"
   ]
  },
  {
   "cell_type": "code",
   "execution_count": 28,
   "metadata": {},
   "outputs": [
    {
     "data": {
      "text/plain": [
       "4365848912"
      ]
     },
     "execution_count": 28,
     "metadata": {},
     "output_type": "execute_result"
    }
   ],
   "source": [
    "id(x)"
   ]
  },
  {
   "cell_type": "code",
   "execution_count": 29,
   "metadata": {},
   "outputs": [
    {
     "data": {
      "text/plain": [
       "4365848912"
      ]
     },
     "execution_count": 29,
     "metadata": {},
     "output_type": "execute_result"
    }
   ],
   "source": [
    "id(y)"
   ]
  },
  {
   "cell_type": "code",
   "execution_count": 30,
   "metadata": {},
   "outputs": [
    {
     "data": {
      "text/plain": [
       "True"
      ]
     },
     "execution_count": 30,
     "metadata": {},
     "output_type": "execute_result"
    }
   ],
   "source": [
    "x is y   # really asking: id(x) == id(y)"
   ]
  },
  {
   "cell_type": "code",
   "execution_count": 31,
   "metadata": {},
   "outputs": [
    {
     "name": "stdout",
     "output_type": "stream",
     "text": [
      "yes, x is None!\n"
     ]
    }
   ],
   "source": [
    "x = None\n",
    "\n",
    "if x is None:\n",
    "    print('yes, x is None!')"
   ]
  },
  {
   "cell_type": "code",
   "execution_count": 32,
   "metadata": {},
   "outputs": [],
   "source": [
    "# PEP -- Python Enhancement Proposal"
   ]
  },
  {
   "cell_type": "code",
   "execution_count": 33,
   "metadata": {},
   "outputs": [
    {
     "data": {
      "text/plain": [
       "True"
      ]
     },
     "execution_count": 33,
     "metadata": {},
     "output_type": "execute_result"
    }
   ],
   "source": [
    "x = 100\n",
    "y = 100\n",
    "\n",
    "x == y"
   ]
  },
  {
   "cell_type": "code",
   "execution_count": 34,
   "metadata": {},
   "outputs": [
    {
     "data": {
      "text/plain": [
       "True"
      ]
     },
     "execution_count": 34,
     "metadata": {},
     "output_type": "execute_result"
    }
   ],
   "source": [
    "x is y"
   ]
  },
  {
   "cell_type": "code",
   "execution_count": 35,
   "metadata": {},
   "outputs": [
    {
     "data": {
      "text/plain": [
       "True"
      ]
     },
     "execution_count": 35,
     "metadata": {},
     "output_type": "execute_result"
    }
   ],
   "source": [
    "x = 1000\n",
    "y = 1000\n",
    "\n",
    "x == y"
   ]
  },
  {
   "cell_type": "code",
   "execution_count": 36,
   "metadata": {},
   "outputs": [
    {
     "data": {
      "text/plain": [
       "False"
      ]
     },
     "execution_count": 36,
     "metadata": {},
     "output_type": "execute_result"
    }
   ],
   "source": [
    "x is y"
   ]
  },
  {
   "cell_type": "code",
   "execution_count": 39,
   "metadata": {},
   "outputs": [],
   "source": [
    "x = type(None)()\n",
    "y = type(None)()\n",
    "z = type(None)()"
   ]
  },
  {
   "cell_type": "code",
   "execution_count": 40,
   "metadata": {},
   "outputs": [
    {
     "name": "stdout",
     "output_type": "stream",
     "text": [
      "None\n"
     ]
    }
   ],
   "source": [
    "print(x)"
   ]
  },
  {
   "cell_type": "code",
   "execution_count": 41,
   "metadata": {},
   "outputs": [
    {
     "name": "stdout",
     "output_type": "stream",
     "text": [
      "None\n"
     ]
    }
   ],
   "source": [
    "print(y)"
   ]
  },
  {
   "cell_type": "code",
   "execution_count": 42,
   "metadata": {},
   "outputs": [
    {
     "name": "stdout",
     "output_type": "stream",
     "text": [
      "None\n"
     ]
    }
   ],
   "source": [
    "print(z)"
   ]
  },
  {
   "cell_type": "code",
   "execution_count": 43,
   "metadata": {},
   "outputs": [
    {
     "data": {
      "text/plain": [
       "True"
      ]
     },
     "execution_count": 43,
     "metadata": {},
     "output_type": "execute_result"
    }
   ],
   "source": [
    "x is y"
   ]
  },
  {
   "cell_type": "code",
   "execution_count": 44,
   "metadata": {},
   "outputs": [
    {
     "data": {
      "text/plain": [
       "True"
      ]
     },
     "execution_count": 44,
     "metadata": {},
     "output_type": "execute_result"
    }
   ],
   "source": [
    "y is z"
   ]
  },
  {
   "cell_type": "code",
   "execution_count": 45,
   "metadata": {},
   "outputs": [
    {
     "name": "stdout",
     "output_type": "stream",
     "text": [
      "x is False-ish\n"
     ]
    }
   ],
   "source": [
    "x = None\n",
    "\n",
    "if x:\n",
    "    print('x is True-ish')\n",
    "else:\n",
    "    print('x is False-ish')"
   ]
  },
  {
   "cell_type": "code",
   "execution_count": 46,
   "metadata": {},
   "outputs": [
    {
     "data": {
      "text/plain": [
       "False"
      ]
     },
     "execution_count": 46,
     "metadata": {},
     "output_type": "execute_result"
    }
   ],
   "source": [
    "bool(None)"
   ]
  },
  {
   "cell_type": "markdown",
   "metadata": {},
   "source": [
    "# In a boolean context\n",
    "\n",
    "Everything in Python is `True`!  Except for:\n",
    "\n",
    "- `None`\n",
    "- `False`\n",
    "- 0 (of any type)\n",
    "- anything empty\n",
    "    - `''`\n",
    "    - `[]`\n",
    "    - `()`\n",
    "    - `{}`"
   ]
  },
  {
   "cell_type": "code",
   "execution_count": 47,
   "metadata": {},
   "outputs": [
    {
     "data": {
      "text/plain": [
       "False"
      ]
     },
     "execution_count": 47,
     "metadata": {},
     "output_type": "execute_result"
    }
   ],
   "source": [
    "[] == False"
   ]
  },
  {
   "cell_type": "code",
   "execution_count": 49,
   "metadata": {},
   "outputs": [
    {
     "name": "stdout",
     "output_type": "stream",
     "text": [
      "Enter your name: Reuven\n",
      "Hello, Reuven!\n",
      "Enter your name: asdfafas\n",
      "Hello, asdfafas!\n",
      "Enter your name: \n"
     ]
    }
   ],
   "source": [
    "while True:\n",
    "    s = input('Enter your name: ').strip()\n",
    "    \n",
    "    if not s:\n",
    "        break\n",
    "        \n",
    "    print(f'Hello, {s}!')"
   ]
  },
  {
   "cell_type": "code",
   "execution_count": 51,
   "metadata": {},
   "outputs": [
    {
     "name": "stdout",
     "output_type": "stream",
     "text": [
      "Enter your name: Reuven\n",
      "Hello, Reuven!\n",
      "Enter your name: asdfasfa\n",
      "Hello, asdfasfa!\n",
      "Enter your name: \n"
     ]
    }
   ],
   "source": [
    "# as of Python 3.8, you can use the \"assignment expression\" operator\n",
    "# aka \"the walrus\"\n",
    "# looks like this:    :=\n",
    "\n",
    "while s := input('Enter your name: ').strip():\n",
    "    \n",
    "    print(f'Hello, {s}!')"
   ]
  },
  {
   "cell_type": "code",
   "execution_count": 52,
   "metadata": {},
   "outputs": [],
   "source": [
    "# BDFL -- benevolent dictator for life"
   ]
  },
  {
   "cell_type": "code",
   "execution_count": 53,
   "metadata": {},
   "outputs": [
    {
     "data": {
      "text/plain": [
       "True"
      ]
     },
     "execution_count": 53,
     "metadata": {},
     "output_type": "execute_result"
    }
   ],
   "source": [
    "True == True"
   ]
  },
  {
   "cell_type": "code",
   "execution_count": 54,
   "metadata": {},
   "outputs": [
    {
     "data": {
      "text/plain": [
       "True"
      ]
     },
     "execution_count": 54,
     "metadata": {},
     "output_type": "execute_result"
    }
   ],
   "source": [
    "True == 1"
   ]
  },
  {
   "cell_type": "code",
   "execution_count": 55,
   "metadata": {},
   "outputs": [
    {
     "data": {
      "text/plain": [
       "True"
      ]
     },
     "execution_count": 55,
     "metadata": {},
     "output_type": "execute_result"
    }
   ],
   "source": [
    "False == 0"
   ]
  },
  {
   "cell_type": "code",
   "execution_count": 56,
   "metadata": {},
   "outputs": [
    {
     "data": {
      "text/plain": [
       "bool"
      ]
     },
     "execution_count": 56,
     "metadata": {},
     "output_type": "execute_result"
    }
   ],
   "source": [
    "type(True)"
   ]
  },
  {
   "cell_type": "code",
   "execution_count": 57,
   "metadata": {},
   "outputs": [
    {
     "data": {
      "text/plain": [
       "(int,)"
      ]
     },
     "execution_count": 57,
     "metadata": {},
     "output_type": "execute_result"
    }
   ],
   "source": [
    "bool.__bases__"
   ]
  },
  {
   "cell_type": "code",
   "execution_count": 58,
   "metadata": {},
   "outputs": [],
   "source": [
    "x = 1"
   ]
  },
  {
   "cell_type": "code",
   "execution_count": 59,
   "metadata": {},
   "outputs": [
    {
     "data": {
      "text/plain": [
       "28"
      ]
     },
     "execution_count": 59,
     "metadata": {},
     "output_type": "execute_result"
    }
   ],
   "source": [
    "import sys\n",
    "sys.getsizeof(x)"
   ]
  },
  {
   "cell_type": "code",
   "execution_count": 60,
   "metadata": {},
   "outputs": [],
   "source": [
    "x = 1"
   ]
  },
  {
   "cell_type": "code",
   "execution_count": 61,
   "metadata": {},
   "outputs": [],
   "source": [
    "x = 1234567890\n",
    "x = x ** 20"
   ]
  },
  {
   "cell_type": "code",
   "execution_count": 65,
   "metadata": {},
   "outputs": [],
   "source": [
    "x = x ** 20"
   ]
  },
  {
   "cell_type": "code",
   "execution_count": 63,
   "metadata": {
    "collapsed": true
   },
   "outputs": [
    {
     "data": {
      "text/plain": [
       "4036369052503575996191364206826070861085372028903818320249489982592615874784840921312874505664950504727484471800709614532787968395773235268585972297296374565117844943152597672861376686769252342272949187580892175646644056306614059831335947728728086734926967862177006382085409704371096442604358613534293202692636008610863737499454994753907362362797963209520989005721999553986664619658617827520845489688846291675781162297520360296296220190912193669016987534820486996513701536391611744555647829113987909204662891491532549703778202698791846642830132936104097633800095675681488238752598459848604822821057927852147161057080923563351200535321645191458393479880914268260914469129599595412544051513705486955571150068648044122052326956326604756657192900111295315329629298933503785055931049219621411659018166487773325875961429333001477087606882375667891722137653746933533866231554790272093783004077784000467473972658599299563005570242769501264899800980959438108868416438810681872553376276977843115588145638869944849249754426977195290685401224297356033799898881602943745955193392902679430213641070322075042356127819895668730271604014823135109453900580159949164480926944011464806476840563948548775291037597474932505074377651340245144250931712335393939623811597000583910291763785359095790724676743469473209743603388226723171297680638239106226906035269246834755493618754468979378872791783176243639019872349825883150650056679958443255525146898836188942107696974522818420686892193286623420272986789931117364172392987476805371615597361678574422731446515133614740414263497416124717784766904225153222548427511796727672455140190488075190739527583139276716297161379042703712580890560338636358857254435937088906607035719813041591922712324823959202187595662818750442798907892703280516000883527916562137620368673385754431093720582904484774749972893304339223682432471032075975277377734442902519422119913402834974087183370348343152044659675002024497316351682452206587802026802132748297979821501921231724134722731260538664737718119936475095772476680077611388892433909155664557078305584358542684014625805542522328024932350192236298289098631220308942487577858896549867756532526864213868560197339792909090730568255854039662181869378530541727917262063086175743275118787198971743075075412189402986442239551775370333583163918489808573533836716406667791784633478704713183474578561175166184751756477652949396731802988744857922991359838479588293117942720026207626669742157514017467850376181693596109627498041671421725645023288228902880842629954438288119664191675015899444674109433476713659074552932731206590113695208148539863569694862989316615939544002207526978819953763240013368741510093023536160445327848660242402731178994640643831865619518410092779461435531036034394445708435967548390136326534871722274970487569499080391784185015174626358457484161627840038967250763956578977858061427574303066299224679944347982491459490878874677720573150007132161986939354206768382483611393615464686340273224150824280041356248291609272990054904971672234195330549774486786566146087201847098543205455279285412444380461121237915820957235626850794109557393637604092690445658208376300584268209373440710989874502154288951234993224528166263306990435746969510314062218284028843023775225045262640010000000000000000000000000000000000000000000000000000000000000000000000000000000000000000000000000000000000000000000000000000000000000000000000000000000000000000000000000000000000000000000000000000000000000000000000000000000000000000000000000000000000000000000000000000000000000000000000000000000000000000000000000000000000000000000000000000000000000000000000000000000000000000000000000000000000000000"
      ]
     },
     "execution_count": 63,
     "metadata": {},
     "output_type": "execute_result"
    }
   ],
   "source": [
    "x"
   ]
  },
  {
   "cell_type": "code",
   "execution_count": 66,
   "metadata": {},
   "outputs": [
    {
     "data": {
      "text/plain": [
       "644320"
      ]
     },
     "execution_count": 66,
     "metadata": {},
     "output_type": "execute_result"
    }
   ],
   "source": [
    "sys.getsizeof(x)"
   ]
  },
  {
   "cell_type": "code",
   "execution_count": 68,
   "metadata": {},
   "outputs": [
    {
     "data": {
      "text/plain": [
       "100"
      ]
     },
     "execution_count": 68,
     "metadata": {},
     "output_type": "execute_result"
    }
   ],
   "source": [
    "x = 100     # x refers to the int object 100\n",
    "y = x       # y also refers to the int object 100 (same as x!)\n",
    "\n",
    "x = 200     # x NOW refers to the int object 200 \n",
    "y"
   ]
  },
  {
   "cell_type": "code",
   "execution_count": 69,
   "metadata": {},
   "outputs": [
    {
     "data": {
      "text/plain": [
       "['!!!', 20, 30]"
      ]
     },
     "execution_count": 69,
     "metadata": {},
     "output_type": "execute_result"
    }
   ],
   "source": [
    "x = [10, 20, 30]\n",
    "y = x\n",
    "\n",
    "x[0] = '!!!'   # this is only possible because lists are mutable\n",
    "x"
   ]
  },
  {
   "cell_type": "code",
   "execution_count": 70,
   "metadata": {},
   "outputs": [
    {
     "data": {
      "text/plain": [
       "['!!!', 20, 30]"
      ]
     },
     "execution_count": 70,
     "metadata": {},
     "output_type": "execute_result"
    }
   ],
   "source": [
    "y"
   ]
  },
  {
   "cell_type": "code",
   "execution_count": 71,
   "metadata": {},
   "outputs": [
    {
     "data": {
      "text/plain": [
       "110"
      ]
     },
     "execution_count": 71,
     "metadata": {},
     "output_type": "execute_result"
    }
   ],
   "source": [
    "x = 100\n",
    "y = x\n",
    "\n",
    "x += 10  # really this is: x = x + 10\n",
    "x"
   ]
  },
  {
   "cell_type": "code",
   "execution_count": 72,
   "metadata": {},
   "outputs": [
    {
     "data": {
      "text/plain": [
       "100"
      ]
     },
     "execution_count": 72,
     "metadata": {},
     "output_type": "execute_result"
    }
   ],
   "source": [
    "y"
   ]
  },
  {
   "cell_type": "code",
   "execution_count": 73,
   "metadata": {},
   "outputs": [
    {
     "data": {
      "text/plain": [
       "0.30000000000000004"
      ]
     },
     "execution_count": 73,
     "metadata": {},
     "output_type": "execute_result"
    }
   ],
   "source": [
    "# floats\n",
    "\n",
    "0.1 + 0.2"
   ]
  },
  {
   "cell_type": "code",
   "execution_count": 74,
   "metadata": {},
   "outputs": [
    {
     "data": {
      "text/plain": [
       "0.3333333333333333"
      ]
     },
     "execution_count": 74,
     "metadata": {},
     "output_type": "execute_result"
    }
   ],
   "source": [
    "1/3"
   ]
  },
  {
   "cell_type": "code",
   "execution_count": 75,
   "metadata": {},
   "outputs": [
    {
     "data": {
      "text/plain": [
       "0.30000000000000004"
      ]
     },
     "execution_count": 75,
     "metadata": {},
     "output_type": "execute_result"
    }
   ],
   "source": [
    "x = 0.1\n",
    "y = 0.2\n",
    "\n",
    "z = x + y\n",
    "z"
   ]
  },
  {
   "cell_type": "code",
   "execution_count": 77,
   "metadata": {},
   "outputs": [
    {
     "data": {
      "text/plain": [
       "0.30000000000000004"
      ]
     },
     "execution_count": 77,
     "metadata": {},
     "output_type": "execute_result"
    }
   ],
   "source": [
    "round(z, 20)"
   ]
  },
  {
   "cell_type": "code",
   "execution_count": 78,
   "metadata": {},
   "outputs": [],
   "source": [
    "# BCD -- binary coded decimals\n",
    "# meaning: we will write the decimal digits using binary numbers, \n",
    "#  and the calculate using those decimal digits, like we did in school"
   ]
  },
  {
   "cell_type": "code",
   "execution_count": 79,
   "metadata": {},
   "outputs": [
    {
     "data": {
      "text/plain": [
       "Decimal('0.3')"
      ]
     },
     "execution_count": 79,
     "metadata": {},
     "output_type": "execute_result"
    }
   ],
   "source": [
    "from decimal import Decimal \n",
    "x = Decimal('0.1')   # use a string to define!\n",
    "y = Decimal('0.2')   # use a string to define!\n",
    "\n",
    "x+y"
   ]
  },
  {
   "cell_type": "code",
   "execution_count": 80,
   "metadata": {},
   "outputs": [
    {
     "data": {
      "text/plain": [
       "0.3"
      ]
     },
     "execution_count": 80,
     "metadata": {},
     "output_type": "execute_result"
    }
   ],
   "source": [
    "float(x+y)"
   ]
  },
  {
   "cell_type": "code",
   "execution_count": 81,
   "metadata": {},
   "outputs": [],
   "source": [
    "x = Decimal(0.1)\n",
    "y = Decimal(0.2)"
   ]
  },
  {
   "cell_type": "code",
   "execution_count": 82,
   "metadata": {},
   "outputs": [
    {
     "data": {
      "text/plain": [
       "Decimal('0.1000000000000000055511151231257827021181583404541015625')"
      ]
     },
     "execution_count": 82,
     "metadata": {},
     "output_type": "execute_result"
    }
   ],
   "source": [
    "x"
   ]
  },
  {
   "cell_type": "code",
   "execution_count": 83,
   "metadata": {},
   "outputs": [
    {
     "data": {
      "text/plain": [
       "Decimal('0.200000000000000011102230246251565404236316680908203125')"
      ]
     },
     "execution_count": 83,
     "metadata": {},
     "output_type": "execute_result"
    }
   ],
   "source": [
    "y"
   ]
  },
  {
   "cell_type": "code",
   "execution_count": 84,
   "metadata": {},
   "outputs": [
    {
     "data": {
      "text/plain": [
       "Decimal('0.3000000000000000166533453694')"
      ]
     },
     "execution_count": 84,
     "metadata": {},
     "output_type": "execute_result"
    }
   ],
   "source": [
    "x+y"
   ]
  },
  {
   "cell_type": "code",
   "execution_count": 85,
   "metadata": {},
   "outputs": [],
   "source": [
    "# strings are a \"sequence\"\n",
    "# sequences: strings, lists, tuples"
   ]
  },
  {
   "cell_type": "code",
   "execution_count": 86,
   "metadata": {},
   "outputs": [
    {
     "data": {
      "text/plain": [
       "'x = abcd, y = 100, z = [10, 20, 30]'"
      ]
     },
     "execution_count": 86,
     "metadata": {},
     "output_type": "execute_result"
    }
   ],
   "source": [
    "# f-strings are as of Python 3.6\n",
    "\n",
    "x = 'abcd'\n",
    "y = 100\n",
    "z = [10, 20, 30]\n",
    "\n",
    "f'x = {x}, y = {y}, z = {z}'"
   ]
  },
  {
   "cell_type": "code",
   "execution_count": 87,
   "metadata": {},
   "outputs": [
    {
     "data": {
      "text/plain": [
       "'x = ABCD, y = 100, z = [10, 20, 30]'"
      ]
     },
     "execution_count": 87,
     "metadata": {},
     "output_type": "execute_result"
    }
   ],
   "source": [
    "f'x = {x.upper()}, y = {y}, z = {z}'"
   ]
  },
  {
   "cell_type": "code",
   "execution_count": 88,
   "metadata": {},
   "outputs": [
    {
     "data": {
      "text/plain": [
       "\"x='abcd', y=100, z=[10, 20, 30]\""
      ]
     },
     "execution_count": 88,
     "metadata": {},
     "output_type": "execute_result"
    }
   ],
   "source": [
    "# as of Python 3.9, there's a new syntax for showing variables + values\n",
    "\n",
    "f'{x=}, {y=}, {z=}'"
   ]
  },
  {
   "cell_type": "code",
   "execution_count": 89,
   "metadata": {},
   "outputs": [
    {
     "name": "stdout",
     "output_type": "stream",
     "text": [
      "Hello, Reuven Lerner.\n"
     ]
    }
   ],
   "source": [
    "first = 'Reuven'\n",
    "last = 'Lerner'\n",
    "\n",
    "s = f'Hello, {first} {last}.'\n",
    "print(s)"
   ]
  },
  {
   "cell_type": "code",
   "execution_count": 90,
   "metadata": {},
   "outputs": [
    {
     "name": "stdout",
     "output_type": "stream",
     "text": [
      "Hello, Reuven     Lerner         .\n"
     ]
    }
   ],
   "source": [
    "s = f'Hello, {first:10} {last:15}.'\n",
    "print(s)"
   ]
  },
  {
   "cell_type": "code",
   "execution_count": 91,
   "metadata": {},
   "outputs": [
    {
     "name": "stdout",
     "output_type": "stream",
     "text": [
      "Hello,   Reuven            Lerner.\n"
     ]
    }
   ],
   "source": [
    "s = f'Hello, {first:^10} {last:>15}.'\n",
    "print(s)"
   ]
  },
  {
   "cell_type": "code",
   "execution_count": 92,
   "metadata": {},
   "outputs": [
    {
     "name": "stdout",
     "output_type": "stream",
     "text": [
      "Hello, **Reuven** _________Lerner.\n"
     ]
    }
   ],
   "source": [
    "s = f'Hello, {first:*^10} {last:_>15}.'\n",
    "print(s)"
   ]
  },
  {
   "cell_type": "code",
   "execution_count": 96,
   "metadata": {},
   "outputs": [
    {
     "name": "stdout",
     "output_type": "stream",
     "text": [
      "a...........1000\n",
      "bcd............2\n",
      "efghi..........3\n",
      "jk.......4567890\n"
     ]
    }
   ],
   "source": [
    "d = {'a':1000, 'bcd':2, 'efghi':3, 'jk':4567890}\n",
    "\n",
    "for key, value in d.items():\n",
    "    print(f'{key:.<8}{value:.>8}')"
   ]
  },
  {
   "cell_type": "code",
   "execution_count": 97,
   "metadata": {},
   "outputs": [
    {
     "data": {
      "text/plain": [
       "True"
      ]
     },
     "execution_count": 97,
     "metadata": {},
     "output_type": "execute_result"
    }
   ],
   "source": [
    "x = 'abcd'\n",
    "y = 'abcd'\n",
    "\n",
    "x == y"
   ]
  },
  {
   "cell_type": "code",
   "execution_count": 98,
   "metadata": {},
   "outputs": [
    {
     "data": {
      "text/plain": [
       "True"
      ]
     },
     "execution_count": 98,
     "metadata": {},
     "output_type": "execute_result"
    }
   ],
   "source": [
    "x is y"
   ]
  },
  {
   "cell_type": "code",
   "execution_count": 99,
   "metadata": {},
   "outputs": [
    {
     "data": {
      "text/plain": [
       "True"
      ]
     },
     "execution_count": 99,
     "metadata": {},
     "output_type": "execute_result"
    }
   ],
   "source": [
    "x = 'abcd' * 5000\n",
    "y = 'abcd' * 5000\n",
    "\n",
    "x == y"
   ]
  },
  {
   "cell_type": "code",
   "execution_count": 100,
   "metadata": {},
   "outputs": [
    {
     "data": {
      "text/plain": [
       "False"
      ]
     },
     "execution_count": 100,
     "metadata": {},
     "output_type": "execute_result"
    }
   ],
   "source": [
    "x is y"
   ]
  },
  {
   "cell_type": "code",
   "execution_count": 101,
   "metadata": {},
   "outputs": [
    {
     "data": {
      "text/plain": [
       "True"
      ]
     },
     "execution_count": 101,
     "metadata": {},
     "output_type": "execute_result"
    }
   ],
   "source": [
    "x = 'ab.cd'\n",
    "y = 'ab.cd'\n",
    "\n",
    "x == y"
   ]
  },
  {
   "cell_type": "code",
   "execution_count": 102,
   "metadata": {},
   "outputs": [
    {
     "data": {
      "text/plain": [
       "False"
      ]
     },
     "execution_count": 102,
     "metadata": {},
     "output_type": "execute_result"
    }
   ],
   "source": [
    "x is y"
   ]
  },
  {
   "cell_type": "code",
   "execution_count": 103,
   "metadata": {},
   "outputs": [],
   "source": [
    "x = 100"
   ]
  },
  {
   "cell_type": "code",
   "execution_count": 104,
   "metadata": {
    "collapsed": true
   },
   "outputs": [
    {
     "data": {
      "text/plain": [
       "{'__name__': '__main__',\n",
       " '__doc__': 'Automatically created module for IPython interactive environment',\n",
       " '__package__': None,\n",
       " '__loader__': None,\n",
       " '__spec__': None,\n",
       " '__builtin__': <module 'builtins' (built-in)>,\n",
       " '__builtins__': <module 'builtins' (built-in)>,\n",
       " '_ih': ['',\n",
       "  'x',\n",
       "  \"print('Hello, world!')\",\n",
       "  \"print('hello')                # enter == go down one line\\nprint('hello again!')          # enter == go down one line\\nprint('hello a third time!')   # shift+enter == execute the code in the cell\",\n",
       "  'x = 100',\n",
       "  'x  # the final expression in a cell is returned',\n",
       "  '10 + 10\\n20 + 20 \\n30 + 30',\n",
       "  \"print('hello')\",\n",
       "  'x',\n",
       "  \"s = input('Enter a string: ')\",\n",
       "  'x',\n",
       "  \"get_ipython().run_line_magic('ls', '')\",\n",
       "  \"get_ipython().run_line_magic('pwd', '')\",\n",
       "  \"def hello(name):\\n    return f'Hello, {name}'\",\n",
       "  'get_ipython().run_line_magic(\\'timeit\\', \"hello(\\'world\\')\")',\n",
       "  'x = None\\n\\ntype(x)',\n",
       "  'None == None',\n",
       "  \"if x == None:\\n    print('Yes, x is None!')\",\n",
       "  \"if x is None:\\n    print('Yes, x is None!')\",\n",
       "  '1 == 1.0',\n",
       "  \"x = 12345\\ny = 67890\\nz = 'hello out there'\",\n",
       "  'type(x)',\n",
       "  'type(y)',\n",
       "  'type(z)',\n",
       "  'id(x)',\n",
       "  'id(y)',\n",
       "  'id(z)',\n",
       "  'y = x    # the variable y should now refer to whatever the variable x is referring to',\n",
       "  'id(x)',\n",
       "  'id(y)',\n",
       "  'x is y   # really asking: id(x) == id(y)',\n",
       "  \"x = None\\n\\nif x is None:\\n    print('yes, x is None!')\",\n",
       "  '# PEP -- Python Enhancement Proposal',\n",
       "  'x = 100\\ny = 100\\n\\nx == y',\n",
       "  'x is y',\n",
       "  'x = 1000\\ny = 1000\\n\\nx == y',\n",
       "  'x is y',\n",
       "  'type(None)',\n",
       "  'type(None)()',\n",
       "  'x = type(None)()\\ny = type(None)()\\nz = type(None)()',\n",
       "  'print(x)',\n",
       "  'print(y)',\n",
       "  'print(z)',\n",
       "  'x is y',\n",
       "  'y is z',\n",
       "  \"x = None\\n\\nif x:\\n    print('x is True-ish')\\nelse:\\n    print('x is False-ish')\",\n",
       "  'bool(None)',\n",
       "  '[] == False',\n",
       "  \"while True:\\n    s = input('Enter your name: ').strip()\\n    \\n    if not s:\\n        break\\n        \\n    print(f'Hello, {name}!')\",\n",
       "  \"while True:\\n    s = input('Enter your name: ').strip()\\n    \\n    if not s:\\n        break\\n        \\n    print(f'Hello, {s}!')\",\n",
       "  \"while s = input('Enter your name: ').strip():\\n    \\n    print(f'Hello, {s}!')\",\n",
       "  '# as of Python 3.8, you can use the \"assignment expression\" operator\\n# aka \"the walrus\"\\n# looks like this:    :=\\n\\nwhile s := input(\\'Enter your name: \\').strip():\\n    \\n    print(f\\'Hello, {s}!\\')',\n",
       "  '# BDFL -- benevolent dictator for life',\n",
       "  'True == True',\n",
       "  'True == 1',\n",
       "  'False == 0',\n",
       "  'type(True)',\n",
       "  'bool.__bases__',\n",
       "  'x = 1',\n",
       "  'import sys\\nsys.getsizeof(x)',\n",
       "  'x = 1',\n",
       "  'x = 1234567890\\nx = x ** 20',\n",
       "  'x = x ** 20',\n",
       "  'x',\n",
       "  'x = x ** 20',\n",
       "  'x = x ** 20',\n",
       "  'sys.getsizeof(x)',\n",
       "  'x = 100\\ny = x\\n\\nx = 200\\ny',\n",
       "  'x = 100     # x refers to the int object 100\\ny = x       # y also refers to the int object 100 (same as x!)\\n\\nx = 200     # x NOW refers to the int object 200 \\ny',\n",
       "  \"x = [10, 20, 30]\\ny = x\\n\\nx[0] = '!!!'   # this is only possible because lists are mutable\\nx\",\n",
       "  'y',\n",
       "  'x = 100\\ny = x\\n\\nx += 10  # really this is: x = x + 10\\nx',\n",
       "  'y',\n",
       "  '# floats\\n\\n0.1 + 0.2',\n",
       "  '1/3',\n",
       "  'x = 0.1\\ny = 0.2\\n\\nz = x + y\\nz',\n",
       "  'round(z, 2)',\n",
       "  'round(z, 20)',\n",
       "  '# BCD -- binary coded decimals\\n# meaning: we will write the decimal digits using binary numbers, \\n#  and the calculate using those decimal digits, like we did in school',\n",
       "  \"from decimal import Decimal \\nx = Decimal('0.1')\\ny = Decimal('0.2')\\n\\nx+y\",\n",
       "  'float(x+y)',\n",
       "  'x = Decimal(0.1)\\ny = Decimal(0.2)',\n",
       "  'x',\n",
       "  'y',\n",
       "  'x+y',\n",
       "  '# strings are a \"sequence\"\\n# sequences: strings, lists, tuples',\n",
       "  \"# f-strings are as of Python 3.6\\n\\nx = 'abcd'\\ny = 100\\nz = [10, 20, 30]\\n\\nf'x = {x}, y = {y}, z = {z}'\",\n",
       "  \"f'x = {x.upper()}, y = {y}, z = {z}'\",\n",
       "  \"# as of Python 3.9, there's a new syntax for showing variables + values\\n\\nf'{x=}, {y=}, {z=}'\",\n",
       "  \"first = 'Reuven'\\nlast = 'Lerner'\\n\\ns = f'Hello, {first} {last}.'\\nprint(s)\",\n",
       "  \"s = f'Hello, {first:10} {last:15}.'\\nprint(s)\",\n",
       "  \"s = f'Hello, {first:^10} {last:>15}.'\\nprint(s)\",\n",
       "  \"s = f'Hello, {first:*^10} {last:_>15}.'\\nprint(s)\",\n",
       "  \"d = {'a':1000, 'bcd':2, 'efghi':3, 'jk':4567890}\\n\\nfor key, value in d.items():\\n    print(f'{key}{value}')\",\n",
       "  \"d = {'a':1000, 'bcd':2, 'efghi':3, 'jk':4567890}\\n\\nfor key, value in d.items():\\n    print(f'{key:8}{value}')\",\n",
       "  \"d = {'a':1000, 'bcd':2, 'efghi':3, 'jk':4567890}\\n\\nfor key, value in d.items():\\n    print(f'{key:.<8}{value}')\",\n",
       "  \"d = {'a':1000, 'bcd':2, 'efghi':3, 'jk':4567890}\\n\\nfor key, value in d.items():\\n    print(f'{key:.<8}{value:.>8}')\",\n",
       "  \"x = 'abcd'\\ny = 'abcd'\\n\\nx == y\",\n",
       "  'x is y',\n",
       "  \"x = 'abcd' * 5000\\ny = 'abcd' * 5000\\n\\nx == y\",\n",
       "  'x is y',\n",
       "  \"x = 'ab.cd'\\ny = 'ab.cd'\\n\\nx == y\",\n",
       "  'x is y',\n",
       "  'x = 100',\n",
       "  \"# x is turned into a string ('x') and used a key in the globals dictionary\\nglobals()  # this function returns that dictionary!\"],\n",
       " '_oh': {5: 100,\n",
       "  6: 60,\n",
       "  8: 100,\n",
       "  10: 100,\n",
       "  12: '/Users/reuven/Courses/Current/Cisco-2021-feb-22-advanced',\n",
       "  15: NoneType,\n",
       "  16: True,\n",
       "  19: True,\n",
       "  21: int,\n",
       "  22: int,\n",
       "  23: str,\n",
       "  24: 4365848912,\n",
       "  25: 4365848720,\n",
       "  26: 4365854576,\n",
       "  28: 4365848912,\n",
       "  29: 4365848912,\n",
       "  30: True,\n",
       "  33: True,\n",
       "  34: True,\n",
       "  35: True,\n",
       "  36: False,\n",
       "  37: NoneType,\n",
       "  43: True,\n",
       "  44: True,\n",
       "  46: False,\n",
       "  47: False,\n",
       "  53: True,\n",
       "  54: True,\n",
       "  55: True,\n",
       "  56: bool,\n",
       "  57: (int,),\n",
       "  59: 28,\n",
       "  63: 4036369052503575996191364206826070861085372028903818320249489982592615874784840921312874505664950504727484471800709614532787968395773235268585972297296374565117844943152597672861376686769252342272949187580892175646644056306614059831335947728728086734926967862177006382085409704371096442604358613534293202692636008610863737499454994753907362362797963209520989005721999553986664619658617827520845489688846291675781162297520360296296220190912193669016987534820486996513701536391611744555647829113987909204662891491532549703778202698791846642830132936104097633800095675681488238752598459848604822821057927852147161057080923563351200535321645191458393479880914268260914469129599595412544051513705486955571150068648044122052326956326604756657192900111295315329629298933503785055931049219621411659018166487773325875961429333001477087606882375667891722137653746933533866231554790272093783004077784000467473972658599299563005570242769501264899800980959438108868416438810681872553376276977843115588145638869944849249754426977195290685401224297356033799898881602943745955193392902679430213641070322075042356127819895668730271604014823135109453900580159949164480926944011464806476840563948548775291037597474932505074377651340245144250931712335393939623811597000583910291763785359095790724676743469473209743603388226723171297680638239106226906035269246834755493618754468979378872791783176243639019872349825883150650056679958443255525146898836188942107696974522818420686892193286623420272986789931117364172392987476805371615597361678574422731446515133614740414263497416124717784766904225153222548427511796727672455140190488075190739527583139276716297161379042703712580890560338636358857254435937088906607035719813041591922712324823959202187595662818750442798907892703280516000883527916562137620368673385754431093720582904484774749972893304339223682432471032075975277377734442902519422119913402834974087183370348343152044659675002024497316351682452206587802026802132748297979821501921231724134722731260538664737718119936475095772476680077611388892433909155664557078305584358542684014625805542522328024932350192236298289098631220308942487577858896549867756532526864213868560197339792909090730568255854039662181869378530541727917262063086175743275118787198971743075075412189402986442239551775370333583163918489808573533836716406667791784633478704713183474578561175166184751756477652949396731802988744857922991359838479588293117942720026207626669742157514017467850376181693596109627498041671421725645023288228902880842629954438288119664191675015899444674109433476713659074552932731206590113695208148539863569694862989316615939544002207526978819953763240013368741510093023536160445327848660242402731178994640643831865619518410092779461435531036034394445708435967548390136326534871722274970487569499080391784185015174626358457484161627840038967250763956578977858061427574303066299224679944347982491459490878874677720573150007132161986939354206768382483611393615464686340273224150824280041356248291609272990054904971672234195330549774486786566146087201847098543205455279285412444380461121237915820957235626850794109557393637604092690445658208376300584268209373440710989874502154288951234993224528166263306990435746969510314062218284028843023775225045262640010000000000000000000000000000000000000000000000000000000000000000000000000000000000000000000000000000000000000000000000000000000000000000000000000000000000000000000000000000000000000000000000000000000000000000000000000000000000000000000000000000000000000000000000000000000000000000000000000000000000000000000000000000000000000000000000000000000000000000000000000000000000000000000000000000000000000000,\n",
       "  66: 644320,\n",
       "  67: 100,\n",
       "  68: 100,\n",
       "  69: ['!!!', 20, 30],\n",
       "  70: ['!!!', 20, 30],\n",
       "  71: 110,\n",
       "  72: 100,\n",
       "  73: 0.30000000000000004,\n",
       "  74: 0.3333333333333333,\n",
       "  75: 0.30000000000000004,\n",
       "  76: 0.3,\n",
       "  77: 0.30000000000000004,\n",
       "  79: Decimal('0.3'),\n",
       "  80: 0.3,\n",
       "  82: Decimal('0.1000000000000000055511151231257827021181583404541015625'),\n",
       "  83: Decimal('0.200000000000000011102230246251565404236316680908203125'),\n",
       "  84: Decimal('0.3000000000000000166533453694'),\n",
       "  86: 'x = abcd, y = 100, z = [10, 20, 30]',\n",
       "  87: 'x = ABCD, y = 100, z = [10, 20, 30]',\n",
       "  88: \"x='abcd', y=100, z=[10, 20, 30]\",\n",
       "  97: True,\n",
       "  98: True,\n",
       "  99: True,\n",
       "  100: False,\n",
       "  101: True,\n",
       "  102: False},\n",
       " '_dh': ['/Users/reuven/Courses/Current/Cisco-2021-feb-22-advanced'],\n",
       " 'In': ['',\n",
       "  'x',\n",
       "  \"print('Hello, world!')\",\n",
       "  \"print('hello')                # enter == go down one line\\nprint('hello again!')          # enter == go down one line\\nprint('hello a third time!')   # shift+enter == execute the code in the cell\",\n",
       "  'x = 100',\n",
       "  'x  # the final expression in a cell is returned',\n",
       "  '10 + 10\\n20 + 20 \\n30 + 30',\n",
       "  \"print('hello')\",\n",
       "  'x',\n",
       "  \"s = input('Enter a string: ')\",\n",
       "  'x',\n",
       "  \"get_ipython().run_line_magic('ls', '')\",\n",
       "  \"get_ipython().run_line_magic('pwd', '')\",\n",
       "  \"def hello(name):\\n    return f'Hello, {name}'\",\n",
       "  'get_ipython().run_line_magic(\\'timeit\\', \"hello(\\'world\\')\")',\n",
       "  'x = None\\n\\ntype(x)',\n",
       "  'None == None',\n",
       "  \"if x == None:\\n    print('Yes, x is None!')\",\n",
       "  \"if x is None:\\n    print('Yes, x is None!')\",\n",
       "  '1 == 1.0',\n",
       "  \"x = 12345\\ny = 67890\\nz = 'hello out there'\",\n",
       "  'type(x)',\n",
       "  'type(y)',\n",
       "  'type(z)',\n",
       "  'id(x)',\n",
       "  'id(y)',\n",
       "  'id(z)',\n",
       "  'y = x    # the variable y should now refer to whatever the variable x is referring to',\n",
       "  'id(x)',\n",
       "  'id(y)',\n",
       "  'x is y   # really asking: id(x) == id(y)',\n",
       "  \"x = None\\n\\nif x is None:\\n    print('yes, x is None!')\",\n",
       "  '# PEP -- Python Enhancement Proposal',\n",
       "  'x = 100\\ny = 100\\n\\nx == y',\n",
       "  'x is y',\n",
       "  'x = 1000\\ny = 1000\\n\\nx == y',\n",
       "  'x is y',\n",
       "  'type(None)',\n",
       "  'type(None)()',\n",
       "  'x = type(None)()\\ny = type(None)()\\nz = type(None)()',\n",
       "  'print(x)',\n",
       "  'print(y)',\n",
       "  'print(z)',\n",
       "  'x is y',\n",
       "  'y is z',\n",
       "  \"x = None\\n\\nif x:\\n    print('x is True-ish')\\nelse:\\n    print('x is False-ish')\",\n",
       "  'bool(None)',\n",
       "  '[] == False',\n",
       "  \"while True:\\n    s = input('Enter your name: ').strip()\\n    \\n    if not s:\\n        break\\n        \\n    print(f'Hello, {name}!')\",\n",
       "  \"while True:\\n    s = input('Enter your name: ').strip()\\n    \\n    if not s:\\n        break\\n        \\n    print(f'Hello, {s}!')\",\n",
       "  \"while s = input('Enter your name: ').strip():\\n    \\n    print(f'Hello, {s}!')\",\n",
       "  '# as of Python 3.8, you can use the \"assignment expression\" operator\\n# aka \"the walrus\"\\n# looks like this:    :=\\n\\nwhile s := input(\\'Enter your name: \\').strip():\\n    \\n    print(f\\'Hello, {s}!\\')',\n",
       "  '# BDFL -- benevolent dictator for life',\n",
       "  'True == True',\n",
       "  'True == 1',\n",
       "  'False == 0',\n",
       "  'type(True)',\n",
       "  'bool.__bases__',\n",
       "  'x = 1',\n",
       "  'import sys\\nsys.getsizeof(x)',\n",
       "  'x = 1',\n",
       "  'x = 1234567890\\nx = x ** 20',\n",
       "  'x = x ** 20',\n",
       "  'x',\n",
       "  'x = x ** 20',\n",
       "  'x = x ** 20',\n",
       "  'sys.getsizeof(x)',\n",
       "  'x = 100\\ny = x\\n\\nx = 200\\ny',\n",
       "  'x = 100     # x refers to the int object 100\\ny = x       # y also refers to the int object 100 (same as x!)\\n\\nx = 200     # x NOW refers to the int object 200 \\ny',\n",
       "  \"x = [10, 20, 30]\\ny = x\\n\\nx[0] = '!!!'   # this is only possible because lists are mutable\\nx\",\n",
       "  'y',\n",
       "  'x = 100\\ny = x\\n\\nx += 10  # really this is: x = x + 10\\nx',\n",
       "  'y',\n",
       "  '# floats\\n\\n0.1 + 0.2',\n",
       "  '1/3',\n",
       "  'x = 0.1\\ny = 0.2\\n\\nz = x + y\\nz',\n",
       "  'round(z, 2)',\n",
       "  'round(z, 20)',\n",
       "  '# BCD -- binary coded decimals\\n# meaning: we will write the decimal digits using binary numbers, \\n#  and the calculate using those decimal digits, like we did in school',\n",
       "  \"from decimal import Decimal \\nx = Decimal('0.1')\\ny = Decimal('0.2')\\n\\nx+y\",\n",
       "  'float(x+y)',\n",
       "  'x = Decimal(0.1)\\ny = Decimal(0.2)',\n",
       "  'x',\n",
       "  'y',\n",
       "  'x+y',\n",
       "  '# strings are a \"sequence\"\\n# sequences: strings, lists, tuples',\n",
       "  \"# f-strings are as of Python 3.6\\n\\nx = 'abcd'\\ny = 100\\nz = [10, 20, 30]\\n\\nf'x = {x}, y = {y}, z = {z}'\",\n",
       "  \"f'x = {x.upper()}, y = {y}, z = {z}'\",\n",
       "  \"# as of Python 3.9, there's a new syntax for showing variables + values\\n\\nf'{x=}, {y=}, {z=}'\",\n",
       "  \"first = 'Reuven'\\nlast = 'Lerner'\\n\\ns = f'Hello, {first} {last}.'\\nprint(s)\",\n",
       "  \"s = f'Hello, {first:10} {last:15}.'\\nprint(s)\",\n",
       "  \"s = f'Hello, {first:^10} {last:>15}.'\\nprint(s)\",\n",
       "  \"s = f'Hello, {first:*^10} {last:_>15}.'\\nprint(s)\",\n",
       "  \"d = {'a':1000, 'bcd':2, 'efghi':3, 'jk':4567890}\\n\\nfor key, value in d.items():\\n    print(f'{key}{value}')\",\n",
       "  \"d = {'a':1000, 'bcd':2, 'efghi':3, 'jk':4567890}\\n\\nfor key, value in d.items():\\n    print(f'{key:8}{value}')\",\n",
       "  \"d = {'a':1000, 'bcd':2, 'efghi':3, 'jk':4567890}\\n\\nfor key, value in d.items():\\n    print(f'{key:.<8}{value}')\",\n",
       "  \"d = {'a':1000, 'bcd':2, 'efghi':3, 'jk':4567890}\\n\\nfor key, value in d.items():\\n    print(f'{key:.<8}{value:.>8}')\",\n",
       "  \"x = 'abcd'\\ny = 'abcd'\\n\\nx == y\",\n",
       "  'x is y',\n",
       "  \"x = 'abcd' * 5000\\ny = 'abcd' * 5000\\n\\nx == y\",\n",
       "  'x is y',\n",
       "  \"x = 'ab.cd'\\ny = 'ab.cd'\\n\\nx == y\",\n",
       "  'x is y',\n",
       "  'x = 100',\n",
       "  \"# x is turned into a string ('x') and used a key in the globals dictionary\\nglobals()  # this function returns that dictionary!\"],\n",
       " 'Out': {5: 100,\n",
       "  6: 60,\n",
       "  8: 100,\n",
       "  10: 100,\n",
       "  12: '/Users/reuven/Courses/Current/Cisco-2021-feb-22-advanced',\n",
       "  15: NoneType,\n",
       "  16: True,\n",
       "  19: True,\n",
       "  21: int,\n",
       "  22: int,\n",
       "  23: str,\n",
       "  24: 4365848912,\n",
       "  25: 4365848720,\n",
       "  26: 4365854576,\n",
       "  28: 4365848912,\n",
       "  29: 4365848912,\n",
       "  30: True,\n",
       "  33: True,\n",
       "  34: True,\n",
       "  35: True,\n",
       "  36: False,\n",
       "  37: NoneType,\n",
       "  43: True,\n",
       "  44: True,\n",
       "  46: False,\n",
       "  47: False,\n",
       "  53: True,\n",
       "  54: True,\n",
       "  55: True,\n",
       "  56: bool,\n",
       "  57: (int,),\n",
       "  59: 28,\n",
       "  63: 4036369052503575996191364206826070861085372028903818320249489982592615874784840921312874505664950504727484471800709614532787968395773235268585972297296374565117844943152597672861376686769252342272949187580892175646644056306614059831335947728728086734926967862177006382085409704371096442604358613534293202692636008610863737499454994753907362362797963209520989005721999553986664619658617827520845489688846291675781162297520360296296220190912193669016987534820486996513701536391611744555647829113987909204662891491532549703778202698791846642830132936104097633800095675681488238752598459848604822821057927852147161057080923563351200535321645191458393479880914268260914469129599595412544051513705486955571150068648044122052326956326604756657192900111295315329629298933503785055931049219621411659018166487773325875961429333001477087606882375667891722137653746933533866231554790272093783004077784000467473972658599299563005570242769501264899800980959438108868416438810681872553376276977843115588145638869944849249754426977195290685401224297356033799898881602943745955193392902679430213641070322075042356127819895668730271604014823135109453900580159949164480926944011464806476840563948548775291037597474932505074377651340245144250931712335393939623811597000583910291763785359095790724676743469473209743603388226723171297680638239106226906035269246834755493618754468979378872791783176243639019872349825883150650056679958443255525146898836188942107696974522818420686892193286623420272986789931117364172392987476805371615597361678574422731446515133614740414263497416124717784766904225153222548427511796727672455140190488075190739527583139276716297161379042703712580890560338636358857254435937088906607035719813041591922712324823959202187595662818750442798907892703280516000883527916562137620368673385754431093720582904484774749972893304339223682432471032075975277377734442902519422119913402834974087183370348343152044659675002024497316351682452206587802026802132748297979821501921231724134722731260538664737718119936475095772476680077611388892433909155664557078305584358542684014625805542522328024932350192236298289098631220308942487577858896549867756532526864213868560197339792909090730568255854039662181869378530541727917262063086175743275118787198971743075075412189402986442239551775370333583163918489808573533836716406667791784633478704713183474578561175166184751756477652949396731802988744857922991359838479588293117942720026207626669742157514017467850376181693596109627498041671421725645023288228902880842629954438288119664191675015899444674109433476713659074552932731206590113695208148539863569694862989316615939544002207526978819953763240013368741510093023536160445327848660242402731178994640643831865619518410092779461435531036034394445708435967548390136326534871722274970487569499080391784185015174626358457484161627840038967250763956578977858061427574303066299224679944347982491459490878874677720573150007132161986939354206768382483611393615464686340273224150824280041356248291609272990054904971672234195330549774486786566146087201847098543205455279285412444380461121237915820957235626850794109557393637604092690445658208376300584268209373440710989874502154288951234993224528166263306990435746969510314062218284028843023775225045262640010000000000000000000000000000000000000000000000000000000000000000000000000000000000000000000000000000000000000000000000000000000000000000000000000000000000000000000000000000000000000000000000000000000000000000000000000000000000000000000000000000000000000000000000000000000000000000000000000000000000000000000000000000000000000000000000000000000000000000000000000000000000000000000000000000000000000000,\n",
       "  66: 644320,\n",
       "  67: 100,\n",
       "  68: 100,\n",
       "  69: ['!!!', 20, 30],\n",
       "  70: ['!!!', 20, 30],\n",
       "  71: 110,\n",
       "  72: 100,\n",
       "  73: 0.30000000000000004,\n",
       "  74: 0.3333333333333333,\n",
       "  75: 0.30000000000000004,\n",
       "  76: 0.3,\n",
       "  77: 0.30000000000000004,\n",
       "  79: Decimal('0.3'),\n",
       "  80: 0.3,\n",
       "  82: Decimal('0.1000000000000000055511151231257827021181583404541015625'),\n",
       "  83: Decimal('0.200000000000000011102230246251565404236316680908203125'),\n",
       "  84: Decimal('0.3000000000000000166533453694'),\n",
       "  86: 'x = abcd, y = 100, z = [10, 20, 30]',\n",
       "  87: 'x = ABCD, y = 100, z = [10, 20, 30]',\n",
       "  88: \"x='abcd', y=100, z=[10, 20, 30]\",\n",
       "  97: True,\n",
       "  98: True,\n",
       "  99: True,\n",
       "  100: False,\n",
       "  101: True,\n",
       "  102: False},\n",
       " 'get_ipython': <bound method InteractiveShell.get_ipython of <ipykernel.zmqshell.ZMQInteractiveShell object at 0x104170070>>,\n",
       " 'exit': <IPython.core.autocall.ZMQExitAutocall at 0x10422e8e0>,\n",
       " 'quit': <IPython.core.autocall.ZMQExitAutocall at 0x10422e8e0>,\n",
       " '_': False,\n",
       " '__': True,\n",
       " '___': False,\n",
       " '_i': 'x = 100',\n",
       " '_ii': 'x is y',\n",
       " '_iii': \"x = 'ab.cd'\\ny = 'ab.cd'\\n\\nx == y\",\n",
       " '_i1': 'x',\n",
       " '_i2': \"print('Hello, world!')\",\n",
       " '_i3': \"print('hello')                # enter == go down one line\\nprint('hello again!')          # enter == go down one line\\nprint('hello a third time!')   # shift+enter == execute the code in the cell\",\n",
       " '_i4': 'x = 100',\n",
       " 'x': 100,\n",
       " '_i5': 'x  # the final expression in a cell is returned',\n",
       " '_5': 100,\n",
       " '_i6': '10 + 10\\n20 + 20 \\n30 + 30',\n",
       " '_6': 60,\n",
       " '_i7': \"print('hello')\",\n",
       " '_i8': 'x',\n",
       " '_8': 100,\n",
       " '_i9': \"s = input('Enter a string: ')\",\n",
       " 's': 'Hello, **Reuven** _________Lerner.',\n",
       " '_i10': 'x',\n",
       " '_10': 100,\n",
       " '_i11': '%ls',\n",
       " '_exit_code': 0,\n",
       " '_i12': '%pwd',\n",
       " '_12': '/Users/reuven/Courses/Current/Cisco-2021-feb-22-advanced',\n",
       " '_i13': \"def hello(name):\\n    return f'Hello, {name}'\",\n",
       " 'hello': <function __main__.hello(name)>,\n",
       " '_i14': \"%timeit hello('world')\",\n",
       " '_i15': 'x = None\\n\\ntype(x)',\n",
       " '_15': NoneType,\n",
       " '_i16': 'None == None',\n",
       " '_16': True,\n",
       " '_i17': \"if x == None:\\n    print('Yes, x is None!')\",\n",
       " '_i18': \"if x is None:\\n    print('Yes, x is None!')\",\n",
       " '_i19': '1 == 1.0',\n",
       " '_19': True,\n",
       " '_i20': \"x = 12345\\ny = 67890\\nz = 'hello out there'\",\n",
       " 'y': 'ab.cd',\n",
       " 'z': [10, 20, 30],\n",
       " '_i21': 'type(x)',\n",
       " '_21': int,\n",
       " '_i22': 'type(y)',\n",
       " '_22': int,\n",
       " '_i23': 'type(z)',\n",
       " '_23': str,\n",
       " '_i24': 'id(x)',\n",
       " '_24': 4365848912,\n",
       " '_i25': 'id(y)',\n",
       " '_25': 4365848720,\n",
       " '_i26': 'id(z)',\n",
       " '_26': 4365854576,\n",
       " '_i27': 'y = x    # the variable y should now refer to whatever the variable x is referring to',\n",
       " '_i28': 'id(x)',\n",
       " '_28': 4365848912,\n",
       " '_i29': 'id(y)',\n",
       " '_29': 4365848912,\n",
       " '_i30': 'x is y   # really asking: id(x) == id(y)',\n",
       " '_30': True,\n",
       " '_i31': \"x = None\\n\\nif x is None:\\n    print('yes, x is None!')\",\n",
       " '_i32': '# PEP -- Python Enhancement Proposal',\n",
       " '_i33': 'x = 100\\ny = 100\\n\\nx == y',\n",
       " '_33': True,\n",
       " '_i34': 'x is y',\n",
       " '_34': True,\n",
       " '_i35': 'x = 1000\\ny = 1000\\n\\nx == y',\n",
       " '_35': True,\n",
       " '_i36': 'x is y',\n",
       " '_36': False,\n",
       " '_i37': 'type(None)',\n",
       " '_37': NoneType,\n",
       " '_i38': 'type(None)()',\n",
       " '_i39': 'x = type(None)()\\ny = type(None)()\\nz = type(None)()',\n",
       " '_i40': 'print(x)',\n",
       " '_i41': 'print(y)',\n",
       " '_i42': 'print(z)',\n",
       " '_i43': 'x is y',\n",
       " '_43': True,\n",
       " '_i44': 'y is z',\n",
       " '_44': True,\n",
       " '_i45': \"x = None\\n\\nif x:\\n    print('x is True-ish')\\nelse:\\n    print('x is False-ish')\",\n",
       " '_i46': 'bool(None)',\n",
       " '_46': False,\n",
       " '_i47': '[] == False',\n",
       " '_47': False,\n",
       " '_i48': \"while True:\\n    s = input('Enter your name: ').strip()\\n    \\n    if not s:\\n        break\\n        \\n    print(f'Hello, {name}!')\",\n",
       " '_i49': \"while True:\\n    s = input('Enter your name: ').strip()\\n    \\n    if not s:\\n        break\\n        \\n    print(f'Hello, {s}!')\",\n",
       " '_i50': \"while s = input('Enter your name: ').strip():\\n    \\n    print(f'Hello, {s}!')\",\n",
       " '_i51': '# as of Python 3.8, you can use the \"assignment expression\" operator\\n# aka \"the walrus\"\\n# looks like this:    :=\\n\\nwhile s := input(\\'Enter your name: \\').strip():\\n    \\n    print(f\\'Hello, {s}!\\')',\n",
       " '_i52': '# BDFL -- benevolent dictator for life',\n",
       " '_i53': 'True == True',\n",
       " '_53': True,\n",
       " '_i54': 'True == 1',\n",
       " '_54': True,\n",
       " '_i55': 'False == 0',\n",
       " '_55': True,\n",
       " '_i56': 'type(True)',\n",
       " '_56': bool,\n",
       " '_i57': 'bool.__bases__',\n",
       " '_57': (int,),\n",
       " '_i58': 'x = 1',\n",
       " '_i59': 'import sys\\nsys.getsizeof(x)',\n",
       " 'sys': <module 'sys' (built-in)>,\n",
       " '_59': 28,\n",
       " '_i60': 'x = 1',\n",
       " '_i61': 'x = 1234567890\\nx = x ** 20',\n",
       " '_i62': 'x = x ** 20',\n",
       " '_i63': 'x',\n",
       " '_63': 4036369052503575996191364206826070861085372028903818320249489982592615874784840921312874505664950504727484471800709614532787968395773235268585972297296374565117844943152597672861376686769252342272949187580892175646644056306614059831335947728728086734926967862177006382085409704371096442604358613534293202692636008610863737499454994753907362362797963209520989005721999553986664619658617827520845489688846291675781162297520360296296220190912193669016987534820486996513701536391611744555647829113987909204662891491532549703778202698791846642830132936104097633800095675681488238752598459848604822821057927852147161057080923563351200535321645191458393479880914268260914469129599595412544051513705486955571150068648044122052326956326604756657192900111295315329629298933503785055931049219621411659018166487773325875961429333001477087606882375667891722137653746933533866231554790272093783004077784000467473972658599299563005570242769501264899800980959438108868416438810681872553376276977843115588145638869944849249754426977195290685401224297356033799898881602943745955193392902679430213641070322075042356127819895668730271604014823135109453900580159949164480926944011464806476840563948548775291037597474932505074377651340245144250931712335393939623811597000583910291763785359095790724676743469473209743603388226723171297680638239106226906035269246834755493618754468979378872791783176243639019872349825883150650056679958443255525146898836188942107696974522818420686892193286623420272986789931117364172392987476805371615597361678574422731446515133614740414263497416124717784766904225153222548427511796727672455140190488075190739527583139276716297161379042703712580890560338636358857254435937088906607035719813041591922712324823959202187595662818750442798907892703280516000883527916562137620368673385754431093720582904484774749972893304339223682432471032075975277377734442902519422119913402834974087183370348343152044659675002024497316351682452206587802026802132748297979821501921231724134722731260538664737718119936475095772476680077611388892433909155664557078305584358542684014625805542522328024932350192236298289098631220308942487577858896549867756532526864213868560197339792909090730568255854039662181869378530541727917262063086175743275118787198971743075075412189402986442239551775370333583163918489808573533836716406667791784633478704713183474578561175166184751756477652949396731802988744857922991359838479588293117942720026207626669742157514017467850376181693596109627498041671421725645023288228902880842629954438288119664191675015899444674109433476713659074552932731206590113695208148539863569694862989316615939544002207526978819953763240013368741510093023536160445327848660242402731178994640643831865619518410092779461435531036034394445708435967548390136326534871722274970487569499080391784185015174626358457484161627840038967250763956578977858061427574303066299224679944347982491459490878874677720573150007132161986939354206768382483611393615464686340273224150824280041356248291609272990054904971672234195330549774486786566146087201847098543205455279285412444380461121237915820957235626850794109557393637604092690445658208376300584268209373440710989874502154288951234993224528166263306990435746969510314062218284028843023775225045262640010000000000000000000000000000000000000000000000000000000000000000000000000000000000000000000000000000000000000000000000000000000000000000000000000000000000000000000000000000000000000000000000000000000000000000000000000000000000000000000000000000000000000000000000000000000000000000000000000000000000000000000000000000000000000000000000000000000000000000000000000000000000000000000000000000000000000000,\n",
       " '_i64': 'x = x ** 20',\n",
       " '_i65': 'x = x ** 20',\n",
       " '_i66': 'sys.getsizeof(x)',\n",
       " '_66': 644320,\n",
       " '_i67': 'x = 100\\ny = x\\n\\nx = 200\\ny',\n",
       " '_67': 100,\n",
       " '_i68': 'x = 100     # x refers to the int object 100\\ny = x       # y also refers to the int object 100 (same as x!)\\n\\nx = 200     # x NOW refers to the int object 200 \\ny',\n",
       " '_68': 100,\n",
       " '_i69': \"x = [10, 20, 30]\\ny = x\\n\\nx[0] = '!!!'   # this is only possible because lists are mutable\\nx\",\n",
       " '_69': ['!!!', 20, 30],\n",
       " '_i70': 'y',\n",
       " '_70': ['!!!', 20, 30],\n",
       " '_i71': 'x = 100\\ny = x\\n\\nx += 10  # really this is: x = x + 10\\nx',\n",
       " '_71': 110,\n",
       " '_i72': 'y',\n",
       " '_72': 100,\n",
       " '_i73': '# floats\\n\\n0.1 + 0.2',\n",
       " '_73': 0.30000000000000004,\n",
       " '_i74': '1/3',\n",
       " '_74': 0.3333333333333333,\n",
       " '_i75': 'x = 0.1\\ny = 0.2\\n\\nz = x + y\\nz',\n",
       " '_75': 0.30000000000000004,\n",
       " '_i76': 'round(z, 2)',\n",
       " '_76': 0.3,\n",
       " '_i77': 'round(z, 20)',\n",
       " '_77': 0.30000000000000004,\n",
       " '_i78': '# BCD -- binary coded decimals\\n# meaning: we will write the decimal digits using binary numbers, \\n#  and the calculate using those decimal digits, like we did in school',\n",
       " '_i79': \"from decimal import Decimal \\nx = Decimal('0.1')\\ny = Decimal('0.2')\\n\\nx+y\",\n",
       " 'Decimal': decimal.Decimal,\n",
       " '_79': Decimal('0.3'),\n",
       " '_i80': 'float(x+y)',\n",
       " '_80': 0.3,\n",
       " '_i81': 'x = Decimal(0.1)\\ny = Decimal(0.2)',\n",
       " '_i82': 'x',\n",
       " '_82': Decimal('0.1000000000000000055511151231257827021181583404541015625'),\n",
       " '_i83': 'y',\n",
       " '_83': Decimal('0.200000000000000011102230246251565404236316680908203125'),\n",
       " '_i84': 'x+y',\n",
       " '_84': Decimal('0.3000000000000000166533453694'),\n",
       " '_i85': '# strings are a \"sequence\"\\n# sequences: strings, lists, tuples',\n",
       " '_i86': \"# f-strings are as of Python 3.6\\n\\nx = 'abcd'\\ny = 100\\nz = [10, 20, 30]\\n\\nf'x = {x}, y = {y}, z = {z}'\",\n",
       " '_86': 'x = abcd, y = 100, z = [10, 20, 30]',\n",
       " '_i87': \"f'x = {x.upper()}, y = {y}, z = {z}'\",\n",
       " '_87': 'x = ABCD, y = 100, z = [10, 20, 30]',\n",
       " '_i88': \"# as of Python 3.9, there's a new syntax for showing variables + values\\n\\nf'{x=}, {y=}, {z=}'\",\n",
       " '_88': \"x='abcd', y=100, z=[10, 20, 30]\",\n",
       " '_i89': \"first = 'Reuven'\\nlast = 'Lerner'\\n\\ns = f'Hello, {first} {last}.'\\nprint(s)\",\n",
       " 'first': 'Reuven',\n",
       " 'last': 'Lerner',\n",
       " '_i90': \"s = f'Hello, {first:10} {last:15}.'\\nprint(s)\",\n",
       " '_i91': \"s = f'Hello, {first:^10} {last:>15}.'\\nprint(s)\",\n",
       " '_i92': \"s = f'Hello, {first:*^10} {last:_>15}.'\\nprint(s)\",\n",
       " '_i93': \"d = {'a':1000, 'bcd':2, 'efghi':3, 'jk':4567890}\\n\\nfor key, value in d.items():\\n    print(f'{key}{value}')\",\n",
       " 'd': {'a': 1000, 'bcd': 2, 'efghi': 3, 'jk': 4567890},\n",
       " 'key': 'jk',\n",
       " 'value': 4567890,\n",
       " '_i94': \"d = {'a':1000, 'bcd':2, 'efghi':3, 'jk':4567890}\\n\\nfor key, value in d.items():\\n    print(f'{key:8}{value}')\",\n",
       " '_i95': \"d = {'a':1000, 'bcd':2, 'efghi':3, 'jk':4567890}\\n\\nfor key, value in d.items():\\n    print(f'{key:.<8}{value}')\",\n",
       " '_i96': \"d = {'a':1000, 'bcd':2, 'efghi':3, 'jk':4567890}\\n\\nfor key, value in d.items():\\n    print(f'{key:.<8}{value:.>8}')\",\n",
       " '_i97': \"x = 'abcd'\\ny = 'abcd'\\n\\nx == y\",\n",
       " '_97': True,\n",
       " '_i98': 'x is y',\n",
       " '_98': True,\n",
       " '_i99': \"x = 'abcd' * 5000\\ny = 'abcd' * 5000\\n\\nx == y\",\n",
       " '_99': True,\n",
       " '_i100': 'x is y',\n",
       " '_100': False,\n",
       " '_i101': \"x = 'ab.cd'\\ny = 'ab.cd'\\n\\nx == y\",\n",
       " '_101': True,\n",
       " '_i102': 'x is y',\n",
       " '_102': False,\n",
       " '_i103': 'x = 100',\n",
       " '_i104': \"# x is turned into a string ('x') and used a key in the globals dictionary\\nglobals()  # this function returns that dictionary!\"}"
      ]
     },
     "execution_count": 104,
     "metadata": {},
     "output_type": "execute_result"
    }
   ],
   "source": [
    "# x is turned into a string ('x') and used a key in the globals dictionary\n",
    "globals()  # this function returns that dictionary!"
   ]
  },
  {
   "cell_type": "code",
   "execution_count": 105,
   "metadata": {},
   "outputs": [
    {
     "name": "stdout",
     "output_type": "stream",
     "text": [
      "100\n"
     ]
    }
   ],
   "source": [
    "print(x)"
   ]
  },
  {
   "cell_type": "code",
   "execution_count": 106,
   "metadata": {},
   "outputs": [
    {
     "data": {
      "text/plain": [
       "True"
      ]
     },
     "execution_count": 106,
     "metadata": {},
     "output_type": "execute_result"
    }
   ],
   "source": [
    "'x' in globals()  # is it a key?"
   ]
  },
  {
   "cell_type": "code",
   "execution_count": 107,
   "metadata": {},
   "outputs": [
    {
     "data": {
      "text/plain": [
       "100"
      ]
     },
     "execution_count": 107,
     "metadata": {},
     "output_type": "execute_result"
    }
   ],
   "source": [
    "globals()['x']"
   ]
  },
  {
   "cell_type": "code",
   "execution_count": 108,
   "metadata": {},
   "outputs": [],
   "source": [
    "globals()['x'] = 200"
   ]
  },
  {
   "cell_type": "code",
   "execution_count": 109,
   "metadata": {},
   "outputs": [
    {
     "data": {
      "text/plain": [
       "200"
      ]
     },
     "execution_count": 109,
     "metadata": {},
     "output_type": "execute_result"
    }
   ],
   "source": [
    "x"
   ]
  },
  {
   "cell_type": "code",
   "execution_count": 111,
   "metadata": {},
   "outputs": [],
   "source": [
    "# Python uses \"interning\" on strings.  Meaning:\n",
    "# - the first time it sees a string, it creates the string\n",
    "# - any subsequent time, it just reuses that same string object"
   ]
  },
  {
   "cell_type": "code",
   "execution_count": 114,
   "metadata": {},
   "outputs": [],
   "source": [
    "x = sys.intern('ab.cd')\n",
    "y = sys.intern('ab.cd')"
   ]
  },
  {
   "cell_type": "code",
   "execution_count": 115,
   "metadata": {},
   "outputs": [
    {
     "data": {
      "text/plain": [
       "True"
      ]
     },
     "execution_count": 115,
     "metadata": {},
     "output_type": "execute_result"
    }
   ],
   "source": [
    "x is y"
   ]
  },
  {
   "cell_type": "code",
   "execution_count": 116,
   "metadata": {},
   "outputs": [
    {
     "data": {
      "text/plain": [
       "4"
      ]
     },
     "execution_count": 116,
     "metadata": {},
     "output_type": "execute_result"
    }
   ],
   "source": [
    "s = 'abcd'\n",
    "len(s)"
   ]
  },
  {
   "cell_type": "code",
   "execution_count": 117,
   "metadata": {},
   "outputs": [
    {
     "data": {
      "text/plain": [
       "'a'"
      ]
     },
     "execution_count": 117,
     "metadata": {},
     "output_type": "execute_result"
    }
   ],
   "source": [
    "s[0]"
   ]
  },
  {
   "cell_type": "code",
   "execution_count": 118,
   "metadata": {},
   "outputs": [
    {
     "data": {
      "text/plain": [
       "'b'"
      ]
     },
     "execution_count": 118,
     "metadata": {},
     "output_type": "execute_result"
    }
   ],
   "source": [
    "s[1]"
   ]
  },
  {
   "cell_type": "code",
   "execution_count": 119,
   "metadata": {},
   "outputs": [
    {
     "data": {
      "text/plain": [
       "'d'"
      ]
     },
     "execution_count": 119,
     "metadata": {},
     "output_type": "execute_result"
    }
   ],
   "source": [
    "s[-1]"
   ]
  },
  {
   "cell_type": "code",
   "execution_count": 120,
   "metadata": {},
   "outputs": [
    {
     "data": {
      "text/plain": [
       "49"
      ]
     },
     "execution_count": 120,
     "metadata": {},
     "output_type": "execute_result"
    }
   ],
   "source": [
    "s = ''\n",
    "sys.getsizeof(s)"
   ]
  },
  {
   "cell_type": "code",
   "execution_count": 121,
   "metadata": {},
   "outputs": [
    {
     "data": {
      "text/plain": [
       "50"
      ]
     },
     "execution_count": 121,
     "metadata": {},
     "output_type": "execute_result"
    }
   ],
   "source": [
    "s = 'a'\n",
    "sys.getsizeof(s)"
   ]
  },
  {
   "cell_type": "code",
   "execution_count": 122,
   "metadata": {},
   "outputs": [
    {
     "data": {
      "text/plain": [
       "51"
      ]
     },
     "execution_count": 122,
     "metadata": {},
     "output_type": "execute_result"
    }
   ],
   "source": [
    "s = 'ab'\n",
    "sys.getsizeof(s)"
   ]
  },
  {
   "cell_type": "code",
   "execution_count": 123,
   "metadata": {},
   "outputs": [
    {
     "data": {
      "text/plain": [
       "76"
      ]
     },
     "execution_count": 123,
     "metadata": {},
     "output_type": "execute_result"
    }
   ],
   "source": [
    "s = 'א'\n",
    "sys.getsizeof(s)"
   ]
  },
  {
   "cell_type": "code",
   "execution_count": 124,
   "metadata": {},
   "outputs": [
    {
     "data": {
      "text/plain": [
       "4"
      ]
     },
     "execution_count": 124,
     "metadata": {},
     "output_type": "execute_result"
    }
   ],
   "source": [
    "s = 'שלום'\n",
    "len(s)"
   ]
  },
  {
   "cell_type": "code",
   "execution_count": 125,
   "metadata": {},
   "outputs": [
    {
     "data": {
      "text/plain": [
       "'ש'"
      ]
     },
     "execution_count": 125,
     "metadata": {},
     "output_type": "execute_result"
    }
   ],
   "source": [
    "s[0]"
   ]
  },
  {
   "cell_type": "code",
   "execution_count": 126,
   "metadata": {},
   "outputs": [
    {
     "data": {
      "text/plain": [
       "'ל'"
      ]
     },
     "execution_count": 126,
     "metadata": {},
     "output_type": "execute_result"
    }
   ],
   "source": [
    "s[1]"
   ]
  },
  {
   "cell_type": "code",
   "execution_count": 127,
   "metadata": {},
   "outputs": [
    {
     "data": {
      "text/plain": [
       "b'\\xd7\\xa9\\xd7\\x9c\\xd7\\x95\\xd7\\x9d'"
      ]
     },
     "execution_count": 127,
     "metadata": {},
     "output_type": "execute_result"
    }
   ],
   "source": [
    "# turn a string into bytes\n",
    "s.encode()"
   ]
  },
  {
   "cell_type": "code",
   "execution_count": 128,
   "metadata": {},
   "outputs": [],
   "source": [
    "b = b'hello'"
   ]
  },
  {
   "cell_type": "code",
   "execution_count": 129,
   "metadata": {},
   "outputs": [
    {
     "data": {
      "text/plain": [
       "b'hello'"
      ]
     },
     "execution_count": 129,
     "metadata": {},
     "output_type": "execute_result"
    }
   ],
   "source": [
    "b"
   ]
  },
  {
   "cell_type": "code",
   "execution_count": 130,
   "metadata": {},
   "outputs": [
    {
     "data": {
      "text/plain": [
       "bytes"
      ]
     },
     "execution_count": 130,
     "metadata": {},
     "output_type": "execute_result"
    }
   ],
   "source": [
    "type(b)"
   ]
  },
  {
   "cell_type": "code",
   "execution_count": 131,
   "metadata": {},
   "outputs": [
    {
     "data": {
      "text/plain": [
       "104"
      ]
     },
     "execution_count": 131,
     "metadata": {},
     "output_type": "execute_result"
    }
   ],
   "source": [
    "b[0]"
   ]
  },
  {
   "cell_type": "code",
   "execution_count": 132,
   "metadata": {},
   "outputs": [
    {
     "data": {
      "text/plain": [
       "101"
      ]
     },
     "execution_count": 132,
     "metadata": {},
     "output_type": "execute_result"
    }
   ],
   "source": [
    "b[1]"
   ]
  },
  {
   "cell_type": "code",
   "execution_count": 133,
   "metadata": {},
   "outputs": [
    {
     "data": {
      "text/plain": [
       "'hello'"
      ]
     },
     "execution_count": 133,
     "metadata": {},
     "output_type": "execute_result"
    }
   ],
   "source": [
    "b.decode()"
   ]
  },
  {
   "cell_type": "code",
   "execution_count": 134,
   "metadata": {},
   "outputs": [
    {
     "data": {
      "text/plain": [
       "list"
      ]
     },
     "execution_count": 134,
     "metadata": {},
     "output_type": "execute_result"
    }
   ],
   "source": [
    "mylist = [10, 20, 30, 40, 50]\n",
    "type(mylist)"
   ]
  },
  {
   "cell_type": "code",
   "execution_count": 135,
   "metadata": {},
   "outputs": [
    {
     "data": {
      "text/plain": [
       "[10, 20, 30, 40]"
      ]
     },
     "execution_count": 135,
     "metadata": {},
     "output_type": "execute_result"
    }
   ],
   "source": [
    "mylist = [10, 20, 30]\n",
    "mylist.append(40)  # this returns None!\n",
    "\n",
    "mylist"
   ]
  },
  {
   "cell_type": "code",
   "execution_count": 136,
   "metadata": {},
   "outputs": [],
   "source": [
    "# mylist = mylist.append(50)  # don't do this!"
   ]
  },
  {
   "cell_type": "code",
   "execution_count": 137,
   "metadata": {},
   "outputs": [
    {
     "data": {
      "text/plain": [
       "[10, 20, 30, 40]"
      ]
     },
     "execution_count": 137,
     "metadata": {},
     "output_type": "execute_result"
    }
   ],
   "source": [
    "mylist = [10, 20, 30]\n",
    "mylist.append(40)  # this returns None!\n",
    "\n",
    "mylist"
   ]
  },
  {
   "cell_type": "code",
   "execution_count": 140,
   "metadata": {
    "collapsed": true
   },
   "outputs": [
    {
     "name": "stdout",
     "output_type": "stream",
     "text": [
      "i = 0, sys.getsizeof(mylist) = 56\n",
      "i = 1, sys.getsizeof(mylist) = 88\n",
      "i = 2, sys.getsizeof(mylist) = 88\n",
      "i = 3, sys.getsizeof(mylist) = 88\n",
      "i = 4, sys.getsizeof(mylist) = 88\n",
      "i = 5, sys.getsizeof(mylist) = 120\n",
      "i = 6, sys.getsizeof(mylist) = 120\n",
      "i = 7, sys.getsizeof(mylist) = 120\n",
      "i = 8, sys.getsizeof(mylist) = 120\n",
      "i = 9, sys.getsizeof(mylist) = 184\n",
      "i = 10, sys.getsizeof(mylist) = 184\n",
      "i = 11, sys.getsizeof(mylist) = 184\n",
      "i = 12, sys.getsizeof(mylist) = 184\n",
      "i = 13, sys.getsizeof(mylist) = 184\n",
      "i = 14, sys.getsizeof(mylist) = 184\n",
      "i = 15, sys.getsizeof(mylist) = 184\n",
      "i = 16, sys.getsizeof(mylist) = 184\n",
      "i = 17, sys.getsizeof(mylist) = 248\n",
      "i = 18, sys.getsizeof(mylist) = 248\n",
      "i = 19, sys.getsizeof(mylist) = 248\n",
      "i = 20, sys.getsizeof(mylist) = 248\n",
      "i = 21, sys.getsizeof(mylist) = 248\n",
      "i = 22, sys.getsizeof(mylist) = 248\n",
      "i = 23, sys.getsizeof(mylist) = 248\n",
      "i = 24, sys.getsizeof(mylist) = 248\n",
      "i = 25, sys.getsizeof(mylist) = 312\n",
      "i = 26, sys.getsizeof(mylist) = 312\n",
      "i = 27, sys.getsizeof(mylist) = 312\n",
      "i = 28, sys.getsizeof(mylist) = 312\n",
      "i = 29, sys.getsizeof(mylist) = 312\n",
      "i = 30, sys.getsizeof(mylist) = 312\n",
      "i = 31, sys.getsizeof(mylist) = 312\n",
      "i = 32, sys.getsizeof(mylist) = 312\n",
      "i = 33, sys.getsizeof(mylist) = 376\n",
      "i = 34, sys.getsizeof(mylist) = 376\n",
      "i = 35, sys.getsizeof(mylist) = 376\n",
      "i = 36, sys.getsizeof(mylist) = 376\n",
      "i = 37, sys.getsizeof(mylist) = 376\n",
      "i = 38, sys.getsizeof(mylist) = 376\n",
      "i = 39, sys.getsizeof(mylist) = 376\n",
      "i = 40, sys.getsizeof(mylist) = 376\n",
      "i = 41, sys.getsizeof(mylist) = 472\n",
      "i = 42, sys.getsizeof(mylist) = 472\n",
      "i = 43, sys.getsizeof(mylist) = 472\n",
      "i = 44, sys.getsizeof(mylist) = 472\n",
      "i = 45, sys.getsizeof(mylist) = 472\n",
      "i = 46, sys.getsizeof(mylist) = 472\n",
      "i = 47, sys.getsizeof(mylist) = 472\n",
      "i = 48, sys.getsizeof(mylist) = 472\n",
      "i = 49, sys.getsizeof(mylist) = 472\n",
      "i = 50, sys.getsizeof(mylist) = 472\n",
      "i = 51, sys.getsizeof(mylist) = 472\n",
      "i = 52, sys.getsizeof(mylist) = 472\n",
      "i = 53, sys.getsizeof(mylist) = 568\n",
      "i = 54, sys.getsizeof(mylist) = 568\n",
      "i = 55, sys.getsizeof(mylist) = 568\n",
      "i = 56, sys.getsizeof(mylist) = 568\n",
      "i = 57, sys.getsizeof(mylist) = 568\n",
      "i = 58, sys.getsizeof(mylist) = 568\n",
      "i = 59, sys.getsizeof(mylist) = 568\n",
      "i = 60, sys.getsizeof(mylist) = 568\n",
      "i = 61, sys.getsizeof(mylist) = 568\n",
      "i = 62, sys.getsizeof(mylist) = 568\n",
      "i = 63, sys.getsizeof(mylist) = 568\n",
      "i = 64, sys.getsizeof(mylist) = 568\n",
      "i = 65, sys.getsizeof(mylist) = 664\n",
      "i = 66, sys.getsizeof(mylist) = 664\n",
      "i = 67, sys.getsizeof(mylist) = 664\n",
      "i = 68, sys.getsizeof(mylist) = 664\n",
      "i = 69, sys.getsizeof(mylist) = 664\n",
      "i = 70, sys.getsizeof(mylist) = 664\n",
      "i = 71, sys.getsizeof(mylist) = 664\n",
      "i = 72, sys.getsizeof(mylist) = 664\n",
      "i = 73, sys.getsizeof(mylist) = 664\n",
      "i = 74, sys.getsizeof(mylist) = 664\n",
      "i = 75, sys.getsizeof(mylist) = 664\n",
      "i = 76, sys.getsizeof(mylist) = 664\n",
      "i = 77, sys.getsizeof(mylist) = 792\n",
      "i = 78, sys.getsizeof(mylist) = 792\n",
      "i = 79, sys.getsizeof(mylist) = 792\n",
      "i = 80, sys.getsizeof(mylist) = 792\n",
      "i = 81, sys.getsizeof(mylist) = 792\n",
      "i = 82, sys.getsizeof(mylist) = 792\n",
      "i = 83, sys.getsizeof(mylist) = 792\n",
      "i = 84, sys.getsizeof(mylist) = 792\n",
      "i = 85, sys.getsizeof(mylist) = 792\n",
      "i = 86, sys.getsizeof(mylist) = 792\n",
      "i = 87, sys.getsizeof(mylist) = 792\n",
      "i = 88, sys.getsizeof(mylist) = 792\n",
      "i = 89, sys.getsizeof(mylist) = 792\n",
      "i = 90, sys.getsizeof(mylist) = 792\n",
      "i = 91, sys.getsizeof(mylist) = 792\n",
      "i = 92, sys.getsizeof(mylist) = 792\n",
      "i = 93, sys.getsizeof(mylist) = 920\n",
      "i = 94, sys.getsizeof(mylist) = 920\n",
      "i = 95, sys.getsizeof(mylist) = 920\n",
      "i = 96, sys.getsizeof(mylist) = 920\n",
      "i = 97, sys.getsizeof(mylist) = 920\n",
      "i = 98, sys.getsizeof(mylist) = 920\n",
      "i = 99, sys.getsizeof(mylist) = 920\n"
     ]
    }
   ],
   "source": [
    "mylist = []\n",
    "for i in range(100):\n",
    "    print(f'i = {i}, sys.getsizeof(mylist) = {sys.getsizeof(mylist)}')\n",
    "    mylist.append(i)"
   ]
  },
  {
   "cell_type": "code",
   "execution_count": 141,
   "metadata": {},
   "outputs": [
    {
     "data": {
      "text/plain": [
       "[10, 20, 30, 'abcd']"
      ]
     },
     "execution_count": 141,
     "metadata": {},
     "output_type": "execute_result"
    }
   ],
   "source": [
    "mylist = [10, 20, 30]\n",
    "\n",
    "mylist.append('abcd')  # adds 'abcd' to the end of mylist\n",
    "mylist"
   ]
  },
  {
   "cell_type": "code",
   "execution_count": 142,
   "metadata": {},
   "outputs": [
    {
     "data": {
      "text/plain": [
       "[10, 20, 30, 'abcd', 'a', 'b', 'c', 'd']"
      ]
     },
     "execution_count": 142,
     "metadata": {},
     "output_type": "execute_result"
    }
   ],
   "source": [
    "mylist.extend('abcd')  # adds each element of 'abcd' to the end of mylist\n",
    "mylist"
   ]
  },
  {
   "cell_type": "code",
   "execution_count": 143,
   "metadata": {},
   "outputs": [
    {
     "data": {
      "text/plain": [
       "[10, 20, 30, 'abcd', 'a', 'b', 'c', 'd', 'e', 'f', 'g', 'h']"
      ]
     },
     "execution_count": 143,
     "metadata": {},
     "output_type": "execute_result"
    }
   ],
   "source": [
    "mylist += 'efgh'   # also adds each element of 'abcd' to the end of mylist\n",
    "mylist"
   ]
  },
  {
   "cell_type": "code",
   "execution_count": 144,
   "metadata": {},
   "outputs": [
    {
     "data": {
      "text/plain": [
       "3"
      ]
     },
     "execution_count": 144,
     "metadata": {},
     "output_type": "execute_result"
    }
   ],
   "source": [
    "mylist = [10, 20, 30]\n",
    "biglist = [mylist, mylist, mylist]\n",
    "\n",
    "len(biglist)"
   ]
  },
  {
   "cell_type": "code",
   "execution_count": 145,
   "metadata": {},
   "outputs": [
    {
     "data": {
      "text/plain": [
       "[[10, 20, 30], [10, 20, 30], [10, 20, 30]]"
      ]
     },
     "execution_count": 145,
     "metadata": {},
     "output_type": "execute_result"
    }
   ],
   "source": [
    "biglist"
   ]
  },
  {
   "cell_type": "code",
   "execution_count": 146,
   "metadata": {},
   "outputs": [
    {
     "data": {
      "text/plain": [
       "['!!!', 20, 30]"
      ]
     },
     "execution_count": 146,
     "metadata": {},
     "output_type": "execute_result"
    }
   ],
   "source": [
    "mylist[0] = '!!!'\n",
    "mylist"
   ]
  },
  {
   "cell_type": "code",
   "execution_count": 147,
   "metadata": {},
   "outputs": [
    {
     "data": {
      "text/plain": [
       "[['!!!', 20, 30], ['!!!', 20, 30], ['!!!', 20, 30]]"
      ]
     },
     "execution_count": 147,
     "metadata": {},
     "output_type": "execute_result"
    }
   ],
   "source": [
    "biglist"
   ]
  },
  {
   "cell_type": "markdown",
   "metadata": {},
   "source": [
    "# Sequences\n",
    "\n",
    "What do they have in common?\n",
    "\n",
    "- Indexing with `[i]`\n",
    "- Slices with `[start:end+1]` or `[start:end+1:step]`\n",
    "- Search with `in` (`LITTLE in BIG`)\n",
    "- Iterate with a `for` loop\n",
    "- Get the starting index of an element with the `.index` method\n",
    "- Find out how often something appears with the `.count` method"
   ]
  },
  {
   "cell_type": "code",
   "execution_count": 148,
   "metadata": {},
   "outputs": [
    {
     "data": {
      "text/plain": [
       "5"
      ]
     },
     "execution_count": 148,
     "metadata": {},
     "output_type": "execute_result"
    }
   ],
   "source": [
    "s = 'abcabcaaabc'\n",
    "s.count('a')"
   ]
  },
  {
   "cell_type": "raw",
   "metadata": {},
   "source": [
    "Comparison of sequences\n",
    "\n",
    "              mutable/immutable  what are the elements?\n",
    "string          immutable            strings\n",
    "list              mutable            anything\n",
    "tuple           immutable            anything"
   ]
  },
  {
   "cell_type": "code",
   "execution_count": 149,
   "metadata": {},
   "outputs": [
    {
     "data": {
      "text/plain": [
       "tuple"
      ]
     },
     "execution_count": 149,
     "metadata": {},
     "output_type": "execute_result"
    }
   ],
   "source": [
    "t = (10, 20, 30)\n",
    "type(t)"
   ]
  },
  {
   "cell_type": "code",
   "execution_count": 150,
   "metadata": {},
   "outputs": [
    {
     "data": {
      "text/plain": [
       "tuple"
      ]
     },
     "execution_count": 150,
     "metadata": {},
     "output_type": "execute_result"
    }
   ],
   "source": [
    "t = (10, 20)\n",
    "type(t)"
   ]
  },
  {
   "cell_type": "code",
   "execution_count": 151,
   "metadata": {},
   "outputs": [
    {
     "data": {
      "text/plain": [
       "int"
      ]
     },
     "execution_count": 151,
     "metadata": {},
     "output_type": "execute_result"
    }
   ],
   "source": [
    "t = (10)\n",
    "type(t)"
   ]
  },
  {
   "cell_type": "code",
   "execution_count": 152,
   "metadata": {},
   "outputs": [
    {
     "data": {
      "text/plain": [
       "tuple"
      ]
     },
     "execution_count": 152,
     "metadata": {},
     "output_type": "execute_result"
    }
   ],
   "source": [
    "t = ()\n",
    "type(t)"
   ]
  },
  {
   "cell_type": "code",
   "execution_count": 153,
   "metadata": {},
   "outputs": [
    {
     "data": {
      "text/plain": [
       "34"
      ]
     },
     "execution_count": 153,
     "metadata": {},
     "output_type": "execute_result"
    }
   ],
   "source": [
    "4 + 5 * 6"
   ]
  },
  {
   "cell_type": "code",
   "execution_count": 154,
   "metadata": {},
   "outputs": [
    {
     "data": {
      "text/plain": [
       "54"
      ]
     },
     "execution_count": 154,
     "metadata": {},
     "output_type": "execute_result"
    }
   ],
   "source": [
    "(4 + 5) * 6"
   ]
  },
  {
   "cell_type": "code",
   "execution_count": 155,
   "metadata": {},
   "outputs": [
    {
     "data": {
      "text/plain": [
       "tuple"
      ]
     },
     "execution_count": 155,
     "metadata": {},
     "output_type": "execute_result"
    }
   ],
   "source": [
    "t = (10,)   #now it's a tuple!\n",
    "type(t)"
   ]
  },
  {
   "cell_type": "code",
   "execution_count": 156,
   "metadata": {},
   "outputs": [
    {
     "data": {
      "text/plain": [
       "(9, 9, 9, 9, 9, 9)"
      ]
     },
     "execution_count": 156,
     "metadata": {},
     "output_type": "execute_result"
    }
   ],
   "source": [
    "(4 + 5,) * 6"
   ]
  },
  {
   "cell_type": "code",
   "execution_count": 157,
   "metadata": {},
   "outputs": [
    {
     "data": {
      "text/plain": [
       "(int,)"
      ]
     },
     "execution_count": 157,
     "metadata": {},
     "output_type": "execute_result"
    }
   ],
   "source": [
    "bool.__bases__  "
   ]
  },
  {
   "cell_type": "code",
   "execution_count": 158,
   "metadata": {},
   "outputs": [],
   "source": [
    "t = ([10, 20, 30],\n",
    "     [100, 200, 300])"
   ]
  },
  {
   "cell_type": "code",
   "execution_count": 159,
   "metadata": {},
   "outputs": [
    {
     "data": {
      "text/plain": [
       "[10, 20, 30]"
      ]
     },
     "execution_count": 159,
     "metadata": {},
     "output_type": "execute_result"
    }
   ],
   "source": [
    "t[0]"
   ]
  },
  {
   "cell_type": "code",
   "execution_count": 160,
   "metadata": {},
   "outputs": [
    {
     "data": {
      "text/plain": [
       "[100, 200, 300]"
      ]
     },
     "execution_count": 160,
     "metadata": {},
     "output_type": "execute_result"
    }
   ],
   "source": [
    "t[1]"
   ]
  },
  {
   "cell_type": "code",
   "execution_count": 161,
   "metadata": {},
   "outputs": [],
   "source": [
    "t[0].append(40)"
   ]
  },
  {
   "cell_type": "code",
   "execution_count": 162,
   "metadata": {},
   "outputs": [
    {
     "data": {
      "text/plain": [
       "([10, 20, 30, 40], [100, 200, 300])"
      ]
     },
     "execution_count": 162,
     "metadata": {},
     "output_type": "execute_result"
    }
   ],
   "source": [
    "t"
   ]
  },
  {
   "cell_type": "code",
   "execution_count": 163,
   "metadata": {},
   "outputs": [
    {
     "ename": "TypeError",
     "evalue": "'tuple' object does not support item assignment",
     "output_type": "error",
     "traceback": [
      "\u001b[0;31m---------------------------------------------------------------------------\u001b[0m",
      "\u001b[0;31mTypeError\u001b[0m                                 Traceback (most recent call last)",
      "\u001b[0;32m<ipython-input-163-2b735d214ecc>\u001b[0m in \u001b[0;36m<module>\u001b[0;34m\u001b[0m\n\u001b[0;32m----> 1\u001b[0;31m \u001b[0mt\u001b[0m\u001b[0;34m[\u001b[0m\u001b[0;36m0\u001b[0m\u001b[0;34m]\u001b[0m \u001b[0;34m+=\u001b[0m \u001b[0;34m[\u001b[0m\u001b[0;36m50\u001b[0m\u001b[0;34m,\u001b[0m \u001b[0;36m60\u001b[0m\u001b[0;34m,\u001b[0m \u001b[0;36m70\u001b[0m\u001b[0;34m]\u001b[0m\u001b[0;34m\u001b[0m\u001b[0;34m\u001b[0m\u001b[0m\n\u001b[0m",
      "\u001b[0;31mTypeError\u001b[0m: 'tuple' object does not support item assignment"
     ]
    }
   ],
   "source": [
    "t[0] += [50, 60, 70]     # t[0].__iadd__([50, 60, 70])"
   ]
  },
  {
   "cell_type": "code",
   "execution_count": 164,
   "metadata": {},
   "outputs": [
    {
     "data": {
      "text/plain": [
       "([10, 20, 30, 40, 50, 60, 70], [100, 200, 300])"
      ]
     },
     "execution_count": 164,
     "metadata": {},
     "output_type": "execute_result"
    }
   ],
   "source": [
    "t"
   ]
  },
  {
   "cell_type": "code",
   "execution_count": 165,
   "metadata": {},
   "outputs": [
    {
     "data": {
      "text/plain": [
       "(10, 20, 30, 40, 50)"
      ]
     },
     "execution_count": 165,
     "metadata": {},
     "output_type": "execute_result"
    }
   ],
   "source": [
    "t = 10, 20, 30, 40, 50\n",
    "t"
   ]
  },
  {
   "cell_type": "code",
   "execution_count": 168,
   "metadata": {},
   "outputs": [],
   "source": [
    "def myfunc():\n",
    "    return 10, 20, 30   # traditional not to use parentheses when returning values"
   ]
  },
  {
   "cell_type": "code",
   "execution_count": 167,
   "metadata": {},
   "outputs": [
    {
     "data": {
      "text/plain": [
       "(10, 20, 30)"
      ]
     },
     "execution_count": 167,
     "metadata": {},
     "output_type": "execute_result"
    }
   ],
   "source": [
    "myfunc()"
   ]
  },
  {
   "cell_type": "code",
   "execution_count": 169,
   "metadata": {},
   "outputs": [
    {
     "data": {
      "text/plain": [
       "[10, 20, 30]"
      ]
     },
     "execution_count": 169,
     "metadata": {},
     "output_type": "execute_result"
    }
   ],
   "source": [
    "# tuple unpacking == unpacking\n",
    "\n",
    "mylist = [10, 20, 30]\n",
    "\n",
    "x = mylist\n",
    "x"
   ]
  },
  {
   "cell_type": "code",
   "execution_count": 170,
   "metadata": {},
   "outputs": [],
   "source": [
    "x,y,z = mylist"
   ]
  },
  {
   "cell_type": "code",
   "execution_count": 171,
   "metadata": {},
   "outputs": [
    {
     "data": {
      "text/plain": [
       "10"
      ]
     },
     "execution_count": 171,
     "metadata": {},
     "output_type": "execute_result"
    }
   ],
   "source": [
    "x"
   ]
  },
  {
   "cell_type": "code",
   "execution_count": 172,
   "metadata": {},
   "outputs": [
    {
     "data": {
      "text/plain": [
       "20"
      ]
     },
     "execution_count": 172,
     "metadata": {},
     "output_type": "execute_result"
    }
   ],
   "source": [
    "y"
   ]
  },
  {
   "cell_type": "code",
   "execution_count": 173,
   "metadata": {},
   "outputs": [
    {
     "data": {
      "text/plain": [
       "30"
      ]
     },
     "execution_count": 173,
     "metadata": {},
     "output_type": "execute_result"
    }
   ],
   "source": [
    "z"
   ]
  },
  {
   "cell_type": "code",
   "execution_count": 174,
   "metadata": {},
   "outputs": [
    {
     "ename": "ValueError",
     "evalue": "too many values to unpack (expected 3)",
     "output_type": "error",
     "traceback": [
      "\u001b[0;31m---------------------------------------------------------------------------\u001b[0m",
      "\u001b[0;31mValueError\u001b[0m                                Traceback (most recent call last)",
      "\u001b[0;32m<ipython-input-174-99c952e09578>\u001b[0m in \u001b[0;36m<module>\u001b[0;34m\u001b[0m\n\u001b[1;32m      1\u001b[0m \u001b[0mmylist\u001b[0m \u001b[0;34m=\u001b[0m \u001b[0;34m[\u001b[0m\u001b[0;36m10\u001b[0m\u001b[0;34m,\u001b[0m \u001b[0;36m20\u001b[0m\u001b[0;34m,\u001b[0m \u001b[0;36m30\u001b[0m\u001b[0;34m,\u001b[0m \u001b[0;36m40\u001b[0m \u001b[0;34m,\u001b[0m\u001b[0;36m50\u001b[0m\u001b[0;34m,\u001b[0m \u001b[0;36m60\u001b[0m\u001b[0;34m,\u001b[0m \u001b[0;36m70\u001b[0m\u001b[0;34m]\u001b[0m\u001b[0;34m\u001b[0m\u001b[0;34m\u001b[0m\u001b[0m\n\u001b[0;32m----> 2\u001b[0;31m \u001b[0mx\u001b[0m\u001b[0;34m,\u001b[0m\u001b[0my\u001b[0m\u001b[0;34m,\u001b[0m\u001b[0mz\u001b[0m \u001b[0;34m=\u001b[0m \u001b[0mmylist\u001b[0m\u001b[0;34m\u001b[0m\u001b[0;34m\u001b[0m\u001b[0m\n\u001b[0m",
      "\u001b[0;31mValueError\u001b[0m: too many values to unpack (expected 3)"
     ]
    }
   ],
   "source": [
    "mylist = [10, 20, 30, 40 ,50, 60, 70]\n",
    "x,y,z = mylist"
   ]
  },
  {
   "cell_type": "code",
   "execution_count": 175,
   "metadata": {},
   "outputs": [],
   "source": [
    "# Python 3 gives us some flexibility here\n",
    "x,y,*z = mylist"
   ]
  },
  {
   "cell_type": "code",
   "execution_count": 176,
   "metadata": {},
   "outputs": [
    {
     "data": {
      "text/plain": [
       "10"
      ]
     },
     "execution_count": 176,
     "metadata": {},
     "output_type": "execute_result"
    }
   ],
   "source": [
    "x"
   ]
  },
  {
   "cell_type": "code",
   "execution_count": 177,
   "metadata": {},
   "outputs": [
    {
     "data": {
      "text/plain": [
       "20"
      ]
     },
     "execution_count": 177,
     "metadata": {},
     "output_type": "execute_result"
    }
   ],
   "source": [
    "y"
   ]
  },
  {
   "cell_type": "code",
   "execution_count": 178,
   "metadata": {},
   "outputs": [
    {
     "data": {
      "text/plain": [
       "[30, 40, 50, 60, 70]"
      ]
     },
     "execution_count": 178,
     "metadata": {},
     "output_type": "execute_result"
    }
   ],
   "source": [
    "z"
   ]
  },
  {
   "cell_type": "code",
   "execution_count": 179,
   "metadata": {},
   "outputs": [
    {
     "data": {
      "text/plain": [
       "10"
      ]
     },
     "execution_count": 179,
     "metadata": {},
     "output_type": "execute_result"
    }
   ],
   "source": [
    "x,*y,z = mylist\n",
    "x"
   ]
  },
  {
   "cell_type": "code",
   "execution_count": 180,
   "metadata": {},
   "outputs": [
    {
     "data": {
      "text/plain": [
       "[20, 30, 40, 50, 60]"
      ]
     },
     "execution_count": 180,
     "metadata": {},
     "output_type": "execute_result"
    }
   ],
   "source": [
    "y"
   ]
  },
  {
   "cell_type": "code",
   "execution_count": 181,
   "metadata": {},
   "outputs": [
    {
     "data": {
      "text/plain": [
       "70"
      ]
     },
     "execution_count": 181,
     "metadata": {},
     "output_type": "execute_result"
    }
   ],
   "source": [
    "z"
   ]
  },
  {
   "cell_type": "code",
   "execution_count": 182,
   "metadata": {},
   "outputs": [],
   "source": [
    "mylist = [10, 20]\n",
    "x,*y,z = mylist"
   ]
  },
  {
   "cell_type": "code",
   "execution_count": 183,
   "metadata": {},
   "outputs": [
    {
     "data": {
      "text/plain": [
       "10"
      ]
     },
     "execution_count": 183,
     "metadata": {},
     "output_type": "execute_result"
    }
   ],
   "source": [
    "x"
   ]
  },
  {
   "cell_type": "code",
   "execution_count": 184,
   "metadata": {},
   "outputs": [
    {
     "data": {
      "text/plain": [
       "[]"
      ]
     },
     "execution_count": 184,
     "metadata": {},
     "output_type": "execute_result"
    }
   ],
   "source": [
    "y"
   ]
  },
  {
   "cell_type": "code",
   "execution_count": 185,
   "metadata": {},
   "outputs": [
    {
     "data": {
      "text/plain": [
       "20"
      ]
     },
     "execution_count": 185,
     "metadata": {},
     "output_type": "execute_result"
    }
   ],
   "source": [
    "z"
   ]
  },
  {
   "cell_type": "code",
   "execution_count": 186,
   "metadata": {},
   "outputs": [
    {
     "ename": "SyntaxError",
     "evalue": "multiple starred expressions in assignment (<ipython-input-186-4d862d55fcfe>, line 2)",
     "output_type": "error",
     "traceback": [
      "\u001b[0;36m  File \u001b[0;32m\"<ipython-input-186-4d862d55fcfe>\"\u001b[0;36m, line \u001b[0;32m2\u001b[0m\n\u001b[0;31m    x,*y,*z = mylist\u001b[0m\n\u001b[0m    ^\u001b[0m\n\u001b[0;31mSyntaxError\u001b[0m\u001b[0;31m:\u001b[0m multiple starred expressions in assignment\n"
     ]
    }
   ],
   "source": [
    "mylist = [10, 20]\n",
    "x,*y,*z = mylist"
   ]
  },
  {
   "cell_type": "code",
   "execution_count": 187,
   "metadata": {},
   "outputs": [],
   "source": [
    "def myfunc():\n",
    "    return 'abcd', {'a':1, 'b':2, 'c':3}, [10, 20, 30]"
   ]
  },
  {
   "cell_type": "code",
   "execution_count": 188,
   "metadata": {},
   "outputs": [
    {
     "data": {
      "text/plain": [
       "('abcd', {'a': 1, 'b': 2, 'c': 3}, [10, 20, 30])"
      ]
     },
     "execution_count": 188,
     "metadata": {},
     "output_type": "execute_result"
    }
   ],
   "source": [
    "myfunc()"
   ]
  },
  {
   "cell_type": "code",
   "execution_count": 189,
   "metadata": {},
   "outputs": [],
   "source": [
    "s,d,mylist = myfunc()"
   ]
  },
  {
   "cell_type": "code",
   "execution_count": 190,
   "metadata": {},
   "outputs": [
    {
     "data": {
      "text/plain": [
       "'abcd'"
      ]
     },
     "execution_count": 190,
     "metadata": {},
     "output_type": "execute_result"
    }
   ],
   "source": [
    "s"
   ]
  },
  {
   "cell_type": "code",
   "execution_count": 191,
   "metadata": {},
   "outputs": [
    {
     "data": {
      "text/plain": [
       "{'a': 1, 'b': 2, 'c': 3}"
      ]
     },
     "execution_count": 191,
     "metadata": {},
     "output_type": "execute_result"
    }
   ],
   "source": [
    "d"
   ]
  },
  {
   "cell_type": "code",
   "execution_count": 192,
   "metadata": {},
   "outputs": [
    {
     "data": {
      "text/plain": [
       "[10, 20, 30]"
      ]
     },
     "execution_count": 192,
     "metadata": {},
     "output_type": "execute_result"
    }
   ],
   "source": [
    "mylist"
   ]
  },
  {
   "cell_type": "code",
   "execution_count": 193,
   "metadata": {},
   "outputs": [
    {
     "data": {
      "text/plain": [
       "('Reuven', 'Lerner', 46)"
      ]
     },
     "execution_count": 193,
     "metadata": {},
     "output_type": "execute_result"
    }
   ],
   "source": [
    "p = ('Reuven', 'Lerner', 46)\n",
    "p"
   ]
  },
  {
   "cell_type": "code",
   "execution_count": 194,
   "metadata": {},
   "outputs": [
    {
     "data": {
      "text/plain": [
       "'Reuven'"
      ]
     },
     "execution_count": 194,
     "metadata": {},
     "output_type": "execute_result"
    }
   ],
   "source": [
    "p[0]"
   ]
  },
  {
   "cell_type": "code",
   "execution_count": 195,
   "metadata": {},
   "outputs": [
    {
     "data": {
      "text/plain": [
       "'Lerner'"
      ]
     },
     "execution_count": 195,
     "metadata": {},
     "output_type": "execute_result"
    }
   ],
   "source": [
    "p[1]"
   ]
  },
  {
   "cell_type": "code",
   "execution_count": 196,
   "metadata": {},
   "outputs": [
    {
     "data": {
      "text/plain": [
       "46"
      ]
     },
     "execution_count": 196,
     "metadata": {},
     "output_type": "execute_result"
    }
   ],
   "source": [
    "p[2]"
   ]
  },
  {
   "cell_type": "code",
   "execution_count": 203,
   "metadata": {},
   "outputs": [],
   "source": [
    "# named tuples\n",
    "\n",
    "from collections import namedtuple\n",
    "\n",
    "Person = namedtuple('something_else_entirely', ['first', 'last', 'shoesize'])"
   ]
  },
  {
   "cell_type": "code",
   "execution_count": 204,
   "metadata": {},
   "outputs": [
    {
     "data": {
      "text/plain": [
       "type"
      ]
     },
     "execution_count": 204,
     "metadata": {},
     "output_type": "execute_result"
    }
   ],
   "source": [
    "type(Person)  # Person is actually a new class!  It was created via \"namedtuple\""
   ]
  },
  {
   "cell_type": "code",
   "execution_count": 205,
   "metadata": {},
   "outputs": [
    {
     "data": {
      "text/plain": [
       "'str'"
      ]
     },
     "execution_count": 205,
     "metadata": {},
     "output_type": "execute_result"
    }
   ],
   "source": [
    "str.__name__"
   ]
  },
  {
   "cell_type": "code",
   "execution_count": 206,
   "metadata": {},
   "outputs": [
    {
     "data": {
      "text/plain": [
       "'list'"
      ]
     },
     "execution_count": 206,
     "metadata": {},
     "output_type": "execute_result"
    }
   ],
   "source": [
    "list.__name__"
   ]
  },
  {
   "cell_type": "code",
   "execution_count": 207,
   "metadata": {},
   "outputs": [
    {
     "data": {
      "text/plain": [
       "'something_else_entirely'"
      ]
     },
     "execution_count": 207,
     "metadata": {},
     "output_type": "execute_result"
    }
   ],
   "source": [
    "Person.__name__"
   ]
  },
  {
   "cell_type": "code",
   "execution_count": 208,
   "metadata": {},
   "outputs": [],
   "source": [
    "Person = namedtuple('Person',\n",
    "                    ['first', 'last', 'shoesize'])"
   ]
  },
  {
   "cell_type": "code",
   "execution_count": 209,
   "metadata": {},
   "outputs": [],
   "source": [
    "p = Person('Reuven', 'Lerner', 46)"
   ]
  },
  {
   "cell_type": "code",
   "execution_count": 210,
   "metadata": {},
   "outputs": [
    {
     "data": {
      "text/plain": [
       "Person(first='Reuven', last='Lerner', shoesize=46)"
      ]
     },
     "execution_count": 210,
     "metadata": {},
     "output_type": "execute_result"
    }
   ],
   "source": [
    "# printed representation\n",
    "p"
   ]
  },
  {
   "cell_type": "code",
   "execution_count": 211,
   "metadata": {},
   "outputs": [
    {
     "data": {
      "text/plain": [
       "'Reuven'"
      ]
     },
     "execution_count": 211,
     "metadata": {},
     "output_type": "execute_result"
    }
   ],
   "source": [
    "p[0]"
   ]
  },
  {
   "cell_type": "code",
   "execution_count": 212,
   "metadata": {},
   "outputs": [
    {
     "data": {
      "text/plain": [
       "'Lerner'"
      ]
     },
     "execution_count": 212,
     "metadata": {},
     "output_type": "execute_result"
    }
   ],
   "source": [
    "p[1]"
   ]
  },
  {
   "cell_type": "code",
   "execution_count": 213,
   "metadata": {},
   "outputs": [
    {
     "data": {
      "text/plain": [
       "46"
      ]
     },
     "execution_count": 213,
     "metadata": {},
     "output_type": "execute_result"
    }
   ],
   "source": [
    "p[2]"
   ]
  },
  {
   "cell_type": "code",
   "execution_count": 214,
   "metadata": {},
   "outputs": [
    {
     "data": {
      "text/plain": [
       "'Reuven'"
      ]
     },
     "execution_count": 214,
     "metadata": {},
     "output_type": "execute_result"
    }
   ],
   "source": [
    "p.first"
   ]
  },
  {
   "cell_type": "code",
   "execution_count": 215,
   "metadata": {},
   "outputs": [
    {
     "data": {
      "text/plain": [
       "'Lerner'"
      ]
     },
     "execution_count": 215,
     "metadata": {},
     "output_type": "execute_result"
    }
   ],
   "source": [
    "p.last"
   ]
  },
  {
   "cell_type": "code",
   "execution_count": 216,
   "metadata": {},
   "outputs": [
    {
     "data": {
      "text/plain": [
       "46"
      ]
     },
     "execution_count": 216,
     "metadata": {},
     "output_type": "execute_result"
    }
   ],
   "source": [
    "p.shoesize"
   ]
  },
  {
   "cell_type": "code",
   "execution_count": 217,
   "metadata": {},
   "outputs": [
    {
     "data": {
      "text/plain": [
       "(tuple,)"
      ]
     },
     "execution_count": 217,
     "metadata": {},
     "output_type": "execute_result"
    }
   ],
   "source": [
    "Person.__bases__"
   ]
  },
  {
   "cell_type": "code",
   "execution_count": 218,
   "metadata": {},
   "outputs": [
    {
     "ename": "TypeError",
     "evalue": "'Person' object does not support item assignment",
     "output_type": "error",
     "traceback": [
      "\u001b[0;31m---------------------------------------------------------------------------\u001b[0m",
      "\u001b[0;31mTypeError\u001b[0m                                 Traceback (most recent call last)",
      "\u001b[0;32m<ipython-input-218-f5e32c6d0384>\u001b[0m in \u001b[0;36m<module>\u001b[0;34m\u001b[0m\n\u001b[0;32m----> 1\u001b[0;31m \u001b[0mp\u001b[0m\u001b[0;34m[\u001b[0m\u001b[0;36m0\u001b[0m\u001b[0;34m]\u001b[0m \u001b[0;34m=\u001b[0m \u001b[0;34m'asdfafa'\u001b[0m\u001b[0;34m\u001b[0m\u001b[0;34m\u001b[0m\u001b[0m\n\u001b[0m",
      "\u001b[0;31mTypeError\u001b[0m: 'Person' object does not support item assignment"
     ]
    }
   ],
   "source": [
    "p[0] = 'asdfafa'"
   ]
  },
  {
   "cell_type": "code",
   "execution_count": 219,
   "metadata": {},
   "outputs": [
    {
     "data": {
      "text/plain": [
       "Person(first='asdfafa', last='Lerner', shoesize=46)"
      ]
     },
     "execution_count": 219,
     "metadata": {},
     "output_type": "execute_result"
    }
   ],
   "source": [
    "p._replace(first='asdfafa')"
   ]
  },
  {
   "cell_type": "code",
   "execution_count": 220,
   "metadata": {},
   "outputs": [
    {
     "data": {
      "text/plain": [
       "Person(first='Reuven', last='Lerner', shoesize=46)"
      ]
     },
     "execution_count": 220,
     "metadata": {},
     "output_type": "execute_result"
    }
   ],
   "source": [
    "p"
   ]
  },
  {
   "cell_type": "markdown",
   "metadata": {},
   "source": [
    "# Exercise: Bookshop\n",
    "\n",
    "1. Define a new class, `Book`, using `namedtuple`, in which there are three field: `title`, `author`, `price`.\n",
    "2. Define three books and put them into a list.\n",
    "3. Ask the user repeatedly what book they want to buy. \n",
    "    - If they give us an empty string, stop asking and print the total price.\n",
    "    - If they name a book title in our inventory, print all of the info, add the price to the total, and print the total.\n",
    "    - If they name a book title that is *not* in our inventory, then scold them.\n",
    "4. When they're done asking, print the total price."
   ]
  },
  {
   "cell_type": "code",
   "execution_count": 226,
   "metadata": {},
   "outputs": [
    {
     "name": "stdout",
     "output_type": "stream",
     "text": [
      "Enter book title: title1\n",
      "Found Book(title='title1', author='author1', price=100)\n",
      "Enter book title: title2\n",
      "Found Book(title='title2', author='author2', price=120)\n",
      "Enter book title: title100\n",
      "Did not find title100\n",
      "Enter book title: \n",
      "total=220\n"
     ]
    }
   ],
   "source": [
    "from collections import namedtuple\n",
    "\n",
    "Book = namedtuple('Book', ['title', 'author', 'price'])\n",
    "\n",
    "inventory = [Book('title1', 'author1', 100),\n",
    "             Book('title2', 'author2', 120),\n",
    "             Book('title3', 'author2', 120)]\n",
    "\n",
    "total = 0\n",
    "\n",
    "while look_for := input('Enter book title: ').strip():\n",
    "    found_it = False\n",
    "    for one_book in inventory:\n",
    "        if one_book.title == look_for:\n",
    "            print(f'Found {one_book}')\n",
    "            total += one_book.price\n",
    "            found_it = True\n",
    "            break\n",
    "            \n",
    "    if not found_it:\n",
    "        print(f'Did not find {look_for}')\n",
    "            \n",
    "print(f'{total=}')            \n",
    "    "
   ]
  },
  {
   "cell_type": "code",
   "execution_count": 222,
   "metadata": {},
   "outputs": [
    {
     "data": {
      "text/plain": [
       "[Book(title='title1', author='author1', price=100),\n",
       " Book(title='title2', author='author2', price=120),\n",
       " Book(title='title3', author='author2', price=120)]"
      ]
     },
     "execution_count": 222,
     "metadata": {},
     "output_type": "execute_result"
    }
   ],
   "source": [
    "inventory"
   ]
  },
  {
   "cell_type": "code",
   "execution_count": null,
   "metadata": {},
   "outputs": [],
   "source": [
    "from collections import namedtuple\n",
    "\n",
    "Book = namedtuple('Book', ['title', 'author', 'price'])\n",
    "\n",
    "inventory = [Book('title1', 'author1', 100),\n",
    "             Book('title2', 'author2', 120),\n",
    "             Book('title3', 'author2', 120)]\n",
    "\n",
    "total = 0\n",
    "\n",
    "while look_for := input('Enter book title: ').strip():\n",
    "\n",
    "    for one_book in inventory:\n",
    "        if one_book.title == look_for:\n",
    "            print(f'Found {one_book}')\n",
    "            total += one_book.price\n",
    "            break\n",
    "            \n",
    "    else:  # if we did not encounter a break, and got to the natural end of the loop\n",
    "        print(f'Did not find {look_for}')\n",
    "            \n",
    "print(f'{total=}')        \n",
    "    "
   ]
  },
  {
   "cell_type": "markdown",
   "metadata": {},
   "source": [
    "# Dictionaries\n",
    "\n",
    "- Key-value pairs\n",
    "    - Key must be hashable (basically the same as immutable) -- typically ints and strings\n",
    "    - Value can be absolutely any Python object\n",
    "- Keys are unique -- this is enforced by the dict\n",
    "- Searching for a key is O(1) (constant time)\n"
   ]
  },
  {
   "cell_type": "code",
   "execution_count": null,
   "metadata": {},
   "outputs": [],
   "source": []
  },
  {
   "cell_type": "code",
   "execution_count": 228,
   "metadata": {},
   "outputs": [
    {
     "data": {
      "text/plain": [
       "dict_keys(['a', 'b', 'c'])"
      ]
     },
     "execution_count": 228,
     "metadata": {},
     "output_type": "execute_result"
    }
   ],
   "source": [
    "d = {'a':1, 'b':2, 'c':3}\n",
    "\n",
    "d.keys()"
   ]
  },
  {
   "cell_type": "code",
   "execution_count": 229,
   "metadata": {},
   "outputs": [
    {
     "data": {
      "text/plain": [
       "dict_values([1, 2, 3])"
      ]
     },
     "execution_count": 229,
     "metadata": {},
     "output_type": "execute_result"
    }
   ],
   "source": [
    "d.values()"
   ]
  },
  {
   "cell_type": "code",
   "execution_count": 230,
   "metadata": {},
   "outputs": [
    {
     "data": {
      "text/plain": [
       "dict_items([('a', 1), ('b', 2), ('c', 3)])"
      ]
     },
     "execution_count": 230,
     "metadata": {},
     "output_type": "execute_result"
    }
   ],
   "source": [
    "d.items()"
   ]
  },
  {
   "cell_type": "code",
   "execution_count": 231,
   "metadata": {},
   "outputs": [
    {
     "data": {
      "text/plain": [
       "True"
      ]
     },
     "execution_count": 231,
     "metadata": {},
     "output_type": "execute_result"
    }
   ],
   "source": [
    "# Searching for keys\n",
    "'a' in d.keys()  # this works -- but don't do it!"
   ]
  },
  {
   "cell_type": "code",
   "execution_count": 232,
   "metadata": {},
   "outputs": [
    {
     "data": {
      "text/plain": [
       "True"
      ]
     },
     "execution_count": 232,
     "metadata": {},
     "output_type": "execute_result"
    }
   ],
   "source": [
    "# rather, use this:\n",
    "'a' in d"
   ]
  },
  {
   "cell_type": "code",
   "execution_count": 233,
   "metadata": {},
   "outputs": [
    {
     "data": {
      "text/plain": [
       "True"
      ]
     },
     "execution_count": 233,
     "metadata": {},
     "output_type": "execute_result"
    }
   ],
   "source": [
    "# searching for values\n",
    "1 in d.values()  "
   ]
  },
  {
   "cell_type": "code",
   "execution_count": 234,
   "metadata": {},
   "outputs": [
    {
     "name": "stdout",
     "output_type": "stream",
     "text": [
      "a:1\n",
      "b:2\n",
      "c:3\n"
     ]
    }
   ],
   "source": [
    "# unpacking\n",
    "for key, value in d.items():\n",
    "    print(f'{key}:{value}')"
   ]
  },
  {
   "cell_type": "code",
   "execution_count": 235,
   "metadata": {},
   "outputs": [
    {
     "data": {
      "text/plain": [
       "{'a': 1, 'b': 2, 'c': 3}"
      ]
     },
     "execution_count": 235,
     "metadata": {},
     "output_type": "execute_result"
    }
   ],
   "source": [
    "d"
   ]
  },
  {
   "cell_type": "code",
   "execution_count": null,
   "metadata": {},
   "outputs": [],
   "source": [
    "d['x'] = 100  # assignment add"
   ]
  }
 ],
 "metadata": {
  "kernelspec": {
   "display_name": "Python 3",
   "language": "python",
   "name": "python3"
  },
  "language_info": {
   "codemirror_mode": {
    "name": "ipython",
    "version": 3
   },
   "file_extension": ".py",
   "mimetype": "text/x-python",
   "name": "python",
   "nbconvert_exporter": "python",
   "pygments_lexer": "ipython3",
   "version": "3.9.2"
  }
 },
 "nbformat": 4,
 "nbformat_minor": 4
}
