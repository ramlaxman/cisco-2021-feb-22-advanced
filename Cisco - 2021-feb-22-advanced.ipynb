{
 "cells": [
  {
   "cell_type": "code",
   "execution_count": 2,
   "metadata": {},
   "outputs": [
    {
     "name": "stdout",
     "output_type": "stream",
     "text": [
      "Hello, world!\n"
     ]
    }
   ],
   "source": [
    "print('Hello, world!')"
   ]
  },
  {
   "cell_type": "code",
   "execution_count": 3,
   "metadata": {},
   "outputs": [
    {
     "name": "stdout",
     "output_type": "stream",
     "text": [
      "hello\n",
      "hello again!\n",
      "hello a third time!\n"
     ]
    }
   ],
   "source": [
    "print('hello')                # enter == go down one line\n",
    "print('hello again!')          # enter == go down one line\n",
    "print('hello a third time!')   # shift+enter == execute the code in the cell"
   ]
  },
  {
   "cell_type": "code",
   "execution_count": 4,
   "metadata": {},
   "outputs": [],
   "source": [
    "x = 100"
   ]
  },
  {
   "cell_type": "code",
   "execution_count": 5,
   "metadata": {},
   "outputs": [
    {
     "data": {
      "text/plain": [
       "100"
      ]
     },
     "execution_count": 5,
     "metadata": {},
     "output_type": "execute_result"
    }
   ],
   "source": [
    "x  # the final expression in a cell is returned"
   ]
  },
  {
   "cell_type": "code",
   "execution_count": 6,
   "metadata": {},
   "outputs": [
    {
     "data": {
      "text/plain": [
       "60"
      ]
     },
     "execution_count": 6,
     "metadata": {},
     "output_type": "execute_result"
    }
   ],
   "source": [
    "10 + 10\n",
    "20 + 20 \n",
    "30 + 30"
   ]
  },
  {
   "cell_type": "markdown",
   "metadata": {},
   "source": [
    "# Different types of cells!\n",
    "\n",
    "- Regular \"code\" cells\n",
    "- Markdown cells (like this one)"
   ]
  },
  {
   "cell_type": "markdown",
   "metadata": {},
   "source": [
    "# Different modes\n",
    "\n",
    "- Edit mode -- green outline, you can type into the cell, and the text appears there.  Typically, for entering code and text.  You can enter \"edit mode\" by pressing Enter or clicking in a cell.\n",
    "\n",
    "- Command mode -- blue outline, anything you type is interpreted as a Jupyter command. (Typically, one-character commands.)  Enter \"command mode\" by pressing ESC or clicking to the left of a cell."
   ]
  },
  {
   "cell_type": "markdown",
   "metadata": {},
   "source": [
    "# A few useful Jupyter commands:\n",
    "\n",
    "- `a` to add a new cell *above* the current one\n",
    "- `b` to add a new cell *below* the current one\n",
    "- `x` to cut a cell\n",
    "- `c` to copy a cell\n",
    "- `v` to paste a cell\n",
    "- `z` for undo (of deleting a cell, typically)\n",
    "- `m` to make a cell into Markdown mode\n",
    "- `y` to make a cell into code mode\n",
    "- `r` to put a cell into \"raw\" mode"
   ]
  },
  {
   "cell_type": "code",
   "execution_count": 7,
   "metadata": {},
   "outputs": [
    {
     "name": "stdout",
     "output_type": "stream",
     "text": [
      "hello\n"
     ]
    }
   ],
   "source": [
    "print('hello')"
   ]
  },
  {
   "cell_type": "code",
   "execution_count": 8,
   "metadata": {},
   "outputs": [
    {
     "data": {
      "text/plain": [
       "100"
      ]
     },
     "execution_count": 8,
     "metadata": {},
     "output_type": "execute_result"
    }
   ],
   "source": [
    "x"
   ]
  },
  {
   "cell_type": "code",
   "execution_count": 9,
   "metadata": {},
   "outputs": [
    {
     "name": "stdout",
     "output_type": "stream",
     "text": [
      "Enter a string: sdfaa\n"
     ]
    }
   ],
   "source": [
    "s = input('Enter a string: ')"
   ]
  },
  {
   "cell_type": "code",
   "execution_count": 10,
   "metadata": {},
   "outputs": [
    {
     "data": {
      "text/plain": [
       "100"
      ]
     },
     "execution_count": 10,
     "metadata": {},
     "output_type": "execute_result"
    }
   ],
   "source": [
    "x"
   ]
  },
  {
   "cell_type": "code",
   "execution_count": 11,
   "metadata": {},
   "outputs": [
    {
     "name": "stdout",
     "output_type": "stream",
     "text": [
      "'Cisco - 2021-feb-22-advanced.ipynb'\r\n"
     ]
    }
   ],
   "source": [
    "%ls"
   ]
  },
  {
   "cell_type": "code",
   "execution_count": 12,
   "metadata": {},
   "outputs": [
    {
     "data": {
      "text/plain": [
       "'/Users/reuven/Courses/Current/Cisco-2021-feb-22-advanced'"
      ]
     },
     "execution_count": 12,
     "metadata": {},
     "output_type": "execute_result"
    }
   ],
   "source": [
    "%pwd"
   ]
  },
  {
   "cell_type": "code",
   "execution_count": 13,
   "metadata": {},
   "outputs": [],
   "source": [
    "def hello(name):\n",
    "    return f'Hello, {name}'"
   ]
  },
  {
   "cell_type": "code",
   "execution_count": 14,
   "metadata": {},
   "outputs": [
    {
     "name": "stdout",
     "output_type": "stream",
     "text": [
      "131 ns ± 1.01 ns per loop (mean ± std. dev. of 7 runs, 10000000 loops each)\n"
     ]
    }
   ],
   "source": [
    "%timeit hello('world')"
   ]
  },
  {
   "cell_type": "markdown",
   "metadata": {},
   "source": [
    "# Agenda\n",
    "\n",
    "1. Data structures\n",
    "    - How do the built-in data structures work?\n",
    "    - More advanced data structures, especially from `collections`\n",
    "2. Functions\n",
    "    - Different argument types (and thus parameter types)\n",
    "    - Function objects and bytecodes\n",
    "    - Variable scoping (LEGB rule)\n",
    "    - Enclosing functions and closures\n",
    "    - Treating functions as nouns, not just verbs\n",
    "3. Functional programming \n",
    "    - Comprehensions (list, set, dict, nested) \n",
    "    - Sorting \n",
    "    - `lambda`\n",
    "    - `operator` module\n",
    "4. Modules and packages\n",
    "5. Objects\n",
    "    - Classes, methods, instances\n",
    "    - Attributes -- what are they, why are they important, and the ICPO rule\n",
    "    - Inheritance\n",
    "    - Magic methods for customizing our objects\n",
    "    - Properties\n",
    "    - Descriptors\n",
    "6. The iterator protocol\n",
    "    - Adding iteration to our classes\n",
    "    - Generator functions\n",
    "    - Coroutines and generators\n",
    "    - Generator expressions / generator comprehensions\n",
    "7. Decorators\n",
    "8. Threading and multiprocessing"
   ]
  },
  {
   "cell_type": "markdown",
   "metadata": {},
   "source": [
    "# `None` -- what is it?"
   ]
  },
  {
   "cell_type": "code",
   "execution_count": 15,
   "metadata": {},
   "outputs": [
    {
     "data": {
      "text/plain": [
       "NoneType"
      ]
     },
     "execution_count": 15,
     "metadata": {},
     "output_type": "execute_result"
    }
   ],
   "source": [
    "x = None\n",
    "\n",
    "type(x)"
   ]
  },
  {
   "cell_type": "code",
   "execution_count": 16,
   "metadata": {},
   "outputs": [
    {
     "data": {
      "text/plain": [
       "True"
      ]
     },
     "execution_count": 16,
     "metadata": {},
     "output_type": "execute_result"
    }
   ],
   "source": [
    "None == None"
   ]
  },
  {
   "cell_type": "code",
   "execution_count": 17,
   "metadata": {},
   "outputs": [
    {
     "name": "stdout",
     "output_type": "stream",
     "text": [
      "Yes, x is None!\n"
     ]
    }
   ],
   "source": [
    "if x == None:   # not Pythonic!\n",
    "    print('Yes, x is None!')"
   ]
  },
  {
   "cell_type": "code",
   "execution_count": 18,
   "metadata": {},
   "outputs": [
    {
     "name": "stdout",
     "output_type": "stream",
     "text": [
      "Yes, x is None!\n"
     ]
    }
   ],
   "source": [
    "if x is None:\n",
    "    print('Yes, x is None!')"
   ]
  },
  {
   "cell_type": "code",
   "execution_count": 19,
   "metadata": {},
   "outputs": [
    {
     "data": {
      "text/plain": [
       "True"
      ]
     },
     "execution_count": 19,
     "metadata": {},
     "output_type": "execute_result"
    }
   ],
   "source": [
    "1 == 1.0"
   ]
  },
  {
   "cell_type": "code",
   "execution_count": 20,
   "metadata": {},
   "outputs": [],
   "source": [
    "x = 12345\n",
    "y = 67890\n",
    "z = 'hello out there'"
   ]
  },
  {
   "cell_type": "code",
   "execution_count": 21,
   "metadata": {},
   "outputs": [
    {
     "data": {
      "text/plain": [
       "int"
      ]
     },
     "execution_count": 21,
     "metadata": {},
     "output_type": "execute_result"
    }
   ],
   "source": [
    "type(x)"
   ]
  },
  {
   "cell_type": "code",
   "execution_count": 22,
   "metadata": {},
   "outputs": [
    {
     "data": {
      "text/plain": [
       "int"
      ]
     },
     "execution_count": 22,
     "metadata": {},
     "output_type": "execute_result"
    }
   ],
   "source": [
    "type(y)"
   ]
  },
  {
   "cell_type": "code",
   "execution_count": 23,
   "metadata": {},
   "outputs": [
    {
     "data": {
      "text/plain": [
       "str"
      ]
     },
     "execution_count": 23,
     "metadata": {},
     "output_type": "execute_result"
    }
   ],
   "source": [
    "type(z)"
   ]
  },
  {
   "cell_type": "code",
   "execution_count": 24,
   "metadata": {},
   "outputs": [
    {
     "data": {
      "text/plain": [
       "4365848912"
      ]
     },
     "execution_count": 24,
     "metadata": {},
     "output_type": "execute_result"
    }
   ],
   "source": [
    "id(x)"
   ]
  },
  {
   "cell_type": "code",
   "execution_count": 25,
   "metadata": {},
   "outputs": [
    {
     "data": {
      "text/plain": [
       "4365848720"
      ]
     },
     "execution_count": 25,
     "metadata": {},
     "output_type": "execute_result"
    }
   ],
   "source": [
    "id(y)"
   ]
  },
  {
   "cell_type": "code",
   "execution_count": 26,
   "metadata": {},
   "outputs": [
    {
     "data": {
      "text/plain": [
       "4365854576"
      ]
     },
     "execution_count": 26,
     "metadata": {},
     "output_type": "execute_result"
    }
   ],
   "source": [
    "id(z)"
   ]
  },
  {
   "cell_type": "code",
   "execution_count": 27,
   "metadata": {},
   "outputs": [],
   "source": [
    "y = x    # the variable y should now refer to whatever the variable x is referring to"
   ]
  },
  {
   "cell_type": "code",
   "execution_count": 28,
   "metadata": {},
   "outputs": [
    {
     "data": {
      "text/plain": [
       "4365848912"
      ]
     },
     "execution_count": 28,
     "metadata": {},
     "output_type": "execute_result"
    }
   ],
   "source": [
    "id(x)"
   ]
  },
  {
   "cell_type": "code",
   "execution_count": 29,
   "metadata": {},
   "outputs": [
    {
     "data": {
      "text/plain": [
       "4365848912"
      ]
     },
     "execution_count": 29,
     "metadata": {},
     "output_type": "execute_result"
    }
   ],
   "source": [
    "id(y)"
   ]
  },
  {
   "cell_type": "code",
   "execution_count": 30,
   "metadata": {},
   "outputs": [
    {
     "data": {
      "text/plain": [
       "True"
      ]
     },
     "execution_count": 30,
     "metadata": {},
     "output_type": "execute_result"
    }
   ],
   "source": [
    "x is y   # really asking: id(x) == id(y)"
   ]
  },
  {
   "cell_type": "code",
   "execution_count": 31,
   "metadata": {},
   "outputs": [
    {
     "name": "stdout",
     "output_type": "stream",
     "text": [
      "yes, x is None!\n"
     ]
    }
   ],
   "source": [
    "x = None\n",
    "\n",
    "if x is None:\n",
    "    print('yes, x is None!')"
   ]
  },
  {
   "cell_type": "code",
   "execution_count": 32,
   "metadata": {},
   "outputs": [],
   "source": [
    "# PEP -- Python Enhancement Proposal"
   ]
  },
  {
   "cell_type": "code",
   "execution_count": 33,
   "metadata": {},
   "outputs": [
    {
     "data": {
      "text/plain": [
       "True"
      ]
     },
     "execution_count": 33,
     "metadata": {},
     "output_type": "execute_result"
    }
   ],
   "source": [
    "x = 100\n",
    "y = 100\n",
    "\n",
    "x == y"
   ]
  },
  {
   "cell_type": "code",
   "execution_count": 34,
   "metadata": {},
   "outputs": [
    {
     "data": {
      "text/plain": [
       "True"
      ]
     },
     "execution_count": 34,
     "metadata": {},
     "output_type": "execute_result"
    }
   ],
   "source": [
    "x is y"
   ]
  },
  {
   "cell_type": "code",
   "execution_count": 35,
   "metadata": {},
   "outputs": [
    {
     "data": {
      "text/plain": [
       "True"
      ]
     },
     "execution_count": 35,
     "metadata": {},
     "output_type": "execute_result"
    }
   ],
   "source": [
    "x = 1000\n",
    "y = 1000\n",
    "\n",
    "x == y"
   ]
  },
  {
   "cell_type": "code",
   "execution_count": 36,
   "metadata": {},
   "outputs": [
    {
     "data": {
      "text/plain": [
       "False"
      ]
     },
     "execution_count": 36,
     "metadata": {},
     "output_type": "execute_result"
    }
   ],
   "source": [
    "x is y"
   ]
  },
  {
   "cell_type": "code",
   "execution_count": 39,
   "metadata": {},
   "outputs": [],
   "source": [
    "x = type(None)()\n",
    "y = type(None)()\n",
    "z = type(None)()"
   ]
  },
  {
   "cell_type": "code",
   "execution_count": 40,
   "metadata": {},
   "outputs": [
    {
     "name": "stdout",
     "output_type": "stream",
     "text": [
      "None\n"
     ]
    }
   ],
   "source": [
    "print(x)"
   ]
  },
  {
   "cell_type": "code",
   "execution_count": 41,
   "metadata": {},
   "outputs": [
    {
     "name": "stdout",
     "output_type": "stream",
     "text": [
      "None\n"
     ]
    }
   ],
   "source": [
    "print(y)"
   ]
  },
  {
   "cell_type": "code",
   "execution_count": 42,
   "metadata": {},
   "outputs": [
    {
     "name": "stdout",
     "output_type": "stream",
     "text": [
      "None\n"
     ]
    }
   ],
   "source": [
    "print(z)"
   ]
  },
  {
   "cell_type": "code",
   "execution_count": 43,
   "metadata": {},
   "outputs": [
    {
     "data": {
      "text/plain": [
       "True"
      ]
     },
     "execution_count": 43,
     "metadata": {},
     "output_type": "execute_result"
    }
   ],
   "source": [
    "x is y"
   ]
  },
  {
   "cell_type": "code",
   "execution_count": 44,
   "metadata": {},
   "outputs": [
    {
     "data": {
      "text/plain": [
       "True"
      ]
     },
     "execution_count": 44,
     "metadata": {},
     "output_type": "execute_result"
    }
   ],
   "source": [
    "y is z"
   ]
  },
  {
   "cell_type": "code",
   "execution_count": 45,
   "metadata": {},
   "outputs": [
    {
     "name": "stdout",
     "output_type": "stream",
     "text": [
      "x is False-ish\n"
     ]
    }
   ],
   "source": [
    "x = None\n",
    "\n",
    "if x:\n",
    "    print('x is True-ish')\n",
    "else:\n",
    "    print('x is False-ish')"
   ]
  },
  {
   "cell_type": "code",
   "execution_count": 46,
   "metadata": {},
   "outputs": [
    {
     "data": {
      "text/plain": [
       "False"
      ]
     },
     "execution_count": 46,
     "metadata": {},
     "output_type": "execute_result"
    }
   ],
   "source": [
    "bool(None)"
   ]
  },
  {
   "cell_type": "markdown",
   "metadata": {},
   "source": [
    "# In a boolean context\n",
    "\n",
    "Everything in Python is `True`!  Except for:\n",
    "\n",
    "- `None`\n",
    "- `False`\n",
    "- 0 (of any type)\n",
    "- anything empty\n",
    "    - `''`\n",
    "    - `[]`\n",
    "    - `()`\n",
    "    - `{}`"
   ]
  },
  {
   "cell_type": "code",
   "execution_count": 47,
   "metadata": {},
   "outputs": [
    {
     "data": {
      "text/plain": [
       "False"
      ]
     },
     "execution_count": 47,
     "metadata": {},
     "output_type": "execute_result"
    }
   ],
   "source": [
    "[] == False"
   ]
  },
  {
   "cell_type": "code",
   "execution_count": 49,
   "metadata": {},
   "outputs": [
    {
     "name": "stdout",
     "output_type": "stream",
     "text": [
      "Enter your name: Reuven\n",
      "Hello, Reuven!\n",
      "Enter your name: asdfafas\n",
      "Hello, asdfafas!\n",
      "Enter your name: \n"
     ]
    }
   ],
   "source": [
    "while True:\n",
    "    s = input('Enter your name: ').strip()\n",
    "    \n",
    "    if not s:\n",
    "        break\n",
    "        \n",
    "    print(f'Hello, {s}!')"
   ]
  },
  {
   "cell_type": "code",
   "execution_count": 51,
   "metadata": {},
   "outputs": [
    {
     "name": "stdout",
     "output_type": "stream",
     "text": [
      "Enter your name: Reuven\n",
      "Hello, Reuven!\n",
      "Enter your name: asdfasfa\n",
      "Hello, asdfasfa!\n",
      "Enter your name: \n"
     ]
    }
   ],
   "source": [
    "# as of Python 3.8, you can use the \"assignment expression\" operator\n",
    "# aka \"the walrus\"\n",
    "# looks like this:    :=\n",
    "\n",
    "while s := input('Enter your name: ').strip():\n",
    "    \n",
    "    print(f'Hello, {s}!')"
   ]
  },
  {
   "cell_type": "code",
   "execution_count": 52,
   "metadata": {},
   "outputs": [],
   "source": [
    "# BDFL -- benevolent dictator for life"
   ]
  },
  {
   "cell_type": "code",
   "execution_count": 53,
   "metadata": {},
   "outputs": [
    {
     "data": {
      "text/plain": [
       "True"
      ]
     },
     "execution_count": 53,
     "metadata": {},
     "output_type": "execute_result"
    }
   ],
   "source": [
    "True == True"
   ]
  },
  {
   "cell_type": "code",
   "execution_count": 54,
   "metadata": {},
   "outputs": [
    {
     "data": {
      "text/plain": [
       "True"
      ]
     },
     "execution_count": 54,
     "metadata": {},
     "output_type": "execute_result"
    }
   ],
   "source": [
    "True == 1"
   ]
  },
  {
   "cell_type": "code",
   "execution_count": 55,
   "metadata": {},
   "outputs": [
    {
     "data": {
      "text/plain": [
       "True"
      ]
     },
     "execution_count": 55,
     "metadata": {},
     "output_type": "execute_result"
    }
   ],
   "source": [
    "False == 0"
   ]
  },
  {
   "cell_type": "code",
   "execution_count": 56,
   "metadata": {},
   "outputs": [
    {
     "data": {
      "text/plain": [
       "bool"
      ]
     },
     "execution_count": 56,
     "metadata": {},
     "output_type": "execute_result"
    }
   ],
   "source": [
    "type(True)"
   ]
  },
  {
   "cell_type": "code",
   "execution_count": 57,
   "metadata": {},
   "outputs": [
    {
     "data": {
      "text/plain": [
       "(int,)"
      ]
     },
     "execution_count": 57,
     "metadata": {},
     "output_type": "execute_result"
    }
   ],
   "source": [
    "bool.__bases__"
   ]
  },
  {
   "cell_type": "code",
   "execution_count": 58,
   "metadata": {},
   "outputs": [],
   "source": [
    "x = 1"
   ]
  },
  {
   "cell_type": "code",
   "execution_count": 59,
   "metadata": {},
   "outputs": [
    {
     "data": {
      "text/plain": [
       "28"
      ]
     },
     "execution_count": 59,
     "metadata": {},
     "output_type": "execute_result"
    }
   ],
   "source": [
    "import sys\n",
    "sys.getsizeof(x)"
   ]
  },
  {
   "cell_type": "code",
   "execution_count": 60,
   "metadata": {},
   "outputs": [],
   "source": [
    "x = 1"
   ]
  },
  {
   "cell_type": "code",
   "execution_count": 61,
   "metadata": {},
   "outputs": [],
   "source": [
    "x = 1234567890\n",
    "x = x ** 20"
   ]
  },
  {
   "cell_type": "code",
   "execution_count": 65,
   "metadata": {},
   "outputs": [],
   "source": [
    "x = x ** 20"
   ]
  },
  {
   "cell_type": "code",
   "execution_count": 63,
   "metadata": {
    "collapsed": true
   },
   "outputs": [
    {
     "data": {
      "text/plain": [
       "4036369052503575996191364206826070861085372028903818320249489982592615874784840921312874505664950504727484471800709614532787968395773235268585972297296374565117844943152597672861376686769252342272949187580892175646644056306614059831335947728728086734926967862177006382085409704371096442604358613534293202692636008610863737499454994753907362362797963209520989005721999553986664619658617827520845489688846291675781162297520360296296220190912193669016987534820486996513701536391611744555647829113987909204662891491532549703778202698791846642830132936104097633800095675681488238752598459848604822821057927852147161057080923563351200535321645191458393479880914268260914469129599595412544051513705486955571150068648044122052326956326604756657192900111295315329629298933503785055931049219621411659018166487773325875961429333001477087606882375667891722137653746933533866231554790272093783004077784000467473972658599299563005570242769501264899800980959438108868416438810681872553376276977843115588145638869944849249754426977195290685401224297356033799898881602943745955193392902679430213641070322075042356127819895668730271604014823135109453900580159949164480926944011464806476840563948548775291037597474932505074377651340245144250931712335393939623811597000583910291763785359095790724676743469473209743603388226723171297680638239106226906035269246834755493618754468979378872791783176243639019872349825883150650056679958443255525146898836188942107696974522818420686892193286623420272986789931117364172392987476805371615597361678574422731446515133614740414263497416124717784766904225153222548427511796727672455140190488075190739527583139276716297161379042703712580890560338636358857254435937088906607035719813041591922712324823959202187595662818750442798907892703280516000883527916562137620368673385754431093720582904484774749972893304339223682432471032075975277377734442902519422119913402834974087183370348343152044659675002024497316351682452206587802026802132748297979821501921231724134722731260538664737718119936475095772476680077611388892433909155664557078305584358542684014625805542522328024932350192236298289098631220308942487577858896549867756532526864213868560197339792909090730568255854039662181869378530541727917262063086175743275118787198971743075075412189402986442239551775370333583163918489808573533836716406667791784633478704713183474578561175166184751756477652949396731802988744857922991359838479588293117942720026207626669742157514017467850376181693596109627498041671421725645023288228902880842629954438288119664191675015899444674109433476713659074552932731206590113695208148539863569694862989316615939544002207526978819953763240013368741510093023536160445327848660242402731178994640643831865619518410092779461435531036034394445708435967548390136326534871722274970487569499080391784185015174626358457484161627840038967250763956578977858061427574303066299224679944347982491459490878874677720573150007132161986939354206768382483611393615464686340273224150824280041356248291609272990054904971672234195330549774486786566146087201847098543205455279285412444380461121237915820957235626850794109557393637604092690445658208376300584268209373440710989874502154288951234993224528166263306990435746969510314062218284028843023775225045262640010000000000000000000000000000000000000000000000000000000000000000000000000000000000000000000000000000000000000000000000000000000000000000000000000000000000000000000000000000000000000000000000000000000000000000000000000000000000000000000000000000000000000000000000000000000000000000000000000000000000000000000000000000000000000000000000000000000000000000000000000000000000000000000000000000000000000000"
      ]
     },
     "execution_count": 63,
     "metadata": {},
     "output_type": "execute_result"
    }
   ],
   "source": [
    "x"
   ]
  },
  {
   "cell_type": "code",
   "execution_count": 66,
   "metadata": {},
   "outputs": [
    {
     "data": {
      "text/plain": [
       "644320"
      ]
     },
     "execution_count": 66,
     "metadata": {},
     "output_type": "execute_result"
    }
   ],
   "source": [
    "sys.getsizeof(x)"
   ]
  },
  {
   "cell_type": "code",
   "execution_count": 68,
   "metadata": {},
   "outputs": [
    {
     "data": {
      "text/plain": [
       "100"
      ]
     },
     "execution_count": 68,
     "metadata": {},
     "output_type": "execute_result"
    }
   ],
   "source": [
    "x = 100     # x refers to the int object 100\n",
    "y = x       # y also refers to the int object 100 (same as x!)\n",
    "\n",
    "x = 200     # x NOW refers to the int object 200 \n",
    "y"
   ]
  },
  {
   "cell_type": "code",
   "execution_count": null,
   "metadata": {},
   "outputs": [],
   "source": []
  }
 ],
 "metadata": {
  "kernelspec": {
   "display_name": "Python 3",
   "language": "python",
   "name": "python3"
  },
  "language_info": {
   "codemirror_mode": {
    "name": "ipython",
    "version": 3
   },
   "file_extension": ".py",
   "mimetype": "text/x-python",
   "name": "python",
   "nbconvert_exporter": "python",
   "pygments_lexer": "ipython3",
   "version": "3.9.2"
  }
 },
 "nbformat": 4,
 "nbformat_minor": 4
}
