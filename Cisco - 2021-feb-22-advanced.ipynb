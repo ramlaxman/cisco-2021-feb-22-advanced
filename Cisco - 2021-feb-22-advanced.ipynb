{
 "cells": [
  {
   "cell_type": "code",
   "execution_count": 2,
   "metadata": {},
   "outputs": [
    {
     "name": "stdout",
     "output_type": "stream",
     "text": [
      "Hello, world!\n"
     ]
    }
   ],
   "source": [
    "print('Hello, world!')"
   ]
  },
  {
   "cell_type": "code",
   "execution_count": 3,
   "metadata": {},
   "outputs": [
    {
     "name": "stdout",
     "output_type": "stream",
     "text": [
      "hello\n",
      "hello again!\n",
      "hello a third time!\n"
     ]
    }
   ],
   "source": [
    "print('hello')                # enter == go down one line\n",
    "print('hello again!')          # enter == go down one line\n",
    "print('hello a third time!')   # shift+enter == execute the code in the cell"
   ]
  },
  {
   "cell_type": "code",
   "execution_count": 4,
   "metadata": {},
   "outputs": [],
   "source": [
    "x = 100"
   ]
  },
  {
   "cell_type": "code",
   "execution_count": 5,
   "metadata": {},
   "outputs": [
    {
     "data": {
      "text/plain": [
       "100"
      ]
     },
     "execution_count": 5,
     "metadata": {},
     "output_type": "execute_result"
    }
   ],
   "source": [
    "x  # the final expression in a cell is returned"
   ]
  },
  {
   "cell_type": "code",
   "execution_count": 6,
   "metadata": {},
   "outputs": [
    {
     "data": {
      "text/plain": [
       "60"
      ]
     },
     "execution_count": 6,
     "metadata": {},
     "output_type": "execute_result"
    }
   ],
   "source": [
    "10 + 10\n",
    "20 + 20 \n",
    "30 + 30"
   ]
  },
  {
   "cell_type": "markdown",
   "metadata": {},
   "source": [
    "# Different types of cells!\n",
    "\n",
    "- Regular \"code\" cells\n",
    "- Markdown cells (like this one)"
   ]
  },
  {
   "cell_type": "markdown",
   "metadata": {},
   "source": [
    "# Different modes\n",
    "\n",
    "- Edit mode -- green outline, you can type into the cell, and the text appears there.  Typically, for entering code and text.  You can enter \"edit mode\" by pressing Enter or clicking in a cell.\n",
    "\n",
    "- Command mode -- blue outline, anything you type is interpreted as a Jupyter command. (Typically, one-character commands.)  Enter \"command mode\" by pressing ESC or clicking to the left of a cell."
   ]
  },
  {
   "cell_type": "markdown",
   "metadata": {},
   "source": [
    "# A few useful Jupyter commands:\n",
    "\n",
    "- `a` to add a new cell *above* the current one\n",
    "- `b` to add a new cell *below* the current one\n",
    "- `x` to cut a cell\n",
    "- `c` to copy a cell\n",
    "- `v` to paste a cell\n",
    "- `z` for undo (of deleting a cell, typically)\n",
    "- `m` to make a cell into Markdown mode\n",
    "- `y` to make a cell into code mode\n",
    "- `r` to put a cell into \"raw\" mode"
   ]
  },
  {
   "cell_type": "code",
   "execution_count": 7,
   "metadata": {},
   "outputs": [
    {
     "name": "stdout",
     "output_type": "stream",
     "text": [
      "hello\n"
     ]
    }
   ],
   "source": [
    "print('hello')"
   ]
  },
  {
   "cell_type": "code",
   "execution_count": 8,
   "metadata": {},
   "outputs": [
    {
     "data": {
      "text/plain": [
       "100"
      ]
     },
     "execution_count": 8,
     "metadata": {},
     "output_type": "execute_result"
    }
   ],
   "source": [
    "x"
   ]
  },
  {
   "cell_type": "code",
   "execution_count": 9,
   "metadata": {},
   "outputs": [
    {
     "name": "stdout",
     "output_type": "stream",
     "text": [
      "Enter a string: sdfaa\n"
     ]
    }
   ],
   "source": [
    "s = input('Enter a string: ')"
   ]
  },
  {
   "cell_type": "code",
   "execution_count": 10,
   "metadata": {},
   "outputs": [
    {
     "data": {
      "text/plain": [
       "100"
      ]
     },
     "execution_count": 10,
     "metadata": {},
     "output_type": "execute_result"
    }
   ],
   "source": [
    "x"
   ]
  },
  {
   "cell_type": "code",
   "execution_count": 11,
   "metadata": {},
   "outputs": [
    {
     "name": "stdout",
     "output_type": "stream",
     "text": [
      "'Cisco - 2021-feb-22-advanced.ipynb'\r\n"
     ]
    }
   ],
   "source": [
    "%ls"
   ]
  },
  {
   "cell_type": "code",
   "execution_count": 12,
   "metadata": {},
   "outputs": [
    {
     "data": {
      "text/plain": [
       "'/Users/reuven/Courses/Current/Cisco-2021-feb-22-advanced'"
      ]
     },
     "execution_count": 12,
     "metadata": {},
     "output_type": "execute_result"
    }
   ],
   "source": [
    "%pwd"
   ]
  },
  {
   "cell_type": "code",
   "execution_count": 13,
   "metadata": {},
   "outputs": [],
   "source": [
    "def hello(name):\n",
    "    return f'Hello, {name}'"
   ]
  },
  {
   "cell_type": "code",
   "execution_count": 14,
   "metadata": {},
   "outputs": [
    {
     "name": "stdout",
     "output_type": "stream",
     "text": [
      "131 ns ± 1.01 ns per loop (mean ± std. dev. of 7 runs, 10000000 loops each)\n"
     ]
    }
   ],
   "source": [
    "%timeit hello('world')"
   ]
  },
  {
   "cell_type": "markdown",
   "metadata": {},
   "source": [
    "# Agenda\n",
    "\n",
    "1. Data structures\n",
    "    - How do the built-in data structures work?\n",
    "    - More advanced data structures, especially from `collections`\n",
    "2. Functions\n",
    "    - Different argument types (and thus parameter types)\n",
    "    - Function objects and bytecodes\n",
    "    - Variable scoping (LEGB rule)\n",
    "    - Enclosing functions and closures\n",
    "    - Treating functions as nouns, not just verbs\n",
    "3. Functional programming \n",
    "    - Comprehensions (list, set, dict, nested) \n",
    "    - Sorting \n",
    "    - `lambda`\n",
    "    - `operator` module\n",
    "4. Modules and packages\n",
    "5. Objects\n",
    "    - Classes, methods, instances\n",
    "    - Attributes -- what are they, why are they important, and the ICPO rule\n",
    "    - Inheritance\n",
    "    - Magic methods for customizing our objects\n",
    "    - Properties\n",
    "    - Descriptors\n",
    "6. The iterator protocol\n",
    "    - Adding iteration to our classes\n",
    "    - Generator functions\n",
    "    - Coroutines and generators\n",
    "    - Generator expressions / generator comprehensions\n",
    "7. Decorators\n",
    "8. Threading and multiprocessing"
   ]
  },
  {
   "cell_type": "markdown",
   "metadata": {},
   "source": [
    "# `None` -- what is it?"
   ]
  },
  {
   "cell_type": "code",
   "execution_count": 15,
   "metadata": {},
   "outputs": [
    {
     "data": {
      "text/plain": [
       "NoneType"
      ]
     },
     "execution_count": 15,
     "metadata": {},
     "output_type": "execute_result"
    }
   ],
   "source": [
    "x = None\n",
    "\n",
    "type(x)"
   ]
  },
  {
   "cell_type": "code",
   "execution_count": 16,
   "metadata": {},
   "outputs": [
    {
     "data": {
      "text/plain": [
       "True"
      ]
     },
     "execution_count": 16,
     "metadata": {},
     "output_type": "execute_result"
    }
   ],
   "source": [
    "None == None"
   ]
  },
  {
   "cell_type": "code",
   "execution_count": 17,
   "metadata": {},
   "outputs": [
    {
     "name": "stdout",
     "output_type": "stream",
     "text": [
      "Yes, x is None!\n"
     ]
    }
   ],
   "source": [
    "if x == None:   # not Pythonic!\n",
    "    print('Yes, x is None!')"
   ]
  },
  {
   "cell_type": "code",
   "execution_count": 18,
   "metadata": {},
   "outputs": [
    {
     "name": "stdout",
     "output_type": "stream",
     "text": [
      "Yes, x is None!\n"
     ]
    }
   ],
   "source": [
    "if x is None:\n",
    "    print('Yes, x is None!')"
   ]
  },
  {
   "cell_type": "code",
   "execution_count": 19,
   "metadata": {},
   "outputs": [
    {
     "data": {
      "text/plain": [
       "True"
      ]
     },
     "execution_count": 19,
     "metadata": {},
     "output_type": "execute_result"
    }
   ],
   "source": [
    "1 == 1.0"
   ]
  },
  {
   "cell_type": "code",
   "execution_count": 20,
   "metadata": {},
   "outputs": [],
   "source": [
    "x = 12345\n",
    "y = 67890\n",
    "z = 'hello out there'"
   ]
  },
  {
   "cell_type": "code",
   "execution_count": 21,
   "metadata": {},
   "outputs": [
    {
     "data": {
      "text/plain": [
       "int"
      ]
     },
     "execution_count": 21,
     "metadata": {},
     "output_type": "execute_result"
    }
   ],
   "source": [
    "type(x)"
   ]
  },
  {
   "cell_type": "code",
   "execution_count": 22,
   "metadata": {},
   "outputs": [
    {
     "data": {
      "text/plain": [
       "int"
      ]
     },
     "execution_count": 22,
     "metadata": {},
     "output_type": "execute_result"
    }
   ],
   "source": [
    "type(y)"
   ]
  },
  {
   "cell_type": "code",
   "execution_count": 23,
   "metadata": {},
   "outputs": [
    {
     "data": {
      "text/plain": [
       "str"
      ]
     },
     "execution_count": 23,
     "metadata": {},
     "output_type": "execute_result"
    }
   ],
   "source": [
    "type(z)"
   ]
  },
  {
   "cell_type": "code",
   "execution_count": 24,
   "metadata": {},
   "outputs": [
    {
     "data": {
      "text/plain": [
       "4365848912"
      ]
     },
     "execution_count": 24,
     "metadata": {},
     "output_type": "execute_result"
    }
   ],
   "source": [
    "id(x)"
   ]
  },
  {
   "cell_type": "code",
   "execution_count": 25,
   "metadata": {},
   "outputs": [
    {
     "data": {
      "text/plain": [
       "4365848720"
      ]
     },
     "execution_count": 25,
     "metadata": {},
     "output_type": "execute_result"
    }
   ],
   "source": [
    "id(y)"
   ]
  },
  {
   "cell_type": "code",
   "execution_count": 26,
   "metadata": {},
   "outputs": [
    {
     "data": {
      "text/plain": [
       "4365854576"
      ]
     },
     "execution_count": 26,
     "metadata": {},
     "output_type": "execute_result"
    }
   ],
   "source": [
    "id(z)"
   ]
  },
  {
   "cell_type": "code",
   "execution_count": 27,
   "metadata": {},
   "outputs": [],
   "source": [
    "y = x    # the variable y should now refer to whatever the variable x is referring to"
   ]
  },
  {
   "cell_type": "code",
   "execution_count": 28,
   "metadata": {},
   "outputs": [
    {
     "data": {
      "text/plain": [
       "4365848912"
      ]
     },
     "execution_count": 28,
     "metadata": {},
     "output_type": "execute_result"
    }
   ],
   "source": [
    "id(x)"
   ]
  },
  {
   "cell_type": "code",
   "execution_count": 29,
   "metadata": {},
   "outputs": [
    {
     "data": {
      "text/plain": [
       "4365848912"
      ]
     },
     "execution_count": 29,
     "metadata": {},
     "output_type": "execute_result"
    }
   ],
   "source": [
    "id(y)"
   ]
  },
  {
   "cell_type": "code",
   "execution_count": 30,
   "metadata": {},
   "outputs": [
    {
     "data": {
      "text/plain": [
       "True"
      ]
     },
     "execution_count": 30,
     "metadata": {},
     "output_type": "execute_result"
    }
   ],
   "source": [
    "x is y   # really asking: id(x) == id(y)"
   ]
  },
  {
   "cell_type": "code",
   "execution_count": 31,
   "metadata": {},
   "outputs": [
    {
     "name": "stdout",
     "output_type": "stream",
     "text": [
      "yes, x is None!\n"
     ]
    }
   ],
   "source": [
    "x = None\n",
    "\n",
    "if x is None:\n",
    "    print('yes, x is None!')"
   ]
  },
  {
   "cell_type": "code",
   "execution_count": 32,
   "metadata": {},
   "outputs": [],
   "source": [
    "# PEP -- Python Enhancement Proposal"
   ]
  },
  {
   "cell_type": "code",
   "execution_count": 33,
   "metadata": {},
   "outputs": [
    {
     "data": {
      "text/plain": [
       "True"
      ]
     },
     "execution_count": 33,
     "metadata": {},
     "output_type": "execute_result"
    }
   ],
   "source": [
    "x = 100\n",
    "y = 100\n",
    "\n",
    "x == y"
   ]
  },
  {
   "cell_type": "code",
   "execution_count": 34,
   "metadata": {},
   "outputs": [
    {
     "data": {
      "text/plain": [
       "True"
      ]
     },
     "execution_count": 34,
     "metadata": {},
     "output_type": "execute_result"
    }
   ],
   "source": [
    "x is y"
   ]
  },
  {
   "cell_type": "code",
   "execution_count": 35,
   "metadata": {},
   "outputs": [
    {
     "data": {
      "text/plain": [
       "True"
      ]
     },
     "execution_count": 35,
     "metadata": {},
     "output_type": "execute_result"
    }
   ],
   "source": [
    "x = 1000\n",
    "y = 1000\n",
    "\n",
    "x == y"
   ]
  },
  {
   "cell_type": "code",
   "execution_count": 36,
   "metadata": {},
   "outputs": [
    {
     "data": {
      "text/plain": [
       "False"
      ]
     },
     "execution_count": 36,
     "metadata": {},
     "output_type": "execute_result"
    }
   ],
   "source": [
    "x is y"
   ]
  },
  {
   "cell_type": "code",
   "execution_count": 39,
   "metadata": {},
   "outputs": [],
   "source": [
    "x = type(None)()\n",
    "y = type(None)()\n",
    "z = type(None)()"
   ]
  },
  {
   "cell_type": "code",
   "execution_count": 40,
   "metadata": {},
   "outputs": [
    {
     "name": "stdout",
     "output_type": "stream",
     "text": [
      "None\n"
     ]
    }
   ],
   "source": [
    "print(x)"
   ]
  },
  {
   "cell_type": "code",
   "execution_count": 41,
   "metadata": {},
   "outputs": [
    {
     "name": "stdout",
     "output_type": "stream",
     "text": [
      "None\n"
     ]
    }
   ],
   "source": [
    "print(y)"
   ]
  },
  {
   "cell_type": "code",
   "execution_count": 42,
   "metadata": {},
   "outputs": [
    {
     "name": "stdout",
     "output_type": "stream",
     "text": [
      "None\n"
     ]
    }
   ],
   "source": [
    "print(z)"
   ]
  },
  {
   "cell_type": "code",
   "execution_count": 43,
   "metadata": {},
   "outputs": [
    {
     "data": {
      "text/plain": [
       "True"
      ]
     },
     "execution_count": 43,
     "metadata": {},
     "output_type": "execute_result"
    }
   ],
   "source": [
    "x is y"
   ]
  },
  {
   "cell_type": "code",
   "execution_count": 44,
   "metadata": {},
   "outputs": [
    {
     "data": {
      "text/plain": [
       "True"
      ]
     },
     "execution_count": 44,
     "metadata": {},
     "output_type": "execute_result"
    }
   ],
   "source": [
    "y is z"
   ]
  },
  {
   "cell_type": "code",
   "execution_count": 45,
   "metadata": {},
   "outputs": [
    {
     "name": "stdout",
     "output_type": "stream",
     "text": [
      "x is False-ish\n"
     ]
    }
   ],
   "source": [
    "x = None\n",
    "\n",
    "if x:\n",
    "    print('x is True-ish')\n",
    "else:\n",
    "    print('x is False-ish')"
   ]
  },
  {
   "cell_type": "code",
   "execution_count": 46,
   "metadata": {},
   "outputs": [
    {
     "data": {
      "text/plain": [
       "False"
      ]
     },
     "execution_count": 46,
     "metadata": {},
     "output_type": "execute_result"
    }
   ],
   "source": [
    "bool(None)"
   ]
  },
  {
   "cell_type": "markdown",
   "metadata": {},
   "source": [
    "# In a boolean context\n",
    "\n",
    "Everything in Python is `True`!  Except for:\n",
    "\n",
    "- `None`\n",
    "- `False`\n",
    "- 0 (of any type)\n",
    "- anything empty\n",
    "    - `''`\n",
    "    - `[]`\n",
    "    - `()`\n",
    "    - `{}`"
   ]
  },
  {
   "cell_type": "code",
   "execution_count": 47,
   "metadata": {},
   "outputs": [
    {
     "data": {
      "text/plain": [
       "False"
      ]
     },
     "execution_count": 47,
     "metadata": {},
     "output_type": "execute_result"
    }
   ],
   "source": [
    "[] == False"
   ]
  },
  {
   "cell_type": "code",
   "execution_count": 49,
   "metadata": {},
   "outputs": [
    {
     "name": "stdout",
     "output_type": "stream",
     "text": [
      "Enter your name: Reuven\n",
      "Hello, Reuven!\n",
      "Enter your name: asdfafas\n",
      "Hello, asdfafas!\n",
      "Enter your name: \n"
     ]
    }
   ],
   "source": [
    "while True:\n",
    "    s = input('Enter your name: ').strip()\n",
    "    \n",
    "    if not s:\n",
    "        break\n",
    "        \n",
    "    print(f'Hello, {s}!')"
   ]
  },
  {
   "cell_type": "code",
   "execution_count": 51,
   "metadata": {},
   "outputs": [
    {
     "name": "stdout",
     "output_type": "stream",
     "text": [
      "Enter your name: Reuven\n",
      "Hello, Reuven!\n",
      "Enter your name: asdfasfa\n",
      "Hello, asdfasfa!\n",
      "Enter your name: \n"
     ]
    }
   ],
   "source": [
    "# as of Python 3.8, you can use the \"assignment expression\" operator\n",
    "# aka \"the walrus\"\n",
    "# looks like this:    :=\n",
    "\n",
    "while s := input('Enter your name: ').strip():\n",
    "    \n",
    "    print(f'Hello, {s}!')"
   ]
  },
  {
   "cell_type": "code",
   "execution_count": 52,
   "metadata": {},
   "outputs": [],
   "source": [
    "# BDFL -- benevolent dictator for life"
   ]
  },
  {
   "cell_type": "code",
   "execution_count": 53,
   "metadata": {},
   "outputs": [
    {
     "data": {
      "text/plain": [
       "True"
      ]
     },
     "execution_count": 53,
     "metadata": {},
     "output_type": "execute_result"
    }
   ],
   "source": [
    "True == True"
   ]
  },
  {
   "cell_type": "code",
   "execution_count": 54,
   "metadata": {},
   "outputs": [
    {
     "data": {
      "text/plain": [
       "True"
      ]
     },
     "execution_count": 54,
     "metadata": {},
     "output_type": "execute_result"
    }
   ],
   "source": [
    "True == 1"
   ]
  },
  {
   "cell_type": "code",
   "execution_count": 55,
   "metadata": {},
   "outputs": [
    {
     "data": {
      "text/plain": [
       "True"
      ]
     },
     "execution_count": 55,
     "metadata": {},
     "output_type": "execute_result"
    }
   ],
   "source": [
    "False == 0"
   ]
  },
  {
   "cell_type": "code",
   "execution_count": 56,
   "metadata": {},
   "outputs": [
    {
     "data": {
      "text/plain": [
       "bool"
      ]
     },
     "execution_count": 56,
     "metadata": {},
     "output_type": "execute_result"
    }
   ],
   "source": [
    "type(True)"
   ]
  },
  {
   "cell_type": "code",
   "execution_count": 57,
   "metadata": {},
   "outputs": [
    {
     "data": {
      "text/plain": [
       "(int,)"
      ]
     },
     "execution_count": 57,
     "metadata": {},
     "output_type": "execute_result"
    }
   ],
   "source": [
    "bool.__bases__"
   ]
  },
  {
   "cell_type": "code",
   "execution_count": 58,
   "metadata": {},
   "outputs": [],
   "source": [
    "x = 1"
   ]
  },
  {
   "cell_type": "code",
   "execution_count": 59,
   "metadata": {},
   "outputs": [
    {
     "data": {
      "text/plain": [
       "28"
      ]
     },
     "execution_count": 59,
     "metadata": {},
     "output_type": "execute_result"
    }
   ],
   "source": [
    "import sys\n",
    "sys.getsizeof(x)"
   ]
  },
  {
   "cell_type": "code",
   "execution_count": 60,
   "metadata": {},
   "outputs": [],
   "source": [
    "x = 1"
   ]
  },
  {
   "cell_type": "code",
   "execution_count": 61,
   "metadata": {},
   "outputs": [],
   "source": [
    "x = 1234567890\n",
    "x = x ** 20"
   ]
  },
  {
   "cell_type": "code",
   "execution_count": 65,
   "metadata": {},
   "outputs": [],
   "source": [
    "x = x ** 20"
   ]
  },
  {
   "cell_type": "code",
   "execution_count": 63,
   "metadata": {
    "collapsed": true
   },
   "outputs": [
    {
     "data": {
      "text/plain": [
       "4036369052503575996191364206826070861085372028903818320249489982592615874784840921312874505664950504727484471800709614532787968395773235268585972297296374565117844943152597672861376686769252342272949187580892175646644056306614059831335947728728086734926967862177006382085409704371096442604358613534293202692636008610863737499454994753907362362797963209520989005721999553986664619658617827520845489688846291675781162297520360296296220190912193669016987534820486996513701536391611744555647829113987909204662891491532549703778202698791846642830132936104097633800095675681488238752598459848604822821057927852147161057080923563351200535321645191458393479880914268260914469129599595412544051513705486955571150068648044122052326956326604756657192900111295315329629298933503785055931049219621411659018166487773325875961429333001477087606882375667891722137653746933533866231554790272093783004077784000467473972658599299563005570242769501264899800980959438108868416438810681872553376276977843115588145638869944849249754426977195290685401224297356033799898881602943745955193392902679430213641070322075042356127819895668730271604014823135109453900580159949164480926944011464806476840563948548775291037597474932505074377651340245144250931712335393939623811597000583910291763785359095790724676743469473209743603388226723171297680638239106226906035269246834755493618754468979378872791783176243639019872349825883150650056679958443255525146898836188942107696974522818420686892193286623420272986789931117364172392987476805371615597361678574422731446515133614740414263497416124717784766904225153222548427511796727672455140190488075190739527583139276716297161379042703712580890560338636358857254435937088906607035719813041591922712324823959202187595662818750442798907892703280516000883527916562137620368673385754431093720582904484774749972893304339223682432471032075975277377734442902519422119913402834974087183370348343152044659675002024497316351682452206587802026802132748297979821501921231724134722731260538664737718119936475095772476680077611388892433909155664557078305584358542684014625805542522328024932350192236298289098631220308942487577858896549867756532526864213868560197339792909090730568255854039662181869378530541727917262063086175743275118787198971743075075412189402986442239551775370333583163918489808573533836716406667791784633478704713183474578561175166184751756477652949396731802988744857922991359838479588293117942720026207626669742157514017467850376181693596109627498041671421725645023288228902880842629954438288119664191675015899444674109433476713659074552932731206590113695208148539863569694862989316615939544002207526978819953763240013368741510093023536160445327848660242402731178994640643831865619518410092779461435531036034394445708435967548390136326534871722274970487569499080391784185015174626358457484161627840038967250763956578977858061427574303066299224679944347982491459490878874677720573150007132161986939354206768382483611393615464686340273224150824280041356248291609272990054904971672234195330549774486786566146087201847098543205455279285412444380461121237915820957235626850794109557393637604092690445658208376300584268209373440710989874502154288951234993224528166263306990435746969510314062218284028843023775225045262640010000000000000000000000000000000000000000000000000000000000000000000000000000000000000000000000000000000000000000000000000000000000000000000000000000000000000000000000000000000000000000000000000000000000000000000000000000000000000000000000000000000000000000000000000000000000000000000000000000000000000000000000000000000000000000000000000000000000000000000000000000000000000000000000000000000000000000"
      ]
     },
     "execution_count": 63,
     "metadata": {},
     "output_type": "execute_result"
    }
   ],
   "source": [
    "x"
   ]
  },
  {
   "cell_type": "code",
   "execution_count": 66,
   "metadata": {},
   "outputs": [
    {
     "data": {
      "text/plain": [
       "644320"
      ]
     },
     "execution_count": 66,
     "metadata": {},
     "output_type": "execute_result"
    }
   ],
   "source": [
    "sys.getsizeof(x)"
   ]
  },
  {
   "cell_type": "code",
   "execution_count": 68,
   "metadata": {},
   "outputs": [
    {
     "data": {
      "text/plain": [
       "100"
      ]
     },
     "execution_count": 68,
     "metadata": {},
     "output_type": "execute_result"
    }
   ],
   "source": [
    "x = 100     # x refers to the int object 100\n",
    "y = x       # y also refers to the int object 100 (same as x!)\n",
    "\n",
    "x = 200     # x NOW refers to the int object 200 \n",
    "y"
   ]
  },
  {
   "cell_type": "code",
   "execution_count": 69,
   "metadata": {},
   "outputs": [
    {
     "data": {
      "text/plain": [
       "['!!!', 20, 30]"
      ]
     },
     "execution_count": 69,
     "metadata": {},
     "output_type": "execute_result"
    }
   ],
   "source": [
    "x = [10, 20, 30]\n",
    "y = x\n",
    "\n",
    "x[0] = '!!!'   # this is only possible because lists are mutable\n",
    "x"
   ]
  },
  {
   "cell_type": "code",
   "execution_count": 70,
   "metadata": {},
   "outputs": [
    {
     "data": {
      "text/plain": [
       "['!!!', 20, 30]"
      ]
     },
     "execution_count": 70,
     "metadata": {},
     "output_type": "execute_result"
    }
   ],
   "source": [
    "y"
   ]
  },
  {
   "cell_type": "code",
   "execution_count": 71,
   "metadata": {},
   "outputs": [
    {
     "data": {
      "text/plain": [
       "110"
      ]
     },
     "execution_count": 71,
     "metadata": {},
     "output_type": "execute_result"
    }
   ],
   "source": [
    "x = 100\n",
    "y = x\n",
    "\n",
    "x += 10  # really this is: x = x + 10\n",
    "x"
   ]
  },
  {
   "cell_type": "code",
   "execution_count": 72,
   "metadata": {},
   "outputs": [
    {
     "data": {
      "text/plain": [
       "100"
      ]
     },
     "execution_count": 72,
     "metadata": {},
     "output_type": "execute_result"
    }
   ],
   "source": [
    "y"
   ]
  },
  {
   "cell_type": "code",
   "execution_count": 73,
   "metadata": {},
   "outputs": [
    {
     "data": {
      "text/plain": [
       "0.30000000000000004"
      ]
     },
     "execution_count": 73,
     "metadata": {},
     "output_type": "execute_result"
    }
   ],
   "source": [
    "# floats\n",
    "\n",
    "0.1 + 0.2"
   ]
  },
  {
   "cell_type": "code",
   "execution_count": 74,
   "metadata": {},
   "outputs": [
    {
     "data": {
      "text/plain": [
       "0.3333333333333333"
      ]
     },
     "execution_count": 74,
     "metadata": {},
     "output_type": "execute_result"
    }
   ],
   "source": [
    "1/3"
   ]
  },
  {
   "cell_type": "code",
   "execution_count": 75,
   "metadata": {},
   "outputs": [
    {
     "data": {
      "text/plain": [
       "0.30000000000000004"
      ]
     },
     "execution_count": 75,
     "metadata": {},
     "output_type": "execute_result"
    }
   ],
   "source": [
    "x = 0.1\n",
    "y = 0.2\n",
    "\n",
    "z = x + y\n",
    "z"
   ]
  },
  {
   "cell_type": "code",
   "execution_count": 77,
   "metadata": {},
   "outputs": [
    {
     "data": {
      "text/plain": [
       "0.30000000000000004"
      ]
     },
     "execution_count": 77,
     "metadata": {},
     "output_type": "execute_result"
    }
   ],
   "source": [
    "round(z, 20)"
   ]
  },
  {
   "cell_type": "code",
   "execution_count": 78,
   "metadata": {},
   "outputs": [],
   "source": [
    "# BCD -- binary coded decimals\n",
    "# meaning: we will write the decimal digits using binary numbers, \n",
    "#  and the calculate using those decimal digits, like we did in school"
   ]
  },
  {
   "cell_type": "code",
   "execution_count": 79,
   "metadata": {},
   "outputs": [
    {
     "data": {
      "text/plain": [
       "Decimal('0.3')"
      ]
     },
     "execution_count": 79,
     "metadata": {},
     "output_type": "execute_result"
    }
   ],
   "source": [
    "from decimal import Decimal \n",
    "x = Decimal('0.1')   # use a string to define!\n",
    "y = Decimal('0.2')   # use a string to define!\n",
    "\n",
    "x+y"
   ]
  },
  {
   "cell_type": "code",
   "execution_count": 80,
   "metadata": {},
   "outputs": [
    {
     "data": {
      "text/plain": [
       "0.3"
      ]
     },
     "execution_count": 80,
     "metadata": {},
     "output_type": "execute_result"
    }
   ],
   "source": [
    "float(x+y)"
   ]
  },
  {
   "cell_type": "code",
   "execution_count": 81,
   "metadata": {},
   "outputs": [],
   "source": [
    "x = Decimal(0.1)\n",
    "y = Decimal(0.2)"
   ]
  },
  {
   "cell_type": "code",
   "execution_count": 82,
   "metadata": {},
   "outputs": [
    {
     "data": {
      "text/plain": [
       "Decimal('0.1000000000000000055511151231257827021181583404541015625')"
      ]
     },
     "execution_count": 82,
     "metadata": {},
     "output_type": "execute_result"
    }
   ],
   "source": [
    "x"
   ]
  },
  {
   "cell_type": "code",
   "execution_count": 83,
   "metadata": {},
   "outputs": [
    {
     "data": {
      "text/plain": [
       "Decimal('0.200000000000000011102230246251565404236316680908203125')"
      ]
     },
     "execution_count": 83,
     "metadata": {},
     "output_type": "execute_result"
    }
   ],
   "source": [
    "y"
   ]
  },
  {
   "cell_type": "code",
   "execution_count": 84,
   "metadata": {},
   "outputs": [
    {
     "data": {
      "text/plain": [
       "Decimal('0.3000000000000000166533453694')"
      ]
     },
     "execution_count": 84,
     "metadata": {},
     "output_type": "execute_result"
    }
   ],
   "source": [
    "x+y"
   ]
  },
  {
   "cell_type": "code",
   "execution_count": 85,
   "metadata": {},
   "outputs": [],
   "source": [
    "# strings are a \"sequence\"\n",
    "# sequences: strings, lists, tuples"
   ]
  },
  {
   "cell_type": "code",
   "execution_count": 86,
   "metadata": {},
   "outputs": [
    {
     "data": {
      "text/plain": [
       "'x = abcd, y = 100, z = [10, 20, 30]'"
      ]
     },
     "execution_count": 86,
     "metadata": {},
     "output_type": "execute_result"
    }
   ],
   "source": [
    "# f-strings are as of Python 3.6\n",
    "\n",
    "x = 'abcd'\n",
    "y = 100\n",
    "z = [10, 20, 30]\n",
    "\n",
    "f'x = {x}, y = {y}, z = {z}'"
   ]
  },
  {
   "cell_type": "code",
   "execution_count": 87,
   "metadata": {},
   "outputs": [
    {
     "data": {
      "text/plain": [
       "'x = ABCD, y = 100, z = [10, 20, 30]'"
      ]
     },
     "execution_count": 87,
     "metadata": {},
     "output_type": "execute_result"
    }
   ],
   "source": [
    "f'x = {x.upper()}, y = {y}, z = {z}'"
   ]
  },
  {
   "cell_type": "code",
   "execution_count": 88,
   "metadata": {},
   "outputs": [
    {
     "data": {
      "text/plain": [
       "\"x='abcd', y=100, z=[10, 20, 30]\""
      ]
     },
     "execution_count": 88,
     "metadata": {},
     "output_type": "execute_result"
    }
   ],
   "source": [
    "# as of Python 3.9, there's a new syntax for showing variables + values\n",
    "\n",
    "f'{x=}, {y=}, {z=}'"
   ]
  },
  {
   "cell_type": "code",
   "execution_count": 89,
   "metadata": {},
   "outputs": [
    {
     "name": "stdout",
     "output_type": "stream",
     "text": [
      "Hello, Reuven Lerner.\n"
     ]
    }
   ],
   "source": [
    "first = 'Reuven'\n",
    "last = 'Lerner'\n",
    "\n",
    "s = f'Hello, {first} {last}.'\n",
    "print(s)"
   ]
  },
  {
   "cell_type": "code",
   "execution_count": 90,
   "metadata": {},
   "outputs": [
    {
     "name": "stdout",
     "output_type": "stream",
     "text": [
      "Hello, Reuven     Lerner         .\n"
     ]
    }
   ],
   "source": [
    "s = f'Hello, {first:10} {last:15}.'\n",
    "print(s)"
   ]
  },
  {
   "cell_type": "code",
   "execution_count": 91,
   "metadata": {},
   "outputs": [
    {
     "name": "stdout",
     "output_type": "stream",
     "text": [
      "Hello,   Reuven            Lerner.\n"
     ]
    }
   ],
   "source": [
    "s = f'Hello, {first:^10} {last:>15}.'\n",
    "print(s)"
   ]
  },
  {
   "cell_type": "code",
   "execution_count": 92,
   "metadata": {},
   "outputs": [
    {
     "name": "stdout",
     "output_type": "stream",
     "text": [
      "Hello, **Reuven** _________Lerner.\n"
     ]
    }
   ],
   "source": [
    "s = f'Hello, {first:*^10} {last:_>15}.'\n",
    "print(s)"
   ]
  },
  {
   "cell_type": "code",
   "execution_count": 96,
   "metadata": {},
   "outputs": [
    {
     "name": "stdout",
     "output_type": "stream",
     "text": [
      "a...........1000\n",
      "bcd............2\n",
      "efghi..........3\n",
      "jk.......4567890\n"
     ]
    }
   ],
   "source": [
    "d = {'a':1000, 'bcd':2, 'efghi':3, 'jk':4567890}\n",
    "\n",
    "for key, value in d.items():\n",
    "    print(f'{key:.<8}{value:.>8}')"
   ]
  },
  {
   "cell_type": "code",
   "execution_count": 97,
   "metadata": {},
   "outputs": [
    {
     "data": {
      "text/plain": [
       "True"
      ]
     },
     "execution_count": 97,
     "metadata": {},
     "output_type": "execute_result"
    }
   ],
   "source": [
    "x = 'abcd'\n",
    "y = 'abcd'\n",
    "\n",
    "x == y"
   ]
  },
  {
   "cell_type": "code",
   "execution_count": 98,
   "metadata": {},
   "outputs": [
    {
     "data": {
      "text/plain": [
       "True"
      ]
     },
     "execution_count": 98,
     "metadata": {},
     "output_type": "execute_result"
    }
   ],
   "source": [
    "x is y"
   ]
  },
  {
   "cell_type": "code",
   "execution_count": 99,
   "metadata": {},
   "outputs": [
    {
     "data": {
      "text/plain": [
       "True"
      ]
     },
     "execution_count": 99,
     "metadata": {},
     "output_type": "execute_result"
    }
   ],
   "source": [
    "x = 'abcd' * 5000\n",
    "y = 'abcd' * 5000\n",
    "\n",
    "x == y"
   ]
  },
  {
   "cell_type": "code",
   "execution_count": 100,
   "metadata": {},
   "outputs": [
    {
     "data": {
      "text/plain": [
       "False"
      ]
     },
     "execution_count": 100,
     "metadata": {},
     "output_type": "execute_result"
    }
   ],
   "source": [
    "x is y"
   ]
  },
  {
   "cell_type": "code",
   "execution_count": 101,
   "metadata": {},
   "outputs": [
    {
     "data": {
      "text/plain": [
       "True"
      ]
     },
     "execution_count": 101,
     "metadata": {},
     "output_type": "execute_result"
    }
   ],
   "source": [
    "x = 'ab.cd'\n",
    "y = 'ab.cd'\n",
    "\n",
    "x == y"
   ]
  },
  {
   "cell_type": "code",
   "execution_count": 102,
   "metadata": {},
   "outputs": [
    {
     "data": {
      "text/plain": [
       "False"
      ]
     },
     "execution_count": 102,
     "metadata": {},
     "output_type": "execute_result"
    }
   ],
   "source": [
    "x is y"
   ]
  },
  {
   "cell_type": "code",
   "execution_count": 103,
   "metadata": {},
   "outputs": [],
   "source": [
    "x = 100"
   ]
  },
  {
   "cell_type": "code",
   "execution_count": 104,
   "metadata": {
    "collapsed": true
   },
   "outputs": [
    {
     "data": {
      "text/plain": [
       "{'__name__': '__main__',\n",
       " '__doc__': 'Automatically created module for IPython interactive environment',\n",
       " '__package__': None,\n",
       " '__loader__': None,\n",
       " '__spec__': None,\n",
       " '__builtin__': <module 'builtins' (built-in)>,\n",
       " '__builtins__': <module 'builtins' (built-in)>,\n",
       " '_ih': ['',\n",
       "  'x',\n",
       "  \"print('Hello, world!')\",\n",
       "  \"print('hello')                # enter == go down one line\\nprint('hello again!')          # enter == go down one line\\nprint('hello a third time!')   # shift+enter == execute the code in the cell\",\n",
       "  'x = 100',\n",
       "  'x  # the final expression in a cell is returned',\n",
       "  '10 + 10\\n20 + 20 \\n30 + 30',\n",
       "  \"print('hello')\",\n",
       "  'x',\n",
       "  \"s = input('Enter a string: ')\",\n",
       "  'x',\n",
       "  \"get_ipython().run_line_magic('ls', '')\",\n",
       "  \"get_ipython().run_line_magic('pwd', '')\",\n",
       "  \"def hello(name):\\n    return f'Hello, {name}'\",\n",
       "  'get_ipython().run_line_magic(\\'timeit\\', \"hello(\\'world\\')\")',\n",
       "  'x = None\\n\\ntype(x)',\n",
       "  'None == None',\n",
       "  \"if x == None:\\n    print('Yes, x is None!')\",\n",
       "  \"if x is None:\\n    print('Yes, x is None!')\",\n",
       "  '1 == 1.0',\n",
       "  \"x = 12345\\ny = 67890\\nz = 'hello out there'\",\n",
       "  'type(x)',\n",
       "  'type(y)',\n",
       "  'type(z)',\n",
       "  'id(x)',\n",
       "  'id(y)',\n",
       "  'id(z)',\n",
       "  'y = x    # the variable y should now refer to whatever the variable x is referring to',\n",
       "  'id(x)',\n",
       "  'id(y)',\n",
       "  'x is y   # really asking: id(x) == id(y)',\n",
       "  \"x = None\\n\\nif x is None:\\n    print('yes, x is None!')\",\n",
       "  '# PEP -- Python Enhancement Proposal',\n",
       "  'x = 100\\ny = 100\\n\\nx == y',\n",
       "  'x is y',\n",
       "  'x = 1000\\ny = 1000\\n\\nx == y',\n",
       "  'x is y',\n",
       "  'type(None)',\n",
       "  'type(None)()',\n",
       "  'x = type(None)()\\ny = type(None)()\\nz = type(None)()',\n",
       "  'print(x)',\n",
       "  'print(y)',\n",
       "  'print(z)',\n",
       "  'x is y',\n",
       "  'y is z',\n",
       "  \"x = None\\n\\nif x:\\n    print('x is True-ish')\\nelse:\\n    print('x is False-ish')\",\n",
       "  'bool(None)',\n",
       "  '[] == False',\n",
       "  \"while True:\\n    s = input('Enter your name: ').strip()\\n    \\n    if not s:\\n        break\\n        \\n    print(f'Hello, {name}!')\",\n",
       "  \"while True:\\n    s = input('Enter your name: ').strip()\\n    \\n    if not s:\\n        break\\n        \\n    print(f'Hello, {s}!')\",\n",
       "  \"while s = input('Enter your name: ').strip():\\n    \\n    print(f'Hello, {s}!')\",\n",
       "  '# as of Python 3.8, you can use the \"assignment expression\" operator\\n# aka \"the walrus\"\\n# looks like this:    :=\\n\\nwhile s := input(\\'Enter your name: \\').strip():\\n    \\n    print(f\\'Hello, {s}!\\')',\n",
       "  '# BDFL -- benevolent dictator for life',\n",
       "  'True == True',\n",
       "  'True == 1',\n",
       "  'False == 0',\n",
       "  'type(True)',\n",
       "  'bool.__bases__',\n",
       "  'x = 1',\n",
       "  'import sys\\nsys.getsizeof(x)',\n",
       "  'x = 1',\n",
       "  'x = 1234567890\\nx = x ** 20',\n",
       "  'x = x ** 20',\n",
       "  'x',\n",
       "  'x = x ** 20',\n",
       "  'x = x ** 20',\n",
       "  'sys.getsizeof(x)',\n",
       "  'x = 100\\ny = x\\n\\nx = 200\\ny',\n",
       "  'x = 100     # x refers to the int object 100\\ny = x       # y also refers to the int object 100 (same as x!)\\n\\nx = 200     # x NOW refers to the int object 200 \\ny',\n",
       "  \"x = [10, 20, 30]\\ny = x\\n\\nx[0] = '!!!'   # this is only possible because lists are mutable\\nx\",\n",
       "  'y',\n",
       "  'x = 100\\ny = x\\n\\nx += 10  # really this is: x = x + 10\\nx',\n",
       "  'y',\n",
       "  '# floats\\n\\n0.1 + 0.2',\n",
       "  '1/3',\n",
       "  'x = 0.1\\ny = 0.2\\n\\nz = x + y\\nz',\n",
       "  'round(z, 2)',\n",
       "  'round(z, 20)',\n",
       "  '# BCD -- binary coded decimals\\n# meaning: we will write the decimal digits using binary numbers, \\n#  and the calculate using those decimal digits, like we did in school',\n",
       "  \"from decimal import Decimal \\nx = Decimal('0.1')\\ny = Decimal('0.2')\\n\\nx+y\",\n",
       "  'float(x+y)',\n",
       "  'x = Decimal(0.1)\\ny = Decimal(0.2)',\n",
       "  'x',\n",
       "  'y',\n",
       "  'x+y',\n",
       "  '# strings are a \"sequence\"\\n# sequences: strings, lists, tuples',\n",
       "  \"# f-strings are as of Python 3.6\\n\\nx = 'abcd'\\ny = 100\\nz = [10, 20, 30]\\n\\nf'x = {x}, y = {y}, z = {z}'\",\n",
       "  \"f'x = {x.upper()}, y = {y}, z = {z}'\",\n",
       "  \"# as of Python 3.9, there's a new syntax for showing variables + values\\n\\nf'{x=}, {y=}, {z=}'\",\n",
       "  \"first = 'Reuven'\\nlast = 'Lerner'\\n\\ns = f'Hello, {first} {last}.'\\nprint(s)\",\n",
       "  \"s = f'Hello, {first:10} {last:15}.'\\nprint(s)\",\n",
       "  \"s = f'Hello, {first:^10} {last:>15}.'\\nprint(s)\",\n",
       "  \"s = f'Hello, {first:*^10} {last:_>15}.'\\nprint(s)\",\n",
       "  \"d = {'a':1000, 'bcd':2, 'efghi':3, 'jk':4567890}\\n\\nfor key, value in d.items():\\n    print(f'{key}{value}')\",\n",
       "  \"d = {'a':1000, 'bcd':2, 'efghi':3, 'jk':4567890}\\n\\nfor key, value in d.items():\\n    print(f'{key:8}{value}')\",\n",
       "  \"d = {'a':1000, 'bcd':2, 'efghi':3, 'jk':4567890}\\n\\nfor key, value in d.items():\\n    print(f'{key:.<8}{value}')\",\n",
       "  \"d = {'a':1000, 'bcd':2, 'efghi':3, 'jk':4567890}\\n\\nfor key, value in d.items():\\n    print(f'{key:.<8}{value:.>8}')\",\n",
       "  \"x = 'abcd'\\ny = 'abcd'\\n\\nx == y\",\n",
       "  'x is y',\n",
       "  \"x = 'abcd' * 5000\\ny = 'abcd' * 5000\\n\\nx == y\",\n",
       "  'x is y',\n",
       "  \"x = 'ab.cd'\\ny = 'ab.cd'\\n\\nx == y\",\n",
       "  'x is y',\n",
       "  'x = 100',\n",
       "  \"# x is turned into a string ('x') and used a key in the globals dictionary\\nglobals()  # this function returns that dictionary!\"],\n",
       " '_oh': {5: 100,\n",
       "  6: 60,\n",
       "  8: 100,\n",
       "  10: 100,\n",
       "  12: '/Users/reuven/Courses/Current/Cisco-2021-feb-22-advanced',\n",
       "  15: NoneType,\n",
       "  16: True,\n",
       "  19: True,\n",
       "  21: int,\n",
       "  22: int,\n",
       "  23: str,\n",
       "  24: 4365848912,\n",
       "  25: 4365848720,\n",
       "  26: 4365854576,\n",
       "  28: 4365848912,\n",
       "  29: 4365848912,\n",
       "  30: True,\n",
       "  33: True,\n",
       "  34: True,\n",
       "  35: True,\n",
       "  36: False,\n",
       "  37: NoneType,\n",
       "  43: True,\n",
       "  44: True,\n",
       "  46: False,\n",
       "  47: False,\n",
       "  53: True,\n",
       "  54: True,\n",
       "  55: True,\n",
       "  56: bool,\n",
       "  57: (int,),\n",
       "  59: 28,\n",
       "  63: 4036369052503575996191364206826070861085372028903818320249489982592615874784840921312874505664950504727484471800709614532787968395773235268585972297296374565117844943152597672861376686769252342272949187580892175646644056306614059831335947728728086734926967862177006382085409704371096442604358613534293202692636008610863737499454994753907362362797963209520989005721999553986664619658617827520845489688846291675781162297520360296296220190912193669016987534820486996513701536391611744555647829113987909204662891491532549703778202698791846642830132936104097633800095675681488238752598459848604822821057927852147161057080923563351200535321645191458393479880914268260914469129599595412544051513705486955571150068648044122052326956326604756657192900111295315329629298933503785055931049219621411659018166487773325875961429333001477087606882375667891722137653746933533866231554790272093783004077784000467473972658599299563005570242769501264899800980959438108868416438810681872553376276977843115588145638869944849249754426977195290685401224297356033799898881602943745955193392902679430213641070322075042356127819895668730271604014823135109453900580159949164480926944011464806476840563948548775291037597474932505074377651340245144250931712335393939623811597000583910291763785359095790724676743469473209743603388226723171297680638239106226906035269246834755493618754468979378872791783176243639019872349825883150650056679958443255525146898836188942107696974522818420686892193286623420272986789931117364172392987476805371615597361678574422731446515133614740414263497416124717784766904225153222548427511796727672455140190488075190739527583139276716297161379042703712580890560338636358857254435937088906607035719813041591922712324823959202187595662818750442798907892703280516000883527916562137620368673385754431093720582904484774749972893304339223682432471032075975277377734442902519422119913402834974087183370348343152044659675002024497316351682452206587802026802132748297979821501921231724134722731260538664737718119936475095772476680077611388892433909155664557078305584358542684014625805542522328024932350192236298289098631220308942487577858896549867756532526864213868560197339792909090730568255854039662181869378530541727917262063086175743275118787198971743075075412189402986442239551775370333583163918489808573533836716406667791784633478704713183474578561175166184751756477652949396731802988744857922991359838479588293117942720026207626669742157514017467850376181693596109627498041671421725645023288228902880842629954438288119664191675015899444674109433476713659074552932731206590113695208148539863569694862989316615939544002207526978819953763240013368741510093023536160445327848660242402731178994640643831865619518410092779461435531036034394445708435967548390136326534871722274970487569499080391784185015174626358457484161627840038967250763956578977858061427574303066299224679944347982491459490878874677720573150007132161986939354206768382483611393615464686340273224150824280041356248291609272990054904971672234195330549774486786566146087201847098543205455279285412444380461121237915820957235626850794109557393637604092690445658208376300584268209373440710989874502154288951234993224528166263306990435746969510314062218284028843023775225045262640010000000000000000000000000000000000000000000000000000000000000000000000000000000000000000000000000000000000000000000000000000000000000000000000000000000000000000000000000000000000000000000000000000000000000000000000000000000000000000000000000000000000000000000000000000000000000000000000000000000000000000000000000000000000000000000000000000000000000000000000000000000000000000000000000000000000000000,\n",
       "  66: 644320,\n",
       "  67: 100,\n",
       "  68: 100,\n",
       "  69: ['!!!', 20, 30],\n",
       "  70: ['!!!', 20, 30],\n",
       "  71: 110,\n",
       "  72: 100,\n",
       "  73: 0.30000000000000004,\n",
       "  74: 0.3333333333333333,\n",
       "  75: 0.30000000000000004,\n",
       "  76: 0.3,\n",
       "  77: 0.30000000000000004,\n",
       "  79: Decimal('0.3'),\n",
       "  80: 0.3,\n",
       "  82: Decimal('0.1000000000000000055511151231257827021181583404541015625'),\n",
       "  83: Decimal('0.200000000000000011102230246251565404236316680908203125'),\n",
       "  84: Decimal('0.3000000000000000166533453694'),\n",
       "  86: 'x = abcd, y = 100, z = [10, 20, 30]',\n",
       "  87: 'x = ABCD, y = 100, z = [10, 20, 30]',\n",
       "  88: \"x='abcd', y=100, z=[10, 20, 30]\",\n",
       "  97: True,\n",
       "  98: True,\n",
       "  99: True,\n",
       "  100: False,\n",
       "  101: True,\n",
       "  102: False},\n",
       " '_dh': ['/Users/reuven/Courses/Current/Cisco-2021-feb-22-advanced'],\n",
       " 'In': ['',\n",
       "  'x',\n",
       "  \"print('Hello, world!')\",\n",
       "  \"print('hello')                # enter == go down one line\\nprint('hello again!')          # enter == go down one line\\nprint('hello a third time!')   # shift+enter == execute the code in the cell\",\n",
       "  'x = 100',\n",
       "  'x  # the final expression in a cell is returned',\n",
       "  '10 + 10\\n20 + 20 \\n30 + 30',\n",
       "  \"print('hello')\",\n",
       "  'x',\n",
       "  \"s = input('Enter a string: ')\",\n",
       "  'x',\n",
       "  \"get_ipython().run_line_magic('ls', '')\",\n",
       "  \"get_ipython().run_line_magic('pwd', '')\",\n",
       "  \"def hello(name):\\n    return f'Hello, {name}'\",\n",
       "  'get_ipython().run_line_magic(\\'timeit\\', \"hello(\\'world\\')\")',\n",
       "  'x = None\\n\\ntype(x)',\n",
       "  'None == None',\n",
       "  \"if x == None:\\n    print('Yes, x is None!')\",\n",
       "  \"if x is None:\\n    print('Yes, x is None!')\",\n",
       "  '1 == 1.0',\n",
       "  \"x = 12345\\ny = 67890\\nz = 'hello out there'\",\n",
       "  'type(x)',\n",
       "  'type(y)',\n",
       "  'type(z)',\n",
       "  'id(x)',\n",
       "  'id(y)',\n",
       "  'id(z)',\n",
       "  'y = x    # the variable y should now refer to whatever the variable x is referring to',\n",
       "  'id(x)',\n",
       "  'id(y)',\n",
       "  'x is y   # really asking: id(x) == id(y)',\n",
       "  \"x = None\\n\\nif x is None:\\n    print('yes, x is None!')\",\n",
       "  '# PEP -- Python Enhancement Proposal',\n",
       "  'x = 100\\ny = 100\\n\\nx == y',\n",
       "  'x is y',\n",
       "  'x = 1000\\ny = 1000\\n\\nx == y',\n",
       "  'x is y',\n",
       "  'type(None)',\n",
       "  'type(None)()',\n",
       "  'x = type(None)()\\ny = type(None)()\\nz = type(None)()',\n",
       "  'print(x)',\n",
       "  'print(y)',\n",
       "  'print(z)',\n",
       "  'x is y',\n",
       "  'y is z',\n",
       "  \"x = None\\n\\nif x:\\n    print('x is True-ish')\\nelse:\\n    print('x is False-ish')\",\n",
       "  'bool(None)',\n",
       "  '[] == False',\n",
       "  \"while True:\\n    s = input('Enter your name: ').strip()\\n    \\n    if not s:\\n        break\\n        \\n    print(f'Hello, {name}!')\",\n",
       "  \"while True:\\n    s = input('Enter your name: ').strip()\\n    \\n    if not s:\\n        break\\n        \\n    print(f'Hello, {s}!')\",\n",
       "  \"while s = input('Enter your name: ').strip():\\n    \\n    print(f'Hello, {s}!')\",\n",
       "  '# as of Python 3.8, you can use the \"assignment expression\" operator\\n# aka \"the walrus\"\\n# looks like this:    :=\\n\\nwhile s := input(\\'Enter your name: \\').strip():\\n    \\n    print(f\\'Hello, {s}!\\')',\n",
       "  '# BDFL -- benevolent dictator for life',\n",
       "  'True == True',\n",
       "  'True == 1',\n",
       "  'False == 0',\n",
       "  'type(True)',\n",
       "  'bool.__bases__',\n",
       "  'x = 1',\n",
       "  'import sys\\nsys.getsizeof(x)',\n",
       "  'x = 1',\n",
       "  'x = 1234567890\\nx = x ** 20',\n",
       "  'x = x ** 20',\n",
       "  'x',\n",
       "  'x = x ** 20',\n",
       "  'x = x ** 20',\n",
       "  'sys.getsizeof(x)',\n",
       "  'x = 100\\ny = x\\n\\nx = 200\\ny',\n",
       "  'x = 100     # x refers to the int object 100\\ny = x       # y also refers to the int object 100 (same as x!)\\n\\nx = 200     # x NOW refers to the int object 200 \\ny',\n",
       "  \"x = [10, 20, 30]\\ny = x\\n\\nx[0] = '!!!'   # this is only possible because lists are mutable\\nx\",\n",
       "  'y',\n",
       "  'x = 100\\ny = x\\n\\nx += 10  # really this is: x = x + 10\\nx',\n",
       "  'y',\n",
       "  '# floats\\n\\n0.1 + 0.2',\n",
       "  '1/3',\n",
       "  'x = 0.1\\ny = 0.2\\n\\nz = x + y\\nz',\n",
       "  'round(z, 2)',\n",
       "  'round(z, 20)',\n",
       "  '# BCD -- binary coded decimals\\n# meaning: we will write the decimal digits using binary numbers, \\n#  and the calculate using those decimal digits, like we did in school',\n",
       "  \"from decimal import Decimal \\nx = Decimal('0.1')\\ny = Decimal('0.2')\\n\\nx+y\",\n",
       "  'float(x+y)',\n",
       "  'x = Decimal(0.1)\\ny = Decimal(0.2)',\n",
       "  'x',\n",
       "  'y',\n",
       "  'x+y',\n",
       "  '# strings are a \"sequence\"\\n# sequences: strings, lists, tuples',\n",
       "  \"# f-strings are as of Python 3.6\\n\\nx = 'abcd'\\ny = 100\\nz = [10, 20, 30]\\n\\nf'x = {x}, y = {y}, z = {z}'\",\n",
       "  \"f'x = {x.upper()}, y = {y}, z = {z}'\",\n",
       "  \"# as of Python 3.9, there's a new syntax for showing variables + values\\n\\nf'{x=}, {y=}, {z=}'\",\n",
       "  \"first = 'Reuven'\\nlast = 'Lerner'\\n\\ns = f'Hello, {first} {last}.'\\nprint(s)\",\n",
       "  \"s = f'Hello, {first:10} {last:15}.'\\nprint(s)\",\n",
       "  \"s = f'Hello, {first:^10} {last:>15}.'\\nprint(s)\",\n",
       "  \"s = f'Hello, {first:*^10} {last:_>15}.'\\nprint(s)\",\n",
       "  \"d = {'a':1000, 'bcd':2, 'efghi':3, 'jk':4567890}\\n\\nfor key, value in d.items():\\n    print(f'{key}{value}')\",\n",
       "  \"d = {'a':1000, 'bcd':2, 'efghi':3, 'jk':4567890}\\n\\nfor key, value in d.items():\\n    print(f'{key:8}{value}')\",\n",
       "  \"d = {'a':1000, 'bcd':2, 'efghi':3, 'jk':4567890}\\n\\nfor key, value in d.items():\\n    print(f'{key:.<8}{value}')\",\n",
       "  \"d = {'a':1000, 'bcd':2, 'efghi':3, 'jk':4567890}\\n\\nfor key, value in d.items():\\n    print(f'{key:.<8}{value:.>8}')\",\n",
       "  \"x = 'abcd'\\ny = 'abcd'\\n\\nx == y\",\n",
       "  'x is y',\n",
       "  \"x = 'abcd' * 5000\\ny = 'abcd' * 5000\\n\\nx == y\",\n",
       "  'x is y',\n",
       "  \"x = 'ab.cd'\\ny = 'ab.cd'\\n\\nx == y\",\n",
       "  'x is y',\n",
       "  'x = 100',\n",
       "  \"# x is turned into a string ('x') and used a key in the globals dictionary\\nglobals()  # this function returns that dictionary!\"],\n",
       " 'Out': {5: 100,\n",
       "  6: 60,\n",
       "  8: 100,\n",
       "  10: 100,\n",
       "  12: '/Users/reuven/Courses/Current/Cisco-2021-feb-22-advanced',\n",
       "  15: NoneType,\n",
       "  16: True,\n",
       "  19: True,\n",
       "  21: int,\n",
       "  22: int,\n",
       "  23: str,\n",
       "  24: 4365848912,\n",
       "  25: 4365848720,\n",
       "  26: 4365854576,\n",
       "  28: 4365848912,\n",
       "  29: 4365848912,\n",
       "  30: True,\n",
       "  33: True,\n",
       "  34: True,\n",
       "  35: True,\n",
       "  36: False,\n",
       "  37: NoneType,\n",
       "  43: True,\n",
       "  44: True,\n",
       "  46: False,\n",
       "  47: False,\n",
       "  53: True,\n",
       "  54: True,\n",
       "  55: True,\n",
       "  56: bool,\n",
       "  57: (int,),\n",
       "  59: 28,\n",
       "  63: 4036369052503575996191364206826070861085372028903818320249489982592615874784840921312874505664950504727484471800709614532787968395773235268585972297296374565117844943152597672861376686769252342272949187580892175646644056306614059831335947728728086734926967862177006382085409704371096442604358613534293202692636008610863737499454994753907362362797963209520989005721999553986664619658617827520845489688846291675781162297520360296296220190912193669016987534820486996513701536391611744555647829113987909204662891491532549703778202698791846642830132936104097633800095675681488238752598459848604822821057927852147161057080923563351200535321645191458393479880914268260914469129599595412544051513705486955571150068648044122052326956326604756657192900111295315329629298933503785055931049219621411659018166487773325875961429333001477087606882375667891722137653746933533866231554790272093783004077784000467473972658599299563005570242769501264899800980959438108868416438810681872553376276977843115588145638869944849249754426977195290685401224297356033799898881602943745955193392902679430213641070322075042356127819895668730271604014823135109453900580159949164480926944011464806476840563948548775291037597474932505074377651340245144250931712335393939623811597000583910291763785359095790724676743469473209743603388226723171297680638239106226906035269246834755493618754468979378872791783176243639019872349825883150650056679958443255525146898836188942107696974522818420686892193286623420272986789931117364172392987476805371615597361678574422731446515133614740414263497416124717784766904225153222548427511796727672455140190488075190739527583139276716297161379042703712580890560338636358857254435937088906607035719813041591922712324823959202187595662818750442798907892703280516000883527916562137620368673385754431093720582904484774749972893304339223682432471032075975277377734442902519422119913402834974087183370348343152044659675002024497316351682452206587802026802132748297979821501921231724134722731260538664737718119936475095772476680077611388892433909155664557078305584358542684014625805542522328024932350192236298289098631220308942487577858896549867756532526864213868560197339792909090730568255854039662181869378530541727917262063086175743275118787198971743075075412189402986442239551775370333583163918489808573533836716406667791784633478704713183474578561175166184751756477652949396731802988744857922991359838479588293117942720026207626669742157514017467850376181693596109627498041671421725645023288228902880842629954438288119664191675015899444674109433476713659074552932731206590113695208148539863569694862989316615939544002207526978819953763240013368741510093023536160445327848660242402731178994640643831865619518410092779461435531036034394445708435967548390136326534871722274970487569499080391784185015174626358457484161627840038967250763956578977858061427574303066299224679944347982491459490878874677720573150007132161986939354206768382483611393615464686340273224150824280041356248291609272990054904971672234195330549774486786566146087201847098543205455279285412444380461121237915820957235626850794109557393637604092690445658208376300584268209373440710989874502154288951234993224528166263306990435746969510314062218284028843023775225045262640010000000000000000000000000000000000000000000000000000000000000000000000000000000000000000000000000000000000000000000000000000000000000000000000000000000000000000000000000000000000000000000000000000000000000000000000000000000000000000000000000000000000000000000000000000000000000000000000000000000000000000000000000000000000000000000000000000000000000000000000000000000000000000000000000000000000000000,\n",
       "  66: 644320,\n",
       "  67: 100,\n",
       "  68: 100,\n",
       "  69: ['!!!', 20, 30],\n",
       "  70: ['!!!', 20, 30],\n",
       "  71: 110,\n",
       "  72: 100,\n",
       "  73: 0.30000000000000004,\n",
       "  74: 0.3333333333333333,\n",
       "  75: 0.30000000000000004,\n",
       "  76: 0.3,\n",
       "  77: 0.30000000000000004,\n",
       "  79: Decimal('0.3'),\n",
       "  80: 0.3,\n",
       "  82: Decimal('0.1000000000000000055511151231257827021181583404541015625'),\n",
       "  83: Decimal('0.200000000000000011102230246251565404236316680908203125'),\n",
       "  84: Decimal('0.3000000000000000166533453694'),\n",
       "  86: 'x = abcd, y = 100, z = [10, 20, 30]',\n",
       "  87: 'x = ABCD, y = 100, z = [10, 20, 30]',\n",
       "  88: \"x='abcd', y=100, z=[10, 20, 30]\",\n",
       "  97: True,\n",
       "  98: True,\n",
       "  99: True,\n",
       "  100: False,\n",
       "  101: True,\n",
       "  102: False},\n",
       " 'get_ipython': <bound method InteractiveShell.get_ipython of <ipykernel.zmqshell.ZMQInteractiveShell object at 0x104170070>>,\n",
       " 'exit': <IPython.core.autocall.ZMQExitAutocall at 0x10422e8e0>,\n",
       " 'quit': <IPython.core.autocall.ZMQExitAutocall at 0x10422e8e0>,\n",
       " '_': False,\n",
       " '__': True,\n",
       " '___': False,\n",
       " '_i': 'x = 100',\n",
       " '_ii': 'x is y',\n",
       " '_iii': \"x = 'ab.cd'\\ny = 'ab.cd'\\n\\nx == y\",\n",
       " '_i1': 'x',\n",
       " '_i2': \"print('Hello, world!')\",\n",
       " '_i3': \"print('hello')                # enter == go down one line\\nprint('hello again!')          # enter == go down one line\\nprint('hello a third time!')   # shift+enter == execute the code in the cell\",\n",
       " '_i4': 'x = 100',\n",
       " 'x': 100,\n",
       " '_i5': 'x  # the final expression in a cell is returned',\n",
       " '_5': 100,\n",
       " '_i6': '10 + 10\\n20 + 20 \\n30 + 30',\n",
       " '_6': 60,\n",
       " '_i7': \"print('hello')\",\n",
       " '_i8': 'x',\n",
       " '_8': 100,\n",
       " '_i9': \"s = input('Enter a string: ')\",\n",
       " 's': 'Hello, **Reuven** _________Lerner.',\n",
       " '_i10': 'x',\n",
       " '_10': 100,\n",
       " '_i11': '%ls',\n",
       " '_exit_code': 0,\n",
       " '_i12': '%pwd',\n",
       " '_12': '/Users/reuven/Courses/Current/Cisco-2021-feb-22-advanced',\n",
       " '_i13': \"def hello(name):\\n    return f'Hello, {name}'\",\n",
       " 'hello': <function __main__.hello(name)>,\n",
       " '_i14': \"%timeit hello('world')\",\n",
       " '_i15': 'x = None\\n\\ntype(x)',\n",
       " '_15': NoneType,\n",
       " '_i16': 'None == None',\n",
       " '_16': True,\n",
       " '_i17': \"if x == None:\\n    print('Yes, x is None!')\",\n",
       " '_i18': \"if x is None:\\n    print('Yes, x is None!')\",\n",
       " '_i19': '1 == 1.0',\n",
       " '_19': True,\n",
       " '_i20': \"x = 12345\\ny = 67890\\nz = 'hello out there'\",\n",
       " 'y': 'ab.cd',\n",
       " 'z': [10, 20, 30],\n",
       " '_i21': 'type(x)',\n",
       " '_21': int,\n",
       " '_i22': 'type(y)',\n",
       " '_22': int,\n",
       " '_i23': 'type(z)',\n",
       " '_23': str,\n",
       " '_i24': 'id(x)',\n",
       " '_24': 4365848912,\n",
       " '_i25': 'id(y)',\n",
       " '_25': 4365848720,\n",
       " '_i26': 'id(z)',\n",
       " '_26': 4365854576,\n",
       " '_i27': 'y = x    # the variable y should now refer to whatever the variable x is referring to',\n",
       " '_i28': 'id(x)',\n",
       " '_28': 4365848912,\n",
       " '_i29': 'id(y)',\n",
       " '_29': 4365848912,\n",
       " '_i30': 'x is y   # really asking: id(x) == id(y)',\n",
       " '_30': True,\n",
       " '_i31': \"x = None\\n\\nif x is None:\\n    print('yes, x is None!')\",\n",
       " '_i32': '# PEP -- Python Enhancement Proposal',\n",
       " '_i33': 'x = 100\\ny = 100\\n\\nx == y',\n",
       " '_33': True,\n",
       " '_i34': 'x is y',\n",
       " '_34': True,\n",
       " '_i35': 'x = 1000\\ny = 1000\\n\\nx == y',\n",
       " '_35': True,\n",
       " '_i36': 'x is y',\n",
       " '_36': False,\n",
       " '_i37': 'type(None)',\n",
       " '_37': NoneType,\n",
       " '_i38': 'type(None)()',\n",
       " '_i39': 'x = type(None)()\\ny = type(None)()\\nz = type(None)()',\n",
       " '_i40': 'print(x)',\n",
       " '_i41': 'print(y)',\n",
       " '_i42': 'print(z)',\n",
       " '_i43': 'x is y',\n",
       " '_43': True,\n",
       " '_i44': 'y is z',\n",
       " '_44': True,\n",
       " '_i45': \"x = None\\n\\nif x:\\n    print('x is True-ish')\\nelse:\\n    print('x is False-ish')\",\n",
       " '_i46': 'bool(None)',\n",
       " '_46': False,\n",
       " '_i47': '[] == False',\n",
       " '_47': False,\n",
       " '_i48': \"while True:\\n    s = input('Enter your name: ').strip()\\n    \\n    if not s:\\n        break\\n        \\n    print(f'Hello, {name}!')\",\n",
       " '_i49': \"while True:\\n    s = input('Enter your name: ').strip()\\n    \\n    if not s:\\n        break\\n        \\n    print(f'Hello, {s}!')\",\n",
       " '_i50': \"while s = input('Enter your name: ').strip():\\n    \\n    print(f'Hello, {s}!')\",\n",
       " '_i51': '# as of Python 3.8, you can use the \"assignment expression\" operator\\n# aka \"the walrus\"\\n# looks like this:    :=\\n\\nwhile s := input(\\'Enter your name: \\').strip():\\n    \\n    print(f\\'Hello, {s}!\\')',\n",
       " '_i52': '# BDFL -- benevolent dictator for life',\n",
       " '_i53': 'True == True',\n",
       " '_53': True,\n",
       " '_i54': 'True == 1',\n",
       " '_54': True,\n",
       " '_i55': 'False == 0',\n",
       " '_55': True,\n",
       " '_i56': 'type(True)',\n",
       " '_56': bool,\n",
       " '_i57': 'bool.__bases__',\n",
       " '_57': (int,),\n",
       " '_i58': 'x = 1',\n",
       " '_i59': 'import sys\\nsys.getsizeof(x)',\n",
       " 'sys': <module 'sys' (built-in)>,\n",
       " '_59': 28,\n",
       " '_i60': 'x = 1',\n",
       " '_i61': 'x = 1234567890\\nx = x ** 20',\n",
       " '_i62': 'x = x ** 20',\n",
       " '_i63': 'x',\n",
       " '_63': 4036369052503575996191364206826070861085372028903818320249489982592615874784840921312874505664950504727484471800709614532787968395773235268585972297296374565117844943152597672861376686769252342272949187580892175646644056306614059831335947728728086734926967862177006382085409704371096442604358613534293202692636008610863737499454994753907362362797963209520989005721999553986664619658617827520845489688846291675781162297520360296296220190912193669016987534820486996513701536391611744555647829113987909204662891491532549703778202698791846642830132936104097633800095675681488238752598459848604822821057927852147161057080923563351200535321645191458393479880914268260914469129599595412544051513705486955571150068648044122052326956326604756657192900111295315329629298933503785055931049219621411659018166487773325875961429333001477087606882375667891722137653746933533866231554790272093783004077784000467473972658599299563005570242769501264899800980959438108868416438810681872553376276977843115588145638869944849249754426977195290685401224297356033799898881602943745955193392902679430213641070322075042356127819895668730271604014823135109453900580159949164480926944011464806476840563948548775291037597474932505074377651340245144250931712335393939623811597000583910291763785359095790724676743469473209743603388226723171297680638239106226906035269246834755493618754468979378872791783176243639019872349825883150650056679958443255525146898836188942107696974522818420686892193286623420272986789931117364172392987476805371615597361678574422731446515133614740414263497416124717784766904225153222548427511796727672455140190488075190739527583139276716297161379042703712580890560338636358857254435937088906607035719813041591922712324823959202187595662818750442798907892703280516000883527916562137620368673385754431093720582904484774749972893304339223682432471032075975277377734442902519422119913402834974087183370348343152044659675002024497316351682452206587802026802132748297979821501921231724134722731260538664737718119936475095772476680077611388892433909155664557078305584358542684014625805542522328024932350192236298289098631220308942487577858896549867756532526864213868560197339792909090730568255854039662181869378530541727917262063086175743275118787198971743075075412189402986442239551775370333583163918489808573533836716406667791784633478704713183474578561175166184751756477652949396731802988744857922991359838479588293117942720026207626669742157514017467850376181693596109627498041671421725645023288228902880842629954438288119664191675015899444674109433476713659074552932731206590113695208148539863569694862989316615939544002207526978819953763240013368741510093023536160445327848660242402731178994640643831865619518410092779461435531036034394445708435967548390136326534871722274970487569499080391784185015174626358457484161627840038967250763956578977858061427574303066299224679944347982491459490878874677720573150007132161986939354206768382483611393615464686340273224150824280041356248291609272990054904971672234195330549774486786566146087201847098543205455279285412444380461121237915820957235626850794109557393637604092690445658208376300584268209373440710989874502154288951234993224528166263306990435746969510314062218284028843023775225045262640010000000000000000000000000000000000000000000000000000000000000000000000000000000000000000000000000000000000000000000000000000000000000000000000000000000000000000000000000000000000000000000000000000000000000000000000000000000000000000000000000000000000000000000000000000000000000000000000000000000000000000000000000000000000000000000000000000000000000000000000000000000000000000000000000000000000000000,\n",
       " '_i64': 'x = x ** 20',\n",
       " '_i65': 'x = x ** 20',\n",
       " '_i66': 'sys.getsizeof(x)',\n",
       " '_66': 644320,\n",
       " '_i67': 'x = 100\\ny = x\\n\\nx = 200\\ny',\n",
       " '_67': 100,\n",
       " '_i68': 'x = 100     # x refers to the int object 100\\ny = x       # y also refers to the int object 100 (same as x!)\\n\\nx = 200     # x NOW refers to the int object 200 \\ny',\n",
       " '_68': 100,\n",
       " '_i69': \"x = [10, 20, 30]\\ny = x\\n\\nx[0] = '!!!'   # this is only possible because lists are mutable\\nx\",\n",
       " '_69': ['!!!', 20, 30],\n",
       " '_i70': 'y',\n",
       " '_70': ['!!!', 20, 30],\n",
       " '_i71': 'x = 100\\ny = x\\n\\nx += 10  # really this is: x = x + 10\\nx',\n",
       " '_71': 110,\n",
       " '_i72': 'y',\n",
       " '_72': 100,\n",
       " '_i73': '# floats\\n\\n0.1 + 0.2',\n",
       " '_73': 0.30000000000000004,\n",
       " '_i74': '1/3',\n",
       " '_74': 0.3333333333333333,\n",
       " '_i75': 'x = 0.1\\ny = 0.2\\n\\nz = x + y\\nz',\n",
       " '_75': 0.30000000000000004,\n",
       " '_i76': 'round(z, 2)',\n",
       " '_76': 0.3,\n",
       " '_i77': 'round(z, 20)',\n",
       " '_77': 0.30000000000000004,\n",
       " '_i78': '# BCD -- binary coded decimals\\n# meaning: we will write the decimal digits using binary numbers, \\n#  and the calculate using those decimal digits, like we did in school',\n",
       " '_i79': \"from decimal import Decimal \\nx = Decimal('0.1')\\ny = Decimal('0.2')\\n\\nx+y\",\n",
       " 'Decimal': decimal.Decimal,\n",
       " '_79': Decimal('0.3'),\n",
       " '_i80': 'float(x+y)',\n",
       " '_80': 0.3,\n",
       " '_i81': 'x = Decimal(0.1)\\ny = Decimal(0.2)',\n",
       " '_i82': 'x',\n",
       " '_82': Decimal('0.1000000000000000055511151231257827021181583404541015625'),\n",
       " '_i83': 'y',\n",
       " '_83': Decimal('0.200000000000000011102230246251565404236316680908203125'),\n",
       " '_i84': 'x+y',\n",
       " '_84': Decimal('0.3000000000000000166533453694'),\n",
       " '_i85': '# strings are a \"sequence\"\\n# sequences: strings, lists, tuples',\n",
       " '_i86': \"# f-strings are as of Python 3.6\\n\\nx = 'abcd'\\ny = 100\\nz = [10, 20, 30]\\n\\nf'x = {x}, y = {y}, z = {z}'\",\n",
       " '_86': 'x = abcd, y = 100, z = [10, 20, 30]',\n",
       " '_i87': \"f'x = {x.upper()}, y = {y}, z = {z}'\",\n",
       " '_87': 'x = ABCD, y = 100, z = [10, 20, 30]',\n",
       " '_i88': \"# as of Python 3.9, there's a new syntax for showing variables + values\\n\\nf'{x=}, {y=}, {z=}'\",\n",
       " '_88': \"x='abcd', y=100, z=[10, 20, 30]\",\n",
       " '_i89': \"first = 'Reuven'\\nlast = 'Lerner'\\n\\ns = f'Hello, {first} {last}.'\\nprint(s)\",\n",
       " 'first': 'Reuven',\n",
       " 'last': 'Lerner',\n",
       " '_i90': \"s = f'Hello, {first:10} {last:15}.'\\nprint(s)\",\n",
       " '_i91': \"s = f'Hello, {first:^10} {last:>15}.'\\nprint(s)\",\n",
       " '_i92': \"s = f'Hello, {first:*^10} {last:_>15}.'\\nprint(s)\",\n",
       " '_i93': \"d = {'a':1000, 'bcd':2, 'efghi':3, 'jk':4567890}\\n\\nfor key, value in d.items():\\n    print(f'{key}{value}')\",\n",
       " 'd': {'a': 1000, 'bcd': 2, 'efghi': 3, 'jk': 4567890},\n",
       " 'key': 'jk',\n",
       " 'value': 4567890,\n",
       " '_i94': \"d = {'a':1000, 'bcd':2, 'efghi':3, 'jk':4567890}\\n\\nfor key, value in d.items():\\n    print(f'{key:8}{value}')\",\n",
       " '_i95': \"d = {'a':1000, 'bcd':2, 'efghi':3, 'jk':4567890}\\n\\nfor key, value in d.items():\\n    print(f'{key:.<8}{value}')\",\n",
       " '_i96': \"d = {'a':1000, 'bcd':2, 'efghi':3, 'jk':4567890}\\n\\nfor key, value in d.items():\\n    print(f'{key:.<8}{value:.>8}')\",\n",
       " '_i97': \"x = 'abcd'\\ny = 'abcd'\\n\\nx == y\",\n",
       " '_97': True,\n",
       " '_i98': 'x is y',\n",
       " '_98': True,\n",
       " '_i99': \"x = 'abcd' * 5000\\ny = 'abcd' * 5000\\n\\nx == y\",\n",
       " '_99': True,\n",
       " '_i100': 'x is y',\n",
       " '_100': False,\n",
       " '_i101': \"x = 'ab.cd'\\ny = 'ab.cd'\\n\\nx == y\",\n",
       " '_101': True,\n",
       " '_i102': 'x is y',\n",
       " '_102': False,\n",
       " '_i103': 'x = 100',\n",
       " '_i104': \"# x is turned into a string ('x') and used a key in the globals dictionary\\nglobals()  # this function returns that dictionary!\"}"
      ]
     },
     "execution_count": 104,
     "metadata": {},
     "output_type": "execute_result"
    }
   ],
   "source": [
    "# x is turned into a string ('x') and used a key in the globals dictionary\n",
    "globals()  # this function returns that dictionary!"
   ]
  },
  {
   "cell_type": "code",
   "execution_count": 105,
   "metadata": {},
   "outputs": [
    {
     "name": "stdout",
     "output_type": "stream",
     "text": [
      "100\n"
     ]
    }
   ],
   "source": [
    "print(x)"
   ]
  },
  {
   "cell_type": "code",
   "execution_count": 106,
   "metadata": {},
   "outputs": [
    {
     "data": {
      "text/plain": [
       "True"
      ]
     },
     "execution_count": 106,
     "metadata": {},
     "output_type": "execute_result"
    }
   ],
   "source": [
    "'x' in globals()  # is it a key?"
   ]
  },
  {
   "cell_type": "code",
   "execution_count": 107,
   "metadata": {},
   "outputs": [
    {
     "data": {
      "text/plain": [
       "100"
      ]
     },
     "execution_count": 107,
     "metadata": {},
     "output_type": "execute_result"
    }
   ],
   "source": [
    "globals()['x']"
   ]
  },
  {
   "cell_type": "code",
   "execution_count": 108,
   "metadata": {},
   "outputs": [],
   "source": [
    "globals()['x'] = 200"
   ]
  },
  {
   "cell_type": "code",
   "execution_count": 109,
   "metadata": {},
   "outputs": [
    {
     "data": {
      "text/plain": [
       "200"
      ]
     },
     "execution_count": 109,
     "metadata": {},
     "output_type": "execute_result"
    }
   ],
   "source": [
    "x"
   ]
  },
  {
   "cell_type": "code",
   "execution_count": 111,
   "metadata": {},
   "outputs": [],
   "source": [
    "# Python uses \"interning\" on strings.  Meaning:\n",
    "# - the first time it sees a string, it creates the string\n",
    "# - any subsequent time, it just reuses that same string object"
   ]
  },
  {
   "cell_type": "code",
   "execution_count": 114,
   "metadata": {},
   "outputs": [],
   "source": [
    "x = sys.intern('ab.cd')\n",
    "y = sys.intern('ab.cd')"
   ]
  },
  {
   "cell_type": "code",
   "execution_count": 115,
   "metadata": {},
   "outputs": [
    {
     "data": {
      "text/plain": [
       "True"
      ]
     },
     "execution_count": 115,
     "metadata": {},
     "output_type": "execute_result"
    }
   ],
   "source": [
    "x is y"
   ]
  },
  {
   "cell_type": "code",
   "execution_count": 116,
   "metadata": {},
   "outputs": [
    {
     "data": {
      "text/plain": [
       "4"
      ]
     },
     "execution_count": 116,
     "metadata": {},
     "output_type": "execute_result"
    }
   ],
   "source": [
    "s = 'abcd'\n",
    "len(s)"
   ]
  },
  {
   "cell_type": "code",
   "execution_count": 117,
   "metadata": {},
   "outputs": [
    {
     "data": {
      "text/plain": [
       "'a'"
      ]
     },
     "execution_count": 117,
     "metadata": {},
     "output_type": "execute_result"
    }
   ],
   "source": [
    "s[0]"
   ]
  },
  {
   "cell_type": "code",
   "execution_count": 118,
   "metadata": {},
   "outputs": [
    {
     "data": {
      "text/plain": [
       "'b'"
      ]
     },
     "execution_count": 118,
     "metadata": {},
     "output_type": "execute_result"
    }
   ],
   "source": [
    "s[1]"
   ]
  },
  {
   "cell_type": "code",
   "execution_count": 119,
   "metadata": {},
   "outputs": [
    {
     "data": {
      "text/plain": [
       "'d'"
      ]
     },
     "execution_count": 119,
     "metadata": {},
     "output_type": "execute_result"
    }
   ],
   "source": [
    "s[-1]"
   ]
  },
  {
   "cell_type": "code",
   "execution_count": 120,
   "metadata": {},
   "outputs": [
    {
     "data": {
      "text/plain": [
       "49"
      ]
     },
     "execution_count": 120,
     "metadata": {},
     "output_type": "execute_result"
    }
   ],
   "source": [
    "s = ''\n",
    "sys.getsizeof(s)"
   ]
  },
  {
   "cell_type": "code",
   "execution_count": 121,
   "metadata": {},
   "outputs": [
    {
     "data": {
      "text/plain": [
       "50"
      ]
     },
     "execution_count": 121,
     "metadata": {},
     "output_type": "execute_result"
    }
   ],
   "source": [
    "s = 'a'\n",
    "sys.getsizeof(s)"
   ]
  },
  {
   "cell_type": "code",
   "execution_count": 122,
   "metadata": {},
   "outputs": [
    {
     "data": {
      "text/plain": [
       "51"
      ]
     },
     "execution_count": 122,
     "metadata": {},
     "output_type": "execute_result"
    }
   ],
   "source": [
    "s = 'ab'\n",
    "sys.getsizeof(s)"
   ]
  },
  {
   "cell_type": "code",
   "execution_count": 123,
   "metadata": {},
   "outputs": [
    {
     "data": {
      "text/plain": [
       "76"
      ]
     },
     "execution_count": 123,
     "metadata": {},
     "output_type": "execute_result"
    }
   ],
   "source": [
    "s = 'א'\n",
    "sys.getsizeof(s)"
   ]
  },
  {
   "cell_type": "code",
   "execution_count": 124,
   "metadata": {},
   "outputs": [
    {
     "data": {
      "text/plain": [
       "4"
      ]
     },
     "execution_count": 124,
     "metadata": {},
     "output_type": "execute_result"
    }
   ],
   "source": [
    "s = 'שלום'\n",
    "len(s)"
   ]
  },
  {
   "cell_type": "code",
   "execution_count": 125,
   "metadata": {},
   "outputs": [
    {
     "data": {
      "text/plain": [
       "'ש'"
      ]
     },
     "execution_count": 125,
     "metadata": {},
     "output_type": "execute_result"
    }
   ],
   "source": [
    "s[0]"
   ]
  },
  {
   "cell_type": "code",
   "execution_count": 126,
   "metadata": {},
   "outputs": [
    {
     "data": {
      "text/plain": [
       "'ל'"
      ]
     },
     "execution_count": 126,
     "metadata": {},
     "output_type": "execute_result"
    }
   ],
   "source": [
    "s[1]"
   ]
  },
  {
   "cell_type": "code",
   "execution_count": 127,
   "metadata": {},
   "outputs": [
    {
     "data": {
      "text/plain": [
       "b'\\xd7\\xa9\\xd7\\x9c\\xd7\\x95\\xd7\\x9d'"
      ]
     },
     "execution_count": 127,
     "metadata": {},
     "output_type": "execute_result"
    }
   ],
   "source": [
    "# turn a string into bytes\n",
    "s.encode()"
   ]
  },
  {
   "cell_type": "code",
   "execution_count": 128,
   "metadata": {},
   "outputs": [],
   "source": [
    "b = b'hello'"
   ]
  },
  {
   "cell_type": "code",
   "execution_count": 129,
   "metadata": {},
   "outputs": [
    {
     "data": {
      "text/plain": [
       "b'hello'"
      ]
     },
     "execution_count": 129,
     "metadata": {},
     "output_type": "execute_result"
    }
   ],
   "source": [
    "b"
   ]
  },
  {
   "cell_type": "code",
   "execution_count": 130,
   "metadata": {},
   "outputs": [
    {
     "data": {
      "text/plain": [
       "bytes"
      ]
     },
     "execution_count": 130,
     "metadata": {},
     "output_type": "execute_result"
    }
   ],
   "source": [
    "type(b)"
   ]
  },
  {
   "cell_type": "code",
   "execution_count": 131,
   "metadata": {},
   "outputs": [
    {
     "data": {
      "text/plain": [
       "104"
      ]
     },
     "execution_count": 131,
     "metadata": {},
     "output_type": "execute_result"
    }
   ],
   "source": [
    "b[0]"
   ]
  },
  {
   "cell_type": "code",
   "execution_count": 132,
   "metadata": {},
   "outputs": [
    {
     "data": {
      "text/plain": [
       "101"
      ]
     },
     "execution_count": 132,
     "metadata": {},
     "output_type": "execute_result"
    }
   ],
   "source": [
    "b[1]"
   ]
  },
  {
   "cell_type": "code",
   "execution_count": 133,
   "metadata": {},
   "outputs": [
    {
     "data": {
      "text/plain": [
       "'hello'"
      ]
     },
     "execution_count": 133,
     "metadata": {},
     "output_type": "execute_result"
    }
   ],
   "source": [
    "b.decode()"
   ]
  },
  {
   "cell_type": "code",
   "execution_count": 134,
   "metadata": {},
   "outputs": [
    {
     "data": {
      "text/plain": [
       "list"
      ]
     },
     "execution_count": 134,
     "metadata": {},
     "output_type": "execute_result"
    }
   ],
   "source": [
    "mylist = [10, 20, 30, 40, 50]\n",
    "type(mylist)"
   ]
  },
  {
   "cell_type": "code",
   "execution_count": 135,
   "metadata": {},
   "outputs": [
    {
     "data": {
      "text/plain": [
       "[10, 20, 30, 40]"
      ]
     },
     "execution_count": 135,
     "metadata": {},
     "output_type": "execute_result"
    }
   ],
   "source": [
    "mylist = [10, 20, 30]\n",
    "mylist.append(40)  # this returns None!\n",
    "\n",
    "mylist"
   ]
  },
  {
   "cell_type": "code",
   "execution_count": 136,
   "metadata": {},
   "outputs": [],
   "source": [
    "# mylist = mylist.append(50)  # don't do this!"
   ]
  },
  {
   "cell_type": "code",
   "execution_count": 137,
   "metadata": {},
   "outputs": [
    {
     "data": {
      "text/plain": [
       "[10, 20, 30, 40]"
      ]
     },
     "execution_count": 137,
     "metadata": {},
     "output_type": "execute_result"
    }
   ],
   "source": [
    "mylist = [10, 20, 30]\n",
    "mylist.append(40)  # this returns None!\n",
    "\n",
    "mylist"
   ]
  },
  {
   "cell_type": "code",
   "execution_count": 140,
   "metadata": {
    "collapsed": true
   },
   "outputs": [
    {
     "name": "stdout",
     "output_type": "stream",
     "text": [
      "i = 0, sys.getsizeof(mylist) = 56\n",
      "i = 1, sys.getsizeof(mylist) = 88\n",
      "i = 2, sys.getsizeof(mylist) = 88\n",
      "i = 3, sys.getsizeof(mylist) = 88\n",
      "i = 4, sys.getsizeof(mylist) = 88\n",
      "i = 5, sys.getsizeof(mylist) = 120\n",
      "i = 6, sys.getsizeof(mylist) = 120\n",
      "i = 7, sys.getsizeof(mylist) = 120\n",
      "i = 8, sys.getsizeof(mylist) = 120\n",
      "i = 9, sys.getsizeof(mylist) = 184\n",
      "i = 10, sys.getsizeof(mylist) = 184\n",
      "i = 11, sys.getsizeof(mylist) = 184\n",
      "i = 12, sys.getsizeof(mylist) = 184\n",
      "i = 13, sys.getsizeof(mylist) = 184\n",
      "i = 14, sys.getsizeof(mylist) = 184\n",
      "i = 15, sys.getsizeof(mylist) = 184\n",
      "i = 16, sys.getsizeof(mylist) = 184\n",
      "i = 17, sys.getsizeof(mylist) = 248\n",
      "i = 18, sys.getsizeof(mylist) = 248\n",
      "i = 19, sys.getsizeof(mylist) = 248\n",
      "i = 20, sys.getsizeof(mylist) = 248\n",
      "i = 21, sys.getsizeof(mylist) = 248\n",
      "i = 22, sys.getsizeof(mylist) = 248\n",
      "i = 23, sys.getsizeof(mylist) = 248\n",
      "i = 24, sys.getsizeof(mylist) = 248\n",
      "i = 25, sys.getsizeof(mylist) = 312\n",
      "i = 26, sys.getsizeof(mylist) = 312\n",
      "i = 27, sys.getsizeof(mylist) = 312\n",
      "i = 28, sys.getsizeof(mylist) = 312\n",
      "i = 29, sys.getsizeof(mylist) = 312\n",
      "i = 30, sys.getsizeof(mylist) = 312\n",
      "i = 31, sys.getsizeof(mylist) = 312\n",
      "i = 32, sys.getsizeof(mylist) = 312\n",
      "i = 33, sys.getsizeof(mylist) = 376\n",
      "i = 34, sys.getsizeof(mylist) = 376\n",
      "i = 35, sys.getsizeof(mylist) = 376\n",
      "i = 36, sys.getsizeof(mylist) = 376\n",
      "i = 37, sys.getsizeof(mylist) = 376\n",
      "i = 38, sys.getsizeof(mylist) = 376\n",
      "i = 39, sys.getsizeof(mylist) = 376\n",
      "i = 40, sys.getsizeof(mylist) = 376\n",
      "i = 41, sys.getsizeof(mylist) = 472\n",
      "i = 42, sys.getsizeof(mylist) = 472\n",
      "i = 43, sys.getsizeof(mylist) = 472\n",
      "i = 44, sys.getsizeof(mylist) = 472\n",
      "i = 45, sys.getsizeof(mylist) = 472\n",
      "i = 46, sys.getsizeof(mylist) = 472\n",
      "i = 47, sys.getsizeof(mylist) = 472\n",
      "i = 48, sys.getsizeof(mylist) = 472\n",
      "i = 49, sys.getsizeof(mylist) = 472\n",
      "i = 50, sys.getsizeof(mylist) = 472\n",
      "i = 51, sys.getsizeof(mylist) = 472\n",
      "i = 52, sys.getsizeof(mylist) = 472\n",
      "i = 53, sys.getsizeof(mylist) = 568\n",
      "i = 54, sys.getsizeof(mylist) = 568\n",
      "i = 55, sys.getsizeof(mylist) = 568\n",
      "i = 56, sys.getsizeof(mylist) = 568\n",
      "i = 57, sys.getsizeof(mylist) = 568\n",
      "i = 58, sys.getsizeof(mylist) = 568\n",
      "i = 59, sys.getsizeof(mylist) = 568\n",
      "i = 60, sys.getsizeof(mylist) = 568\n",
      "i = 61, sys.getsizeof(mylist) = 568\n",
      "i = 62, sys.getsizeof(mylist) = 568\n",
      "i = 63, sys.getsizeof(mylist) = 568\n",
      "i = 64, sys.getsizeof(mylist) = 568\n",
      "i = 65, sys.getsizeof(mylist) = 664\n",
      "i = 66, sys.getsizeof(mylist) = 664\n",
      "i = 67, sys.getsizeof(mylist) = 664\n",
      "i = 68, sys.getsizeof(mylist) = 664\n",
      "i = 69, sys.getsizeof(mylist) = 664\n",
      "i = 70, sys.getsizeof(mylist) = 664\n",
      "i = 71, sys.getsizeof(mylist) = 664\n",
      "i = 72, sys.getsizeof(mylist) = 664\n",
      "i = 73, sys.getsizeof(mylist) = 664\n",
      "i = 74, sys.getsizeof(mylist) = 664\n",
      "i = 75, sys.getsizeof(mylist) = 664\n",
      "i = 76, sys.getsizeof(mylist) = 664\n",
      "i = 77, sys.getsizeof(mylist) = 792\n",
      "i = 78, sys.getsizeof(mylist) = 792\n",
      "i = 79, sys.getsizeof(mylist) = 792\n",
      "i = 80, sys.getsizeof(mylist) = 792\n",
      "i = 81, sys.getsizeof(mylist) = 792\n",
      "i = 82, sys.getsizeof(mylist) = 792\n",
      "i = 83, sys.getsizeof(mylist) = 792\n",
      "i = 84, sys.getsizeof(mylist) = 792\n",
      "i = 85, sys.getsizeof(mylist) = 792\n",
      "i = 86, sys.getsizeof(mylist) = 792\n",
      "i = 87, sys.getsizeof(mylist) = 792\n",
      "i = 88, sys.getsizeof(mylist) = 792\n",
      "i = 89, sys.getsizeof(mylist) = 792\n",
      "i = 90, sys.getsizeof(mylist) = 792\n",
      "i = 91, sys.getsizeof(mylist) = 792\n",
      "i = 92, sys.getsizeof(mylist) = 792\n",
      "i = 93, sys.getsizeof(mylist) = 920\n",
      "i = 94, sys.getsizeof(mylist) = 920\n",
      "i = 95, sys.getsizeof(mylist) = 920\n",
      "i = 96, sys.getsizeof(mylist) = 920\n",
      "i = 97, sys.getsizeof(mylist) = 920\n",
      "i = 98, sys.getsizeof(mylist) = 920\n",
      "i = 99, sys.getsizeof(mylist) = 920\n"
     ]
    }
   ],
   "source": [
    "mylist = []\n",
    "for i in range(100):\n",
    "    print(f'i = {i}, sys.getsizeof(mylist) = {sys.getsizeof(mylist)}')\n",
    "    mylist.append(i)"
   ]
  },
  {
   "cell_type": "code",
   "execution_count": 141,
   "metadata": {},
   "outputs": [
    {
     "data": {
      "text/plain": [
       "[10, 20, 30, 'abcd']"
      ]
     },
     "execution_count": 141,
     "metadata": {},
     "output_type": "execute_result"
    }
   ],
   "source": [
    "mylist = [10, 20, 30]\n",
    "\n",
    "mylist.append('abcd')  # adds 'abcd' to the end of mylist\n",
    "mylist"
   ]
  },
  {
   "cell_type": "code",
   "execution_count": 142,
   "metadata": {},
   "outputs": [
    {
     "data": {
      "text/plain": [
       "[10, 20, 30, 'abcd', 'a', 'b', 'c', 'd']"
      ]
     },
     "execution_count": 142,
     "metadata": {},
     "output_type": "execute_result"
    }
   ],
   "source": [
    "mylist.extend('abcd')  # adds each element of 'abcd' to the end of mylist\n",
    "mylist"
   ]
  },
  {
   "cell_type": "code",
   "execution_count": 143,
   "metadata": {},
   "outputs": [
    {
     "data": {
      "text/plain": [
       "[10, 20, 30, 'abcd', 'a', 'b', 'c', 'd', 'e', 'f', 'g', 'h']"
      ]
     },
     "execution_count": 143,
     "metadata": {},
     "output_type": "execute_result"
    }
   ],
   "source": [
    "mylist += 'efgh'   # also adds each element of 'abcd' to the end of mylist\n",
    "mylist"
   ]
  },
  {
   "cell_type": "code",
   "execution_count": 144,
   "metadata": {},
   "outputs": [
    {
     "data": {
      "text/plain": [
       "3"
      ]
     },
     "execution_count": 144,
     "metadata": {},
     "output_type": "execute_result"
    }
   ],
   "source": [
    "mylist = [10, 20, 30]\n",
    "biglist = [mylist, mylist, mylist]\n",
    "\n",
    "len(biglist)"
   ]
  },
  {
   "cell_type": "code",
   "execution_count": 145,
   "metadata": {},
   "outputs": [
    {
     "data": {
      "text/plain": [
       "[[10, 20, 30], [10, 20, 30], [10, 20, 30]]"
      ]
     },
     "execution_count": 145,
     "metadata": {},
     "output_type": "execute_result"
    }
   ],
   "source": [
    "biglist"
   ]
  },
  {
   "cell_type": "code",
   "execution_count": 146,
   "metadata": {},
   "outputs": [
    {
     "data": {
      "text/plain": [
       "['!!!', 20, 30]"
      ]
     },
     "execution_count": 146,
     "metadata": {},
     "output_type": "execute_result"
    }
   ],
   "source": [
    "mylist[0] = '!!!'\n",
    "mylist"
   ]
  },
  {
   "cell_type": "code",
   "execution_count": 147,
   "metadata": {},
   "outputs": [
    {
     "data": {
      "text/plain": [
       "[['!!!', 20, 30], ['!!!', 20, 30], ['!!!', 20, 30]]"
      ]
     },
     "execution_count": 147,
     "metadata": {},
     "output_type": "execute_result"
    }
   ],
   "source": [
    "biglist"
   ]
  },
  {
   "cell_type": "markdown",
   "metadata": {},
   "source": [
    "# Sequences\n",
    "\n",
    "What do they have in common?\n",
    "\n",
    "- Indexing with `[i]`\n",
    "- Slices with `[start:end+1]` or `[start:end+1:step]`\n",
    "- Search with `in` (`LITTLE in BIG`)\n",
    "- Iterate with a `for` loop\n",
    "- Get the starting index of an element with the `.index` method\n",
    "- Find out how often something appears with the `.count` method"
   ]
  },
  {
   "cell_type": "code",
   "execution_count": 148,
   "metadata": {},
   "outputs": [
    {
     "data": {
      "text/plain": [
       "5"
      ]
     },
     "execution_count": 148,
     "metadata": {},
     "output_type": "execute_result"
    }
   ],
   "source": [
    "s = 'abcabcaaabc'\n",
    "s.count('a')"
   ]
  },
  {
   "cell_type": "raw",
   "metadata": {},
   "source": [
    "Comparison of sequences\n",
    "\n",
    "              mutable/immutable  what are the elements?\n",
    "string          immutable            strings\n",
    "list              mutable            anything\n",
    "tuple           immutable            anything"
   ]
  },
  {
   "cell_type": "code",
   "execution_count": 149,
   "metadata": {},
   "outputs": [
    {
     "data": {
      "text/plain": [
       "tuple"
      ]
     },
     "execution_count": 149,
     "metadata": {},
     "output_type": "execute_result"
    }
   ],
   "source": [
    "t = (10, 20, 30)\n",
    "type(t)"
   ]
  },
  {
   "cell_type": "code",
   "execution_count": 150,
   "metadata": {},
   "outputs": [
    {
     "data": {
      "text/plain": [
       "tuple"
      ]
     },
     "execution_count": 150,
     "metadata": {},
     "output_type": "execute_result"
    }
   ],
   "source": [
    "t = (10, 20)\n",
    "type(t)"
   ]
  },
  {
   "cell_type": "code",
   "execution_count": 151,
   "metadata": {},
   "outputs": [
    {
     "data": {
      "text/plain": [
       "int"
      ]
     },
     "execution_count": 151,
     "metadata": {},
     "output_type": "execute_result"
    }
   ],
   "source": [
    "t = (10)\n",
    "type(t)"
   ]
  },
  {
   "cell_type": "code",
   "execution_count": 152,
   "metadata": {},
   "outputs": [
    {
     "data": {
      "text/plain": [
       "tuple"
      ]
     },
     "execution_count": 152,
     "metadata": {},
     "output_type": "execute_result"
    }
   ],
   "source": [
    "t = ()\n",
    "type(t)"
   ]
  },
  {
   "cell_type": "code",
   "execution_count": 153,
   "metadata": {},
   "outputs": [
    {
     "data": {
      "text/plain": [
       "34"
      ]
     },
     "execution_count": 153,
     "metadata": {},
     "output_type": "execute_result"
    }
   ],
   "source": [
    "4 + 5 * 6"
   ]
  },
  {
   "cell_type": "code",
   "execution_count": 154,
   "metadata": {},
   "outputs": [
    {
     "data": {
      "text/plain": [
       "54"
      ]
     },
     "execution_count": 154,
     "metadata": {},
     "output_type": "execute_result"
    }
   ],
   "source": [
    "(4 + 5) * 6"
   ]
  },
  {
   "cell_type": "code",
   "execution_count": 155,
   "metadata": {},
   "outputs": [
    {
     "data": {
      "text/plain": [
       "tuple"
      ]
     },
     "execution_count": 155,
     "metadata": {},
     "output_type": "execute_result"
    }
   ],
   "source": [
    "t = (10,)   #now it's a tuple!\n",
    "type(t)"
   ]
  },
  {
   "cell_type": "code",
   "execution_count": 156,
   "metadata": {},
   "outputs": [
    {
     "data": {
      "text/plain": [
       "(9, 9, 9, 9, 9, 9)"
      ]
     },
     "execution_count": 156,
     "metadata": {},
     "output_type": "execute_result"
    }
   ],
   "source": [
    "(4 + 5,) * 6"
   ]
  },
  {
   "cell_type": "code",
   "execution_count": 157,
   "metadata": {},
   "outputs": [
    {
     "data": {
      "text/plain": [
       "(int,)"
      ]
     },
     "execution_count": 157,
     "metadata": {},
     "output_type": "execute_result"
    }
   ],
   "source": [
    "bool.__bases__  "
   ]
  },
  {
   "cell_type": "code",
   "execution_count": 158,
   "metadata": {},
   "outputs": [],
   "source": [
    "t = ([10, 20, 30],\n",
    "     [100, 200, 300])"
   ]
  },
  {
   "cell_type": "code",
   "execution_count": 159,
   "metadata": {},
   "outputs": [
    {
     "data": {
      "text/plain": [
       "[10, 20, 30]"
      ]
     },
     "execution_count": 159,
     "metadata": {},
     "output_type": "execute_result"
    }
   ],
   "source": [
    "t[0]"
   ]
  },
  {
   "cell_type": "code",
   "execution_count": 160,
   "metadata": {},
   "outputs": [
    {
     "data": {
      "text/plain": [
       "[100, 200, 300]"
      ]
     },
     "execution_count": 160,
     "metadata": {},
     "output_type": "execute_result"
    }
   ],
   "source": [
    "t[1]"
   ]
  },
  {
   "cell_type": "code",
   "execution_count": 161,
   "metadata": {},
   "outputs": [],
   "source": [
    "t[0].append(40)"
   ]
  },
  {
   "cell_type": "code",
   "execution_count": 162,
   "metadata": {},
   "outputs": [
    {
     "data": {
      "text/plain": [
       "([10, 20, 30, 40], [100, 200, 300])"
      ]
     },
     "execution_count": 162,
     "metadata": {},
     "output_type": "execute_result"
    }
   ],
   "source": [
    "t"
   ]
  },
  {
   "cell_type": "code",
   "execution_count": 163,
   "metadata": {},
   "outputs": [
    {
     "ename": "TypeError",
     "evalue": "'tuple' object does not support item assignment",
     "output_type": "error",
     "traceback": [
      "\u001b[0;31m---------------------------------------------------------------------------\u001b[0m",
      "\u001b[0;31mTypeError\u001b[0m                                 Traceback (most recent call last)",
      "\u001b[0;32m<ipython-input-163-2b735d214ecc>\u001b[0m in \u001b[0;36m<module>\u001b[0;34m\u001b[0m\n\u001b[0;32m----> 1\u001b[0;31m \u001b[0mt\u001b[0m\u001b[0;34m[\u001b[0m\u001b[0;36m0\u001b[0m\u001b[0;34m]\u001b[0m \u001b[0;34m+=\u001b[0m \u001b[0;34m[\u001b[0m\u001b[0;36m50\u001b[0m\u001b[0;34m,\u001b[0m \u001b[0;36m60\u001b[0m\u001b[0;34m,\u001b[0m \u001b[0;36m70\u001b[0m\u001b[0;34m]\u001b[0m\u001b[0;34m\u001b[0m\u001b[0;34m\u001b[0m\u001b[0m\n\u001b[0m",
      "\u001b[0;31mTypeError\u001b[0m: 'tuple' object does not support item assignment"
     ]
    }
   ],
   "source": [
    "t[0] += [50, 60, 70]     # t[0].__iadd__([50, 60, 70])"
   ]
  },
  {
   "cell_type": "code",
   "execution_count": 164,
   "metadata": {},
   "outputs": [
    {
     "data": {
      "text/plain": [
       "([10, 20, 30, 40, 50, 60, 70], [100, 200, 300])"
      ]
     },
     "execution_count": 164,
     "metadata": {},
     "output_type": "execute_result"
    }
   ],
   "source": [
    "t"
   ]
  },
  {
   "cell_type": "code",
   "execution_count": 165,
   "metadata": {},
   "outputs": [
    {
     "data": {
      "text/plain": [
       "(10, 20, 30, 40, 50)"
      ]
     },
     "execution_count": 165,
     "metadata": {},
     "output_type": "execute_result"
    }
   ],
   "source": [
    "t = 10, 20, 30, 40, 50\n",
    "t"
   ]
  },
  {
   "cell_type": "code",
   "execution_count": 168,
   "metadata": {},
   "outputs": [],
   "source": [
    "def myfunc():\n",
    "    return 10, 20, 30   # traditional not to use parentheses when returning values"
   ]
  },
  {
   "cell_type": "code",
   "execution_count": 167,
   "metadata": {},
   "outputs": [
    {
     "data": {
      "text/plain": [
       "(10, 20, 30)"
      ]
     },
     "execution_count": 167,
     "metadata": {},
     "output_type": "execute_result"
    }
   ],
   "source": [
    "myfunc()"
   ]
  },
  {
   "cell_type": "code",
   "execution_count": 169,
   "metadata": {},
   "outputs": [
    {
     "data": {
      "text/plain": [
       "[10, 20, 30]"
      ]
     },
     "execution_count": 169,
     "metadata": {},
     "output_type": "execute_result"
    }
   ],
   "source": [
    "# tuple unpacking == unpacking\n",
    "\n",
    "mylist = [10, 20, 30]\n",
    "\n",
    "x = mylist\n",
    "x"
   ]
  },
  {
   "cell_type": "code",
   "execution_count": 170,
   "metadata": {},
   "outputs": [],
   "source": [
    "x,y,z = mylist"
   ]
  },
  {
   "cell_type": "code",
   "execution_count": 171,
   "metadata": {},
   "outputs": [
    {
     "data": {
      "text/plain": [
       "10"
      ]
     },
     "execution_count": 171,
     "metadata": {},
     "output_type": "execute_result"
    }
   ],
   "source": [
    "x"
   ]
  },
  {
   "cell_type": "code",
   "execution_count": 172,
   "metadata": {},
   "outputs": [
    {
     "data": {
      "text/plain": [
       "20"
      ]
     },
     "execution_count": 172,
     "metadata": {},
     "output_type": "execute_result"
    }
   ],
   "source": [
    "y"
   ]
  },
  {
   "cell_type": "code",
   "execution_count": 173,
   "metadata": {},
   "outputs": [
    {
     "data": {
      "text/plain": [
       "30"
      ]
     },
     "execution_count": 173,
     "metadata": {},
     "output_type": "execute_result"
    }
   ],
   "source": [
    "z"
   ]
  },
  {
   "cell_type": "code",
   "execution_count": 174,
   "metadata": {},
   "outputs": [
    {
     "ename": "ValueError",
     "evalue": "too many values to unpack (expected 3)",
     "output_type": "error",
     "traceback": [
      "\u001b[0;31m---------------------------------------------------------------------------\u001b[0m",
      "\u001b[0;31mValueError\u001b[0m                                Traceback (most recent call last)",
      "\u001b[0;32m<ipython-input-174-99c952e09578>\u001b[0m in \u001b[0;36m<module>\u001b[0;34m\u001b[0m\n\u001b[1;32m      1\u001b[0m \u001b[0mmylist\u001b[0m \u001b[0;34m=\u001b[0m \u001b[0;34m[\u001b[0m\u001b[0;36m10\u001b[0m\u001b[0;34m,\u001b[0m \u001b[0;36m20\u001b[0m\u001b[0;34m,\u001b[0m \u001b[0;36m30\u001b[0m\u001b[0;34m,\u001b[0m \u001b[0;36m40\u001b[0m \u001b[0;34m,\u001b[0m\u001b[0;36m50\u001b[0m\u001b[0;34m,\u001b[0m \u001b[0;36m60\u001b[0m\u001b[0;34m,\u001b[0m \u001b[0;36m70\u001b[0m\u001b[0;34m]\u001b[0m\u001b[0;34m\u001b[0m\u001b[0;34m\u001b[0m\u001b[0m\n\u001b[0;32m----> 2\u001b[0;31m \u001b[0mx\u001b[0m\u001b[0;34m,\u001b[0m\u001b[0my\u001b[0m\u001b[0;34m,\u001b[0m\u001b[0mz\u001b[0m \u001b[0;34m=\u001b[0m \u001b[0mmylist\u001b[0m\u001b[0;34m\u001b[0m\u001b[0;34m\u001b[0m\u001b[0m\n\u001b[0m",
      "\u001b[0;31mValueError\u001b[0m: too many values to unpack (expected 3)"
     ]
    }
   ],
   "source": [
    "mylist = [10, 20, 30, 40 ,50, 60, 70]\n",
    "x,y,z = mylist"
   ]
  },
  {
   "cell_type": "code",
   "execution_count": 175,
   "metadata": {},
   "outputs": [],
   "source": [
    "# Python 3 gives us some flexibility here\n",
    "x,y,*z = mylist"
   ]
  },
  {
   "cell_type": "code",
   "execution_count": 176,
   "metadata": {},
   "outputs": [
    {
     "data": {
      "text/plain": [
       "10"
      ]
     },
     "execution_count": 176,
     "metadata": {},
     "output_type": "execute_result"
    }
   ],
   "source": [
    "x"
   ]
  },
  {
   "cell_type": "code",
   "execution_count": 177,
   "metadata": {},
   "outputs": [
    {
     "data": {
      "text/plain": [
       "20"
      ]
     },
     "execution_count": 177,
     "metadata": {},
     "output_type": "execute_result"
    }
   ],
   "source": [
    "y"
   ]
  },
  {
   "cell_type": "code",
   "execution_count": 178,
   "metadata": {},
   "outputs": [
    {
     "data": {
      "text/plain": [
       "[30, 40, 50, 60, 70]"
      ]
     },
     "execution_count": 178,
     "metadata": {},
     "output_type": "execute_result"
    }
   ],
   "source": [
    "z"
   ]
  },
  {
   "cell_type": "code",
   "execution_count": 179,
   "metadata": {},
   "outputs": [
    {
     "data": {
      "text/plain": [
       "10"
      ]
     },
     "execution_count": 179,
     "metadata": {},
     "output_type": "execute_result"
    }
   ],
   "source": [
    "x,*y,z = mylist\n",
    "x"
   ]
  },
  {
   "cell_type": "code",
   "execution_count": 180,
   "metadata": {},
   "outputs": [
    {
     "data": {
      "text/plain": [
       "[20, 30, 40, 50, 60]"
      ]
     },
     "execution_count": 180,
     "metadata": {},
     "output_type": "execute_result"
    }
   ],
   "source": [
    "y"
   ]
  },
  {
   "cell_type": "code",
   "execution_count": 181,
   "metadata": {},
   "outputs": [
    {
     "data": {
      "text/plain": [
       "70"
      ]
     },
     "execution_count": 181,
     "metadata": {},
     "output_type": "execute_result"
    }
   ],
   "source": [
    "z"
   ]
  },
  {
   "cell_type": "code",
   "execution_count": 182,
   "metadata": {},
   "outputs": [],
   "source": [
    "mylist = [10, 20]\n",
    "x,*y,z = mylist"
   ]
  },
  {
   "cell_type": "code",
   "execution_count": 183,
   "metadata": {},
   "outputs": [
    {
     "data": {
      "text/plain": [
       "10"
      ]
     },
     "execution_count": 183,
     "metadata": {},
     "output_type": "execute_result"
    }
   ],
   "source": [
    "x"
   ]
  },
  {
   "cell_type": "code",
   "execution_count": 184,
   "metadata": {},
   "outputs": [
    {
     "data": {
      "text/plain": [
       "[]"
      ]
     },
     "execution_count": 184,
     "metadata": {},
     "output_type": "execute_result"
    }
   ],
   "source": [
    "y"
   ]
  },
  {
   "cell_type": "code",
   "execution_count": 185,
   "metadata": {},
   "outputs": [
    {
     "data": {
      "text/plain": [
       "20"
      ]
     },
     "execution_count": 185,
     "metadata": {},
     "output_type": "execute_result"
    }
   ],
   "source": [
    "z"
   ]
  },
  {
   "cell_type": "code",
   "execution_count": 186,
   "metadata": {},
   "outputs": [
    {
     "ename": "SyntaxError",
     "evalue": "multiple starred expressions in assignment (<ipython-input-186-4d862d55fcfe>, line 2)",
     "output_type": "error",
     "traceback": [
      "\u001b[0;36m  File \u001b[0;32m\"<ipython-input-186-4d862d55fcfe>\"\u001b[0;36m, line \u001b[0;32m2\u001b[0m\n\u001b[0;31m    x,*y,*z = mylist\u001b[0m\n\u001b[0m    ^\u001b[0m\n\u001b[0;31mSyntaxError\u001b[0m\u001b[0;31m:\u001b[0m multiple starred expressions in assignment\n"
     ]
    }
   ],
   "source": [
    "mylist = [10, 20]\n",
    "x,*y,*z = mylist"
   ]
  },
  {
   "cell_type": "code",
   "execution_count": 187,
   "metadata": {},
   "outputs": [],
   "source": [
    "def myfunc():\n",
    "    return 'abcd', {'a':1, 'b':2, 'c':3}, [10, 20, 30]"
   ]
  },
  {
   "cell_type": "code",
   "execution_count": 188,
   "metadata": {},
   "outputs": [
    {
     "data": {
      "text/plain": [
       "('abcd', {'a': 1, 'b': 2, 'c': 3}, [10, 20, 30])"
      ]
     },
     "execution_count": 188,
     "metadata": {},
     "output_type": "execute_result"
    }
   ],
   "source": [
    "myfunc()"
   ]
  },
  {
   "cell_type": "code",
   "execution_count": 189,
   "metadata": {},
   "outputs": [],
   "source": [
    "s,d,mylist = myfunc()"
   ]
  },
  {
   "cell_type": "code",
   "execution_count": 190,
   "metadata": {},
   "outputs": [
    {
     "data": {
      "text/plain": [
       "'abcd'"
      ]
     },
     "execution_count": 190,
     "metadata": {},
     "output_type": "execute_result"
    }
   ],
   "source": [
    "s"
   ]
  },
  {
   "cell_type": "code",
   "execution_count": 191,
   "metadata": {},
   "outputs": [
    {
     "data": {
      "text/plain": [
       "{'a': 1, 'b': 2, 'c': 3}"
      ]
     },
     "execution_count": 191,
     "metadata": {},
     "output_type": "execute_result"
    }
   ],
   "source": [
    "d"
   ]
  },
  {
   "cell_type": "code",
   "execution_count": 192,
   "metadata": {},
   "outputs": [
    {
     "data": {
      "text/plain": [
       "[10, 20, 30]"
      ]
     },
     "execution_count": 192,
     "metadata": {},
     "output_type": "execute_result"
    }
   ],
   "source": [
    "mylist"
   ]
  },
  {
   "cell_type": "code",
   "execution_count": 193,
   "metadata": {},
   "outputs": [
    {
     "data": {
      "text/plain": [
       "('Reuven', 'Lerner', 46)"
      ]
     },
     "execution_count": 193,
     "metadata": {},
     "output_type": "execute_result"
    }
   ],
   "source": [
    "p = ('Reuven', 'Lerner', 46)\n",
    "p"
   ]
  },
  {
   "cell_type": "code",
   "execution_count": 194,
   "metadata": {},
   "outputs": [
    {
     "data": {
      "text/plain": [
       "'Reuven'"
      ]
     },
     "execution_count": 194,
     "metadata": {},
     "output_type": "execute_result"
    }
   ],
   "source": [
    "p[0]"
   ]
  },
  {
   "cell_type": "code",
   "execution_count": 195,
   "metadata": {},
   "outputs": [
    {
     "data": {
      "text/plain": [
       "'Lerner'"
      ]
     },
     "execution_count": 195,
     "metadata": {},
     "output_type": "execute_result"
    }
   ],
   "source": [
    "p[1]"
   ]
  },
  {
   "cell_type": "code",
   "execution_count": 196,
   "metadata": {},
   "outputs": [
    {
     "data": {
      "text/plain": [
       "46"
      ]
     },
     "execution_count": 196,
     "metadata": {},
     "output_type": "execute_result"
    }
   ],
   "source": [
    "p[2]"
   ]
  },
  {
   "cell_type": "code",
   "execution_count": 203,
   "metadata": {},
   "outputs": [],
   "source": [
    "# named tuples\n",
    "\n",
    "from collections import namedtuple\n",
    "\n",
    "Person = namedtuple('something_else_entirely', ['first', 'last', 'shoesize'])"
   ]
  },
  {
   "cell_type": "code",
   "execution_count": 204,
   "metadata": {},
   "outputs": [
    {
     "data": {
      "text/plain": [
       "type"
      ]
     },
     "execution_count": 204,
     "metadata": {},
     "output_type": "execute_result"
    }
   ],
   "source": [
    "type(Person)  # Person is actually a new class!  It was created via \"namedtuple\""
   ]
  },
  {
   "cell_type": "code",
   "execution_count": 205,
   "metadata": {},
   "outputs": [
    {
     "data": {
      "text/plain": [
       "'str'"
      ]
     },
     "execution_count": 205,
     "metadata": {},
     "output_type": "execute_result"
    }
   ],
   "source": [
    "str.__name__"
   ]
  },
  {
   "cell_type": "code",
   "execution_count": 206,
   "metadata": {},
   "outputs": [
    {
     "data": {
      "text/plain": [
       "'list'"
      ]
     },
     "execution_count": 206,
     "metadata": {},
     "output_type": "execute_result"
    }
   ],
   "source": [
    "list.__name__"
   ]
  },
  {
   "cell_type": "code",
   "execution_count": 207,
   "metadata": {},
   "outputs": [
    {
     "data": {
      "text/plain": [
       "'something_else_entirely'"
      ]
     },
     "execution_count": 207,
     "metadata": {},
     "output_type": "execute_result"
    }
   ],
   "source": [
    "Person.__name__"
   ]
  },
  {
   "cell_type": "code",
   "execution_count": 208,
   "metadata": {},
   "outputs": [],
   "source": [
    "Person = namedtuple('Person',\n",
    "                    ['first', 'last', 'shoesize'])"
   ]
  },
  {
   "cell_type": "code",
   "execution_count": 209,
   "metadata": {},
   "outputs": [],
   "source": [
    "p = Person('Reuven', 'Lerner', 46)"
   ]
  },
  {
   "cell_type": "code",
   "execution_count": 210,
   "metadata": {},
   "outputs": [
    {
     "data": {
      "text/plain": [
       "Person(first='Reuven', last='Lerner', shoesize=46)"
      ]
     },
     "execution_count": 210,
     "metadata": {},
     "output_type": "execute_result"
    }
   ],
   "source": [
    "# printed representation\n",
    "p"
   ]
  },
  {
   "cell_type": "code",
   "execution_count": 211,
   "metadata": {},
   "outputs": [
    {
     "data": {
      "text/plain": [
       "'Reuven'"
      ]
     },
     "execution_count": 211,
     "metadata": {},
     "output_type": "execute_result"
    }
   ],
   "source": [
    "p[0]"
   ]
  },
  {
   "cell_type": "code",
   "execution_count": 212,
   "metadata": {},
   "outputs": [
    {
     "data": {
      "text/plain": [
       "'Lerner'"
      ]
     },
     "execution_count": 212,
     "metadata": {},
     "output_type": "execute_result"
    }
   ],
   "source": [
    "p[1]"
   ]
  },
  {
   "cell_type": "code",
   "execution_count": 213,
   "metadata": {},
   "outputs": [
    {
     "data": {
      "text/plain": [
       "46"
      ]
     },
     "execution_count": 213,
     "metadata": {},
     "output_type": "execute_result"
    }
   ],
   "source": [
    "p[2]"
   ]
  },
  {
   "cell_type": "code",
   "execution_count": 214,
   "metadata": {},
   "outputs": [
    {
     "data": {
      "text/plain": [
       "'Reuven'"
      ]
     },
     "execution_count": 214,
     "metadata": {},
     "output_type": "execute_result"
    }
   ],
   "source": [
    "p.first"
   ]
  },
  {
   "cell_type": "code",
   "execution_count": 215,
   "metadata": {},
   "outputs": [
    {
     "data": {
      "text/plain": [
       "'Lerner'"
      ]
     },
     "execution_count": 215,
     "metadata": {},
     "output_type": "execute_result"
    }
   ],
   "source": [
    "p.last"
   ]
  },
  {
   "cell_type": "code",
   "execution_count": 216,
   "metadata": {},
   "outputs": [
    {
     "data": {
      "text/plain": [
       "46"
      ]
     },
     "execution_count": 216,
     "metadata": {},
     "output_type": "execute_result"
    }
   ],
   "source": [
    "p.shoesize"
   ]
  },
  {
   "cell_type": "code",
   "execution_count": 217,
   "metadata": {},
   "outputs": [
    {
     "data": {
      "text/plain": [
       "(tuple,)"
      ]
     },
     "execution_count": 217,
     "metadata": {},
     "output_type": "execute_result"
    }
   ],
   "source": [
    "Person.__bases__"
   ]
  },
  {
   "cell_type": "code",
   "execution_count": 218,
   "metadata": {},
   "outputs": [
    {
     "ename": "TypeError",
     "evalue": "'Person' object does not support item assignment",
     "output_type": "error",
     "traceback": [
      "\u001b[0;31m---------------------------------------------------------------------------\u001b[0m",
      "\u001b[0;31mTypeError\u001b[0m                                 Traceback (most recent call last)",
      "\u001b[0;32m<ipython-input-218-f5e32c6d0384>\u001b[0m in \u001b[0;36m<module>\u001b[0;34m\u001b[0m\n\u001b[0;32m----> 1\u001b[0;31m \u001b[0mp\u001b[0m\u001b[0;34m[\u001b[0m\u001b[0;36m0\u001b[0m\u001b[0;34m]\u001b[0m \u001b[0;34m=\u001b[0m \u001b[0;34m'asdfafa'\u001b[0m\u001b[0;34m\u001b[0m\u001b[0;34m\u001b[0m\u001b[0m\n\u001b[0m",
      "\u001b[0;31mTypeError\u001b[0m: 'Person' object does not support item assignment"
     ]
    }
   ],
   "source": [
    "p[0] = 'asdfafa'"
   ]
  },
  {
   "cell_type": "code",
   "execution_count": 219,
   "metadata": {},
   "outputs": [
    {
     "data": {
      "text/plain": [
       "Person(first='asdfafa', last='Lerner', shoesize=46)"
      ]
     },
     "execution_count": 219,
     "metadata": {},
     "output_type": "execute_result"
    }
   ],
   "source": [
    "p._replace(first='asdfafa')"
   ]
  },
  {
   "cell_type": "code",
   "execution_count": 220,
   "metadata": {},
   "outputs": [
    {
     "data": {
      "text/plain": [
       "Person(first='Reuven', last='Lerner', shoesize=46)"
      ]
     },
     "execution_count": 220,
     "metadata": {},
     "output_type": "execute_result"
    }
   ],
   "source": [
    "p"
   ]
  },
  {
   "cell_type": "markdown",
   "metadata": {},
   "source": [
    "# Exercise: Bookshop\n",
    "\n",
    "1. Define a new class, `Book`, using `namedtuple`, in which there are three field: `title`, `author`, `price`.\n",
    "2. Define three books and put them into a list.\n",
    "3. Ask the user repeatedly what book they want to buy. \n",
    "    - If they give us an empty string, stop asking and print the total price.\n",
    "    - If they name a book title in our inventory, print all of the info, add the price to the total, and print the total.\n",
    "    - If they name a book title that is *not* in our inventory, then scold them.\n",
    "4. When they're done asking, print the total price."
   ]
  },
  {
   "cell_type": "code",
   "execution_count": 226,
   "metadata": {},
   "outputs": [
    {
     "name": "stdout",
     "output_type": "stream",
     "text": [
      "Enter book title: title1\n",
      "Found Book(title='title1', author='author1', price=100)\n",
      "Enter book title: title2\n",
      "Found Book(title='title2', author='author2', price=120)\n",
      "Enter book title: title100\n",
      "Did not find title100\n",
      "Enter book title: \n",
      "total=220\n"
     ]
    }
   ],
   "source": [
    "from collections import namedtuple\n",
    "\n",
    "Book = namedtuple('Book', ['title', 'author', 'price'])\n",
    "\n",
    "inventory = [Book('title1', 'author1', 100),\n",
    "             Book('title2', 'author2', 120),\n",
    "             Book('title3', 'author2', 120)]\n",
    "\n",
    "total = 0\n",
    "\n",
    "while look_for := input('Enter book title: ').strip():\n",
    "    found_it = False\n",
    "    for one_book in inventory:\n",
    "        if one_book.title == look_for:\n",
    "            print(f'Found {one_book}')\n",
    "            total += one_book.price\n",
    "            found_it = True\n",
    "            break\n",
    "            \n",
    "    if not found_it:\n",
    "        print(f'Did not find {look_for}')\n",
    "            \n",
    "print(f'{total=}')            \n",
    "    "
   ]
  },
  {
   "cell_type": "code",
   "execution_count": 222,
   "metadata": {},
   "outputs": [
    {
     "data": {
      "text/plain": [
       "[Book(title='title1', author='author1', price=100),\n",
       " Book(title='title2', author='author2', price=120),\n",
       " Book(title='title3', author='author2', price=120)]"
      ]
     },
     "execution_count": 222,
     "metadata": {},
     "output_type": "execute_result"
    }
   ],
   "source": [
    "inventory"
   ]
  },
  {
   "cell_type": "code",
   "execution_count": null,
   "metadata": {},
   "outputs": [],
   "source": [
    "from collections import namedtuple\n",
    "\n",
    "Book = namedtuple('Book', ['title', 'author', 'price'])\n",
    "\n",
    "inventory = [Book('title1', 'author1', 100),\n",
    "             Book('title2', 'author2', 120),\n",
    "             Book('title3', 'author2', 120)]\n",
    "\n",
    "total = 0\n",
    "\n",
    "while look_for := input('Enter book title: ').strip():\n",
    "\n",
    "    for one_book in inventory:\n",
    "        if one_book.title == look_for:\n",
    "            print(f'Found {one_book}')\n",
    "            total += one_book.price\n",
    "            break\n",
    "            \n",
    "    else:  # if we did not encounter a break, and got to the natural end of the loop\n",
    "        print(f'Did not find {look_for}')\n",
    "            \n",
    "print(f'{total=}')        \n",
    "    "
   ]
  },
  {
   "cell_type": "markdown",
   "metadata": {},
   "source": [
    "# Dictionaries\n",
    "\n",
    "- Key-value pairs\n",
    "    - Key must be hashable (basically the same as immutable) -- typically ints and strings\n",
    "    - Value can be absolutely any Python object\n",
    "- Keys are unique -- this is enforced by the dict\n",
    "- Searching for a key is O(1) (constant time)\n"
   ]
  },
  {
   "cell_type": "code",
   "execution_count": null,
   "metadata": {},
   "outputs": [],
   "source": []
  },
  {
   "cell_type": "code",
   "execution_count": 228,
   "metadata": {},
   "outputs": [
    {
     "data": {
      "text/plain": [
       "dict_keys(['a', 'b', 'c'])"
      ]
     },
     "execution_count": 228,
     "metadata": {},
     "output_type": "execute_result"
    }
   ],
   "source": [
    "d = {'a':1, 'b':2, 'c':3}\n",
    "\n",
    "d.keys()"
   ]
  },
  {
   "cell_type": "code",
   "execution_count": 229,
   "metadata": {},
   "outputs": [
    {
     "data": {
      "text/plain": [
       "dict_values([1, 2, 3])"
      ]
     },
     "execution_count": 229,
     "metadata": {},
     "output_type": "execute_result"
    }
   ],
   "source": [
    "d.values()"
   ]
  },
  {
   "cell_type": "code",
   "execution_count": 230,
   "metadata": {},
   "outputs": [
    {
     "data": {
      "text/plain": [
       "dict_items([('a', 1), ('b', 2), ('c', 3)])"
      ]
     },
     "execution_count": 230,
     "metadata": {},
     "output_type": "execute_result"
    }
   ],
   "source": [
    "d.items()"
   ]
  },
  {
   "cell_type": "code",
   "execution_count": 231,
   "metadata": {},
   "outputs": [
    {
     "data": {
      "text/plain": [
       "True"
      ]
     },
     "execution_count": 231,
     "metadata": {},
     "output_type": "execute_result"
    }
   ],
   "source": [
    "# Searching for keys\n",
    "'a' in d.keys()  # this works -- but don't do it!"
   ]
  },
  {
   "cell_type": "code",
   "execution_count": 232,
   "metadata": {},
   "outputs": [
    {
     "data": {
      "text/plain": [
       "True"
      ]
     },
     "execution_count": 232,
     "metadata": {},
     "output_type": "execute_result"
    }
   ],
   "source": [
    "# rather, use this:\n",
    "'a' in d"
   ]
  },
  {
   "cell_type": "code",
   "execution_count": 233,
   "metadata": {},
   "outputs": [
    {
     "data": {
      "text/plain": [
       "True"
      ]
     },
     "execution_count": 233,
     "metadata": {},
     "output_type": "execute_result"
    }
   ],
   "source": [
    "# searching for values\n",
    "1 in d.values()  "
   ]
  },
  {
   "cell_type": "code",
   "execution_count": 234,
   "metadata": {},
   "outputs": [
    {
     "name": "stdout",
     "output_type": "stream",
     "text": [
      "a:1\n",
      "b:2\n",
      "c:3\n"
     ]
    }
   ],
   "source": [
    "# unpacking\n",
    "for key, value in d.items():\n",
    "    print(f'{key}:{value}')"
   ]
  },
  {
   "cell_type": "code",
   "execution_count": 235,
   "metadata": {},
   "outputs": [
    {
     "data": {
      "text/plain": [
       "{'a': 1, 'b': 2, 'c': 3}"
      ]
     },
     "execution_count": 235,
     "metadata": {},
     "output_type": "execute_result"
    }
   ],
   "source": [
    "d"
   ]
  },
  {
   "cell_type": "code",
   "execution_count": 236,
   "metadata": {},
   "outputs": [],
   "source": [
    "d['x'] = 100  # assignment adds a key-value pair to the dict!"
   ]
  },
  {
   "cell_type": "code",
   "execution_count": 237,
   "metadata": {},
   "outputs": [
    {
     "data": {
      "text/plain": [
       "{'a': 1, 'b': 2, 'c': 3, 'x': 100}"
      ]
     },
     "execution_count": 237,
     "metadata": {},
     "output_type": "execute_result"
    }
   ],
   "source": [
    "d"
   ]
  },
  {
   "cell_type": "code",
   "execution_count": 238,
   "metadata": {},
   "outputs": [],
   "source": [
    "d['x'] = 234  # assignment *ALSO* updates a value in the dict!"
   ]
  },
  {
   "cell_type": "code",
   "execution_count": 239,
   "metadata": {},
   "outputs": [
    {
     "data": {
      "text/plain": [
       "{'a': 1, 'b': 2, 'c': 3, 'x': 234}"
      ]
     },
     "execution_count": 239,
     "metadata": {},
     "output_type": "execute_result"
    }
   ],
   "source": [
    "d"
   ]
  },
  {
   "cell_type": "code",
   "execution_count": 241,
   "metadata": {},
   "outputs": [
    {
     "data": {
      "text/plain": [
       "234"
      ]
     },
     "execution_count": 241,
     "metadata": {},
     "output_type": "execute_result"
    }
   ],
   "source": [
    "d['x']"
   ]
  },
  {
   "cell_type": "code",
   "execution_count": 242,
   "metadata": {},
   "outputs": [
    {
     "ename": "KeyError",
     "evalue": "'y'",
     "output_type": "error",
     "traceback": [
      "\u001b[0;31m---------------------------------------------------------------------------\u001b[0m",
      "\u001b[0;31mKeyError\u001b[0m                                  Traceback (most recent call last)",
      "\u001b[0;32m<ipython-input-242-a8fb846d41f6>\u001b[0m in \u001b[0;36m<module>\u001b[0;34m\u001b[0m\n\u001b[0;32m----> 1\u001b[0;31m \u001b[0md\u001b[0m\u001b[0;34m[\u001b[0m\u001b[0;34m'y'\u001b[0m\u001b[0;34m]\u001b[0m  \u001b[0;31m# no such key\u001b[0m\u001b[0;34m\u001b[0m\u001b[0;34m\u001b[0m\u001b[0m\n\u001b[0m",
      "\u001b[0;31mKeyError\u001b[0m: 'y'"
     ]
    }
   ],
   "source": [
    "d['y']  # no such key"
   ]
  },
  {
   "cell_type": "code",
   "execution_count": 243,
   "metadata": {},
   "outputs": [],
   "source": [
    "# the dict.get method is like [], but more forgiving -- it returns None, not an exception\n",
    "\n",
    "d.get('y')  # if 'y' in d, then return d['y'] else, None"
   ]
  },
  {
   "cell_type": "code",
   "execution_count": 244,
   "metadata": {},
   "outputs": [
    {
     "data": {
      "text/plain": [
       "234"
      ]
     },
     "execution_count": 244,
     "metadata": {},
     "output_type": "execute_result"
    }
   ],
   "source": [
    "d.get('x')"
   ]
  },
  {
   "cell_type": "code",
   "execution_count": 245,
   "metadata": {},
   "outputs": [
    {
     "data": {
      "text/plain": [
       "234"
      ]
     },
     "execution_count": 245,
     "metadata": {},
     "output_type": "execute_result"
    }
   ],
   "source": [
    "# the (optional) second argument to dict.get is returned if the key isn't there\n",
    "d.get('x', 'hello')"
   ]
  },
  {
   "cell_type": "code",
   "execution_count": 246,
   "metadata": {},
   "outputs": [
    {
     "data": {
      "text/plain": [
       "'hello'"
      ]
     },
     "execution_count": 246,
     "metadata": {},
     "output_type": "execute_result"
    }
   ],
   "source": [
    "d.get('y', 'hello')"
   ]
  },
  {
   "cell_type": "code",
   "execution_count": 247,
   "metadata": {},
   "outputs": [
    {
     "data": {
      "text/plain": [
       "{'a': 1, 'b': 2, 'c': 3, 'x': 234}"
      ]
     },
     "execution_count": 247,
     "metadata": {},
     "output_type": "execute_result"
    }
   ],
   "source": [
    "# if I want to assign to a key-value pair in a dict, but I don't want \n",
    "# to overwrite an existing value, I can use dict.setdefault\n",
    "\n",
    "d"
   ]
  },
  {
   "cell_type": "code",
   "execution_count": 248,
   "metadata": {},
   "outputs": [
    {
     "data": {
      "text/plain": [
       "100"
      ]
     },
     "execution_count": 248,
     "metadata": {},
     "output_type": "execute_result"
    }
   ],
   "source": [
    "d.setdefault('y', 100)"
   ]
  },
  {
   "cell_type": "code",
   "execution_count": 249,
   "metadata": {},
   "outputs": [
    {
     "data": {
      "text/plain": [
       "{'a': 1, 'b': 2, 'c': 3, 'x': 234, 'y': 100}"
      ]
     },
     "execution_count": 249,
     "metadata": {},
     "output_type": "execute_result"
    }
   ],
   "source": [
    "d"
   ]
  },
  {
   "cell_type": "code",
   "execution_count": 250,
   "metadata": {},
   "outputs": [
    {
     "data": {
      "text/plain": [
       "100"
      ]
     },
     "execution_count": 250,
     "metadata": {},
     "output_type": "execute_result"
    }
   ],
   "source": [
    "d.setdefault('y', 999)"
   ]
  },
  {
   "cell_type": "code",
   "execution_count": 251,
   "metadata": {},
   "outputs": [
    {
     "data": {
      "text/plain": [
       "{'a': 1, 'b': 2, 'c': 3, 'x': 234, 'y': 100}"
      ]
     },
     "execution_count": 251,
     "metadata": {},
     "output_type": "execute_result"
    }
   ],
   "source": [
    "d"
   ]
  },
  {
   "cell_type": "code",
   "execution_count": 252,
   "metadata": {},
   "outputs": [
    {
     "data": {
      "text/plain": [
       "{'a': 1, 'b': 200, 'c': 300, 'd': 400}"
      ]
     },
     "execution_count": 252,
     "metadata": {},
     "output_type": "execute_result"
    }
   ],
   "source": [
    "d = {'a':1, 'b':2, 'c':3}\n",
    "others = {'b':200, 'c':300, 'd':400}\n",
    "\n",
    "d.update(others)  # assign all key-value pairs in others to be in d, also\n",
    "d"
   ]
  },
  {
   "cell_type": "code",
   "execution_count": 254,
   "metadata": {},
   "outputs": [
    {
     "data": {
      "text/plain": [
       "{'a': 1, 'b': 200, 'c': 300, 'd': 400}"
      ]
     },
     "execution_count": 254,
     "metadata": {},
     "output_type": "execute_result"
    }
   ],
   "source": [
    "# in Python 3.9, they added the | and |= operators to dicts!\n",
    "\n",
    "d = {'a':1, 'b':2, 'c':3}\n",
    "others = {'b':200, 'c':300, 'd':400}\n",
    "\n",
    "\n",
    "d | others  # returns a new dict, doesn't modify either d or others"
   ]
  },
  {
   "cell_type": "code",
   "execution_count": 255,
   "metadata": {},
   "outputs": [
    {
     "data": {
      "text/plain": [
       "{'a': 1, 'b': 200, 'c': 300, 'd': 400}"
      ]
     },
     "execution_count": 255,
     "metadata": {},
     "output_type": "execute_result"
    }
   ],
   "source": [
    "d |= others  # same as dict.update\n",
    "\n",
    "d"
   ]
  },
  {
   "cell_type": "markdown",
   "metadata": {},
   "source": [
    "# Exercise: `dictdiff`\n",
    "\n",
    "1. Write a function that takes two dicts as arguments, and returns a dict as its output.\n",
    "2. The returned dict will represent the differences between the two arguments.\n",
    "    - If the two input dicts are identical, then the output dict will be empty.\n",
    "    - If the two input dicts have the same key and the same value, then for that key, there will be no output.\n",
    "    - For each key that has a different value in the different dicts, the output will contain a key-value pair -- the key will be the shared key, and the value will be a list of two elements, the value from the first dict and the value from the second dict.\n",
    "    - If a key exists in one dict but not the other, represent that with `None` in the two-element output list.\n",
    "    \n",
    "```python\n",
    "d1 = {'a':1, 'b':2, 'c':3}\n",
    "d2 = {'a':100, 'b':2, 'd':4}\n",
    "\n",
    "dictdiff(d1, d1)   # returns {}\n",
    "dictdiff(d1, d2)   # returns {'a':[1, 100], 'c':[3, None], 'd':[None, 4]}\n",
    "```"
   ]
  },
  {
   "cell_type": "code",
   "execution_count": 256,
   "metadata": {},
   "outputs": [],
   "source": [
    "def dictdiff(first, second):\n",
    "    output = {}\n",
    "    \n",
    "    for key in first.keys() | second.keys():\n",
    "        v1 = first.get(key)\n",
    "        v2 = second.get(key)\n",
    "        \n",
    "        if v1 != v2:\n",
    "            output[key] = [v1, v2]\n",
    "    \n",
    "    return output"
   ]
  },
  {
   "cell_type": "code",
   "execution_count": 257,
   "metadata": {},
   "outputs": [],
   "source": [
    "d1 = {'a':1, 'b':2, 'c':3}\n",
    "d2 = {'a':100, 'b':2, 'd':4}"
   ]
  },
  {
   "cell_type": "code",
   "execution_count": 258,
   "metadata": {},
   "outputs": [
    {
     "data": {
      "text/plain": [
       "{}"
      ]
     },
     "execution_count": 258,
     "metadata": {},
     "output_type": "execute_result"
    }
   ],
   "source": [
    "dictdiff(d1, d1)"
   ]
  },
  {
   "cell_type": "code",
   "execution_count": 259,
   "metadata": {},
   "outputs": [
    {
     "data": {
      "text/plain": [
       "{'a': [1, 100], 'c': [3, None], 'd': [None, 4]}"
      ]
     },
     "execution_count": 259,
     "metadata": {},
     "output_type": "execute_result"
    }
   ],
   "source": [
    "dictdiff(d1, d2)"
   ]
  },
  {
   "cell_type": "raw",
   "metadata": {},
   "source": [
    "In Python 2, a new dict caused the creation of a table\n",
    "\n",
    "index   key      value\n",
    "0       'a'        1\n",
    "1        'i'       4\n",
    "2        'c'        3\n",
    "3        'b'        2\n",
    "4\n",
    "5\n",
    "6\n",
    "7\n",
    "\n",
    "\n"
   ]
  },
  {
   "cell_type": "code",
   "execution_count": 260,
   "metadata": {},
   "outputs": [],
   "source": [
    "# PyPy -- JIT compiled version of Python"
   ]
  },
  {
   "cell_type": "raw",
   "metadata": {},
   "source": [
    "In Python 3, a new dict creates *two* data structures\n",
    "\n",
    "(1) table with index-key-value with ZERO rows for starters\n",
    "(2) an array at the C level of ints\n",
    "\n",
    "index   key    value\n",
    "0       'a'     1\n",
    "1       'b'     2\n",
    "2       'c'     3\n",
    "\n",
    "\n",
    "[0,2,None,None,None,None,1,None]  # what row in the table should we go to?"
   ]
  },
  {
   "cell_type": "code",
   "execution_count": 261,
   "metadata": {},
   "outputs": [],
   "source": [
    "d = {}\n",
    "d['a'] = 1"
   ]
  },
  {
   "cell_type": "code",
   "execution_count": 262,
   "metadata": {},
   "outputs": [
    {
     "data": {
      "text/plain": [
       "0"
      ]
     },
     "execution_count": 262,
     "metadata": {},
     "output_type": "execute_result"
    }
   ],
   "source": [
    "hash('a') % 8  # what index in the array should we go to?"
   ]
  },
  {
   "cell_type": "code",
   "execution_count": 263,
   "metadata": {},
   "outputs": [
    {
     "data": {
      "text/plain": [
       "True"
      ]
     },
     "execution_count": 263,
     "metadata": {},
     "output_type": "execute_result"
    }
   ],
   "source": [
    "'a' in d"
   ]
  },
  {
   "cell_type": "code",
   "execution_count": 264,
   "metadata": {},
   "outputs": [],
   "source": [
    "d['b'] = 2\n",
    "d['c'] = 3"
   ]
  },
  {
   "cell_type": "code",
   "execution_count": 265,
   "metadata": {},
   "outputs": [
    {
     "data": {
      "text/plain": [
       "6"
      ]
     },
     "execution_count": 265,
     "metadata": {},
     "output_type": "execute_result"
    }
   ],
   "source": [
    "hash('b')  % 8"
   ]
  },
  {
   "cell_type": "code",
   "execution_count": 266,
   "metadata": {},
   "outputs": [
    {
     "data": {
      "text/plain": [
       "1"
      ]
     },
     "execution_count": 266,
     "metadata": {},
     "output_type": "execute_result"
    }
   ],
   "source": [
    "hash('c') % 8"
   ]
  },
  {
   "cell_type": "code",
   "execution_count": 267,
   "metadata": {},
   "outputs": [
    {
     "ename": "TypeError",
     "evalue": "unhashable type: 'list'",
     "output_type": "error",
     "traceback": [
      "\u001b[0;31m---------------------------------------------------------------------------\u001b[0m",
      "\u001b[0;31mTypeError\u001b[0m                                 Traceback (most recent call last)",
      "\u001b[0;32m<ipython-input-267-6d4112b147b9>\u001b[0m in \u001b[0;36m<module>\u001b[0;34m\u001b[0m\n\u001b[1;32m      1\u001b[0m \u001b[0mmylist\u001b[0m \u001b[0;34m=\u001b[0m \u001b[0;34m[\u001b[0m\u001b[0;36m10\u001b[0m\u001b[0;34m,\u001b[0m \u001b[0;36m20\u001b[0m\u001b[0;34m,\u001b[0m \u001b[0;36m30\u001b[0m\u001b[0;34m]\u001b[0m\u001b[0;34m\u001b[0m\u001b[0;34m\u001b[0m\u001b[0m\n\u001b[1;32m      2\u001b[0m \u001b[0;34m\u001b[0m\u001b[0m\n\u001b[0;32m----> 3\u001b[0;31m \u001b[0md\u001b[0m\u001b[0;34m[\u001b[0m\u001b[0mmylist\u001b[0m\u001b[0;34m]\u001b[0m \u001b[0;34m=\u001b[0m \u001b[0;36m100\u001b[0m\u001b[0;34m\u001b[0m\u001b[0;34m\u001b[0m\u001b[0m\n\u001b[0m",
      "\u001b[0;31mTypeError\u001b[0m: unhashable type: 'list'"
     ]
    }
   ],
   "source": [
    "mylist = [10, 20, 30]\n",
    "\n",
    "d[mylist] = 100"
   ]
  },
  {
   "cell_type": "markdown",
   "metadata": {},
   "source": [
    "# Next up\n",
    "\n",
    "1. Different `dict` types\n",
    "2. Functions"
   ]
  },
  {
   "cell_type": "code",
   "execution_count": 269,
   "metadata": {},
   "outputs": [
    {
     "ename": "TypeError",
     "evalue": "first argument must be callable or None",
     "output_type": "error",
     "traceback": [
      "\u001b[0;31m---------------------------------------------------------------------------\u001b[0m",
      "\u001b[0;31mTypeError\u001b[0m                                 Traceback (most recent call last)",
      "\u001b[0;32m<ipython-input-269-890aa51de8a0>\u001b[0m in \u001b[0;36m<module>\u001b[0;34m\u001b[0m\n\u001b[1;32m      3\u001b[0m \u001b[0;32mfrom\u001b[0m \u001b[0mcollections\u001b[0m \u001b[0;32mimport\u001b[0m \u001b[0mdefaultdict\u001b[0m\u001b[0;34m\u001b[0m\u001b[0;34m\u001b[0m\u001b[0m\n\u001b[1;32m      4\u001b[0m \u001b[0;34m\u001b[0m\u001b[0m\n\u001b[0;32m----> 5\u001b[0;31m \u001b[0md\u001b[0m \u001b[0;34m=\u001b[0m \u001b[0mdefaultdict\u001b[0m\u001b[0;34m(\u001b[0m\u001b[0;36m0\u001b[0m\u001b[0;34m)\u001b[0m\u001b[0;34m\u001b[0m\u001b[0;34m\u001b[0m\u001b[0m\n\u001b[0m",
      "\u001b[0;31mTypeError\u001b[0m: first argument must be callable or None"
     ]
    }
   ],
   "source": [
    "# defaultdict\n",
    "\n",
    "from collections import defaultdict\n",
    "\n",
    "d = defaultdict(0)"
   ]
  },
  {
   "cell_type": "code",
   "execution_count": 270,
   "metadata": {},
   "outputs": [
    {
     "data": {
      "text/plain": [
       "True"
      ]
     },
     "execution_count": 270,
     "metadata": {},
     "output_type": "execute_result"
    }
   ],
   "source": [
    "callable(int)"
   ]
  },
  {
   "cell_type": "code",
   "execution_count": 271,
   "metadata": {},
   "outputs": [
    {
     "data": {
      "text/plain": [
       "False"
      ]
     },
     "execution_count": 271,
     "metadata": {},
     "output_type": "execute_result"
    }
   ],
   "source": [
    "callable(5)"
   ]
  },
  {
   "cell_type": "markdown",
   "metadata": {},
   "source": [
    "# `defaultdict`\n",
    "\n",
    "When we create a new `defaultdict`, we pass a callable. If we ask for a key's value, and the key does *not* exist, then the callable is invoked (with no arguments), and its return value is assigned to a new key-value pair.\n",
    "\n",
    "If a key exists in the defaultdict, then the value is returned."
   ]
  },
  {
   "cell_type": "code",
   "execution_count": 272,
   "metadata": {},
   "outputs": [
    {
     "data": {
      "text/plain": [
       "5"
      ]
     },
     "execution_count": 272,
     "metadata": {},
     "output_type": "execute_result"
    }
   ],
   "source": [
    "int('5')"
   ]
  },
  {
   "cell_type": "code",
   "execution_count": 273,
   "metadata": {},
   "outputs": [
    {
     "data": {
      "text/plain": [
       "5"
      ]
     },
     "execution_count": 273,
     "metadata": {},
     "output_type": "execute_result"
    }
   ],
   "source": [
    "int('    5       ')"
   ]
  },
  {
   "cell_type": "code",
   "execution_count": 274,
   "metadata": {},
   "outputs": [
    {
     "ename": "ValueError",
     "evalue": "invalid literal for int() with base 10: ''",
     "output_type": "error",
     "traceback": [
      "\u001b[0;31m---------------------------------------------------------------------------\u001b[0m",
      "\u001b[0;31mValueError\u001b[0m                                Traceback (most recent call last)",
      "\u001b[0;32m<ipython-input-274-e4f84bb32d50>\u001b[0m in \u001b[0;36m<module>\u001b[0;34m\u001b[0m\n\u001b[0;32m----> 1\u001b[0;31m \u001b[0mint\u001b[0m\u001b[0;34m(\u001b[0m\u001b[0;34m''\u001b[0m\u001b[0;34m)\u001b[0m\u001b[0;34m\u001b[0m\u001b[0;34m\u001b[0m\u001b[0m\n\u001b[0m",
      "\u001b[0;31mValueError\u001b[0m: invalid literal for int() with base 10: ''"
     ]
    }
   ],
   "source": [
    "int('')"
   ]
  },
  {
   "cell_type": "code",
   "execution_count": 275,
   "metadata": {},
   "outputs": [
    {
     "data": {
      "text/plain": [
       "0"
      ]
     },
     "execution_count": 275,
     "metadata": {},
     "output_type": "execute_result"
    }
   ],
   "source": [
    "int()   # int called with no arguments returns 0"
   ]
  },
  {
   "cell_type": "code",
   "execution_count": 276,
   "metadata": {},
   "outputs": [
    {
     "data": {
      "text/plain": [
       "''"
      ]
     },
     "execution_count": 276,
     "metadata": {},
     "output_type": "execute_result"
    }
   ],
   "source": [
    "str()"
   ]
  },
  {
   "cell_type": "code",
   "execution_count": 277,
   "metadata": {},
   "outputs": [
    {
     "data": {
      "text/plain": [
       "[]"
      ]
     },
     "execution_count": 277,
     "metadata": {},
     "output_type": "execute_result"
    }
   ],
   "source": [
    "list()"
   ]
  },
  {
   "cell_type": "code",
   "execution_count": 278,
   "metadata": {},
   "outputs": [
    {
     "data": {
      "text/plain": [
       "{}"
      ]
     },
     "execution_count": 278,
     "metadata": {},
     "output_type": "execute_result"
    }
   ],
   "source": [
    "dict()"
   ]
  },
  {
   "cell_type": "code",
   "execution_count": 279,
   "metadata": {},
   "outputs": [
    {
     "data": {
      "text/plain": [
       "0"
      ]
     },
     "execution_count": 279,
     "metadata": {},
     "output_type": "execute_result"
    }
   ],
   "source": [
    "d = defaultdict(int)\n",
    "\n",
    "d['a']"
   ]
  },
  {
   "cell_type": "code",
   "execution_count": 280,
   "metadata": {},
   "outputs": [
    {
     "data": {
      "text/plain": [
       "0"
      ]
     },
     "execution_count": 280,
     "metadata": {},
     "output_type": "execute_result"
    }
   ],
   "source": [
    "d['b']"
   ]
  },
  {
   "cell_type": "code",
   "execution_count": 281,
   "metadata": {},
   "outputs": [
    {
     "data": {
      "text/plain": [
       "defaultdict(int, {'a': 0, 'b': 0, 'c': 5, 'd': 10})"
      ]
     },
     "execution_count": 281,
     "metadata": {},
     "output_type": "execute_result"
    }
   ],
   "source": [
    "d['c'] += 5     # d['c'] = d['c'] + 5\n",
    "d['d'] += 10\n",
    "d"
   ]
  },
  {
   "cell_type": "code",
   "execution_count": 282,
   "metadata": {},
   "outputs": [],
   "source": [
    "def loud_int():\n",
    "    print('Now running loud_int')\n",
    "    return 0\n",
    "\n",
    "d = defaultdict(loud_int)"
   ]
  },
  {
   "cell_type": "code",
   "execution_count": 283,
   "metadata": {},
   "outputs": [
    {
     "name": "stdout",
     "output_type": "stream",
     "text": [
      "Now running loud_int\n"
     ]
    },
    {
     "data": {
      "text/plain": [
       "0"
      ]
     },
     "execution_count": 283,
     "metadata": {},
     "output_type": "execute_result"
    }
   ],
   "source": [
    "d['a']"
   ]
  },
  {
   "cell_type": "code",
   "execution_count": 284,
   "metadata": {},
   "outputs": [
    {
     "name": "stdout",
     "output_type": "stream",
     "text": [
      "Now running loud_int\n"
     ]
    }
   ],
   "source": [
    "d['b'] += 5"
   ]
  },
  {
   "cell_type": "code",
   "execution_count": 285,
   "metadata": {},
   "outputs": [
    {
     "data": {
      "text/plain": [
       "5"
      ]
     },
     "execution_count": 285,
     "metadata": {},
     "output_type": "execute_result"
    }
   ],
   "source": [
    "d['b']"
   ]
  },
  {
   "cell_type": "code",
   "execution_count": 286,
   "metadata": {},
   "outputs": [
    {
     "data": {
      "text/plain": [
       "5"
      ]
     },
     "execution_count": 286,
     "metadata": {},
     "output_type": "execute_result"
    }
   ],
   "source": [
    "d['b']"
   ]
  },
  {
   "cell_type": "code",
   "execution_count": 287,
   "metadata": {},
   "outputs": [
    {
     "data": {
      "text/plain": [
       "5"
      ]
     },
     "execution_count": 287,
     "metadata": {},
     "output_type": "execute_result"
    }
   ],
   "source": [
    "d['b']"
   ]
  },
  {
   "cell_type": "code",
   "execution_count": 288,
   "metadata": {},
   "outputs": [
    {
     "data": {
      "text/plain": [
       "1613997593.3385239"
      ]
     },
     "execution_count": 288,
     "metadata": {},
     "output_type": "execute_result"
    }
   ],
   "source": [
    "import time\n",
    "time.time()"
   ]
  },
  {
   "cell_type": "code",
   "execution_count": 289,
   "metadata": {},
   "outputs": [],
   "source": [
    "d = defaultdict(time.time)"
   ]
  },
  {
   "cell_type": "code",
   "execution_count": 290,
   "metadata": {},
   "outputs": [
    {
     "data": {
      "text/plain": [
       "1613997612.537416"
      ]
     },
     "execution_count": 290,
     "metadata": {},
     "output_type": "execute_result"
    }
   ],
   "source": [
    "d['a']"
   ]
  },
  {
   "cell_type": "code",
   "execution_count": 291,
   "metadata": {},
   "outputs": [
    {
     "data": {
      "text/plain": [
       "1613997614.011246"
      ]
     },
     "execution_count": 291,
     "metadata": {},
     "output_type": "execute_result"
    }
   ],
   "source": [
    "d['b']"
   ]
  },
  {
   "cell_type": "code",
   "execution_count": 292,
   "metadata": {},
   "outputs": [
    {
     "data": {
      "text/plain": [
       "1613997615.243638"
      ]
     },
     "execution_count": 292,
     "metadata": {},
     "output_type": "execute_result"
    }
   ],
   "source": [
    "d['c']"
   ]
  },
  {
   "cell_type": "code",
   "execution_count": 293,
   "metadata": {},
   "outputs": [
    {
     "data": {
      "text/plain": [
       "defaultdict(<function time.time>,\n",
       "            {'a': 1613997612.537416,\n",
       "             'b': 1613997614.011246,\n",
       "             'c': 1613997615.243638})"
      ]
     },
     "execution_count": 293,
     "metadata": {},
     "output_type": "execute_result"
    }
   ],
   "source": [
    "d"
   ]
  },
  {
   "cell_type": "code",
   "execution_count": 294,
   "metadata": {},
   "outputs": [],
   "source": [
    "d = defaultdict(dict)\n",
    "\n",
    "d['a']['b'] = 10\n",
    "d['c']['d'] = 20\n",
    "d['c']['x'] = 30"
   ]
  },
  {
   "cell_type": "code",
   "execution_count": 295,
   "metadata": {},
   "outputs": [
    {
     "data": {
      "text/plain": [
       "defaultdict(dict, {'a': {'b': 10}, 'c': {'d': 20, 'x': 30}})"
      ]
     },
     "execution_count": 295,
     "metadata": {},
     "output_type": "execute_result"
    }
   ],
   "source": [
    "d"
   ]
  },
  {
   "cell_type": "markdown",
   "metadata": {},
   "source": [
    "# Exercise: Travel\n",
    "\n",
    "1. Ask the user, repeatedly, to enter a city and country, separated by a comma. (e.g., 'Chicago, USA')\n",
    "2. Use a defaultdict to create a dictionary in which the keys are country names and the values are lists of cities in each of those countries.\n",
    "3. Don't worry about the same city appearing more than once.\n",
    "4. If the user enters an empty string, then stop asking and print the countries, and each city in each country.  "
   ]
  },
  {
   "cell_type": "code",
   "execution_count": 300,
   "metadata": {},
   "outputs": [
    {
     "name": "stdout",
     "output_type": "stream",
     "text": [
      "Enter city, country: Chicago, USA\n",
      "Enter city, country: New York, USA\n",
      "Enter city, country: Beijing, China\n",
      "Enter city, country: Shanghai, China\n",
      "Enter city, country: \n",
      "USA\n",
      "\tChicago\n",
      "\tNew York\n",
      "China\n",
      "\tBeijing\n",
      "\tShanghai\n"
     ]
    }
   ],
   "source": [
    "from collections import defaultdict\n",
    "\n",
    "all_places = defaultdict(list)\n",
    "\n",
    "while s := input('Enter city, country: ').strip():\n",
    "    if ',' not in s:\n",
    "        print('Use \"city, country\" format')\n",
    "        continue\n",
    "        \n",
    "    city, country = s.split(',', 1)  # return a list whose highest index is 1\n",
    "    \n",
    "    all_places[country.strip()].append(city.strip())\n",
    "    \n",
    "    \n",
    "for one_country, all_cities in all_places.items():\n",
    "    print(one_country)\n",
    "    for one_city in all_cities:\n",
    "        print(f'\\t{one_city}')"
   ]
  },
  {
   "cell_type": "code",
   "execution_count": 299,
   "metadata": {},
   "outputs": [
    {
     "data": {
      "text/plain": [
       "defaultdict(list, {'USA': ['Chicago', 'New York']})"
      ]
     },
     "execution_count": 299,
     "metadata": {},
     "output_type": "execute_result"
    }
   ],
   "source": [
    "all_places"
   ]
  },
  {
   "cell_type": "code",
   "execution_count": 301,
   "metadata": {},
   "outputs": [],
   "source": [
    "from collections import OrderedDict\n",
    "\n",
    "od = OrderedDict()\n",
    "od['a'] = 1\n",
    "od['b'] = 2\n",
    "od['c'] = 3"
   ]
  },
  {
   "cell_type": "code",
   "execution_count": 302,
   "metadata": {},
   "outputs": [
    {
     "data": {
      "text/plain": [
       "OrderedDict([('a', 1), ('b', 2), ('c', 3)])"
      ]
     },
     "execution_count": 302,
     "metadata": {},
     "output_type": "execute_result"
    }
   ],
   "source": [
    "od"
   ]
  },
  {
   "cell_type": "code",
   "execution_count": 303,
   "metadata": {},
   "outputs": [
    {
     "name": "stdout",
     "output_type": "stream",
     "text": [
      "a: 1\n",
      "b: 2\n",
      "c: 3\n"
     ]
    }
   ],
   "source": [
    "for key, value in od.items():\n",
    "    print(f'{key}: {value}')"
   ]
  },
  {
   "cell_type": "code",
   "execution_count": 304,
   "metadata": {},
   "outputs": [
    {
     "data": {
      "text/plain": [
       "2"
      ]
     },
     "execution_count": 304,
     "metadata": {},
     "output_type": "execute_result"
    }
   ],
   "source": [
    "# dict.pop removes a key-value pair (based on the key) and returns the value\n",
    "od.pop('b')"
   ]
  },
  {
   "cell_type": "code",
   "execution_count": 305,
   "metadata": {},
   "outputs": [
    {
     "data": {
      "text/plain": [
       "odict_keys(['a', 'c'])"
      ]
     },
     "execution_count": 305,
     "metadata": {},
     "output_type": "execute_result"
    }
   ],
   "source": [
    "od.keys()"
   ]
  },
  {
   "cell_type": "code",
   "execution_count": 309,
   "metadata": {},
   "outputs": [
    {
     "data": {
      "text/plain": [
       "OrderedDict([('a', 1), ('c', 3), ('b', 999)])"
      ]
     },
     "execution_count": 309,
     "metadata": {},
     "output_type": "execute_result"
    }
   ],
   "source": [
    "od['b'] = 999\n",
    "od"
   ]
  },
  {
   "cell_type": "code",
   "execution_count": 310,
   "metadata": {},
   "outputs": [],
   "source": [
    "d1 = {'a':1, 'b':2, 'c':3}\n",
    "d2 = {'b':2, 'a':1, 'c':3}"
   ]
  },
  {
   "cell_type": "code",
   "execution_count": 311,
   "metadata": {},
   "outputs": [
    {
     "data": {
      "text/plain": [
       "True"
      ]
     },
     "execution_count": 311,
     "metadata": {},
     "output_type": "execute_result"
    }
   ],
   "source": [
    "d1 == d2"
   ]
  },
  {
   "cell_type": "code",
   "execution_count": 312,
   "metadata": {},
   "outputs": [],
   "source": [
    "od1 = OrderedDict(d1)\n",
    "od2 = OrderedDict(d2)\n"
   ]
  },
  {
   "cell_type": "code",
   "execution_count": 313,
   "metadata": {},
   "outputs": [
    {
     "data": {
      "text/plain": [
       "False"
      ]
     },
     "execution_count": 313,
     "metadata": {},
     "output_type": "execute_result"
    }
   ],
   "source": [
    "od1 == od2"
   ]
  },
  {
   "cell_type": "markdown",
   "metadata": {},
   "source": [
    "# `Counter`"
   ]
  },
  {
   "cell_type": "code",
   "execution_count": 314,
   "metadata": {},
   "outputs": [
    {
     "data": {
      "text/plain": [
       "Counter({'a': 1, 'b': 10, 'c': 20})"
      ]
     },
     "execution_count": 314,
     "metadata": {},
     "output_type": "execute_result"
    }
   ],
   "source": [
    "from collections import Counter\n",
    "\n",
    "c = Counter()\n",
    "c['a'] += 1\n",
    "c['b'] += 10\n",
    "c['c'] += 20\n",
    "\n",
    "c"
   ]
  },
  {
   "cell_type": "code",
   "execution_count": 315,
   "metadata": {},
   "outputs": [],
   "source": [
    "# the real way to use Counter is to create a new Counter object based on \n",
    "# an existing iterable \n",
    "\n",
    "c = Counter('abcabcccbcbcba')"
   ]
  },
  {
   "cell_type": "code",
   "execution_count": 316,
   "metadata": {},
   "outputs": [
    {
     "data": {
      "text/plain": [
       "Counter({'a': 3, 'b': 5, 'c': 6})"
      ]
     },
     "execution_count": 316,
     "metadata": {},
     "output_type": "execute_result"
    }
   ],
   "source": [
    "c"
   ]
  },
  {
   "cell_type": "code",
   "execution_count": 317,
   "metadata": {},
   "outputs": [],
   "source": [
    "c = Counter([10, 20, 30, 20, 30, 40, 20, 30, 40, 50, 50, 20, 30, 40, 50])"
   ]
  },
  {
   "cell_type": "code",
   "execution_count": 318,
   "metadata": {},
   "outputs": [
    {
     "data": {
      "text/plain": [
       "Counter({10: 1, 20: 4, 30: 4, 40: 3, 50: 3})"
      ]
     },
     "execution_count": 318,
     "metadata": {},
     "output_type": "execute_result"
    }
   ],
   "source": [
    "c"
   ]
  },
  {
   "cell_type": "code",
   "execution_count": 319,
   "metadata": {},
   "outputs": [
    {
     "data": {
      "text/plain": [
       "[(20, 4), (30, 4), (40, 3), (50, 3), (10, 1)]"
      ]
     },
     "execution_count": 319,
     "metadata": {},
     "output_type": "execute_result"
    }
   ],
   "source": [
    "c.most_common()"
   ]
  },
  {
   "cell_type": "code",
   "execution_count": 320,
   "metadata": {},
   "outputs": [
    {
     "data": {
      "text/plain": [
       "[(20, 4), (30, 4), (40, 3)]"
      ]
     },
     "execution_count": 320,
     "metadata": {},
     "output_type": "execute_result"
    }
   ],
   "source": [
    "c.most_common(3)  # show the 3 most common values, and their counts"
   ]
  },
  {
   "cell_type": "code",
   "execution_count": 324,
   "metadata": {},
   "outputs": [
    {
     "data": {
      "text/plain": [
       "Counter({10: 1, 20: 7, 30: 6, 40: 4, 50: 4, 60: 1})"
      ]
     },
     "execution_count": 324,
     "metadata": {},
     "output_type": "execute_result"
    }
   ],
   "source": [
    "c2 = Counter([20, 30, 20, 20, 30, 40, 50,60])\n",
    "\n",
    "c + c2  "
   ]
  },
  {
   "cell_type": "code",
   "execution_count": 322,
   "metadata": {},
   "outputs": [
    {
     "data": {
      "text/plain": [
       "Counter({10: 1, 20: 4, 30: 4, 40: 3, 50: 3})"
      ]
     },
     "execution_count": 322,
     "metadata": {},
     "output_type": "execute_result"
    }
   ],
   "source": [
    "c"
   ]
  },
  {
   "cell_type": "code",
   "execution_count": 323,
   "metadata": {},
   "outputs": [
    {
     "data": {
      "text/plain": [
       "Counter({20: 3, 30: 2, 40: 1, 50: 1, 60: 1})"
      ]
     },
     "execution_count": 323,
     "metadata": {},
     "output_type": "execute_result"
    }
   ],
   "source": [
    "c2"
   ]
  },
  {
   "cell_type": "markdown",
   "metadata": {},
   "source": [
    "# Exercise: Letter frequency\n",
    "\n",
    "Use a `Counter` to go through the lines of a text file and count how many times each character appears. What are the 10 most common characters in the file?"
   ]
  },
  {
   "cell_type": "code",
   "execution_count": 325,
   "metadata": {},
   "outputs": [],
   "source": [
    "from collections import Counter\n",
    "\n",
    "c = Counter()\n",
    "for one_line in open('/etc/passwd'):\n",
    "    c += Counter(one_line)"
   ]
  },
  {
   "cell_type": "code",
   "execution_count": 327,
   "metadata": {},
   "outputs": [
    {
     "data": {
      "text/plain": [
       "[(':', 654),\n",
       " ('e', 585),\n",
       " ('/', 572),\n",
       " ('r', 466),\n",
       " ('a', 441),\n",
       " ('s', 423),\n",
       " ('i', 321),\n",
       " ('n', 321),\n",
       " ('t', 289),\n",
       " ('o', 238)]"
      ]
     },
     "execution_count": 327,
     "metadata": {},
     "output_type": "execute_result"
    }
   ],
   "source": [
    "c.most_common(10)"
   ]
  },
  {
   "cell_type": "code",
   "execution_count": 328,
   "metadata": {},
   "outputs": [],
   "source": [
    "def hello():\n",
    "    return 'Hello!'"
   ]
  },
  {
   "cell_type": "code",
   "execution_count": 329,
   "metadata": {},
   "outputs": [
    {
     "data": {
      "text/plain": [
       "'Hello!'"
      ]
     },
     "execution_count": 329,
     "metadata": {},
     "output_type": "execute_result"
    }
   ],
   "source": [
    "hello()"
   ]
  },
  {
   "cell_type": "code",
   "execution_count": 330,
   "metadata": {},
   "outputs": [
    {
     "data": {
      "text/plain": [
       "function"
      ]
     },
     "execution_count": 330,
     "metadata": {},
     "output_type": "execute_result"
    }
   ],
   "source": [
    "type(hello)"
   ]
  },
  {
   "cell_type": "code",
   "execution_count": 331,
   "metadata": {},
   "outputs": [],
   "source": [
    "hello = 5"
   ]
  },
  {
   "cell_type": "code",
   "execution_count": 332,
   "metadata": {},
   "outputs": [
    {
     "data": {
      "text/plain": [
       "int"
      ]
     },
     "execution_count": 332,
     "metadata": {},
     "output_type": "execute_result"
    }
   ],
   "source": [
    "type(hello)"
   ]
  },
  {
   "cell_type": "code",
   "execution_count": 333,
   "metadata": {},
   "outputs": [
    {
     "ename": "TypeError",
     "evalue": "'int' object is not callable",
     "output_type": "error",
     "traceback": [
      "\u001b[0;31m---------------------------------------------------------------------------\u001b[0m",
      "\u001b[0;31mTypeError\u001b[0m                                 Traceback (most recent call last)",
      "\u001b[0;32m<ipython-input-333-a75d7781aaeb>\u001b[0m in \u001b[0;36m<module>\u001b[0;34m\u001b[0m\n\u001b[0;32m----> 1\u001b[0;31m \u001b[0mhello\u001b[0m\u001b[0;34m(\u001b[0m\u001b[0;34m)\u001b[0m\u001b[0;34m\u001b[0m\u001b[0;34m\u001b[0m\u001b[0m\n\u001b[0m",
      "\u001b[0;31mTypeError\u001b[0m: 'int' object is not callable"
     ]
    }
   ],
   "source": [
    "hello()"
   ]
  },
  {
   "cell_type": "code",
   "execution_count": 334,
   "metadata": {},
   "outputs": [],
   "source": [
    "s = 'abcd'\n",
    "x = s.upper() "
   ]
  },
  {
   "cell_type": "code",
   "execution_count": 335,
   "metadata": {},
   "outputs": [
    {
     "data": {
      "text/plain": [
       "str"
      ]
     },
     "execution_count": 335,
     "metadata": {},
     "output_type": "execute_result"
    }
   ],
   "source": [
    "type(x)"
   ]
  },
  {
   "cell_type": "code",
   "execution_count": 336,
   "metadata": {},
   "outputs": [
    {
     "data": {
      "text/plain": [
       "'ABCD'"
      ]
     },
     "execution_count": 336,
     "metadata": {},
     "output_type": "execute_result"
    }
   ],
   "source": [
    "x"
   ]
  },
  {
   "cell_type": "code",
   "execution_count": 337,
   "metadata": {},
   "outputs": [],
   "source": [
    "# here we're creating an alias, so that x and s.upper refer to the same object!\n",
    "\n",
    "x = s.upper   # no parentheses!"
   ]
  },
  {
   "cell_type": "code",
   "execution_count": 338,
   "metadata": {},
   "outputs": [
    {
     "data": {
      "text/plain": [
       "builtin_function_or_method"
      ]
     },
     "execution_count": 338,
     "metadata": {},
     "output_type": "execute_result"
    }
   ],
   "source": [
    "type(x)"
   ]
  },
  {
   "cell_type": "code",
   "execution_count": 339,
   "metadata": {},
   "outputs": [
    {
     "data": {
      "text/plain": [
       "<function str.upper()>"
      ]
     },
     "execution_count": 339,
     "metadata": {},
     "output_type": "execute_result"
    }
   ],
   "source": [
    "x"
   ]
  },
  {
   "cell_type": "code",
   "execution_count": 340,
   "metadata": {},
   "outputs": [
    {
     "data": {
      "text/plain": [
       "'ABCD'"
      ]
     },
     "execution_count": 340,
     "metadata": {},
     "output_type": "execute_result"
    }
   ],
   "source": [
    "x()"
   ]
  },
  {
   "cell_type": "code",
   "execution_count": 341,
   "metadata": {},
   "outputs": [
    {
     "name": "stdout",
     "output_type": "stream",
     "text": [
      "Enter something: asdfa\n",
      "asdfa\n",
      "Enter something: asdfafafa\n",
      "asdfafafa\n",
      "Enter something: hello\n",
      "hello\n",
      "Enter something: \n"
     ]
    }
   ],
   "source": [
    "while True:\n",
    "    s = input('Enter something: ').strip()\n",
    "    \n",
    "    if not s:\n",
    "        break\n",
    "        \n",
    "    print(s)"
   ]
  },
  {
   "cell_type": "code",
   "execution_count": 342,
   "metadata": {},
   "outputs": [
    {
     "name": "stdout",
     "output_type": "stream",
     "text": [
      "Enter something: asdfafa\n",
      "<built-in method strip of str object at 0x10439d6b0>\n",
      "Enter something: \n",
      "<built-in method strip of str object at 0x102400670>\n",
      "Enter something: \n",
      "<built-in method strip of str object at 0x102400670>\n",
      "Enter something: \n",
      "<built-in method strip of str object at 0x102400670>\n",
      "Enter something: \n",
      "<built-in method strip of str object at 0x102400670>\n"
     ]
    },
    {
     "ename": "KeyboardInterrupt",
     "evalue": "Interrupted by user",
     "output_type": "error",
     "traceback": [
      "\u001b[0;31m---------------------------------------------------------------------------\u001b[0m",
      "\u001b[0;31mKeyboardInterrupt\u001b[0m                         Traceback (most recent call last)",
      "\u001b[0;32m<ipython-input-342-71e19fe276b5>\u001b[0m in \u001b[0;36m<module>\u001b[0;34m\u001b[0m\n\u001b[1;32m      1\u001b[0m \u001b[0;32mwhile\u001b[0m \u001b[0;32mTrue\u001b[0m\u001b[0;34m:\u001b[0m\u001b[0;34m\u001b[0m\u001b[0;34m\u001b[0m\u001b[0m\n\u001b[0;32m----> 2\u001b[0;31m     \u001b[0ms\u001b[0m \u001b[0;34m=\u001b[0m \u001b[0minput\u001b[0m\u001b[0;34m(\u001b[0m\u001b[0;34m'Enter something: '\u001b[0m\u001b[0;34m)\u001b[0m\u001b[0;34m.\u001b[0m\u001b[0mstrip\u001b[0m   \u001b[0;31m# no parentheses!\u001b[0m\u001b[0;34m\u001b[0m\u001b[0;34m\u001b[0m\u001b[0m\n\u001b[0m\u001b[1;32m      3\u001b[0m \u001b[0;34m\u001b[0m\u001b[0m\n\u001b[1;32m      4\u001b[0m     \u001b[0;32mif\u001b[0m \u001b[0;32mnot\u001b[0m \u001b[0ms\u001b[0m\u001b[0;34m:\u001b[0m\u001b[0;34m\u001b[0m\u001b[0;34m\u001b[0m\u001b[0m\n\u001b[1;32m      5\u001b[0m         \u001b[0;32mbreak\u001b[0m\u001b[0;34m\u001b[0m\u001b[0;34m\u001b[0m\u001b[0m\n",
      "\u001b[0;32m/usr/local/lib/python3.9/site-packages/ipykernel/kernelbase.py\u001b[0m in \u001b[0;36mraw_input\u001b[0;34m(self, prompt)\u001b[0m\n\u001b[1;32m    858\u001b[0m                 \u001b[0;34m\"raw_input was called, but this frontend does not support input requests.\"\u001b[0m\u001b[0;34m\u001b[0m\u001b[0;34m\u001b[0m\u001b[0m\n\u001b[1;32m    859\u001b[0m             )\n\u001b[0;32m--> 860\u001b[0;31m         return self._input_request(str(prompt),\n\u001b[0m\u001b[1;32m    861\u001b[0m             \u001b[0mself\u001b[0m\u001b[0;34m.\u001b[0m\u001b[0m_parent_ident\u001b[0m\u001b[0;34m,\u001b[0m\u001b[0;34m\u001b[0m\u001b[0;34m\u001b[0m\u001b[0m\n\u001b[1;32m    862\u001b[0m             \u001b[0mself\u001b[0m\u001b[0;34m.\u001b[0m\u001b[0m_parent_header\u001b[0m\u001b[0;34m,\u001b[0m\u001b[0;34m\u001b[0m\u001b[0;34m\u001b[0m\u001b[0m\n",
      "\u001b[0;32m/usr/local/lib/python3.9/site-packages/ipykernel/kernelbase.py\u001b[0m in \u001b[0;36m_input_request\u001b[0;34m(self, prompt, ident, parent, password)\u001b[0m\n\u001b[1;32m    902\u001b[0m             \u001b[0;32mexcept\u001b[0m \u001b[0mKeyboardInterrupt\u001b[0m\u001b[0;34m:\u001b[0m\u001b[0;34m\u001b[0m\u001b[0;34m\u001b[0m\u001b[0m\n\u001b[1;32m    903\u001b[0m                 \u001b[0;31m# re-raise KeyboardInterrupt, to truncate traceback\u001b[0m\u001b[0;34m\u001b[0m\u001b[0;34m\u001b[0m\u001b[0;34m\u001b[0m\u001b[0m\n\u001b[0;32m--> 904\u001b[0;31m                 \u001b[0;32mraise\u001b[0m \u001b[0mKeyboardInterrupt\u001b[0m\u001b[0;34m(\u001b[0m\u001b[0;34m\"Interrupted by user\"\u001b[0m\u001b[0;34m)\u001b[0m \u001b[0;32mfrom\u001b[0m \u001b[0;32mNone\u001b[0m\u001b[0;34m\u001b[0m\u001b[0;34m\u001b[0m\u001b[0m\n\u001b[0m\u001b[1;32m    905\u001b[0m             \u001b[0;32mexcept\u001b[0m \u001b[0mException\u001b[0m \u001b[0;32mas\u001b[0m \u001b[0me\u001b[0m\u001b[0;34m:\u001b[0m\u001b[0;34m\u001b[0m\u001b[0;34m\u001b[0m\u001b[0m\n\u001b[1;32m    906\u001b[0m                 \u001b[0mself\u001b[0m\u001b[0;34m.\u001b[0m\u001b[0mlog\u001b[0m\u001b[0;34m.\u001b[0m\u001b[0mwarning\u001b[0m\u001b[0;34m(\u001b[0m\u001b[0;34m\"Invalid Message:\"\u001b[0m\u001b[0;34m,\u001b[0m \u001b[0mexc_info\u001b[0m\u001b[0;34m=\u001b[0m\u001b[0;32mTrue\u001b[0m\u001b[0;34m)\u001b[0m\u001b[0;34m\u001b[0m\u001b[0;34m\u001b[0m\u001b[0m\n",
      "\u001b[0;31mKeyboardInterrupt\u001b[0m: Interrupted by user"
     ]
    }
   ],
   "source": [
    "while True:\n",
    "    s = input('Enter something: ').strip   # no parentheses!\n",
    "    \n",
    "    if not s:\n",
    "        break\n",
    "        \n",
    "    print(s)"
   ]
  },
  {
   "cell_type": "code",
   "execution_count": 343,
   "metadata": {},
   "outputs": [
    {
     "data": {
      "text/plain": [
       "<function str.strip(chars=None, /)>"
      ]
     },
     "execution_count": 343,
     "metadata": {},
     "output_type": "execute_result"
    }
   ],
   "source": [
    "s"
   ]
  },
  {
   "cell_type": "code",
   "execution_count": 344,
   "metadata": {},
   "outputs": [
    {
     "data": {
      "text/plain": [
       "True"
      ]
     },
     "execution_count": 344,
     "metadata": {},
     "output_type": "execute_result"
    }
   ],
   "source": [
    "bool(s)"
   ]
  },
  {
   "cell_type": "code",
   "execution_count": 345,
   "metadata": {},
   "outputs": [
    {
     "name": "stdout",
     "output_type": "stream",
     "text": [
      "a: 1\n",
      "b: 2\n",
      "c: 3\n"
     ]
    }
   ],
   "source": [
    "d = {'a':1, 'b':2, 'c':3}\n",
    "\n",
    "for key, value in d.items():\n",
    "    print(f'{key}: {value}')"
   ]
  },
  {
   "cell_type": "code",
   "execution_count": 346,
   "metadata": {},
   "outputs": [
    {
     "ename": "TypeError",
     "evalue": "'builtin_function_or_method' object is not iterable",
     "output_type": "error",
     "traceback": [
      "\u001b[0;31m---------------------------------------------------------------------------\u001b[0m",
      "\u001b[0;31mTypeError\u001b[0m                                 Traceback (most recent call last)",
      "\u001b[0;32m<ipython-input-346-f556797c3125>\u001b[0m in \u001b[0;36m<module>\u001b[0;34m\u001b[0m\n\u001b[1;32m      1\u001b[0m \u001b[0md\u001b[0m \u001b[0;34m=\u001b[0m \u001b[0;34m{\u001b[0m\u001b[0;34m'a'\u001b[0m\u001b[0;34m:\u001b[0m\u001b[0;36m1\u001b[0m\u001b[0;34m,\u001b[0m \u001b[0;34m'b'\u001b[0m\u001b[0;34m:\u001b[0m\u001b[0;36m2\u001b[0m\u001b[0;34m,\u001b[0m \u001b[0;34m'c'\u001b[0m\u001b[0;34m:\u001b[0m\u001b[0;36m3\u001b[0m\u001b[0;34m}\u001b[0m\u001b[0;34m\u001b[0m\u001b[0;34m\u001b[0m\u001b[0m\n\u001b[1;32m      2\u001b[0m \u001b[0;34m\u001b[0m\u001b[0m\n\u001b[0;32m----> 3\u001b[0;31m \u001b[0;32mfor\u001b[0m \u001b[0mkey\u001b[0m\u001b[0;34m,\u001b[0m \u001b[0mvalue\u001b[0m \u001b[0;32min\u001b[0m \u001b[0md\u001b[0m\u001b[0;34m.\u001b[0m\u001b[0mitems\u001b[0m\u001b[0;34m:\u001b[0m\u001b[0;34m\u001b[0m\u001b[0;34m\u001b[0m\u001b[0m\n\u001b[0m\u001b[1;32m      4\u001b[0m     \u001b[0mprint\u001b[0m\u001b[0;34m(\u001b[0m\u001b[0;34mf'{key}: {value}'\u001b[0m\u001b[0;34m)\u001b[0m\u001b[0;34m\u001b[0m\u001b[0;34m\u001b[0m\u001b[0m\n",
      "\u001b[0;31mTypeError\u001b[0m: 'builtin_function_or_method' object is not iterable"
     ]
    }
   ],
   "source": [
    "d = {'a':1, 'b':2, 'c':3}\n",
    "\n",
    "for key, value in d.items:\n",
    "    print(f'{key}: {value}')"
   ]
  },
  {
   "cell_type": "code",
   "execution_count": 347,
   "metadata": {},
   "outputs": [],
   "source": [
    "def hello():\n",
    "    return 'Hello!'"
   ]
  },
  {
   "cell_type": "code",
   "execution_count": 348,
   "metadata": {},
   "outputs": [],
   "source": [
    "def hello(name):\n",
    "    return f'Hello, {name}!'"
   ]
  },
  {
   "cell_type": "code",
   "execution_count": 349,
   "metadata": {},
   "outputs": [
    {
     "data": {
      "text/plain": [
       "'Hello, world!'"
      ]
     },
     "execution_count": 349,
     "metadata": {},
     "output_type": "execute_result"
    }
   ],
   "source": [
    "hello('world')"
   ]
  },
  {
   "cell_type": "code",
   "execution_count": 350,
   "metadata": {},
   "outputs": [
    {
     "ename": "TypeError",
     "evalue": "hello() missing 1 required positional argument: 'name'",
     "output_type": "error",
     "traceback": [
      "\u001b[0;31m---------------------------------------------------------------------------\u001b[0m",
      "\u001b[0;31mTypeError\u001b[0m                                 Traceback (most recent call last)",
      "\u001b[0;32m<ipython-input-350-a75d7781aaeb>\u001b[0m in \u001b[0;36m<module>\u001b[0;34m\u001b[0m\n\u001b[0;32m----> 1\u001b[0;31m \u001b[0mhello\u001b[0m\u001b[0;34m(\u001b[0m\u001b[0;34m)\u001b[0m\u001b[0;34m\u001b[0m\u001b[0;34m\u001b[0m\u001b[0m\n\u001b[0m",
      "\u001b[0;31mTypeError\u001b[0m: hello() missing 1 required positional argument: 'name'"
     ]
    }
   ],
   "source": [
    "hello()"
   ]
  },
  {
   "cell_type": "code",
   "execution_count": 351,
   "metadata": {},
   "outputs": [],
   "source": [
    "x = 5"
   ]
  },
  {
   "cell_type": "code",
   "execution_count": 352,
   "metadata": {},
   "outputs": [],
   "source": [
    "x = 7"
   ]
  },
  {
   "cell_type": "code",
   "execution_count": 353,
   "metadata": {},
   "outputs": [
    {
     "data": {
      "text/plain": [
       "21"
      ]
     },
     "execution_count": 353,
     "metadata": {},
     "output_type": "execute_result"
    }
   ],
   "source": [
    "x*3"
   ]
  },
  {
   "cell_type": "markdown",
   "metadata": {},
   "source": [
    "# Two types of Python arguments\n",
    "\n",
    "- Positional -- are assigned to parameters based on their positions.\n",
    "\n",
    "```python\n",
    "myfunc(10, 20, 30)  \n",
    "```\n",
    "\n",
    "In our call to `myfunc`, we're passing 10, 20, and 30 as positional arguments.\n",
    "\n",
    "\n",
    "- Keyword -- always come after positional arguments, and have the style of `name=value`.  No `=`?  Not a keyword argument.\n",
    "\n",
    "\n",
    "```python\n",
    "myfunc(a=10, b=20, c=30)  \n",
    "```\n",
    "\n",
    "In this call to `myfunc`, we're passing three keyword arguments.\n",
    "\n",
    "\n",
    "```python\n",
    "myfunc(10, 20, c=30)  \n",
    "```\n",
    "In the above call to `myfunc`, the first two arguments are positional, and the third is keyword."
   ]
  },
  {
   "cell_type": "code",
   "execution_count": 354,
   "metadata": {},
   "outputs": [
    {
     "data": {
      "text/plain": [
       "'Hello, world!'"
      ]
     },
     "execution_count": 354,
     "metadata": {},
     "output_type": "execute_result"
    }
   ],
   "source": [
    "hello('world')  # passing 'world' as a positional argument"
   ]
  },
  {
   "cell_type": "code",
   "execution_count": 355,
   "metadata": {},
   "outputs": [
    {
     "data": {
      "text/plain": [
       "'Hello, world!'"
      ]
     },
     "execution_count": 355,
     "metadata": {},
     "output_type": "execute_result"
    }
   ],
   "source": [
    "hello(name='world')  # passing 'world' as a keyword argument"
   ]
  },
  {
   "cell_type": "code",
   "execution_count": 356,
   "metadata": {},
   "outputs": [
    {
     "data": {
      "text/plain": [
       "<code object hello at 0x104ef7190, file \"<ipython-input-348-5a23b52c8aa5>\", line 1>"
      ]
     },
     "execution_count": 356,
     "metadata": {},
     "output_type": "execute_result"
    }
   ],
   "source": [
    "hello.__code__  # this is the actual brains of the function"
   ]
  },
  {
   "cell_type": "code",
   "execution_count": 357,
   "metadata": {},
   "outputs": [
    {
     "data": {
      "text/plain": [
       "1"
      ]
     },
     "execution_count": 357,
     "metadata": {},
     "output_type": "execute_result"
    }
   ],
   "source": [
    "hello.__code__.co_argcount"
   ]
  },
  {
   "cell_type": "code",
   "execution_count": 358,
   "metadata": {},
   "outputs": [
    {
     "ename": "TypeError",
     "evalue": "hello() missing 1 required positional argument: 'name'",
     "output_type": "error",
     "traceback": [
      "\u001b[0;31m---------------------------------------------------------------------------\u001b[0m",
      "\u001b[0;31mTypeError\u001b[0m                                 Traceback (most recent call last)",
      "\u001b[0;32m<ipython-input-358-a75d7781aaeb>\u001b[0m in \u001b[0;36m<module>\u001b[0;34m\u001b[0m\n\u001b[0;32m----> 1\u001b[0;31m \u001b[0mhello\u001b[0m\u001b[0;34m(\u001b[0m\u001b[0;34m)\u001b[0m\u001b[0;34m\u001b[0m\u001b[0;34m\u001b[0m\u001b[0m\n\u001b[0m",
      "\u001b[0;31mTypeError\u001b[0m: hello() missing 1 required positional argument: 'name'"
     ]
    }
   ],
   "source": [
    "hello()"
   ]
  },
  {
   "cell_type": "code",
   "execution_count": 359,
   "metadata": {},
   "outputs": [
    {
     "data": {
      "text/plain": [
       "('name',)"
      ]
     },
     "execution_count": 359,
     "metadata": {},
     "output_type": "execute_result"
    }
   ],
   "source": [
    "hello.__code__.co_varnames"
   ]
  },
  {
   "cell_type": "code",
   "execution_count": 360,
   "metadata": {},
   "outputs": [],
   "source": [
    "def hello(name):\n",
    "    output = f'Hello, {name}!'\n",
    "    return output"
   ]
  },
  {
   "cell_type": "code",
   "execution_count": 361,
   "metadata": {},
   "outputs": [
    {
     "data": {
      "text/plain": [
       "1"
      ]
     },
     "execution_count": 361,
     "metadata": {},
     "output_type": "execute_result"
    }
   ],
   "source": [
    "hello.__code__.co_argcount"
   ]
  },
  {
   "cell_type": "code",
   "execution_count": 362,
   "metadata": {},
   "outputs": [
    {
     "data": {
      "text/plain": [
       "('name', 'output')"
      ]
     },
     "execution_count": 362,
     "metadata": {},
     "output_type": "execute_result"
    }
   ],
   "source": [
    "hello.__code__.co_varnames"
   ]
  },
  {
   "cell_type": "code",
   "execution_count": 363,
   "metadata": {},
   "outputs": [],
   "source": [
    "def add(a, b):\n",
    "    return a + b"
   ]
  },
  {
   "cell_type": "code",
   "execution_count": 364,
   "metadata": {},
   "outputs": [
    {
     "data": {
      "text/plain": [
       "30"
      ]
     },
     "execution_count": 364,
     "metadata": {},
     "output_type": "execute_result"
    }
   ],
   "source": [
    "add(10, 20)"
   ]
  },
  {
   "cell_type": "code",
   "execution_count": 365,
   "metadata": {},
   "outputs": [
    {
     "data": {
      "text/plain": [
       "300"
      ]
     },
     "execution_count": 365,
     "metadata": {},
     "output_type": "execute_result"
    }
   ],
   "source": [
    "add(100, 200)"
   ]
  },
  {
   "cell_type": "code",
   "execution_count": 366,
   "metadata": {},
   "outputs": [
    {
     "ename": "TypeError",
     "evalue": "add() missing 1 required positional argument: 'b'",
     "output_type": "error",
     "traceback": [
      "\u001b[0;31m---------------------------------------------------------------------------\u001b[0m",
      "\u001b[0;31mTypeError\u001b[0m                                 Traceback (most recent call last)",
      "\u001b[0;32m<ipython-input-366-e1d21b2822df>\u001b[0m in \u001b[0;36m<module>\u001b[0;34m\u001b[0m\n\u001b[0;32m----> 1\u001b[0;31m \u001b[0madd\u001b[0m\u001b[0;34m(\u001b[0m\u001b[0;36m5\u001b[0m\u001b[0;34m)\u001b[0m\u001b[0;34m\u001b[0m\u001b[0;34m\u001b[0m\u001b[0m\n\u001b[0m",
      "\u001b[0;31mTypeError\u001b[0m: add() missing 1 required positional argument: 'b'"
     ]
    }
   ],
   "source": [
    "add(5)"
   ]
  },
  {
   "cell_type": "code",
   "execution_count": 367,
   "metadata": {},
   "outputs": [
    {
     "data": {
      "text/plain": [
       "11"
      ]
     },
     "execution_count": 367,
     "metadata": {},
     "output_type": "execute_result"
    }
   ],
   "source": [
    "add(a=5, b=6)"
   ]
  },
  {
   "cell_type": "code",
   "execution_count": 368,
   "metadata": {},
   "outputs": [
    {
     "data": {
      "text/plain": [
       "11"
      ]
     },
     "execution_count": 368,
     "metadata": {},
     "output_type": "execute_result"
    }
   ],
   "source": [
    "add(5, b=6)"
   ]
  },
  {
   "cell_type": "code",
   "execution_count": 369,
   "metadata": {},
   "outputs": [
    {
     "ename": "SyntaxError",
     "evalue": "positional argument follows keyword argument (<ipython-input-369-2a37cfeee834>, line 2)",
     "output_type": "error",
     "traceback": [
      "\u001b[0;36m  File \u001b[0;32m\"<ipython-input-369-2a37cfeee834>\"\u001b[0;36m, line \u001b[0;32m2\u001b[0m\n\u001b[0;31m    add(a=5, 6)\u001b[0m\n\u001b[0m              ^\u001b[0m\n\u001b[0;31mSyntaxError\u001b[0m\u001b[0;31m:\u001b[0m positional argument follows keyword argument\n"
     ]
    }
   ],
   "source": [
    "# try to pass keyword before positional?  BAD NEWS\n",
    "add(a=5, 6)"
   ]
  },
  {
   "cell_type": "code",
   "execution_count": 370,
   "metadata": {},
   "outputs": [],
   "source": [
    "def add(a, b=1):   # b has a default value!\n",
    "    return a + b"
   ]
  },
  {
   "cell_type": "code",
   "execution_count": 371,
   "metadata": {},
   "outputs": [
    {
     "data": {
      "text/plain": [
       "15"
      ]
     },
     "execution_count": 371,
     "metadata": {},
     "output_type": "execute_result"
    }
   ],
   "source": [
    "add(10, 5)"
   ]
  },
  {
   "cell_type": "code",
   "execution_count": 372,
   "metadata": {},
   "outputs": [
    {
     "data": {
      "text/plain": [
       "11"
      ]
     },
     "execution_count": 372,
     "metadata": {},
     "output_type": "execute_result"
    }
   ],
   "source": [
    "add(10)"
   ]
  },
  {
   "cell_type": "code",
   "execution_count": 373,
   "metadata": {},
   "outputs": [
    {
     "data": {
      "text/plain": [
       "2"
      ]
     },
     "execution_count": 373,
     "metadata": {},
     "output_type": "execute_result"
    }
   ],
   "source": [
    "add.__code__.co_argcount"
   ]
  },
  {
   "cell_type": "code",
   "execution_count": 374,
   "metadata": {},
   "outputs": [
    {
     "data": {
      "text/plain": [
       "(1,)"
      ]
     },
     "execution_count": 374,
     "metadata": {},
     "output_type": "execute_result"
    }
   ],
   "source": [
    "add.__defaults__"
   ]
  },
  {
   "cell_type": "code",
   "execution_count": 375,
   "metadata": {},
   "outputs": [],
   "source": [
    "def add(a, b, c, d=3, e=4, f=5):\n",
    "    return a + b + c + d + e + f"
   ]
  },
  {
   "cell_type": "code",
   "execution_count": 376,
   "metadata": {},
   "outputs": [
    {
     "data": {
      "text/plain": [
       "72"
      ]
     },
     "execution_count": 376,
     "metadata": {},
     "output_type": "execute_result"
    }
   ],
   "source": [
    "add(10, 20, 30)"
   ]
  },
  {
   "cell_type": "code",
   "execution_count": 377,
   "metadata": {},
   "outputs": [
    {
     "data": {
      "text/plain": [
       "6"
      ]
     },
     "execution_count": 377,
     "metadata": {},
     "output_type": "execute_result"
    }
   ],
   "source": [
    "add.__code__.co_argcount"
   ]
  },
  {
   "cell_type": "code",
   "execution_count": 378,
   "metadata": {},
   "outputs": [
    {
     "data": {
      "text/plain": [
       "(3, 4, 5)"
      ]
     },
     "execution_count": 378,
     "metadata": {},
     "output_type": "execute_result"
    }
   ],
   "source": [
    "add.__defaults__"
   ]
  },
  {
   "cell_type": "code",
   "execution_count": 379,
   "metadata": {},
   "outputs": [
    {
     "data": {
      "text/plain": [
       "155"
      ]
     },
     "execution_count": 379,
     "metadata": {},
     "output_type": "execute_result"
    }
   ],
   "source": [
    "add(10, 20, 30, 40, 50)"
   ]
  },
  {
   "cell_type": "code",
   "execution_count": 380,
   "metadata": {},
   "outputs": [],
   "source": [
    "# are arguments in Python passed by value or by reference?\n",
    "# answer: yes!\n",
    "# or... no!"
   ]
  },
  {
   "cell_type": "code",
   "execution_count": 381,
   "metadata": {},
   "outputs": [
    {
     "name": "stdout",
     "output_type": "stream",
     "text": [
      "100\n"
     ]
    }
   ],
   "source": [
    "x = 100\n",
    "\n",
    "def myfunc(y):\n",
    "    y = 200\n",
    "    \n",
    "myfunc(x)    \n",
    "print(x)"
   ]
  },
  {
   "cell_type": "code",
   "execution_count": 382,
   "metadata": {},
   "outputs": [
    {
     "name": "stdout",
     "output_type": "stream",
     "text": [
      "[10, 20, 30, 1]\n"
     ]
    }
   ],
   "source": [
    "x = [10, 20, 30]\n",
    "\n",
    "def myfunc(y):\n",
    "    y.append(1)\n",
    "    \n",
    "myfunc(x)\n",
    "print(x)"
   ]
  },
  {
   "cell_type": "code",
   "execution_count": 383,
   "metadata": {},
   "outputs": [
    {
     "data": {
      "text/plain": [
       "[10, 20, 30, 1]"
      ]
     },
     "execution_count": 383,
     "metadata": {},
     "output_type": "execute_result"
    }
   ],
   "source": [
    "def add_one(x=[]):\n",
    "    x.append(1)\n",
    "    return x\n",
    "\n",
    "mylist = [10, 20, 30]\n",
    "add_one(mylist)"
   ]
  },
  {
   "cell_type": "code",
   "execution_count": 384,
   "metadata": {},
   "outputs": [
    {
     "data": {
      "text/plain": [
       "[10, 20, 30, 1]"
      ]
     },
     "execution_count": 384,
     "metadata": {},
     "output_type": "execute_result"
    }
   ],
   "source": [
    "mylist"
   ]
  },
  {
   "cell_type": "code",
   "execution_count": 385,
   "metadata": {},
   "outputs": [
    {
     "data": {
      "text/plain": [
       "[10, 20, 30, 1, 1]"
      ]
     },
     "execution_count": 385,
     "metadata": {},
     "output_type": "execute_result"
    }
   ],
   "source": [
    "add_one(mylist)\n",
    "mylist"
   ]
  },
  {
   "cell_type": "code",
   "execution_count": 386,
   "metadata": {},
   "outputs": [
    {
     "data": {
      "text/plain": [
       "[1]"
      ]
     },
     "execution_count": 386,
     "metadata": {},
     "output_type": "execute_result"
    }
   ],
   "source": [
    "add_one()"
   ]
  },
  {
   "cell_type": "code",
   "execution_count": 387,
   "metadata": {},
   "outputs": [
    {
     "data": {
      "text/plain": [
       "[1, 1]"
      ]
     },
     "execution_count": 387,
     "metadata": {},
     "output_type": "execute_result"
    }
   ],
   "source": [
    "add_one()"
   ]
  },
  {
   "cell_type": "code",
   "execution_count": 388,
   "metadata": {},
   "outputs": [
    {
     "data": {
      "text/plain": [
       "[1, 1, 1]"
      ]
     },
     "execution_count": 388,
     "metadata": {},
     "output_type": "execute_result"
    }
   ],
   "source": [
    "add_one()"
   ]
  },
  {
   "cell_type": "code",
   "execution_count": 389,
   "metadata": {},
   "outputs": [],
   "source": [
    "def add_one(x=[]):   # MUTABLE DEFAULTS ARE BAD!!!\n",
    "    x.append(1)\n",
    "    return x\n"
   ]
  },
  {
   "cell_type": "code",
   "execution_count": 390,
   "metadata": {},
   "outputs": [
    {
     "data": {
      "text/plain": [
       "([],)"
      ]
     },
     "execution_count": 390,
     "metadata": {},
     "output_type": "execute_result"
    }
   ],
   "source": [
    "add_one.__defaults__"
   ]
  },
  {
   "cell_type": "code",
   "execution_count": 391,
   "metadata": {},
   "outputs": [
    {
     "data": {
      "text/plain": [
       "[1]"
      ]
     },
     "execution_count": 391,
     "metadata": {},
     "output_type": "execute_result"
    }
   ],
   "source": [
    "add_one() "
   ]
  },
  {
   "cell_type": "code",
   "execution_count": 392,
   "metadata": {},
   "outputs": [
    {
     "data": {
      "text/plain": [
       "([1],)"
      ]
     },
     "execution_count": 392,
     "metadata": {},
     "output_type": "execute_result"
    }
   ],
   "source": [
    "add_one.__defaults__"
   ]
  },
  {
   "cell_type": "code",
   "execution_count": 393,
   "metadata": {},
   "outputs": [],
   "source": [
    "def add_one(x=None):\n",
    "    if x is None:\n",
    "        x = []    \n",
    "    \n",
    "    x.append(1)\n",
    "    return x"
   ]
  },
  {
   "cell_type": "code",
   "execution_count": 394,
   "metadata": {},
   "outputs": [
    {
     "data": {
      "text/plain": [
       "[1]"
      ]
     },
     "execution_count": 394,
     "metadata": {},
     "output_type": "execute_result"
    }
   ],
   "source": [
    "add_one()"
   ]
  },
  {
   "cell_type": "code",
   "execution_count": 395,
   "metadata": {},
   "outputs": [
    {
     "data": {
      "text/plain": [
       "[1]"
      ]
     },
     "execution_count": 395,
     "metadata": {},
     "output_type": "execute_result"
    }
   ],
   "source": [
    "add_one()"
   ]
  },
  {
   "cell_type": "code",
   "execution_count": 396,
   "metadata": {},
   "outputs": [],
   "source": [
    "def hello(name):\n",
    "    return f'Hello, {name}!'"
   ]
  },
  {
   "cell_type": "code",
   "execution_count": 397,
   "metadata": {},
   "outputs": [
    {
     "data": {
      "text/plain": [
       "'Hello, world!'"
      ]
     },
     "execution_count": 397,
     "metadata": {},
     "output_type": "execute_result"
    }
   ],
   "source": [
    "hello('world')"
   ]
  },
  {
   "cell_type": "code",
   "execution_count": 398,
   "metadata": {},
   "outputs": [
    {
     "data": {
      "text/plain": [
       "'Hello, 5!'"
      ]
     },
     "execution_count": 398,
     "metadata": {},
     "output_type": "execute_result"
    }
   ],
   "source": [
    "hello(5)"
   ]
  },
  {
   "cell_type": "code",
   "execution_count": 399,
   "metadata": {},
   "outputs": [
    {
     "data": {
      "text/plain": [
       "'Hello, [10, 20, 30]!'"
      ]
     },
     "execution_count": 399,
     "metadata": {},
     "output_type": "execute_result"
    }
   ],
   "source": [
    "hello([10, 20, 30])"
   ]
  },
  {
   "cell_type": "code",
   "execution_count": 400,
   "metadata": {},
   "outputs": [
    {
     "data": {
      "text/plain": [
       "'Hello, <function hello at 0x104ef60d0>!'"
      ]
     },
     "execution_count": 400,
     "metadata": {},
     "output_type": "execute_result"
    }
   ],
   "source": [
    "hello(hello)"
   ]
  },
  {
   "cell_type": "code",
   "execution_count": 405,
   "metadata": {},
   "outputs": [],
   "source": [
    "def hello(name):\n",
    "    if type(name) == str:\n",
    "        return f'Hello, {name}!'\n",
    "    else:\n",
    "        raise ValueError('I wanted a string!')"
   ]
  },
  {
   "cell_type": "code",
   "execution_count": 404,
   "metadata": {},
   "outputs": [
    {
     "data": {
      "text/plain": [
       "'Hello, world!'"
      ]
     },
     "execution_count": 404,
     "metadata": {},
     "output_type": "execute_result"
    }
   ],
   "source": [
    "hello('world')"
   ]
  },
  {
   "cell_type": "code",
   "execution_count": 406,
   "metadata": {},
   "outputs": [
    {
     "ename": "ValueError",
     "evalue": "I wanted a string!",
     "output_type": "error",
     "traceback": [
      "\u001b[0;31m---------------------------------------------------------------------------\u001b[0m",
      "\u001b[0;31mValueError\u001b[0m                                Traceback (most recent call last)",
      "\u001b[0;32m<ipython-input-406-c8bbaafb0f2b>\u001b[0m in \u001b[0;36m<module>\u001b[0;34m\u001b[0m\n\u001b[0;32m----> 1\u001b[0;31m \u001b[0mhello\u001b[0m\u001b[0;34m(\u001b[0m\u001b[0;36m5\u001b[0m\u001b[0;34m)\u001b[0m\u001b[0;34m\u001b[0m\u001b[0;34m\u001b[0m\u001b[0m\n\u001b[0m",
      "\u001b[0;32m<ipython-input-405-fa253eb3f060>\u001b[0m in \u001b[0;36mhello\u001b[0;34m(name)\u001b[0m\n\u001b[1;32m      3\u001b[0m         \u001b[0;32mreturn\u001b[0m \u001b[0;34mf'Hello, {name}!'\u001b[0m\u001b[0;34m\u001b[0m\u001b[0;34m\u001b[0m\u001b[0m\n\u001b[1;32m      4\u001b[0m     \u001b[0;32melse\u001b[0m\u001b[0;34m:\u001b[0m\u001b[0;34m\u001b[0m\u001b[0;34m\u001b[0m\u001b[0m\n\u001b[0;32m----> 5\u001b[0;31m         \u001b[0;32mraise\u001b[0m \u001b[0mValueError\u001b[0m\u001b[0;34m(\u001b[0m\u001b[0;34m'I wanted a string!'\u001b[0m\u001b[0;34m)\u001b[0m\u001b[0;34m\u001b[0m\u001b[0;34m\u001b[0m\u001b[0m\n\u001b[0m",
      "\u001b[0;31mValueError\u001b[0m: I wanted a string!"
     ]
    }
   ],
   "source": [
    "hello(5)"
   ]
  },
  {
   "cell_type": "code",
   "execution_count": 407,
   "metadata": {},
   "outputs": [],
   "source": [
    "def hello(name):\n",
    "    if isinstance(name, str):\n",
    "        return f'Hello, {name}!'\n",
    "    else:\n",
    "        raise ValueError('I wanted a string!')"
   ]
  },
  {
   "cell_type": "code",
   "execution_count": 408,
   "metadata": {},
   "outputs": [
    {
     "data": {
      "text/plain": [
       "(object,)"
      ]
     },
     "execution_count": 408,
     "metadata": {},
     "output_type": "execute_result"
    }
   ],
   "source": [
    "bytes.__bases__"
   ]
  },
  {
   "cell_type": "code",
   "execution_count": 409,
   "metadata": {},
   "outputs": [],
   "source": [
    "def hello(name):\n",
    "    \"\"\"This is a very friendly function.\n",
    "    \n",
    "    Expects: A value, preferably a string\n",
    "    Modifies: Nothing\n",
    "    Returns: A new string, with a friendly greeting\n",
    "    \"\"\"\n",
    "    return f'Hello, {name}!'"
   ]
  },
  {
   "cell_type": "code",
   "execution_count": 410,
   "metadata": {},
   "outputs": [
    {
     "data": {
      "text/plain": [
       "'Hello, world!'"
      ]
     },
     "execution_count": 410,
     "metadata": {},
     "output_type": "execute_result"
    }
   ],
   "source": [
    "hello('world')"
   ]
  },
  {
   "cell_type": "code",
   "execution_count": 411,
   "metadata": {},
   "outputs": [
    {
     "name": "stdout",
     "output_type": "stream",
     "text": [
      "Help on function hello in module __main__:\n",
      "\n",
      "hello(name)\n",
      "    This is a very friendly function.\n",
      "    \n",
      "    Expects: A value, preferably a string\n",
      "    Modifies: Nothing\n",
      "    Returns: A new string, with a friendly greeting\n",
      "\n"
     ]
    }
   ],
   "source": [
    "help(hello)"
   ]
  },
  {
   "cell_type": "code",
   "execution_count": 412,
   "metadata": {},
   "outputs": [
    {
     "data": {
      "text/plain": [
       "'This is a very friendly function.\\n    \\n    Expects: A value, preferably a string\\n    Modifies: Nothing\\n    Returns: A new string, with a friendly greeting\\n    '"
      ]
     },
     "execution_count": 412,
     "metadata": {},
     "output_type": "execute_result"
    }
   ],
   "source": [
    "hello.__doc__"
   ]
  },
  {
   "cell_type": "code",
   "execution_count": 413,
   "metadata": {},
   "outputs": [],
   "source": [
    "def hello(name:str):   # type hint or type annotation\n",
    "    return f'Hello, {name}!'"
   ]
  },
  {
   "cell_type": "code",
   "execution_count": 414,
   "metadata": {},
   "outputs": [
    {
     "data": {
      "text/plain": [
       "'Hello, world!'"
      ]
     },
     "execution_count": 414,
     "metadata": {},
     "output_type": "execute_result"
    }
   ],
   "source": [
    "hello('world')"
   ]
  },
  {
   "cell_type": "code",
   "execution_count": 415,
   "metadata": {},
   "outputs": [
    {
     "data": {
      "text/plain": [
       "'Hello, 5!'"
      ]
     },
     "execution_count": 415,
     "metadata": {},
     "output_type": "execute_result"
    }
   ],
   "source": [
    "hello(5)"
   ]
  },
  {
   "cell_type": "code",
   "execution_count": 416,
   "metadata": {},
   "outputs": [
    {
     "data": {
      "text/plain": [
       "'Hello, [10, 20, 30]!'"
      ]
     },
     "execution_count": 416,
     "metadata": {},
     "output_type": "execute_result"
    }
   ],
   "source": [
    "hello([10, 20, 30])"
   ]
  },
  {
   "cell_type": "code",
   "execution_count": 417,
   "metadata": {},
   "outputs": [
    {
     "data": {
      "text/plain": [
       "'Hello, <function hello at 0x104ef60d0>!'"
      ]
     },
     "execution_count": 417,
     "metadata": {},
     "output_type": "execute_result"
    }
   ],
   "source": [
    "hello(hello)"
   ]
  },
  {
   "cell_type": "code",
   "execution_count": null,
   "metadata": {},
   "outputs": [],
   "source": []
  }
 ],
 "metadata": {
  "kernelspec": {
   "display_name": "Python 3",
   "language": "python",
   "name": "python3"
  },
  "language_info": {
   "codemirror_mode": {
    "name": "ipython",
    "version": 3
   },
   "file_extension": ".py",
   "mimetype": "text/x-python",
   "name": "python",
   "nbconvert_exporter": "python",
   "pygments_lexer": "ipython3",
   "version": "3.9.2"
  }
 },
 "nbformat": 4,
 "nbformat_minor": 4
}
